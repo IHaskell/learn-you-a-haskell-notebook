{
 "cells": [
  {
   "cell_type": "markdown",
   "metadata": {},
   "source": [
    "# 💙 <span style=\"color:navy;text-shadow: 0px 2px 3px gray;\">ihaskell-widgets</span> Revival Celebration Notebook 💙\n",
    "\n",
    "This demonstration notebook is to celebrate the successful completion of [David Davó Laviña’s Google Summer of Code 2021 project](https://summerofcode.withgoogle.com/projects/#5497023849037824) to revive [*ihaskell-widgets*](https://github.com/gibiansky/IHaskell/tree/master/ihaskell-display/ihaskell-widgets). 🎉\n",
    "\n",
    "Here is [David Davó Laviña’s report on __Fixing IHaskell-Widgets__](https://gsoc21.ddavo.me/).\n",
    "\n",
    "For David’s *ihaskell-widgets* example notebooks and tutorials, see the `/ihaskell_examples/ihaskell-widgets` directory.\n",
    "\n",
    "For David’s other work, see [ddavo.me English](https://ddavo.me/en), [ddavo.me Español](https://ddavo.me/es), [ddavo.me 日本語](https://ddavo.me/jp).\n",
    "\n",
    "Many experienced Haskell programmers tried and failed to revive the *ihaskell-widgets* display extension for the last three years, and we’re grateful to David for this successful project.\n",
    "\n",
    "— James Brock, Tokyo 2021\n",
    "\n",
    "<hr/>\n",
    "\n",
    "Click to launch this notebook on Binder cloud service (takes a minute to launch): <a href=\"https://mybinder.org/v2/gh/jamesdbrock/learn-you-a-haskell-notebook/master?urlpath=lab/tree/ihaskell_examples/WidgetRevival.ipynb\" target=\"_top\"><!-- need _top target for Github nbviewer iframe --><img src=\"https://mybinder.org/badge_logo.svg\" /></a>\n",
    "\n",
    "[IHaskell on Github](https://github.com/gibiansky/IHaskell) | [This notebook on Github](https://github.com/jamesdbrock/learn-you-a-haskell-notebook/blob/master/notebook_extra/WidgetRevival.ipynb) | [*Learn You a Haskell for Great Good!* Jupyter adaptation](https://github.com/jamesdbrock/learn-you-a-haskell-notebook) \n",
    "\n",
    "<hr/>"
   ]
  },
  {
   "cell_type": "markdown",
   "metadata": {},
   "source": [
    "## Demonstration combining Widgets with Charts\n",
    "\n",
    "This is a demonstration of how to combine [*ihaskell-widgets*](https://github.com/gibiansky/IHaskell/tree/master/ihaskell-display/ihaskell-widgets) with [*ihaskell-charts*](https://github.com/gibiansky/IHaskell/tree/master/ihaskell-display/ihaskell-charts) for [*Chart*](https://hackage.haskell.org/package/Chart).\n",
    "\n",
    "It renders an *ihaskell-widgets* `FloatRangeSlider` which allows you to select the beginning and end points of a numeric integral area under a function. The *ihaskell-charts* output renders the area under the function as a *Chart*.\n",
    "\n",
    "See the [*Chart* wiki](https://github.com/timbod7/haskell-chart/wiki) for other possibilities."
   ]
  },
  {
   "cell_type": "code",
   "execution_count": null,
   "metadata": {},
   "outputs": [],
   "source": [
    "import Graphics.Rendering.Chart\n",
    "import IHaskell.Display.Widgets\n",
    "import IHaskell.Display\n",
    "import Data.Default.Class\n",
    "import Control.Lens\n",
    "\n",
    "f x = sin x * (x + 5.0)  -- The function which we will plot\n",
    "domain = (0.0, 10.0)     -- The domain of the function which we will plot\n",
    "\n",
    "grain = (snd domain - fst domain) / 100.0\n",
    "\n",
    "integralTrapezoid ((x1,y1):(x2,y2):ps) = \n",
    "    ((x2 - x1) * ((y1 + y2) / 2.0)) + integralTrapezoid ((x2,y2):ps)\n",
    "integralTrapezoid _ = 0\n",
    "\n",
    "sliderRange <- mkFloatRangeSlider\n",
    "setField @MinFloat sliderRange (fst domain)\n",
    "setField @MaxFloat sliderRange (snd domain)\n",
    "setField @StepFloat sliderRange (Just grain)\n",
    "setField @FloatPairValue sliderRange (fst domain, snd domain)\n",
    "\n",
    "outChart <- mkOutput\n",
    "\n",
    "drawChart = do \n",
    "  (rangeMin, rangeMax) <- getField @FloatPairValue sliderRange\n",
    "  let \n",
    "      pts = [(x, f x) | x <- [fst domain, fst domain + grain .. snd domain]]    \n",
    "      ptsRange = [(x,y) | (x,y) <- pts, x >= rangeMin, x <= rangeMax]\n",
    "  displayCaption <- display $ plain \n",
    "      $ \"Area under the curve = \" <> show (integralTrapezoid ptsRange)\n",
    "  displayChart <- display $ toRenderable $ def & layout_plots .~\n",
    "      [ toPlot $ def & plot_lines_values .~ [pts]\n",
    "      , toPlot $ def & plot_fillbetween_values .~ [(x,(0.0,y)) | (x,y) <- ptsRange]\n",
    "      ]\n",
    "  setField @Outputs outChart [OutputData displayCaption, OutputData displayChart]\n",
    "      \n",
    "setField @ChangeHandler sliderRange drawChart\n",
    "\n",
    "sliderRange\n",
    "outChart\n",
    "drawChart"
   ]
  },
  {
   "cell_type": "markdown",
   "metadata": {},
   "source": [
    "## Demonstration combining Widgets with Diagrams\n",
    "\n",
    "This is a demonstration of how to combine [*ihaskell-widgets*](https://github.com/gibiansky/IHaskell/tree/master/ihaskell-display/ihaskell-widgets) with [*ihaskell-diagrams*](https://github.com/gibiansky/IHaskell/tree/master/ihaskell-display/ihaskell-diagrams) for [*diagrams*](https://hackage.haskell.org/package/diagrams).\n",
    "\n",
    "It renders a `FloatSlider` widget and uses the widget value as one parameter of a rendering of the [__Apollonian gasket__](https://hackage.haskell.org/package/diagrams-contrib/docs/Diagrams-TwoD-Apollonian.html) from the [*diagrams-contrib*](https://hackage.haskell.org/package/diagrams-contrib) package.\n",
    "\n",
    "See the [*Diagrams* project website](https://archives.haskell.org/projects.haskell.org/diagrams/) for other possibilities."
   ]
  },
  {
   "cell_type": "code",
   "execution_count": null,
   "metadata": {},
   "outputs": [],
   "source": [
    "import Diagrams.Prelude\n",
    "import Diagrams.TwoD.Apollonian\n",
    "import IHaskell.Display.Widgets\n",
    "\n",
    "sliderApollo <- mkFloatSlider\n",
    "setField @MinFloat sliderApollo 3.0\n",
    "setField @MaxFloat sliderApollo 9.0\n",
    "setField @StepFloat sliderApollo (Just 0.1)\n",
    "setField @FloatValue sliderApollo 6.0\n",
    "\n",
    "outApollo <- mkOutput\n",
    "\n",
    "drawApollo = do\n",
    "  val <- getField @FloatValue sliderApollo\n",
    "  replaceOutput outApollo $ diagram $ apollonianGasket 0.01 2 4 val\n",
    "\n",
    "setField @ChangeHandler sliderApollo drawApollo\n",
    "\n",
    "sliderApollo\n",
    "outApollo\n",
    "drawApollo"
   ]
  },
  {
   "cell_type": "code",
   "execution_count": null,
   "metadata": {},
   "outputs": [],
   "source": []
  }
 ],
 "metadata": {
  "kernelspec": {
   "display_name": "Haskell",
   "language": "haskell",
   "name": "haskell"
  },
  "language_info": {
   "codemirror_mode": "ihaskell",
   "file_extension": ".hs",
   "mimetype": "text/x-haskell",
   "name": "haskell",
   "pygments_lexer": "Haskell",
   "version": "9.8.4"
  }
 },
 "nbformat": 4,
 "nbformat_minor": 4
}
