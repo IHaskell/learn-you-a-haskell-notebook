{
 "cells": [
  {
   "cell_type": "markdown",
   "metadata": {},
   "source": [
    "# 번역 용례집 "
   ]
  },
  {
   "cell_type": "markdown",
   "metadata": {},
   "source": [
    "* boolean: 부울\n",
    "* call: 호출\n",
    "    * function call: 함수 호출\n",
    "* list comprehension: 리스트 조건제시법\n",
    "* statement: 표현식\n",
    "* type: 유형"
   ]
  },
  {
   "cell_type": "markdown",
   "metadata": {},
   "source": [
    "# 주의사항"
   ]
  },
  {
   "cell_type": "markdown",
   "metadata": {},
   "source": [
    "## 2장 "
   ]
  },
  {
   "cell_type": "markdown",
   "metadata": {},
   "source": [
    "* 하스켈에서 if는 명령문에 사용되는 것이 아니라 표현식(expression)을 생성할 때 사용함.\n",
    "* 표현식은 값(value)를 표현함.\n",
    "    * 파이썬 등 명령형 프로그래밍 언어에서 변수에 저장될 수 있는 값을 표현하는 기호들의 나열이라 생각하면 됨."
   ]
  }
 ],
 "metadata": {
  "kernelspec": {
   "display_name": "Haskell",
   "language": "haskell",
   "name": "haskell"
  },
  "language_info": {
   "codemirror_mode": "Haskell",
   "file_extension": ".hs",
   "mimetype": "text/x-haskell",
   "name": "haskell",
   "pygments_lexer": "Haskell",
   "version": "8.8.4"
  }
 },
 "nbformat": 4,
 "nbformat_minor": 4
}
