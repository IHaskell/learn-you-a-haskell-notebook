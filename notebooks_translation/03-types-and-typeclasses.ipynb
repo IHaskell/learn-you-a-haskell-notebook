{
 "cells": [
  {
   "cell_type": "markdown",
   "metadata": {},
   "source": [
    "# 3장. 유형(Types)와 유형 클래스(Typeclasses)\n",
    "\n",
    "## 1.1 유형(Types)\n",
    "----------------\n",
    "이전에 하스칼은 견고한 유형 시스템을 가진다고 언급한 적 있음\n",
    "* 모든 식의 유형은 컴파일시 알려지며, 이로 인해 코드가 더 안전해짐. \n",
    "* 부울 유형을 어떤 숫자로 나누려하는 프로그램을 작성한다면, 이 프로그램은 컴파일조차 되지 않지 않기 때문에, 프로그램이 중단되는 대신 컴파일 시간에 오류를 발견할 수 있음.\n",
    "\n",
    "하스칼의 모든 표현식은 유형을 가지고 있기 때문에, 컴파일러는 프로그램을 컴파일하기 전에 프로그램에 대한 많은 것을 추론할 수 있음.\n",
    "\n",
    "하스칼의 유형 추론(type inference):\n",
    "* 자바(Java), 파스칼(Pascal)과는 다르게 하스칼은 유형 추론을 할 수 있음.\n",
    "* 만약 숫자를 작성한다면 우리는 하스칼에게 이것이 숫자라는 것을 알려줄 필요가 없음.\n",
    "* 하스칼은 스스로 *추론(infer)* 할 수 있기 때문에, 우리는 함수와 식의 유형을 명시적으로 표현하지 않아도 됨.\n",
    "\n",
    "하스칼에서의 유형에 대한 기본적인 내용을 간단하게 살펴보았음. 유형 시스템은 하스칼에서 가장 중요한 부분 중 하나이기 때문에 유형 시스템을 이해하는 것은 매우 중요함.\n",
    "\n",
    "유형은 모든 식이 가지고 있는 일종의 레이블(label).\n",
    "* 유형은 식이 어떤 범주에 들어가는지 우리에게 알려줌. \n",
    "    * 예: [`True`](https://hackage.haskell.org/package/base/docs/Prelude.html#v:True)는 부울 타입, `\"hello\"`는 문자열 타입."
   ]
  },
  {
   "cell_type": "markdown",
   "metadata": {},
   "source": [
    "> __Note:__ 먼저 GHCI의 `linting` 기능을 끔\n",
    "> * 참고: [automatic linting for IHaskell](https://github.com/gibiansky/IHaskell/wiki#opt-no-lint)를 끔"
   ]
  },
  {
   "cell_type": "code",
   "execution_count": 1,
   "metadata": {},
   "outputs": [],
   "source": [
    ":opt no-lint"
   ]
  },
  {
   "cell_type": "markdown",
   "metadata": {},
   "source": [
    "이제 GHCI를 사용해 일부 식의 유형을 살펴볼 것. \n",
    "* `:t`: 해당 식의 유형을 알려줌"
   ]
  },
  {
   "cell_type": "code",
   "execution_count": 2,
   "metadata": {
    "attributes": {
     "classes": [
      "haskell:",
      "ghci"
     ],
     "id": "",
     "name": "\"code\""
    }
   },
   "outputs": [
    {
     "data": {
      "text/html": [
       "<style>/* Styles used for the Hoogle display in the pager */\n",
       ".hoogle-doc {\n",
       "display: block;\n",
       "padding-bottom: 1.3em;\n",
       "padding-left: 0.4em;\n",
       "}\n",
       ".hoogle-code {\n",
       "display: block;\n",
       "font-family: monospace;\n",
       "white-space: pre;\n",
       "}\n",
       ".hoogle-text {\n",
       "display: block;\n",
       "}\n",
       ".hoogle-name {\n",
       "color: green;\n",
       "font-weight: bold;\n",
       "}\n",
       ".hoogle-head {\n",
       "font-weight: bold;\n",
       "}\n",
       ".hoogle-sub {\n",
       "display: block;\n",
       "margin-left: 0.4em;\n",
       "}\n",
       ".hoogle-package {\n",
       "font-weight: bold;\n",
       "font-style: italic;\n",
       "}\n",
       ".hoogle-module {\n",
       "font-weight: bold;\n",
       "}\n",
       ".hoogle-class {\n",
       "font-weight: bold;\n",
       "}\n",
       ".get-type {\n",
       "color: green;\n",
       "font-weight: bold;\n",
       "font-family: monospace;\n",
       "display: block;\n",
       "white-space: pre-wrap;\n",
       "}\n",
       ".show-type {\n",
       "color: green;\n",
       "font-weight: bold;\n",
       "font-family: monospace;\n",
       "margin-left: 1em;\n",
       "}\n",
       ".mono {\n",
       "font-family: monospace;\n",
       "display: block;\n",
       "}\n",
       ".err-msg {\n",
       "color: red;\n",
       "font-style: italic;\n",
       "font-family: monospace;\n",
       "white-space: pre;\n",
       "display: block;\n",
       "}\n",
       "#unshowable {\n",
       "color: red;\n",
       "font-weight: bold;\n",
       "}\n",
       ".err-msg.in.collapse {\n",
       "padding-top: 0.7em;\n",
       "}\n",
       ".highlight-code {\n",
       "white-space: pre;\n",
       "font-family: monospace;\n",
       "}\n",
       ".suggestion-warning { \n",
       "font-weight: bold;\n",
       "color: rgb(200, 130, 0);\n",
       "}\n",
       ".suggestion-error { \n",
       "font-weight: bold;\n",
       "color: red;\n",
       "}\n",
       ".suggestion-name {\n",
       "font-weight: bold;\n",
       "}\n",
       "</style><span class='get-type'>'a' :: Char</span>"
      ],
      "text/plain": [
       "'a' :: Char"
      ]
     },
     "metadata": {},
     "output_type": "display_data"
    }
   ],
   "source": [
    ":t 'a'"
   ]
  },
  {
   "cell_type": "code",
   "execution_count": 3,
   "metadata": {
    "attributes": {
     "classes": [
      "haskell:",
      "ghci"
     ],
     "id": "",
     "name": "\"code\""
    }
   },
   "outputs": [
    {
     "data": {
      "text/html": [
       "<style>/* Styles used for the Hoogle display in the pager */\n",
       ".hoogle-doc {\n",
       "display: block;\n",
       "padding-bottom: 1.3em;\n",
       "padding-left: 0.4em;\n",
       "}\n",
       ".hoogle-code {\n",
       "display: block;\n",
       "font-family: monospace;\n",
       "white-space: pre;\n",
       "}\n",
       ".hoogle-text {\n",
       "display: block;\n",
       "}\n",
       ".hoogle-name {\n",
       "color: green;\n",
       "font-weight: bold;\n",
       "}\n",
       ".hoogle-head {\n",
       "font-weight: bold;\n",
       "}\n",
       ".hoogle-sub {\n",
       "display: block;\n",
       "margin-left: 0.4em;\n",
       "}\n",
       ".hoogle-package {\n",
       "font-weight: bold;\n",
       "font-style: italic;\n",
       "}\n",
       ".hoogle-module {\n",
       "font-weight: bold;\n",
       "}\n",
       ".hoogle-class {\n",
       "font-weight: bold;\n",
       "}\n",
       ".get-type {\n",
       "color: green;\n",
       "font-weight: bold;\n",
       "font-family: monospace;\n",
       "display: block;\n",
       "white-space: pre-wrap;\n",
       "}\n",
       ".show-type {\n",
       "color: green;\n",
       "font-weight: bold;\n",
       "font-family: monospace;\n",
       "margin-left: 1em;\n",
       "}\n",
       ".mono {\n",
       "font-family: monospace;\n",
       "display: block;\n",
       "}\n",
       ".err-msg {\n",
       "color: red;\n",
       "font-style: italic;\n",
       "font-family: monospace;\n",
       "white-space: pre;\n",
       "display: block;\n",
       "}\n",
       "#unshowable {\n",
       "color: red;\n",
       "font-weight: bold;\n",
       "}\n",
       ".err-msg.in.collapse {\n",
       "padding-top: 0.7em;\n",
       "}\n",
       ".highlight-code {\n",
       "white-space: pre;\n",
       "font-family: monospace;\n",
       "}\n",
       ".suggestion-warning { \n",
       "font-weight: bold;\n",
       "color: rgb(200, 130, 0);\n",
       "}\n",
       ".suggestion-error { \n",
       "font-weight: bold;\n",
       "color: red;\n",
       "}\n",
       ".suggestion-name {\n",
       "font-weight: bold;\n",
       "}\n",
       "</style><span class='get-type'>True :: Bool</span>"
      ],
      "text/plain": [
       "True :: Bool"
      ]
     },
     "metadata": {},
     "output_type": "display_data"
    }
   ],
   "source": [
    ":t True"
   ]
  },
  {
   "cell_type": "code",
   "execution_count": 4,
   "metadata": {
    "attributes": {
     "classes": [
      "haskell:",
      "ghci"
     ],
     "id": "",
     "name": "\"code\""
    }
   },
   "outputs": [
    {
     "data": {
      "text/html": [
       "<style>/* Styles used for the Hoogle display in the pager */\n",
       ".hoogle-doc {\n",
       "display: block;\n",
       "padding-bottom: 1.3em;\n",
       "padding-left: 0.4em;\n",
       "}\n",
       ".hoogle-code {\n",
       "display: block;\n",
       "font-family: monospace;\n",
       "white-space: pre;\n",
       "}\n",
       ".hoogle-text {\n",
       "display: block;\n",
       "}\n",
       ".hoogle-name {\n",
       "color: green;\n",
       "font-weight: bold;\n",
       "}\n",
       ".hoogle-head {\n",
       "font-weight: bold;\n",
       "}\n",
       ".hoogle-sub {\n",
       "display: block;\n",
       "margin-left: 0.4em;\n",
       "}\n",
       ".hoogle-package {\n",
       "font-weight: bold;\n",
       "font-style: italic;\n",
       "}\n",
       ".hoogle-module {\n",
       "font-weight: bold;\n",
       "}\n",
       ".hoogle-class {\n",
       "font-weight: bold;\n",
       "}\n",
       ".get-type {\n",
       "color: green;\n",
       "font-weight: bold;\n",
       "font-family: monospace;\n",
       "display: block;\n",
       "white-space: pre-wrap;\n",
       "}\n",
       ".show-type {\n",
       "color: green;\n",
       "font-weight: bold;\n",
       "font-family: monospace;\n",
       "margin-left: 1em;\n",
       "}\n",
       ".mono {\n",
       "font-family: monospace;\n",
       "display: block;\n",
       "}\n",
       ".err-msg {\n",
       "color: red;\n",
       "font-style: italic;\n",
       "font-family: monospace;\n",
       "white-space: pre;\n",
       "display: block;\n",
       "}\n",
       "#unshowable {\n",
       "color: red;\n",
       "font-weight: bold;\n",
       "}\n",
       ".err-msg.in.collapse {\n",
       "padding-top: 0.7em;\n",
       "}\n",
       ".highlight-code {\n",
       "white-space: pre;\n",
       "font-family: monospace;\n",
       "}\n",
       ".suggestion-warning { \n",
       "font-weight: bold;\n",
       "color: rgb(200, 130, 0);\n",
       "}\n",
       ".suggestion-error { \n",
       "font-weight: bold;\n",
       "color: red;\n",
       "}\n",
       ".suggestion-name {\n",
       "font-weight: bold;\n",
       "}\n",
       "</style><span class='get-type'>\"HELLO!\" :: [Char]</span>"
      ],
      "text/plain": [
       "\"HELLO!\" :: [Char]"
      ]
     },
     "metadata": {},
     "output_type": "display_data"
    }
   ],
   "source": [
    ":t \"HELLO!\""
   ]
  },
  {
   "cell_type": "code",
   "execution_count": 5,
   "metadata": {
    "attributes": {
     "classes": [
      "haskell:",
      "ghci"
     ],
     "id": "",
     "name": "\"code\""
    }
   },
   "outputs": [
    {
     "data": {
      "text/html": [
       "<style>/* Styles used for the Hoogle display in the pager */\n",
       ".hoogle-doc {\n",
       "display: block;\n",
       "padding-bottom: 1.3em;\n",
       "padding-left: 0.4em;\n",
       "}\n",
       ".hoogle-code {\n",
       "display: block;\n",
       "font-family: monospace;\n",
       "white-space: pre;\n",
       "}\n",
       ".hoogle-text {\n",
       "display: block;\n",
       "}\n",
       ".hoogle-name {\n",
       "color: green;\n",
       "font-weight: bold;\n",
       "}\n",
       ".hoogle-head {\n",
       "font-weight: bold;\n",
       "}\n",
       ".hoogle-sub {\n",
       "display: block;\n",
       "margin-left: 0.4em;\n",
       "}\n",
       ".hoogle-package {\n",
       "font-weight: bold;\n",
       "font-style: italic;\n",
       "}\n",
       ".hoogle-module {\n",
       "font-weight: bold;\n",
       "}\n",
       ".hoogle-class {\n",
       "font-weight: bold;\n",
       "}\n",
       ".get-type {\n",
       "color: green;\n",
       "font-weight: bold;\n",
       "font-family: monospace;\n",
       "display: block;\n",
       "white-space: pre-wrap;\n",
       "}\n",
       ".show-type {\n",
       "color: green;\n",
       "font-weight: bold;\n",
       "font-family: monospace;\n",
       "margin-left: 1em;\n",
       "}\n",
       ".mono {\n",
       "font-family: monospace;\n",
       "display: block;\n",
       "}\n",
       ".err-msg {\n",
       "color: red;\n",
       "font-style: italic;\n",
       "font-family: monospace;\n",
       "white-space: pre;\n",
       "display: block;\n",
       "}\n",
       "#unshowable {\n",
       "color: red;\n",
       "font-weight: bold;\n",
       "}\n",
       ".err-msg.in.collapse {\n",
       "padding-top: 0.7em;\n",
       "}\n",
       ".highlight-code {\n",
       "white-space: pre;\n",
       "font-family: monospace;\n",
       "}\n",
       ".suggestion-warning { \n",
       "font-weight: bold;\n",
       "color: rgb(200, 130, 0);\n",
       "}\n",
       ".suggestion-error { \n",
       "font-weight: bold;\n",
       "color: red;\n",
       "}\n",
       ".suggestion-name {\n",
       "font-weight: bold;\n",
       "}\n",
       "</style><span class='get-type'>(True, 'a') :: (Bool, Char)</span>"
      ],
      "text/plain": [
       "(True, 'a') :: (Bool, Char)"
      ]
     },
     "metadata": {},
     "output_type": "display_data"
    }
   ],
   "source": [
    ":t (True, 'a')"
   ]
  },
  {
   "cell_type": "code",
   "execution_count": 6,
   "metadata": {
    "attributes": {
     "classes": [
      "haskell:",
      "ghci"
     ],
     "id": "",
     "name": "\"code\""
    }
   },
   "outputs": [
    {
     "data": {
      "text/html": [
       "<style>/* Styles used for the Hoogle display in the pager */\n",
       ".hoogle-doc {\n",
       "display: block;\n",
       "padding-bottom: 1.3em;\n",
       "padding-left: 0.4em;\n",
       "}\n",
       ".hoogle-code {\n",
       "display: block;\n",
       "font-family: monospace;\n",
       "white-space: pre;\n",
       "}\n",
       ".hoogle-text {\n",
       "display: block;\n",
       "}\n",
       ".hoogle-name {\n",
       "color: green;\n",
       "font-weight: bold;\n",
       "}\n",
       ".hoogle-head {\n",
       "font-weight: bold;\n",
       "}\n",
       ".hoogle-sub {\n",
       "display: block;\n",
       "margin-left: 0.4em;\n",
       "}\n",
       ".hoogle-package {\n",
       "font-weight: bold;\n",
       "font-style: italic;\n",
       "}\n",
       ".hoogle-module {\n",
       "font-weight: bold;\n",
       "}\n",
       ".hoogle-class {\n",
       "font-weight: bold;\n",
       "}\n",
       ".get-type {\n",
       "color: green;\n",
       "font-weight: bold;\n",
       "font-family: monospace;\n",
       "display: block;\n",
       "white-space: pre-wrap;\n",
       "}\n",
       ".show-type {\n",
       "color: green;\n",
       "font-weight: bold;\n",
       "font-family: monospace;\n",
       "margin-left: 1em;\n",
       "}\n",
       ".mono {\n",
       "font-family: monospace;\n",
       "display: block;\n",
       "}\n",
       ".err-msg {\n",
       "color: red;\n",
       "font-style: italic;\n",
       "font-family: monospace;\n",
       "white-space: pre;\n",
       "display: block;\n",
       "}\n",
       "#unshowable {\n",
       "color: red;\n",
       "font-weight: bold;\n",
       "}\n",
       ".err-msg.in.collapse {\n",
       "padding-top: 0.7em;\n",
       "}\n",
       ".highlight-code {\n",
       "white-space: pre;\n",
       "font-family: monospace;\n",
       "}\n",
       ".suggestion-warning { \n",
       "font-weight: bold;\n",
       "color: rgb(200, 130, 0);\n",
       "}\n",
       ".suggestion-error { \n",
       "font-weight: bold;\n",
       "color: red;\n",
       "}\n",
       ".suggestion-name {\n",
       "font-weight: bold;\n",
       "}\n",
       "</style><span class='get-type'>4 == 5 :: Bool</span>"
      ],
      "text/plain": [
       "4 == 5 :: Bool"
      ]
     },
     "metadata": {},
     "output_type": "display_data"
    }
   ],
   "source": [
    ":t 4 == 5"
   ]
  },
  {
   "cell_type": "markdown",
   "metadata": {},
   "source": [
    "* 여기서 `:t`를 사용하면 '입력한 식, `::`, 식의 유형'의 순으로 출력된다는 것을 확인 가능.\n",
    "    * `::`은 \"~ 타입을 가진다\"로 해석할 수 있음.\n",
    "* 명시적 유형(Explicit types)의 첫 글자는 항상 대문자로 표시. \n",
    "\n",
    "앞에서 봤듯이, `'a'`의 타입은 [`Char`](https://hackage.haskell.org/package/base/docs/Prelude.html#t:Char). `Char`가 *character* 의 약자라는 것은 쉽게 알 수 있을 것. \n",
    "[`True`](https://hackage.haskell.org/package/base/docs/Prelude.html#v:True)의 타입은 [`Bool`](https://hackage.haskell.org/package/base/docs/Prelude.html#t:Bool). \n",
    "\n",
    "`\"HELLO!\"`의 타입을 확인해보면 `[Char]`이 나옴.\n",
    "* `[Char]`에서 대괄호는 리스트를 표현\n",
    "* 즉, `[Char]`는 *문자로 구성된 리스트*를 의미\n",
    "\n",
    "리스트와 다르게, 튜플의 길이는 그 자체로 유형이 됨.\n",
    "* `(True, 'a')`의 유형은 `(Bool, Char)`, `('a','b','c')`의 유형은 `(Char, Char, Char)`\n",
    "* `4 == 5`는 항상 [`False`](https://hackage.haskell.org/package/base/docs/Prelude.html#v:False)를 반환하므로 [`Bool`](https://hackage.haskell.org/package/base/docs/Prelude.html#t:Bool) 유형\n",
    "\n",
    "함수 또한 유형을 가지고 있음. \n",
    "* 함수를 작성할 때, 함수에게 명시적으로 유형 선언을 할지 말지 선택할 수 있음\n",
    "* 매우 짧은 함수를 작성할 때를 제외하고, 일반적으로는 유형 선언을 해주는 것이 좋음\n",
    "* 지금부터는, 우리가 만들 함수에 모두 유형 선언을 해줄 것임"
   ]
  },
  {
   "cell_type": "markdown",
   "metadata": {},
   "source": [
    "### 1.2 유형 선언\n",
    "---\n",
    "이전 챕터에서 작성했던, 대문자만 남기고 소문자를 필터링해주는 리스트 조건 제시법에 유형 선언을 하면 아래 셀처럼 표현 가능"
   ]
  },
  {
   "cell_type": "code",
   "execution_count": 7,
   "metadata": {
    "attributes": {
     "classes": [
      "haskell:",
      "hs"
     ],
     "id": "",
     "name": "\"code\""
    }
   },
   "outputs": [],
   "source": [
    "removeNonUppercase :: [Char] -> [Char]\n",
    "removeNonUppercase st = [ c | c <- st, c `elem` ['A'..'Z']]"
   ]
  },
  {
   "cell_type": "markdown",
   "metadata": {},
   "source": [
    "* `removeNonUppercase`의 유형은 `[Char] -> [Char]`.\n",
    "    * 문자열에서 문자열로 매핑된다는 의미\n",
    "    * 매개 변수로 하나의 문자열을 사용하고 그 결과로 다른 문자열을 반환하기 때문\n",
    "    * `[Char]`와 [`String`](https://hackage.haskell.org/package/base/docs/Prelude.html#t:String)은 동의어이므로, `removeNonUppercase :: String -> String`로 적는 것이 더 명확함\n",
    "\n",
    "이 함수에는 아직 유형 선언을 하지 않음.\n",
    "* 이유: 굳이 알려주지 않더라도 컴파일러가 스스로 함수가 문자열에서 문자열로의 함수라는 것을 추론할 수 있기 때문.\n",
    "\n",
    "여러 개의 매개변수를 사용하는 함수의 유형 선언은 어떻게 할 수 있을까?\n",
    "* 예시: 아래 3개의 정수를 매개 변수로 사용하고, 세 정수의 합을 구해주는 함수"
   ]
  },
  {
   "cell_type": "code",
   "execution_count": 8,
   "metadata": {
    "attributes": {
     "classes": [
      "haskell:",
      "hs"
     ],
     "id": "",
     "name": "\"code\""
    }
   },
   "outputs": [],
   "source": [
    "addThree :: Int -> Int -> Int -> Int\n",
    "addThree x y z = x + y + z"
   ]
  },
  {
   "cell_type": "markdown",
   "metadata": {},
   "source": [
    "* 매개 변수 간의 유형은 `->`로 구분\n",
    "* 매개 변수의 유형과 반환값의 유형에서 서로 간에 특별한 차이가 없음\n",
    "    * 선언 부분의 가장 마지막에 있는 유형은 반환값에 대한 유형이고, 처음 세 개의 유형은 파라미터에 대한 유형임\n",
    "* 매개 변수와 반환값 간의 유형을 구분할 때, 더 명시적인 방법(예를 들어, `Int, Int, Int -> Int`)을 사용할 수 있지만 `->`을 사용하는 이유는 나중에 얘기할 것\n",
    "\n",
    "함수에서 유형 선언을 하고 싶지만 어떤 유형으로 선언해야할지 확실히 모를 때, 유형 선언을 하지 않고 함수를 작성한 다음 `:t`를 통해 함수의 유형을 확인할 수 있음. 함수 역시 식이기 때문에, `:t`도 아무 문제 없이 작동함"
   ]
  },
  {
   "cell_type": "markdown",
   "metadata": {},
   "source": [
    "### 1.3 유형의 종류\n",
    "--- \n",
    "1. __[`Int`](https://hackage.haskell.org/package/base/docs/Prelude.html#t:Int)__: 정수를 의미\n",
    "    * 모든 숫자에 사용\n",
    "    * `7`은 [`Int`](https://hackage.haskell.org/package/base/docs/Prelude.html#t:Int)이지만 `7.2`는 아님.\n",
    "    * [`Int`](https://hackage.haskell.org/package/base/docs/Prelude.html#t:Int)는 경계가 있으며, 이는 최솟값과 최댓값을 가지고 있음을 의미\n",
    "    * 일반적으로 32비트 기계에서 [`Int`](https://hackage.haskell.org/package/base/docs/Prelude.html#t:Int)의 최댓값은 2147483647 , 최솟값은 -2147483648.\n",
    "\n",
    "\n",
    "\n",
    "2. __[`Integer`](https://hackage.haskell.org/package/base/docs/Prelude.html#t:Integer)__: 정수를 의미 \n",
    "    * `Int`와 가장 큰 차이점은 `Integer`은 경계가 없다는 것\n",
    "    * 따라서 `Integer`은 엄청 큰 숫자에서 사용\n",
    "    * 하지만 [`Int`](https://hackage.haskell.org/package/base/docs/Prelude.html#t:Int)가 더 효율적임"
   ]
  },
  {
   "cell_type": "code",
   "execution_count": 9,
   "metadata": {
    "attributes": {
     "classes": [
      "haskell:",
      "hs"
     ],
     "id": "",
     "name": "\"code\""
    }
   },
   "outputs": [],
   "source": [
    "factorial :: Integer -> Integer\n",
    "factorial n = product [1..n]"
   ]
  },
  {
   "cell_type": "code",
   "execution_count": 10,
   "metadata": {
    "attributes": {
     "classes": [
      "haskell:",
      "ghci"
     ],
     "id": "",
     "name": "\"code\""
    }
   },
   "outputs": [
    {
     "data": {
      "text/plain": [
       "30414093201713378043612608166064768844377641568960512000000000000"
      ]
     },
     "metadata": {},
     "output_type": "display_data"
    }
   ],
   "source": [
    "factorial 50"
   ]
  },
  {
   "cell_type": "markdown",
   "metadata": {},
   "source": [
    "3. __[`Float`](https://hackage.haskell.org/package/base/docs/Prelude.html#t:Float)__: 단일 정밀도의 부동 소수점을 의미"
   ]
  },
  {
   "cell_type": "code",
   "execution_count": 11,
   "metadata": {
    "attributes": {
     "classes": [
      "haskell:",
      "hs"
     ],
     "id": "",
     "name": "\"code\""
    }
   },
   "outputs": [],
   "source": [
    "circumference :: Float -> Float\n",
    "circumference r = 2 * pi * r"
   ]
  },
  {
   "cell_type": "code",
   "execution_count": 12,
   "metadata": {
    "attributes": {
     "classes": [
      "haskell:",
      "ghci"
     ],
     "id": "",
     "name": "\"code\""
    }
   },
   "outputs": [
    {
     "data": {
      "text/plain": [
       "25.132742"
      ]
     },
     "metadata": {},
     "output_type": "display_data"
    }
   ],
   "source": [
    "circumference 4.0"
   ]
  },
  {
   "cell_type": "markdown",
   "metadata": {},
   "source": [
    "4. __[`Double`](https://hackage.haskell.org/package/base/docs/Prelude.html#t:Double)__ 두 배의 정밀도를 가진 부동 소수점을 의미"
   ]
  },
  {
   "cell_type": "code",
   "execution_count": 13,
   "metadata": {
    "attributes": {
     "classes": [
      "haskell:",
      "hs"
     ],
     "id": "",
     "name": "\"code\""
    }
   },
   "outputs": [],
   "source": [
    "circumference' :: Double -> Double\n",
    "circumference' r = 2 * pi * r"
   ]
  },
  {
   "cell_type": "code",
   "execution_count": 14,
   "metadata": {
    "attributes": {
     "classes": [
      "haskell:",
      "ghci"
     ],
     "id": "",
     "name": "\"code\""
    }
   },
   "outputs": [
    {
     "data": {
      "text/plain": [
       "25.132741228718345"
      ]
     },
     "metadata": {},
     "output_type": "display_data"
    }
   ],
   "source": [
    "circumference' 4.0"
   ]
  },
  {
   "cell_type": "markdown",
   "metadata": {},
   "source": [
    "5. __[`Bool`](https://hackage.haskell.org/package/base/docs/Prelude.html#t:Bool)__: 부울 유형을 의미\n",
    "    * 오직 두 가지 값만 가짐: [`True`](https://hackage.haskell.org/package/base/docs/Prelude.html#v:True),  [`False`](https://hackage.haskell.org/package/base/docs/Prelude.html#v:False).\n",
    "\n",
    "\n",
    "6. __[`Char`](https://hackage.haskell.org/package/base/docs/Prelude.html#t:Char)__: 문자 유형을 의미\n",
    "    * 작은 따옴표로 표시되어 있음\n",
    "    * 문자 리스트는 문자열 유형\n",
    "    \n",
    "   \n",
    "7. 튜플의 유형\n",
    "    * 튜플 역시 유형을 가지고 있음\n",
    "    * 원소들의 유형과 튜플의 길이에 따라 유형이 달라지기 때문에 이론적으로 튜플에는 무한정 많은 유형이 있어, 이 튜토리얼에서 다루기에는 너무 많음.\n",
    "    * 비어있는 튜플 `()`은 하나의 값만 가질 있는 유형이라는 것만 기억"
   ]
  },
  {
   "cell_type": "markdown",
   "metadata": {},
   "source": [
    "### 1.4 유형 변수(Type variables)\n",
    "--------------\n",
    "[`head`](https://hackage.haskell.org/package/base/docs/Prelude.html#v:head) 함수의 유형은 무엇이라고 생각하는가?\n",
    "* [`head`](https://hackage.haskell.org/package/base/docs/Prelude.html#v:head)는 아무 유형의 리스트를 받아와 첫 번째 원소를 반환해줌\n",
    "\n",
    "[`head`](https://hackage.haskell.org/package/base/docs/Prelude.html#v:head) 의 유형을 확인해보자"
   ]
  },
  {
   "cell_type": "code",
   "execution_count": 15,
   "metadata": {
    "attributes": {
     "classes": [
      "haskell:",
      "ghci"
     ],
     "id": "",
     "name": "\"code\""
    }
   },
   "outputs": [
    {
     "data": {
      "text/html": [
       "<style>/* Styles used for the Hoogle display in the pager */\n",
       ".hoogle-doc {\n",
       "display: block;\n",
       "padding-bottom: 1.3em;\n",
       "padding-left: 0.4em;\n",
       "}\n",
       ".hoogle-code {\n",
       "display: block;\n",
       "font-family: monospace;\n",
       "white-space: pre;\n",
       "}\n",
       ".hoogle-text {\n",
       "display: block;\n",
       "}\n",
       ".hoogle-name {\n",
       "color: green;\n",
       "font-weight: bold;\n",
       "}\n",
       ".hoogle-head {\n",
       "font-weight: bold;\n",
       "}\n",
       ".hoogle-sub {\n",
       "display: block;\n",
       "margin-left: 0.4em;\n",
       "}\n",
       ".hoogle-package {\n",
       "font-weight: bold;\n",
       "font-style: italic;\n",
       "}\n",
       ".hoogle-module {\n",
       "font-weight: bold;\n",
       "}\n",
       ".hoogle-class {\n",
       "font-weight: bold;\n",
       "}\n",
       ".get-type {\n",
       "color: green;\n",
       "font-weight: bold;\n",
       "font-family: monospace;\n",
       "display: block;\n",
       "white-space: pre-wrap;\n",
       "}\n",
       ".show-type {\n",
       "color: green;\n",
       "font-weight: bold;\n",
       "font-family: monospace;\n",
       "margin-left: 1em;\n",
       "}\n",
       ".mono {\n",
       "font-family: monospace;\n",
       "display: block;\n",
       "}\n",
       ".err-msg {\n",
       "color: red;\n",
       "font-style: italic;\n",
       "font-family: monospace;\n",
       "white-space: pre;\n",
       "display: block;\n",
       "}\n",
       "#unshowable {\n",
       "color: red;\n",
       "font-weight: bold;\n",
       "}\n",
       ".err-msg.in.collapse {\n",
       "padding-top: 0.7em;\n",
       "}\n",
       ".highlight-code {\n",
       "white-space: pre;\n",
       "font-family: monospace;\n",
       "}\n",
       ".suggestion-warning { \n",
       "font-weight: bold;\n",
       "color: rgb(200, 130, 0);\n",
       "}\n",
       ".suggestion-error { \n",
       "font-weight: bold;\n",
       "color: red;\n",
       "}\n",
       ".suggestion-name {\n",
       "font-weight: bold;\n",
       "}\n",
       "</style><span class='get-type'>head :: forall a. [a] -> a</span>"
      ],
      "text/plain": [
       "head :: forall a. [a] -> a"
      ]
     },
     "metadata": {},
     "output_type": "display_data"
    },
    {
     "data": {
      "text/plain": []
     },
     "metadata": {},
     "output_type": "display_data"
    }
   ],
   "source": [
    ":t head"
   ]
  },
  {
   "cell_type": "markdown",
   "metadata": {},
   "source": [
    "`a`는 무엇일까?\n",
    "* `a`는 유형이다. (X)\n",
    "    * 이유: 앞에서 언급했 듯이 유형의 첫 글자는 대문자로 써야 함.\n",
    "* 첫 글자가 대문자가 아니므로 `a`를 *유형 변수(type variable)* 라고 함.\n",
    "    * 즉, `a`는 모든 유형이 다 될 수 있다는 의미\n",
    "* 다른 언어에서의 generics과 유사하지만, 하스칼에서는 더 중요한 역할을 함.\n",
    "    * 이유: because it allows us to easily write very general functions if they don't use any specific behavior of the types in them.\n",
    "    \n",
    "    \n",
    "유형 변수를 가지고 있는 함수를 *다형성 함수(polymorphic functions)* 라고 부름.\n",
    "* [`head`](https://hackage.haskell.org/package/base/docs/Prelude.html#v:head)의 유형 선언을 보면 어떤 유형의 리스트를 받아와 그 유형의 원소 하나를 반환한다고 나와있음\n",
    "\n",
    "유형 변수의 이름은 한 글자 이상일 수 있지만, 보통 a, b, c, d …로 이름을 붙임\n",
    "\n",
    "\n",
    "이제 [`fst`](https://hackage.haskell.org/package/base/docs/Prelude.html#v:fst)의 유형을 확인해보자.\n",
    "* `fst`: 쌍에서 첫 번째 원소를 반환해주는 함수"
   ]
  },
  {
   "cell_type": "code",
   "execution_count": 16,
   "metadata": {
    "attributes": {
     "classes": [
      "haskell:",
      "ghci"
     ],
     "id": "",
     "name": "\"code\""
    }
   },
   "outputs": [
    {
     "data": {
      "text/html": [
       "<style>/* Styles used for the Hoogle display in the pager */\n",
       ".hoogle-doc {\n",
       "display: block;\n",
       "padding-bottom: 1.3em;\n",
       "padding-left: 0.4em;\n",
       "}\n",
       ".hoogle-code {\n",
       "display: block;\n",
       "font-family: monospace;\n",
       "white-space: pre;\n",
       "}\n",
       ".hoogle-text {\n",
       "display: block;\n",
       "}\n",
       ".hoogle-name {\n",
       "color: green;\n",
       "font-weight: bold;\n",
       "}\n",
       ".hoogle-head {\n",
       "font-weight: bold;\n",
       "}\n",
       ".hoogle-sub {\n",
       "display: block;\n",
       "margin-left: 0.4em;\n",
       "}\n",
       ".hoogle-package {\n",
       "font-weight: bold;\n",
       "font-style: italic;\n",
       "}\n",
       ".hoogle-module {\n",
       "font-weight: bold;\n",
       "}\n",
       ".hoogle-class {\n",
       "font-weight: bold;\n",
       "}\n",
       ".get-type {\n",
       "color: green;\n",
       "font-weight: bold;\n",
       "font-family: monospace;\n",
       "display: block;\n",
       "white-space: pre-wrap;\n",
       "}\n",
       ".show-type {\n",
       "color: green;\n",
       "font-weight: bold;\n",
       "font-family: monospace;\n",
       "margin-left: 1em;\n",
       "}\n",
       ".mono {\n",
       "font-family: monospace;\n",
       "display: block;\n",
       "}\n",
       ".err-msg {\n",
       "color: red;\n",
       "font-style: italic;\n",
       "font-family: monospace;\n",
       "white-space: pre;\n",
       "display: block;\n",
       "}\n",
       "#unshowable {\n",
       "color: red;\n",
       "font-weight: bold;\n",
       "}\n",
       ".err-msg.in.collapse {\n",
       "padding-top: 0.7em;\n",
       "}\n",
       ".highlight-code {\n",
       "white-space: pre;\n",
       "font-family: monospace;\n",
       "}\n",
       ".suggestion-warning { \n",
       "font-weight: bold;\n",
       "color: rgb(200, 130, 0);\n",
       "}\n",
       ".suggestion-error { \n",
       "font-weight: bold;\n",
       "color: red;\n",
       "}\n",
       ".suggestion-name {\n",
       "font-weight: bold;\n",
       "}\n",
       "</style><span class='get-type'>fst :: forall a b. (a, b) -> a</span>"
      ],
      "text/plain": [
       "fst :: forall a b. (a, b) -> a"
      ]
     },
     "metadata": {},
     "output_type": "display_data"
    }
   ],
   "source": [
    ":t fst"
   ]
  },
  {
   "cell_type": "markdown",
   "metadata": {},
   "source": [
    "[`fst`](https://hackage.haskell.org/package/base/docs/Prelude.html#v:fst)는 두 가지 유형을 가진 튜플을 받아와 첫 번째 원소와 같은 유형을 가진 원소를 반환\n",
    "\n",
    "\n",
    "* `a`, `b`가 서로 다른 유형 변수라 해서 두 변수가 서로 다른 유형일 필요는 없음\n",
    "    * 단지, 첫 번째 원소의 유형과 반환값의 유형이 동일하다는 것을 의미"
   ]
  },
  {
   "cell_type": "markdown",
   "metadata": {},
   "source": [
    "# 2. 유형 클래스(Typeclasses)\n",
    "---------------\n",
    "유형 클래스(typeclass): 일부 동작을 정의하는 일종의 인터페이스(interface)\n",
    "* 유형이 유형 클래스의 한 부분이라면, 이것은 유형 클래스가 설명하는 동작을 지원하고 구현한다는 것을 의미\n",
    "* 객체 지향 언어에서의 클래스와 비슷하다고 생각하기 때문에, 객체 지향 언어를 사용하던 사람들이 유형 클래스를 혼란스러워함\n",
    "* 유형 클래스는 객체 지향 언어에서의 클래스와는 다름. 자바의 인터페이스라고 생각하면 편할 것\n",
    "\n",
    "\n",
    "[`==`](https://hackage.haskell.org/package/base/docs/Prelude.html#v:-61--61-) 함수의 유형은 무엇인가?"
   ]
  },
  {
   "cell_type": "code",
   "execution_count": 17,
   "metadata": {
    "attributes": {
     "classes": [
      "haskell:",
      "ghci"
     ],
     "id": "",
     "name": "\"code\""
    }
   },
   "outputs": [
    {
     "data": {
      "text/html": [
       "<style>/* Styles used for the Hoogle display in the pager */\n",
       ".hoogle-doc {\n",
       "display: block;\n",
       "padding-bottom: 1.3em;\n",
       "padding-left: 0.4em;\n",
       "}\n",
       ".hoogle-code {\n",
       "display: block;\n",
       "font-family: monospace;\n",
       "white-space: pre;\n",
       "}\n",
       ".hoogle-text {\n",
       "display: block;\n",
       "}\n",
       ".hoogle-name {\n",
       "color: green;\n",
       "font-weight: bold;\n",
       "}\n",
       ".hoogle-head {\n",
       "font-weight: bold;\n",
       "}\n",
       ".hoogle-sub {\n",
       "display: block;\n",
       "margin-left: 0.4em;\n",
       "}\n",
       ".hoogle-package {\n",
       "font-weight: bold;\n",
       "font-style: italic;\n",
       "}\n",
       ".hoogle-module {\n",
       "font-weight: bold;\n",
       "}\n",
       ".hoogle-class {\n",
       "font-weight: bold;\n",
       "}\n",
       ".get-type {\n",
       "color: green;\n",
       "font-weight: bold;\n",
       "font-family: monospace;\n",
       "display: block;\n",
       "white-space: pre-wrap;\n",
       "}\n",
       ".show-type {\n",
       "color: green;\n",
       "font-weight: bold;\n",
       "font-family: monospace;\n",
       "margin-left: 1em;\n",
       "}\n",
       ".mono {\n",
       "font-family: monospace;\n",
       "display: block;\n",
       "}\n",
       ".err-msg {\n",
       "color: red;\n",
       "font-style: italic;\n",
       "font-family: monospace;\n",
       "white-space: pre;\n",
       "display: block;\n",
       "}\n",
       "#unshowable {\n",
       "color: red;\n",
       "font-weight: bold;\n",
       "}\n",
       ".err-msg.in.collapse {\n",
       "padding-top: 0.7em;\n",
       "}\n",
       ".highlight-code {\n",
       "white-space: pre;\n",
       "font-family: monospace;\n",
       "}\n",
       ".suggestion-warning { \n",
       "font-weight: bold;\n",
       "color: rgb(200, 130, 0);\n",
       "}\n",
       ".suggestion-error { \n",
       "font-weight: bold;\n",
       "color: red;\n",
       "}\n",
       ".suggestion-name {\n",
       "font-weight: bold;\n",
       "}\n",
       "</style><span class='get-type'>(==) :: forall a. Eq a => a -> a -> Bool</span>"
      ],
      "text/plain": [
       "(==) :: forall a. Eq a => a -> a -> Bool"
      ]
     },
     "metadata": {},
     "output_type": "display_data"
    }
   ],
   "source": [
    ":t (==)"
   ]
  },
  {
   "cell_type": "markdown",
   "metadata": {},
   "source": [
    "> __참고__: 동등성 연산자인 [`==`](https://hackage.haskell.org/package/base/docs/Prelude.html#v:-61--61-)도 함수임. [`+`](https://hackage.haskell.org/package/base/docs/Prelude.html#v:-43-), [`*`](https://hackage.haskell.org/package/base/docs/Prelude.html#v:-42-), [`-`](https://hackage.haskell.org/package/base/docs/Prelude.html#v:-45-), [`/`](https://hackage.haskell.org/package/base/docs/Prelude.html#v:-47-),\n",
    "등 많은 연산자들이 있음. 만약 함수가 특수 문자로만 구성된 경우, 이 함수는 중위 함수로 간주됨. 이 함수의 유형을 알고 싶거나, 다른 함수에 전달하거나, 전위 함수로 부르고 싶다면, 괄호로 묶어서 사용하면 됨.\n",
    "\n",
    "* 클래스 제약\n",
    "    * `=>` 기호 전에 오는 모든 것을 *클래스 제약(class constraint)* 이라고 함.\n",
    "    * 이전의 유형 선언에서 동등성 함수는 같은 유형의 두 개의 값을 가져와 비교 결과를 부울 유형으로 리턴한다는 내용이 있었음\n",
    "     * 두 값의 유형이 반드시 `Eq` 클래스의 구성원이어야 함. 이것이 클래스 제약.\n",
    "         * `Eq` 유형 클래스는 동등성 테스트를 위한 인터페이스를 제공\n",
    "         * 해당 유형의 두 값 사이에서 동등성을 테스트하는 것이 적합한 모든 유형은 `Eq` 클래스의 구성원이야야 함.\n",
    "         * [`IO`](https://hackage.haskell.org/package/base/docs/Prelude.html#t:IO) (입출력 처리 유형)와 함수를 제외한 모든 표준 하스켈 유형은 `Eq` 유형 클래스의 일부임.\n",
    "\n",
    "\n",
    "* 클래스 제약의 예시: [`elem`](https://hackage.haskell.org/package/base/docs/Prelude.html#v:elem) 함수\n",
    "    * [`elem`](https://hackage.haskell.org/package/base/docs/Prelude.html#v:elem) 함수는 `(Eq a) => a -> [a] -> Bool` 유형을 가짐\n",
    "    * 이유: `elem` 함수는 입력된 값이 리스트에 있는지 살펴볼 때 [`==`](https://hackage.haskell.org/package/base/docs/Prelude.html#v:-61--61-)를 사용하기 때문\n",
    "\n",
    "### 2.1 기본적인 유형 클래스\n",
    "---\n",
    "1. __`Eq`__  \n",
    "    * 동등성 테스트를 지원하는 유형\n",
    "    * 구성원이 구현하는 기능: [`==`](https://hackage.haskell.org/package/base/docs/Prelude.html#v:-61--61-), [`/=`](https://hackage.haskell.org/package/base/docs/Prelude.html#v:-47--61-)\n",
    "    * 함수에서 유형 변수에 `Eq` 제약이 있다면, 함수의 정의 부분에서 [`==`](https://hackage.haskell.org/package/base/docs/Prelude.html#v:-61--61-) 또는 [`/=`](https://hackage.haskell.org/package/base/docs/Prelude.html#v:-47--61-)을 사용한다는 의미\n",
    "    * 이전에 언급한 유형 중 함수를 제외하고는 모두 `Eq`의 일부이므로, 동등성 테스트 사용 가능"
   ]
  },
  {
   "cell_type": "code",
   "execution_count": 18,
   "metadata": {
    "attributes": {
     "classes": [
      "haskell:",
      "ghci"
     ],
     "id": "",
     "name": "\"code\""
    }
   },
   "outputs": [
    {
     "data": {
      "text/plain": [
       "True"
      ]
     },
     "metadata": {},
     "output_type": "display_data"
    }
   ],
   "source": [
    "5 == 5"
   ]
  },
  {
   "cell_type": "code",
   "execution_count": 19,
   "metadata": {
    "attributes": {
     "classes": [
      "haskell:",
      "ghci"
     ],
     "id": "",
     "name": "\"code\""
    }
   },
   "outputs": [
    {
     "data": {
      "text/plain": [
       "False"
      ]
     },
     "metadata": {},
     "output_type": "display_data"
    }
   ],
   "source": [
    "5 /= 5"
   ]
  },
  {
   "cell_type": "code",
   "execution_count": 20,
   "metadata": {
    "attributes": {
     "classes": [
      "haskell:",
      "ghci"
     ],
     "id": "",
     "name": "\"code\""
    }
   },
   "outputs": [
    {
     "data": {
      "text/plain": [
       "True"
      ]
     },
     "metadata": {},
     "output_type": "display_data"
    }
   ],
   "source": [
    "'a' == 'a'"
   ]
  },
  {
   "cell_type": "code",
   "execution_count": 21,
   "metadata": {
    "attributes": {
     "classes": [
      "haskell:",
      "ghci"
     ],
     "id": "",
     "name": "\"code\""
    }
   },
   "outputs": [
    {
     "data": {
      "text/plain": [
       "True"
      ]
     },
     "metadata": {},
     "output_type": "display_data"
    }
   ],
   "source": [
    "\"Ho Ho\" == \"Ho Ho\""
   ]
  },
  {
   "cell_type": "code",
   "execution_count": 22,
   "metadata": {
    "attributes": {
     "classes": [
      "haskell:",
      "ghci"
     ],
     "id": "",
     "name": "\"code\""
    }
   },
   "outputs": [
    {
     "data": {
      "text/plain": [
       "True"
      ]
     },
     "metadata": {},
     "output_type": "display_data"
    }
   ],
   "source": [
    "3.432 == 3.432"
   ]
  },
  {
   "cell_type": "markdown",
   "metadata": {},
   "source": [
    "2. __[`Ord`](https://hackage.haskell.org/package/base/docs/Prelude.html#t:Ord)__ : 순서를 가지고 있는 유형을 위한 것"
   ]
  },
  {
   "cell_type": "code",
   "execution_count": 23,
   "metadata": {
    "attributes": {
     "classes": [
      "haskell:",
      "ghci"
     ],
     "id": "",
     "name": "\"code\""
    }
   },
   "outputs": [
    {
     "data": {
      "text/html": [
       "<style>/* Styles used for the Hoogle display in the pager */\n",
       ".hoogle-doc {\n",
       "display: block;\n",
       "padding-bottom: 1.3em;\n",
       "padding-left: 0.4em;\n",
       "}\n",
       ".hoogle-code {\n",
       "display: block;\n",
       "font-family: monospace;\n",
       "white-space: pre;\n",
       "}\n",
       ".hoogle-text {\n",
       "display: block;\n",
       "}\n",
       ".hoogle-name {\n",
       "color: green;\n",
       "font-weight: bold;\n",
       "}\n",
       ".hoogle-head {\n",
       "font-weight: bold;\n",
       "}\n",
       ".hoogle-sub {\n",
       "display: block;\n",
       "margin-left: 0.4em;\n",
       "}\n",
       ".hoogle-package {\n",
       "font-weight: bold;\n",
       "font-style: italic;\n",
       "}\n",
       ".hoogle-module {\n",
       "font-weight: bold;\n",
       "}\n",
       ".hoogle-class {\n",
       "font-weight: bold;\n",
       "}\n",
       ".get-type {\n",
       "color: green;\n",
       "font-weight: bold;\n",
       "font-family: monospace;\n",
       "display: block;\n",
       "white-space: pre-wrap;\n",
       "}\n",
       ".show-type {\n",
       "color: green;\n",
       "font-weight: bold;\n",
       "font-family: monospace;\n",
       "margin-left: 1em;\n",
       "}\n",
       ".mono {\n",
       "font-family: monospace;\n",
       "display: block;\n",
       "}\n",
       ".err-msg {\n",
       "color: red;\n",
       "font-style: italic;\n",
       "font-family: monospace;\n",
       "white-space: pre;\n",
       "display: block;\n",
       "}\n",
       "#unshowable {\n",
       "color: red;\n",
       "font-weight: bold;\n",
       "}\n",
       ".err-msg.in.collapse {\n",
       "padding-top: 0.7em;\n",
       "}\n",
       ".highlight-code {\n",
       "white-space: pre;\n",
       "font-family: monospace;\n",
       "}\n",
       ".suggestion-warning { \n",
       "font-weight: bold;\n",
       "color: rgb(200, 130, 0);\n",
       "}\n",
       ".suggestion-error { \n",
       "font-weight: bold;\n",
       "color: red;\n",
       "}\n",
       ".suggestion-name {\n",
       "font-weight: bold;\n",
       "}\n",
       "</style><span class='get-type'>(>) :: forall a. Ord a => a -> a -> Bool</span>"
      ],
      "text/plain": [
       "(>) :: forall a. Ord a => a -> a -> Bool"
      ]
     },
     "metadata": {},
     "output_type": "display_data"
    }
   ],
   "source": [
    ":t (>)"
   ]
  },
  {
   "cell_type": "markdown",
   "metadata": {},
   "source": [
    "* 함수를 제외하고 지금까지 다룬 모든 유형은 [`Ord`](https://hackage.haskell.org/package/base/docs/Prelude.html#t:Ord)의 일부임\n",
    "\n",
    "\n",
    "* [`Ord`](https://hackage.haskell.org/package/base/docs/Prelude.html#t:Ord)은 모든 표준 비교 함수를 다룸.\n",
    "    * 예시1: [`>`](https://hackage.haskell.org/package/base/docs/Prelude.html#v:-62-), [`<`](https://hackage.haskell.org/package/base/docs/Prelude.html#v:-60-), [`>=`](https://hackage.haskell.org/package/base/docs/Prelude.html#v:-62--61-), [`<=`](https://hackage.haskell.org/package/base/docs/Prelude.html#v:-60--61-)\n",
    "    * 예시2. [`compare`](https://hackage.haskell.org/package/base/docs/Prelude.html#v:compare): [`Ord`](https://hackage.haskell.org/package/base/docs/Prelude.html#t:Ord)에서 같은 유형의 두 개의 멤버를 가져와 순서를 반환\n",
    "    * 예시3. [`Ordering`](https://hackage.haskell.org/package/base/docs/Prelude.html#t:Ordering): [`GT`](https://hackage.haskell.org/package/base/docs/Prelude.html#v:GT) (*greater than*) 또는 [`LT`](https://hackage.haskell.org/package/base/docs/Prelude.html#v:LT) (*lesser than*) 또는 [`EQ`](https://hackage.haskell.org/package/base/docs/Prelude.html#v:EQ) (*equal*)가 될 수 있는 유형\n",
    "    \n",
    "    \n",
    "* [`Ord`](https://hackage.haskell.org/package/base/docs/Prelude.html#t:Ord)의 멤버가 되기 위해서는 먼저 `Eq`에 포함되어 있어야함."
   ]
  },
  {
   "cell_type": "code",
   "execution_count": 24,
   "metadata": {
    "attributes": {
     "classes": [
      "haskell:",
      "ghci"
     ],
     "id": "",
     "name": "\"code\""
    }
   },
   "outputs": [
    {
     "data": {
      "text/plain": [
       "True"
      ]
     },
     "metadata": {},
     "output_type": "display_data"
    }
   ],
   "source": [
    "\"Abrakadabra\" < \"Zebra\""
   ]
  },
  {
   "cell_type": "code",
   "execution_count": 25,
   "metadata": {
    "attributes": {
     "classes": [
      "haskell:",
      "ghci"
     ],
     "id": "",
     "name": "\"code\""
    }
   },
   "outputs": [
    {
     "data": {
      "text/plain": [
       "LT"
      ]
     },
     "metadata": {},
     "output_type": "display_data"
    }
   ],
   "source": [
    "\"Abrakadabra\" `compare` \"Zebra\""
   ]
  },
  {
   "cell_type": "code",
   "execution_count": 26,
   "metadata": {
    "attributes": {
     "classes": [
      "haskell:",
      "ghci"
     ],
     "id": "",
     "name": "\"code\""
    }
   },
   "outputs": [
    {
     "data": {
      "text/plain": [
       "True"
      ]
     },
     "metadata": {},
     "output_type": "display_data"
    }
   ],
   "source": [
    "5 >= 2"
   ]
  },
  {
   "cell_type": "code",
   "execution_count": 27,
   "metadata": {
    "attributes": {
     "classes": [
      "haskell:",
      "ghci"
     ],
     "id": "",
     "name": "\"code\""
    }
   },
   "outputs": [
    {
     "data": {
      "text/plain": [
       "GT"
      ]
     },
     "metadata": {},
     "output_type": "display_data"
    }
   ],
   "source": [
    "5 `compare` 3"
   ]
  },
  {
   "cell_type": "markdown",
   "metadata": {},
   "source": [
    "3. __[`Show`](https://hackage.haskell.org/package/base/docs/Prelude.html#t:Show)__\n",
    "    * `Show`의 멤버는 문자열로 표시할 수 있음\n",
    "    * 함수를 제외한 모든 유형은 `Show`의 일부\n",
    "    * `Show` 클래스를 다루는 함수 중에 가장 많이 사용되는 함수 show임.\n",
    "        * show는 `Show`의 멤버 유형을 가지는 값을 가져와 이 값을 문자열로 보여줌"
   ]
  },
  {
   "cell_type": "code",
   "execution_count": 28,
   "metadata": {
    "attributes": {
     "classes": [
      "haskell:",
      "ghci"
     ],
     "id": "",
     "name": "\"code\""
    }
   },
   "outputs": [
    {
     "data": {
      "text/plain": [
       "\"3\""
      ]
     },
     "metadata": {},
     "output_type": "display_data"
    }
   ],
   "source": [
    "show 3"
   ]
  },
  {
   "cell_type": "code",
   "execution_count": 29,
   "metadata": {
    "attributes": {
     "classes": [
      "haskell:",
      "ghci"
     ],
     "id": "",
     "name": "\"code\""
    }
   },
   "outputs": [
    {
     "data": {
      "text/plain": [
       "\"5.334\""
      ]
     },
     "metadata": {},
     "output_type": "display_data"
    }
   ],
   "source": [
    "show 5.334"
   ]
  },
  {
   "cell_type": "code",
   "execution_count": 30,
   "metadata": {
    "attributes": {
     "classes": [
      "haskell:",
      "ghci"
     ],
     "id": "",
     "name": "\"code\""
    }
   },
   "outputs": [
    {
     "data": {
      "text/plain": [
       "\"True\""
      ]
     },
     "metadata": {},
     "output_type": "display_data"
    }
   ],
   "source": [
    "show True"
   ]
  },
  {
   "cell_type": "markdown",
   "metadata": {},
   "source": [
    "4. __[`Read`](https://hackage.haskell.org/package/base/docs/Prelude.html#t:Read)__\n",
    "    * [`Show`](https://hackage.haskell.org/package/base/docs/Prelude.html#t:Show)와 정반대되는 클래스\n",
    "    * [`read`](https://hackage.haskell.org/package/base/docs/Prelude.html#v:read) 함수는 하나의 문자열을 받아와 [`Read`](https://hackage.haskell.org/package/base/docs/Prelude.html#t:Read) 멤버의 유형으로 반환해줌."
   ]
  },
  {
   "cell_type": "code",
   "execution_count": 31,
   "metadata": {
    "attributes": {
     "classes": [
      "haskell:",
      "ghci"
     ],
     "id": "",
     "name": "\"code\""
    }
   },
   "outputs": [
    {
     "data": {
      "text/plain": [
       "True"
      ]
     },
     "metadata": {},
     "output_type": "display_data"
    }
   ],
   "source": [
    "read \"True\" || False"
   ]
  },
  {
   "cell_type": "code",
   "execution_count": 32,
   "metadata": {
    "attributes": {
     "classes": [
      "haskell:",
      "ghci"
     ],
     "id": "",
     "name": "\"code\""
    }
   },
   "outputs": [
    {
     "data": {
      "text/plain": [
       "12.0"
      ]
     },
     "metadata": {},
     "output_type": "display_data"
    }
   ],
   "source": [
    "read \"8.2\" + 3.8"
   ]
  },
  {
   "cell_type": "code",
   "execution_count": 33,
   "metadata": {
    "attributes": {
     "classes": [
      "haskell:",
      "ghci"
     ],
     "id": "",
     "name": "\"code\""
    }
   },
   "outputs": [
    {
     "data": {
      "text/plain": [
       "3"
      ]
     },
     "metadata": {},
     "output_type": "display_data"
    }
   ],
   "source": [
    "read \"5\" - 2"
   ]
  },
  {
   "cell_type": "code",
   "execution_count": 34,
   "metadata": {
    "attributes": {
     "classes": [
      "haskell:",
      "ghci"
     ],
     "id": "",
     "name": "\"code\""
    }
   },
   "outputs": [
    {
     "data": {
      "text/plain": [
       "[1,2,3,4,3]"
      ]
     },
     "metadata": {},
     "output_type": "display_data"
    }
   ],
   "source": [
    "read \"[1,2,3,4]\" ++ [3]"
   ]
  },
  {
   "cell_type": "markdown",
   "metadata": {},
   "source": [
    "지금까지 적용된 모든 유형은 이 유형 클래스 안에 있음. `read \"4\"`를 실행하면 어떻게 될까?"
   ]
  },
  {
   "cell_type": "code",
   "execution_count": 35,
   "metadata": {
    "attributes": {
     "classes": [
      "haskell:",
      "ghci"
     ],
     "id": "",
     "name": "\"code\""
    }
   },
   "outputs": [
    {
     "ename": "",
     "evalue": "",
     "header": "MessageHeader {mhIdentifiers = [\"b7c099cf-db65-4c1a-a4ee-a4816bc51ac8\"], mhParentHeader = Just (MessageHeader {mhIdentifiers = [\"b7c099cf-db65-4c1a-a4ee-a4816bc51ac8\"], mhParentHeader = Nothing, mhMetadata = Metadata (fromList [(\"deletedCells\",Array []),(\"cellId\",String \"1c5cdd41-4ac8-4ea6-ba6f-29a614c01ecb\")]), mhMessageId = UUID {uuidToString = \"e67a8ee3-d876-4c42-b1ba-16fb6651d4cc\"}, mhSessionId = UUID {uuidToString = \"b7c099cf-db65-4c1a-a4ee-a4816bc51ac8\"}, mhUsername = \"\", mhMsgType = ExecuteRequestMessage}), mhMetadata = Metadata (fromList []), mhMessageId = UUID {uuidToString = \"7fd89486-adc7-4900-948f-9cf0ac4460c8\"}, mhSessionId = UUID {uuidToString = \"b7c099cf-db65-4c1a-a4ee-a4816bc51ac8\"}, mhUsername = \"\", mhMsgType = ExecuteErrorMessage}",
     "output_type": "error",
     "traceback": [
      "Prelude.read: no parse"
     ]
    }
   ],
   "source": [
    "read \"4\""
   ]
  },
  {
   "cell_type": "raw",
   "metadata": {
    "attributes": {
     "classes": [
      "haskell:",
      "ghci"
     ],
     "id": "",
     "name": "\"code\""
    }
   },
   "source": [
    "<interactive>:1:0:\n",
    "    Ambiguous type variable `a' in the constraint:\n",
    "      `Read a' arising from a use of `read' at <interactive>:1:0-7\n",
    "    Probable fix: add a type signature that fixes these type variable(s)"
   ]
  },
  {
   "cell_type": "markdown",
   "metadata": {},
   "source": [
    "결과: GHC는 무엇을 원하는지 모르겠다고 반환함.\n",
    "* 이전에 [`read`](https://hackage.haskell.org/package/base/docs/Prelude.html#v:read) 사용법에 주목해보면, `read`의 결과를 가지고 무언가를 했음.\n",
    "* 이 방법을 통해, GHC는 우리가 원하는 결과를 추론할 수 있었을 것\n",
    "    * 만약 부울 타입으로 사용한다면, `read`는 [`Bool`](https://hackage.haskell.org/package/base/docs/Prelude.html#t:Bool) 유형으로 반환해주어야 한다는 것을 알았을 것.\n",
    "* 하지만 이제, GHC는 어떤 유형인지는 모르지만 [`Read`](https://hackage.haskell.org/package/base/docs/Prelude.html#t:Read) 클래스의 일부분의 어떤 유형을 원한다는 것은 알고 있음.\n",
    "\n",
    "[`read`](https://hackage.haskell.org/package/base/docs/Prelude.html#v:read)의 유형(type signature)에 대해 살펴보자."
   ]
  },
  {
   "cell_type": "code",
   "execution_count": 36,
   "metadata": {
    "attributes": {
     "classes": [
      "haskell:",
      "ghci"
     ],
     "id": "",
     "name": "\"code\""
    }
   },
   "outputs": [
    {
     "data": {
      "text/html": [
       "<style>/* Styles used for the Hoogle display in the pager */\n",
       ".hoogle-doc {\n",
       "display: block;\n",
       "padding-bottom: 1.3em;\n",
       "padding-left: 0.4em;\n",
       "}\n",
       ".hoogle-code {\n",
       "display: block;\n",
       "font-family: monospace;\n",
       "white-space: pre;\n",
       "}\n",
       ".hoogle-text {\n",
       "display: block;\n",
       "}\n",
       ".hoogle-name {\n",
       "color: green;\n",
       "font-weight: bold;\n",
       "}\n",
       ".hoogle-head {\n",
       "font-weight: bold;\n",
       "}\n",
       ".hoogle-sub {\n",
       "display: block;\n",
       "margin-left: 0.4em;\n",
       "}\n",
       ".hoogle-package {\n",
       "font-weight: bold;\n",
       "font-style: italic;\n",
       "}\n",
       ".hoogle-module {\n",
       "font-weight: bold;\n",
       "}\n",
       ".hoogle-class {\n",
       "font-weight: bold;\n",
       "}\n",
       ".get-type {\n",
       "color: green;\n",
       "font-weight: bold;\n",
       "font-family: monospace;\n",
       "display: block;\n",
       "white-space: pre-wrap;\n",
       "}\n",
       ".show-type {\n",
       "color: green;\n",
       "font-weight: bold;\n",
       "font-family: monospace;\n",
       "margin-left: 1em;\n",
       "}\n",
       ".mono {\n",
       "font-family: monospace;\n",
       "display: block;\n",
       "}\n",
       ".err-msg {\n",
       "color: red;\n",
       "font-style: italic;\n",
       "font-family: monospace;\n",
       "white-space: pre;\n",
       "display: block;\n",
       "}\n",
       "#unshowable {\n",
       "color: red;\n",
       "font-weight: bold;\n",
       "}\n",
       ".err-msg.in.collapse {\n",
       "padding-top: 0.7em;\n",
       "}\n",
       ".highlight-code {\n",
       "white-space: pre;\n",
       "font-family: monospace;\n",
       "}\n",
       ".suggestion-warning { \n",
       "font-weight: bold;\n",
       "color: rgb(200, 130, 0);\n",
       "}\n",
       ".suggestion-error { \n",
       "font-weight: bold;\n",
       "color: red;\n",
       "}\n",
       ".suggestion-name {\n",
       "font-weight: bold;\n",
       "}\n",
       "</style><span class='get-type'>read :: forall a. Read a => String -> a</span>"
      ],
      "text/plain": [
       "read :: forall a. Read a => String -> a"
      ]
     },
     "metadata": {},
     "output_type": "display_data"
    }
   ],
   "source": [
    ":t read"
   ]
  },
  {
   "cell_type": "markdown",
   "metadata": {},
   "source": [
    "* `read`는 [`Read`](https://hackage.haskell.org/package/base/docs/Prelude.html#t:Read)의 일부분의 유형을 반환\n",
    "* 하지만 어떤 방법으로도 `read`를 사용하지 않는다면, 어떤 유형인지 알 수 없음.\n",
    "\n",
    "그렇기 때문에 우리는 명시적으로 __유형 주석(type annotations)__ 을 사용할 수 있음.\n",
    "* 유형 주석: 표현식이 어떤 유형이 되어야하는지를 명시적으로 표현해주는 방법\n",
    "* 표현식의 끝에 `::`를 추가한 후 유형을 지정\n",
    "\n",
    "유형 주석에 대해 살펴보자:"
   ]
  },
  {
   "cell_type": "code",
   "execution_count": 37,
   "metadata": {
    "attributes": {
     "classes": [
      "haskell:",
      "ghci"
     ],
     "id": "",
     "name": "\"code\""
    }
   },
   "outputs": [
    {
     "data": {
      "text/plain": [
       "5"
      ]
     },
     "metadata": {},
     "output_type": "display_data"
    }
   ],
   "source": [
    "read \"5\" :: Int"
   ]
  },
  {
   "cell_type": "code",
   "execution_count": 38,
   "metadata": {
    "attributes": {
     "classes": [
      "haskell:",
      "ghci"
     ],
     "id": "",
     "name": "\"code\""
    }
   },
   "outputs": [
    {
     "data": {
      "text/plain": [
       "5.0"
      ]
     },
     "metadata": {},
     "output_type": "display_data"
    }
   ],
   "source": [
    "read \"5\" :: Float"
   ]
  },
  {
   "cell_type": "code",
   "execution_count": 39,
   "metadata": {
    "attributes": {
     "classes": [
      "haskell:",
      "ghci"
     ],
     "id": "",
     "name": "\"code\""
    }
   },
   "outputs": [
    {
     "data": {
      "text/plain": [
       "20.0"
      ]
     },
     "metadata": {},
     "output_type": "display_data"
    }
   ],
   "source": [
    "(read \"5\" :: Float) * 4"
   ]
  },
  {
   "cell_type": "code",
   "execution_count": 40,
   "metadata": {
    "attributes": {
     "classes": [
      "haskell:",
      "ghci"
     ],
     "id": "",
     "name": "\"code\""
    }
   },
   "outputs": [
    {
     "data": {
      "text/plain": [
       "[1,2,3,4]"
      ]
     },
     "metadata": {},
     "output_type": "display_data"
    }
   ],
   "source": [
    "read \"[1,2,3,4]\" :: [Int]"
   ]
  },
  {
   "cell_type": "code",
   "execution_count": 41,
   "metadata": {
    "attributes": {
     "classes": [
      "haskell:",
      "ghci"
     ],
     "id": "",
     "name": "\"code\""
    }
   },
   "outputs": [
    {
     "data": {
      "text/plain": [
       "(3,'a')"
      ]
     },
     "metadata": {},
     "output_type": "display_data"
    }
   ],
   "source": [
    "read \"(3, 'a')\" :: (Int, Char)"
   ]
  },
  {
   "cell_type": "markdown",
   "metadata": {},
   "source": [
    "대부분의 표현식은 컴파일러가 스스로 표현식의 유형이 무엇인지 추론 가능. 하지만 가끔 컴파일러가 반환값을 [`Int`](https://hackage.haskell.org/package/base/docs/Prelude.html#t:Int) 유형으로 해야할지, [`Float`](https://hackage.haskell.org/package/base/docs/Prelude.html#t:Float) 유형으로 해야할지 모르겠을 때가 있음\n",
    "* 표현식 예시: `read \"5\"`\n",
    "* 표현식이 무슨 유형인지 알기 위해 하스켈은 실제로 `read \"5\"`를 평가해야함\n",
    "* 하지만 하스켈은 정적인 유형의 언어이기 때문에, 코드가 컴파일되기 전에 모든 유형을 알고 있어야 함(GHCI의 경우 모든 유형을 평가해야함)\n",
    "* 따라서, 하스켈에게 이 표현식은 이 유형을 가져야 한다고 알려줘야함\n",
    "\n",
    "\n",
    "\n",
    "\n",
    "5. __[`Enum`](https://hackage.haskell.org/package/base/docs/Prelude.html#t:Enum)__ \n",
    "    * `Enum`의 멤버들은 열거할 수 있도록 순차적으로 정렬된 유형임.\n",
    "    * 장점: 리스트의 ranges에서 이 유형을 사용할 수 있음\n",
    "    * `Enum`은 후계값(successors)과 전임값(predecessors)를 정의하고 있음\n",
    "        * 후계값과 전임값은 [`succ`](https://hackage.haskell.org/package/base/docs/Prelude.html#v:succ) 함수와 [`pred`](https://hackage.haskell.org/package/base/docs/Prelude.html#v:pred) 함수를 사용해 얻을 수 있음\n",
    "    * `Enum` 클래스의 유형: `()`,\n",
    "[`Bool`](https://hackage.haskell.org/package/base/docs/Prelude.html#t:Bool), [`Char`](https://hackage.haskell.org/package/base/docs/Prelude.html#t:Char), [`Ordering`](https://hackage.haskell.org/package/base/docs/Prelude.html#t:Ordering), [`Int`](https://hackage.haskell.org/package/base/docs/Prelude.html#t:Int), [`Integer`](https://hackage.haskell.org/package/base/docs/Prelude.html#t:Integer), [`Float`](https://hackage.haskell.org/package/base/docs/Prelude.html#t:Float), [`Double`](https://hackage.haskell.org/package/base/docs/Prelude.html#t:Double)."
   ]
  },
  {
   "cell_type": "code",
   "execution_count": 42,
   "metadata": {
    "attributes": {
     "classes": [
      "haskell:",
      "ghci"
     ],
     "id": "",
     "name": "\"code\""
    }
   },
   "outputs": [
    {
     "data": {
      "text/plain": [
       "\"abcde\""
      ]
     },
     "metadata": {},
     "output_type": "display_data"
    }
   ],
   "source": [
    "['a'..'e']"
   ]
  },
  {
   "cell_type": "code",
   "execution_count": 43,
   "metadata": {
    "attributes": {
     "classes": [
      "haskell:",
      "ghci"
     ],
     "id": "",
     "name": "\"code\""
    }
   },
   "outputs": [
    {
     "data": {
      "text/plain": [
       "[LT,EQ,GT]"
      ]
     },
     "metadata": {},
     "output_type": "display_data"
    }
   ],
   "source": [
    "[LT .. GT]"
   ]
  },
  {
   "cell_type": "code",
   "execution_count": 44,
   "metadata": {
    "attributes": {
     "classes": [
      "haskell:",
      "ghci"
     ],
     "id": "",
     "name": "\"code\""
    }
   },
   "outputs": [
    {
     "data": {
      "text/plain": [
       "[3,4,5]"
      ]
     },
     "metadata": {},
     "output_type": "display_data"
    }
   ],
   "source": [
    "[3 .. 5]"
   ]
  },
  {
   "cell_type": "code",
   "execution_count": 45,
   "metadata": {
    "attributes": {
     "classes": [
      "haskell:",
      "ghci"
     ],
     "id": "",
     "name": "\"code\""
    }
   },
   "outputs": [
    {
     "data": {
      "text/plain": [
       "'C'"
      ]
     },
     "metadata": {},
     "output_type": "display_data"
    }
   ],
   "source": [
    "succ 'B'"
   ]
  },
  {
   "cell_type": "markdown",
   "metadata": {},
   "source": [
    "6. __[`Bounded`](https://hackage.haskell.org/package/base/docs/Prelude.html#t:Bounded)__\n",
    "    * `Bounded`의 멤버는 상한과 하한을 가짐"
   ]
  },
  {
   "cell_type": "markdown",
   "metadata": {},
   "source": [
    "> __참고:__ 괄호는 아래 표현식에서 모호성을 해결해줌\n",
    "> * [IHaskell Issue #509 The type signature for ‘minBound’ lacks an accompanying binding](https://github.com/gibiansky/IHaskell/issues/509) 참고"
   ]
  },
  {
   "cell_type": "code",
   "execution_count": 46,
   "metadata": {
    "attributes": {
     "classes": [
      "haskell:",
      "ghci"
     ],
     "id": "",
     "name": "\"code\""
    }
   },
   "outputs": [
    {
     "data": {
      "text/plain": [
       "-9223372036854775808"
      ]
     },
     "metadata": {},
     "output_type": "display_data"
    }
   ],
   "source": [
    "(minBound :: Int)"
   ]
  },
  {
   "cell_type": "code",
   "execution_count": 47,
   "metadata": {
    "attributes": {
     "classes": [
      "haskell:",
      "ghci"
     ],
     "id": "",
     "name": "\"code\""
    }
   },
   "outputs": [
    {
     "data": {
      "text/plain": [
       "'\\1114111'"
      ]
     },
     "metadata": {},
     "output_type": "display_data"
    }
   ],
   "source": [
    "(maxBound :: Char)"
   ]
  },
  {
   "cell_type": "code",
   "execution_count": 48,
   "metadata": {
    "attributes": {
     "classes": [
      "haskell:",
      "ghci"
     ],
     "id": "",
     "name": "\"code\""
    }
   },
   "outputs": [
    {
     "data": {
      "text/plain": [
       "True"
      ]
     },
     "metadata": {},
     "output_type": "display_data"
    }
   ],
   "source": [
    "(maxBound :: Bool)"
   ]
  },
  {
   "cell_type": "code",
   "execution_count": 49,
   "metadata": {
    "attributes": {
     "classes": [
      "haskell:",
      "ghci"
     ],
     "id": "",
     "name": "\"code\""
    }
   },
   "outputs": [
    {
     "data": {
      "text/plain": [
       "False"
      ]
     },
     "metadata": {},
     "output_type": "display_data"
    }
   ],
   "source": [
    "(minBound :: Bool)"
   ]
  },
  {
   "cell_type": "markdown",
   "metadata": {},
   "source": [
    "* [`minBound`](https://hackage.haskell.org/package/base/docs/Prelude.html#v:minBound)과 [`maxBound`](https://hackage.haskell.org/package/base/docs/Prelude.html#v:maxBound)는 `(Bounded a) => a` 유형임. 어떤 의미에서 보면 이 둘은 다형성 상수(polymorphic constants)라 할 수 있음\n",
    "\n",
    "\n",
    "* 원소가 있는 모든 튜플은 [`Bounded`](https://hackage.haskell.org/package/base/docs/Prelude.html#t:Bounded)의 일부"
   ]
  },
  {
   "cell_type": "code",
   "execution_count": 50,
   "metadata": {
    "attributes": {
     "classes": [
      "haskell:",
      "ghci"
     ],
     "id": "",
     "name": "\"code\""
    }
   },
   "outputs": [
    {
     "data": {
      "text/plain": [
       "(True,9223372036854775807,'\\1114111')"
      ]
     },
     "metadata": {},
     "output_type": "display_data"
    }
   ],
   "source": [
    "(maxBound :: (Bool, Int, Char))"
   ]
  },
  {
   "cell_type": "markdown",
   "metadata": {},
   "source": [
    "7. __[`Num`](https://hackage.haskell.org/package/base/docs/Prelude.html#t:Num)__\n",
    "    * 숫자형의 유형 클래스\n",
    "    * `Num`의 멤버는 숫자처럼 행동할 수 있는 성질을 가지고 있음\n",
    "\n",
    "    * 숫자의 유형을 확인"
   ]
  },
  {
   "cell_type": "code",
   "execution_count": 51,
   "metadata": {
    "attributes": {
     "classes": [
      "haskell:",
      "ghci"
     ],
     "id": "",
     "name": "\"code\""
    }
   },
   "outputs": [
    {
     "data": {
      "text/html": [
       "<style>/* Styles used for the Hoogle display in the pager */\n",
       ".hoogle-doc {\n",
       "display: block;\n",
       "padding-bottom: 1.3em;\n",
       "padding-left: 0.4em;\n",
       "}\n",
       ".hoogle-code {\n",
       "display: block;\n",
       "font-family: monospace;\n",
       "white-space: pre;\n",
       "}\n",
       ".hoogle-text {\n",
       "display: block;\n",
       "}\n",
       ".hoogle-name {\n",
       "color: green;\n",
       "font-weight: bold;\n",
       "}\n",
       ".hoogle-head {\n",
       "font-weight: bold;\n",
       "}\n",
       ".hoogle-sub {\n",
       "display: block;\n",
       "margin-left: 0.4em;\n",
       "}\n",
       ".hoogle-package {\n",
       "font-weight: bold;\n",
       "font-style: italic;\n",
       "}\n",
       ".hoogle-module {\n",
       "font-weight: bold;\n",
       "}\n",
       ".hoogle-class {\n",
       "font-weight: bold;\n",
       "}\n",
       ".get-type {\n",
       "color: green;\n",
       "font-weight: bold;\n",
       "font-family: monospace;\n",
       "display: block;\n",
       "white-space: pre-wrap;\n",
       "}\n",
       ".show-type {\n",
       "color: green;\n",
       "font-weight: bold;\n",
       "font-family: monospace;\n",
       "margin-left: 1em;\n",
       "}\n",
       ".mono {\n",
       "font-family: monospace;\n",
       "display: block;\n",
       "}\n",
       ".err-msg {\n",
       "color: red;\n",
       "font-style: italic;\n",
       "font-family: monospace;\n",
       "white-space: pre;\n",
       "display: block;\n",
       "}\n",
       "#unshowable {\n",
       "color: red;\n",
       "font-weight: bold;\n",
       "}\n",
       ".err-msg.in.collapse {\n",
       "padding-top: 0.7em;\n",
       "}\n",
       ".highlight-code {\n",
       "white-space: pre;\n",
       "font-family: monospace;\n",
       "}\n",
       ".suggestion-warning { \n",
       "font-weight: bold;\n",
       "color: rgb(200, 130, 0);\n",
       "}\n",
       ".suggestion-error { \n",
       "font-weight: bold;\n",
       "color: red;\n",
       "}\n",
       ".suggestion-name {\n",
       "font-weight: bold;\n",
       "}\n",
       "</style><span class='get-type'>20 :: forall p. Num p => p</span>"
      ],
      "text/plain": [
       "20 :: forall p. Num p => p"
      ]
     },
     "metadata": {},
     "output_type": "display_data"
    }
   ],
   "source": [
    ":t 20"
   ]
  },
  {
   "cell_type": "markdown",
   "metadata": {},
   "source": [
    "* 모든 숫자가 다형성 상수임을 보여주고 있음\n",
    "    * 모든 숫자는 [`Num`](https://hackage.haskell.org/package/base/docs/Prelude.html#t:Num) 클래스의 멤버 유형처럼 사용할 수 있음"
   ]
  },
  {
   "cell_type": "code",
   "execution_count": 52,
   "metadata": {
    "attributes": {
     "classes": [
      "haskell:",
      "ghci"
     ],
     "id": "",
     "name": "\"code\""
    }
   },
   "outputs": [
    {
     "data": {
      "text/plain": [
       "20"
      ]
     },
     "metadata": {},
     "output_type": "display_data"
    }
   ],
   "source": [
    "20 :: Int"
   ]
  },
  {
   "cell_type": "code",
   "execution_count": 53,
   "metadata": {
    "attributes": {
     "classes": [
      "haskell:",
      "ghci"
     ],
     "id": "",
     "name": "\"code\""
    }
   },
   "outputs": [
    {
     "data": {
      "text/plain": [
       "20"
      ]
     },
     "metadata": {},
     "output_type": "display_data"
    }
   ],
   "source": [
    "20 :: Integer"
   ]
  },
  {
   "cell_type": "code",
   "execution_count": 54,
   "metadata": {
    "attributes": {
     "classes": [
      "haskell:",
      "ghci"
     ],
     "id": "",
     "name": "\"code\""
    }
   },
   "outputs": [
    {
     "data": {
      "text/plain": [
       "20.0"
      ]
     },
     "metadata": {},
     "output_type": "display_data"
    }
   ],
   "source": [
    "20 :: Float"
   ]
  },
  {
   "cell_type": "code",
   "execution_count": 55,
   "metadata": {
    "attributes": {
     "classes": [
      "haskell:",
      "ghci"
     ],
     "id": "",
     "name": "\"code\""
    }
   },
   "outputs": [
    {
     "data": {
      "text/plain": [
       "20.0"
      ]
     },
     "metadata": {},
     "output_type": "display_data"
    }
   ],
   "source": [
    "20 :: Double"
   ]
  },
  {
   "cell_type": "markdown",
   "metadata": {},
   "source": [
    "* 위의 유형은 모두 [`Num`](https://hackage.haskell.org/package/base/docs/Prelude.html#t:Num) 클래스에 포함되어 있음.\n",
    "* [`*`](https://hackage.haskell.org/package/base/docs/Prelude.html#v:-42-)의 유형을 확인해보면, `*`이 모든 숫자를 받을 수 있다는 것을 확인 가능"
   ]
  },
  {
   "cell_type": "code",
   "execution_count": 56,
   "metadata": {
    "attributes": {
     "classes": [
      "haskell:",
      "ghci"
     ],
     "id": "",
     "name": "\"code\""
    }
   },
   "outputs": [
    {
     "data": {
      "text/html": [
       "<style>/* Styles used for the Hoogle display in the pager */\n",
       ".hoogle-doc {\n",
       "display: block;\n",
       "padding-bottom: 1.3em;\n",
       "padding-left: 0.4em;\n",
       "}\n",
       ".hoogle-code {\n",
       "display: block;\n",
       "font-family: monospace;\n",
       "white-space: pre;\n",
       "}\n",
       ".hoogle-text {\n",
       "display: block;\n",
       "}\n",
       ".hoogle-name {\n",
       "color: green;\n",
       "font-weight: bold;\n",
       "}\n",
       ".hoogle-head {\n",
       "font-weight: bold;\n",
       "}\n",
       ".hoogle-sub {\n",
       "display: block;\n",
       "margin-left: 0.4em;\n",
       "}\n",
       ".hoogle-package {\n",
       "font-weight: bold;\n",
       "font-style: italic;\n",
       "}\n",
       ".hoogle-module {\n",
       "font-weight: bold;\n",
       "}\n",
       ".hoogle-class {\n",
       "font-weight: bold;\n",
       "}\n",
       ".get-type {\n",
       "color: green;\n",
       "font-weight: bold;\n",
       "font-family: monospace;\n",
       "display: block;\n",
       "white-space: pre-wrap;\n",
       "}\n",
       ".show-type {\n",
       "color: green;\n",
       "font-weight: bold;\n",
       "font-family: monospace;\n",
       "margin-left: 1em;\n",
       "}\n",
       ".mono {\n",
       "font-family: monospace;\n",
       "display: block;\n",
       "}\n",
       ".err-msg {\n",
       "color: red;\n",
       "font-style: italic;\n",
       "font-family: monospace;\n",
       "white-space: pre;\n",
       "display: block;\n",
       "}\n",
       "#unshowable {\n",
       "color: red;\n",
       "font-weight: bold;\n",
       "}\n",
       ".err-msg.in.collapse {\n",
       "padding-top: 0.7em;\n",
       "}\n",
       ".highlight-code {\n",
       "white-space: pre;\n",
       "font-family: monospace;\n",
       "}\n",
       ".suggestion-warning { \n",
       "font-weight: bold;\n",
       "color: rgb(200, 130, 0);\n",
       "}\n",
       ".suggestion-error { \n",
       "font-weight: bold;\n",
       "color: red;\n",
       "}\n",
       ".suggestion-name {\n",
       "font-weight: bold;\n",
       "}\n",
       "</style><span class='get-type'>(*) :: forall a. Num a => a -> a -> a</span>"
      ],
      "text/plain": [
       "(*) :: forall a. Num a => a -> a -> a"
      ]
     },
     "metadata": {},
     "output_type": "display_data"
    }
   ],
   "source": [
    ":t (*)"
   ]
  },
  {
   "cell_type": "markdown",
   "metadata": {},
   "source": [
    "* `(5 :: Int) * (6 :: Integer)`를 실행하면 유형 오류가 발생\n",
    "    * 이유: `*`은 같은 유형의 두 숫자를 받아와 반환값으로 같은 유형의 숫자를 반환해줌\n",
    "\n",
    "\n",
    "* 반면에 `5 * (6 :: Integer)`는 잘 작동하며 [`Integer`](https://hackage.haskell.org/package/base/docs/Prelude.html#t:Integer) 유형으로 값을 반환\n",
    "    * 이유: `5`는 [`Integer`](https://hackage.haskell.org/package/base/docs/Prelude.html#t:Integer) 또는 [`Int`](https://hackage.haskell.org/package/base/docs/Prelude.html#t:Int)에서 모두 작동할 수 있기 때문\n",
    "\n",
    "\n",
    "* `Num`에 들어오기 위해서는 이미 [`Show`](https://hackage.haskell.org/package/base/docs/Prelude.html#t:Show)와 `Eq`에 포함되어 있어야 함. \n",
    "\n",
    "\n",
    "8. __[`Integral`](https://hackage.haskell.org/package/base/docs/Prelude.html#t:Integral)__\n",
    "    * 숫자형의 유형 클래스\n",
    "    * [`Num`](https://hackage.haskell.org/package/base/docs/Prelude.html#t:Num)이 모든 숫자(실수와 정수)를 포함하고 있다면, [`Integral`](https://hackage.haskell.org/package/base/docs/Prelude.html#t:Integral)은 정수만 포함\n",
    "    * 종류: [`Int`](https://hackage.haskell.org/package/base/docs/Prelude.html#t:Int), [`Integer`](https://hackage.haskell.org/package/base/docs/Prelude.html#t:Integer)\n",
    "\n",
    "\n",
    "9. __[`Floating`](https://hackage.haskell.org/package/base/docs/Prelude.html#t:Floating)__\n",
    "    * 부동 소수점 숫자만 포함하고 있는 유형 클래스\n",
    "    * 종류: [`Float`](https://hackage.haskell.org/package/base/docs/Prelude.html#t:Float), [`Double`](https://hackage.haskell.org/package/base/docs/Prelude.html#t:Double)\n",
    "\n",
    "### 2.3 숫자를 다루는 함수\n",
    "---\n",
    "* __[`fromIntegral`](https://hackage.haskell.org/package/base/docs/Prelude.html#v:fromIntegral)__: 숫자를 다루는데 유용한 함수\n",
    "    * `fromIntegral`의 유형 선언: `fromIntegral :: (Num b, Integral a) => a -> b`\n",
    "    * 정수를 받아와 일반적인 숫자로 반환해줌.\n",
    "    * 정수와 부동 소수점 유형이 동시에 원활하게 작동하길 원할 때 유용하게 사용\n",
    "        * 예를 들어, [`length`](https://hackage.haskell.org/package/base/docs/Prelude.html#v:length) 함수의 타입 선언은 더 일반적인 유형을 사용하는 `(Num b) => length :: [a] -> b` 대신에 `length :: [a] -> Int`를 사용.\n",
    "        \n",
    "    * 만약 리스트의 길이를 구하고, 길이에 `3.2`를 더하고자 한다면, 에러가 발생할 것\n",
    "        * 이유: [`Int`](https://hackage.haskell.org/package/base/docs/Prelude.html#t:Int)에 부동 소수점 숫자를 함께 추가하려고 했기 때문        \n",
    "        * 위 계산을 하고 싶다면, `fromIntegral (length [1,2,3,4]) + 3.2`로 실행하면 잘 작동함\n",
    "        \n",
    "    * [`fromIntegral`](https://hackage.haskell.org/package/base/docs/Prelude.html#v:fromIntegral)은 `fromIntegral`의 type signature에 몇 가지 클래스 제약을 가지고 있음\n",
    "        * 클래스 제약은 괄호 안에 콤마로 구분됨."
   ]
  }
 ],
 "metadata": {
  "kernelspec": {
   "display_name": "Haskell",
   "language": "haskell",
   "name": "haskell"
  },
  "language_info": {
   "codemirror_mode": "Haskell",
   "file_extension": ".hs",
   "mimetype": "text/x-haskell",
   "name": "haskell",
   "pygments_lexer": "Haskell",
   "version": "8.8.4"
  }
 },
 "nbformat": 4,
 "nbformat_minor": 4
}
