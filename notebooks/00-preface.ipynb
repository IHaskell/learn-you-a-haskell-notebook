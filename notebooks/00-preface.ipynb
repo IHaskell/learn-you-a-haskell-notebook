{
 "cells": [
  {
   "cell_type": "markdown",
   "metadata": {},
   "source": [
    "머리말\n",
    "===============================\n",
    "\n",
    "\"하스켈 프로프로그래밍 배우기\"는 '**프로그래밍, 수리논리, 수학은 하나다**' 라는 주제하에 진행되는 \n",
    "강좌 시리즈의 첫번째 강좌이다. \n",
    "하스켈 프로그래밍을 먼저 소개하는 이유는 다음과 같다.\n",
    "\n",
    "* 프로그래밍 기초 학습\n",
    "* 유형이론(type theory) 기초 활용\n",
    "* 수학과 프로그래밍의 연관성 소개\n",
    "\n",
    "다루는 내용은 \n",
    "[Creative Commons Attribution-Noncommercial-Share Alike 3.0 Unported License](https://creativecommons.org/licenses/by-nc-sa/3.0/deed.ko) 조건으로\n",
    "무료로 공개된 Miran Lipovača의\n",
    "[Learn You a Haskell for Great Good!](http://learnyouahaskell.com/)을\n",
    "기본으로 하면서 아래 자료를 참조한 내용을 담고 있다.\n",
    "\n",
    "* [A Gentle Introduction To Haskell](https://www.haskell.org/tutorial/)\n",
    "    * 저자: Paul Hudak, John Peterson, and Joseph Fasel\n",
    "* [Programming in Haskell](https://www.cambridge.org/core/books/programming-in-haskell/8FED82E807EF12D390DE0D16FDE217E4)\n",
    "    * 저자: Graham Hutton\n",
    "* [The Haskell Road to Logic, Maths and Programming](https://staff.fnwi.uva.nl/d.j.n.vaneijck2/HR/)\n",
    "    * 저자: Kees Doets and Jan van Eijck\n",
    "\n",
    "제공되는 주피터 노트북은 James Brock의 [learn-you-a-haskell-notebook](https://github.com/jamesdbrock/learn-you-a-haskell-notebook)을 \n",
    "포크(fork)한 것을 기본틀로 사용한다. "
   ]
  }
 ],
 "metadata": {
  "kernelspec": {
   "display_name": "Haskell",
   "language": "haskell",
   "name": "haskell"
  },
  "language_info": {
   "codemirror_mode": "Haskell",
   "file_extension": ".hs",
   "mimetype": "text/x-haskell",
   "name": "haskell",
   "pygments_lexer": "Haskell",
   "version": "8.8.4"
  }
 },
 "nbformat": 4,
 "nbformat_minor": 4
}
