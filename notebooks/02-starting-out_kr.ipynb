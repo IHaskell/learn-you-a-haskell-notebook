{
 "cells": [
  {
   "cell_type": "markdown",
   "metadata": {},
   "source": [
    "# 1장 하스켈 프로그래밍 시작하기"
   ]
  },
  {
   "cell_type": "markdown",
   "metadata": {},
   "source": [
    "주피터 노트북에서 가장 유용한 단축키 조합은 다음과 같음\n",
    "\n",
    "| Keyboard Command | Action |\n",
    "|-------------:|---------------|\n",
    "|<kbd>Shift</kbd>+<kbd>Enter</kbd> | 선택한 셀을 실행하고 다음 셀로 이동 |\n",
    "|<kbd>Ctrl</kbd>+<kbd>Enter</kbd> | 선택한 셀을 실행. 다음 셀로 이동하지 않음 |\n",
    "|<kbd>Alt</kbd>+<kbd>Enter</kbd> | 선택한 셀을 실행하고 선택한 셀 뒤에 새로운 셀 삽입 |\n",
    "|<kbd>Enter</kbd> | 선택한 셀 편집 |\n",
    "|<kbd>Ctrl</kbd>+<kbd>Shift</kbd>+<kbd>-</kbd> | 커서 위치에서 셀 분할 |\n",
    "\n",
    "* 코드 셀을 실행시키면 셀 아래에 결과가 출력\n",
    "* 모든 가능한 단축키 조합은 <kbd>H</kbd>를 누르면 확인 가능"
   ]
  },
  {
   "cell_type": "markdown",
   "metadata": {},
   "source": [
    "__참고:__ 린팅(linting) 기능 끄기\n",
    "\n",
    "* 린팅(linting): IHaskell에서 HLint라고 불리는 린터(linter)에 의해 보다 적절하다고 판단하는 표현식을 제안하는 기능\n",
    "* 보다 세련된 표현식(expression)을 제안하는 도구임. 하지만 교육적으로 반드시 필요한 기능은 아님.\n",
    "* 린팅 기능을 켰을 때와 껐을 때를 비교해보면 차이점을 알 수 있음.\n",
    "* 참고: [IHaskell의 린팅 기능 설정하기](https://github.com/gibiansky/IHaskell/wiki#opt-no-lint)"
   ]
  },
  {
   "cell_type": "code",
   "execution_count": 1,
   "metadata": {
    "attributes": {
     "classes": [
      "haskell:",
      "ghci"
     ],
     "id": "",
     "name": "\"code\""
    }
   },
   "outputs": [],
   "source": [
    ":opt no-lint"
   ]
  },
  {
   "cell_type": "markdown",
   "metadata": {},
   "source": [
    "## 1.1 간단한 연산"
   ]
  },
  {
   "cell_type": "markdown",
   "metadata": {},
   "source": [
    "### 사칙연산 "
   ]
  },
  {
   "cell_type": "code",
   "execution_count": 2,
   "metadata": {
    "attributes": {
     "classes": [
      "haskell:",
      "ghci"
     ],
     "id": "",
     "name": "\"code\""
    }
   },
   "outputs": [
    {
     "data": {
      "text/plain": [
       "17"
      ]
     },
     "metadata": {},
     "output_type": "display_data"
    }
   ],
   "source": [
    "2 + 15"
   ]
  },
  {
   "cell_type": "code",
   "execution_count": 3,
   "metadata": {
    "attributes": {
     "classes": [
      "haskell:",
      "ghci"
     ],
     "id": "",
     "name": "\"code\""
    }
   },
   "outputs": [
    {
     "data": {
      "text/plain": [
       "4900"
      ]
     },
     "metadata": {},
     "output_type": "display_data"
    }
   ],
   "source": [
    "49 * 100"
   ]
  },
  {
   "cell_type": "code",
   "execution_count": 4,
   "metadata": {
    "attributes": {
     "classes": [
      "haskell:",
      "ghci"
     ],
     "id": "",
     "name": "\"code\""
    }
   },
   "outputs": [
    {
     "data": {
      "text/plain": [
       "420"
      ]
     },
     "metadata": {},
     "output_type": "display_data"
    }
   ],
   "source": [
    "1892 - 1472"
   ]
  },
  {
   "cell_type": "code",
   "execution_count": 5,
   "metadata": {
    "attributes": {
     "classes": [
      "haskell:",
      "ghci"
     ],
     "id": "",
     "name": "\"code\""
    }
   },
   "outputs": [
    {
     "data": {
      "text/plain": [
       "2.5"
      ]
     },
     "metadata": {},
     "output_type": "display_data"
    }
   ],
   "source": [
    "5 / 2"
   ]
  },
  {
   "cell_type": "markdown",
   "metadata": {},
   "source": [
    "일반적으로 알려진 연산자 우선순위를 적용함."
   ]
  },
  {
   "cell_type": "code",
   "execution_count": 6,
   "metadata": {
    "attributes": {
     "classes": [
      "haskell:",
      "ghci"
     ],
     "id": "",
     "name": "\"code\""
    }
   },
   "outputs": [
    {
     "data": {
      "text/plain": [
       "1"
      ]
     },
     "metadata": {},
     "output_type": "display_data"
    }
   ],
   "source": [
    "(50 * 100) - 4999"
   ]
  },
  {
   "cell_type": "code",
   "execution_count": 7,
   "metadata": {
    "attributes": {
     "classes": [
      "haskell:",
      "ghci"
     ],
     "id": "",
     "name": "\"code\""
    }
   },
   "outputs": [
    {
     "data": {
      "text/plain": [
       "1"
      ]
     },
     "metadata": {},
     "output_type": "display_data"
    }
   ],
   "source": [
    "50 * 100 - 4999"
   ]
  },
  {
   "cell_type": "code",
   "execution_count": 8,
   "metadata": {
    "attributes": {
     "classes": [
      "haskell:",
      "ghci"
     ],
     "id": "",
     "name": "\"code\""
    }
   },
   "outputs": [
    {
     "data": {
      "text/plain": [
       "-244950"
      ]
     },
     "metadata": {},
     "output_type": "display_data"
    }
   ],
   "source": [
    "50 * (100 - 4999)"
   ]
  },
  {
   "cell_type": "markdown",
   "metadata": {},
   "source": [
    "__주의사항__ \n",
    "\n",
    "* 음수를 사용할 때 괄호로 묶어 주어야 함. \n",
    "* 예를 들어, `5 * -3`를 실행하면 오류 발생. 반면에 `5 * (-3)`는 적절하게 실행됨."
   ]
  },
  {
   "cell_type": "markdown",
   "metadata": {},
   "source": [
    "### 부울 연산"
   ]
  },
  {
   "cell_type": "markdown",
   "metadata": {},
   "source": [
    "부울대수 연산도 일반적으로 알려진대로 사용하며 부울 연산자는 다음과 같음:\n",
    "\n",
    "| Keyboard Command | Action |\n",
    "|-------------:|---------------|\n",
    "| [`&&`](https://hackage.haskell.org/package/base/docs/Prelude.html#v:-38--38-) | 그리고(and)|\n",
    "| [<code>&#124;&#124;</code>](https://hackage.haskell.org/package/base/docs/Prelude.html#v:-124--124-) | 또는(or) |\n",
    "| [`not`](https://hackage.haskell.org/package/base/docs/Prelude.html#v:not) | [`True`](https://hackage.haskell.org/package/base/docs/Prelude.html#v:True) 또는 [`False`](https://hackage.haskell.org/package/base/docs/Prelude.html#v:False) 부정하기|"
   ]
  },
  {
   "cell_type": "code",
   "execution_count": 9,
   "metadata": {
    "attributes": {
     "classes": [
      "haskell:",
      "ghci"
     ],
     "id": "",
     "name": "\"code\""
    }
   },
   "outputs": [
    {
     "data": {
      "text/plain": [
       "False"
      ]
     },
     "metadata": {},
     "output_type": "display_data"
    }
   ],
   "source": [
    "True && False"
   ]
  },
  {
   "cell_type": "code",
   "execution_count": 10,
   "metadata": {
    "attributes": {
     "classes": [
      "haskell:",
      "ghci"
     ],
     "id": "",
     "name": "\"code\""
    }
   },
   "outputs": [
    {
     "data": {
      "text/plain": [
       "True"
      ]
     },
     "metadata": {},
     "output_type": "display_data"
    }
   ],
   "source": [
    "True && True"
   ]
  },
  {
   "cell_type": "code",
   "execution_count": 11,
   "metadata": {
    "attributes": {
     "classes": [
      "haskell:",
      "ghci"
     ],
     "id": "",
     "name": "\"code\""
    }
   },
   "outputs": [
    {
     "data": {
      "text/plain": [
       "True"
      ]
     },
     "metadata": {},
     "output_type": "display_data"
    }
   ],
   "source": [
    "False || True"
   ]
  },
  {
   "cell_type": "code",
   "execution_count": 12,
   "metadata": {
    "attributes": {
     "classes": [
      "haskell:",
      "ghci"
     ],
     "id": "",
     "name": "\"code\""
    }
   },
   "outputs": [
    {
     "data": {
      "text/plain": [
       "True"
      ]
     },
     "metadata": {},
     "output_type": "display_data"
    }
   ],
   "source": [
    "not False"
   ]
  },
  {
   "cell_type": "code",
   "execution_count": 13,
   "metadata": {
    "attributes": {
     "classes": [
      "haskell:",
      "ghci"
     ],
     "id": "",
     "name": "\"code\""
    }
   },
   "outputs": [
    {
     "data": {
      "text/plain": [
       "False"
      ]
     },
     "metadata": {},
     "output_type": "display_data"
    }
   ],
   "source": [
    "not (True && True)"
   ]
  },
  {
   "cell_type": "markdown",
   "metadata": {},
   "source": [
    "### 등가성 판단(Equality Test)"
   ]
  },
  {
   "cell_type": "markdown",
   "metadata": {},
   "source": [
    "주어진 표현식 두 개가 동일한 값을 의미하는 가를 판단하기 위해 기호 `==`와 `/=`를 사용함."
   ]
  },
  {
   "cell_type": "code",
   "execution_count": 14,
   "metadata": {
    "attributes": {
     "classes": [
      "haskell:",
      "ghci"
     ],
     "id": "",
     "name": "\"code\""
    }
   },
   "outputs": [
    {
     "data": {
      "text/plain": [
       "True"
      ]
     },
     "metadata": {},
     "output_type": "display_data"
    }
   ],
   "source": [
    "5 == 5"
   ]
  },
  {
   "cell_type": "code",
   "execution_count": 15,
   "metadata": {
    "attributes": {
     "classes": [
      "haskell:",
      "ghci"
     ],
     "id": "",
     "name": "\"code\""
    }
   },
   "outputs": [
    {
     "data": {
      "text/plain": [
       "True"
      ]
     },
     "metadata": {},
     "output_type": "display_data"
    }
   ],
   "source": [
    "2 + 3 == 5"
   ]
  },
  {
   "cell_type": "code",
   "execution_count": 16,
   "metadata": {
    "attributes": {
     "classes": [
      "haskell:",
      "ghci"
     ],
     "id": "",
     "name": "\"code\""
    }
   },
   "outputs": [
    {
     "data": {
      "text/plain": [
       "False"
      ]
     },
     "metadata": {},
     "output_type": "display_data"
    }
   ],
   "source": [
    "1 == 0"
   ]
  },
  {
   "cell_type": "code",
   "execution_count": 17,
   "metadata": {
    "attributes": {
     "classes": [
      "haskell:",
      "ghci"
     ],
     "id": "",
     "name": "\"code\""
    }
   },
   "outputs": [
    {
     "data": {
      "text/plain": [
       "False"
      ]
     },
     "metadata": {},
     "output_type": "display_data"
    }
   ],
   "source": [
    "5 /= 3 + 2"
   ]
  },
  {
   "cell_type": "code",
   "execution_count": 18,
   "metadata": {
    "attributes": {
     "classes": [
      "haskell:",
      "ghci"
     ],
     "id": "",
     "name": "\"code\""
    }
   },
   "outputs": [
    {
     "data": {
      "text/plain": [
       "True"
      ]
     },
     "metadata": {},
     "output_type": "display_data"
    }
   ],
   "source": [
    "5 /= 4"
   ]
  },
  {
   "cell_type": "code",
   "execution_count": 19,
   "metadata": {
    "attributes": {
     "classes": [
      "haskell:",
      "ghci"
     ],
     "id": "",
     "name": "\"code\""
    }
   },
   "outputs": [
    {
     "data": {
      "text/plain": [
       "True"
      ]
     },
     "metadata": {},
     "output_type": "display_data"
    }
   ],
   "source": [
    "\"hello\" == \"hello\""
   ]
  },
  {
   "cell_type": "markdown",
   "metadata": {},
   "source": [
    "__주의사항__\n",
    "\n",
    "* 연산에 사용되는 값들의 유형(type)에 주의해야 함.\n",
    "* 예를 들어, `5 + \"llama\"` 혹은 `5 == True`를 실행하면 오류 발생"
   ]
  },
  {
   "cell_type": "code",
   "execution_count": 20,
   "metadata": {
    "attributes": {
     "classes": [
      "haskell:",
      "ghci"
     ],
     "id": "",
     "name": "\"code\""
    }
   },
   "outputs": [
    {
     "ename": "",
     "evalue": "",
     "output_type": "error",
     "traceback": [
      "<interactive>:1:1: error:\n    • No instance for (Num String) arising from a use of ‘+’\n    • In the expression: 5 + \"llama\"\n      In an equation for ‘it’: it = 5 + \"llama\""
     ]
    }
   ],
   "source": [
    "5 + \"llama\""
   ]
  },
  {
   "cell_type": "code",
   "execution_count": 21,
   "metadata": {
    "attributes": {
     "classes": [
      "haskell:",
      "ghci"
     ],
     "id": "",
     "name": "\"code\""
    }
   },
   "outputs": [
    {
     "ename": "",
     "evalue": "",
     "output_type": "error",
     "traceback": [
      "<interactive>:1:1: error:\n    • No instance for (Num String) arising from the literal ‘5’\n    • In the first argument of ‘(==)’, namely ‘5’\n      In the expression: 5 == \"llama\"\n      In an equation for ‘it’: it = 5 == \"llama\""
     ]
    }
   ],
   "source": [
    "5 == \"llama\""
   ]
  },
  {
   "cell_type": "markdown",
   "metadata": {},
   "source": [
    "* 이유: 하스켈 컴파일러(GHC)는 숫자 5와 문자열 `\"llama\"`를 서로 더하거나 등가성 판단을 위해 비교할 수 없기 때문. \n",
    "    * [`+`](https://hackage.haskell.org/package/base/docs/Prelude.html#v:-43-)는동일한 유형(type)을 갖는 값들만 더할 수 있음. \n",
    "    * [`==`](https://hackage.haskell.org/package/base/docs/Prelude.html#v:-61--61-)는 동일한 유형(type)을 갖는 값들만을 대상으로 등가성을 판단할 수 있음. \n",
    "\n",
    "* 유형(type)에 대해서는 이후에 자세히 다룸.\n",
    "\n",
    "* 반면에 `5 + 4.0`는 계산 가능\n",
    "    * `5`는 문맥에 따라 정수 또는 부동소수점으로 취급되지만, `4.0` 은 정수로 간주될 수 없기에 `9.0`으로 계산됨."
   ]
  },
  {
   "cell_type": "code",
   "execution_count": 22,
   "metadata": {},
   "outputs": [
    {
     "data": {
      "text/plain": [
       "9.0"
      ]
     },
     "metadata": {},
     "output_type": "display_data"
    }
   ],
   "source": [
    "5 + 4.0"
   ]
  },
  {
   "cell_type": "markdown",
   "metadata": {},
   "source": [
    "## 1.2 함수"
   ]
  },
  {
   "cell_type": "markdown",
   "metadata": {},
   "source": [
    "### 함수 호출"
   ]
  },
  {
   "cell_type": "markdown",
   "metadata": {},
   "source": [
    "앞서 살펴 본 연산은 모두 함수를 사용하였음.\n",
    "\n",
    "* 예를 들어, [`*`](https://hackage.haskell.org/package/base/docs/Prelude.html#v:-42-)은 \n",
    "    두 개의 숫자를 받아 두 수의 곱을 반환해주는 함수. \n",
    "* `+`처럼 인자를 양쪽에 표현하는 함수를 __중위 함수__ 라 부름.\n",
    "    반면에 함수 이름 다음에 인자를 사용하면 __전위 함수__ 라 부름.\n",
    "    일반적으로 전위 함수를 사용함."
   ]
  },
  {
   "cell_type": "markdown",
   "metadata": {},
   "source": [
    "__주의사항:__ 전위 함수 사용법\n",
    "\n",
    "* 대부분의 명령형 언어에서 함수는 함수 이름을 작성한 후 괄호 안에 \n",
    "    매개변수 또는 인자를 쉼표로 구분해 작성한 후 호출\n",
    "    \n",
    "    * 예제: `foo()`, `bar(1)`, `baz(3, \"haha\")`, `bar(bar(3))`\n",
    "\n",
    "* 하스켈에서는, 함수 이름을 적고 공백을 두고 \n",
    "    매개변수 또는 인자를 작성. 각각의 매개변수는 공백으로 구분\n",
    "    \n",
    "    * 예제: `foo `, `bar 1`, `baz 3 \"haha\"`, `bar (bar 3)`\n",
    "    * `bar (bar 3)` 의 경우 반드시 괄호를 사용해야 함. \n",
    "        그렇지 않으면 `bar` 가 하나가 아닌 두 개의 인자를 받는 것으로 인식되어 오류 발생함."
   ]
  },
  {
   "cell_type": "markdown",
   "metadata": {},
   "source": [
    "예를 들어, `+1`에 해당하는 함수인 `succ`의 사용법은 다음과 같음. \n",
    "* `8` 은 `succ` 함수가 기대하는 하나의 인자이기에 공백으로 구분되었음. "
   ]
  },
  {
   "cell_type": "code",
   "execution_count": 23,
   "metadata": {
    "attributes": {
     "classes": [
      "haskell:",
      "ghci"
     ],
     "id": "",
     "name": "\"code\""
    }
   },
   "outputs": [
    {
     "data": {
      "text/plain": [
       "9"
      ]
     },
     "metadata": {},
     "output_type": "display_data"
    }
   ],
   "source": [
    "succ 8"
   ]
  },
  {
   "cell_type": "markdown",
   "metadata": {},
   "source": [
    "여러 파라미터를 사용하는 함수를 호출하는 것도 간단함.\n",
    "\n",
    "* [`min`](https://hackage.haskell.org/package/base/docs/Prelude.html#v:min), \n",
    "    [`max`](https://hackage.haskell.org/package/base/docs/Prelude.html#v:max) \n",
    "    함수는 숫자처럼 순서대로 나열할 수 있는 두 개의 값을 인자로 사용\n",
    "    * `min x y`: `x`와 `y` 중에서 더 작은 것을 되돌려줌\n",
    "    * `max x y`: `x`와 `y` 중에서 더 큰 것을 되돌려줌"
   ]
  },
  {
   "cell_type": "code",
   "execution_count": 24,
   "metadata": {
    "attributes": {
     "classes": [
      "haskell:",
      "ghci"
     ],
     "id": "",
     "name": "\"code\""
    }
   },
   "outputs": [
    {
     "data": {
      "text/plain": [
       "9"
      ]
     },
     "metadata": {},
     "output_type": "display_data"
    }
   ],
   "source": [
    "min 9 10"
   ]
  },
  {
   "cell_type": "code",
   "execution_count": 25,
   "metadata": {
    "attributes": {
     "classes": [
      "haskell:",
      "ghci"
     ],
     "id": "",
     "name": "\"code\""
    }
   },
   "outputs": [
    {
     "data": {
      "text/plain": [
       "3.2"
      ]
     },
     "metadata": {},
     "output_type": "display_data"
    }
   ],
   "source": [
    "min 3.4 3.2"
   ]
  },
  {
   "cell_type": "code",
   "execution_count": 26,
   "metadata": {
    "attributes": {
     "classes": [
      "haskell:",
      "ghci"
     ],
     "id": "",
     "name": "\"code\""
    }
   },
   "outputs": [
    {
     "data": {
      "text/plain": [
       "101"
      ]
     },
     "metadata": {},
     "output_type": "display_data"
    }
   ],
   "source": [
    "max 100 101"
   ]
  },
  {
   "cell_type": "markdown",
   "metadata": {},
   "source": [
    "함수에 인자를 적용하는 것이 가장 높은 우선순위를 가짐. \n",
    "예를 들어, 아래의 두 표현식은 동일한 결과를 가리킴."
   ]
  },
  {
   "cell_type": "code",
   "execution_count": 27,
   "metadata": {
    "attributes": {
     "classes": [
      "haskell:",
      "ghci"
     ],
     "id": "",
     "name": "\"code\""
    }
   },
   "outputs": [
    {
     "data": {
      "text/plain": [
       "16"
      ]
     },
     "metadata": {},
     "output_type": "display_data"
    }
   ],
   "source": [
    "succ 9 + max 5 4 + 1"
   ]
  },
  {
   "cell_type": "code",
   "execution_count": 28,
   "metadata": {
    "attributes": {
     "classes": [
      "haskell:",
      "ghci"
     ],
     "id": "",
     "name": "\"code\""
    }
   },
   "outputs": [
    {
     "data": {
      "text/plain": [
       "16"
      ]
     },
     "metadata": {},
     "output_type": "display_data"
    }
   ],
   "source": [
    "(succ 9) + (max 5 4) + 1"
   ]
  },
  {
   "cell_type": "markdown",
   "metadata": {},
   "source": [
    "`9x10`의 다음 숫자를 알고싶다면, `succ 9 * 10`로 입력하면 안됨.\n",
    "* `succ 9 * 10` 코드는 9의 다음 숫자를 먼저 가져오고 그 다음 곱셈을 수행하기 때문에 10x10이 계산되어 100을 반환\n",
    "* 91을 얻기 위해서는 `succ (9 * 10)`로 작성해야함."
   ]
  },
  {
   "cell_type": "code",
   "execution_count": 29,
   "metadata": {},
   "outputs": [
    {
     "data": {
      "text/plain": [
       "100"
      ]
     },
     "metadata": {},
     "output_type": "display_data"
    }
   ],
   "source": [
    "succ 9 * 10"
   ]
  },
  {
   "cell_type": "code",
   "execution_count": 30,
   "metadata": {},
   "outputs": [
    {
     "data": {
      "text/plain": [
       "91"
      ]
     },
     "metadata": {},
     "output_type": "display_data"
    }
   ],
   "source": [
    "succ (9 * 10)"
   ]
  },
  {
   "cell_type": "markdown",
   "metadata": {},
   "source": [
    "두 개의 인자를 받는 전위 함수를 역따옴표로 감싸서 중위 함수로 사용할 수 있음.\n",
    "\n",
    "* 예를 들어, [`div`](https://hackage.haskell.org/package/base/docs/Prelude.html#v:div) 함수는 \n",
    "    두 개의 정수를 받아와 정수 사이의 나눗셈을 계산해줌.\n",
    "* `div 92 10`의 계산 결과는 9. \n",
    "    하지만 이렇게 호출하면, 어떤 숫자가 나누는 숫자인지, 나눠지는 숫자인지 혼란이 있을 수 있음. \n",
    "    그래서 이 식을 더 명확하게 하기 위해 다음과 같이 호출할 수 있음."
   ]
  },
  {
   "cell_type": "code",
   "execution_count": 31,
   "metadata": {},
   "outputs": [
    {
     "data": {
      "text/plain": [
       "9"
      ]
     },
     "metadata": {},
     "output_type": "display_data"
    }
   ],
   "source": [
    "92 `div` 10"
   ]
  },
  {
   "cell_type": "markdown",
   "metadata": {},
   "source": [
    "### 함수 정의"
   ]
  },
  {
   "cell_type": "markdown",
   "metadata": {},
   "source": [
    "함수를 호출하는 방법과 유사한 방식으로 함수를 정의함. \n",
    "* 함수 이름 뒤에 공백으로 구분된 매개변수 나열\n",
    "* 등호 기호 `=` 왼편에 함수의 기능 지정"
   ]
  },
  {
   "cell_type": "markdown",
   "metadata": {},
   "source": [
    "하나의 인자를 받는 함수 정의하는 방법은 다음과 같음."
   ]
  },
  {
   "cell_type": "code",
   "execution_count": 32,
   "metadata": {
    "attributes": {
     "classes": [
      "haskell:",
      "hs"
     ],
     "id": "",
     "name": "\"code\""
    }
   },
   "outputs": [],
   "source": [
    "doubleMe x = x + x"
   ]
  },
  {
   "cell_type": "markdown",
   "metadata": {},
   "source": [
    "지정된 매개변수의 수만큼 인자를 사용하여 함수를 호출하면 됨."
   ]
  },
  {
   "cell_type": "code",
   "execution_count": 33,
   "metadata": {
    "attributes": {
     "classes": [
      "haskell:",
      "ghci"
     ],
     "id": "",
     "name": "\"code\""
    }
   },
   "outputs": [
    {
     "data": {
      "text/plain": [
       "18"
      ]
     },
     "metadata": {},
     "output_type": "display_data"
    }
   ],
   "source": [
    "doubleMe 9"
   ]
  },
  {
   "cell_type": "markdown",
   "metadata": {},
   "source": [
    "`+`는 정수 뿐만 아니라 부동소수점 등 숫자로 볼 수 있는 모든 값에 대해 \n",
    "적용할 수 있기에 부동소수점을 `doubleMe` 함수에 적용할 수 있음."
   ]
  },
  {
   "cell_type": "code",
   "execution_count": 34,
   "metadata": {
    "attributes": {
     "classes": [
      "haskell:",
      "ghci"
     ],
     "id": "",
     "name": "\"code\""
    }
   },
   "outputs": [
    {
     "data": {
      "text/plain": [
       "16.6"
      ]
     },
     "metadata": {},
     "output_type": "display_data"
    }
   ],
   "source": [
    "doubleMe 8.3"
   ]
  },
  {
   "cell_type": "markdown",
   "metadata": {},
   "source": [
    "두 개의 숫자를 인자로 받아 두 숫자의 2배수의 합을 계산하는 함수는 다음과 같이 정의함."
   ]
  },
  {
   "cell_type": "code",
   "execution_count": 35,
   "metadata": {
    "attributes": {
     "classes": [
      "haskell:",
      "hs"
     ],
     "id": "",
     "name": "\"code\""
    }
   },
   "outputs": [],
   "source": [
    "doubleUs x y = x*2 + y*2"
   ]
  },
  {
   "cell_type": "code",
   "execution_count": 36,
   "metadata": {
    "attributes": {
     "classes": [
      "haskell:",
      "ghci"
     ],
     "id": "",
     "name": "\"code\""
    }
   },
   "outputs": [
    {
     "data": {
      "text/plain": [
       "26"
      ]
     },
     "metadata": {},
     "output_type": "display_data"
    }
   ],
   "source": [
    "doubleUs 4 9"
   ]
  },
  {
   "cell_type": "code",
   "execution_count": 37,
   "metadata": {
    "attributes": {
     "classes": [
      "haskell:",
      "ghci"
     ],
     "id": "",
     "name": "\"code\""
    }
   },
   "outputs": [
    {
     "data": {
      "text/plain": [
       "73.0"
      ]
     },
     "metadata": {},
     "output_type": "display_data"
    }
   ],
   "source": [
    "doubleUs 2.3 34.2"
   ]
  },
  {
   "cell_type": "code",
   "execution_count": 38,
   "metadata": {
    "attributes": {
     "classes": [
      "haskell:",
      "ghci"
     ],
     "id": "",
     "name": "\"code\""
    }
   },
   "outputs": [
    {
     "data": {
      "text/plain": [
       "478"
      ]
     },
     "metadata": {},
     "output_type": "display_data"
    }
   ],
   "source": [
    "doubleUs 28 88 + doubleMe 123"
   ]
  },
  {
   "cell_type": "markdown",
   "metadata": {},
   "source": [
    "새로운 함수를 정의할 때, 이전에 만들어둔 함수를 이용해 정의할 수 있음.\n",
    "따라서 `doubleUs`를 아래처럼 재정의할 수 있음."
   ]
  },
  {
   "cell_type": "code",
   "execution_count": 39,
   "metadata": {
    "attributes": {
     "classes": [
      "haskell:",
      "hs"
     ],
     "id": "",
     "name": "\"code\""
    }
   },
   "outputs": [],
   "source": [
    "doubleUs x y = doubleMe x + doubleMe y"
   ]
  },
  {
   "cell_type": "markdown",
   "metadata": {},
   "source": [
    "즉, 간단한 기능을 수행하는 함수들을 먼저 정의한 후, \n",
    "그 함수들을 결합하여 보다 복잡한 기능을 수행하는 함수를 만드는 전형적인 방식을 보여줌.\n",
    "\n",
    "* 이런 식으로 하면 코드의 반복을 피할 수 있음.\n",
    "* 예를 들어, 인자들의 2배수의 합이 아닌 3배수의 합을 구하고자 할 때\n",
    "    `doubleMe`는 `x + x + x`로 재정의하면 `doubleUs`는 굳이 수정할 필요 없음."
   ]
  },
  {
   "cell_type": "code",
   "execution_count": 40,
   "metadata": {
    "attributes": {
     "classes": [
      "haskell:",
      "hs"
     ],
     "id": "",
     "name": "\"code\""
    }
   },
   "outputs": [],
   "source": [
    "doubleMe x = x*3"
   ]
  },
  {
   "cell_type": "code",
   "execution_count": 41,
   "metadata": {
    "attributes": {
     "classes": [
      "haskell:",
      "hs"
     ],
     "id": "",
     "name": "\"code\""
    }
   },
   "outputs": [],
   "source": [
    "doubleUs x y = doubleMe x + doubleMe y"
   ]
  },
  {
   "cell_type": "code",
   "execution_count": 42,
   "metadata": {},
   "outputs": [
    {
     "data": {
      "text/plain": [
       "15"
      ]
     },
     "metadata": {},
     "output_type": "display_data"
    }
   ],
   "source": [
    "doubleUs 2 3"
   ]
  },
  {
   "cell_type": "markdown",
   "metadata": {},
   "source": [
    "__주의사항__\n",
    "\n",
    "* 확장자가 `hs`인 하스켈 소스코드 파일을 작성한 후 컴파일하여 코드를 실행하는 경우 \n",
    "    함수를 정의하는 순서는 아무 상관 없음.\n",
    "    * 예를 들어, \n",
    "    `doubleUs`를 먼저 정의한 후에 `doubleMe`를 나중에 정의해도 됨.\n",
    "* 하지만 주피터 노트북에서는 경우에 따라 순서가 중요할 수 있음.\n",
    "    예를 들어 아래와 같이 하나의 셀에서 정의되는 경우 순서가 중요하지 않음."
   ]
  },
  {
   "cell_type": "code",
   "execution_count": 43,
   "metadata": {
    "attributes": {
     "classes": [
      "haskell:",
      "hs"
     ],
     "id": "",
     "name": "\"code\""
    }
   },
   "outputs": [
    {
     "data": {
      "text/plain": [
       "15"
      ]
     },
     "metadata": {},
     "output_type": "display_data"
    }
   ],
   "source": [
    "doubleUs' x y = doubleMe' x + doubleMe' y\n",
    "doubleMe' x = x*3\n",
    "doubleUs' 2 3"
   ]
  },
  {
   "cell_type": "markdown",
   "metadata": {},
   "source": [
    "* 반면에 서로 다른 코드셀에서 여러 함수를 작성할 경우 아래와 같이\n",
    "    아지 정의되지 않은 함수를 사용하면 오류 발생"
   ]
  },
  {
   "cell_type": "code",
   "execution_count": 44,
   "metadata": {
    "attributes": {
     "classes": [
      "haskell:",
      "hs"
     ],
     "id": "",
     "name": "\"code\""
    }
   },
   "outputs": [
    {
     "ename": "",
     "evalue": "",
     "output_type": "error",
     "traceback": [
      "<interactive>:1:24: error:\n    • Variable not in scope: undefineDoubleMe :: t -> a\n    • Perhaps you meant ‘undefineDoubleUs’ (line 1)\n<interactive>:1:45: error:\n    • Variable not in scope: undefineDoubleMe :: t1 -> a\n    • Perhaps you meant ‘undefineDoubleUs’ (line 1)"
     ]
    }
   ],
   "source": [
    "undefineDoubleUs x y = undefineDoubleMe x + undefineDoubleMe y"
   ]
  },
  {
   "cell_type": "markdown",
   "metadata": {},
   "source": [
    "### if 표현식"
   ]
  },
  {
   "cell_type": "markdown",
   "metadata": {},
   "source": [
    "100보다 크지 않은 수에 대해서만 2배수를 계산하는 함수는 다음과 같음.\n",
    "\n",
    "* if 표현식을 한 줄로 표현할 수 있지만, 아래에서처럼 여러 줄로 표현하는 것이 가독성을 높혀줌."
   ]
  },
  {
   "cell_type": "code",
   "execution_count": 45,
   "metadata": {
    "attributes": {
     "classes": [
      "haskell:",
      "hs"
     ],
     "id": "",
     "name": "\"code\""
    }
   },
   "outputs": [],
   "source": [
    "doubleSmallNumber x = if x > 100 \n",
    "                        then x \n",
    "                        else x*2"
   ]
  },
  {
   "cell_type": "markdown",
   "metadata": {},
   "source": [
    "__주의사항__\n",
    "\n",
    "* C, Java, 파이썬 등 명령형 언어에서 `if` 는 명령문(command)을 작성할 때 사용됨.\n",
    "    * 하스켈 명령문은 조금 나중에 다룰 것임. 9장 참조.\n",
    "    \n",
    "* 반면에 하스켈의 if문은 명령문이 아니라 값을 나타내는 __표현식__(statement)임.\n",
    "    * 따라서 `else`가 필수임. 그렇지 않으면 `if` 조건이 성립하지 않는 경우 값이 정해지지 않는 표현식이 되어 무의미하게 됨."
   ]
  },
  {
   "cell_type": "markdown",
   "metadata": {},
   "source": [
    "__참고: 표현식__\n",
    "\n",
    "* 표현식(expression)은 기본적으로 값을 반환하는 코드 조각임. \n",
    "    `5`는 5를, `4 + 8`은 12를, `x + y`는 `x`와 `y`의 합을 반환하는 표현식임.\n",
    "\n",
    "* 표현식에 대한 보다 자세한 설명은 이후에 조금씩 이루어질 것임."
   ]
  },
  {
   "cell_type": "markdown",
   "metadata": {},
   "source": [
    "만약 위의 함수에서 생성된 모든 숫자에 1을 더하고 싶다면, 아래의 코드처럼 괄호를 사용해야 함.\n",
    "\n",
    "* 괄호를 생략하면, `x`가 100보다 크지 않을 경우에만 1을 더해줌."
   ]
  },
  {
   "cell_type": "code",
   "execution_count": 46,
   "metadata": {
    "attributes": {
     "classes": [
      "haskell:",
      "hs"
     ],
     "id": "",
     "name": "\"code\""
    }
   },
   "outputs": [],
   "source": [
    "doubleSmallNumber' x = (if x > 100 then x else x*2) + 1"
   ]
  },
  {
   "cell_type": "markdown",
   "metadata": {},
   "source": [
    "__참고: 아포스트로피(`'`)__\n",
    "\n",
    "아포스트로피(`'`)는 하나의 유효한 문자이며, 함수 또는 매개변수 이름의 끝에 사용할 경우 기존에 정의된 함수를 조금 수정한 함수임을 암시함.\n",
    "물론 이름 중간에 임의로 사용할 수도 있음. 단, 아포스트로피로 시작할 수는 없음."
   ]
  },
  {
   "cell_type": "code",
   "execution_count": 47,
   "metadata": {
    "attributes": {
     "classes": [
      "haskell:",
      "hs"
     ],
     "id": "",
     "name": "\"code\""
    }
   },
   "outputs": [],
   "source": [
    "conanO'Brien = \"It's a-me, Conan O'Brien!\""
   ]
  },
  {
   "cell_type": "markdown",
   "metadata": {},
   "source": [
    "__주의사항__\n",
    "\n",
    "* 위 함수의 이름에서 Conan의 이름을 소문자로 시작하였음. 이유는 함수는 무조건 소문자로 시작해야 하기 때문임.\n",
    "* `conanO'Brien`은 C, 자바, 파이썬 등 명령형 프로그래밍언어에서 지원하는 __변수가 아님__. \n",
    "    대신에 아무런 인자도 받지 않는 함수를 나타냄. \n",
    "    즉, 함수 이름은 `conanO'Brien`, 반환하는 값은 `\"It's a-me, Conan O'Brien!\"`이 되는 함수를 표현함."
   ]
  },
  {
   "cell_type": "markdown",
   "metadata": {},
   "source": [
    "## 1.3 리스트, 문자열, 리스트 조건 제시법"
   ]
  },
  {
   "cell_type": "markdown",
   "metadata": {},
   "source": [
    "리스트는 하스켈에서 가장 많이 사용되는 데이터 구조이며 수많은 문제를 모델링하고 해결하기 위해 다양한 방법으로 사용될 수 있음.\n",
    "아래에서 리스트, 문자열, 리스트 조건 제시법의 기본 활용법을 살펴보고자 함."
   ]
  },
  {
   "cell_type": "markdown",
   "metadata": {},
   "source": [
    "### 리스트"
   ]
  },
  {
   "cell_type": "markdown",
   "metadata": {},
   "source": [
    "하스켈에서 리스트는 동일한 유형의 값을 하나로 묶어서 다루는 자료구조임.\n",
    "\n",
    "* 리스트는 대괄호로 표시하고 리스트의 값은 쉼표로 구분.\n",
    "* 예제: 정수, 실수 또는 문자들의 리스트"
   ]
  },
  {
   "cell_type": "markdown",
   "metadata": {},
   "source": [
    "예를 들어, 정수로 이루어진 리스트를 반환하는 함수를 다음과 같이 정의함."
   ]
  },
  {
   "cell_type": "code",
   "execution_count": 48,
   "metadata": {
    "attributes": {
     "classes": [
      "haskell:",
      "ghci"
     ],
     "id": "",
     "name": "\"code\""
    }
   },
   "outputs": [],
   "source": [
    "lostNumbers = [4,8,15,16,23,42]"
   ]
  },
  {
   "cell_type": "markdown",
   "metadata": {},
   "source": [
    "__참고:__ 대화형 GHC 컴파일러인 GHCi에서 이름을 바로 정의하려면 `let` 키워드를 사용해야 함.\n",
    "반면에 하스켈 소스코드에서는 `let` 키워드는 다른 용도로 사용함. 이후에 살펴볼 것임.\n",
    "\n",
    "* 주피터 노트북에서 이름을 정의하는 경우 `let` 키워드 사용은 선택사항임."
   ]
  },
  {
   "cell_type": "code",
   "execution_count": 49,
   "metadata": {
    "attributes": {
     "classes": [
      "haskell:",
      "ghci"
     ],
     "id": "",
     "name": "\"code\""
    }
   },
   "outputs": [],
   "source": [
    "let lostNumbers = [4,8,15,16,23,42]"
   ]
  },
  {
   "cell_type": "code",
   "execution_count": 50,
   "metadata": {
    "attributes": {
     "classes": [
      "haskell:",
      "ghci"
     ],
     "id": "",
     "name": "\"code\""
    }
   },
   "outputs": [
    {
     "data": {
      "text/plain": [
       "[4,8,15,16,23,42]"
      ]
     },
     "metadata": {},
     "output_type": "display_data"
    }
   ],
   "source": [
    "lostNumbers"
   ]
  },
  {
   "cell_type": "markdown",
   "metadata": {},
   "source": [
    "반면에 정수와 실수로 이루어진 리스트 또는 정수와 문자로 이루어진 리스트는 허영되지 않음.\n",
    "\n",
    "* 만약 `[1,2,'a',3,'b','c',4]`을 시도한다면, 하스켈은 작은 따옴표 사이에 표기된 문자가 숫자가 아니라고 오류을 발생시킴."
   ]
  },
  {
   "cell_type": "markdown",
   "metadata": {},
   "source": [
    "### 문자열"
   ]
  },
  {
   "cell_type": "markdown",
   "metadata": {},
   "source": [
    "문자열은 문자들의 리스트로 처리됨.\n",
    "    \n",
    "* 문자 유형(`Char`): `'a'`, `'b'`, `'c'`, `'X'`, `'Y'`, `'Z'` 등 작은 따옴표로 감싸는 하나의 기호들의 유형. 나중에 좀 더 자세히 다룸.\n",
    "* 문자열: `\"hello\"`, `\"Haskell\"` 등 큰 따옴표로 감싸는 문자들의 나열.\n",
    "* 하지만, 예를 들어, `\"hello\"`는 단지 `['h','e','l','l','o']`를 예쁘게 포장한 것일 뿐임. \n",
    "    따라서 문자열의 유형이 따로 존재하지는 않음."
   ]
  },
  {
   "cell_type": "code",
   "execution_count": 51,
   "metadata": {},
   "outputs": [
    {
     "data": {
      "text/plain": [
       "True"
      ]
     },
     "metadata": {},
     "output_type": "display_data"
    }
   ],
   "source": [
    "\"hello\" == ['h','e','l','l','o']"
   ]
  },
  {
   "cell_type": "code",
   "execution_count": 52,
   "metadata": {},
   "outputs": [
    {
     "data": {
      "text/plain": [
       "True"
      ]
     },
     "metadata": {},
     "output_type": "display_data"
    }
   ],
   "source": [
    "\"Haskell\" == ['H','a','s','k','e','l','l']"
   ]
  },
  {
   "cell_type": "markdown",
   "metadata": {},
   "source": [
    "문자열이 리스트로 정의되었기에 문자열에서 리스트 관련 함수를 사용할 수 있음.\n",
    "예를 들어, 리스트 두 개 이어붙히기는\n",
    "[`++`](https://hackage.haskell.org/package/base/docs/Prelude.html#v:-43--43-) \n",
    "연산자를 사용해 수행할 수 있음."
   ]
  },
  {
   "cell_type": "code",
   "execution_count": 53,
   "metadata": {
    "attributes": {
     "classes": [
      "haskell:",
      "ghci"
     ],
     "id": "",
     "name": "\"code\""
    }
   },
   "outputs": [
    {
     "data": {
      "text/plain": [
       "[1,2,3,4,9,10,11,12]"
      ]
     },
     "metadata": {},
     "output_type": "display_data"
    }
   ],
   "source": [
    "[1,2,3,4] ++ [9,10,11,12]"
   ]
  },
  {
   "cell_type": "code",
   "execution_count": 54,
   "metadata": {
    "attributes": {
     "classes": [
      "haskell:",
      "ghci"
     ],
     "id": "",
     "name": "\"code\""
    }
   },
   "outputs": [
    {
     "data": {
      "text/plain": [
       "\"hello world\""
      ]
     },
     "metadata": {},
     "output_type": "display_data"
    }
   ],
   "source": [
    "\"hello\" ++ \" \" ++ \"world\""
   ]
  },
  {
   "cell_type": "code",
   "execution_count": 55,
   "metadata": {
    "attributes": {
     "classes": [
      "haskell:",
      "ghci"
     ],
     "id": "",
     "name": "\"code\""
    }
   },
   "outputs": [
    {
     "data": {
      "text/plain": [
       "\"Good!\""
      ]
     },
     "metadata": {},
     "output_type": "display_data"
    }
   ],
   "source": [
    "['G','o'] ++ ['o','d'] ++ ['!']"
   ]
  },
  {
   "cell_type": "markdown",
   "metadata": {},
   "source": [
    "__주의사항__\n",
    "\n",
    "* [`++`](https://hackage.haskell.org/package/base/docs/Prelude.html#v:-43--43-)\n",
    "    연산자의 첫째 인자로 사용되는 리스트가 많은 항목을 가진 경우 연산이 오래 걸릴 수 있음.\n",
    "    * 이유: 예를 들어, `[1,2,3] ++ [4]`를 계산하기 위해 내부적으로 아래와 같은 과정을 거치기 때문임:\n",
    "    \n",
    "    ```haskell\n",
    "    [1,2,3] ++ [4] => 1 : ([2,3] ++ [4])\n",
    "                     => 1 : 2 : ([3] ++ [4])\n",
    "                     => 1 : 2 : 3 : ([] ++ [4])\n",
    "                     => 1 : 2 : 3 : 4 : []\n",
    "    ```\n",
    "\n",
    "        마지막 줄에 있는 표현식이 바로 `[1,2,3,4]` 임.\n",
    "* 참조: [`(++)` 정의](https://hackage.haskell.org/package/base-4.14.1.0/docs/src/GHC.Base.html#%2B%2B)"
   ]
  },
  {
   "cell_type": "markdown",
   "metadata": {},
   "source": [
    "### `cons` 함수"
   ]
  },
  {
   "cell_type": "markdown",
   "metadata": {},
   "source": [
    "앞서 언급하였듯이 `[1,2,3,4]`는 `1 : 2 : 3 : 4 : []`를 간단하게 표현한 것에 불과함. \n",
    "여기서 `(:)` 는 콘스(cons) 연산자라고 불리며 리스트를 생성하는 __리스트 생성자__ 역할을 수행함.\n",
    "생성자에 대해서는 이후에 좀 더 자세히 다룸. 8장 참조.\n",
    "\n",
    "cons 함수는 임의의 자료형의 값과 동일한 자료형의 리스트를 인자로 받아 새로운 리스트를 생성함."
   ]
  },
  {
   "cell_type": "code",
   "execution_count": 58,
   "metadata": {},
   "outputs": [
    {
     "data": {
      "text/html": [
       "<style>/* Styles used for the Hoogle display in the pager */\n",
       ".hoogle-doc {\n",
       "display: block;\n",
       "padding-bottom: 1.3em;\n",
       "padding-left: 0.4em;\n",
       "}\n",
       ".hoogle-code {\n",
       "display: block;\n",
       "font-family: monospace;\n",
       "white-space: pre;\n",
       "}\n",
       ".hoogle-text {\n",
       "display: block;\n",
       "}\n",
       ".hoogle-name {\n",
       "color: green;\n",
       "font-weight: bold;\n",
       "}\n",
       ".hoogle-head {\n",
       "font-weight: bold;\n",
       "}\n",
       ".hoogle-sub {\n",
       "display: block;\n",
       "margin-left: 0.4em;\n",
       "}\n",
       ".hoogle-package {\n",
       "font-weight: bold;\n",
       "font-style: italic;\n",
       "}\n",
       ".hoogle-module {\n",
       "font-weight: bold;\n",
       "}\n",
       ".hoogle-class {\n",
       "font-weight: bold;\n",
       "}\n",
       ".get-type {\n",
       "color: green;\n",
       "font-weight: bold;\n",
       "font-family: monospace;\n",
       "display: block;\n",
       "white-space: pre-wrap;\n",
       "}\n",
       ".show-type {\n",
       "color: green;\n",
       "font-weight: bold;\n",
       "font-family: monospace;\n",
       "margin-left: 1em;\n",
       "}\n",
       ".mono {\n",
       "font-family: monospace;\n",
       "display: block;\n",
       "}\n",
       ".err-msg {\n",
       "color: red;\n",
       "font-style: italic;\n",
       "font-family: monospace;\n",
       "white-space: pre;\n",
       "display: block;\n",
       "}\n",
       "#unshowable {\n",
       "color: red;\n",
       "font-weight: bold;\n",
       "}\n",
       ".err-msg.in.collapse {\n",
       "padding-top: 0.7em;\n",
       "}\n",
       ".highlight-code {\n",
       "white-space: pre;\n",
       "font-family: monospace;\n",
       "}\n",
       ".suggestion-warning { \n",
       "font-weight: bold;\n",
       "color: rgb(200, 130, 0);\n",
       "}\n",
       ".suggestion-error { \n",
       "font-weight: bold;\n",
       "color: red;\n",
       "}\n",
       ".suggestion-name {\n",
       "font-weight: bold;\n",
       "}\n",
       "</style><span class='get-type'>(:) :: forall a. a -> [a] -> [a]</span>"
      ],
      "text/plain": [
       "(:) :: forall a. a -> [a] -> [a]"
      ]
     },
     "metadata": {},
     "output_type": "display_data"
    }
   ],
   "source": [
    ":t (:)"
   ]
  },
  {
   "cell_type": "markdown",
   "metadata": {},
   "source": [
    "예를 들어, 정수 `1`과 정수들의 리스트 `[2,3,4]`를 cons 함수의 인자로 사용하면 `[1,2,3,4]`가 반환됨."
   ]
  },
  {
   "cell_type": "code",
   "execution_count": 59,
   "metadata": {},
   "outputs": [
    {
     "data": {
      "text/plain": [
       "[1,2,3,4]"
      ]
     },
     "metadata": {},
     "output_type": "display_data"
    }
   ],
   "source": [
    "(:) 1 [2,3,4]"
   ]
  },
  {
   "cell_type": "markdown",
   "metadata": {},
   "source": [
    "cons 함수는 일반적으로 중위함수로 사용됨."
   ]
  },
  {
   "cell_type": "code",
   "execution_count": 60,
   "metadata": {},
   "outputs": [
    {
     "data": {
      "text/plain": [
       "[1,2,3,4]"
      ]
     },
     "metadata": {},
     "output_type": "display_data"
    }
   ],
   "source": [
    "1 : [2,3,4]"
   ]
  },
  {
   "cell_type": "markdown",
   "metadata": {},
   "source": [
    "문자와 문자열을 cons함수에 적용하면 문자열이 반환됨.\n",
    "\n",
    "* 공백도 하나의 문자임."
   ]
  },
  {
   "cell_type": "code",
   "execution_count": 61,
   "metadata": {
    "attributes": {
     "classes": [
      "haskell:",
      "ghci"
     ],
     "id": "",
     "name": "\"code\""
    }
   },
   "outputs": [
    {
     "data": {
      "text/plain": [
       "\"A SMALL CAT\""
      ]
     },
     "metadata": {},
     "output_type": "display_data"
    }
   ],
   "source": [
    "'A':\" SMALL CAT\""
   ]
  },
  {
   "cell_type": "code",
   "execution_count": null,
   "metadata": {
    "attributes": {
     "classes": [
      "haskell:",
      "ghci"
     ],
     "id": "",
     "name": "\"code\""
    }
   },
   "outputs": [],
   "source": [
    "5:[1,2,3,4,5]"
   ]
  },
  {
   "cell_type": "markdown",
   "metadata": {},
   "source": [
    "__참고:__ 다음 세 개의 리스트는 서로 다른 리스트를 나타냄.\n",
    "\n",
    "```haskell\n",
    "[], [[]], [[],[],[]]\n",
    "```\n",
    "\n",
    "* `[]`: 공리스트, 즉 비어있는 리스트\n",
    "* `[[]]`: 공리스트 하나를 항목으로 갖는 리스트\n",
    "* `[[],[],[]]`: 세 개의 공리스트를 항목으로 갖는 리스트"
   ]
  },
  {
   "cell_type": "markdown",
   "metadata": {},
   "source": [
    "### 인덱싱(`!!`) 함수"
   ]
  },
  {
   "cell_type": "markdown",
   "metadata": {},
   "source": [
    "리스트의 각 항목은 왼편으로부터 0, 1, 2, 등으로 시작하는 위치정보를 가짐.\n",
    "그 위치정보를 각 항목의 __인덱스__(index) 라 부름.\n",
    "인덱스가 주어졌을 때 해당 인덱스가 가리키는 항목을 확인하는 작업을 __인덱싱__(indexing)이라 하며,\n",
    "인덱싱 함수를 `(!!)` 로 표기함."
   ]
  },
  {
   "cell_type": "code",
   "execution_count": 62,
   "metadata": {
    "attributes": {
     "classes": [
      "haskell:",
      "ghci"
     ],
     "id": "",
     "name": "\"code\""
    }
   },
   "outputs": [
    {
     "data": {
      "text/plain": [
       "'B'"
      ]
     },
     "metadata": {},
     "output_type": "display_data"
    }
   ],
   "source": [
    "\"Steve Buscemi\" !! 6"
   ]
  },
  {
   "cell_type": "code",
   "execution_count": 63,
   "metadata": {
    "attributes": {
     "classes": [
      "haskell:",
      "ghci"
     ],
     "id": "",
     "name": "\"code\""
    }
   },
   "outputs": [
    {
     "data": {
      "text/plain": [
       "33.2"
      ]
     },
     "metadata": {},
     "output_type": "display_data"
    }
   ],
   "source": [
    "[9.4,33.2,96.2,11.2,23.25] !! 1"
   ]
  },
  {
   "cell_type": "markdown",
   "metadata": {},
   "source": [
    "__주의사항__\n",
    "\n",
    "* 인덱스는 0부터 시작함. 즉, 맨 왼편에 위치한 항목의 인덱스는 0이며, 그 오른편의 항목의 인덱스는 1임.\n",
    "    따라서 마지막 항목의 인덱스는 항목의 수에서 1을 뺀 값임."
   ]
  },
  {
   "cell_type": "code",
   "execution_count": 64,
   "metadata": {
    "attributes": {
     "classes": [
      "haskell:",
      "ghci"
     ],
     "id": "",
     "name": "\"code\""
    }
   },
   "outputs": [
    {
     "data": {
      "text/plain": [
       "9.4"
      ]
     },
     "metadata": {},
     "output_type": "display_data"
    }
   ],
   "source": [
    "[9.4,33.2,96.2,11.2,23.25] !! 0"
   ]
  },
  {
   "cell_type": "code",
   "execution_count": 66,
   "metadata": {
    "attributes": {
     "classes": [
      "haskell:",
      "ghci"
     ],
     "id": "",
     "name": "\"code\""
    }
   },
   "outputs": [
    {
     "data": {
      "text/plain": [
       "23.25"
      ]
     },
     "metadata": {},
     "output_type": "display_data"
    }
   ],
   "source": [
    "[9.4,33.2,96.2,11.2,23.25] !! 4"
   ]
  },
  {
   "cell_type": "markdown",
   "metadata": {},
   "source": [
    "* 인덱싱을 리스트에 포함된 항목 개수보다 같거나 큰 인덱스에 대해 적용하면 오류 발생함.\n",
    "    예를 들어, 다섯 개의 요소만 있는 목록에서 5번 인덱스의 값을 확인하면 오류 발생."
   ]
  },
  {
   "cell_type": "code",
   "execution_count": 65,
   "metadata": {
    "attributes": {
     "classes": [
      "haskell:",
      "ghci"
     ],
     "id": "",
     "name": "\"code\""
    }
   },
   "outputs": [
    {
     "ename": "",
     "evalue": "",
     "output_type": "error",
     "traceback": [
      "Prelude.!!: index too large"
     ]
    }
   ],
   "source": [
    "[9.4,33.2,96.2,11.2,23.25] !! 5"
   ]
  },
  {
   "cell_type": "markdown",
   "metadata": {},
   "source": [
    "* 리스트 안에 리스트가 포함될 수 있고 리스트를 포함하는 리스트도 포함 가능"
   ]
  },
  {
   "cell_type": "code",
   "execution_count": 73,
   "metadata": {
    "attributes": {
     "classes": [
      "haskell:",
      "ghci"
     ],
     "id": "",
     "name": "\"code\""
    }
   },
   "outputs": [],
   "source": [
    "let b = [[1,2,3,4],[1,2,2,3,4],[1,2,3]]"
   ]
  },
  {
   "cell_type": "code",
   "execution_count": 74,
   "metadata": {
    "attributes": {
     "classes": [
      "haskell:",
      "ghci"
     ],
     "id": "",
     "name": "\"code\""
    }
   },
   "outputs": [
    {
     "data": {
      "text/plain": [
       "[[1,2,3,4],[1,2,2,3,4],[1,2,3]]"
      ]
     },
     "metadata": {},
     "output_type": "display_data"
    }
   ],
   "source": [
    "b"
   ]
  },
  {
   "cell_type": "code",
   "execution_count": 75,
   "metadata": {
    "attributes": {
     "classes": [
      "haskell:",
      "ghci"
     ],
     "id": "",
     "name": "\"code\""
    }
   },
   "outputs": [
    {
     "data": {
      "text/plain": [
       "[[1,2,3,4],[1,2,2,3,4],[1,2,3],[1,1,1,1,1,1]]"
      ]
     },
     "metadata": {},
     "output_type": "display_data"
    }
   ],
   "source": [
    "b ++ [[1,1,1,1,1,1]]"
   ]
  },
  {
   "cell_type": "code",
   "execution_count": 76,
   "metadata": {
    "attributes": {
     "classes": [
      "haskell:",
      "ghci"
     ],
     "id": "",
     "name": "\"code\""
    }
   },
   "outputs": [
    {
     "data": {
      "text/plain": [
       "[[6,6],[1,2,3,4],[1,2,2,3,4],[1,2,3]]"
      ]
     },
     "metadata": {},
     "output_type": "display_data"
    }
   ],
   "source": [
    "[6,6] : b"
   ]
  },
  {
   "cell_type": "code",
   "execution_count": 77,
   "metadata": {
    "attributes": {
     "classes": [
      "haskell:",
      "ghci"
     ],
     "id": "",
     "name": "\"code\""
    }
   },
   "outputs": [
    {
     "data": {
      "text/plain": [
       "[1,2,3]"
      ]
     },
     "metadata": {},
     "output_type": "display_data"
    }
   ],
   "source": [
    "b !! 2"
   ]
  },
  {
   "cell_type": "markdown",
   "metadata": {},
   "source": [
    "* 리스트 안의 리스트는 길이가 다를 수는 있지만 타입이 다를 수는 없음. "
   ]
  },
  {
   "cell_type": "code",
   "execution_count": 78,
   "metadata": {},
   "outputs": [
    {
     "ename": "",
     "evalue": "",
     "output_type": "error",
     "traceback": [
      "<interactive>:1:3: error:\n    • No instance for (Num Char) arising from the literal ‘1’\n    • In the expression: 1\n      In the expression: [1, 2]\n      In the expression: [[1, 2], ['a', 'b']]"
     ]
    }
   ],
   "source": [
    "[[1, 2], ['a','b']]"
   ]
  },
  {
   "cell_type": "markdown",
   "metadata": {},
   "source": [
    "* 리스트에 포함된 항목들을 서로 비교할 수 있다면 리스트 사이의 사전식 비교가 가능해짐.\n",
    "    * 비교 연산자: [`<`](https://hackage.haskell.org/package/base/docs/Prelude.html#v:-60-),\n",
    "    [`<=`](https://hackage.haskell.org/package/base/docs/Prelude.html#v:-60--61-), \n",
    "    [`>`](https://hackage.haskell.org/package/base/docs/Prelude.html#v:-62-),\n",
    "    [`>=`](https://hackage.haskell.org/package/base/docs/Prelude.html#v:-62--61-)\n",
    "\n",
    "* 사전식 비교: 두 리스트의 첫째 항목끼리 비교하고 같을 경우 둘째 항목, 같은 경우 셋째 항목 등등으로 비교하기"
   ]
  },
  {
   "cell_type": "code",
   "execution_count": 86,
   "metadata": {
    "attributes": {
     "classes": [
      "haskell:",
      "ghci"
     ],
     "id": "",
     "name": "\"code\""
    }
   },
   "outputs": [
    {
     "data": {
      "text/plain": [
       "True"
      ]
     },
     "metadata": {},
     "output_type": "display_data"
    }
   ],
   "source": [
    "[3,2,1] >= [2,1,0]"
   ]
  },
  {
   "cell_type": "code",
   "execution_count": 87,
   "metadata": {
    "attributes": {
     "classes": [
      "haskell:",
      "ghci"
     ],
     "id": "",
     "name": "\"code\""
    }
   },
   "outputs": [
    {
     "data": {
      "text/plain": [
       "True"
      ]
     },
     "metadata": {},
     "output_type": "display_data"
    }
   ],
   "source": [
    "[2,10,100] < [3]"
   ]
  },
  {
   "cell_type": "markdown",
   "metadata": {},
   "source": [
    "공리스트가 가장 작은 리스트임."
   ]
  },
  {
   "cell_type": "code",
   "execution_count": 84,
   "metadata": {},
   "outputs": [
    {
     "data": {
      "text/plain": [
       "True"
      ]
     },
     "metadata": {},
     "output_type": "display_data"
    }
   ],
   "source": [
    "[] < [0]"
   ]
  },
  {
   "cell_type": "markdown",
   "metadata": {},
   "source": [
    "따라서 다음이 성립함."
   ]
  },
  {
   "cell_type": "code",
   "execution_count": 81,
   "metadata": {
    "attributes": {
     "classes": [
      "haskell:",
      "ghci"
     ],
     "id": "",
     "name": "\"code\""
    }
   },
   "outputs": [
    {
     "data": {
      "text/plain": [
       "True"
      ]
     },
     "metadata": {},
     "output_type": "display_data"
    }
   ],
   "source": [
    "[3,4,2] > [3,4]"
   ]
  },
  {
   "cell_type": "markdown",
   "metadata": {},
   "source": [
    "두 리스트의 항목이 모두 등가(equal)이면 두 리스트 또한 등가임."
   ]
  },
  {
   "cell_type": "code",
   "execution_count": 88,
   "metadata": {
    "attributes": {
     "classes": [
      "haskell:",
      "ghci"
     ],
     "id": "",
     "name": "\"code\""
    }
   },
   "outputs": [
    {
     "data": {
      "text/plain": [
       "True"
      ]
     },
     "metadata": {},
     "output_type": "display_data"
    }
   ],
   "source": [
    "[3,4,2] == [3,4,2]"
   ]
  },
  {
   "cell_type": "markdown",
   "metadata": {},
   "source": [
    "### [`head`](https://hackage.haskell.org/package/base/docs/Prelude.html#v:head) 함수"
   ]
  },
  {
   "cell_type": "markdown",
   "metadata": {},
   "source": [
    "리스트의 머리(첫째 항목)을 반환화는 함수."
   ]
  },
  {
   "cell_type": "code",
   "execution_count": 89,
   "metadata": {
    "attributes": {
     "classes": [
      "haskell:",
      "ghci"
     ],
     "id": "",
     "name": "\"code\""
    }
   },
   "outputs": [
    {
     "data": {
      "text/plain": [
       "5"
      ]
     },
     "metadata": {},
     "output_type": "display_data"
    }
   ],
   "source": [
    "head [5,4,3,2,1]"
   ]
  },
  {
   "cell_type": "markdown",
   "metadata": {},
   "source": [
    "### [`tail`](https://hackage.haskell.org/package/base/docs/Prelude.html#v:tail)  함수"
   ]
  },
  {
   "cell_type": "markdown",
   "metadata": {},
   "source": [
    "리스트의 머리를 제외한 나머지 항목으로 이루어진 꼬리 리스트를 반환."
   ]
  },
  {
   "cell_type": "code",
   "execution_count": 91,
   "metadata": {
    "attributes": {
     "classes": [
      "haskell:",
      "ghci"
     ],
     "id": "",
     "name": "\"code\""
    }
   },
   "outputs": [
    {
     "data": {
      "text/plain": [
       "[4,3,2,1]"
      ]
     },
     "metadata": {},
     "output_type": "display_data"
    }
   ],
   "source": [
    "tail [5,4,3,2,1]"
   ]
  },
  {
   "cell_type": "markdown",
   "metadata": {},
   "source": [
    "### [`last`](https://hackage.haskell.org/package/base/docs/Prelude.html#v:last)  함수"
   ]
  },
  {
   "cell_type": "markdown",
   "metadata": {},
   "source": [
    "리스트의 가장 오른편에 위치한, 즉, 가장 마지막 원소 반환."
   ]
  },
  {
   "cell_type": "code",
   "execution_count": 94,
   "metadata": {
    "attributes": {
     "classes": [
      "haskell:",
      "ghci"
     ],
     "id": "",
     "name": "\"code\""
    }
   },
   "outputs": [
    {
     "data": {
      "text/plain": [
       "1"
      ]
     },
     "metadata": {},
     "output_type": "display_data"
    }
   ],
   "source": [
    "last [5,4,3,2,1]"
   ]
  },
  {
   "cell_type": "markdown",
   "metadata": {},
   "source": [
    "### [`init`](https://hackage.haskell.org/package/base/docs/Prelude.html#v:init) 함수"
   ]
  },
  {
   "cell_type": "markdown",
   "metadata": {},
   "source": [
    "리스트의 마지막 항목을 제외한 항목으로 이루어진 리스트 반환"
   ]
  },
  {
   "cell_type": "code",
   "execution_count": 96,
   "metadata": {
    "attributes": {
     "classes": [
      "haskell:",
      "ghci"
     ],
     "id": "",
     "name": "\"code\""
    }
   },
   "outputs": [
    {
     "data": {
      "text/plain": [
       "[5,4,3,2]"
      ]
     },
     "metadata": {},
     "output_type": "display_data"
    }
   ],
   "source": [
    "init [5,4,3,2,1]"
   ]
  },
  {
   "cell_type": "markdown",
   "metadata": {},
   "source": [
    "`head`, `tail`, `last`, `init` 네 함수의 기능을 그림으로 표현해보면 다음과 같음.\n",
    "\n",
    "<img src=\"img/listmonster.png\" title=\"list monster\" style=\"\"/>"
   ]
  },
  {
   "cell_type": "markdown",
   "metadata": {},
   "source": [
    "__주의사항:__ 공리스트에 대해 앞서 소개한 네 개의 함수 모두 오류 발생시킴.\n",
    "\n",
    "* 이유: 첫째 항목, 또는 마지막 항목이 존재하지 않기 때문.\n",
    "\n",
    "* 이런 오류는 컴파일 과정에서 발각되지 않음. \n",
    "    따라서 공리스트로부터 특정 항목을 요구하는 위와 같은 함수를 사용할 때 오류발생에 대한 예방조치를 취해야 함.\n",
    "\n",
    "* 오류예방을 위해 간단하게는 `error` 함수와  `Maybe` 유형을 활용할 수 있으며, 이후에 자세히 다룸.\n",
    "    * 참조: [하스켈의 오류와 예외](https://www.stackbuilders.com/news/errors-and-exceptions-in-haskell#:~:text=In%20Haskell%2C%20we%20have%20error,or%20that%20is%20not%20readable.)"
   ]
  },
  {
   "cell_type": "code",
   "execution_count": 102,
   "metadata": {
    "attributes": {
     "classes": [
      "haskell:",
      "ghci"
     ],
     "id": "",
     "name": "\"code\""
    }
   },
   "outputs": [
    {
     "ename": "",
     "evalue": "",
     "output_type": "error",
     "traceback": [
      "Prelude.head: empty list"
     ]
    }
   ],
   "source": [
    "head []"
   ]
  },
  {
   "cell_type": "code",
   "execution_count": 103,
   "metadata": {
    "attributes": {
     "classes": [
      "haskell:",
      "ghci"
     ],
     "id": "",
     "name": "\"code\""
    }
   },
   "outputs": [
    {
     "ename": "",
     "evalue": "",
     "output_type": "error",
     "traceback": [
      "Prelude.tail: empty list"
     ]
    }
   ],
   "source": [
    "tail []"
   ]
  },
  {
   "cell_type": "code",
   "execution_count": 104,
   "metadata": {
    "attributes": {
     "classes": [
      "haskell:",
      "ghci"
     ],
     "id": "",
     "name": "\"code\""
    }
   },
   "outputs": [
    {
     "ename": "",
     "evalue": "",
     "output_type": "error",
     "traceback": [
      "Prelude.last: empty list"
     ]
    }
   ],
   "source": [
    "last []"
   ]
  },
  {
   "cell_type": "code",
   "execution_count": 105,
   "metadata": {
    "attributes": {
     "classes": [
      "haskell:",
      "ghci"
     ],
     "id": "",
     "name": "\"code\""
    }
   },
   "outputs": [
    {
     "ename": "",
     "evalue": "",
     "output_type": "error",
     "traceback": [
      "Prelude.init: empty list"
     ]
    }
   ],
   "source": [
    "init []"
   ]
  },
  {
   "cell_type": "markdown",
   "metadata": {},
   "source": [
    "### [`length`](https://hackage.haskell.org/package/base/docs/Prelude.html#v:length) 함수"
   ]
  },
  {
   "cell_type": "markdown",
   "metadata": {},
   "source": [
    "리스트의 길이, 즉, 리스트에 포함된 항목의 수를 반환함."
   ]
  },
  {
   "cell_type": "code",
   "execution_count": 106,
   "metadata": {
    "attributes": {
     "classes": [
      "haskell:",
      "ghci"
     ],
     "id": "",
     "name": "\"code\""
    }
   },
   "outputs": [
    {
     "data": {
      "text/plain": [
       "5"
      ]
     },
     "metadata": {},
     "output_type": "display_data"
    }
   ],
   "source": [
    "length [5,4,3,2,1]"
   ]
  },
  {
   "cell_type": "code",
   "execution_count": 107,
   "metadata": {
    "attributes": {
     "classes": [
      "haskell:",
      "ghci"
     ],
     "id": "",
     "name": "\"code\""
    }
   },
   "outputs": [
    {
     "data": {
      "text/plain": [
       "0"
      ]
     },
     "metadata": {},
     "output_type": "display_data"
    }
   ],
   "source": [
    "length []"
   ]
  },
  {
   "cell_type": "markdown",
   "metadata": {},
   "source": [
    "### [`null`](https://hackage.haskell.org/package/base/docs/Prelude.html#v:null)  함수"
   ]
  },
  {
   "cell_type": "markdown",
   "metadata": {},
   "source": [
    "리스트가 비어있는지 체크. 비어있으면 \n",
    "[`True`](https://hackage.haskell.org/package/base/docs/Prelude.html#v:True)를, \n",
    "그렇지 않으면 \n",
    "[`False`](https://hackage.haskell.org/package/base/docs/Prelude.html#v:False)를 반환함.\n",
    "\n",
    "* 리스트 이름을 `xs`라 할 때, `xs == []` 와 동일한 값을 반환함."
   ]
  },
  {
   "cell_type": "code",
   "execution_count": 108,
   "metadata": {
    "attributes": {
     "classes": [
      "haskell:",
      "ghci"
     ],
     "id": "",
     "name": "\"code\""
    }
   },
   "outputs": [
    {
     "data": {
      "text/plain": [
       "False"
      ]
     },
     "metadata": {},
     "output_type": "display_data"
    }
   ],
   "source": [
    "null [1,2,3]"
   ]
  },
  {
   "cell_type": "code",
   "execution_count": 109,
   "metadata": {
    "attributes": {
     "classes": [
      "haskell:",
      "ghci"
     ],
     "id": "",
     "name": "\"code\""
    }
   },
   "outputs": [
    {
     "data": {
      "text/plain": [
       "True"
      ]
     },
     "metadata": {},
     "output_type": "display_data"
    }
   ],
   "source": [
    "null []"
   ]
  },
  {
   "cell_type": "markdown",
   "metadata": {},
   "source": [
    "__[`reverse`](https://hackage.haskell.org/package/base/docs/Prelude.html#v:reverse)__: 뒤집어진 리스트를 반환."
   ]
  },
  {
   "cell_type": "code",
   "execution_count": null,
   "metadata": {
    "attributes": {
     "classes": [
      "haskell:",
      "ghci"
     ],
     "id": "",
     "name": "\"code\""
    }
   },
   "outputs": [],
   "source": [
    "reverse [5,4,3,2,1]"
   ]
  },
  {
   "cell_type": "markdown",
   "metadata": {},
   "source": [
    "__[`take`](https://hackage.haskell.org/package/base/docs/Prelude.html#v:take)__: 숫자와 리스트를 받아와 리스트의 시작 부분에서 숫자만큼의 요소를 추출해 반환. 리스트에 있는 것보다 더 많은 원소를 가져오려고 하면 리스트가 어떤 결과를 반환하는지 확인해보자. 리스트 길이보다 더 많은 원소를 가져오라고 하면 리스트 전체를 반환하고 숫자로 0을 받을 경우 빈 리스트를 반환함"
   ]
  },
  {
   "cell_type": "code",
   "execution_count": null,
   "metadata": {
    "attributes": {
     "classes": [
      "haskell:",
      "ghci"
     ],
     "id": "",
     "name": "\"code\""
    }
   },
   "outputs": [],
   "source": [
    "take 3 [5,4,3,2,1]"
   ]
  },
  {
   "cell_type": "code",
   "execution_count": null,
   "metadata": {
    "attributes": {
     "classes": [
      "haskell:",
      "ghci"
     ],
     "id": "",
     "name": "\"code\""
    }
   },
   "outputs": [],
   "source": [
    "take 1 [3,9,3]"
   ]
  },
  {
   "cell_type": "code",
   "execution_count": null,
   "metadata": {
    "attributes": {
     "classes": [
      "haskell:",
      "ghci"
     ],
     "id": "",
     "name": "\"code\""
    }
   },
   "outputs": [],
   "source": [
    "take 5 [1,2]"
   ]
  },
  {
   "cell_type": "code",
   "execution_count": null,
   "metadata": {
    "attributes": {
     "classes": [
      "haskell:",
      "ghci"
     ],
     "id": "",
     "name": "\"code\""
    }
   },
   "outputs": [],
   "source": [
    "take 0 [6,6,6]"
   ]
  },
  {
   "cell_type": "markdown",
   "metadata": {},
   "source": [
    "__[`drop`](https://hackage.haskell.org/package/base/docs/Prelude.html#v:drop)__: `take`와 비슷한 방식으로 작동하며, 리스트의 시작 부분에서 받은 숫자만큼 요소를 삭제."
   ]
  },
  {
   "cell_type": "code",
   "execution_count": null,
   "metadata": {
    "attributes": {
     "classes": [
      "haskell:",
      "ghci"
     ],
     "id": "",
     "name": "\"code\""
    }
   },
   "outputs": [],
   "source": [
    "drop 3 [8,4,2,1,5,6]"
   ]
  },
  {
   "cell_type": "code",
   "execution_count": null,
   "metadata": {
    "attributes": {
     "classes": [
      "haskell:",
      "ghci"
     ],
     "id": "",
     "name": "\"code\""
    }
   },
   "outputs": [],
   "source": [
    "drop 0 [1,2,3,4]"
   ]
  },
  {
   "cell_type": "code",
   "execution_count": null,
   "metadata": {
    "attributes": {
     "classes": [
      "haskell:",
      "ghci"
     ],
     "id": "",
     "name": "\"code\""
    }
   },
   "outputs": [],
   "source": [
    "drop 100 [1,2,3,4]"
   ]
  },
  {
   "cell_type": "markdown",
   "metadata": {},
   "source": [
    "__[`maximum`](https://hackage.haskell.org/package/base/docs/Prelude.html#v:maximum)__: 순서대로 놓일 수 있는 원소들을 가진 리스트를 받아 원소들 중 가장 큰 원소를 반환.\n",
    "\n",
    "__[`minimum`](https://hackage.haskell.org/package/base/docs/Prelude.html#v:minimum)__: 가장 작은 원소를 반환."
   ]
  },
  {
   "cell_type": "code",
   "execution_count": null,
   "metadata": {
    "attributes": {
     "classes": [
      "haskell:",
      "ghci"
     ],
     "id": "",
     "name": "\"code\""
    }
   },
   "outputs": [],
   "source": [
    "minimum [8,4,2,1,5,6]"
   ]
  },
  {
   "cell_type": "code",
   "execution_count": null,
   "metadata": {
    "attributes": {
     "classes": [
      "haskell:",
      "ghci"
     ],
     "id": "",
     "name": "\"code\""
    }
   },
   "outputs": [],
   "source": [
    "maximum [1,9,2,3,4]"
   ]
  },
  {
   "cell_type": "markdown",
   "metadata": {},
   "source": [
    "__[`sum`](https://hackage.haskell.org/package/base/docs/Prelude.html#v:sum)__: 숫자로 구성된 리스트를 받아 숫자 원소들의 합을 반환.\n",
    "\n",
    "__[`product`](https://hackage.haskell.org/package/base/docs/Prelude.html#v:product)__: 숫자로 구성된 리스트를 받아 숫자 원소들의 곱을 반환."
   ]
  },
  {
   "cell_type": "code",
   "execution_count": null,
   "metadata": {
    "attributes": {
     "classes": [
      "haskell:",
      "ghci"
     ],
     "id": "",
     "name": "\"code\""
    }
   },
   "outputs": [],
   "source": [
    "sum [5,2,1,6,3,2,5,7]"
   ]
  },
  {
   "cell_type": "code",
   "execution_count": null,
   "metadata": {
    "attributes": {
     "classes": [
      "haskell:",
      "ghci"
     ],
     "id": "",
     "name": "\"code\""
    }
   },
   "outputs": [],
   "source": [
    "product [6,2,1,2]"
   ]
  },
  {
   "cell_type": "code",
   "execution_count": null,
   "metadata": {
    "attributes": {
     "classes": [
      "haskell:",
      "ghci"
     ],
     "id": "",
     "name": "\"code\""
    }
   },
   "outputs": [],
   "source": [
    "product [1,2,5,6,7,9,2,0]"
   ]
  },
  {
   "cell_type": "markdown",
   "metadata": {},
   "source": [
    "__[`elem`](https://hackage.haskell.org/package/base/docs/Prelude.html#v:elem)__: 어떤 것과 리스트를 받아와 어떤 것이 리스트에 있는지 확인해줌. `elem`은 중위함수로 표현하는 것이 읽기 더 편하기 때문에 중위함수로 불림."
   ]
  },
  {
   "cell_type": "code",
   "execution_count": null,
   "metadata": {
    "attributes": {
     "classes": [
      "haskell:",
      "ghci"
     ],
     "id": "",
     "name": "\"code\""
    }
   },
   "outputs": [],
   "source": [
    "4 `elem` [3,4,5,6]"
   ]
  },
  {
   "cell_type": "code",
   "execution_count": null,
   "metadata": {
    "attributes": {
     "classes": [
      "haskell:",
      "ghci"
     ],
     "id": "",
     "name": "\"code\""
    }
   },
   "outputs": [],
   "source": [
    "10 `elem` [3,4,5,6]"
   ]
  },
  {
   "cell_type": "markdown",
   "metadata": {},
   "source": [
    "리스트에서 동작하는 몇 가지 기본적인 기능들을 살펴보았음. 자세한 리스트 기능은 [나중에](http://learnyouahaskell.com/modules#data-list) 살펴볼 것."
   ]
  },
  {
   "cell_type": "markdown",
   "metadata": {},
   "source": [
    "### 3.3 Ranges\n",
    "------------\n",
    "\n",
    "Ranges는 열거할 수 있는 원소들의 산술 시퀀스인 리스트를 만드는 방법임.\n",
    "* 숫자는 열거할 수 있음. (1, 2, 3, 4 ...)\n",
    "* 문자 또한 열거할 수 있음. (알파벳은 A부터 Z까지의 문자를 열거한 것.) \n",
    "* 하지만, 이름은 열거할 수 없음.\n",
    "\n",
    "1부터 20까지의 자연수를 모두 포함하는 목록을 만들려면 `[1..20]`로 쓰면 됨. \n",
    "* 이것은 `[1,2,3,4,5,6,7,8,9,10,11,12,13,14,15,16,17,18,19,20]`라고 쓴 것과 같음."
   ]
  },
  {
   "cell_type": "code",
   "execution_count": null,
   "metadata": {
    "attributes": {
     "classes": [
      "haskell:",
      "ghci"
     ],
     "id": "",
     "name": "\"code\""
    }
   },
   "outputs": [],
   "source": [
    "[1..20]"
   ]
  },
  {
   "cell_type": "code",
   "execution_count": null,
   "metadata": {
    "attributes": {
     "classes": [
      "haskell:",
      "ghci"
     ],
     "id": "",
     "name": "\"code\""
    }
   },
   "outputs": [],
   "source": [
    "['a'..'z']"
   ]
  },
  {
   "cell_type": "code",
   "execution_count": null,
   "metadata": {
    "attributes": {
     "classes": [
      "haskell:",
      "ghci"
     ],
     "id": "",
     "name": "\"code\""
    }
   },
   "outputs": [],
   "source": [
    "['K'..'Z']"
   ]
  },
  {
   "cell_type": "markdown",
   "metadata": {},
   "source": [
    "Ranges는 단계(steps)도 정할 수 있음.\n",
    "1~20 사이의 짝수를 원한다면 아래 코드처럼 작성하면 됨."
   ]
  },
  {
   "cell_type": "code",
   "execution_count": null,
   "metadata": {
    "attributes": {
     "classes": [
      "haskell:",
      "ghci"
     ],
     "id": "",
     "name": "\"code\""
    }
   },
   "outputs": [],
   "source": [
    "[2,4..20]"
   ]
  },
  {
   "cell_type": "code",
   "execution_count": null,
   "metadata": {
    "attributes": {
     "classes": [
      "haskell:",
      "ghci"
     ],
     "id": "",
     "name": "\"code\""
    }
   },
   "outputs": [],
   "source": [
    "[3,6..20]"
   ]
  },
  {
   "cell_type": "markdown",
   "metadata": {},
   "source": [
    "처음 두 요소를 쉼표로 구분한 후 상한 값을 지정하는 것이 중요.\n",
    "\n",
    "하지만 steps를 2로 정한다면, `[1,2,4,8,16..100]`와 같은 결과는 나올 수 없다.\n",
    "* 첫 번째 이유는 steps은 단 한 개만 지정할 수 있기 때문.\n",
    "* 두 번째는, 첫 번째 항부터 steps을 사용하지 않는다면 산수가 아닌 몇몇의 시퀀스는 모호해지기 때문.\n",
    "\n",
    "20부터 1까지의 숫자를 가진 리스트를 생성하려면 `[20..1]`이 아닌 `[20,19..1]`로 작성해야함.\n",
    "\n",
    "ranges에서 부동 소수점을 사용하고자 한다면 주의가 필요.\n",
    "* 부동 소수점은 정의상 완벽하게 정밀한 숫자가 아니기 때문에, ranges에서 부동 소수점을 사용하면 이상한 결과가 나올 수 있음."
   ]
  },
  {
   "cell_type": "code",
   "execution_count": null,
   "metadata": {
    "attributes": {
     "classes": [
      "haskell:",
      "ghci"
     ],
     "id": "",
     "name": "\"code\""
    }
   },
   "outputs": [],
   "source": [
    "[0.1, 0.3 .. 1]"
   ]
  },
  {
   "cell_type": "markdown",
   "metadata": {},
   "source": [
    "* 리스트 ranges에서 부동 소수점을 사용하지 않는 것을 권고한다.\n",
    "\n",
    "상한 값을 지정하지 않고 ranges를 사용하면 무한대 리스트(infinite list)를 만들 수 있음. 이후에 무한대 리스트에 대해 자세히 살펴볼 것. \n",
    "\n",
    "\n",
    "지금은 구구단의 13단에서 13x1 부터 13x24까지의 값을 리스트로 어떻게 얻을 수 있는지 살펴볼 것. \n",
    "* `[13,26..24*13]`로 표현할 수 있지만, `take 24 [13,26..]`로 표현하는 것이 더 좋은 방법.\n",
    "* 하스켈은 게으른 언어여서 절대 끝나지 않는 무한대 리스트를 바로 계산하려하지 않을 것. 기다리면 무한대 리스트에서 원하는 항목을 확인할 수 있을 것임.\n",
    "* 보이는 것처럼 처음 24개의 원소만을 원한다면 24개의 원소만 보여줄 것.\n",
    "\n",
    "\n",
    "\n",
    "\n",
    "무한대 리스트를 만들어주는 유용한 기능:\n",
    "\n",
    "* __[`cycle`](https://hackage.haskell.org/package/base/docs/Prelude.html#v:cycle)__: \n",
    "리스트를 받아와 무한대 리스트로 순환해줌. 영원히 계속되기 때문에 모든 결과를 표시할 수 없으므로 어디선가는 잘라야 함."
   ]
  },
  {
   "cell_type": "code",
   "execution_count": null,
   "metadata": {
    "attributes": {
     "classes": [
      "haskell:",
      "ghci"
     ],
     "id": "",
     "name": "\"code\""
    }
   },
   "outputs": [],
   "source": [
    "take 10 (cycle [1,2,3])"
   ]
  },
  {
   "cell_type": "code",
   "execution_count": null,
   "metadata": {
    "attributes": {
     "classes": [
      "haskell:",
      "ghci"
     ],
     "id": "",
     "name": "\"code\""
    }
   },
   "outputs": [],
   "source": [
    "take 12 (cycle \"LOL \")"
   ]
  },
  {
   "cell_type": "markdown",
   "metadata": {},
   "source": [
    "* __[`repeat`](https://hackage.haskell.org/package/base/docs/Prelude.html#v:repeat)__: 하나의 원소를 받아 이 원소만으로 구성된 무한대 리스트를 만들어줌. 오직 하나의 원소만을 가지고 있는 리스트를 사이클링한 결과와 같음."
   ]
  },
  {
   "cell_type": "code",
   "execution_count": null,
   "metadata": {
    "attributes": {
     "classes": [
      "haskell:",
      "ghci"
     ],
     "id": "",
     "name": "\"code\""
    }
   },
   "outputs": [],
   "source": [
    "take 10 (repeat 5)"
   ]
  },
  {
   "cell_type": "markdown",
   "metadata": {},
   "source": [
    "* 리스트에서 동일한 원소를 몇 개 포함하려하는 경우, [`replicate`](https://hackage.haskell.org/package/base/docs/Prelude.html#v:replicate)를 사용하는 것이 더 간단.\n",
    "    * `replicate 3 10`은 `[10,10,10]`을 반환한다.\n"
   ]
  },
  {
   "cell_type": "markdown",
   "metadata": {},
   "source": [
    "### 3.4 리스트 조건제시법\n",
    "------------------------\n",
    "수학의 집합 부분에서 조건 제시법을 사용해본적이 있을 것임. 조건 제시법은 더 구체적인 집합을 만드는데 사용됨.\n",
    "* 기본적으로 1부터 시작해서 10개의 짝수 자연수를 포함하는 집합을 생성하는 조건 제시법은 $ S=\\{2 \\centerdot x | x \\in \\mathbb{N}, x \\le 10 \\}$로 표현. \n",
    "    * | 앞 부분은 출력 함수\n",
    "    * `x`는 변수, `N`은 입력 집합\n",
    "    * `x <= 10`은 조건\n",
    "    * 이 식은 조건을 만족시키면서 자연수의 2배를 포함하는 집합을 의미.\n",
    "\n",
    "이 식을 하스켈로 표현한다면, `take 10 [2,4..]`로 표현할 수 있을 것. 하지만, 만약 처음 10개의 자연수들의 두 배를 원하지 않고, 그 수에 좀 더 복잡한 함수를 적용하려 한다면 어떨까?\n",
    "\n",
    "이 경우을 위해 리스트 조건 제시법을 사용.\n",
    "* 리스트 조건 제시법은 집합의 조건 제시법과 매우 유사.\n",
    "* 우선 짝수 10개를 포함하는 경우를 표현해보자. 리스트 조건 제시법을 사용해 `[x*2 | x <- [1..10]]`로 표현 가능.\n",
    "* `x`에는 1부터 시작해 10까지의 숫자가 들어옴.\n",
    "* `x`에 바운드 된 모든 원소는 `[1..10]`에 속한 숫자이고, 이 숫자들의 두 배의 값을 얻을 수 있음."
   ]
  },
  {
   "cell_type": "code",
   "execution_count": null,
   "metadata": {
    "attributes": {
     "classes": [
      "haskell:",
      "ghci"
     ],
     "id": "",
     "name": "\"code\""
    }
   },
   "outputs": [],
   "source": [
    "[x*2 | x <- [1..10]]"
   ]
  },
  {
   "cell_type": "markdown",
   "metadata": {},
   "source": [
    "이제 조건(혹은 predicate)을 추가해보자.\n",
    "* 조건은 바인딩 부분의 뒷 부분에 나오며 쉼표로 구분됨. \n",
    "* 두 배가 된 원소들 중에서 12 이상인 원소만을 출력하고 싶다고 가정."
   ]
  },
  {
   "cell_type": "code",
   "execution_count": null,
   "metadata": {
    "attributes": {
     "classes": [
      "haskell:",
      "ghci"
     ],
     "id": "",
     "name": "\"code\""
    }
   },
   "outputs": [],
   "source": [
    "[x*2 | x <- [1..10], x*2 >= 12]"
   ]
  },
  {
   "cell_type": "markdown",
   "metadata": {},
   "source": [
    "50부터 100까지의 숫자 중에서 숫자 7로 나누었을 때 나머지가 3인 숫자를 얻고자한다면 어떻게 표현할까?"
   ]
  },
  {
   "cell_type": "code",
   "execution_count": null,
   "metadata": {
    "attributes": {
     "classes": [
      "haskell:",
      "ghci"
     ],
     "id": "",
     "name": "\"code\""
    }
   },
   "outputs": [],
   "source": [
    "[ x | x <- [50..100], x `mod` 7 == 3]"
   ]
  },
  {
   "cell_type": "markdown",
   "metadata": {},
   "source": [
    "조건을 사용해 리스트를 걸러내는 작업을 *필터링(filtering)* 이라고 함.\n",
    "숫자로 구성된 리스트를 가져와 조건별로 리스트를 필터링해보았음. \n",
    "\n",
    "이제 10보다 큰 홀수는 `\"BANG!\"`으로, 10보다 작은 홀수는 `\"BOOM!\"`으로 변경해주는 리스트 조건 제시법을 작성해보자. \n",
    "* 만약 홀수가 아니라면, 리스트에서 그 숫자를 제거\n",
    "* 편의상 다시 재사용할 수 있도록 이 리스트 컴프리헨션을 함수 안에 넣을 것."
   ]
  },
  {
   "cell_type": "code",
   "execution_count": null,
   "metadata": {
    "attributes": {
     "classes": [
      "haskell:",
      "ghci"
     ],
     "id": "",
     "name": "\"code\""
    }
   },
   "outputs": [],
   "source": [
    "boomBangs xs = [ if x < 10 then \"BOOM!\" else \"BANG!\" | x <- xs, odd x]"
   ]
  },
  {
   "cell_type": "markdown",
   "metadata": {},
   "source": [
    "리스트 조건 제시법의 가장 마지막 부분이 조건임.\n",
    "* 함수 [`odd`](https://hackage.haskell.org/package/base/docs/Prelude.html#v:odd)는 홀수일 경우 [`True`](https://hackage.haskell.org/package/base/docs/Prelude.html#v:True)를 반환하고, 짝수일 경우 [`False`](https://hackage.haskell.org/package/base/docs/Prelude.html#v:False)를 반환.\n",
    "* 모든 조건에서 [`True`](https://hackage.haskell.org/package/base/docs/Prelude.html#v:True)일 경우 리스트의 원소로 포함된다.\n",
    "\n"
   ]
  },
  {
   "cell_type": "code",
   "execution_count": null,
   "metadata": {
    "attributes": {
     "classes": [
      "haskell:",
      "hs"
     ],
     "id": "",
     "name": "\"code\""
    }
   },
   "outputs": [],
   "source": [
    "boomBangs [7..13]"
   ]
  },
  {
   "cell_type": "markdown",
   "metadata": {},
   "source": [
    "여러 개의 조건을 포함하는 것도 가능. 10~20까지의 모든 숫자 중에서 13, 15, 19를 제외한 숫자를 반환하길 원한다면, 아래처럼 작성."
   ]
  },
  {
   "cell_type": "code",
   "execution_count": null,
   "metadata": {
    "attributes": {
     "classes": [
      "haskell:",
      "ghci"
     ],
     "id": "",
     "name": "\"code\""
    }
   },
   "outputs": [],
   "source": [
    "[ x | x <- [10..20], x /= 13, x /= 15, x /= 19]"
   ]
  },
  {
   "cell_type": "markdown",
   "metadata": {},
   "source": [
    "리스트 조건 제시법에서 여러 조건을 사용할 수 있듯이(원소가 결과 리스트에 포함되기 위해서는 모든 조건을 만족해야한다.), 여러 리스트 또한 사용할 수 있음.\n",
    "* 리스트를 여러개 사용하고자 할 경우, 리스트 조건 제시법은 주어진 리스트의 모든 조합을 생성한 다음 우리가 제시한 출력 함수에 결합.\n",
    "* 각각의 길이가 4인 두 개의 리스트가 사용되고 필터링을 하지 않은 리스트 조건 제시법에서 반환되는 리스트의 길이는 16일 것.\n",
    "\n",
    "\n",
    "`[2,5,10]`과 `[8,10,11]`를 사용하고 이 두 리스트에서 나올 수 있는 모든 조합의 곱을 알고 싶다면 리스트 조건 제시법을 아래 코드처럼 작성할 수 있음."
   ]
  },
  {
   "cell_type": "code",
   "execution_count": null,
   "metadata": {
    "attributes": {
     "classes": [
      "haskell:",
      "ghci"
     ],
     "id": "",
     "name": "\"code\""
    }
   },
   "outputs": [],
   "source": [
    "[ x*y | x <- [2,5,10], y <- [8,10,11]]"
   ]
  },
  {
   "cell_type": "markdown",
   "metadata": {},
   "source": [
    "예상했듯이, 새로운 리스트의 길이는 9. 만약 곱셈의 결과가 50 이상인 경우만 알고싶다면 아래 코드처럼 작성하면 됨."
   ]
  },
  {
   "cell_type": "code",
   "execution_count": null,
   "metadata": {
    "attributes": {
     "classes": [
      "haskell:",
      "ghci"
     ],
     "id": "",
     "name": "\"code\""
    }
   },
   "outputs": [],
   "source": [
    "[ x*y | x <- [2,5,10], y <- [8,10,11], x*y > 50]"
   ]
  },
  {
   "cell_type": "markdown",
   "metadata": {},
   "source": [
    "형용사를 포함한 리스트와 명사를 포함한 리스트를 결합하기 위한 리스트 컴프리헨션은 어떻게 작성할까?"
   ]
  },
  {
   "cell_type": "code",
   "execution_count": null,
   "metadata": {
    "attributes": {
     "classes": [
      "haskell:",
      "ghci"
     ],
     "id": "",
     "name": "\"code\""
    }
   },
   "outputs": [],
   "source": [
    "let nouns = [\"hobo\",\"frog\",\"pope\"]\n",
    "let adjectives = [\"lazy\",\"grouchy\",\"scheming\"]\n",
    "[adjective ++ \" \" ++ noun | adjective <- adjectives, noun <- nouns]"
   ]
  },
  {
   "cell_type": "markdown",
   "metadata": {},
   "source": [
    "우리만의 [`length`](https://hackage.haskell.org/package/base/docs/Prelude.html#v:length)를 만들어서 사용하면됨. 이것을 `length'`라고 부름."
   ]
  },
  {
   "cell_type": "code",
   "execution_count": null,
   "metadata": {
    "attributes": {
     "classes": [
      "haskell:",
      "hs"
     ],
     "id": "",
     "name": "\"code\""
    }
   },
   "outputs": [],
   "source": [
    "length' xs = sum [1 | _ <- xs]"
   ]
  },
  {
   "cell_type": "markdown",
   "metadata": {},
   "source": [
    "* `_`는 리스트에 무엇이 들어와도 상관없을 때, 아무 변수 이름을 사용하는 대신에 `_`를 사용.\n",
    "* 위 함수는 리스트의 모든 원소를 1로 대체한 후 모두 합쳐줌. \n",
    "* 즉, 원소를 모두 합친 결과는 이 리스트의 길이를 의미.\n",
    "\n",
    "문자열도 리스트이기 때문에, 문자열을 처리하고 생성하는데 리스트 조건 제시법을 사용할 수 있음. 아래 함수는 문자열을 받아와 대문자를 제외한 모든 원소를 제외해줌."
   ]
  },
  {
   "cell_type": "code",
   "execution_count": null,
   "metadata": {
    "attributes": {
     "classes": [
      "haskell:",
      "hs"
     ],
     "id": "",
     "name": "\"code\""
    }
   },
   "outputs": [],
   "source": [
    "removeNonUppercase st = [ c | c <- st, c `elem` ['A'..'Z']]"
   ]
  },
  {
   "cell_type": "markdown",
   "metadata": {},
   "source": [
    "함수 테스트"
   ]
  },
  {
   "cell_type": "code",
   "execution_count": null,
   "metadata": {
    "attributes": {
     "classes": [
      "haskell:",
      "ghci"
     ],
     "id": "",
     "name": "\"code\""
    }
   },
   "outputs": [],
   "source": [
    "removeNonUppercase \"Hahaha! Ahahaha!\""
   ]
  },
  {
   "cell_type": "code",
   "execution_count": null,
   "metadata": {
    "attributes": {
     "classes": [
      "haskell:",
      "ghci"
     ],
     "id": "",
     "name": "\"code\""
    }
   },
   "outputs": [],
   "source": [
    "removeNonUppercase \"IdontLIKEFROGS\""
   ]
  },
  {
   "cell_type": "markdown",
   "metadata": {},
   "source": [
    "이 함수에서는 문자가 `['A'..'Z']`의 리스트에 포함이 되면 새로운 리스트에 포함시켜줌.\n",
    "\n",
    "리스트를 포함하는 리스트에서 연산을 수행하는 경우, 중첩 리스트 조건 제시법이 가능함.\n",
    "아래 리스트는 숫자를 원소로 가진 몇 가지 리스트를 포함하고 있음.\n",
    "리스트를 합치지 않고, 모든 홀수를 제거해보자."
   ]
  },
  {
   "cell_type": "code",
   "execution_count": null,
   "metadata": {
    "attributes": {
     "classes": [
      "haskell:",
      "ghci"
     ],
     "id": "",
     "name": "\"code\""
    }
   },
   "outputs": [],
   "source": [
    "let xxs = [[1,3,5,2,3,1,2,4,5],[1,2,3,4,5,6,7,8,9],[1,2,4,2,1,6,3,1,3,2,3,6]]\n",
    "[ [ x | x <- xs, even x ] | xs <- xxs]"
   ]
  },
  {
   "cell_type": "markdown",
   "metadata": {},
   "source": [
    "리스트 조건 제시법을 여러 줄에 거쳐 작성할 수 있음. 특히 중첩된 경우와 같이 리스트 조건 제시법이 길어질 경우에는 여러 줄로 나누어서 작성하는 것이 좋음."
   ]
  },
  {
   "cell_type": "markdown",
   "metadata": {},
   "source": [
    "# 4. 튜플(Tuples)\n",
    "------\n",
    "어떻게 보면, 튜플은 리스트와 비슷 - 하나의 변수에 여러 가지 변수를 저장할 수 있는 방법. 하지만, 몇 가지 근본적인 차이가 있음.\n",
    "1. 숫자의 리스트는 숫자의 리스트이다. 리스트는 하나의 숫자만 포함하든, 무한한 수의 숫자가 포함되든 상관없지만, 튜플은 결합하고자하는 변수가 몇 개인지 정확히 알고있을 때 사용\n",
    "2. 튜플의 타입은 얼마나 많은 원소를 가지는지, 무슨 타입의 원소를 가지는지에 따라 달라짐. \n",
    "3. 튜플은 소괄호를 사용해 표현하고, 튜플의 요소는 콤마로 구분.\n",
    "4. 모든 원소가 같은 타입을 가질 필요는 없음. 리스트와 달리, 튜플은 여러 타입의 조합을 포함할 수 있음.\n",
    "\n",
    "하스켈에서 2차원 벡터를 어떻게 표현할지 생각해보자. \n",
    "* 한 가지 방법은 리스트를 사용하는 것.\n",
    "    * 만약 우리가 2차원 평면에 있는 형상의 점들을 나타내기 위해 리스트에 벡터 두 개 넣기를 원한다면 어떨까? `[[1,2],[8,11],[4,5]]`처럼 표현할 수 있을 것.\n",
    "* 이 방법의 문제점은 `[[1,2],[8,11,5],[4,5]]`도 사용 가능하다는 것임. \n",
    "    * 하스켈에서는 리스트가 숫자들로만 구성되어 있기 때문에 문제가 되지 않지만, 사이즈가 2인 튜플(쌍(pair)라고도 함)은 그것 자체가 타입임.\n",
    "    * 즉, 리스트는 사이즈가 2인 튜플을 받은 후에 사이즈가 3인 튜플을 받을 수 없음. 그러므로 위와 같은 문제가 발생하지 않도록 리스트 대신에 튜플을 사용.\n",
    "    \n",
    "벡터를 대괄호로 묶는 대신 소괄호를 사용: `[(1,2),(8,11),(4,5)]`. `[(1,2),(8,11,5),(4,5)]`와 같이 만들면 어떻게 될까? 오류가 발생한다."
   ]
  },
  {
   "cell_type": "code",
   "execution_count": null,
   "metadata": {
    "attributes": {
     "classes": [
      "haskell:",
      "ghci"
     ],
     "id": "",
     "name": "\"code\""
    }
   },
   "outputs": [],
   "source": [
    "[(1,2),(8,11,5),(4,5)]"
   ]
  },
  {
   "cell_type": "markdown",
   "metadata": {},
   "source": [
    "위 코드의 오류에서는 한 쌍과 세 개의 원소를 가진 튜플을 동시에 사용하고 있다고 알려줌.\n",
    "* `[(1,2),(\"One\",2)]`와 같은 리스트도 만들 수 없음.\n",
    "* 이유: 리스트의 첫 번째 원소는 숫자로 구성된 쌍이지만, 두 번째 원소는 문자열과 숫자로 구성된 쌍이기 때문. \n",
    "\n",
    "튜플은 다양한 데이터를 나타내는 데도 사용 가능함. \n",
    "* 예를 들어, 하스켈로 누군가의 이름과 나이를 표현하고자 한다면 튜플을 사용해 표현할 수 있음 :`(\"Christopher\", \"Walken\", 55)`.\n",
    "* 예제에서 볼 수 있듯이 튜플은 리스트도 포함할 수 있음.\n",
    "\n",
    "튜플의 특징:\n",
    "1. 데이터에 포함되어야하는 원소의 수를 미리 알고 있는 경우 튜플을 사용. \n",
    "2. 튜플은 다른 크기의 튜플이 각각의 타입이기 때문에 조금 더 견고함. 따라서 튜플에 원소를 추가하는 함수는 사용할 수 없음.\n",
    "    * 한 쌍을 추가하는 함수를 작성하거나 세 개의 원소를 가진 튜플을 추가하는 함수를 작성하거나 4개의 원소를 가진 튜플을 추가하는 함수를 작성할 수 없음.\n",
    "3. 하나의 원소만 있는 리스트는 있지만, 하나의 원소를 가진 튜플은 없다. \n",
    "4. 리스트처럼 튜플은 튜플이 비교 가능한 원소를 포함하고 있다면, 튜플 간의 원소비교가 가능함. \n",
    "    * 서로 크기가 다른 두 리스트는 비교 가능하지만, 크기가 다른 두 튜플은 비교할 수 없음.\n",
    "    \n",
    "튜플의 쌍에서 유용하게 사용하는 함수:\n",
    "\n",
    "* __[`fst`](https://hackage.haskell.org/package/base/docs/Prelude.html#v:fst)__ : 쌍을 받아와 쌍의 첫 번째 원소를 반환."
   ]
  },
  {
   "cell_type": "code",
   "execution_count": null,
   "metadata": {
    "attributes": {
     "classes": [
      "haskell:",
      "ghci"
     ],
     "id": "",
     "name": "\"code\""
    }
   },
   "outputs": [],
   "source": [
    "fst (8,11)"
   ]
  },
  {
   "cell_type": "code",
   "execution_count": null,
   "metadata": {
    "attributes": {
     "classes": [
      "haskell:",
      "ghci"
     ],
     "id": "",
     "name": "\"code\""
    }
   },
   "outputs": [],
   "source": [
    "fst (\"Wow\", False)"
   ]
  },
  {
   "cell_type": "markdown",
   "metadata": {},
   "source": [
    "* __[`snd`](https://hackage.haskell.org/package/base/docs/Prelude.html#v:snd)__: 쌍을 받아와 쌍의 두 번째 원소를 반환."
   ]
  },
  {
   "cell_type": "code",
   "execution_count": null,
   "metadata": {
    "attributes": {
     "classes": [
      "haskell:",
      "ghci"
     ],
     "id": "",
     "name": "\"code\""
    }
   },
   "outputs": [],
   "source": [
    "snd (8,11)"
   ]
  },
  {
   "cell_type": "code",
   "execution_count": null,
   "metadata": {
    "attributes": {
     "classes": [
      "haskell:",
      "ghci"
     ],
     "id": "",
     "name": "\"code\""
    }
   },
   "outputs": [],
   "source": [
    "snd (\"Wow\", False)"
   ]
  },
  {
   "cell_type": "markdown",
   "metadata": {},
   "source": [
    "> __Note:__ 이 함수는 오직 쌍에서만 작동. 3개 이상의 원소를 가진 튜플에서는 작동하지 않음. 나중에 튜플에서 데이터 추출하는 방법에 대해 알아볼 것.\n",
    "\n",
    "\n",
    "* __[`zip`](https://hackage.haskell.org/package/base/docs/Prelude.html#v:zip)__: 쌍의 리스트를 만들어주는 함수. \n",
    "    * 두 개의 리스트를 받아와 각 리스트들의 첫 번째 원소들부터 순서대로 쌍으로 결합해 하나의 리스트로 압축해줌. \n",
    "    * 이 기능은 두 리스트를 어떤 방식으로 결합하거나 두 리스트를 동시에 옮길 때 특히 유용. 아래 셀에 예시가 있음."
   ]
  },
  {
   "cell_type": "code",
   "execution_count": null,
   "metadata": {
    "attributes": {
     "classes": [
      "haskell:",
      "ghci"
     ],
     "id": "",
     "name": "\"code\""
    }
   },
   "outputs": [],
   "source": [
    "zip [1,2,3,4,5] [5,5,5,5,5]"
   ]
  },
  {
   "cell_type": "code",
   "execution_count": null,
   "metadata": {
    "attributes": {
     "classes": [
      "haskell:",
      "ghci"
     ],
     "id": "",
     "name": "\"code\""
    }
   },
   "outputs": [],
   "source": [
    "zip [1 .. 5] [\"one\", \"two\", \"three\", \"four\", \"five\"]"
   ]
  },
  {
   "cell_type": "markdown",
   "metadata": {},
   "source": [
    "`zip` 함수는 원소들을 쌍으로 만들고 새로운 리스트를 생성함.\n",
    "* 가장 첫 번째 요소는 첫 번째 요소끼리, 두 번째 요소는 두 번째 요소끼리 결합.\n",
    "* 만들어진 쌍들의 요소들끼리 서로 다른 타입일 수 있기 때문에, [`zip`](https://hackage.haskell.org/package/base/docs/Prelude.html#v:zip)은 서로 다른 타입을 포함한 두 개의 리스트를 가져와 이들을 압축할 수 있음.\n",
    "\n",
    "리스트들의 길이가 똑같지 않다면 어떻게 될까?"
   ]
  },
  {
   "cell_type": "code",
   "execution_count": null,
   "metadata": {
    "attributes": {
     "classes": [
      "haskell:",
      "ghci"
     ],
     "id": "",
     "name": "\"code\""
    }
   },
   "outputs": [],
   "source": [
    "zip [5,3,2,6,2,7,2,5,4,6,6] [\"im\",\"a\",\"turtle\"]"
   ]
  },
  {
   "cell_type": "markdown",
   "metadata": {},
   "source": [
    "* 긴 리스트는 짧은 리스트의 길이에 맞춰 잘림. 하스켈은 게으르기 때문에, 무한대 리스트와 유한대 리스트를 압축할 수 있음."
   ]
  },
  {
   "cell_type": "code",
   "execution_count": null,
   "metadata": {
    "attributes": {
     "classes": [
      "haskell:",
      "ghci"
     ],
     "id": "",
     "name": "\"code\""
    }
   },
   "outputs": [],
   "source": [
    "zip [1..] [\"apple\", \"orange\", \"cherry\", \"mango\"]"
   ]
  },
  {
   "cell_type": "markdown",
   "metadata": {},
   "source": [
    "<img src=\"img/pythag.png\" title=\"look at meee\" style=\"margin-left:auto;margin-right:auto;\" />\n",
    "\n",
    "튜플과 리스트 조건 제시법을 결합하면 문제가 생김.\n",
    "\n",
    "\n",
    "모든 변이 정수 길이이고 길이가 10이하인 직각 삼각형 중에서 둘레가 24인 직각 삼각형이 있을까? 먼저 변의 길이가 10보다 작거나 같은 모든 삼각형을 생성해보자."
   ]
  },
  {
   "cell_type": "code",
   "execution_count": null,
   "metadata": {
    "attributes": {
     "classes": [
      "haskell:",
      "ghci"
     ],
     "id": "",
     "name": "\"code\""
    }
   },
   "outputs": [],
   "source": [
    "let triangles = [ (a,b,c) | c <- [1..10], b <- [1..10], a <- [1..10] ]"
   ]
  },
  {
   "cell_type": "markdown",
   "metadata": {},
   "source": [
    "위 코드는 세 개의 리스트를 활용하고 출력 함수에서는 세 개의 리스트를 튜플로 결합.\n",
    "* GHC에서 `triangles`를 입력해 출력하면, 변이 10이하인 모든 삼각형의 리스트를 얻을 수 있음.\n",
    "\n",
    "그 다음으로, 직각 삼각형이어야 한다는 조건을 추가할 것.\n",
    "* 변 b의 길이가 빗변의 길이보다 크지 않고 변 a가 b보다 크지 않다는 것(피타고라스 정리)을 고려해 위 함수를 수정할 수 있음."
   ]
  },
  {
   "cell_type": "code",
   "execution_count": null,
   "metadata": {
    "attributes": {
     "classes": [
      "haskell:",
      "ghci"
     ],
     "id": "",
     "name": "\"code\""
    }
   },
   "outputs": [],
   "source": [
    "let rightTriangles = [ (a,b,c) | c <- [1..10], b <- [1..c], a <- [1..b], a^2 + b^2 == c^2]"
   ]
  },
  {
   "cell_type": "markdown",
   "metadata": {},
   "source": [
    "마지막으로 직각 삼각형의 둘레가 24인 직각 삼각형만 반환하도록 함수를 수정."
   ]
  },
  {
   "cell_type": "code",
   "execution_count": null,
   "metadata": {
    "attributes": {
     "classes": [
      "haskell:",
      "ghci"
     ],
     "id": "",
     "name": "\"code\""
    }
   },
   "outputs": [],
   "source": [
    "let rightTriangles' = [ (a,b,c) | c <- [1..10], b <- [1..c], a <- [1..b], a^2 + b^2 == c^2, a+b+c == 24]\n",
    "rightTriangles'"
   ]
  },
  {
   "cell_type": "markdown",
   "metadata": {},
   "source": [
    "위에서 실행한 패턴이 일반적으로 함수 프로그래밍에서 사용하는 패턴.\n",
    "* 시작 조건을 선택해 해결한 후 해결한 솔루션을 다른 조건에 맞도록 변형시키는 과정을 원하는 결과를 얻을 때까지 반복"
   ]
  }
 ],
 "metadata": {
  "kernelspec": {
   "display_name": "Haskell",
   "language": "haskell",
   "name": "haskell"
  },
  "language_info": {
   "codemirror_mode": "Haskell",
   "file_extension": ".hs",
   "mimetype": "text/x-haskell",
   "name": "haskell",
   "pygments_lexer": "Haskell",
   "version": "8.8.4"
  }
 },
 "nbformat": 4,
 "nbformat_minor": 4
}
