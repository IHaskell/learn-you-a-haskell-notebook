{
 "cells": [
  {
   "cell_type": "markdown",
   "metadata": {},
   "source": [
    "Higher order functions\n",
    "======================\n",
    "\n",
    "<img src=\"img/sun.png\" title=\"sun\" style=\"float:right;margin-left:2em;\" />\n",
    "\n",
    "Haskell functions can take functions as parameters and return functions\n",
    "as return values. A function that does either of those is called a\n",
    "higher order function. Higher order functions aren't just a part of the\n",
    "Haskell experience, they pretty much are the Haskell experience. It\n",
    "turns out that if you want to define computations by defining what stuff\n",
    "*is* instead of defining steps that change some state and maybe looping\n",
    "them, higher order functions are indispensable. They're a really\n",
    "powerful way of solving problems and thinking about programs."
   ]
  },
  {
   "cell_type": "markdown",
   "metadata": {
    "attributes": {
     "classes": [
      "haskell:ghci"
     ],
     "id": "",
     "name": "\"code\""
    }
   },
   "source": [
    "> __Jupyter Note:__ We'll turn off the [automatic linting for IHaskell](https://github.com/gibiansky/IHaskell/wiki#opt-no-lint) first."
   ]
  },
  {
   "cell_type": "code",
   "execution_count": 1,
   "metadata": {
    "attributes": {
     "classes": [
      "haskell:ghci"
     ],
     "id": "",
     "name": "\"code\""
    }
   },
   "outputs": [],
   "source": [
    ":opt no-lint"
   ]
  },
  {
   "cell_type": "markdown",
   "metadata": {},
   "source": [
    "<a name=\"curried-functions\"></a>\n",
    "\n",
    "Curried functions\n",
    "-----------------\n",
    "\n",
    "Every function in Haskell officially only takes one parameter. So how is\n",
    "it possible that we defined and used several functions that take more\n",
    "than one parameter so far? Well, it's a clever trick! All the functions\n",
    "that accepted *several parameters* so far have been __curried functions__.\n",
    "What does that mean? You'll understand it best on an example. Let's take\n",
    "our good friend, the [`max`](https://hackage.haskell.org/package/base/docs/Prelude.html#v:max) function. It looks like it takes two parameters\n",
    "and returns the one that's bigger. Doing `max 4 5` first creates a\n",
    "function that takes a parameter and returns either `4` or that parameter,\n",
    "depending on which is bigger. Then, `5` is applied to that function and\n",
    "that function produces our desired result. That sounds like a mouthful\n",
    "but it's actually a really cool concept. The following two calls are\n",
    "equivalent:"
   ]
  },
  {
   "cell_type": "code",
   "execution_count": 2,
   "metadata": {
    "attributes": {
     "classes": [
      "haskell:ghci"
     ],
     "id": "",
     "name": "\"code\""
    }
   },
   "outputs": [
    {
     "data": {
      "text/plain": [
       "5"
      ]
     },
     "metadata": {},
     "output_type": "display_data"
    }
   ],
   "source": [
    "max 4 5"
   ]
  },
  {
   "cell_type": "code",
   "execution_count": 3,
   "metadata": {
    "attributes": {
     "classes": [
      "haskell:ghci"
     ],
     "id": "",
     "name": "\"code\""
    }
   },
   "outputs": [
    {
     "data": {
      "text/plain": [
       "5"
      ]
     },
     "metadata": {},
     "output_type": "display_data"
    }
   ],
   "source": [
    "(max 4) 5"
   ]
  },
  {
   "cell_type": "markdown",
   "metadata": {},
   "source": [
    "<img src=\"img/curry.png\" title=\"haskell curry\" style=\"float:left;margin-right:2em;\" />\n",
    "\n",
    "Putting a space between two things is simply **function application**.\n",
    "The space is sort of like an operator and it has the highest precedence.\n",
    "Let's examine the type of [`max`](https://hackage.haskell.org/package/base/docs/Prelude.html#v:max). It's `max :: (Ord a) => a -> a -> a`.\n",
    "That can also be written as `max :: (Ord a) => a -> (a -> a)`. That\n",
    "could be read as: [`max`](https://hackage.haskell.org/package/base/docs/Prelude.html#v:max) takes an `a` and returns (that's the `->`)\n",
    "a function that takes an `a` and returns an `a`.\n",
    "That's why the return type and the\n",
    "parameters of functions are all simply separated with arrows.\n",
    "\n",
    "So how is that beneficial to us? Simply speaking, if we call a function\n",
    "with too few parameters, we get back a __partially applied__ function,\n",
    "meaning a function that takes as many parameters as we left out. Using\n",
    "partial application (calling functions with too few parameters, if you\n",
    "will) is a neat way to create functions on the fly so we can pass them\n",
    "to another function or to seed them with some data.\n",
    "\n",
    "Take a look at this offensively simple function:"
   ]
  },
  {
   "cell_type": "code",
   "execution_count": 4,
   "metadata": {
    "attributes": {
     "classes": [
      "haskell:ghci"
     ],
     "id": "",
     "name": "\"code\""
    }
   },
   "outputs": [],
   "source": [
    "multThree :: (Num a) => a -> a -> a -> a\n",
    "multThree x y z = x * y * z"
   ]
  },
  {
   "cell_type": "markdown",
   "metadata": {},
   "source": [
    "What really happens when we do `multThree 3 5 9` or `((multThree 3) 5) 9`?\n",
    "First, `3` is applied to `multThree`, because they're separated by a space.\n",
    "That creates a function that takes one parameter and returns a function.\n",
    "So then `5` is applied to that, which creates a function that will take a\n",
    "parameter and multiply it by 15. `9` is applied to that function and the\n",
    "result is 135 or something. Remember that this function's type could\n",
    "also be written as `multThree :: (Num a) => a -> (a -> (a -> a))`. The\n",
    "thing before the `->` is the parameter that a function takes and the\n",
    "thing after it is what it returns. So our function takes an `a` and\n",
    "returns a function of type `(Num a) => a -> (a -> a)`. Similarly, this\n",
    "function takes an `a` and returns a function of type `(Num a) => a -> a`.\n",
    "And this function, finally, just takes an `a` and returns an `a`. Take a\n",
    "look at this:"
   ]
  },
  {
   "cell_type": "code",
   "execution_count": 5,
   "metadata": {
    "attributes": {
     "classes": [
      "haskell:ghci"
     ],
     "id": "",
     "name": "\"code\""
    }
   },
   "outputs": [
    {
     "data": {
      "text/plain": [
       "54"
      ]
     },
     "metadata": {},
     "output_type": "display_data"
    }
   ],
   "source": [
    "let multTwoWithNine = multThree 9\n",
    "multTwoWithNine 2 3"
   ]
  },
  {
   "cell_type": "code",
   "execution_count": 6,
   "metadata": {
    "attributes": {
     "classes": [
      "haskell:ghci"
     ],
     "id": "",
     "name": "\"code\""
    }
   },
   "outputs": [
    {
     "data": {
      "text/plain": [
       "180"
      ]
     },
     "metadata": {},
     "output_type": "display_data"
    }
   ],
   "source": [
    "let multWithEighteen = multTwoWithNine 2\n",
    "multWithEighteen 10"
   ]
  },
  {
   "cell_type": "markdown",
   "metadata": {},
   "source": [
    "By calling functions with too few parameters, so to speak, we're\n",
    "creating new functions on the fly. What if we wanted to create a\n",
    "function that takes a number and compares it to `100`? We could do\n",
    "something like this:"
   ]
  },
  {
   "cell_type": "code",
   "execution_count": 7,
   "metadata": {
    "attributes": {
     "classes": [
      "haskell:hs"
     ],
     "id": "",
     "name": "\"code\""
    }
   },
   "outputs": [],
   "source": [
    "compareWithHundred :: (Num a, Ord a) => a -> Ordering\n",
    "compareWithHundred x = compare 100 x"
   ]
  },
  {
   "cell_type": "markdown",
   "metadata": {},
   "source": [
    "If we call it with `99`, it returns a [`GT`](https://hackage.haskell.org/package/base/docs/Prelude.html#v:GT). Simple stuff. Notice that the `x`\n",
    "is on the right hand side on both sides of the equation. Now let's think\n",
    "about what `compare 100` returns. It returns a function that takes a\n",
    "number and compares it with `100`. Wow! Isn't that the function we wanted?\n",
    "We can rewrite this as:"
   ]
  },
  {
   "cell_type": "code",
   "execution_count": 8,
   "metadata": {
    "attributes": {
     "classes": [
      "haskell:hs"
     ],
     "id": "",
     "name": "\"code\""
    }
   },
   "outputs": [],
   "source": [
    "compareWithHundred :: (Num a, Ord a) => a -> Ordering\n",
    "compareWithHundred = compare 100"
   ]
  },
  {
   "cell_type": "markdown",
   "metadata": {},
   "source": [
    "The type declaration stays the same, because `compare 100` returns a\n",
    "function. Compare has a type of `(Ord a) => a -> (a -> Ordering)` and\n",
    "calling it with `100` returns a `(Num a, Ord a) => a -> Ordering`. The\n",
    "additional class constraint sneaks up there because `100` is also part of\n",
    "the [`Num`](https://hackage.haskell.org/package/base/docs/Prelude.html#t:Num) typeclass.\n",
    "\n",
    "> __Yo!__ Make sure you really understand how curried functions and partial\n",
    "> application work because they're really important!\n",
    "\n",
    "Infix functions can also be partially applied by using sections. To\n",
    "section an infix function, simply surround it with parentheses and only\n",
    "supply a parameter on one side. That creates a function that takes one\n",
    "parameter and then applies it to the side that's missing an operand. An\n",
    "insultingly trivial function:"
   ]
  },
  {
   "cell_type": "code",
   "execution_count": 9,
   "metadata": {
    "attributes": {
     "classes": [
      "haskell:hs"
     ],
     "id": "",
     "name": "\"code\""
    }
   },
   "outputs": [],
   "source": [
    "divideByTen :: (Floating a) => a -> a\n",
    "divideByTen = (/10)"
   ]
  },
  {
   "cell_type": "markdown",
   "metadata": {},
   "source": [
    "Calling, say, `divideByTen 200` is equivalent to doing `200 / 10`, as is\n",
    "doing `(/10) 200`. A function that checks if a character supplied to it is\n",
    "an uppercase letter:"
   ]
  },
  {
   "cell_type": "code",
   "execution_count": 10,
   "metadata": {
    "attributes": {
     "classes": [
      "haskell:hs"
     ],
     "id": "",
     "name": "\"code\""
    }
   },
   "outputs": [],
   "source": [
    "isUpperAlphanum :: Char -> Bool\n",
    "isUpperAlphanum = (`elem` ['A'..'Z'])"
   ]
  },
  {
   "cell_type": "markdown",
   "metadata": {},
   "source": [
    "The only special thing about sections is using [`-`](https://hackage.haskell.org/package/base/docs/Prelude.html#v:-45-). From the definition of\n",
    "sections, `(-4)` would result in a function that takes a number and\n",
    "subtracts 4 from it. However, for convenience, `(-4)` means minus four. So\n",
    "if you want to make a function that subtracts 4 from the number it gets\n",
    "as a parameter, partially apply the [`subtract`](https://hackage.haskell.org/package/base/docs/Prelude.html#v:subtract) function like so:\n",
    "`(subtract 4)`.\n",
    "\n",
    "What happens if we try to just do `multThree 3 4` instead of\n",
    "binding it to a name with a *let* or passing it to another function?"
   ]
  },
  {
   "cell_type": "code",
   "execution_count": 11,
   "metadata": {
    "attributes": {
     "classes": [
      "haskell:hs"
     ],
     "id": "",
     "name": "\"code\""
    }
   },
   "outputs": [
    {
     "ename": "",
     "evalue": "",
     "header": "MessageHeader {mhIdentifiers = [\"c2dcbd2f-eb44-42d6-b691-d13a832d8433\"], mhParentHeader = Just (MessageHeader {mhIdentifiers = [\"c2dcbd2f-eb44-42d6-b691-d13a832d8433\"], mhParentHeader = Nothing, mhMetadata = Metadata (fromList [(\"deletedCells\",Array []),(\"cellId\",String \"980e1e96-742a-419c-ac94-1f8a82d820ac\")]), mhMessageId = UUID {uuidToString = \"a6698b0f-c486-4418-9d93-08918c55c913\"}, mhSessionId = UUID {uuidToString = \"c2dcbd2f-eb44-42d6-b691-d13a832d8433\"}, mhUsername = \"\", mhMsgType = ExecuteRequestMessage}), mhMetadata = Metadata (fromList []), mhMessageId = UUID {uuidToString = \"b5b3238b-cfa4-402a-9433-1b78453d0723\"}, mhSessionId = UUID {uuidToString = \"c2dcbd2f-eb44-42d6-b691-d13a832d8433\"}, mhUsername = \"\", mhMsgType = ExecuteErrorMessage}",
     "output_type": "error",
     "traceback": [
      "<interactive>:1:1: error:\n    • No instance for (Show (Integer -> Integer)) arising from a use of ‘print’\n        (maybe you haven't applied a function to enough arguments?)\n    • In a stmt of an interactive GHCi command: print it"
     ]
    }
   ],
   "source": [
    "multThree 3 4"
   ]
  },
  {
   "cell_type": "markdown",
   "metadata": {},
   "source": [
    "GHC is telling us that the expression produced a function of type\n",
    "`a -> a`\n",
    "but it doesn't know how to print it to the screen. Functions aren't\n",
    "instances of the [`Show`](https://hackage.haskell.org/package/base/docs/Prelude.html#t:Show) typeclass, so we can't get a neat string\n",
    "representation of a function. When we do, say, `1 + 1` at the GHC prompt,\n",
    "it first calculates that to `2` and then calls [`show`](https://hackage.haskell.org/package/base/docs/Prelude.html#v:show) on `2` to get a textual\n",
    "representation of that number. And the textual representation of `2` is\n",
    "just the string `\"2\"`, which then gets printed to our screen.\n",
    "\n",
    "Some higher-orderism is in order\n",
    "--------------------------------\n",
    "\n",
    "Functions can take functions as parameters and also return functions. To\n",
    "illustrate this, we're going to make a function that takes a function\n",
    "and then applies it twice to something!"
   ]
  },
  {
   "cell_type": "code",
   "execution_count": 12,
   "metadata": {
    "attributes": {
     "classes": [
      "haskell:hs"
     ],
     "id": "",
     "name": "\"code\""
    }
   },
   "outputs": [],
   "source": [
    "applyTwice :: (a -> a) -> a -> a\n",
    "applyTwice f x = f (f x)"
   ]
  },
  {
   "cell_type": "markdown",
   "metadata": {},
   "source": [
    "<img src=\"img/bonus.png\" title=\"rocktopus\" style=\"float:right;margin-left:2em;\" />\n",
    "\n",
    "First of all, notice the type declaration. Before, we didn't need\n",
    "parentheses because `->` is naturally right-associative. However, here,\n",
    "they're mandatory. They indicate that the first parameter is a function\n",
    "that takes something and returns that same thing. The second parameter\n",
    "is something of that type also and the return value is also of the same\n",
    "type. We could read this type declaration in the curried way, but to\n",
    "save ourselves a headache, we'll just say that this function takes two\n",
    "parameters and returns one thing. The first parameter is a function (of\n",
    "type `a -> a`) and the second is that same `a`. The function can also be\n",
    "`Int -> Int` or `String -> String` or whatever. But then, the second\n",
    "parameter to also has to be of that type.\n",
    "\n",
    "> __Note:__ From now on, we'll say that functions take several parameters\n",
    "> despite each function actually taking only one parameter and returning\n",
    "> partially applied functions until we reach a function that returns a\n",
    "> solid value. So for simplicity's sake, we'll say that `a -> a -> a`\n",
    "> takes two parameters, even though we know what's really going on under\n",
    "> the hood.\n",
    "\n",
    "The body of the function is pretty simple. We just use the parameter `f`\n",
    "as a function, applying `x` to it by separating them with a space and then\n",
    "applying the result to `f` again. Anyway, playing around with the\n",
    "function:"
   ]
  },
  {
   "cell_type": "code",
   "execution_count": 13,
   "metadata": {
    "attributes": {
     "classes": [
      "haskell:hs"
     ],
     "id": "",
     "name": "\"code\""
    }
   },
   "outputs": [
    {
     "data": {
      "text/plain": [
       "16"
      ]
     },
     "metadata": {},
     "output_type": "display_data"
    }
   ],
   "source": [
    "applyTwice (+3) 10"
   ]
  },
  {
   "cell_type": "code",
   "execution_count": 14,
   "metadata": {
    "attributes": {
     "classes": [
      "haskell:hs"
     ],
     "id": "",
     "name": "\"code\""
    }
   },
   "outputs": [
    {
     "data": {
      "text/plain": [
       "\"HEY HAHA HAHA\""
      ]
     },
     "metadata": {},
     "output_type": "display_data"
    }
   ],
   "source": [
    "applyTwice (++ \" HAHA\") \"HEY\""
   ]
  },
  {
   "cell_type": "code",
   "execution_count": 15,
   "metadata": {
    "attributes": {
     "classes": [
      "haskell:hs"
     ],
     "id": "",
     "name": "\"code\""
    }
   },
   "outputs": [
    {
     "data": {
      "text/plain": [
       "\"HAHA HAHA HEY\""
      ]
     },
     "metadata": {},
     "output_type": "display_data"
    }
   ],
   "source": [
    "applyTwice (\"HAHA \" ++) \"HEY\""
   ]
  },
  {
   "cell_type": "code",
   "execution_count": 16,
   "metadata": {
    "attributes": {
     "classes": [
      "haskell:hs"
     ],
     "id": "",
     "name": "\"code\""
    }
   },
   "outputs": [
    {
     "data": {
      "text/plain": [
       "144"
      ]
     },
     "metadata": {},
     "output_type": "display_data"
    }
   ],
   "source": [
    "applyTwice (multThree 2 2) 9"
   ]
  },
  {
   "cell_type": "code",
   "execution_count": 17,
   "metadata": {
    "attributes": {
     "classes": [
      "haskell:hs"
     ],
     "id": "",
     "name": "\"code\""
    }
   },
   "outputs": [
    {
     "data": {
      "text/plain": [
       "[3,3,1]"
      ]
     },
     "metadata": {},
     "output_type": "display_data"
    }
   ],
   "source": [
    "applyTwice (3:) [1]"
   ]
  },
  {
   "cell_type": "markdown",
   "metadata": {},
   "source": [
    "The awesomeness and usefulness of partial application is evident. If our\n",
    "function requires us to pass it a function that takes only one\n",
    "parameter, we can just partially apply a function to the point where it\n",
    "takes only one parameter and then pass it.\n",
    "\n",
    "Now we're going to use higher order programming to implement a really\n",
    "useful function that's in the standard library. It's called [`zipWith`](https://hackage.haskell.org/package/base/docs/Prelude.html#v:zipWith). It\n",
    "takes a function and two lists as parameters and then joins the two\n",
    "lists by applying the function between corresponding elements. Here's\n",
    "how we'll implement it:"
   ]
  },
  {
   "cell_type": "code",
   "execution_count": 18,
   "metadata": {
    "attributes": {
     "classes": [
      "haskell:hs"
     ],
     "id": "",
     "name": "\"code\""
    }
   },
   "outputs": [],
   "source": [
    "zipWith' :: (a -> b -> c) -> [a] -> [b] -> [c]\n",
    "zipWith' _ [] _ = []\n",
    "zipWith' _ _ [] = []\n",
    "zipWith' f (x:xs) (y:ys) = f x y : zipWith' f xs ys"
   ]
  },
  {
   "cell_type": "markdown",
   "metadata": {},
   "source": [
    "Look at the type declaration. The first parameter is a function that\n",
    "takes two things and produces a third thing. They don't have to be of\n",
    "the same type, but they can. The second and third parameter are lists.\n",
    "The result is also a list. The first has to be a list of `a`'s, because\n",
    "the joining function takes `a`'s as its first argument. The second has to\n",
    "be a list of `b`'s, because the second parameter of the joining function\n",
    "is of type `b`. The result is a list of `c`'s. If the type declaration of a\n",
    "function says it accepts an `a -> b -> c` function as a parameter, it\n",
    "will also accept an `a -> a -> a` function, but not the other way\n",
    "around! Remember that when you're making functions, especially higher\n",
    "order ones, and you're unsure of the type, you can just try omitting the\n",
    "type declaration and then checking what Haskell infers it to be by using\n",
    "`:t`.\n",
    "\n",
    "The action in the function is pretty similar to the normal [`zip`](https://hackage.haskell.org/package/base/docs/Prelude.html#v:zip). The edge\n",
    "conditions are the same, only there's an extra argument, the joining\n",
    "function, but that argument doesn't matter in the edge conditions, so we\n",
    "just use a `_` for it. And function body at the last pattern is also\n",
    "similar to [`zip`](https://hackage.haskell.org/package/base/docs/Prelude.html#v:zip), only it doesn't do `(x,y)`, but `f x y`. A single higher\n",
    "order function can be used for a multitude of different tasks if it's\n",
    "general enough. Here's a little demonstration of all the different\n",
    "things our `zipWith'` function can do:"
   ]
  },
  {
   "cell_type": "code",
   "execution_count": 19,
   "metadata": {
    "attributes": {
     "classes": [
      "haskell:ghci"
     ],
     "id": "",
     "name": "\"code\""
    }
   },
   "outputs": [
    {
     "data": {
      "text/plain": [
       "[6,8,7,9]"
      ]
     },
     "metadata": {},
     "output_type": "display_data"
    }
   ],
   "source": [
    "zipWith' (+) [4,2,5,6] [2,6,2,3]"
   ]
  },
  {
   "cell_type": "code",
   "execution_count": 20,
   "metadata": {
    "attributes": {
     "classes": [
      "haskell:ghci"
     ],
     "id": "",
     "name": "\"code\""
    }
   },
   "outputs": [
    {
     "data": {
      "text/plain": [
       "[7,3,2,5]"
      ]
     },
     "metadata": {},
     "output_type": "display_data"
    }
   ],
   "source": [
    "zipWith' max [6,3,2,1] [7,3,1,5]"
   ]
  },
  {
   "cell_type": "code",
   "execution_count": 21,
   "metadata": {
    "attributes": {
     "classes": [
      "haskell:ghci"
     ],
     "id": "",
     "name": "\"code\""
    }
   },
   "outputs": [
    {
     "data": {
      "text/plain": [
       "[\"foo fighters\",\"bar hoppers\",\"baz aldrin\"]"
      ]
     },
     "metadata": {},
     "output_type": "display_data"
    }
   ],
   "source": [
    "zipWith' (++) [\"foo \", \"bar \", \"baz \"] [\"fighters\", \"hoppers\", \"aldrin\"]"
   ]
  },
  {
   "cell_type": "code",
   "execution_count": 22,
   "metadata": {
    "attributes": {
     "classes": [
      "haskell:ghci"
     ],
     "id": "",
     "name": "\"code\""
    }
   },
   "outputs": [
    {
     "data": {
      "text/plain": [
       "[2,4,6,8,10]"
      ]
     },
     "metadata": {},
     "output_type": "display_data"
    }
   ],
   "source": [
    "zipWith' (*) (replicate 5 2) [1..]"
   ]
  },
  {
   "cell_type": "code",
   "execution_count": 23,
   "metadata": {
    "attributes": {
     "classes": [
      "haskell:ghci"
     ],
     "id": "",
     "name": "\"code\""
    }
   },
   "outputs": [
    {
     "data": {
      "text/plain": [
       "[[3,4,6],[9,20,30],[10,12,12]]"
      ]
     },
     "metadata": {},
     "output_type": "display_data"
    }
   ],
   "source": [
    "zipWith' (zipWith' (*)) [[1,2,3],[3,5,6],[2,3,4]] [[3,2,2],[3,4,5],[5,4,3]]"
   ]
  },
  {
   "cell_type": "markdown",
   "metadata": {},
   "source": [
    "As you can see, a single higher order function can be used in very\n",
    "versatile ways. Imperative programming usually uses stuff like for\n",
    "loops, while loops, setting something to a variable, checking its state,\n",
    "etc. to achieve some behavior and then wrap it around an interface, like\n",
    "a function. Functional programming uses higher order functions to\n",
    "abstract away common patterns, like examining two lists in pairs and\n",
    "doing something with those pairs or getting a set of solutions and\n",
    "eliminating the ones you don't need.\n",
    "\n",
    "We'll implement another function that's already in the standard library,\n",
    "called [`flip`](https://hackage.haskell.org/package/base/docs/Prelude.html#v:flip). Flip simply takes a function and returns a function that is\n",
    "like our original function, only the first two arguments are flipped. We\n",
    "can implement it like so:"
   ]
  },
  {
   "cell_type": "code",
   "execution_count": 24,
   "metadata": {
    "attributes": {
     "classes": [
      "haskell:hs"
     ],
     "id": "",
     "name": "\"code\""
    }
   },
   "outputs": [],
   "source": [
    "flip' :: (a -> b -> c) -> (b -> a -> c)\n",
    "flip' f = g\n",
    "    where g x y = f y x"
   ]
  },
  {
   "cell_type": "markdown",
   "metadata": {},
   "source": [
    "Reading the type declaration, we say that it takes a function that takes\n",
    "an `a` and a `b` and returns a function that takes a `b` and an `a`. But because\n",
    "functions are curried by default, the second pair of parentheses is\n",
    "really unnecessary, because `->` is right associative by default.\n",
    "`(a -> b -> c) -> (b -> a -> c)` is the same as\n",
    "`(a -> b -> c) -> (b -> (a -> c))`,\n",
    "which is the same as `(a -> b -> c) -> b -> a -> c`. We\n",
    "wrote that `g x y = f y x`. If that's true, then `f y x = g x y` must also\n",
    "hold, right? Keeping that in mind, we can define this function in an\n",
    "even simpler manner."
   ]
  },
  {
   "cell_type": "code",
   "execution_count": 25,
   "metadata": {
    "attributes": {
     "classes": [
      "haskell:hs"
     ],
     "id": "",
     "name": "\"code\""
    }
   },
   "outputs": [],
   "source": [
    "flip' :: (a -> b -> c) -> b -> a -> c\n",
    "flip' f y x = f x y"
   ]
  },
  {
   "cell_type": "markdown",
   "metadata": {},
   "source": [
    "Here, we take advantage of the fact that functions are curried. When we\n",
    "call `flip' f` without the parameters `y` and `x`, it will return an `f` that\n",
    "takes those two parameters but calls them flipped. Even though flipped\n",
    "functions are usually passed to other functions, we can take advantage\n",
    "of currying when making higher-order functions by thinking ahead and\n",
    "writing what their end result would be if they were called fully\n",
    "applied."
   ]
  },
  {
   "cell_type": "code",
   "execution_count": 26,
   "metadata": {
    "attributes": {
     "classes": [
      "haskell:ghci"
     ],
     "id": "",
     "name": "\"code\""
    }
   },
   "outputs": [
    {
     "data": {
      "text/plain": [
       "[('h',1),('e',2),('l',3),('l',4),('o',5)]"
      ]
     },
     "metadata": {},
     "output_type": "display_data"
    }
   ],
   "source": [
    "flip' zip [1,2,3,4,5] \"hello\""
   ]
  },
  {
   "cell_type": "code",
   "execution_count": 27,
   "metadata": {
    "attributes": {
     "classes": [
      "haskell:ghci"
     ],
     "id": "",
     "name": "\"code\""
    }
   },
   "outputs": [
    {
     "data": {
      "text/plain": [
       "[5,4,3,2,1]"
      ]
     },
     "metadata": {},
     "output_type": "display_data"
    }
   ],
   "source": [
    "zipWith (flip' div) [2,2..] [10,8,6,4,2]"
   ]
  },
  {
   "cell_type": "markdown",
   "metadata": {},
   "source": [
    "Maps and filters\n",
    "----------------\n",
    "\n",
    "__[`map`](https://hackage.haskell.org/package/base/docs/Prelude.html#v:map)__ takes a function and a list and applies that function to every\n",
    "element in the list, producing a new list. Let's see what its type\n",
    "signature is and how it's defined."
   ]
  },
  {
   "cell_type": "raw",
   "metadata": {
    "attributes": {
     "classes": [
      "haskell:hs"
     ],
     "id": "",
     "name": "\"code\""
    }
   },
   "source": [
    "map :: (a -> b) -> [a] -> [b]\n",
    "map _ [] = []\n",
    "map f (x:xs) = f x : map f xs"
   ]
  },
  {
   "cell_type": "markdown",
   "metadata": {},
   "source": [
    "The type signature says that it takes a function that takes an `a` and\n",
    "returns a `b`, a list of `a`'s and returns a list of `b`'s. It's interesting\n",
    "that just by looking at a function's type signature, you can sometimes\n",
    "tell what it does. [`map`](https://hackage.haskell.org/package/base/docs/Prelude.html#v:map) is one of those really versatile higher-order\n",
    "functions that can be used in millions of different ways. Here it is in\n",
    "action:"
   ]
  },
  {
   "cell_type": "code",
   "execution_count": 28,
   "metadata": {
    "attributes": {
     "classes": [
      "haskell:ghci"
     ],
     "id": "",
     "name": "\"code\""
    }
   },
   "outputs": [
    {
     "data": {
      "text/plain": [
       "[4,8,6,4,9]"
      ]
     },
     "metadata": {},
     "output_type": "display_data"
    }
   ],
   "source": [
    "map (+3) [1,5,3,1,6]"
   ]
  },
  {
   "cell_type": "code",
   "execution_count": 29,
   "metadata": {
    "attributes": {
     "classes": [
      "haskell:ghci"
     ],
     "id": "",
     "name": "\"code\""
    }
   },
   "outputs": [
    {
     "data": {
      "text/plain": [
       "[\"BIFF!\",\"BANG!\",\"POW!\"]"
      ]
     },
     "metadata": {},
     "output_type": "display_data"
    }
   ],
   "source": [
    "map (++ \"!\") [\"BIFF\", \"BANG\", \"POW\"]"
   ]
  },
  {
   "cell_type": "code",
   "execution_count": 30,
   "metadata": {
    "attributes": {
     "classes": [
      "haskell:ghci"
     ],
     "id": "",
     "name": "\"code\""
    }
   },
   "outputs": [
    {
     "data": {
      "text/plain": [
       "[[3,3,3],[4,4,4],[5,5,5],[6,6,6]]"
      ]
     },
     "metadata": {},
     "output_type": "display_data"
    }
   ],
   "source": [
    "map (replicate 3) [3..6]"
   ]
  },
  {
   "cell_type": "code",
   "execution_count": 31,
   "metadata": {
    "attributes": {
     "classes": [
      "haskell:ghci"
     ],
     "id": "",
     "name": "\"code\""
    }
   },
   "outputs": [
    {
     "data": {
      "text/plain": [
       "[[1,4],[9,16,25,36],[49,64]]"
      ]
     },
     "metadata": {},
     "output_type": "display_data"
    }
   ],
   "source": [
    "map (map (^2)) [[1,2],[3,4,5,6],[7,8]]"
   ]
  },
  {
   "cell_type": "code",
   "execution_count": 32,
   "metadata": {
    "attributes": {
     "classes": [
      "haskell:ghci"
     ],
     "id": "",
     "name": "\"code\""
    }
   },
   "outputs": [
    {
     "data": {
      "text/plain": [
       "[1,3,6,2,2]"
      ]
     },
     "metadata": {},
     "output_type": "display_data"
    }
   ],
   "source": [
    "map fst [(1,2),(3,5),(6,3),(2,6),(2,5)]"
   ]
  },
  {
   "cell_type": "markdown",
   "metadata": {},
   "source": [
    "You've probably noticed that each of these could be achieved with a list\n",
    "comprehension. `map (+3) [1,5,3,1,6]` is the same as writing\n",
    "`[x+3 | x <- [1,5,3,1,6]]`.\n",
    "However, using [`map`](https://hackage.haskell.org/package/base/docs/Prelude.html#v:map) is much more readable for cases where\n",
    "you only apply some function to the elements of a list, especially once\n",
    "you're dealing with maps of maps and then the whole thing with a lot of\n",
    "brackets can get a bit messy.\n",
    "\n",
    "__[`filter`](https://hackage.haskell.org/package/base/docs/Prelude.html#v:filter)__ is a function that takes a predicate (a predicate is a function\n",
    "that tells whether something is true or not, so in our case, a function\n",
    "that returns a boolean value) and a list and then returns the list of\n",
    "elements that satisfy the predicate. The type signature and\n",
    "implementation go like this:"
   ]
  },
  {
   "cell_type": "raw",
   "metadata": {
    "attributes": {
     "classes": [
      "haskell:hs"
     ],
     "id": "",
     "name": "\"code\""
    }
   },
   "source": [
    "filter :: (a -> Bool) -> [a] -> [a]\n",
    "filter _ [] = []\n",
    "filter p (x:xs)\n",
    "    | p x       = x : filter p xs\n",
    "    | otherwise = filter p xs"
   ]
  },
  {
   "cell_type": "markdown",
   "metadata": {},
   "source": [
    "Pretty simple stuff. If `p x` evaluates to [`True`](https://hackage.haskell.org/package/base/docs/Prelude.html#v:True), the element gets included\n",
    "in the new list. If it doesn't, it stays out. Some usage examples:"
   ]
  },
  {
   "cell_type": "code",
   "execution_count": 33,
   "metadata": {
    "attributes": {
     "classes": [
      "haskell:hs"
     ],
     "id": "",
     "name": "\"code\""
    }
   },
   "outputs": [
    {
     "data": {
      "text/plain": [
       "[5,6,4]"
      ]
     },
     "metadata": {},
     "output_type": "display_data"
    }
   ],
   "source": [
    "filter (>3) [1,5,3,2,1,6,4,3,2,1]"
   ]
  },
  {
   "cell_type": "code",
   "execution_count": 34,
   "metadata": {
    "attributes": {
     "classes": [
      "haskell:hs"
     ],
     "id": "",
     "name": "\"code\""
    }
   },
   "outputs": [
    {
     "data": {
      "text/plain": [
       "[3]"
      ]
     },
     "metadata": {},
     "output_type": "display_data"
    }
   ],
   "source": [
    "filter (==3) [1,2,3,4,5]"
   ]
  },
  {
   "cell_type": "code",
   "execution_count": 35,
   "metadata": {
    "attributes": {
     "classes": [
      "haskell:hs"
     ],
     "id": "",
     "name": "\"code\""
    }
   },
   "outputs": [
    {
     "data": {
      "text/plain": [
       "[2,4,6,8,10]"
      ]
     },
     "metadata": {},
     "output_type": "display_data"
    }
   ],
   "source": [
    "filter even [1..10]"
   ]
  },
  {
   "cell_type": "code",
   "execution_count": 36,
   "metadata": {
    "attributes": {
     "classes": [
      "haskell:hs"
     ],
     "id": "",
     "name": "\"code\""
    }
   },
   "outputs": [
    {
     "data": {
      "text/plain": [
       "[[1,2,3],[3,4,5],[2,2]]"
      ]
     },
     "metadata": {},
     "output_type": "display_data"
    }
   ],
   "source": [
    "let notNull x = not (null x) in filter notNull [[1,2,3],[],[3,4,5],[2,2],[],[],[]]"
   ]
  },
  {
   "cell_type": "code",
   "execution_count": 37,
   "metadata": {
    "attributes": {
     "classes": [
      "haskell:hs"
     ],
     "id": "",
     "name": "\"code\""
    }
   },
   "outputs": [
    {
     "data": {
      "text/plain": [
       "\"uagameasadifeent\""
      ]
     },
     "metadata": {},
     "output_type": "display_data"
    }
   ],
   "source": [
    "filter (`elem` ['a'..'z']) \"u LaUgH aT mE BeCaUsE I aM diFfeRent\""
   ]
  },
  {
   "cell_type": "code",
   "execution_count": 38,
   "metadata": {
    "attributes": {
     "classes": [
      "haskell:hs"
     ],
     "id": "",
     "name": "\"code\""
    }
   },
   "outputs": [
    {
     "data": {
      "text/plain": [
       "\"GAYBALLS\""
      ]
     },
     "metadata": {},
     "output_type": "display_data"
    }
   ],
   "source": [
    "filter (`elem` ['A'..'Z']) \"i lauGh At You BecAuse u r aLL the Same\""
   ]
  },
  {
   "cell_type": "markdown",
   "metadata": {},
   "source": [
    "All of this could also be achieved with list comprehensions by the use of\n",
    "predicates. There's no set rule for when to use [`map`](https://hackage.haskell.org/package/base/docs/Prelude.html#v:map) and [`filter`](https://hackage.haskell.org/package/base/docs/Prelude.html#v:filter) versus\n",
    "using list comprehension, you just have to decide what's more readable\n",
    "depending on the code and the context. The [`filter`](https://hackage.haskell.org/package/base/docs/Prelude.html#v:filter) equivalent of applying\n",
    "several predicates in a list comprehension is either filtering something\n",
    "several times or joining the predicates with the logical [`&&`](https://hackage.haskell.org/package/base/docs/Prelude.html#v:-38--38-) function.\n",
    "\n",
    "Remember our quicksort function from the [previous chapter](http://learnyouahaskell.com/recursion)?\n",
    "We used list comprehensions to filter out the list elements that are\n",
    "smaller than (or equal to) and larger than the pivot. We can achieve the\n",
    "same functionality in a more readable way by using [`filter`](https://hackage.haskell.org/package/base/docs/Prelude.html#v:filter):"
   ]
  },
  {
   "cell_type": "code",
   "execution_count": 39,
   "metadata": {
    "attributes": {
     "classes": [
      "haskell:ghci"
     ],
     "id": "",
     "name": "\"code\""
    }
   },
   "outputs": [],
   "source": [
    "quicksort :: (Ord a) => [a] -> [a]\n",
    "quicksort [] = []\n",
    "quicksort (x:xs) =\n",
    "    let smallerSorted = quicksort (filter (<=x) xs)\n",
    "        biggerSorted = quicksort (filter (>x) xs)\n",
    "    in  smallerSorted ++ [x] ++ biggerSorted"
   ]
  },
  {
   "cell_type": "markdown",
   "metadata": {},
   "source": [
    "<img src=\"img/map.png\" title=\"map\" style=\"float:left;margin-right:2em;\" />\n",
    "\n",
    "Mapping and filtering is the bread and butter of every functional\n",
    "programmer's toolbox. Uh. It doesn't matter if you do it with the [`map`](https://hackage.haskell.org/package/base/docs/Prelude.html#v:map)\n",
    "and [`filter`](https://hackage.haskell.org/package/base/docs/Prelude.html#v:filter) functions or list comprehensions. Recall how we solved the\n",
    "problem of finding right triangles with a certain circumference. With\n",
    "imperative programming, we would have solved it by nesting three loops\n",
    "and then testing if the current combination satisfies a right triangle\n",
    "and if it has the right perimeter. If that's the case, we would have\n",
    "printed it out to the screen or something. In functional programming,\n",
    "that pattern is achieved with mapping and filtering. You make a function\n",
    "that takes a value and produces some result. We map that function over a\n",
    "list of values and then we filter the resulting list out for the results\n",
    "that satisfy our search. Thanks to Haskell's laziness, even if you map\n",
    "something over a list several times and filter it several times, it will\n",
    "only pass over the list once.\n",
    "\n",
    "Let's __find the largest number under 100,000 that's divisible by 3829__.\n",
    "To do that, we'll just filter a set of possibilities in which we know\n",
    "the solution lies."
   ]
  },
  {
   "cell_type": "code",
   "execution_count": 40,
   "metadata": {
    "attributes": {
     "classes": [
      "haskell:hs"
     ],
     "id": "",
     "name": "\"code\""
    }
   },
   "outputs": [],
   "source": [
    "largestDivisible :: (Integral a) => a\n",
    "largestDivisible = head (filter p [100000,99999..])\n",
    "    where p x = x `mod` 3829 == 0"
   ]
  },
  {
   "cell_type": "markdown",
   "metadata": {},
   "source": [
    "We first make a list of all numbers lower than 100,000, descending. Then\n",
    "we filter it by our predicate and because the numbers are sorted in a\n",
    "descending manner, the largest number that satisfies our predicate is\n",
    "the first element of the filtered list. We didn't even need to use a\n",
    "finite list for our starting set. That's laziness in action again.\n",
    "Because we only end up using the head of the filtered list, it doesn't\n",
    "matter if the filtered list is finite or infinite. The evaluation stops\n",
    "when the first adequate solution is found.\n",
    "\n",
    "Next up, we're going to __find the sum of all odd squares that are\n",
    "smaller than 10,000__. But first, because we'll be using it in our\n",
    "solution, we're going to introduce the __[`takeWhile`](https://hackage.haskell.org/package/base/docs/Prelude.html#v:takeWhile)__ function. It takes a\n",
    "predicate and a list and then goes from the beginning of the list and\n",
    "returns its elements while the predicate holds true. Once an element is\n",
    "found for which the predicate doesn't hold, it stops. If we wanted to\n",
    "get the first word of the string `\"elephants know how to party\"`, we could\n",
    "do `takeWhile (/=' ') \"elephants know how to party\"` and it would return\n",
    "`\"elephants\"`. Okay. The sum of all odd squares that are smaller than\n",
    "10,000. First, we'll begin by mapping the `(^2)` function to the infinite\n",
    "list `[1..]`. Then we filter them so we only get the odd ones. And then,\n",
    "we'll take elements from that list while they are smaller than 10,000.\n",
    "Finally, we'll get the sum of that list. We don't even have to define a\n",
    "function for that, we can do it in one line in GHCI:"
   ]
  },
  {
   "cell_type": "code",
   "execution_count": 41,
   "metadata": {
    "attributes": {
     "classes": [
      "haskell:ghci"
     ],
     "id": "",
     "name": "\"code\""
    }
   },
   "outputs": [
    {
     "data": {
      "text/plain": [
       "166650"
      ]
     },
     "metadata": {},
     "output_type": "display_data"
    }
   ],
   "source": [
    "sum (takeWhile (<10000) (filter odd (map (^2) [1..])))"
   ]
  },
  {
   "cell_type": "markdown",
   "metadata": {},
   "source": [
    "Awesome! We start with some initial data (the infinite list of all\n",
    "natural numbers) and then we map over it, filter it and cut it until it\n",
    "suits our needs and then we just sum it up. We could have also written\n",
    "this using list comprehensions:"
   ]
  },
  {
   "cell_type": "code",
   "execution_count": 42,
   "metadata": {
    "attributes": {
     "classes": [
      "haskell:ghci"
     ],
     "id": "",
     "name": "\"code\""
    }
   },
   "outputs": [
    {
     "data": {
      "text/plain": [
       "166650"
      ]
     },
     "metadata": {},
     "output_type": "display_data"
    }
   ],
   "source": [
    "sum (takeWhile (<10000) [n^2 | n <- [1..], odd (n^2)])"
   ]
  },
  {
   "cell_type": "markdown",
   "metadata": {},
   "source": [
    "It's a matter of taste as to which one you find prettier. Again,\n",
    "Haskell's property of laziness is what makes this possible. We can map\n",
    "over and filter an infinite list, because it won't actually map and\n",
    "filter it right away, it'll delay those actions. Only when we force\n",
    "Haskell to show us the [`sum`](https://hackage.haskell.org/package/base/docs/Prelude.html#v:sum) does the sum function say to the [`takeWhile`](https://hackage.haskell.org/package/base/docs/Prelude.html#v:takeWhile)\n",
    "that it needs those numbers. [`takeWhile`](https://hackage.haskell.org/package/base/docs/Prelude.html#v:takeWhile) forces the filtering and mapping\n",
    "to occur, but only until a number greater than or equal to 10,000 is\n",
    "encountered.\n",
    "\n",
    "For our next problem, we'll be dealing with Collatz sequences. We take a\n",
    "natural number. If that number is even, we divide it by two. If it's\n",
    "odd, we multiply it by 3 and then add 1 to that. We take the resulting\n",
    "number and apply the same thing to it, which produces a new number and\n",
    "so on. In essence, we get a chain of numbers. It is thought that for all\n",
    "starting numbers, the chains finish at the number 1. So if we take the\n",
    "starting number 13, we get this sequence: *13, 40, 20, 10, 5, 16, 8, 4,\n",
    "2, 1*. 13\\*3 + 1 equals 40. 40 divided by 2 is 20, etc. We see that the\n",
    "chain has 10 terms.\n",
    "\n",
    "Now what we want to know is this: __for all starting numbers between 1\n",
    "and 100, how many chains have a length greater than 15?__ First off,\n",
    "we'll write a function that produces a chain:"
   ]
  },
  {
   "cell_type": "code",
   "execution_count": 43,
   "metadata": {
    "attributes": {
     "classes": [
      "haskell:hs"
     ],
     "id": "",
     "name": "\"code\""
    }
   },
   "outputs": [],
   "source": [
    "chain :: (Integral a) => a -> [a]\n",
    "chain 1 = [1]\n",
    "chain n\n",
    "    | even n =  n:chain (n `div` 2)\n",
    "    | odd n  =  n:chain (n*3 + 1)"
   ]
  },
  {
   "cell_type": "markdown",
   "metadata": {},
   "source": [
    "Because the chains end at 1, that's the edge case. This is a pretty\n",
    "standard recursive function."
   ]
  },
  {
   "cell_type": "code",
   "execution_count": 44,
   "metadata": {
    "attributes": {
     "classes": [
      "haskell:ghci"
     ],
     "id": "",
     "name": "\"code\""
    }
   },
   "outputs": [
    {
     "data": {
      "text/plain": [
       "[10,5,16,8,4,2,1]"
      ]
     },
     "metadata": {},
     "output_type": "display_data"
    }
   ],
   "source": [
    "chain 10"
   ]
  },
  {
   "cell_type": "code",
   "execution_count": 45,
   "metadata": {
    "attributes": {
     "classes": [
      "haskell:ghci"
     ],
     "id": "",
     "name": "\"code\""
    }
   },
   "outputs": [
    {
     "data": {
      "text/plain": [
       "[1]"
      ]
     },
     "metadata": {},
     "output_type": "display_data"
    }
   ],
   "source": [
    "chain 1"
   ]
  },
  {
   "cell_type": "code",
   "execution_count": 46,
   "metadata": {
    "attributes": {
     "classes": [
      "haskell:ghci"
     ],
     "id": "",
     "name": "\"code\""
    }
   },
   "outputs": [
    {
     "data": {
      "text/plain": [
       "[30,15,46,23,70,35,106,53,160,80,40,20,10,5,16,8,4,2,1]"
      ]
     },
     "metadata": {},
     "output_type": "display_data"
    }
   ],
   "source": [
    "chain 30"
   ]
  },
  {
   "cell_type": "markdown",
   "metadata": {},
   "source": [
    "Yay! It seems to be working correctly. And now, the function that tells\n",
    "us the answer to our question:"
   ]
  },
  {
   "cell_type": "code",
   "execution_count": 47,
   "metadata": {
    "attributes": {
     "classes": [
      "haskell:hs"
     ],
     "id": "",
     "name": "\"code\""
    }
   },
   "outputs": [],
   "source": [
    "numLongChains :: Int\n",
    "numLongChains = length (filter isLong (map chain [1..100]))\n",
    "    where isLong xs = length xs > 15"
   ]
  },
  {
   "cell_type": "code",
   "execution_count": 48,
   "metadata": {
    "attributes": {
     "classes": [
      "haskell:hs"
     ],
     "id": "",
     "name": "\"code\""
    }
   },
   "outputs": [
    {
     "data": {
      "text/plain": [
       "66"
      ]
     },
     "metadata": {},
     "output_type": "display_data"
    }
   ],
   "source": [
    "numLongChains"
   ]
  },
  {
   "cell_type": "markdown",
   "metadata": {},
   "source": [
    "We map the `chain` function to `[1..100]` to get a list of chains, which are\n",
    "themselves represented as lists. Then, we filter them by a predicate\n",
    "that just checks whether a list's length is longer than 15. Once we've\n",
    "done the filtering, we see how many chains are left in the resulting\n",
    "list.\n",
    "\n",
    "> __Note:__ This function has a type of `numLongChains :: Int` because [`length`](https://hackage.haskell.org/package/base/docs/Prelude.html#v:length)\n",
    "> returns an [`Int`](https://hackage.haskell.org/package/base/docs/Prelude.html#t:Int) instead of a `Num a` for historical reasons. If we wanted\n",
    "> to return a more general `Num a`, we could have used [`fromIntegral`](https://hackage.haskell.org/package/base/docs/Prelude.html#v:fromIntegral) on the\n",
    "> resulting length.\n",
    "\n",
    "Using [`map`](https://hackage.haskell.org/package/base/docs/Prelude.html#v:map), we can also do stuff like `map (*) [0..]`, if not for any\n",
    "other reason than to illustrate how currying works and how (partially\n",
    "applied) functions are real values that you can pass around to other\n",
    "functions or put into lists (you just can't turn them to strings). So\n",
    "far, we've only mapped functions that take one parameter over lists,\n",
    "like `map (*2) [0..]` to get a list of type `(Num a) => [a]`, but we can\n",
    "also do `map (*) [0..]` without a problem. What happens here is that the\n",
    "number in the list is applied to the function [`*`](https://hackage.haskell.org/package/base/docs/Prelude.html#v:-42-), which has a type of\n",
    "`(Num a) => a -> a -> a`. Applying only one parameter to a function\n",
    "that takes two parameters returns a function that takes one parameter.\n",
    "If we map [`*`](https://hackage.haskell.org/package/base/docs/Prelude.html#v:-42-) over the list `[0..]`, we get back a list of functions that\n",
    "only take one parameter, so `(Num a) => [a -> a]`. `map (*) [0..]`\n",
    "produces a list like the one we'd get by writing\n",
    "`[(0*),(1*),(2*),(3*),(4*),(5*)...`"
   ]
  },
  {
   "cell_type": "code",
   "execution_count": 49,
   "metadata": {
    "attributes": {
     "classes": [
      "haskell:hs"
     ],
     "id": "",
     "name": "\"code\""
    }
   },
   "outputs": [
    {
     "data": {
      "text/plain": [
       "20"
      ]
     },
     "metadata": {},
     "output_type": "display_data"
    }
   ],
   "source": [
    "let listOfFuns = map (*) [0..]\n",
    "(listOfFuns !! 4) 5"
   ]
  },
  {
   "cell_type": "markdown",
   "metadata": {},
   "source": [
    "Getting the element with the index `4` from our list returns a function\n",
    "that's equivalent to `(4*)`. And then, we just apply `5` to that function.\n",
    "So that's like writing `(4*) 5` or just `4 * 5`.\n",
    "\n",
    "Lambdas\n",
    "-------\n",
    "\n",
    "<img src=\"img/lambda.png\" title=\"lambda\" style=\"float:right;margin-left:2em;\" />\n",
    "\n",
    "Lambdas are basically anonymous functions that are used because we need\n",
    "some functions only once. Normally, we make a lambda with the sole\n",
    "purpose of passing it to a higher-order function. To make a lambda, we\n",
    "write a `\\` (because it kind of looks like the Greek letter lambda if you\n",
    "squint hard enough) and then we write the parameters, separated by\n",
    "spaces. After that comes a `->` and then the function body. We usually\n",
    "surround them by parentheses, because otherwise they extend all the way\n",
    "to the right.\n",
    "\n",
    "If you look about 5 inches up, you'll see that we used a *where* binding\n",
    "in our `numLongChains` function to make the `isLong` function for the sole\n",
    "purpose of passing it to [`filter`](https://hackage.haskell.org/package/base/docs/Prelude.html#v:filter). Well, instead of doing that, we can use\n",
    "a lambda:"
   ]
  },
  {
   "cell_type": "code",
   "execution_count": 50,
   "metadata": {
    "attributes": {
     "classes": [
      "haskell:hs"
     ],
     "id": "",
     "name": "\"code\""
    }
   },
   "outputs": [],
   "source": [
    "numLongChains :: Int\n",
    "numLongChains = length (filter (\\xs -> length xs > 15) (map chain [1..100]))"
   ]
  },
  {
   "cell_type": "markdown",
   "metadata": {},
   "source": [
    "Lambdas are expressions, that's why we can just pass them like that. The\n",
    "expression `(\\xs -> length xs > 15)` returns a function that tells us\n",
    "whether the length of the list passed to it is greater than 15.\n",
    "\n",
    "<img src=\"img/lamb.png\" title=\"lamb\" style=\"float:left;margin-right:2em;\" />\n",
    "\n",
    "People who are not well acquainted with how currying and partial\n",
    "application works often use lambdas where they don't need to. For\n",
    "instance, the expressions `map (+3) [1,6,3,2]` and\n",
    "`map (\\x -> x + 3) [1,6,3,2]`\n",
    "are equivalent since both `(+3)` and `(\\x -> x + 3)` are\n",
    "functions that take a number and add 3 to it. Needless to say, making a\n",
    "lambda in this case is stupid since using partial application is much\n",
    "more readable.\n",
    "\n",
    "Like normal functions, lambdas can take any number of parameters:"
   ]
  },
  {
   "cell_type": "code",
   "execution_count": 51,
   "metadata": {
    "attributes": {
     "classes": [
      "haskell:ghci"
     ],
     "id": "",
     "name": "\"code\""
    }
   },
   "outputs": [
    {
     "data": {
      "text/plain": [
       "[153.0,61.5,31.0,15.75,6.6]"
      ]
     },
     "metadata": {},
     "output_type": "display_data"
    }
   ],
   "source": [
    "zipWith (\\a b -> (a * 30 + 3) / b) [5,4,3,2,1] [1,2,3,4,5]"
   ]
  },
  {
   "cell_type": "markdown",
   "metadata": {},
   "source": [
    "And like normal functions, you can pattern match in lambdas. The only\n",
    "difference is that you can't define several patterns for one parameter,\n",
    "like making a `[]` and a `(x:xs)` pattern for the same parameter and then\n",
    "having values fall through. If a pattern matching fails in a lambda, a\n",
    "runtime error occurs, so be careful when pattern matching in lambdas!"
   ]
  },
  {
   "cell_type": "code",
   "execution_count": 52,
   "metadata": {
    "attributes": {
     "classes": [
      "haskell:ghci"
     ],
     "id": "",
     "name": "\"code\""
    }
   },
   "outputs": [
    {
     "data": {
      "text/plain": [
       "[3,8,9,8,7]"
      ]
     },
     "metadata": {},
     "output_type": "display_data"
    }
   ],
   "source": [
    "map (\\(a,b) -> a + b) [(1,2),(3,5),(6,3),(2,6),(2,5)]"
   ]
  },
  {
   "cell_type": "markdown",
   "metadata": {},
   "source": [
    "Lambdas are normally surrounded by parentheses unless we mean for them\n",
    "to extend all the way to the right. Here's something interesting: due to\n",
    "the way functions are curried by default, these two are equivalent:"
   ]
  },
  {
   "cell_type": "code",
   "execution_count": 53,
   "metadata": {
    "attributes": {
     "classes": [
      "haskell:ghci"
     ],
     "id": "",
     "name": "\"code\""
    }
   },
   "outputs": [],
   "source": [
    "addThree :: (Num a) => a -> a -> a -> a\n",
    "addThree x y z = x + y + z"
   ]
  },
  {
   "cell_type": "code",
   "execution_count": 54,
   "metadata": {
    "attributes": {
     "classes": [
      "haskell:ghci"
     ],
     "id": "",
     "name": "\"code\""
    }
   },
   "outputs": [],
   "source": [
    "addThree :: (Num a) => a -> a -> a -> a\n",
    "addThree = \\x -> \\y -> \\z -> x + y + z"
   ]
  },
  {
   "cell_type": "markdown",
   "metadata": {},
   "source": [
    "If we define a function like this, it's obvious why the type declaration\n",
    "is what it is. There are three `->`'s in both the type declaration and\n",
    "the equation. But of course, the first way to write functions is far\n",
    "more readable, the second one is pretty much a gimmick to illustrate\n",
    "currying.\n",
    "\n",
    "However, there are times when using this notation is cool. I think that\n",
    "the [`flip`](https://hackage.haskell.org/package/base/docs/Prelude.html#v:flip) function is the most readable when defined like so:"
   ]
  },
  {
   "cell_type": "code",
   "execution_count": 55,
   "metadata": {
    "attributes": {
     "classes": [
      "haskell:ghci"
     ],
     "id": "",
     "name": "\"code\""
    }
   },
   "outputs": [],
   "source": [
    "flip' :: (a -> b -> c) -> b -> a -> c\n",
    "flip' f = \\x y -> f y x"
   ]
  },
  {
   "cell_type": "markdown",
   "metadata": {},
   "source": [
    "Even though that's the same as writing `flip' f x y = f y x`, we make it\n",
    "obvious that this will be used for producing a new function most of the\n",
    "time. The most common use case with [`flip`](https://hackage.haskell.org/package/base/docs/Prelude.html#v:flip) is calling it with just the\n",
    "function parameter and then passing the resulting function on to a map\n",
    "or a filter. So use lambdas in this way when you want to make it\n",
    "explicit that your function is mainly meant to be partially applied and\n",
    "passed on to a function as a parameter.\n",
    "\n",
    "<a name=\"folds\"></a>\n",
    "\n",
    "Only folds and horses\n",
    "---------------------\n",
    "\n",
    "<img src=\"img/origami.png\" title=\"folded bird\" style=\"float:right;margin-left:2em;\" />\n",
    "\n",
    "Back when we were dealing with recursion, we noticed a theme throughout\n",
    "many of the recursive functions that operated on lists. Usually, we'd\n",
    "have an edge case for the empty list. We'd introduce the `x:xs` pattern\n",
    "and then we'd do some action that involves a single element and the rest\n",
    "of the list. It turns out this is a very common pattern, so a couple of\n",
    "very useful functions were introduced to encapsulate it. These functions\n",
    "are called folds. They're sort of like the [`map`](https://hackage.haskell.org/package/base/docs/Prelude.html#v:map) function, only they\n",
    "reduce the list to some single value.\n",
    "\n",
    "A fold takes a binary function, a starting value (I like to call it the\n",
    "accumulator) and a list to fold up. The binary function itself takes two\n",
    "parameters. The binary function is called with the accumulator and the\n",
    "first (or last) element and produces a new accumulator. Then, the binary\n",
    "function is called again with the new accumulator and the now new first\n",
    "(or last) element, and so on. Once we've walked over the whole list,\n",
    "only the accumulator remains, which is what we've reduced the list to.\n",
    "\n",
    "First let's take a look at the __[`foldl`](https://hackage.haskell.org/package/base/docs/Prelude.html#v:foldl)__ function, also called the left\n",
    "fold. It folds the list up from the left side. The binary function is\n",
    "applied between the starting value and the head of the list. That\n",
    "produces a new accumulator value and the binary function is called with\n",
    "that value and the next element, etc.\n",
    "\n",
    "Let's implement [`sum`](https://hackage.haskell.org/package/base/docs/Prelude.html#v:sum) again, only this time, we'll use a fold instead of\n",
    "explicit recursion."
   ]
  },
  {
   "cell_type": "code",
   "execution_count": 56,
   "metadata": {
    "attributes": {
     "classes": [
      "haskell:hs"
     ],
     "id": "",
     "name": "\"code\""
    }
   },
   "outputs": [],
   "source": [
    "sum' :: (Num a) => [a] -> a\n",
    "sum' xs = foldl (\\acc x -> acc + x) 0 xs"
   ]
  },
  {
   "cell_type": "markdown",
   "metadata": {},
   "source": [
    "Testing, one two three:"
   ]
  },
  {
   "cell_type": "code",
   "execution_count": 57,
   "metadata": {
    "attributes": {
     "classes": [
      "haskell:ghci"
     ],
     "id": "",
     "name": "\"code\""
    }
   },
   "outputs": [
    {
     "data": {
      "text/plain": [
       "11"
      ]
     },
     "metadata": {},
     "output_type": "display_data"
    }
   ],
   "source": [
    "sum' [3,5,2,1]"
   ]
  },
  {
   "cell_type": "markdown",
   "metadata": {},
   "source": [
    "<img src=\"img/foldl.png\" title=\"foldl\" style=\"float:left;margin-right:2em;\" />\n",
    "\n",
    "Let's take an in-depth look into how this fold happens.\n",
    "`\\acc x -> acc + x` is the binary function.\n",
    "`0` is the starting value and `xs` is the list\n",
    "to be folded up. Now first, `0` is used as the `acc` parameter to the binary\n",
    "function and `3` is used as the `x` (or the current element) parameter.\n",
    "`0 + 3` produces a `3` and it becomes the new accumulator value, so to speak.\n",
    "Next up, `3` is used as the accumulator value and `5` as the current element\n",
    "and `8` becomes the new accumulator value. Moving forward, `8` is the\n",
    "accumulator value, `2` is the current element, the new accumulator value\n",
    "is `10`. Finally, that `10` is used as the accumulator value and `1` as the\n",
    "current element, producing an `11`. Congratulations, you've done a fold!\n",
    "\n",
    "This professional diagram on the left illustrates how a fold happens,\n",
    "step by step (day by day!). The greenish brown number is the accumulator\n",
    "value. You can see how the list is sort of consumed up from the left\n",
    "side by the accumulator. Om nom nom nom! If we take into account that\n",
    "functions are curried, we can write this implementation ever more\n",
    "succinctly, like so:"
   ]
  },
  {
   "cell_type": "code",
   "execution_count": 58,
   "metadata": {
    "attributes": {
     "classes": [
      "haskell:hs"
     ],
     "id": "",
     "name": "\"code\""
    }
   },
   "outputs": [],
   "source": [
    "sum' :: (Num a) => [a] -> a\n",
    "sum' = foldl (+) 0"
   ]
  },
  {
   "cell_type": "markdown",
   "metadata": {},
   "source": [
    "The lambda function `(\\acc x -> acc + x)` is the same as `(+)`. We can\n",
    "omit the `xs` as the parameter because calling `foldl (+) 0` will return a\n",
    "function that takes a list. Generally, if you have a function like\n",
    "`foo a = bar b a`, you can rewrite it as `foo = bar b`, because of currying.\n",
    "\n",
    "Anyhoo, let's implement another function with a left fold before moving\n",
    "on to right folds. I'm sure you all know that [`elem`](https://hackage.haskell.org/package/base/docs/Prelude.html#v:elem) checks whether a\n",
    "value is part of a list so I won't go into that again (whoops, just\n",
    "did!). Let's implement it with a left fold."
   ]
  },
  {
   "cell_type": "code",
   "execution_count": 59,
   "metadata": {
    "attributes": {
     "classes": [
      "haskell:hs"
     ],
     "id": "",
     "name": "\"code\""
    }
   },
   "outputs": [],
   "source": [
    "elem' :: (Eq a) => a -> [a] -> Bool\n",
    "elem' y ys = foldl (\\acc x -> if x == y then True else acc) False ys"
   ]
  },
  {
   "cell_type": "markdown",
   "metadata": {},
   "source": [
    "Well, well, well, what do we have here? The starting value and\n",
    "accumulator here is a boolean value. The type of the accumulator value\n",
    "and the end result is always the same when dealing with folds. Remember\n",
    "that if you ever don't know what to use as a starting value, it'll give\n",
    "you some idea. We start off with [`False`](https://hackage.haskell.org/package/base/docs/Prelude.html#v:False). It makes sense to use [`False`](https://hackage.haskell.org/package/base/docs/Prelude.html#v:False) as a\n",
    "starting value. We assume it isn't there. Also, if we call a fold on an\n",
    "empty list, the result will just be the starting value. Then we check\n",
    "the current element is the element we're looking for. If it is, we set\n",
    "the accumulator to [`True`](https://hackage.haskell.org/package/base/docs/Prelude.html#v:True). If it's not, we just leave the accumulator\n",
    "unchanged. If it was [`False`](https://hackage.haskell.org/package/base/docs/Prelude.html#v:False) before, it stays that way because this\n",
    "current element is not it. If it was [`True`](https://hackage.haskell.org/package/base/docs/Prelude.html#v:True), we leave it at that.\n",
    "\n",
    "The right fold, __[`foldr`](https://hackage.haskell.org/package/base/docs/Prelude.html#v:foldr)__ works in a similar way to the left fold, only the\n",
    "accumulator eats up the values from the right. Also, the left fold's\n",
    "binary function has the accumulator as the first parameter and the\n",
    "current value as the second one (so `\\acc x -> ...`), the right fold's\n",
    "binary function has the current value as the first parameter and the\n",
    "accumulator as the second one (so `\\x acc -> ...`). It kind of makes\n",
    "sense that the right fold has the accumulator on the right, because it\n",
    "folds from the right side.\n",
    "\n",
    "The accumulator value (and hence, the result) of a fold can be of any\n",
    "type. It can be a number, a boolean or even a new list. We'll be\n",
    "implementing the map function with a right fold. The accumulator will be\n",
    "a list, we'll be accumulating the mapped list element by element. From\n",
    "that, it's obvious that the starting element will be an empty list."
   ]
  },
  {
   "cell_type": "code",
   "execution_count": 60,
   "metadata": {
    "attributes": {
     "classes": [
      "haskell:hs"
     ],
     "id": "",
     "name": "\"code\""
    }
   },
   "outputs": [],
   "source": [
    "map' :: (a -> b) -> [a] -> [b]\n",
    "map' f xs = foldr (\\x acc -> f x : acc) [] xs"
   ]
  },
  {
   "cell_type": "markdown",
   "metadata": {},
   "source": [
    "If we're mapping `(+3)` to `[1,2,3]`, we approach the list from the right\n",
    "side. We take the last element, which is `3` and apply the function to it,\n",
    "which ends up being `6`. Then, we prepend it to the accumulator, which is\n",
    "was `[]`. `6:[]` is `[6]` and that's now the accumulator. We apply `(+3)` to `2`,\n",
    "that's `5` and we prepend (`:`) it to the accumulator, so the accumulator is\n",
    "now `[5,6]`. We apply `(+3)` to `1` and prepend that to the accumulator and so\n",
    "the end value is `[4,5,6]`.\n",
    "\n",
    "Of course, we could have implemented this function with a left fold too.\n",
    "It would be `map' f xs = foldl (\\acc x -> acc ++ [f x]) [] xs`, but the\n",
    "thing is that the [`++`](https://hackage.haskell.org/package/base/docs/Prelude.html#v:-43--43-) function is much more expensive than `:`, so we\n",
    "usually use right folds when we're building up new lists from a list.\n",
    "\n",
    "<img src=\"img/washmachine.png\" title=\"fold this up!\" style=\"float:right;margin-left:2em;\" />\n",
    "\n",
    "If you reverse a list, you can do a right fold on it just like you would\n",
    "have done a left fold and vice versa. Sometimes you don't even have to\n",
    "do that. The [`sum`](https://hackage.haskell.org/package/base/docs/Prelude.html#v:sum) function can be implemented pretty much the same with a\n",
    "left and right fold. One big difference is that right folds work on\n",
    "infinite lists, whereas left ones don't! To put it plainly, if you take\n",
    "an infinite list at some point and you fold it up from the right, you'll\n",
    "eventually reach the beginning of the list. However, if you take an\n",
    "infinite list at a point and you try to fold it up from the left, you'll\n",
    "never reach an end!\n",
    "\n",
    "__Folds can be used to implement any function where you traverse a list\n",
    "once, element by element, and then return something based on that.\n",
    "Whenever you want to traverse a list to return something, chances are\n",
    "you want a fold.__ That's why folds are, along with maps and filters, one\n",
    "of the most useful types of functions in functional programming.\n",
    "\n",
    "The __`foldl1`__ and __`foldr1`__ functions work much like [`foldl`](https://hackage.haskell.org/package/base/docs/Prelude.html#v:foldl) and [`foldr`](https://hackage.haskell.org/package/base/docs/Prelude.html#v:foldr), only you\n",
    "don't need to provide them with an explicit starting value. They assume\n",
    "the first (or last) element of the list to be the starting value and\n",
    "then start the fold with the element next to it. With that in mind, the\n",
    "[`sum`](https://hackage.haskell.org/package/base/docs/Prelude.html#v:sum) function can be implemented like so: `sum = foldl1 (+)`. Because they\n",
    "depend on the lists they fold up having at least one element, they cause\n",
    "runtime errors if called with empty lists. [`foldl`](https://hackage.haskell.org/package/base/docs/Prelude.html#v:foldl) and [`foldr`](https://hackage.haskell.org/package/base/docs/Prelude.html#v:foldr), on the other\n",
    "hand, work fine with empty lists. When making a fold, think about how it\n",
    "acts on an empty list. If the function doesn't make sense when given an\n",
    "empty list, you can probably use a `foldl1` or `foldr1` to implement it.\n",
    "\n",
    "Just to show you how powerful folds are, we're going to implement a\n",
    "bunch of standard library functions by using folds:"
   ]
  },
  {
   "cell_type": "code",
   "execution_count": 61,
   "metadata": {
    "attributes": {
     "classes": [
      "haskell:hs"
     ],
     "id": "",
     "name": "\"code\""
    }
   },
   "outputs": [],
   "source": [
    "maximum' :: (Ord a) => [a] -> a\n",
    "maximum' = foldr1 (\\x acc -> if x > acc then x else acc)\n",
    "\n",
    "reverse' :: [a] -> [a]\n",
    "reverse' = foldl (\\acc x -> x : acc) []\n",
    "\n",
    "product' :: (Num a) => [a] -> a\n",
    "product' = foldr1 (*)\n",
    "\n",
    "filter' :: (a -> Bool) -> [a] -> [a]\n",
    "filter' p = foldr (\\x acc -> if p x then x : acc else acc) []\n",
    "\n",
    "head' :: [a] -> a\n",
    "head' = foldr1 (\\x _ -> x)\n",
    "\n",
    "last' :: [a] -> a\n",
    "last' = foldl1 (\\_ x -> x)"
   ]
  },
  {
   "cell_type": "markdown",
   "metadata": {},
   "source": [
    "[`head`](https://hackage.haskell.org/package/base/docs/Prelude.html#v:head) is better implemented by pattern matching, but this just goes to\n",
    "show, you can still achieve it by using folds. Our `reverse'` definition\n",
    "is pretty clever, I think. We take a starting value of an empty list and\n",
    "then approach our list from the left and just prepend to our\n",
    "accumulator. In the end, we build up a reversed list.\n",
    "`\\acc x -> x : acc`\n",
    "kind of looks like the : function, only the parameters are flipped.\n",
    "That's why we could have also written our reverse as\n",
    "`foldl (flip (:)) []`.\n",
    "\n",
    "Another way to picture right and left folds is like this: say we have a\n",
    "right fold and the binary function is `f` and the starting value is `z`.\n",
    "If we're right folding over the list `[3,4,5,6]`,\n",
    "we're essentially doing this:\n",
    "`f 3 (f 4 (f 5 (f 6 z)))`.\n",
    "`f` is called with the last element in the\n",
    "list and the accumulator, that value is given as the accumulator to the\n",
    "next to last value and so on. If we take `f` to be [`+`](https://hackage.haskell.org/package/base/docs/Prelude.html#v:-43-) and the starting\n",
    "accumulator value to be `0`, that's `3 + (4 + (5 + (6 + 0)))`. Or if we\n",
    "write [`+`](https://hackage.haskell.org/package/base/docs/Prelude.html#v:-43-) as a prefix function, that's `(+) 3 ((+) 4 ((+) 5 ((+) 6 0)))`.\n",
    "Similarly, doing a left fold over that list with `g` as the binary\n",
    "function and `z` as the accumulator is the equivalent of\n",
    "`g (g (g (g z 3) 4) 5) 6`.\n",
    "If we use `flip (:)` as the binary function and `[]` as the\n",
    "accumulator (so we're reversing the list), then that's the equivalent of\n",
    "`flip (:) (flip (:) (flip (:) (flip (:) [] 3) 4) 5) 6`. And sure enough,\n",
    "if you evaluate that expression, you get `[6,5,4,3]`.\n",
    "\n",
    "__[`scanl`](https://hackage.haskell.org/package/base/docs/Prelude.html#v:scanl)__ and __[`scanr`](https://hackage.haskell.org/package/base/docs/Prelude.html#v:scanr)__ are like [`foldl`](https://hackage.haskell.org/package/base/docs/Prelude.html#v:foldl) and [`foldr`](https://hackage.haskell.org/package/base/docs/Prelude.html#v:foldr), only they report all the\n",
    "intermediate accumulator states in the form of a list. There are also\n",
    "`scanl1` and `scanr1`, which are analogous to `foldl1` and `foldr1`."
   ]
  },
  {
   "cell_type": "code",
   "execution_count": 62,
   "metadata": {
    "attributes": {
     "classes": [
      "haskell:ghci"
     ],
     "id": "",
     "name": "\"code\""
    }
   },
   "outputs": [
    {
     "data": {
      "text/plain": [
       "[0,3,8,10,11]"
      ]
     },
     "metadata": {},
     "output_type": "display_data"
    }
   ],
   "source": [
    "scanl (+) 0 [3,5,2,1]"
   ]
  },
  {
   "cell_type": "code",
   "execution_count": 63,
   "metadata": {
    "attributes": {
     "classes": [
      "haskell:ghci"
     ],
     "id": "",
     "name": "\"code\""
    }
   },
   "outputs": [
    {
     "data": {
      "text/plain": [
       "[11,8,3,1,0]"
      ]
     },
     "metadata": {},
     "output_type": "display_data"
    }
   ],
   "source": [
    "scanr (+) 0 [3,5,2,1]"
   ]
  },
  {
   "cell_type": "code",
   "execution_count": 64,
   "metadata": {
    "attributes": {
     "classes": [
      "haskell:ghci"
     ],
     "id": "",
     "name": "\"code\""
    }
   },
   "outputs": [
    {
     "data": {
      "text/plain": [
       "[3,4,5,5,7,9,9,9]"
      ]
     },
     "metadata": {},
     "output_type": "display_data"
    }
   ],
   "source": [
    "scanl1 (\\acc x -> if x > acc then x else acc) [3,4,5,3,7,9,2,1]"
   ]
  },
  {
   "cell_type": "code",
   "execution_count": 65,
   "metadata": {
    "attributes": {
     "classes": [
      "haskell:ghci"
     ],
     "id": "",
     "name": "\"code\""
    }
   },
   "outputs": [
    {
     "data": {
      "text/plain": [
       "[[],[3],[2,3],[1,2,3]]"
      ]
     },
     "metadata": {},
     "output_type": "display_data"
    }
   ],
   "source": [
    "scanl (flip (:)) [] [3,2,1]"
   ]
  },
  {
   "cell_type": "markdown",
   "metadata": {},
   "source": [
    "When using a [`scanl`](https://hackage.haskell.org/package/base/docs/Prelude.html#v:scanl), the final result will be in the last element of the\n",
    "resulting list while a [`scanr`](https://hackage.haskell.org/package/base/docs/Prelude.html#v:scanr) will place the result in the head.\n",
    "\n",
    "Scans are used to monitor the progression of a function that can be\n",
    "implemented as a fold. Let's answer us this question: *How many elements\n",
    "does it take for the sum of the roots of all natural numbers to exceed\n",
    "1000?* To get the squares of all natural numbers, we just do\n",
    "`map sqrt [1..]`.\n",
    "Now, to get the sum, we could do a fold, but because we're\n",
    "interested in how the sum progresses, we're going to do a scan. Once\n",
    "we've done the scan, we just see how many sums are under 1000. The first\n",
    "sum in the scanlist will be 1, normally. The second will be 1 plus the\n",
    "square root of 2. The third will be that plus the square root of 3. If\n",
    "there are X sums under 1000, then it takes X+1 elements for the sum to\n",
    "exceed 1000."
   ]
  },
  {
   "cell_type": "code",
   "execution_count": 66,
   "metadata": {
    "attributes": {
     "classes": [
      "haskell:hs"
     ],
     "id": "",
     "name": "\"code\""
    }
   },
   "outputs": [],
   "source": [
    "sqrtSums :: Int\n",
    "sqrtSums = length (takeWhile (<1000) (scanl1 (+) (map sqrt [1..]))) + 1"
   ]
  },
  {
   "cell_type": "code",
   "execution_count": 67,
   "metadata": {
    "attributes": {
     "classes": [
      "haskell:ghci"
     ],
     "id": "",
     "name": "\"code\""
    }
   },
   "outputs": [
    {
     "data": {
      "text/plain": [
       "131"
      ]
     },
     "metadata": {},
     "output_type": "display_data"
    }
   ],
   "source": [
    "sqrtSums"
   ]
  },
  {
   "cell_type": "code",
   "execution_count": 68,
   "metadata": {
    "attributes": {
     "classes": [
      "haskell:ghci"
     ],
     "id": "",
     "name": "\"code\""
    }
   },
   "outputs": [
    {
     "data": {
      "text/plain": [
       "1005.0942035344083"
      ]
     },
     "metadata": {},
     "output_type": "display_data"
    }
   ],
   "source": [
    "sum (map sqrt [1..131])"
   ]
  },
  {
   "cell_type": "code",
   "execution_count": 69,
   "metadata": {
    "attributes": {
     "classes": [
      "haskell:ghci"
     ],
     "id": "",
     "name": "\"code\""
    }
   },
   "outputs": [
    {
     "data": {
      "text/plain": [
       "993.6486803921487"
      ]
     },
     "metadata": {},
     "output_type": "display_data"
    }
   ],
   "source": [
    "sum (map sqrt [1..130])"
   ]
  },
  {
   "cell_type": "markdown",
   "metadata": {},
   "source": [
    "We use [`takeWhile`](https://hackage.haskell.org/package/base/docs/Prelude.html#v:takeWhile) here instead of [`filter`](https://hackage.haskell.org/package/base/docs/Prelude.html#v:filter) because [`filter`](https://hackage.haskell.org/package/base/docs/Prelude.html#v:filter) doesn't work on\n",
    "infinite lists. Even though we know the list is ascending, [`filter`](https://hackage.haskell.org/package/base/docs/Prelude.html#v:filter)\n",
    "doesn't, so we use [`takeWhile`](https://hackage.haskell.org/package/base/docs/Prelude.html#v:takeWhile) to cut the scanlist off at the first\n",
    "occurence of a sum greater than 1000.\n",
    "\n",
    "Function application with \\$\n",
    "----------------------------\n",
    "\n",
    "Alright, next up, we'll take a look at the [`$`](https://hackage.haskell.org/package/base/docs/Prelude.html#v:-36-) function, also called\n",
    "*function application*. First of all, let's check out how it's defined:"
   ]
  },
  {
   "cell_type": "raw",
   "metadata": {
    "attributes": {
     "classes": [
      "haskell:hs"
     ],
     "id": "",
     "name": "\"code\""
    }
   },
   "source": [
    "($) :: (a -> b) -> a -> b\n",
    "f $ x = f x"
   ]
  },
  {
   "cell_type": "markdown",
   "metadata": {},
   "source": [
    "<img src=\"img/dollar.png\" title=\"dollar\" style=\"float:left;margin-right:2em;\" />\n",
    "\n",
    "What the heck? What is this useless operator? It's just function\n",
    "application! Well, almost, but not quite! Whereas normal function\n",
    "application (putting a space between two things) has a really high\n",
    "precedence, the [`$`](https://hackage.haskell.org/package/base/docs/Prelude.html#v:-36-) function has the lowest precedence. Function\n",
    "application with a space is left-associative (so `f a b c` is the same as\n",
    "`((f a) b) c))`, function application with [`$`](https://hackage.haskell.org/package/base/docs/Prelude.html#v:-36-) is right-associative.\n",
    "\n",
    "That's all very well, but how does this help us? Most of the time, it's\n",
    "a convenience function so that we don't have to write so many\n",
    "parentheses. Consider the expression `sum (map sqrt [1..130])`. Because [`$`](https://hackage.haskell.org/package/base/docs/Prelude.html#v:-36-)\n",
    "has such a low precedence, we can rewrite that expression as\n",
    "`sum $ map sqrt [1..130]`,\n",
    "saving ourselves precious keystrokes! When a [`$`](https://hackage.haskell.org/package/base/docs/Prelude.html#v:-36-) is\n",
    "encountered, the expression on its right is applied as the parameter to\n",
    "the function on its left. How about `sqrt 3 + 4 + 9`? This adds together\n",
    "9, 4 and the square root of 3. If we want get the square root of 3 + 4 + 9, \n",
    "we'd have to write `sqrt (3 + 4 + 9)` or if we use [`$`](https://hackage.haskell.org/package/base/docs/Prelude.html#v:-36-) we can write\n",
    "it as `sqrt $ 3 + 4 + 9` because [`$`](https://hackage.haskell.org/package/base/docs/Prelude.html#v:-36-) has the lowest precedence of any\n",
    "operator. That's why you can imagine a [`$`](https://hackage.haskell.org/package/base/docs/Prelude.html#v:-36-) being sort of the equivalent\n",
    "of writing an opening parentheses and then writing a closing one on the\n",
    "far right side of the expression.\n",
    "\n",
    "How about\n",
    "`sum (filter (> 10) (map (*2) [2..10]))`?\n",
    "Well, because [`$`](https://hackage.haskell.org/package/base/docs/Prelude.html#v:-36-) is right-associative,\n",
    "`f (g (z x))` is equal to `f $ g $ z x`.\n",
    "And so, we can rewrite\n",
    "`sum (filter (> 10) (map (*2) [2..10]))`\n",
    "as\n",
    "`sum $ filter (> 10) $ map (*2) [2..10]`.\n",
    "\n",
    "But apart from getting rid of parentheses, [`$`](https://hackage.haskell.org/package/base/docs/Prelude.html#v:-36-) means that function\n",
    "application can be treated just like another function. That way, we can,\n",
    "for instance, map function application over a list of functions."
   ]
  },
  {
   "cell_type": "code",
   "execution_count": 70,
   "metadata": {
    "attributes": {
     "classes": [
      "haskell:ghci"
     ],
     "id": "",
     "name": "\"code\""
    }
   },
   "outputs": [
    {
     "data": {
      "text/plain": [
       "[7.0,30.0,9.0,1.7320508075688772]"
      ]
     },
     "metadata": {},
     "output_type": "display_data"
    }
   ],
   "source": [
    "map ($ 3) [(4+), (10*), (^2), sqrt]"
   ]
  },
  {
   "cell_type": "markdown",
   "metadata": {},
   "source": [
    "<a name=\"composition\"></a>\n",
    "\n",
    "Function composition\n",
    "--------------------\n",
    "\n",
    "In mathematics, function composition is defined like this:\n",
    "$(f \\circ g)(x) = f(g(x))$, meaning that\n",
    "composing two functions produces a new function that, when called with a\n",
    "parameter, say, $x$ is the equivalent of calling $g$ with the parameter\n",
    "$x$ and then calling the $f$ with that result.\n",
    "\n",
    "In Haskell, function composition is pretty much the same thing. We do\n",
    "function composition with the [`.`](https://hackage.haskell.org/package/base/docs/Prelude.html#v:.) function, which is defined like so:"
   ]
  },
  {
   "cell_type": "raw",
   "metadata": {
    "attributes": {
     "classes": [
      "haskell:hs"
     ],
     "id": "",
     "name": "\"code\""
    }
   },
   "source": [
    "(.) :: (b -> c) -> (a -> b) -> a -> c\n",
    "f . g = \\x -> f (g x)"
   ]
  },
  {
   "cell_type": "markdown",
   "metadata": {},
   "source": [
    "<img src=\"img/notes.png\" title=\"notes\" style=\"float:left;margin-right:2em;\" />\n",
    "\n",
    "Mind the type declaration. `f` must take as its parameter a value that has\n",
    "the same type as `g`'s return value. So the resulting function takes a\n",
    "parameter of the same type that g takes and returns a value of the same\n",
    "type that `f` returns. The expression `negate . (* 3)` returns a function\n",
    "that takes a number, multiplies it by 3 and then negates it.\n",
    "\n",
    "One of the uses for function composition is making functions on the fly\n",
    "to pass to other functions. Sure, can use lambdas for that, but many\n",
    "times, function composition is clearer and more concise. Say we have a\n",
    "list of numbers and we want to turn them all into negative numbers. One\n",
    "way to do that would be to get each number's absolute value and then\n",
    "negate it, like so:"
   ]
  },
  {
   "cell_type": "code",
   "execution_count": 71,
   "metadata": {
    "attributes": {
     "classes": [
      "haskell:hs"
     ],
     "id": "",
     "name": "\"code\""
    }
   },
   "outputs": [
    {
     "data": {
      "text/plain": [
       "[-5,-3,-6,-7,-3,-2,-19,-24]"
      ]
     },
     "metadata": {},
     "output_type": "display_data"
    }
   ],
   "source": [
    "map (\\x -> negate (abs x)) [5,-3,-6,7,-3,2,-19,24]"
   ]
  },
  {
   "cell_type": "markdown",
   "metadata": {},
   "source": [
    "Notice the lambda and how it looks like the result function composition.\n",
    "Using function composition, we can rewrite that as:"
   ]
  },
  {
   "cell_type": "code",
   "execution_count": 72,
   "metadata": {
    "attributes": {
     "classes": [
      "haskell:hs"
     ],
     "id": "",
     "name": "\"code\""
    }
   },
   "outputs": [
    {
     "data": {
      "text/plain": [
       "[-5,-3,-6,-7,-3,-2,-19,-24]"
      ]
     },
     "metadata": {},
     "output_type": "display_data"
    }
   ],
   "source": [
    "map (negate . abs) [5,-3,-6,7,-3,2,-19,24]"
   ]
  },
  {
   "cell_type": "markdown",
   "metadata": {},
   "source": [
    "Fabulous! Function composition is right-associative, so we can compose\n",
    "many functions at a time. The expression `f (g (z x))` is equivalent to\n",
    "`(f . g . z) x`. With that in mind, we can turn"
   ]
  },
  {
   "cell_type": "code",
   "execution_count": 73,
   "metadata": {
    "attributes": {
     "classes": [
      "haskell:ghci"
     ],
     "id": "",
     "name": "\"code\""
    }
   },
   "outputs": [
    {
     "data": {
      "text/plain": [
       "[-14,-15,-27]"
      ]
     },
     "metadata": {},
     "output_type": "display_data"
    }
   ],
   "source": [
    "map (\\xs -> negate (sum (tail xs))) [[1..5],[3..6],[1..7]]"
   ]
  },
  {
   "cell_type": "markdown",
   "metadata": {},
   "source": [
    "into"
   ]
  },
  {
   "cell_type": "code",
   "execution_count": 74,
   "metadata": {
    "attributes": {
     "classes": [
      "haskell:ghci"
     ],
     "id": "",
     "name": "\"code\""
    }
   },
   "outputs": [
    {
     "data": {
      "text/plain": [
       "[-14,-15,-27]"
      ]
     },
     "metadata": {},
     "output_type": "display_data"
    }
   ],
   "source": [
    "map (negate . sum . tail) [[1..5],[3..6],[1..7]]"
   ]
  },
  {
   "cell_type": "markdown",
   "metadata": {},
   "source": [
    "But what about functions that take several parameters? Well, if we want\n",
    "to use them in function composition, we usually have to partially apply\n",
    "them just so much that each function takes just one parameter.\n",
    "`sum (replicate 5 (max 6.7 8.9))` can be rewritten as\n",
    "`(sum . replicate 5 . max 6.7) 8.9` or as\n",
    "`sum . replicate 5 . max 6.7 $ 8.9`. What goes on in here\n",
    "is this: a function that takes what `max 6.7` takes and applies\n",
    "`replicate 5` to it is created.\n",
    "Then, a function that takes the result of that and\n",
    "does a sum of it is created. Finally, that function is called with `8.9`.\n",
    "But normally, you just read that as: apply `8.9` to `max 6.7`, then apply\n",
    "`replicate 5` to that and then apply [`sum`](https://hackage.haskell.org/package/base/docs/Prelude.html#v:sum) to that. If you want to rewrite\n",
    "an expression with a lot of parentheses by using function composition,\n",
    "you can start by putting the last parameter of the innermost function\n",
    "after a [`$`](https://hackage.haskell.org/package/base/docs/Prelude.html#v:-36-) and then just composing all the other function calls, writing\n",
    "them without their last parameter and putting dots between them. If you\n",
    "have\n",
    "`replicate 100 (product (map (*3) (zipWith max [1,2,3,4,5] [4,5,6,7,8])))`,\n",
    "you can write it as\n",
    "`replicate 100 . product . map (*3) . zipWith max [1,2,3,4,5] $ [4,5,6,7,8]`.\n",
    "If the expression ends with\n",
    "three parentheses, chances are that if you translate it into function\n",
    "composition, it'll have three composition operators.\n",
    "\n",
    "Another common use of function composition is defining functions in the\n",
    "so-called point free style (also called the point*less* style). Take for\n",
    "example this function that we wrote earlier:"
   ]
  },
  {
   "cell_type": "code",
   "execution_count": 75,
   "metadata": {
    "attributes": {
     "classes": [
      "haskell:hs"
     ],
     "id": "",
     "name": "\"code\""
    }
   },
   "outputs": [],
   "source": [
    "sum' :: (Num a) => [a] -> a\n",
    "sum' xs = foldl (+) 0 xs"
   ]
  },
  {
   "cell_type": "markdown",
   "metadata": {},
   "source": [
    "The `xs` is exposed on both right sides. Because of currying, we can omit\n",
    "the `xs` on both sides, because calling `foldl (+) 0` creates a function\n",
    "that takes a list. Writing the function as `sum' = foldl (+) 0` is called\n",
    "writing it in point free style. How would we write this in point free\n",
    "style?"
   ]
  },
  {
   "cell_type": "code",
   "execution_count": 76,
   "metadata": {
    "attributes": {
     "classes": [
      "haskell:hs"
     ],
     "id": "",
     "name": "\"code\""
    }
   },
   "outputs": [],
   "source": [
    "fn x = ceiling (negate (tan (cos (max 50 x))))"
   ]
  },
  {
   "cell_type": "markdown",
   "metadata": {},
   "source": [
    "We can't just get rid of the `x` on both right right sides. The `x` in the\n",
    "function body has parentheses after it. `cos (max 50)` wouldn't make\n",
    "sense. You can't get the cosine of a function. What we can do is express\n",
    "`fn` as a composition of functions."
   ]
  },
  {
   "cell_type": "code",
   "execution_count": 77,
   "metadata": {
    "attributes": {
     "classes": [
      "haskell:hs"
     ],
     "id": "",
     "name": "\"code\""
    }
   },
   "outputs": [],
   "source": [
    "fn = ceiling . negate . tan . cos . max 50"
   ]
  },
  {
   "cell_type": "markdown",
   "metadata": {},
   "source": [
    "Excellent! Many times, a point free style is more readable and concise,\n",
    "because it makes you think about functions and what kind of functions\n",
    "composing them results in instead of thinking about data and how it's\n",
    "shuffled around. You can take simple functions and use composition as\n",
    "glue to form more complex functions. However, many times, writing a\n",
    "function in point free style can be less readable if a function is too\n",
    "complex. That's why making long chains of function composition is\n",
    "discouraged, although I plead guilty of sometimes being too\n",
    "composition-happy. The preferred style is to use *let* bindings to give\n",
    "labels to intermediary results or split the problem into sub-problems\n",
    "and then put it together so that the function makes sense to someone\n",
    "reading it instead of just making a huge composition chain.\n",
    "\n",
    "In the section about maps and filters, we solved a problem of finding\n",
    "the sum of all odd squares that are smaller than 10,000. Here's what the\n",
    "solution looks like when put into a function."
   ]
  },
  {
   "cell_type": "code",
   "execution_count": 78,
   "metadata": {
    "attributes": {
     "classes": [
      "haskell:hs"
     ],
     "id": "",
     "name": "\"code\""
    }
   },
   "outputs": [],
   "source": [
    "oddSquareSum :: Integer\n",
    "oddSquareSum = sum (takeWhile (<10000) (filter odd (map (^2) [1..])))"
   ]
  },
  {
   "cell_type": "markdown",
   "metadata": {},
   "source": [
    "Being such a fan of function composition, I would have probably written\n",
    "that like this:"
   ]
  },
  {
   "cell_type": "code",
   "execution_count": 79,
   "metadata": {
    "attributes": {
     "classes": [
      "haskell:hs"
     ],
     "id": "",
     "name": "\"code\""
    }
   },
   "outputs": [],
   "source": [
    "oddSquareSum :: Integer\n",
    "oddSquareSum = sum . takeWhile (<10000) . filter odd . map (^2) $ [1..]"
   ]
  },
  {
   "cell_type": "markdown",
   "metadata": {},
   "source": [
    "However, if there was a chance of someone else reading that code, I\n",
    "would have written it like this:"
   ]
  },
  {
   "cell_type": "code",
   "execution_count": 80,
   "metadata": {
    "attributes": {
     "classes": [
      "haskell:hs"
     ],
     "id": "",
     "name": "\"code\""
    }
   },
   "outputs": [],
   "source": [
    "oddSquareSum :: Integer\n",
    "oddSquareSum =\n",
    "    let oddSquares = filter odd $ map (^2) [1..]\n",
    "        belowLimit = takeWhile (<10000) oddSquares\n",
    "    in  sum belowLimit"
   ]
  },
  {
   "cell_type": "markdown",
   "metadata": {},
   "source": [
    "It wouldn't win any code golf competition, but someone reading the\n",
    "function will probably find it easier to read than a composition chain."
   ]
  }
 ],
 "metadata": {
  "kernelspec": {
   "display_name": "Haskell",
   "language": "haskell",
   "name": "haskell"
  },
  "language_info": {
   "codemirror_mode": "ihaskell",
   "file_extension": ".hs",
   "name": "haskell",
   "pygments_lexer": "Haskell",
   "version": "8.6.5"
  }
 },
 "nbformat": 4,
 "nbformat_minor": 4
}
