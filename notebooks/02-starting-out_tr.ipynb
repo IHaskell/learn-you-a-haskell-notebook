{
 "cells": [
  {
   "cell_type": "markdown",
   "metadata": {},
   "source": [
    "# 1장 하스켈 프로그래밍 시작하기"
   ]
  },
  {
   "cell_type": "markdown",
   "metadata": {},
   "source": [
    "주피터 노트북에서 가장 유용한 단축키 조합은 다음과 같음\n",
    "\n",
    "| Keyboard Command | Action |\n",
    "|-------------:|---------------|\n",
    "|<kbd>Shift</kbd>+<kbd>Enter</kbd> | 선택한 셀을 실행하고 다음 셀로 이동 |\n",
    "|<kbd>Ctrl</kbd>+<kbd>Enter</kbd> | 선택한 셀을 실행. 다음 셀로 이동하지 않음 |\n",
    "|<kbd>Alt</kbd>+<kbd>Enter</kbd> | 선택한 셀을 실행하고 선택한 셀 뒤에 새로운 셀 삽입 |\n",
    "|<kbd>Enter</kbd> | 선택한 셀 편집 |\n",
    "|<kbd>Ctrl</kbd>+<kbd>Shift</kbd>+<kbd>-</kbd> | 커서 위치에서 셀 분할 |\n",
    "\n",
    "* 코드 셀을 실행시키면 셀 아래에 결과가 출력\n",
    "* 모든 가능한 단축키 조합은 <kbd>H</kbd>를 누르면 확인 가능"
   ]
  },
  {
   "cell_type": "markdown",
   "metadata": {},
   "source": [
    "__참고:__ 린팅(linting) 기능 끄기\n",
    "\n",
    "* 린팅(linting): IHaskell에서 HLint라고 불리는 린터(linter)에 의해 보다 적절하다고 판단하는 표현식을 제안하는 기능\n",
    "* 보다 세련된 표현식(expression)을 제안하는 도구임. 하지만 교육적으로 반드시 필요한 기능은 아님.\n",
    "* 린팅 기능을 켰을 때와 껐을 때를 비교해보면 차이점을 알 수 있음.\n",
    "* 참고: 먼저 [automatic linting for IHaskell](https://github.com/gibiansky/IHaskell/wiki#opt-no-lint)"
   ]
  },
  {
   "cell_type": "code",
   "execution_count": 1,
   "metadata": {
    "attributes": {
     "classes": [
      "haskell:",
      "ghci"
     ],
     "id": "",
     "name": "\"code\""
    }
   },
   "outputs": [],
   "source": [
    ":opt no-lint"
   ]
  },
  {
   "cell_type": "markdown",
   "metadata": {},
   "source": [
    "## 1.1 간단한 연산"
   ]
  },
  {
   "cell_type": "markdown",
   "metadata": {},
   "source": [
    "### 사칙연산 "
   ]
  },
  {
   "cell_type": "code",
   "execution_count": 2,
   "metadata": {
    "attributes": {
     "classes": [
      "haskell:",
      "ghci"
     ],
     "id": "",
     "name": "\"code\""
    }
   },
   "outputs": [
    {
     "data": {
      "text/plain": [
       "17"
      ]
     },
     "metadata": {},
     "output_type": "display_data"
    }
   ],
   "source": [
    "2 + 15"
   ]
  },
  {
   "cell_type": "code",
   "execution_count": 3,
   "metadata": {
    "attributes": {
     "classes": [
      "haskell:",
      "ghci"
     ],
     "id": "",
     "name": "\"code\""
    }
   },
   "outputs": [
    {
     "data": {
      "text/plain": [
       "4900"
      ]
     },
     "metadata": {},
     "output_type": "display_data"
    }
   ],
   "source": [
    "49 * 100"
   ]
  },
  {
   "cell_type": "code",
   "execution_count": 4,
   "metadata": {
    "attributes": {
     "classes": [
      "haskell:",
      "ghci"
     ],
     "id": "",
     "name": "\"code\""
    }
   },
   "outputs": [
    {
     "data": {
      "text/plain": [
       "420"
      ]
     },
     "metadata": {},
     "output_type": "display_data"
    }
   ],
   "source": [
    "1892 - 1472"
   ]
  },
  {
   "cell_type": "code",
   "execution_count": 5,
   "metadata": {
    "attributes": {
     "classes": [
      "haskell:",
      "ghci"
     ],
     "id": "",
     "name": "\"code\""
    }
   },
   "outputs": [
    {
     "data": {
      "text/plain": [
       "2.5"
      ]
     },
     "metadata": {},
     "output_type": "display_data"
    }
   ],
   "source": [
    "5 / 2"
   ]
  },
  {
   "cell_type": "markdown",
   "metadata": {},
   "source": [
    "일반적으로 알려진 연산자 우선순위를 적용함."
   ]
  },
  {
   "cell_type": "code",
   "execution_count": 6,
   "metadata": {
    "attributes": {
     "classes": [
      "haskell:",
      "ghci"
     ],
     "id": "",
     "name": "\"code\""
    }
   },
   "outputs": [
    {
     "data": {
      "text/plain": [
       "1"
      ]
     },
     "metadata": {},
     "output_type": "display_data"
    }
   ],
   "source": [
    "(50 * 100) - 4999"
   ]
  },
  {
   "cell_type": "code",
   "execution_count": 7,
   "metadata": {
    "attributes": {
     "classes": [
      "haskell:",
      "ghci"
     ],
     "id": "",
     "name": "\"code\""
    }
   },
   "outputs": [
    {
     "data": {
      "text/plain": [
       "1"
      ]
     },
     "metadata": {},
     "output_type": "display_data"
    }
   ],
   "source": [
    "50 * 100 - 4999"
   ]
  },
  {
   "cell_type": "code",
   "execution_count": 8,
   "metadata": {
    "attributes": {
     "classes": [
      "haskell:",
      "ghci"
     ],
     "id": "",
     "name": "\"code\""
    }
   },
   "outputs": [
    {
     "data": {
      "text/plain": [
       "-244950"
      ]
     },
     "metadata": {},
     "output_type": "display_data"
    }
   ],
   "source": [
    "50 * (100 - 4999)"
   ]
  },
  {
   "cell_type": "markdown",
   "metadata": {},
   "source": [
    "__주의사항__ \n",
    "\n",
    "* 음수를 사용할 때 괄호로 묶어 주어야 함. \n",
    "* 예를 들어, `5 * -3`를 실행하면 오류 발생. 반면에 `5 * (-3)`는 적절하게 실행됨."
   ]
  },
  {
   "cell_type": "markdown",
   "metadata": {},
   "source": [
    "### 부울 연산"
   ]
  },
  {
   "cell_type": "markdown",
   "metadata": {},
   "source": [
    "부울대수 연산도 일반적으로 알려진대로 사용하며 부울 연산자는 다음과 같음:\n",
    "\n",
    "| Keyboard Command | Action |\n",
    "|-------------:|---------------|\n",
    "| [`&&`](https://hackage.haskell.org/package/base/docs/Prelude.html#v:-38--38-) | 그리고(and)|\n",
    "| [<code>&#124;&#124;</code>](https://hackage.haskell.org/package/base/docs/Prelude.html#v:-124--124-) | 또는(or) |\n",
    "| [`not`](https://hackage.haskell.org/package/base/docs/Prelude.html#v:not) | [`True`](https://hackage.haskell.org/package/base/docs/Prelude.html#v:True) 또는 [`False`](https://hackage.haskell.org/package/base/docs/Prelude.html#v:False) 부정하기|"
   ]
  },
  {
   "cell_type": "code",
   "execution_count": 9,
   "metadata": {
    "attributes": {
     "classes": [
      "haskell:",
      "ghci"
     ],
     "id": "",
     "name": "\"code\""
    }
   },
   "outputs": [
    {
     "data": {
      "text/plain": [
       "False"
      ]
     },
     "metadata": {},
     "output_type": "display_data"
    }
   ],
   "source": [
    "True && False"
   ]
  },
  {
   "cell_type": "code",
   "execution_count": 10,
   "metadata": {
    "attributes": {
     "classes": [
      "haskell:",
      "ghci"
     ],
     "id": "",
     "name": "\"code\""
    }
   },
   "outputs": [
    {
     "data": {
      "text/plain": [
       "True"
      ]
     },
     "metadata": {},
     "output_type": "display_data"
    }
   ],
   "source": [
    "True && True"
   ]
  },
  {
   "cell_type": "code",
   "execution_count": 11,
   "metadata": {
    "attributes": {
     "classes": [
      "haskell:",
      "ghci"
     ],
     "id": "",
     "name": "\"code\""
    }
   },
   "outputs": [
    {
     "data": {
      "text/plain": [
       "True"
      ]
     },
     "metadata": {},
     "output_type": "display_data"
    }
   ],
   "source": [
    "False || True"
   ]
  },
  {
   "cell_type": "code",
   "execution_count": 12,
   "metadata": {
    "attributes": {
     "classes": [
      "haskell:",
      "ghci"
     ],
     "id": "",
     "name": "\"code\""
    }
   },
   "outputs": [
    {
     "data": {
      "text/plain": [
       "True"
      ]
     },
     "metadata": {},
     "output_type": "display_data"
    }
   ],
   "source": [
    "not False"
   ]
  },
  {
   "cell_type": "code",
   "execution_count": 13,
   "metadata": {
    "attributes": {
     "classes": [
      "haskell:",
      "ghci"
     ],
     "id": "",
     "name": "\"code\""
    }
   },
   "outputs": [
    {
     "data": {
      "text/plain": [
       "False"
      ]
     },
     "metadata": {},
     "output_type": "display_data"
    }
   ],
   "source": [
    "not (True && True)"
   ]
  },
  {
   "cell_type": "markdown",
   "metadata": {},
   "source": [
    "### 등가성 판단(Equality Test)"
   ]
  },
  {
   "cell_type": "markdown",
   "metadata": {},
   "source": [
    "주어진 표현식 두 개가 동일한 값을 의미하는 가를 판단하기 위해 기호 `==`와 `/=`를 사용함."
   ]
  },
  {
   "cell_type": "code",
   "execution_count": 15,
   "metadata": {
    "attributes": {
     "classes": [
      "haskell:",
      "ghci"
     ],
     "id": "",
     "name": "\"code\""
    }
   },
   "outputs": [
    {
     "data": {
      "text/plain": [
       "True"
      ]
     },
     "metadata": {},
     "output_type": "display_data"
    }
   ],
   "source": [
    "5 == 5"
   ]
  },
  {
   "cell_type": "code",
   "execution_count": 16,
   "metadata": {
    "attributes": {
     "classes": [
      "haskell:",
      "ghci"
     ],
     "id": "",
     "name": "\"code\""
    }
   },
   "outputs": [
    {
     "data": {
      "text/plain": [
       "True"
      ]
     },
     "metadata": {},
     "output_type": "display_data"
    }
   ],
   "source": [
    "2 + 3 == 5"
   ]
  },
  {
   "cell_type": "code",
   "execution_count": 17,
   "metadata": {
    "attributes": {
     "classes": [
      "haskell:",
      "ghci"
     ],
     "id": "",
     "name": "\"code\""
    }
   },
   "outputs": [
    {
     "data": {
      "text/plain": [
       "False"
      ]
     },
     "metadata": {},
     "output_type": "display_data"
    }
   ],
   "source": [
    "1 == 0"
   ]
  },
  {
   "cell_type": "code",
   "execution_count": 19,
   "metadata": {
    "attributes": {
     "classes": [
      "haskell:",
      "ghci"
     ],
     "id": "",
     "name": "\"code\""
    }
   },
   "outputs": [
    {
     "data": {
      "text/plain": [
       "False"
      ]
     },
     "metadata": {},
     "output_type": "display_data"
    }
   ],
   "source": [
    "5 /= 3 + 2"
   ]
  },
  {
   "cell_type": "code",
   "execution_count": 20,
   "metadata": {
    "attributes": {
     "classes": [
      "haskell:",
      "ghci"
     ],
     "id": "",
     "name": "\"code\""
    }
   },
   "outputs": [
    {
     "data": {
      "text/plain": [
       "True"
      ]
     },
     "metadata": {},
     "output_type": "display_data"
    }
   ],
   "source": [
    "5 /= 4"
   ]
  },
  {
   "cell_type": "code",
   "execution_count": 21,
   "metadata": {
    "attributes": {
     "classes": [
      "haskell:",
      "ghci"
     ],
     "id": "",
     "name": "\"code\""
    }
   },
   "outputs": [
    {
     "data": {
      "text/plain": [
       "True"
      ]
     },
     "metadata": {},
     "output_type": "display_data"
    }
   ],
   "source": [
    "\"hello\" == \"hello\""
   ]
  },
  {
   "cell_type": "markdown",
   "metadata": {},
   "source": [
    "__주의사항__\n",
    "\n",
    "* 연산에 사용되는 값들의 유형(type)에 주의해야 함.\n",
    "* 예를 들어, `5 + \"llama\"` 혹은 `5 == True`를 실행하면 오류 발생"
   ]
  },
  {
   "cell_type": "code",
   "execution_count": 23,
   "metadata": {
    "attributes": {
     "classes": [
      "haskell:",
      "ghci"
     ],
     "id": "",
     "name": "\"code\""
    }
   },
   "outputs": [
    {
     "ename": "",
     "evalue": "",
     "output_type": "error",
     "traceback": [
      "<interactive>:1:1: error:\n    • No instance for (Num String) arising from a use of ‘+’\n    • In the expression: 5 + \"llama\"\n      In an equation for ‘it’: it = 5 + \"llama\""
     ]
    }
   ],
   "source": [
    "5 + \"llama\""
   ]
  },
  {
   "cell_type": "code",
   "execution_count": 24,
   "metadata": {
    "attributes": {
     "classes": [
      "haskell:",
      "ghci"
     ],
     "id": "",
     "name": "\"code\""
    }
   },
   "outputs": [
    {
     "ename": "",
     "evalue": "",
     "output_type": "error",
     "traceback": [
      "<interactive>:1:1: error:\n    • No instance for (Num String) arising from the literal ‘5’\n    • In the first argument of ‘(==)’, namely ‘5’\n      In the expression: 5 == \"llama\"\n      In an equation for ‘it’: it = 5 == \"llama\""
     ]
    }
   ],
   "source": [
    "5 == \"llama\""
   ]
  },
  {
   "cell_type": "markdown",
   "metadata": {},
   "source": [
    "* 이유: 하스켈 컴파일러(GHC)는 숫자 5와 문자열 `\"llama\"`를 서로 더하거나 등가성 판단을 위해 비교할 수 없기 때문. \n",
    "    * [`+`](https://hackage.haskell.org/package/base/docs/Prelude.html#v:-43-)는동일한 유형(type)을 갖는 값들만 더할 수 있음. \n",
    "    * [`==`](https://hackage.haskell.org/package/base/docs/Prelude.html#v:-61--61-)는 동일한 유형(type)을 갖는 값들만을 대상으로 등가성을 판단할 수 있음. \n",
    "\n",
    "* 유형(type)에 대해서는 이후에 자세히 다룸.\n",
    "\n",
    "* 반면에 `5 + 4.0`는 계산 가능\n",
    "    * `5`는 문맥에 따라 정수 또는 부동소수점으로 취급되지만, `4.0` 은 정수로 간주될 수 없기에 `9.0`으로 계산됨."
   ]
  },
  {
   "cell_type": "code",
   "execution_count": 25,
   "metadata": {},
   "outputs": [
    {
     "data": {
      "text/plain": [
       "9.0"
      ]
     },
     "metadata": {},
     "output_type": "display_data"
    }
   ],
   "source": [
    "5 + 4.0"
   ]
  },
  {
   "cell_type": "markdown",
   "metadata": {},
   "source": [
    "## 1.2 함수"
   ]
  },
  {
   "cell_type": "markdown",
   "metadata": {},
   "source": [
    "### 함수 호출"
   ]
  },
  {
   "cell_type": "markdown",
   "metadata": {},
   "source": [
    "앞서 살펴 본 연산은 모두 함수를 사용하였음.\n",
    "\n",
    "* 예를 들어, [`*`](https://hackage.haskell.org/package/base/docs/Prelude.html#v:-42-)은 \n",
    "    두 개의 숫자를 받아 두 수의 곱을 반환해주는 함수. \n",
    "* `+`처럼 인자를 양쪽에 표현하는 함수를 __중위 함수__ 라 부름.\n",
    "    반면에 함수 이름 다음에 인자를 사용하면 __전위 함수__ 라 부름.\n",
    "    일반적으로 전위 함수를 사용함."
   ]
  },
  {
   "cell_type": "markdown",
   "metadata": {},
   "source": [
    "__주의사항:__ 전위 함수 사용법\n",
    "\n",
    "* 대부분의 명령형 언어에서 함수는 함수 이름을 작성한 후 괄호 안에 \n",
    "    매개변수 또는 인자를 쉼표로 구분해 작성한 후 호출\n",
    "    \n",
    "    * 예제: `foo()`, `bar(1)`, `baz(3, \"haha\")`, `bar(bar(3))`\n",
    "\n",
    "* 하스칼에서는, 함수 이름을 적고 공백을 두고 \n",
    "    매개변수 또는 인자를 작성. 각각의 매개변수는 공백으로 구분\n",
    "    \n",
    "    * 예제: `foo `, `bar 1`, `baz 3 \"haha\"`, `bar (bar 3)`\n",
    "    * `bar (bar 3)` 의 경우 반드시 괄호를 사용해야 함. \n",
    "        그렇지 않으면 `bar` 가 하나가 아닌 두 개의 인자를 받는 것으로 인식되어 오류 발생함."
   ]
  },
  {
   "cell_type": "markdown",
   "metadata": {},
   "source": [
    "예를 들어, `+1`에 해당하는 함수인 `succ`의 사용법은 다음과 같음. \n",
    "* `8` 은 `succ` 함수가 기대하는 하나의 인자이기에 공백으로 구분되었음. "
   ]
  },
  {
   "cell_type": "code",
   "execution_count": 26,
   "metadata": {
    "attributes": {
     "classes": [
      "haskell:",
      "ghci"
     ],
     "id": "",
     "name": "\"code\""
    }
   },
   "outputs": [
    {
     "data": {
      "text/plain": [
       "9"
      ]
     },
     "metadata": {},
     "output_type": "display_data"
    }
   ],
   "source": [
    "succ 8"
   ]
  },
  {
   "cell_type": "markdown",
   "metadata": {},
   "source": [
    "여러 파라미터를 사용하는 함수를 호출하는 것도 간단함.\n",
    "\n",
    "* [`min`](https://hackage.haskell.org/package/base/docs/Prelude.html#v:min), \n",
    "    [`max`](https://hackage.haskell.org/package/base/docs/Prelude.html#v:max) \n",
    "    함수는 숫자처럼 순서대로 나열할 수 있는 두 개의 값을 인자로 사용\n",
    "    * `min x y`: `x`와 `y` 중에서 더 작은 것을 되돌려줌\n",
    "    * `max x y`: `x`와 `y` 중에서 더 큰 것을 되돌려줌"
   ]
  },
  {
   "cell_type": "code",
   "execution_count": 27,
   "metadata": {
    "attributes": {
     "classes": [
      "haskell:",
      "ghci"
     ],
     "id": "",
     "name": "\"code\""
    }
   },
   "outputs": [
    {
     "data": {
      "text/plain": [
       "9"
      ]
     },
     "metadata": {},
     "output_type": "display_data"
    }
   ],
   "source": [
    "min 9 10"
   ]
  },
  {
   "cell_type": "code",
   "execution_count": 28,
   "metadata": {
    "attributes": {
     "classes": [
      "haskell:",
      "ghci"
     ],
     "id": "",
     "name": "\"code\""
    }
   },
   "outputs": [
    {
     "data": {
      "text/plain": [
       "3.2"
      ]
     },
     "metadata": {},
     "output_type": "display_data"
    }
   ],
   "source": [
    "min 3.4 3.2"
   ]
  },
  {
   "cell_type": "code",
   "execution_count": 29,
   "metadata": {
    "attributes": {
     "classes": [
      "haskell:",
      "ghci"
     ],
     "id": "",
     "name": "\"code\""
    }
   },
   "outputs": [
    {
     "data": {
      "text/plain": [
       "101"
      ]
     },
     "metadata": {},
     "output_type": "display_data"
    }
   ],
   "source": [
    "max 100 101"
   ]
  },
  {
   "cell_type": "markdown",
   "metadata": {},
   "source": [
    "함수에 인자를 적용하는 것이 가장 높은 우선순위를 가짐. \n",
    "예를 들어, 아래의 두 표현식은 동일한 결과를 가리킴."
   ]
  },
  {
   "cell_type": "code",
   "execution_count": 30,
   "metadata": {
    "attributes": {
     "classes": [
      "haskell:",
      "ghci"
     ],
     "id": "",
     "name": "\"code\""
    }
   },
   "outputs": [
    {
     "data": {
      "text/plain": [
       "16"
      ]
     },
     "metadata": {},
     "output_type": "display_data"
    }
   ],
   "source": [
    "succ 9 + max 5 4 + 1"
   ]
  },
  {
   "cell_type": "code",
   "execution_count": 31,
   "metadata": {
    "attributes": {
     "classes": [
      "haskell:",
      "ghci"
     ],
     "id": "",
     "name": "\"code\""
    }
   },
   "outputs": [
    {
     "data": {
      "text/plain": [
       "16"
      ]
     },
     "metadata": {},
     "output_type": "display_data"
    }
   ],
   "source": [
    "(succ 9) + (max 5 4) + 1"
   ]
  },
  {
   "cell_type": "markdown",
   "metadata": {},
   "source": [
    "`9x10`의 다음 숫자를 알고싶다면, `succ 9 * 10`로 입력하면 안됨.\n",
    "* `succ 9 * 10` 코드는 9의 다음 숫자를 먼저 가져오고 그 다음 곱셈을 수행하기 때문에 10x10이 계산되어 100을 반환\n",
    "* 91을 얻기 위해서는 `succ (9 * 10)`로 작성해야함."
   ]
  },
  {
   "cell_type": "code",
   "execution_count": 32,
   "metadata": {},
   "outputs": [
    {
     "data": {
      "text/plain": [
       "100"
      ]
     },
     "metadata": {},
     "output_type": "display_data"
    }
   ],
   "source": [
    "succ 9 * 10"
   ]
  },
  {
   "cell_type": "code",
   "execution_count": 33,
   "metadata": {},
   "outputs": [
    {
     "data": {
      "text/plain": [
       "91"
      ]
     },
     "metadata": {},
     "output_type": "display_data"
    }
   ],
   "source": [
    "succ (9 * 10)"
   ]
  },
  {
   "cell_type": "markdown",
   "metadata": {},
   "source": [
    "두 개의 인자를 받는 전위 함수를 역따옴표로 감싸서 중위 함수로 사용할 수 있음.\n",
    "\n",
    "* 예를 들어, [`div`](https://hackage.haskell.org/package/base/docs/Prelude.html#v:div) 함수는 \n",
    "    두 개의 정수를 받아와 정수 사이의 나눗셈을 계산해줌.\n",
    "* `div 92 10`의 계산 결과는 9. \n",
    "    하지만 이렇게 호출하면, 어떤 숫자가 나누는 숫자인지, 나눠지는 숫자인지 혼란이 있을 수 있음. \n",
    "    그래서 이 식을 더 명확하게 하기 위해 다음과 같이 호출할 수 있음."
   ]
  },
  {
   "cell_type": "code",
   "execution_count": 34,
   "metadata": {},
   "outputs": [
    {
     "data": {
      "text/plain": [
       "9"
      ]
     },
     "metadata": {},
     "output_type": "display_data"
    }
   ],
   "source": [
    "92 `div` 10"
   ]
  },
  {
   "cell_type": "markdown",
   "metadata": {},
   "source": [
    "### 함수 정의"
   ]
  },
  {
   "cell_type": "markdown",
   "metadata": {},
   "source": [
    "함수를 호출하는 방법과 유사한 방식으로 함수를 정의함. \n",
    "* 함수 이름 뒤에 공백으로 구분된 매개변수 나열\n",
    "* 등호 기호 `=` 왼편에 함수의 기능 지정"
   ]
  },
  {
   "cell_type": "markdown",
   "metadata": {},
   "source": [
    "하나의 인자를 받는 함수 정의하는 방법은 다음과 같음."
   ]
  },
  {
   "cell_type": "code",
   "execution_count": 35,
   "metadata": {
    "attributes": {
     "classes": [
      "haskell:",
      "hs"
     ],
     "id": "",
     "name": "\"code\""
    }
   },
   "outputs": [],
   "source": [
    "doubleMe x = x + x"
   ]
  },
  {
   "cell_type": "markdown",
   "metadata": {},
   "source": [
    "지정된 매개변수의 수만큼 인자를 사용하여 함수를 호출하면 됨."
   ]
  },
  {
   "cell_type": "code",
   "execution_count": 36,
   "metadata": {
    "attributes": {
     "classes": [
      "haskell:",
      "ghci"
     ],
     "id": "",
     "name": "\"code\""
    }
   },
   "outputs": [
    {
     "data": {
      "text/plain": [
       "18"
      ]
     },
     "metadata": {},
     "output_type": "display_data"
    }
   ],
   "source": [
    "doubleMe 9"
   ]
  },
  {
   "cell_type": "markdown",
   "metadata": {},
   "source": [
    "`+`는 정수 뿐만 아니라 부동소수점 등 숫자로 볼 수 있는 모든 값에 대해 \n",
    "적용할 수 있기에 부동소수점을 `doubleMe` 함수에 적용할 수 있음."
   ]
  },
  {
   "cell_type": "code",
   "execution_count": 37,
   "metadata": {
    "attributes": {
     "classes": [
      "haskell:",
      "ghci"
     ],
     "id": "",
     "name": "\"code\""
    }
   },
   "outputs": [
    {
     "data": {
      "text/plain": [
       "16.6"
      ]
     },
     "metadata": {},
     "output_type": "display_data"
    }
   ],
   "source": [
    "doubleMe 8.3"
   ]
  },
  {
   "cell_type": "markdown",
   "metadata": {},
   "source": [
    "두 개의 숫자를 인자로 받아 두 숫자의 2배수의 합을 계산하는 함수는 다음과 같이 정의함."
   ]
  },
  {
   "cell_type": "code",
   "execution_count": 38,
   "metadata": {
    "attributes": {
     "classes": [
      "haskell:",
      "hs"
     ],
     "id": "",
     "name": "\"code\""
    }
   },
   "outputs": [],
   "source": [
    "doubleUs x y = x*2 + y*2"
   ]
  },
  {
   "cell_type": "code",
   "execution_count": 39,
   "metadata": {
    "attributes": {
     "classes": [
      "haskell:",
      "ghci"
     ],
     "id": "",
     "name": "\"code\""
    }
   },
   "outputs": [
    {
     "data": {
      "text/plain": [
       "26"
      ]
     },
     "metadata": {},
     "output_type": "display_data"
    }
   ],
   "source": [
    "doubleUs 4 9"
   ]
  },
  {
   "cell_type": "code",
   "execution_count": 40,
   "metadata": {
    "attributes": {
     "classes": [
      "haskell:",
      "ghci"
     ],
     "id": "",
     "name": "\"code\""
    }
   },
   "outputs": [
    {
     "data": {
      "text/plain": [
       "73.0"
      ]
     },
     "metadata": {},
     "output_type": "display_data"
    }
   ],
   "source": [
    "doubleUs 2.3 34.2"
   ]
  },
  {
   "cell_type": "code",
   "execution_count": 41,
   "metadata": {
    "attributes": {
     "classes": [
      "haskell:",
      "ghci"
     ],
     "id": "",
     "name": "\"code\""
    }
   },
   "outputs": [
    {
     "data": {
      "text/plain": [
       "478"
      ]
     },
     "metadata": {},
     "output_type": "display_data"
    }
   ],
   "source": [
    "doubleUs 28 88 + doubleMe 123"
   ]
  },
  {
   "cell_type": "markdown",
   "metadata": {},
   "source": [
    "새로운 함수를 정의할 때, 이전에 만들어둔 함수를 이용해 정의할 수 있음.\n",
    "따라서 `doubleUs`를 아래처럼 재정의할 수 있음."
   ]
  },
  {
   "cell_type": "code",
   "execution_count": 42,
   "metadata": {
    "attributes": {
     "classes": [
      "haskell:",
      "hs"
     ],
     "id": "",
     "name": "\"code\""
    }
   },
   "outputs": [],
   "source": [
    "doubleUs x y = doubleMe x + doubleMe y"
   ]
  },
  {
   "cell_type": "markdown",
   "metadata": {},
   "source": [
    "즉, 간단한 기능을 수행하는 함수들을 먼저 정의한 후, \n",
    "그 함수들을 결합하여 보다 복잡한 기능을 수행하는 함수를 만드는 전형적인 방식을 보여줌.\n",
    "\n",
    "* 이런 식으로 하면 코드의 반복을 피할 수 있음.\n",
    "* 예를 들어, 인자들의 2배수의 합이 아닌 3배수의 합을 구하고자 할 때\n",
    "    `doubleMe`는 `x + x + x`로 재정의하면 `doubleUs`는 굳이 수정할 필요 없음."
   ]
  },
  {
   "cell_type": "code",
   "execution_count": 47,
   "metadata": {
    "attributes": {
     "classes": [
      "haskell:",
      "hs"
     ],
     "id": "",
     "name": "\"code\""
    }
   },
   "outputs": [],
   "source": [
    "doubleMe x = x*3"
   ]
  },
  {
   "cell_type": "code",
   "execution_count": 48,
   "metadata": {
    "attributes": {
     "classes": [
      "haskell:",
      "hs"
     ],
     "id": "",
     "name": "\"code\""
    }
   },
   "outputs": [],
   "source": [
    "doubleUs x y = doubleMe x + doubleMe y"
   ]
  },
  {
   "cell_type": "code",
   "execution_count": 49,
   "metadata": {},
   "outputs": [
    {
     "data": {
      "text/plain": [
       "15"
      ]
     },
     "metadata": {},
     "output_type": "display_data"
    }
   ],
   "source": [
    "doubleUs 2 3"
   ]
  },
  {
   "cell_type": "markdown",
   "metadata": {},
   "source": [
    "__주의사항__\n",
    "\n",
    "* 확장자가 `hs`인 하스켈 소스코드 파일을 작성한 후 컴파일하여 코드를 실행하는 경우 \n",
    "    함수를 정의하는 순서는 아무 상관 없음.\n",
    "    * 예를 들어, \n",
    "    `doubleUs`를 먼저 정의한 후에 `doubleMe`를 나중에 정의해도 됨.\n",
    "* 하지만 주피터 노트북에서는 경우에 따라 순서가 중요할 수 있음.\n",
    "    예를 들어 아래와 같이 하나의 셀에서 정의되는 경우 순서가 중요하지 않음."
   ]
  },
  {
   "cell_type": "code",
   "execution_count": 52,
   "metadata": {
    "attributes": {
     "classes": [
      "haskell:",
      "hs"
     ],
     "id": "",
     "name": "\"code\""
    }
   },
   "outputs": [
    {
     "data": {
      "text/plain": [
       "15"
      ]
     },
     "metadata": {},
     "output_type": "display_data"
    }
   ],
   "source": [
    "doubleUs' x y = doubleMe' x + doubleMe' y\n",
    "doubleMe' x = x*3\n",
    "doubleUs' 2 3"
   ]
  },
  {
   "cell_type": "markdown",
   "metadata": {},
   "source": [
    "* 반면에 서로 다른 코드셀에서 여러 함수를 작성할 경우 아래와 같이\n",
    "    아지 정의되지 않은 함수를 사용하면 오류 발생"
   ]
  },
  {
   "cell_type": "code",
   "execution_count": 53,
   "metadata": {
    "attributes": {
     "classes": [
      "haskell:",
      "hs"
     ],
     "id": "",
     "name": "\"code\""
    }
   },
   "outputs": [
    {
     "ename": "",
     "evalue": "",
     "output_type": "error",
     "traceback": [
      "<interactive>:1:24: error:\n    • Variable not in scope: undefineDoubleMe :: t -> a\n    • Perhaps you meant ‘undefineDoubleUs’ (line 1)\n<interactive>:1:45: error:\n    • Variable not in scope: undefineDoubleMe :: t1 -> a\n    • Perhaps you meant ‘undefineDoubleUs’ (line 1)"
     ]
    }
   ],
   "source": [
    "undefineDoubleUs x y = undefineDoubleMe x + undefineDoubleMe y"
   ]
  },
  {
   "cell_type": "markdown",
   "metadata": {},
   "source": [
    "### if 표현식"
   ]
  },
  {
   "cell_type": "markdown",
   "metadata": {},
   "source": [
    "이제 100이하의 수만 2배로 만들어주는 함수를 만들어보자."
   ]
  },
  {
   "cell_type": "code",
   "execution_count": null,
   "metadata": {
    "attributes": {
     "classes": [
      "haskell:",
      "hs"
     ],
     "id": "",
     "name": "\"code\""
    }
   },
   "outputs": [],
   "source": [
    "doubleSmallNumber x = if x > 100\n",
    "                        then x\n",
    "                        else x*2"
   ]
  },
  {
   "cell_type": "markdown",
   "metadata": {},
   "source": [
    "이 부분에서 하스칼의 if문을 소개하려할 것.\n",
    "\n",
    "명령형 언어에서의 if문과 하스칼에서의 if문의 차이점을 살펴보면:\n",
    " 1. 하스칼에서는 else가 반드시 있어야함.\n",
    "     * 명령형 언어에서는 조건이 충족되지 않으면 몇 단계를 스킵할 수 있지만 하스칼에서는 모든 코드와 함수가 반드시 무언가를 반환해야함.\n",
    "     * if문을 한 줄로 표현할 수 있지만, 위 코드처럼 여러 줄로 표현하는 것이 읽기 쉬움.\n",
    "\n",
    "\n",
    "\n",
    " 2. 하스칼의 if문은 *식*이라는 점.\n",
    "     * 식은 기본적으로 값을 반환하는 코드 조각임. `5`는 5를 반환하므로 식이고, `4 + 8`도 물론 식임. `x + y`는 `x`와 `y`의 합을 반환하므로 식이라 할 수 있음.\n",
    "     * else문이 필수이기 때문에 if문은 항상 무언가를 반환하게됨. 그렇기 때문에 if문은 식.\n",
    "\n",
    "만약 위의 함수에서 생성된 모든 숫자에 1을 더하고 싶다면, 아래의 코드처럼 함수를 작성하면 됨.\n",
    "* 괄호를 생략했다면, `x`가 100보다 크지 않을 경우에만 1을 더했을 것. \n",
    "\n",
    "* `'`를 함수 이름 끝에 작성함. `'`는 하스칼 구문에서는 특별한 의미를 가지진 않지만 함수 이름에서 사용할 경우에는 약간의 의미를 지님. `'`는 함수의 엄격한 버전(게으르지 않은 버전)이나 약간의 변형된 버전을 나타낼 때 사용."
   ]
  },
  {
   "cell_type": "code",
   "execution_count": null,
   "metadata": {
    "attributes": {
     "classes": [
      "haskell:",
      "hs"
     ],
     "id": "",
     "name": "\"code\""
    }
   },
   "outputs": [],
   "source": [
    "doubleSmallNumber' x = (if x > 100 then x else x*2) + 1"
   ]
  },
  {
   "cell_type": "markdown",
   "metadata": {},
   "source": [
    "함수에서 `'`는 유효한 문자이기 때문에 아래와 같은 함수를 만들 수 있다."
   ]
  },
  {
   "cell_type": "code",
   "execution_count": null,
   "metadata": {
    "attributes": {
     "classes": [
      "haskell:",
      "hs"
     ],
     "id": "",
     "name": "\"code\""
    }
   },
   "outputs": [],
   "source": [
    "conanO'Brien = \"It's a-me, Conan O'Brien!\""
   ]
  },
  {
   "cell_type": "markdown",
   "metadata": {},
   "source": [
    "여기에는 주목할 만한 두 가지가 있음.\n",
    "* 첫 번째는 함수의 이름에서 Conan의 이름을 대문자로 쓰지 않았다는 것. 그 이유는 함수는 대문자로 시작할 수 없기 때문.\n",
    "* 두 번째는 이 함수가 아무 매개변수도 받지 않는다는 것. 함수가 아무 매개변수도 받지 않을 때를 *정의(definition)* 또는 *이름(name)* 이라고 함. 한번 이름(그리고 함수)를 정의하고 나면 바꿀 수 없기 때문에, `conanO'Brien`과 `\"It's a-me, Conan O'Brien!\"`는 서로 교환하여 사용 가능."
   ]
  },
  {
   "cell_type": "markdown",
   "metadata": {},
   "source": [
    "# 3. 리스트, 문자열, 리스트 조건 제시법\n",
    "\n",
    "하스칼에서 리스트는 매우 유용하다. 리스트는 가장 많이 사용되는 데이터 구조이며 수많은 문제를 모델링하고 해결하기 위해 다양한 방법으로 사용될 수 있다.\n",
    "이 섹션에서는 리스트, 문자열, 리스트 조건 제시법의 기본적인 내용에 대해 살펴볼 것이다."
   ]
  },
  {
   "cell_type": "markdown",
   "metadata": {},
   "source": [
    "### 3.1 리스트와 문자열\n",
    "---\n",
    "\n",
    "하스칼에서 리스트는 동종(*homogenous*) 데이터 구조임.\n",
    "* 리스트는 동일한 타입의 원소들을 담음.\n",
    "* 즉, 정수 리스트나 문자 리스트는 가질 수 있지만 정수가 몇 개이고 문자가 몇 개 있는 리스트는 있을 수 없음. \n",
    "\n",
    "> __Note:__ GHCI에서 이름을 바로 정의하려면 `let` 키워드를 사용하면된다. GHCI에서 `let a = 1`를 하는 것은 스크립트에서 `a = 1`를 쓴 다음 로드하는 것과 같음"
   ]
  },
  {
   "cell_type": "code",
   "execution_count": null,
   "metadata": {
    "attributes": {
     "classes": [
      "haskell:",
      "ghci"
     ],
     "id": "",
     "name": "\"code\""
    }
   },
   "outputs": [],
   "source": [
    "let lostNumbers = [4,8,15,16,23,42]"
   ]
  },
  {
   "cell_type": "code",
   "execution_count": null,
   "metadata": {
    "attributes": {
     "classes": [
      "haskell:",
      "ghci"
     ],
     "id": "",
     "name": "\"code\""
    }
   },
   "outputs": [],
   "source": [
    "lostNumbers"
   ]
  },
  {
   "cell_type": "markdown",
   "metadata": {},
   "source": [
    "리스트는 대괄호로 표시하고 리스트의 값은 쉼표로 구분.\n",
    "* 만약 `[1,2,'a',3,'b','c',4]`을 시도한다면, 하스칼은 작은 따옴표 사이에 표기된 문자가 숫자가 아니라고 오류를 발생시킬 것.\n",
    "\n",
    "문자열은 문자들의 리스트라고 볼 수 있음.\n",
    "* `\"hello\"`는 단지 `['h','e','l','l','o']`일 뿐. 문자열이 리스트이기 때문에, 문자열에서 리스트 함수를 사용할 수 있음.\n",
    "\n",
    "가장 일반적인 일은 두 개의 리스트를 합치는 것. 이것은 [`++`](https://hackage.haskell.org/package/base/docs/Prelude.html#v:-43--43-) 연산자를 사용해 수행할 수 있음"
   ]
  },
  {
   "cell_type": "code",
   "execution_count": null,
   "metadata": {
    "attributes": {
     "classes": [
      "haskell:",
      "ghci"
     ],
     "id": "",
     "name": "\"code\""
    }
   },
   "outputs": [],
   "source": [
    "[1,2,3,4] ++ [9,10,11,12]"
   ]
  },
  {
   "cell_type": "code",
   "execution_count": null,
   "metadata": {
    "attributes": {
     "classes": [
      "haskell:",
      "ghci"
     ],
     "id": "",
     "name": "\"code\""
    }
   },
   "outputs": [],
   "source": [
    "\"hello\" ++ \" \" ++ \"world\""
   ]
  },
  {
   "cell_type": "code",
   "execution_count": null,
   "metadata": {
    "attributes": {
     "classes": [
      "haskell:",
      "ghci"
     ],
     "id": "",
     "name": "\"code\""
    }
   },
   "outputs": [],
   "source": [
    "['w','o'] ++ ['o','t']"
   ]
  },
  {
   "cell_type": "markdown",
   "metadata": {},
   "source": [
    "긴 문자열에서 [`++`](https://hackage.haskell.org/package/base/docs/Prelude.html#v:-43--43-) 연산자를 반복적으로 사용할 경우 조심해야함. \n",
    "* 두 개의 리스트를 같이 넣을 때(하나의 원소만 가진 리스트를 추가하더라도, 예를 들어: `[1,2,3] ++ [4]`) 내부적으로 하스칼은 [`++`](https://hackage.haskell.org/package/base/docs/Prelude.html#v:-43--43-)의 왼쪽에 있는 모든 리스트의 원소들에 따라 작동함. \n",
    "* 이 점은 크지 않은 리스트를 처리할 때는 문제가 되지 않지만, 5천만 개의 원소가 있는 리스트의 맨 끝에 무언가를 넣는 것은 시간이 좀 걸림.\n",
    "* 그러나 `:` 연산자(콘 연산자라고도 함)를 사용해 목록의 맨 앞에 무언가를 넣는 것은 순간적이다."
   ]
  },
  {
   "cell_type": "code",
   "execution_count": null,
   "metadata": {
    "attributes": {
     "classes": [
      "haskell:",
      "ghci"
     ],
     "id": "",
     "name": "\"code\""
    }
   },
   "outputs": [],
   "source": [
    "'A':\" SMALL CAT\""
   ]
  },
  {
   "cell_type": "code",
   "execution_count": null,
   "metadata": {
    "attributes": {
     "classes": [
      "haskell:",
      "ghci"
     ],
     "id": "",
     "name": "\"code\""
    }
   },
   "outputs": [],
   "source": [
    "5:[1,2,3,4,5]"
   ]
  },
  {
   "cell_type": "markdown",
   "metadata": {},
   "source": [
    "[`++`](https://hackage.haskell.org/package/base/docs/Prelude.html#v:-43--43-)가 두 개의 리스트만 사용하는 반면, `:`이 어떻게 숫자와 숫자의 리스트, 문자와 문자열 리스트를 사용하는지 살펴보자.\n",
    "[`++`](https://hackage.haskell.org/package/base/docs/Prelude.html#v:-43--43-)를 사용해 리스트의 끝에 요소를 추가하는 경우, 리스트가 되기 위해선 대괄호로 둘러싸야함\n",
    "* `[1,2,3]`은 `1:2:3:[]`를 한 결과임. `[]`는 빈 리스트. `3`을 붙이면 `[3]`이 되고 거기에 `2`를 붙이면 `[2, 3]`이 됨.\n",
    "\n",
    "\n",
    "\n",
    "> __Note:__ `[]`, `[[]]` 그리고 `[[],[],[]]` 는 모두 다른 것. 첫 번째 것은 비어있는 리스트이고, 두 번째 것은 하나의 빈 리스트를 가지고 있는 리스트이고, 세 번째 것은 3개의 빈 리스트를 가지고 있는 리스트임.\n",
    "\n",
    "\n",
    "\n",
    "인덱스로 리스트의 요소를 가져오고 싶을 때 `!!`를 사용. 인덱스는 0부터 시작."
   ]
  },
  {
   "cell_type": "code",
   "execution_count": null,
   "metadata": {
    "attributes": {
     "classes": [
      "haskell:",
      "ghci"
     ],
     "id": "",
     "name": "\"code\""
    }
   },
   "outputs": [],
   "source": [
    "\"Steve Buscemi\" !! 6"
   ]
  },
  {
   "cell_type": "code",
   "execution_count": null,
   "metadata": {
    "attributes": {
     "classes": [
      "haskell:",
      "ghci"
     ],
     "id": "",
     "name": "\"code\""
    }
   },
   "outputs": [],
   "source": [
    "[9.4,33.2,96.2,11.2,23.25] !! 1"
   ]
  },
  {
   "cell_type": "markdown",
   "metadata": {},
   "source": [
    "하지만 네 개의 요소만 있는 목록에서 여섯 번째 요소를 가져오려고 하면 오류가 발생하므로 주의가 필요.\n",
    "\n",
    "리스트 안에 리스트가 포함될 수 있고 리스트를 포함하는 리스트도 포함 가능"
   ]
  },
  {
   "cell_type": "code",
   "execution_count": null,
   "metadata": {
    "attributes": {
     "classes": [
      "haskell:",
      "ghci"
     ],
     "id": "",
     "name": "\"code\""
    }
   },
   "outputs": [],
   "source": [
    "let b = [[1,2,3,4],[5,3,3,3],[1,2,2,3,4],[1,2,3]]"
   ]
  },
  {
   "cell_type": "code",
   "execution_count": null,
   "metadata": {
    "attributes": {
     "classes": [
      "haskell:",
      "ghci"
     ],
     "id": "",
     "name": "\"code\""
    }
   },
   "outputs": [],
   "source": [
    "b"
   ]
  },
  {
   "cell_type": "code",
   "execution_count": null,
   "metadata": {
    "attributes": {
     "classes": [
      "haskell:",
      "ghci"
     ],
     "id": "",
     "name": "\"code\""
    }
   },
   "outputs": [],
   "source": [
    "b ++ [[1,1,1,1]]"
   ]
  },
  {
   "cell_type": "code",
   "execution_count": null,
   "metadata": {
    "attributes": {
     "classes": [
      "haskell:",
      "ghci"
     ],
     "id": "",
     "name": "\"code\""
    }
   },
   "outputs": [],
   "source": [
    "[6,6,6]:b"
   ]
  },
  {
   "cell_type": "code",
   "execution_count": null,
   "metadata": {
    "attributes": {
     "classes": [
      "haskell:",
      "ghci"
     ],
     "id": "",
     "name": "\"code\""
    }
   },
   "outputs": [],
   "source": [
    "b !! 2"
   ]
  },
  {
   "cell_type": "markdown",
   "metadata": {},
   "source": [
    "* 리스트 안의 리스트는 길이가 다를 수는 있지만 타입이 다를 수는 없음. \n",
    "    * 일부 문자와 숫자가 있는 리스트가 있을 수 없는 것처럼, 문자 리스트와 숫자 리스트가 함께 리스트에 포함될 수는 수는 없음.\n",
    "\n",
    "\n",
    "\n",
    "* 리스트에 포함된 원소를 비교할 수 있는 경우 리스트도 비교 가능.\n",
    "    * 리스트를 비교하기 위해 [`<`](https://hackage.haskell.org/package/base/docs/Prelude.html#v:-60-), [`<=`](https://hackage.haskell.org/package/base/docs/Prelude.html#v:-60--61-), [`>`](https://hackage.haskell.org/package/base/docs/Prelude.html#v:-62-) 그리고 [`>=`](https://hackage.haskell.org/package/base/docs/Prelude.html#v:-62--61-)를 사용하면, 리스트는 사전순으로 비교됨.\n",
    "    * 먼저 첫 번째 원소를 비교하고 같을 경우 두 번째 원소를 비교한다."
   ]
  },
  {
   "cell_type": "code",
   "execution_count": null,
   "metadata": {
    "attributes": {
     "classes": [
      "haskell:",
      "ghci"
     ],
     "id": "",
     "name": "\"code\""
    }
   },
   "outputs": [],
   "source": [
    "[3,2,1] > [2,1,0]"
   ]
  },
  {
   "cell_type": "code",
   "execution_count": null,
   "metadata": {
    "attributes": {
     "classes": [
      "haskell:",
      "ghci"
     ],
     "id": "",
     "name": "\"code\""
    }
   },
   "outputs": [],
   "source": [
    "[3,2,1] > [2,10,100]"
   ]
  },
  {
   "cell_type": "code",
   "execution_count": null,
   "metadata": {
    "attributes": {
     "classes": [
      "haskell:",
      "ghci"
     ],
     "id": "",
     "name": "\"code\""
    }
   },
   "outputs": [],
   "source": [
    "[3,4,2] > [3,4]"
   ]
  },
  {
   "cell_type": "code",
   "execution_count": null,
   "metadata": {
    "attributes": {
     "classes": [
      "haskell:",
      "ghci"
     ],
     "id": "",
     "name": "\"code\""
    }
   },
   "outputs": [],
   "source": [
    "[3,4,2] > [2,4]"
   ]
  },
  {
   "cell_type": "code",
   "execution_count": null,
   "metadata": {
    "attributes": {
     "classes": [
      "haskell:",
      "ghci"
     ],
     "id": "",
     "name": "\"code\""
    }
   },
   "outputs": [],
   "source": [
    "[3,4,2] == [3,4,2]"
   ]
  },
  {
   "cell_type": "markdown",
   "metadata": {},
   "source": [
    "### 3.2 리스트의 기본 기능\n",
    "---\n",
    "다음은 리스트에서 작동하는 몇 가지 기본 기능이다.\n",
    "\n",
    "__[`head`](https://hackage.haskell.org/package/base/docs/Prelude.html#v:head)__: 리스트를 받아 대표 원소를 반환. 대표원소는 일반적으로 가장 첫 번째 요소."
   ]
  },
  {
   "cell_type": "code",
   "execution_count": null,
   "metadata": {
    "attributes": {
     "classes": [
      "haskell:",
      "ghci"
     ],
     "id": "",
     "name": "\"code\""
    }
   },
   "outputs": [],
   "source": [
    "head [5,4,3,2,1]"
   ]
  },
  {
   "cell_type": "markdown",
   "metadata": {},
   "source": [
    "__[`tail`](https://hackage.haskell.org/package/base/docs/Prelude.html#v:tail)__: 리스트를 받아 대표 원소를 제외한 나머지 원소들을 반환."
   ]
  },
  {
   "cell_type": "code",
   "execution_count": null,
   "metadata": {
    "attributes": {
     "classes": [
      "haskell:",
      "ghci"
     ],
     "id": "",
     "name": "\"code\""
    }
   },
   "outputs": [],
   "source": [
    "tail [5,4,3,2,1]"
   ]
  },
  {
   "cell_type": "markdown",
   "metadata": {},
   "source": [
    "__[`last`](https://hackage.haskell.org/package/base/docs/Prelude.html#v:last)__: 리스트를 받아 가장 마지막 원소를 반환."
   ]
  },
  {
   "cell_type": "code",
   "execution_count": null,
   "metadata": {
    "attributes": {
     "classes": [
      "haskell:",
      "ghci"
     ],
     "id": "",
     "name": "\"code\""
    }
   },
   "outputs": [],
   "source": [
    "last [5,4,3,2,1]"
   ]
  },
  {
   "cell_type": "markdown",
   "metadata": {},
   "source": [
    "__[`init`](https://hackage.haskell.org/package/base/docs/Prelude.html#v:init)__: 리스트를 받아 가장 마지막 원소를 제외한 나머지 요소들을 반환."
   ]
  },
  {
   "cell_type": "code",
   "execution_count": null,
   "metadata": {
    "attributes": {
     "classes": [
      "haskell:",
      "ghci"
     ],
     "id": "",
     "name": "\"code\""
    }
   },
   "outputs": [],
   "source": [
    "init [5,4,3,2,1]"
   ]
  },
  {
   "cell_type": "markdown",
   "metadata": {},
   "source": [
    "그림으로 표현해보면\n",
    "\n",
    "<img src=\"img/listmonster.png\" title=\"list monster\" style=\"\" />\n",
    "\n",
    "빈 리스트에서 대표 원소를 출력한다면 어떻게 될까?"
   ]
  },
  {
   "cell_type": "code",
   "execution_count": null,
   "metadata": {
    "attributes": {
     "classes": [
      "haskell:",
      "ghci"
     ],
     "id": "",
     "name": "\"code\""
    }
   },
   "outputs": [],
   "source": [
    "head []"
   ]
  },
  {
   "cell_type": "markdown",
   "metadata": {},
   "source": [
    "* 리스트가 비어있다면 대표 원소도 없음. \n",
    "* [`head`](https://hackage.haskell.org/package/base/docs/Prelude.html#v:head), [`tail`](https://hackage.haskell.org/package/base/docs/Prelude.html#v:tail), [`last`](https://hackage.haskell.org/package/base/docs/Prelude.html#v:last) 그리고 [`init`](https://hackage.haskell.org/package/base/docs/Prelude.html#v:init)을 사용할 때, 빈 리스트에 사용하지 않도록 주의해야함.\n",
    "* 이 오류는 컴파일 시에 발견될 수 없으므로 빈 리스트에 몇 가지 원소를 넣어주어 실수에 대비해 예방 조치를 취하는 것이 좋음.\n",
    "\n",
    "__[`length`](https://hackage.haskell.org/package/base/docs/Prelude.html#v:length)__: 리스트를 받아 리스트의 길이를 반환"
   ]
  },
  {
   "cell_type": "code",
   "execution_count": null,
   "metadata": {
    "attributes": {
     "classes": [
      "haskell:",
      "ghci"
     ],
     "id": "",
     "name": "\"code\""
    }
   },
   "outputs": [],
   "source": [
    "length [5,4,3,2,1]"
   ]
  },
  {
   "cell_type": "markdown",
   "metadata": {},
   "source": [
    "__[`null`](https://hackage.haskell.org/package/base/docs/Prelude.html#v:null)__: 리스트가 비어있는지 체크. 비어있으면 [`True`](https://hackage.haskell.org/package/base/docs/Prelude.html#v:True)를 반환하고, 그렇지 않으면 [`False`](https://hackage.haskell.org/package/base/docs/Prelude.html#v:False)를 반환\n",
    "* 리스트 이름을 `xs`라 할 때, `xs == []` 대신 이 함수를 사용할 수 있음."
   ]
  },
  {
   "cell_type": "code",
   "execution_count": null,
   "metadata": {
    "attributes": {
     "classes": [
      "haskell:",
      "ghci"
     ],
     "id": "",
     "name": "\"code\""
    }
   },
   "outputs": [],
   "source": [
    "null [1,2,3]"
   ]
  },
  {
   "cell_type": "code",
   "execution_count": null,
   "metadata": {
    "attributes": {
     "classes": [
      "haskell:",
      "ghci"
     ],
     "id": "",
     "name": "\"code\""
    }
   },
   "outputs": [],
   "source": [
    "null []"
   ]
  },
  {
   "cell_type": "markdown",
   "metadata": {},
   "source": [
    "__[`reverse`](https://hackage.haskell.org/package/base/docs/Prelude.html#v:reverse)__: 뒤집어진 리스트를 반환."
   ]
  },
  {
   "cell_type": "code",
   "execution_count": null,
   "metadata": {
    "attributes": {
     "classes": [
      "haskell:",
      "ghci"
     ],
     "id": "",
     "name": "\"code\""
    }
   },
   "outputs": [],
   "source": [
    "reverse [5,4,3,2,1]"
   ]
  },
  {
   "cell_type": "markdown",
   "metadata": {},
   "source": [
    "__[`take`](https://hackage.haskell.org/package/base/docs/Prelude.html#v:take)__: 숫자와 리스트를 받아와 리스트의 시작 부분에서 숫자만큼의 요소를 추출해 반환. 리스트에 있는 것보다 더 많은 원소를 가져오려고 하면 리스트가 어떤 결과를 반환하는지 확인해보자. 리스트 길이보다 더 많은 원소를 가져오라고 하면 리스트 전체를 반환하고 숫자로 0을 받을 경우 빈 리스트를 반환함"
   ]
  },
  {
   "cell_type": "code",
   "execution_count": null,
   "metadata": {
    "attributes": {
     "classes": [
      "haskell:",
      "ghci"
     ],
     "id": "",
     "name": "\"code\""
    }
   },
   "outputs": [],
   "source": [
    "take 3 [5,4,3,2,1]"
   ]
  },
  {
   "cell_type": "code",
   "execution_count": null,
   "metadata": {
    "attributes": {
     "classes": [
      "haskell:",
      "ghci"
     ],
     "id": "",
     "name": "\"code\""
    }
   },
   "outputs": [],
   "source": [
    "take 1 [3,9,3]"
   ]
  },
  {
   "cell_type": "code",
   "execution_count": null,
   "metadata": {
    "attributes": {
     "classes": [
      "haskell:",
      "ghci"
     ],
     "id": "",
     "name": "\"code\""
    }
   },
   "outputs": [],
   "source": [
    "take 5 [1,2]"
   ]
  },
  {
   "cell_type": "code",
   "execution_count": null,
   "metadata": {
    "attributes": {
     "classes": [
      "haskell:",
      "ghci"
     ],
     "id": "",
     "name": "\"code\""
    }
   },
   "outputs": [],
   "source": [
    "take 0 [6,6,6]"
   ]
  },
  {
   "cell_type": "markdown",
   "metadata": {},
   "source": [
    "__[`drop`](https://hackage.haskell.org/package/base/docs/Prelude.html#v:drop)__: `take`와 비슷한 방식으로 작동하며, 리스트의 시작 부분에서 받은 숫자만큼 요소를 삭제."
   ]
  },
  {
   "cell_type": "code",
   "execution_count": null,
   "metadata": {
    "attributes": {
     "classes": [
      "haskell:",
      "ghci"
     ],
     "id": "",
     "name": "\"code\""
    }
   },
   "outputs": [],
   "source": [
    "drop 3 [8,4,2,1,5,6]"
   ]
  },
  {
   "cell_type": "code",
   "execution_count": null,
   "metadata": {
    "attributes": {
     "classes": [
      "haskell:",
      "ghci"
     ],
     "id": "",
     "name": "\"code\""
    }
   },
   "outputs": [],
   "source": [
    "drop 0 [1,2,3,4]"
   ]
  },
  {
   "cell_type": "code",
   "execution_count": null,
   "metadata": {
    "attributes": {
     "classes": [
      "haskell:",
      "ghci"
     ],
     "id": "",
     "name": "\"code\""
    }
   },
   "outputs": [],
   "source": [
    "drop 100 [1,2,3,4]"
   ]
  },
  {
   "cell_type": "markdown",
   "metadata": {},
   "source": [
    "__[`maximum`](https://hackage.haskell.org/package/base/docs/Prelude.html#v:maximum)__: 순서대로 놓일 수 있는 원소들을 가진 리스트를 받아 원소들 중 가장 큰 원소를 반환.\n",
    "\n",
    "__[`minimum`](https://hackage.haskell.org/package/base/docs/Prelude.html#v:minimum)__: 가장 작은 원소를 반환."
   ]
  },
  {
   "cell_type": "code",
   "execution_count": null,
   "metadata": {
    "attributes": {
     "classes": [
      "haskell:",
      "ghci"
     ],
     "id": "",
     "name": "\"code\""
    }
   },
   "outputs": [],
   "source": [
    "minimum [8,4,2,1,5,6]"
   ]
  },
  {
   "cell_type": "code",
   "execution_count": null,
   "metadata": {
    "attributes": {
     "classes": [
      "haskell:",
      "ghci"
     ],
     "id": "",
     "name": "\"code\""
    }
   },
   "outputs": [],
   "source": [
    "maximum [1,9,2,3,4]"
   ]
  },
  {
   "cell_type": "markdown",
   "metadata": {},
   "source": [
    "__[`sum`](https://hackage.haskell.org/package/base/docs/Prelude.html#v:sum)__: 숫자로 구성된 리스트를 받아 숫자 원소들의 합을 반환.\n",
    "\n",
    "__[`product`](https://hackage.haskell.org/package/base/docs/Prelude.html#v:product)__: 숫자로 구성된 리스트를 받아 숫자 원소들의 곱을 반환."
   ]
  },
  {
   "cell_type": "code",
   "execution_count": null,
   "metadata": {
    "attributes": {
     "classes": [
      "haskell:",
      "ghci"
     ],
     "id": "",
     "name": "\"code\""
    }
   },
   "outputs": [],
   "source": [
    "sum [5,2,1,6,3,2,5,7]"
   ]
  },
  {
   "cell_type": "code",
   "execution_count": null,
   "metadata": {
    "attributes": {
     "classes": [
      "haskell:",
      "ghci"
     ],
     "id": "",
     "name": "\"code\""
    }
   },
   "outputs": [],
   "source": [
    "product [6,2,1,2]"
   ]
  },
  {
   "cell_type": "code",
   "execution_count": null,
   "metadata": {
    "attributes": {
     "classes": [
      "haskell:",
      "ghci"
     ],
     "id": "",
     "name": "\"code\""
    }
   },
   "outputs": [],
   "source": [
    "product [1,2,5,6,7,9,2,0]"
   ]
  },
  {
   "cell_type": "markdown",
   "metadata": {},
   "source": [
    "__[`elem`](https://hackage.haskell.org/package/base/docs/Prelude.html#v:elem)__: 어떤 것과 리스트를 받아와 어떤 것이 리스트에 있는지 확인해줌. `elem`은 중위함수로 표현하는 것이 읽기 더 편하기 때문에 중위함수로 불림."
   ]
  },
  {
   "cell_type": "code",
   "execution_count": null,
   "metadata": {
    "attributes": {
     "classes": [
      "haskell:",
      "ghci"
     ],
     "id": "",
     "name": "\"code\""
    }
   },
   "outputs": [],
   "source": [
    "4 `elem` [3,4,5,6]"
   ]
  },
  {
   "cell_type": "code",
   "execution_count": null,
   "metadata": {
    "attributes": {
     "classes": [
      "haskell:",
      "ghci"
     ],
     "id": "",
     "name": "\"code\""
    }
   },
   "outputs": [],
   "source": [
    "10 `elem` [3,4,5,6]"
   ]
  },
  {
   "cell_type": "markdown",
   "metadata": {},
   "source": [
    "리스트에서 동작하는 몇 가지 기본적인 기능들을 살펴보았음. 자세한 리스트 기능은 [나중에](http://learnyouahaskell.com/modules#data-list) 살펴볼 것."
   ]
  },
  {
   "cell_type": "markdown",
   "metadata": {},
   "source": [
    "### 3.3 Ranges\n",
    "------------\n",
    "\n",
    "Ranges는 열거할 수 있는 원소들의 산술 시퀀스인 리스트를 만드는 방법임.\n",
    "* 숫자는 열거할 수 있음. (1, 2, 3, 4 ...)\n",
    "* 문자 또한 열거할 수 있음. (알파벳은 A부터 Z까지의 문자를 열거한 것.) \n",
    "* 하지만, 이름은 열거할 수 없음.\n",
    "\n",
    "1부터 20까지의 자연수를 모두 포함하는 목록을 만들려면 `[1..20]`로 쓰면 됨. \n",
    "* 이것은 `[1,2,3,4,5,6,7,8,9,10,11,12,13,14,15,16,17,18,19,20]`라고 쓴 것과 같음."
   ]
  },
  {
   "cell_type": "code",
   "execution_count": null,
   "metadata": {
    "attributes": {
     "classes": [
      "haskell:",
      "ghci"
     ],
     "id": "",
     "name": "\"code\""
    }
   },
   "outputs": [],
   "source": [
    "[1..20]"
   ]
  },
  {
   "cell_type": "code",
   "execution_count": null,
   "metadata": {
    "attributes": {
     "classes": [
      "haskell:",
      "ghci"
     ],
     "id": "",
     "name": "\"code\""
    }
   },
   "outputs": [],
   "source": [
    "['a'..'z']"
   ]
  },
  {
   "cell_type": "code",
   "execution_count": null,
   "metadata": {
    "attributes": {
     "classes": [
      "haskell:",
      "ghci"
     ],
     "id": "",
     "name": "\"code\""
    }
   },
   "outputs": [],
   "source": [
    "['K'..'Z']"
   ]
  },
  {
   "cell_type": "markdown",
   "metadata": {},
   "source": [
    "Ranges는 단계(steps)도 정할 수 있음.\n",
    "1~20 사이의 짝수를 원한다면 아래 코드처럼 작성하면 됨."
   ]
  },
  {
   "cell_type": "code",
   "execution_count": null,
   "metadata": {
    "attributes": {
     "classes": [
      "haskell:",
      "ghci"
     ],
     "id": "",
     "name": "\"code\""
    }
   },
   "outputs": [],
   "source": [
    "[2,4..20]"
   ]
  },
  {
   "cell_type": "code",
   "execution_count": null,
   "metadata": {
    "attributes": {
     "classes": [
      "haskell:",
      "ghci"
     ],
     "id": "",
     "name": "\"code\""
    }
   },
   "outputs": [],
   "source": [
    "[3,6..20]"
   ]
  },
  {
   "cell_type": "markdown",
   "metadata": {},
   "source": [
    "처음 두 요소를 쉼표로 구분한 후 상한 값을 지정하는 것이 중요.\n",
    "\n",
    "하지만 steps를 2로 정한다면, `[1,2,4,8,16..100]`와 같은 결과는 나올 수 없다.\n",
    "* 첫 번째 이유는 steps은 단 한 개만 지정할 수 있기 때문.\n",
    "* 두 번째는, 첫 번째 항부터 steps을 사용하지 않는다면 산수가 아닌 몇몇의 시퀀스는 모호해지기 때문.\n",
    "\n",
    "20부터 1까지의 숫자를 가진 리스트를 생성하려면 `[20..1]`이 아닌 `[20,19..1]`로 작성해야함.\n",
    "\n",
    "ranges에서 부동 소수점을 사용하고자 한다면 주의가 필요.\n",
    "* 부동 소수점은 정의상 완벽하게 정밀한 숫자가 아니기 때문에, ranges에서 부동 소수점을 사용하면 이상한 결과가 나올 수 있음."
   ]
  },
  {
   "cell_type": "code",
   "execution_count": null,
   "metadata": {
    "attributes": {
     "classes": [
      "haskell:",
      "ghci"
     ],
     "id": "",
     "name": "\"code\""
    }
   },
   "outputs": [],
   "source": [
    "[0.1, 0.3 .. 1]"
   ]
  },
  {
   "cell_type": "markdown",
   "metadata": {},
   "source": [
    "* 리스트 ranges에서 부동 소수점을 사용하지 않는 것을 권고한다.\n",
    "\n",
    "상한 값을 지정하지 않고 ranges를 사용하면 무한대 리스트(infinite list)를 만들 수 있음. 이후에 무한대 리스트에 대해 자세히 살펴볼 것. \n",
    "\n",
    "\n",
    "지금은 구구단의 13단에서 13x1 부터 13x24까지의 값을 리스트로 어떻게 얻을 수 있는지 살펴볼 것. \n",
    "* `[13,26..24*13]`로 표현할 수 있지만, `take 24 [13,26..]`로 표현하는 것이 더 좋은 방법.\n",
    "* 하스칼은 게으른 언어여서 절대 끝나지 않는 무한대 리스트를 바로 계산하려하지 않을 것. 기다리면 무한대 리스트에서 원하는 항목을 확인할 수 있을 것임.\n",
    "* 보이는 것처럼 처음 24개의 원소만을 원한다면 24개의 원소만 보여줄 것.\n",
    "\n",
    "\n",
    "\n",
    "\n",
    "무한대 리스트를 만들어주는 유용한 기능:\n",
    "\n",
    "* __[`cycle`](https://hackage.haskell.org/package/base/docs/Prelude.html#v:cycle)__: \n",
    "리스트를 받아와 무한대 리스트로 순환해줌. 영원히 계속되기 때문에 모든 결과를 표시할 수 없으므로 어디선가는 잘라야 함."
   ]
  },
  {
   "cell_type": "code",
   "execution_count": null,
   "metadata": {
    "attributes": {
     "classes": [
      "haskell:",
      "ghci"
     ],
     "id": "",
     "name": "\"code\""
    }
   },
   "outputs": [],
   "source": [
    "take 10 (cycle [1,2,3])"
   ]
  },
  {
   "cell_type": "code",
   "execution_count": null,
   "metadata": {
    "attributes": {
     "classes": [
      "haskell:",
      "ghci"
     ],
     "id": "",
     "name": "\"code\""
    }
   },
   "outputs": [],
   "source": [
    "take 12 (cycle \"LOL \")"
   ]
  },
  {
   "cell_type": "markdown",
   "metadata": {},
   "source": [
    "* __[`repeat`](https://hackage.haskell.org/package/base/docs/Prelude.html#v:repeat)__: 하나의 원소를 받아 이 원소만으로 구성된 무한대 리스트를 만들어줌. 오직 하나의 원소만을 가지고 있는 리스트를 사이클링한 결과와 같음."
   ]
  },
  {
   "cell_type": "code",
   "execution_count": null,
   "metadata": {
    "attributes": {
     "classes": [
      "haskell:",
      "ghci"
     ],
     "id": "",
     "name": "\"code\""
    }
   },
   "outputs": [],
   "source": [
    "take 10 (repeat 5)"
   ]
  },
  {
   "cell_type": "markdown",
   "metadata": {},
   "source": [
    "* 리스트에서 동일한 원소를 몇 개 포함하려하는 경우, [`replicate`](https://hackage.haskell.org/package/base/docs/Prelude.html#v:replicate)를 사용하는 것이 더 간단.\n",
    "    * `replicate 3 10`은 `[10,10,10]`을 반환한다.\n"
   ]
  },
  {
   "cell_type": "markdown",
   "metadata": {},
   "source": [
    "### 3.4 리스트 조건제시법\n",
    "------------------------\n",
    "수학의 집합 부분에서 조건 제시법을 사용해본적이 있을 것임. 조건 제시법은 더 구체적인 집합을 만드는데 사용됨.\n",
    "* 기본적으로 1부터 시작해서 10개의 짝수 자연수를 포함하는 집합을 생성하는 조건 제시법은 $ S=\\{2 \\centerdot x | x \\in \\mathbb{N}, x \\le 10 \\}$로 표현. \n",
    "    * | 앞 부분은 출력 함수\n",
    "    * `x`는 변수, `N`은 입력 집합\n",
    "    * `x <= 10`은 조건\n",
    "    * 이 식은 조건을 만족시키면서 자연수의 2배를 포함하는 집합을 의미.\n",
    "\n",
    "이 식을 하스칼로 표현한다면, `take 10 [2,4..]`로 표현할 수 있을 것. 하지만, 만약 처음 10개의 자연수들의 두 배를 원하지 않고, 그 수에 좀 더 복잡한 함수를 적용하려 한다면 어떨까?\n",
    "\n",
    "이 경우을 위해 리스트 조건 제시법을 사용.\n",
    "* 리스트 조건 제시법은 집합의 조건 제시법과 매우 유사.\n",
    "* 우선 짝수 10개를 포함하는 경우를 표현해보자. 리스트 조건 제시법을 사용해 `[x*2 | x <- [1..10]]`로 표현 가능.\n",
    "* `x`에는 1부터 시작해 10까지의 숫자가 들어옴.\n",
    "* `x`에 바운드 된 모든 원소는 `[1..10]`에 속한 숫자이고, 이 숫자들의 두 배의 값을 얻을 수 있음."
   ]
  },
  {
   "cell_type": "code",
   "execution_count": null,
   "metadata": {
    "attributes": {
     "classes": [
      "haskell:",
      "ghci"
     ],
     "id": "",
     "name": "\"code\""
    }
   },
   "outputs": [],
   "source": [
    "[x*2 | x <- [1..10]]"
   ]
  },
  {
   "cell_type": "markdown",
   "metadata": {},
   "source": [
    "이제 조건(혹은 predicate)을 추가해보자.\n",
    "* 조건은 바인딩 부분의 뒷 부분에 나오며 쉼표로 구분됨. \n",
    "* 두 배가 된 원소들 중에서 12 이상인 원소만을 출력하고 싶다고 가정."
   ]
  },
  {
   "cell_type": "code",
   "execution_count": null,
   "metadata": {
    "attributes": {
     "classes": [
      "haskell:",
      "ghci"
     ],
     "id": "",
     "name": "\"code\""
    }
   },
   "outputs": [],
   "source": [
    "[x*2 | x <- [1..10], x*2 >= 12]"
   ]
  },
  {
   "cell_type": "markdown",
   "metadata": {},
   "source": [
    "50부터 100까지의 숫자 중에서 숫자 7로 나누었을 때 나머지가 3인 숫자를 얻고자한다면 어떻게 표현할까?"
   ]
  },
  {
   "cell_type": "code",
   "execution_count": null,
   "metadata": {
    "attributes": {
     "classes": [
      "haskell:",
      "ghci"
     ],
     "id": "",
     "name": "\"code\""
    }
   },
   "outputs": [],
   "source": [
    "[ x | x <- [50..100], x `mod` 7 == 3]"
   ]
  },
  {
   "cell_type": "markdown",
   "metadata": {},
   "source": [
    "조건을 사용해 리스트를 걸러내는 작업을 *필터링(filtering)* 이라고 함.\n",
    "숫자로 구성된 리스트를 가져와 조건별로 리스트를 필터링해보았음. \n",
    "\n",
    "이제 10보다 큰 홀수는 `\"BANG!\"`으로, 10보다 작은 홀수는 `\"BOOM!\"`으로 변경해주는 리스트 조건 제시법을 작성해보자. \n",
    "* 만약 홀수가 아니라면, 리스트에서 그 숫자를 제거\n",
    "* 편의상 다시 재사용할 수 있도록 이 리스트 컴프리헨션을 함수 안에 넣을 것."
   ]
  },
  {
   "cell_type": "code",
   "execution_count": null,
   "metadata": {
    "attributes": {
     "classes": [
      "haskell:",
      "ghci"
     ],
     "id": "",
     "name": "\"code\""
    }
   },
   "outputs": [],
   "source": [
    "boomBangs xs = [ if x < 10 then \"BOOM!\" else \"BANG!\" | x <- xs, odd x]"
   ]
  },
  {
   "cell_type": "markdown",
   "metadata": {},
   "source": [
    "리스트 조건 제시법의 가장 마지막 부분이 조건임.\n",
    "* 함수 [`odd`](https://hackage.haskell.org/package/base/docs/Prelude.html#v:odd)는 홀수일 경우 [`True`](https://hackage.haskell.org/package/base/docs/Prelude.html#v:True)를 반환하고, 짝수일 경우 [`False`](https://hackage.haskell.org/package/base/docs/Prelude.html#v:False)를 반환.\n",
    "* 모든 조건에서 [`True`](https://hackage.haskell.org/package/base/docs/Prelude.html#v:True)일 경우 리스트의 원소로 포함된다.\n",
    "\n"
   ]
  },
  {
   "cell_type": "code",
   "execution_count": null,
   "metadata": {
    "attributes": {
     "classes": [
      "haskell:",
      "hs"
     ],
     "id": "",
     "name": "\"code\""
    }
   },
   "outputs": [],
   "source": [
    "boomBangs [7..13]"
   ]
  },
  {
   "cell_type": "markdown",
   "metadata": {},
   "source": [
    "여러 개의 조건을 포함하는 것도 가능. 10~20까지의 모든 숫자 중에서 13, 15, 19를 제외한 숫자를 반환하길 원한다면, 아래처럼 작성."
   ]
  },
  {
   "cell_type": "code",
   "execution_count": null,
   "metadata": {
    "attributes": {
     "classes": [
      "haskell:",
      "ghci"
     ],
     "id": "",
     "name": "\"code\""
    }
   },
   "outputs": [],
   "source": [
    "[ x | x <- [10..20], x /= 13, x /= 15, x /= 19]"
   ]
  },
  {
   "cell_type": "markdown",
   "metadata": {},
   "source": [
    "리스트 조건 제시법에서 여러 조건을 사용할 수 있듯이(원소가 결과 리스트에 포함되기 위해서는 모든 조건을 만족해야한다.), 여러 리스트 또한 사용할 수 있음.\n",
    "* 리스트를 여러개 사용하고자 할 경우, 리스트 조건 제시법은 주어진 리스트의 모든 조합을 생성한 다음 우리가 제시한 출력 함수에 결합.\n",
    "* 각각의 길이가 4인 두 개의 리스트가 사용되고 필터링을 하지 않은 리스트 조건 제시법에서 반환되는 리스트의 길이는 16일 것.\n",
    "\n",
    "\n",
    "`[2,5,10]`과 `[8,10,11]`를 사용하고 이 두 리스트에서 나올 수 있는 모든 조합의 곱을 알고 싶다면 리스트 조건 제시법을 아래 코드처럼 작성할 수 있음."
   ]
  },
  {
   "cell_type": "code",
   "execution_count": null,
   "metadata": {
    "attributes": {
     "classes": [
      "haskell:",
      "ghci"
     ],
     "id": "",
     "name": "\"code\""
    }
   },
   "outputs": [],
   "source": [
    "[ x*y | x <- [2,5,10], y <- [8,10,11]]"
   ]
  },
  {
   "cell_type": "markdown",
   "metadata": {},
   "source": [
    "예상했듯이, 새로운 리스트의 길이는 9. 만약 곱셈의 결과가 50 이상인 경우만 알고싶다면 아래 코드처럼 작성하면 됨."
   ]
  },
  {
   "cell_type": "code",
   "execution_count": null,
   "metadata": {
    "attributes": {
     "classes": [
      "haskell:",
      "ghci"
     ],
     "id": "",
     "name": "\"code\""
    }
   },
   "outputs": [],
   "source": [
    "[ x*y | x <- [2,5,10], y <- [8,10,11], x*y > 50]"
   ]
  },
  {
   "cell_type": "markdown",
   "metadata": {},
   "source": [
    "형용사를 포함한 리스트와 명사를 포함한 리스트를 결합하기 위한 리스트 컴프리헨션은 어떻게 작성할까?"
   ]
  },
  {
   "cell_type": "code",
   "execution_count": null,
   "metadata": {
    "attributes": {
     "classes": [
      "haskell:",
      "ghci"
     ],
     "id": "",
     "name": "\"code\""
    }
   },
   "outputs": [],
   "source": [
    "let nouns = [\"hobo\",\"frog\",\"pope\"]\n",
    "let adjectives = [\"lazy\",\"grouchy\",\"scheming\"]\n",
    "[adjective ++ \" \" ++ noun | adjective <- adjectives, noun <- nouns]"
   ]
  },
  {
   "cell_type": "markdown",
   "metadata": {},
   "source": [
    "우리만의 [`length`](https://hackage.haskell.org/package/base/docs/Prelude.html#v:length)를 만들어서 사용하면됨. 이것을 `length'`라고 부름."
   ]
  },
  {
   "cell_type": "code",
   "execution_count": null,
   "metadata": {
    "attributes": {
     "classes": [
      "haskell:",
      "hs"
     ],
     "id": "",
     "name": "\"code\""
    }
   },
   "outputs": [],
   "source": [
    "length' xs = sum [1 | _ <- xs]"
   ]
  },
  {
   "cell_type": "markdown",
   "metadata": {},
   "source": [
    "* `_`는 리스트에 무엇이 들어와도 상관없을 때, 아무 변수 이름을 사용하는 대신에 `_`를 사용.\n",
    "* 위 함수는 리스트의 모든 원소를 1로 대체한 후 모두 합쳐줌. \n",
    "* 즉, 원소를 모두 합친 결과는 이 리스트의 길이를 의미.\n",
    "\n",
    "문자열도 리스트이기 때문에, 문자열을 처리하고 생성하는데 리스트 조건 제시법을 사용할 수 있음. 아래 함수는 문자열을 받아와 대문자를 제외한 모든 원소를 제외해줌."
   ]
  },
  {
   "cell_type": "code",
   "execution_count": null,
   "metadata": {
    "attributes": {
     "classes": [
      "haskell:",
      "hs"
     ],
     "id": "",
     "name": "\"code\""
    }
   },
   "outputs": [],
   "source": [
    "removeNonUppercase st = [ c | c <- st, c `elem` ['A'..'Z']]"
   ]
  },
  {
   "cell_type": "markdown",
   "metadata": {},
   "source": [
    "함수 테스트"
   ]
  },
  {
   "cell_type": "code",
   "execution_count": null,
   "metadata": {
    "attributes": {
     "classes": [
      "haskell:",
      "ghci"
     ],
     "id": "",
     "name": "\"code\""
    }
   },
   "outputs": [],
   "source": [
    "removeNonUppercase \"Hahaha! Ahahaha!\""
   ]
  },
  {
   "cell_type": "code",
   "execution_count": null,
   "metadata": {
    "attributes": {
     "classes": [
      "haskell:",
      "ghci"
     ],
     "id": "",
     "name": "\"code\""
    }
   },
   "outputs": [],
   "source": [
    "removeNonUppercase \"IdontLIKEFROGS\""
   ]
  },
  {
   "cell_type": "markdown",
   "metadata": {},
   "source": [
    "이 함수에서는 문자가 `['A'..'Z']`의 리스트에 포함이 되면 새로운 리스트에 포함시켜줌.\n",
    "\n",
    "리스트를 포함하는 리스트에서 연산을 수행하는 경우, 중첩 리스트 조건 제시법이 가능함.\n",
    "아래 리스트는 숫자를 원소로 가진 몇 가지 리스트를 포함하고 있음.\n",
    "리스트를 합치지 않고, 모든 홀수를 제거해보자."
   ]
  },
  {
   "cell_type": "code",
   "execution_count": null,
   "metadata": {
    "attributes": {
     "classes": [
      "haskell:",
      "ghci"
     ],
     "id": "",
     "name": "\"code\""
    }
   },
   "outputs": [],
   "source": [
    "let xxs = [[1,3,5,2,3,1,2,4,5],[1,2,3,4,5,6,7,8,9],[1,2,4,2,1,6,3,1,3,2,3,6]]\n",
    "[ [ x | x <- xs, even x ] | xs <- xxs]"
   ]
  },
  {
   "cell_type": "markdown",
   "metadata": {},
   "source": [
    "리스트 조건 제시법을 여러 줄에 거쳐 작성할 수 있음. 특히 중첩된 경우와 같이 리스트 조건 제시법이 길어질 경우에는 여러 줄로 나누어서 작성하는 것이 좋음."
   ]
  },
  {
   "cell_type": "markdown",
   "metadata": {},
   "source": [
    "# 4. 튜플(Tuples)\n",
    "------\n",
    "어떻게 보면, 튜플은 리스트와 비슷 - 하나의 변수에 여러 가지 변수를 저장할 수 있는 방법. 하지만, 몇 가지 근본적인 차이가 있음.\n",
    "1. 숫자의 리스트는 숫자의 리스트이다. 리스트는 하나의 숫자만 포함하든, 무한한 수의 숫자가 포함되든 상관없지만, 튜플은 결합하고자하는 변수가 몇 개인지 정확히 알고있을 때 사용\n",
    "2. 튜플의 타입은 얼마나 많은 원소를 가지는지, 무슨 타입의 원소를 가지는지에 따라 달라짐. \n",
    "3. 튜플은 소괄호를 사용해 표현하고, 튜플의 요소는 콤마로 구분.\n",
    "4. 모든 원소가 같은 타입을 가질 필요는 없음. 리스트와 달리, 튜플은 여러 타입의 조합을 포함할 수 있음.\n",
    "\n",
    "하스칼에서 2차원 벡터를 어떻게 표현할지 생각해보자. \n",
    "* 한 가지 방법은 리스트를 사용하는 것.\n",
    "    * 만약 우리가 2차원 평면에 있는 형상의 점들을 나타내기 위해 리스트에 벡터 두 개 넣기를 원한다면 어떨까? `[[1,2],[8,11],[4,5]]`처럼 표현할 수 있을 것.\n",
    "* 이 방법의 문제점은 `[[1,2],[8,11,5],[4,5]]`도 사용 가능하다는 것임. \n",
    "    * 하스칼에서는 리스트가 숫자들로만 구성되어 있기 때문에 문제가 되지 않지만, 사이즈가 2인 튜플(쌍(pair)라고도 함)은 그것 자체가 타입임.\n",
    "    * 즉, 리스트는 사이즈가 2인 튜플을 받은 후에 사이즈가 3인 튜플을 받을 수 없음. 그러므로 위와 같은 문제가 발생하지 않도록 리스트 대신에 튜플을 사용.\n",
    "    \n",
    "벡터를 대괄호로 묶는 대신 소괄호를 사용: `[(1,2),(8,11),(4,5)]`. `[(1,2),(8,11,5),(4,5)]`와 같이 만들면 어떻게 될까? 오류가 발생한다."
   ]
  },
  {
   "cell_type": "code",
   "execution_count": null,
   "metadata": {
    "attributes": {
     "classes": [
      "haskell:",
      "ghci"
     ],
     "id": "",
     "name": "\"code\""
    }
   },
   "outputs": [],
   "source": [
    "[(1,2),(8,11,5),(4,5)]"
   ]
  },
  {
   "cell_type": "markdown",
   "metadata": {},
   "source": [
    "위 코드의 오류에서는 한 쌍과 세 개의 원소를 가진 튜플을 동시에 사용하고 있다고 알려줌.\n",
    "* `[(1,2),(\"One\",2)]`와 같은 리스트도 만들 수 없음.\n",
    "* 이유: 리스트의 첫 번째 원소는 숫자로 구성된 쌍이지만, 두 번째 원소는 문자열과 숫자로 구성된 쌍이기 때문. \n",
    "\n",
    "튜플은 다양한 데이터를 나타내는 데도 사용 가능함. \n",
    "* 예를 들어, 하스칼로 누군가의 이름과 나이를 표현하고자 한다면 튜플을 사용해 표현할 수 있음 :`(\"Christopher\", \"Walken\", 55)`.\n",
    "* 예제에서 볼 수 있듯이 튜플은 리스트도 포함할 수 있음.\n",
    "\n",
    "튜플의 특징:\n",
    "1. 데이터에 포함되어야하는 원소의 수를 미리 알고 있는 경우 튜플을 사용. \n",
    "2. 튜플은 다른 크기의 튜플이 각각의 타입이기 때문에 조금 더 견고함. 따라서 튜플에 원소를 추가하는 함수는 사용할 수 없음.\n",
    "    * 한 쌍을 추가하는 함수를 작성하거나 세 개의 원소를 가진 튜플을 추가하는 함수를 작성하거나 4개의 원소를 가진 튜플을 추가하는 함수를 작성할 수 없음.\n",
    "3. 하나의 원소만 있는 리스트는 있지만, 하나의 원소를 가진 튜플은 없다. \n",
    "4. 리스트처럼 튜플은 튜플이 비교 가능한 원소를 포함하고 있다면, 튜플 간의 원소비교가 가능함. \n",
    "    * 서로 크기가 다른 두 리스트는 비교 가능하지만, 크기가 다른 두 튜플은 비교할 수 없음.\n",
    "    \n",
    "튜플의 쌍에서 유용하게 사용하는 함수:\n",
    "\n",
    "* __[`fst`](https://hackage.haskell.org/package/base/docs/Prelude.html#v:fst)__ : 쌍을 받아와 쌍의 첫 번째 원소를 반환."
   ]
  },
  {
   "cell_type": "code",
   "execution_count": null,
   "metadata": {
    "attributes": {
     "classes": [
      "haskell:",
      "ghci"
     ],
     "id": "",
     "name": "\"code\""
    }
   },
   "outputs": [],
   "source": [
    "fst (8,11)"
   ]
  },
  {
   "cell_type": "code",
   "execution_count": null,
   "metadata": {
    "attributes": {
     "classes": [
      "haskell:",
      "ghci"
     ],
     "id": "",
     "name": "\"code\""
    }
   },
   "outputs": [],
   "source": [
    "fst (\"Wow\", False)"
   ]
  },
  {
   "cell_type": "markdown",
   "metadata": {},
   "source": [
    "* __[`snd`](https://hackage.haskell.org/package/base/docs/Prelude.html#v:snd)__: 쌍을 받아와 쌍의 두 번째 원소를 반환."
   ]
  },
  {
   "cell_type": "code",
   "execution_count": null,
   "metadata": {
    "attributes": {
     "classes": [
      "haskell:",
      "ghci"
     ],
     "id": "",
     "name": "\"code\""
    }
   },
   "outputs": [],
   "source": [
    "snd (8,11)"
   ]
  },
  {
   "cell_type": "code",
   "execution_count": null,
   "metadata": {
    "attributes": {
     "classes": [
      "haskell:",
      "ghci"
     ],
     "id": "",
     "name": "\"code\""
    }
   },
   "outputs": [],
   "source": [
    "snd (\"Wow\", False)"
   ]
  },
  {
   "cell_type": "markdown",
   "metadata": {},
   "source": [
    "> __Note:__ 이 함수는 오직 쌍에서만 작동. 3개 이상의 원소를 가진 튜플에서는 작동하지 않음. 나중에 튜플에서 데이터 추출하는 방법에 대해 알아볼 것.\n",
    "\n",
    "\n",
    "* __[`zip`](https://hackage.haskell.org/package/base/docs/Prelude.html#v:zip)__: 쌍의 리스트를 만들어주는 함수. \n",
    "    * 두 개의 리스트를 받아와 각 리스트들의 첫 번째 원소들부터 순서대로 쌍으로 결합해 하나의 리스트로 압축해줌. \n",
    "    * 이 기능은 두 리스트를 어떤 방식으로 결합하거나 두 리스트를 동시에 옮길 때 특히 유용. 아래 셀에 예시가 있음."
   ]
  },
  {
   "cell_type": "code",
   "execution_count": null,
   "metadata": {
    "attributes": {
     "classes": [
      "haskell:",
      "ghci"
     ],
     "id": "",
     "name": "\"code\""
    }
   },
   "outputs": [],
   "source": [
    "zip [1,2,3,4,5] [5,5,5,5,5]"
   ]
  },
  {
   "cell_type": "code",
   "execution_count": null,
   "metadata": {
    "attributes": {
     "classes": [
      "haskell:",
      "ghci"
     ],
     "id": "",
     "name": "\"code\""
    }
   },
   "outputs": [],
   "source": [
    "zip [1 .. 5] [\"one\", \"two\", \"three\", \"four\", \"five\"]"
   ]
  },
  {
   "cell_type": "markdown",
   "metadata": {},
   "source": [
    "`zip` 함수는 원소들을 쌍으로 만들고 새로운 리스트를 생성함.\n",
    "* 가장 첫 번째 요소는 첫 번째 요소끼리, 두 번째 요소는 두 번째 요소끼리 결합.\n",
    "* 만들어진 쌍들의 요소들끼리 서로 다른 타입일 수 있기 때문에, [`zip`](https://hackage.haskell.org/package/base/docs/Prelude.html#v:zip)은 서로 다른 타입을 포함한 두 개의 리스트를 가져와 이들을 압축할 수 있음.\n",
    "\n",
    "리스트들의 길이가 똑같지 않다면 어떻게 될까?"
   ]
  },
  {
   "cell_type": "code",
   "execution_count": null,
   "metadata": {
    "attributes": {
     "classes": [
      "haskell:",
      "ghci"
     ],
     "id": "",
     "name": "\"code\""
    }
   },
   "outputs": [],
   "source": [
    "zip [5,3,2,6,2,7,2,5,4,6,6] [\"im\",\"a\",\"turtle\"]"
   ]
  },
  {
   "cell_type": "markdown",
   "metadata": {},
   "source": [
    "* 긴 리스트는 짧은 리스트의 길이에 맞춰 잘림. 하스칼은 게으르기 때문에, 무한대 리스트와 유한대 리스트를 압축할 수 있음."
   ]
  },
  {
   "cell_type": "code",
   "execution_count": null,
   "metadata": {
    "attributes": {
     "classes": [
      "haskell:",
      "ghci"
     ],
     "id": "",
     "name": "\"code\""
    }
   },
   "outputs": [],
   "source": [
    "zip [1..] [\"apple\", \"orange\", \"cherry\", \"mango\"]"
   ]
  },
  {
   "cell_type": "markdown",
   "metadata": {},
   "source": [
    "<img src=\"img/pythag.png\" title=\"look at meee\" style=\"margin-left:auto;margin-right:auto;\" />\n",
    "\n",
    "튜플과 리스트 조건 제시법을 결합하면 문제가 생김.\n",
    "\n",
    "\n",
    "모든 변이 정수 길이이고 길이가 10이하인 직각 삼각형 중에서 둘레가 24인 직각 삼각형이 있을까? 먼저 변의 길이가 10보다 작거나 같은 모든 삼각형을 생성해보자."
   ]
  },
  {
   "cell_type": "code",
   "execution_count": null,
   "metadata": {
    "attributes": {
     "classes": [
      "haskell:",
      "ghci"
     ],
     "id": "",
     "name": "\"code\""
    }
   },
   "outputs": [],
   "source": [
    "let triangles = [ (a,b,c) | c <- [1..10], b <- [1..10], a <- [1..10] ]"
   ]
  },
  {
   "cell_type": "markdown",
   "metadata": {},
   "source": [
    "위 코드는 세 개의 리스트를 활용하고 출력 함수에서는 세 개의 리스트를 튜플로 결합.\n",
    "* GHC에서 `triangles`를 입력해 출력하면, 변이 10이하인 모든 삼각형의 리스트를 얻을 수 있음.\n",
    "\n",
    "그 다음으로, 직각 삼각형이어야 한다는 조건을 추가할 것.\n",
    "* 변 b의 길이가 빗변의 길이보다 크지 않고 변 a가 b보다 크지 않다는 것(피타고라스 정리)을 고려해 위 함수를 수정할 수 있음."
   ]
  },
  {
   "cell_type": "code",
   "execution_count": null,
   "metadata": {
    "attributes": {
     "classes": [
      "haskell:",
      "ghci"
     ],
     "id": "",
     "name": "\"code\""
    }
   },
   "outputs": [],
   "source": [
    "let rightTriangles = [ (a,b,c) | c <- [1..10], b <- [1..c], a <- [1..b], a^2 + b^2 == c^2]"
   ]
  },
  {
   "cell_type": "markdown",
   "metadata": {},
   "source": [
    "마지막으로 직각 삼각형의 둘레가 24인 직각 삼각형만 반환하도록 함수를 수정."
   ]
  },
  {
   "cell_type": "code",
   "execution_count": null,
   "metadata": {
    "attributes": {
     "classes": [
      "haskell:",
      "ghci"
     ],
     "id": "",
     "name": "\"code\""
    }
   },
   "outputs": [],
   "source": [
    "let rightTriangles' = [ (a,b,c) | c <- [1..10], b <- [1..c], a <- [1..b], a^2 + b^2 == c^2, a+b+c == 24]\n",
    "rightTriangles'"
   ]
  },
  {
   "cell_type": "markdown",
   "metadata": {},
   "source": [
    "위에서 실행한 패턴이 일반적으로 함수 프로그래밍에서 사용하는 패턴.\n",
    "* 시작 조건을 선택해 해결한 후 해결한 솔루션을 다른 조건에 맞도록 변형시키는 과정을 원하는 결과를 얻을 때까지 반복"
   ]
  }
 ],
 "metadata": {
  "kernelspec": {
   "display_name": "Haskell",
   "language": "haskell",
   "name": "haskell"
  },
  "language_info": {
   "codemirror_mode": "Haskell",
   "file_extension": ".hs",
   "mimetype": "text/x-haskell",
   "name": "haskell",
   "pygments_lexer": "Haskell",
   "version": "8.8.4"
  }
 },
 "nbformat": 4,
 "nbformat_minor": 4
}
