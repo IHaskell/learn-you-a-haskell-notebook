{
 "cells": [
  {
   "cell_type": "markdown",
   "metadata": {},
   "source": [
    "Making Our Own Types and Typeclasses\n",
    "====================================\n",
    "\n",
    "In the previous chapters, we covered some existing Haskell types and\n",
    "typeclasses. In this chapter, we'll learn how to make our own and how to\n",
    "put them to work!"
   ]
  },
  {
   "cell_type": "markdown",
   "metadata": {},
   "source": [
    "> __Jupyter Note:__ We'll turn off the [automatic linting for IHaskell](https://github.com/IHaskell/IHaskell/wiki#opt-no-lint) first."
   ]
  },
  {
   "cell_type": "code",
   "execution_count": 1,
   "metadata": {},
   "outputs": [],
   "source": [
    ":opt no-lint"
   ]
  },
  {
   "cell_type": "markdown",
   "metadata": {},
   "source": [
    "Algebraic data types intro\n",
    "--------------------------\n",
    "\n",
    "So far, we've run into a lot of data types. [`Bool`](https://hackage.haskell.org/package/base/docs/Prelude.html#t:Bool), [`Int`](https://hackage.haskell.org/package/base/docs/Prelude.html#t:Int), [`Char`](https://hackage.haskell.org/package/base/docs/Prelude.html#t:Char), [`Maybe`](https://hackage.haskell.org/package/base/docs/Prelude.html#t:Maybe), etc.\n",
    "But how do we make our own? Well, one way is to use the *data* keyword\n",
    "to define a type. Let's see how the [`Bool`](https://hackage.haskell.org/package/base/docs/Prelude.html#t:Bool) type is defined in the standard\n",
    "library."
   ]
  },
  {
   "cell_type": "markdown",
   "metadata": {
    "attributes": {
     "classes": [
      "haskell:hs"
     ],
     "id": "",
     "name": "\"code\""
    }
   },
   "source": [
    "<pre><code>data Bool = False | True</code></pre>"
   ]
  },
  {
   "cell_type": "markdown",
   "metadata": {},
   "source": [
    "`\n",
    "data` means that we're defining a new data type. The part before the `=`\n",
    "denotes the type, which is [`Bool`](https://hackage.haskell.org/package/base/docs/Prelude.html#t:Bool). The parts after the `=` are *value\n",
    "constructors*. They specify the different values that this type can\n",
    "have. The `|` is read as *or*. So we can read this as: the [`Bool`](https://hackage.haskell.org/package/base/docs/Prelude.html#t:Bool) type can\n",
    "have a value of [`True`](https://hackage.haskell.org/package/base/docs/Prelude.html#v:True) or [`False`](https://hackage.haskell.org/package/base/docs/Prelude.html#v:False). Both the type name and the value\n",
    "constructors have to be capital cased.\n",
    "\n",
    "In a similar fashion, we can think of the [`Int`](https://hackage.haskell.org/package/base/docs/Prelude.html#t:Int) type as being defined like\n",
    "this:"
   ]
  },
  {
   "cell_type": "markdown",
   "metadata": {
    "attributes": {
     "classes": [
      "haskell:hs"
     ],
     "id": "",
     "name": "\"code\""
    }
   },
   "source": [
    "<pre><code>data Int = -2147483648 | -2147483647 | ... | -1 | 0 | 1 | 2 | ... | 2147483647</code></pre>"
   ]
  },
  {
   "cell_type": "markdown",
   "metadata": {},
   "source": [
    "<img src=\"img/caveman.png\" title=\"caveman\" style=\"background-color:white;float:left;margin-right:2em;\" />\n",
    "\n",
    "The first and last value constructors are the minimum and maximum\n",
    "possible values of [`Int`](https://hackage.haskell.org/package/base/docs/Prelude.html#t:Int). It's not actually defined like this, the\n",
    "ellipses are here because we omitted a heapload of numbers, so this is\n",
    "just for illustrative purposes.\n",
    "\n",
    "Now, let's think about how we would represent a shape in Haskell. One\n",
    "way would be to use tuples. A circle could be denoted as\n",
    "`(43.1, 55.0, 10.4)`\n",
    "where the first and second fields are the coordinates of the\n",
    "circle's center and the third field is the radius. Sounds OK, but those\n",
    "could also represent a 3D vector or anything else. A better solution\n",
    "would be to make our own type to represent a shape. Let's say that a\n",
    "shape can be a circle or a rectangle. Here it is:"
   ]
  },
  {
   "cell_type": "code",
   "execution_count": 2,
   "metadata": {
    "attributes": {
     "classes": [
      "haskell:hs"
     ],
     "id": "",
     "name": "\"code\""
    }
   },
   "outputs": [],
   "source": [
    "data Shape = Circle Float Float Float | Rectangle Float Float Float Float"
   ]
  },
  {
   "cell_type": "markdown",
   "metadata": {},
   "source": [
    "Now what's this? Think of it like this. The `Circle` value constructor has\n",
    "three fields, which take floats. So when we write a value constructor,\n",
    "we can optionally add some types after it and those types define the\n",
    "values it will contain. Here, the first two fields are the coordinates\n",
    "of its center, the third one its radius. The `Rectangle` value constructor\n",
    "has four fields which accept floats. The first two are the coordinates\n",
    "to its upper left corner and the second two are coordinates to its lower\n",
    "right one.\n",
    "\n",
    "Now when I say fields, I actually mean parameters. Value constructors\n",
    "are actually functions that ultimately return a value of a data type.\n",
    "Let's take a look at the type signatures for these two value\n",
    "constructors."
   ]
  },
  {
   "cell_type": "code",
   "execution_count": 3,
   "metadata": {
    "attributes": {
     "classes": [
      "haskell:hs"
     ],
     "id": "",
     "name": "\"code\""
    }
   },
   "outputs": [
    {
     "data": {
      "text/html": [
       "<style>/* Styles used for the Hoogle display in the pager */\n",
       ".hoogle-doc {\n",
       "display: block;\n",
       "padding-bottom: 1.3em;\n",
       "padding-left: 0.4em;\n",
       "}\n",
       ".hoogle-code {\n",
       "display: block;\n",
       "font-family: monospace;\n",
       "white-space: pre;\n",
       "}\n",
       ".hoogle-text {\n",
       "display: block;\n",
       "}\n",
       ".hoogle-name {\n",
       "color: green;\n",
       "font-weight: bold;\n",
       "}\n",
       ".hoogle-head {\n",
       "font-weight: bold;\n",
       "}\n",
       ".hoogle-sub {\n",
       "display: block;\n",
       "margin-left: 0.4em;\n",
       "}\n",
       ".hoogle-package {\n",
       "font-weight: bold;\n",
       "font-style: italic;\n",
       "}\n",
       ".hoogle-module {\n",
       "font-weight: bold;\n",
       "}\n",
       ".hoogle-class {\n",
       "font-weight: bold;\n",
       "}\n",
       ".get-type {\n",
       "color: green;\n",
       "font-weight: bold;\n",
       "font-family: monospace;\n",
       "display: block;\n",
       "white-space: pre-wrap;\n",
       "}\n",
       ".show-type {\n",
       "color: green;\n",
       "font-weight: bold;\n",
       "font-family: monospace;\n",
       "margin-left: 1em;\n",
       "}\n",
       ".mono {\n",
       "font-family: monospace;\n",
       "display: block;\n",
       "}\n",
       ".err-msg {\n",
       "color: red;\n",
       "font-style: italic;\n",
       "font-family: monospace;\n",
       "white-space: pre;\n",
       "display: block;\n",
       "}\n",
       "#unshowable {\n",
       "color: red;\n",
       "font-weight: bold;\n",
       "}\n",
       ".err-msg.in.collapse {\n",
       "padding-top: 0.7em;\n",
       "}\n",
       ".highlight-code {\n",
       "white-space: pre;\n",
       "font-family: monospace;\n",
       "}\n",
       ".suggestion-warning { \n",
       "font-weight: bold;\n",
       "color: rgb(200, 130, 0);\n",
       "}\n",
       ".suggestion-error { \n",
       "font-weight: bold;\n",
       "color: red;\n",
       "}\n",
       ".suggestion-name {\n",
       "font-weight: bold;\n",
       "}\n",
       "</style><span class='get-type'>Circle :: Float -> Float -> Float -> Shape</span>"
      ],
      "text/plain": [
       "Circle :: Float -> Float -> Float -> Shape"
      ]
     },
     "metadata": {},
     "output_type": "display_data"
    }
   ],
   "source": [
    ":t Circle"
   ]
  },
  {
   "cell_type": "code",
   "execution_count": 4,
   "metadata": {
    "attributes": {
     "classes": [
      "haskell:hs"
     ],
     "id": "",
     "name": "\"code\""
    }
   },
   "outputs": [
    {
     "data": {
      "text/html": [
       "<style>/* Styles used for the Hoogle display in the pager */\n",
       ".hoogle-doc {\n",
       "display: block;\n",
       "padding-bottom: 1.3em;\n",
       "padding-left: 0.4em;\n",
       "}\n",
       ".hoogle-code {\n",
       "display: block;\n",
       "font-family: monospace;\n",
       "white-space: pre;\n",
       "}\n",
       ".hoogle-text {\n",
       "display: block;\n",
       "}\n",
       ".hoogle-name {\n",
       "color: green;\n",
       "font-weight: bold;\n",
       "}\n",
       ".hoogle-head {\n",
       "font-weight: bold;\n",
       "}\n",
       ".hoogle-sub {\n",
       "display: block;\n",
       "margin-left: 0.4em;\n",
       "}\n",
       ".hoogle-package {\n",
       "font-weight: bold;\n",
       "font-style: italic;\n",
       "}\n",
       ".hoogle-module {\n",
       "font-weight: bold;\n",
       "}\n",
       ".hoogle-class {\n",
       "font-weight: bold;\n",
       "}\n",
       ".get-type {\n",
       "color: green;\n",
       "font-weight: bold;\n",
       "font-family: monospace;\n",
       "display: block;\n",
       "white-space: pre-wrap;\n",
       "}\n",
       ".show-type {\n",
       "color: green;\n",
       "font-weight: bold;\n",
       "font-family: monospace;\n",
       "margin-left: 1em;\n",
       "}\n",
       ".mono {\n",
       "font-family: monospace;\n",
       "display: block;\n",
       "}\n",
       ".err-msg {\n",
       "color: red;\n",
       "font-style: italic;\n",
       "font-family: monospace;\n",
       "white-space: pre;\n",
       "display: block;\n",
       "}\n",
       "#unshowable {\n",
       "color: red;\n",
       "font-weight: bold;\n",
       "}\n",
       ".err-msg.in.collapse {\n",
       "padding-top: 0.7em;\n",
       "}\n",
       ".highlight-code {\n",
       "white-space: pre;\n",
       "font-family: monospace;\n",
       "}\n",
       ".suggestion-warning { \n",
       "font-weight: bold;\n",
       "color: rgb(200, 130, 0);\n",
       "}\n",
       ".suggestion-error { \n",
       "font-weight: bold;\n",
       "color: red;\n",
       "}\n",
       ".suggestion-name {\n",
       "font-weight: bold;\n",
       "}\n",
       "</style><span class='get-type'>Rectangle :: Float -> Float -> Float -> Float -> Shape</span>"
      ],
      "text/plain": [
       "Rectangle :: Float -> Float -> Float -> Float -> Shape"
      ]
     },
     "metadata": {},
     "output_type": "display_data"
    }
   ],
   "source": [
    ":t Rectangle"
   ]
  },
  {
   "cell_type": "markdown",
   "metadata": {},
   "source": [
    "Cool, so value constructors are functions like everything else. Who\n",
    "would have thought? Let's make a function that takes a shape and returns\n",
    "its surface."
   ]
  },
  {
   "cell_type": "code",
   "execution_count": 5,
   "metadata": {
    "attributes": {
     "classes": [
      "haskell:hs"
     ],
     "id": "",
     "name": "\"code\""
    }
   },
   "outputs": [],
   "source": [
    "surface :: Shape -> Float\n",
    "surface (Circle _ _ r) = pi * r ^ 2\n",
    "surface (Rectangle x1 y1 x2 y2) = (abs $ x2 - x1) * (abs $ y2 - y1)"
   ]
  },
  {
   "cell_type": "markdown",
   "metadata": {},
   "source": [
    "The first notable thing here is the type declaration. It says that the\n",
    "function takes a shape and returns a float. We couldn't write a type\n",
    "declaration of `Circle -> Float` because `Circle` is not a type, `Shape` is.\n",
    "Just like we can't write a function with a type declaration of\n",
    "`True -> Int`.\n",
    "The next thing we notice here is that we can pattern match against\n",
    "constructors. We pattern matched against constructors before (all the\n",
    "time actually) when we pattern matched against values like `[]` or [`False`](https://hackage.haskell.org/package/base/docs/Prelude.html#v:False)\n",
    "or `5`, only those values didn't have any fields. We just write a\n",
    "constructor and then bind its fields to names. Because we're interested\n",
    "in the radius, we don't actually care about the first two fields, which\n",
    "tell us where the circle is."
   ]
  },
  {
   "cell_type": "code",
   "execution_count": 6,
   "metadata": {
    "attributes": {
     "classes": [
      "haskell:hs"
     ],
     "id": "",
     "name": "\"code\""
    }
   },
   "outputs": [
    {
     "data": {
      "text/plain": [
       "314.15927"
      ]
     },
     "metadata": {},
     "output_type": "display_data"
    }
   ],
   "source": [
    "surface $ Circle 10 20 10"
   ]
  },
  {
   "cell_type": "code",
   "execution_count": 7,
   "metadata": {
    "attributes": {
     "classes": [
      "haskell:hs"
     ],
     "id": "",
     "name": "\"code\""
    }
   },
   "outputs": [
    {
     "data": {
      "text/plain": [
       "10000.0"
      ]
     },
     "metadata": {},
     "output_type": "display_data"
    }
   ],
   "source": [
    "surface $ Rectangle 0 0 100 100"
   ]
  },
  {
   "cell_type": "markdown",
   "metadata": {},
   "source": [
    "Yay, it works! But if we try to just print out `Circle 10 20 5` in the\n",
    "prompt, we'll get an error. That's because Haskell doesn't know how to\n",
    "display our data type as a string (yet). Remember, when we try to print\n",
    "a value out in the prompt, Haskell first runs the [`show`](https://hackage.haskell.org/package/base/docs/Prelude.html#v:show) function to get\n",
    "the string representation of our value and then it prints that out to\n",
    "the terminal. To make our `Shape` type part of the [`Show`](https://hackage.haskell.org/package/base/docs/Prelude.html#t:Show) typeclass, we\n",
    "modify it like this:"
   ]
  },
  {
   "cell_type": "code",
   "execution_count": 8,
   "metadata": {
    "attributes": {
     "classes": [
      "haskell:hs"
     ],
     "id": "",
     "name": "\"code\""
    }
   },
   "outputs": [],
   "source": [
    "data Shape = Circle Float Float Float | Rectangle Float Float Float Float deriving (Show)"
   ]
  },
  {
   "cell_type": "markdown",
   "metadata": {},
   "source": [
    "We won't concern ourselves with deriving too much for now. Let's just\n",
    "say that if we add `deriving (Show)` at the end of a *data* declaration,\n",
    "Haskell automagically makes that type part of the [`Show`](https://hackage.haskell.org/package/base/docs/Prelude.html#t:Show) typeclass. So\n",
    "now, we can do this:"
   ]
  },
  {
   "cell_type": "code",
   "execution_count": 9,
   "metadata": {
    "attributes": {
     "classes": [
      "haskell:hs"
     ],
     "id": "",
     "name": "\"code\""
    }
   },
   "outputs": [
    {
     "data": {
      "text/plain": [
       "Circle 10.0 20.0 5.0"
      ]
     },
     "metadata": {},
     "output_type": "display_data"
    }
   ],
   "source": [
    "Circle 10 20 5"
   ]
  },
  {
   "cell_type": "code",
   "execution_count": 10,
   "metadata": {
    "attributes": {
     "classes": [
      "haskell:hs"
     ],
     "id": "",
     "name": "\"code\""
    }
   },
   "outputs": [
    {
     "data": {
      "text/plain": [
       "Rectangle 50.0 230.0 60.0 90.0"
      ]
     },
     "metadata": {},
     "output_type": "display_data"
    }
   ],
   "source": [
    "Rectangle 50 230 60 90"
   ]
  },
  {
   "cell_type": "markdown",
   "metadata": {},
   "source": [
    "Value constructors are functions, so we can map them and partially apply\n",
    "them and everything. If we want a list of concentric circles with\n",
    "different radii, we can do this."
   ]
  },
  {
   "cell_type": "code",
   "execution_count": 11,
   "metadata": {
    "attributes": {
     "classes": [
      "haskell:hs"
     ],
     "id": "",
     "name": "\"code\""
    }
   },
   "outputs": [
    {
     "data": {
      "text/plain": [
       "[Circle 10.0 20.0 4.0,Circle 10.0 20.0 5.0,Circle 10.0 20.0 6.0,Circle 10.0 20.0 6.0]"
      ]
     },
     "metadata": {},
     "output_type": "display_data"
    }
   ],
   "source": [
    "map (Circle 10 20) [4,5,6,6]"
   ]
  },
  {
   "cell_type": "markdown",
   "metadata": {},
   "source": [
    "Our data type is good, although it could be better. Let's make an\n",
    "intermediate data type that defines a point in two-dimensional space.\n",
    "Then we can use that to make our shapes more understandable."
   ]
  },
  {
   "cell_type": "code",
   "execution_count": 12,
   "metadata": {
    "attributes": {
     "classes": [
      "haskell:hs"
     ],
     "id": "",
     "name": "\"code\""
    }
   },
   "outputs": [],
   "source": [
    "data Point = Point Float Float deriving (Show)\n",
    "data Shape = Circle Point Float | Rectangle Point Point deriving (Show)"
   ]
  },
  {
   "cell_type": "markdown",
   "metadata": {},
   "source": [
    "Notice that when defining a point, we used the same name for the data\n",
    "type and the value constructor. This has no special meaning, although\n",
    "it's common to use the same name as the type if there's only one value\n",
    "constructor. So now the `Circle` has two fields, one is of type `Point` and\n",
    "the other of type [`Float`](https://hackage.haskell.org/package/base/docs/Prelude.html#t:Float). This makes it easier to understand what's what.\n",
    "Same goes for the rectangle. We have to adjust our `surface` function to\n",
    "reflect these changes."
   ]
  },
  {
   "cell_type": "code",
   "execution_count": 13,
   "metadata": {
    "attributes": {
     "classes": [
      "haskell:hs"
     ],
     "id": "",
     "name": "\"code\""
    }
   },
   "outputs": [],
   "source": [
    "surface :: Shape -> Float\n",
    "surface (Circle _ r) = pi * r ^ 2\n",
    "surface (Rectangle (Point x1 y1) (Point x2 y2)) = (abs $ x2 - x1) * (abs $ y2 - y1)"
   ]
  },
  {
   "cell_type": "markdown",
   "metadata": {},
   "source": [
    "The only thing we had to change were the patterns. We disregarded the\n",
    "whole point in the circle pattern. In the rectangle pattern, we just\n",
    "used a nested pattern matching to get the fields of the points. If we\n",
    "wanted to reference the points themselves for some reason, we could have\n",
    "used as-patterns."
   ]
  },
  {
   "cell_type": "code",
   "execution_count": 14,
   "metadata": {
    "attributes": {
     "classes": [
      "haskell:hs"
     ],
     "id": "",
     "name": "\"code\""
    }
   },
   "outputs": [
    {
     "data": {
      "text/plain": [
       "10000.0"
      ]
     },
     "metadata": {},
     "output_type": "display_data"
    }
   ],
   "source": [
    "surface (Rectangle (Point 0 0) (Point 100 100))"
   ]
  },
  {
   "cell_type": "code",
   "execution_count": 15,
   "metadata": {
    "attributes": {
     "classes": [
      "haskell:hs"
     ],
     "id": "",
     "name": "\"code\""
    }
   },
   "outputs": [
    {
     "data": {
      "text/plain": [
       "1809.5574"
      ]
     },
     "metadata": {},
     "output_type": "display_data"
    }
   ],
   "source": [
    "surface (Circle (Point 0 0) 24)"
   ]
  },
  {
   "cell_type": "markdown",
   "metadata": {},
   "source": [
    "How about a function that nudges a shape? It takes a shape, the amount\n",
    "to move it on the x axis and the amount to move it on the y axis and\n",
    "then returns a new shape that has the same dimensions, only it's located\n",
    "somewhere else."
   ]
  },
  {
   "cell_type": "code",
   "execution_count": 16,
   "metadata": {
    "attributes": {
     "classes": [
      "haskell:hs"
     ],
     "id": "",
     "name": "\"code\""
    }
   },
   "outputs": [],
   "source": [
    "nudge :: Shape -> Float -> Float -> Shape\n",
    "nudge (Circle (Point x y) r) a b = Circle (Point (x+a) (y+b)) r\n",
    "nudge (Rectangle (Point x1 y1) (Point x2 y2)) a b = Rectangle (Point (x1+a) (y1+b)) (Point (x2+a) (y2+b))"
   ]
  },
  {
   "cell_type": "markdown",
   "metadata": {},
   "source": [
    "Pretty straightforward. We add the nudge amounts to the points that\n",
    "denote the position of the shape."
   ]
  },
  {
   "cell_type": "code",
   "execution_count": 17,
   "metadata": {
    "attributes": {
     "classes": [
      "haskell:hs"
     ],
     "id": "",
     "name": "\"code\""
    }
   },
   "outputs": [
    {
     "data": {
      "text/plain": [
       "Circle (Point 39.0 44.0) 10.0"
      ]
     },
     "metadata": {},
     "output_type": "display_data"
    }
   ],
   "source": [
    "nudge (Circle (Point 34 34) 10) 5 10"
   ]
  },
  {
   "cell_type": "markdown",
   "metadata": {},
   "source": [
    "If we don't want to deal directly with points, we can make some\n",
    "auxilliary functions that create shapes of some size at the zero\n",
    "coordinates and then nudge those."
   ]
  },
  {
   "cell_type": "code",
   "execution_count": 18,
   "metadata": {
    "attributes": {
     "classes": [
      "haskell:hs"
     ],
     "id": "",
     "name": "\"code\""
    }
   },
   "outputs": [],
   "source": [
    "baseCircle :: Float -> Shape\n",
    "baseCircle r = Circle (Point 0 0) r\n",
    "\n",
    "baseRect :: Float -> Float -> Shape\n",
    "baseRect width height = Rectangle (Point 0 0) (Point width height)"
   ]
  },
  {
   "cell_type": "code",
   "execution_count": 19,
   "metadata": {
    "attributes": {
     "classes": [
      "haskell:hs"
     ],
     "id": "",
     "name": "\"code\""
    }
   },
   "outputs": [
    {
     "data": {
      "text/plain": [
       "Rectangle (Point 60.0 23.0) (Point 100.0 123.0)"
      ]
     },
     "metadata": {},
     "output_type": "display_data"
    }
   ],
   "source": [
    "nudge (baseRect 40 100) 60 23"
   ]
  },
  {
   "cell_type": "markdown",
   "metadata": {},
   "source": [
    "You can, of course, export your data types in your modules. To do that,\n",
    "just write your type along with the functions you are exporting and then\n",
    "add some parentheses and in them specify the value constructors that you\n",
    "want to export for it, separated by commas. If you want to export all\n",
    "the value constructors for a given type, just write `..`.\n",
    "\n",
    "If we wanted to export the functions and types that we defined here in a\n",
    "module, we could start it off like this:"
   ]
  },
  {
   "cell_type": "markdown",
   "metadata": {
    "attributes": {
     "classes": [
      "haskell:hs"
     ],
     "id": "",
     "name": "\"code\""
    }
   },
   "source": [
    "<pre><code>module Shapes\n",
    "( Point(..)\n",
    ", Shape(..)\n",
    ", surface\n",
    ", nudge\n",
    ", baseCircle\n",
    ", baseRect\n",
    ") where</code></pre>"
   ]
  },
  {
   "cell_type": "markdown",
   "metadata": {},
   "source": [
    "By doing `Shape(..)`, we exported all the value constructors for `Shape`, so\n",
    "that means that whoever imports our module can make shapes by using the\n",
    "`Rectangle` and `Circle` value constructors. It's the same as writing\n",
    "`Shape (Rectangle, Circle)`.\n",
    "\n",
    "We could also opt not to export any value constructors for `Shape` by just\n",
    "writing `Shape` in the export statement. That way, someone importing our\n",
    "module could only make shapes by using the auxiliary functions\n",
    "`baseCircle` and `baseRect`. `Data.Map` uses that approach. You can't create a\n",
    "map by doing `Map.Map [(1,2),(3,4)]` because it doesn't export that value\n",
    "constructor. However, you can make a mapping by using one of the\n",
    "auxilliary functions like `Map.fromList`. Remember, value constructors are\n",
    "just functions that take the fields as parameters and return a value of\n",
    "some type (like `Shape`) as a result. So when we choose not to export\n",
    "them, we just prevent the person importing our module from using those\n",
    "functions, but if some other functions that are exported return a type,\n",
    "we can use them to make values of our custom data types.\n",
    "\n",
    "Not exporting the value constructors of a data types makes them more\n",
    "abstract in such a way that we hide their implementation. Also, whoever\n",
    "uses our module can't pattern match against the value constructors.\n",
    "\n",
    "Record syntax\n",
    "-------------\n",
    "\n",
    "<img src=\"img/record.png\" title=\"record\" style=\"background-color:white;float:right;margin-left:2em;\" />\n",
    "\n",
    "OK, we've been tasked with creating a data type that describes a person.\n",
    "The info that we want to store about that person is: first name, last\n",
    "name, age, height, phone number, and favorite ice-cream flavor. I don't\n",
    "know about you, but that's all I ever want to know about a person. Let's\n",
    "give it a go!"
   ]
  },
  {
   "cell_type": "code",
   "execution_count": 20,
   "metadata": {
    "attributes": {
     "classes": [
      "haskell:hs"
     ],
     "id": "",
     "name": "\"code\""
    }
   },
   "outputs": [],
   "source": [
    "data Person = Person String String Int Float String String deriving (Show)"
   ]
  },
  {
   "cell_type": "markdown",
   "metadata": {},
   "source": [
    "O-kay. The first field is the first name, the second is the last name,\n",
    "the third is the age and so on. Let's make a person."
   ]
  },
  {
   "cell_type": "code",
   "execution_count": 21,
   "metadata": {
    "attributes": {
     "classes": [
      "haskell:hs"
     ],
     "id": "",
     "name": "\"code\""
    }
   },
   "outputs": [
    {
     "data": {
      "text/plain": [
       "Person \"Buddy\" \"Finklestein\" 43 184.2 \"526-2928\" \"Chocolate\""
      ]
     },
     "metadata": {},
     "output_type": "display_data"
    }
   ],
   "source": [
    "let guy = Person \"Buddy\" \"Finklestein\" 43 184.2 \"526-2928\" \"Chocolate\"\n",
    "guy"
   ]
  },
  {
   "cell_type": "markdown",
   "metadata": {},
   "source": [
    "That's kind of cool, although slightly unreadable. What if we want to\n",
    "create a function to get separate info from a person? A function that\n",
    "gets some person's first name, a function that gets some person's last\n",
    "name, etc. Well, we'd have to define them kind of like this."
   ]
  },
  {
   "cell_type": "code",
   "execution_count": 22,
   "metadata": {
    "attributes": {
     "classes": [
      "haskell:hs"
     ],
     "id": "",
     "name": "\"code\""
    }
   },
   "outputs": [],
   "source": [
    "firstName :: Person -> String\n",
    "firstName (Person firstname _ _ _ _ _) = firstname\n",
    "\n",
    "lastName :: Person -> String\n",
    "lastName (Person _ lastname _ _ _ _) = lastname\n",
    "\n",
    "age :: Person -> Int\n",
    "age (Person _ _ age _ _ _) = age\n",
    "\n",
    "height :: Person -> Float\n",
    "height (Person _ _ _ height _ _) = height\n",
    "\n",
    "phoneNumber :: Person -> String\n",
    "phoneNumber (Person _ _ _ _ number _) = number\n",
    "\n",
    "flavor :: Person -> String\n",
    "flavor (Person _ _ _ _ _ flavor) = flavor"
   ]
  },
  {
   "cell_type": "markdown",
   "metadata": {},
   "source": [
    "Whew! I certainly did not enjoy writing that! Despite being very\n",
    "cumbersome and BORING to write, this method works."
   ]
  },
  {
   "cell_type": "code",
   "execution_count": 23,
   "metadata": {
    "attributes": {
     "classes": [
      "haskell:hs"
     ],
     "id": "",
     "name": "\"code\""
    }
   },
   "outputs": [],
   "source": [
    "let guy = Person \"Buddy\" \"Finklestein\" 43 184.2 \"526-2928\" \"Chocolate\""
   ]
  },
  {
   "cell_type": "code",
   "execution_count": 24,
   "metadata": {
    "attributes": {
     "classes": [
      "haskell:hs"
     ],
     "id": "",
     "name": "\"code\""
    }
   },
   "outputs": [
    {
     "data": {
      "text/plain": [
       "\"Buddy\""
      ]
     },
     "metadata": {},
     "output_type": "display_data"
    }
   ],
   "source": [
    "firstName guy"
   ]
  },
  {
   "cell_type": "code",
   "execution_count": 25,
   "metadata": {
    "attributes": {
     "classes": [
      "haskell:hs"
     ],
     "id": "",
     "name": "\"code\""
    }
   },
   "outputs": [
    {
     "data": {
      "text/plain": [
       "184.2"
      ]
     },
     "metadata": {},
     "output_type": "display_data"
    }
   ],
   "source": [
    "height guy"
   ]
  },
  {
   "cell_type": "code",
   "execution_count": 26,
   "metadata": {
    "attributes": {
     "classes": [
      "haskell:hs"
     ],
     "id": "",
     "name": "\"code\""
    }
   },
   "outputs": [
    {
     "data": {
      "text/plain": [
       "\"Chocolate\""
      ]
     },
     "metadata": {},
     "output_type": "display_data"
    }
   ],
   "source": [
    "flavor guy"
   ]
  },
  {
   "cell_type": "markdown",
   "metadata": {},
   "source": [
    "There must be a better way, you say! Well no, there isn't, sorry.\n",
    "\n",
    "Just kidding, there is. Hahaha! The makers of Haskell were very smart\n",
    "and anticipated this scenario. They included an alternative way to write\n",
    "data types. Here's how we could achieve the above functionality with\n",
    "record syntax."
   ]
  },
  {
   "cell_type": "code",
   "execution_count": 27,
   "metadata": {
    "attributes": {
     "classes": [
      "haskell:hs"
     ],
     "id": "",
     "name": "\"code\""
    }
   },
   "outputs": [],
   "source": [
    "data Person = Person { firstName :: String\n",
    "                     , lastName :: String\n",
    "                     , age :: Int\n",
    "                     , height :: Float\n",
    "                     , phoneNumber :: String\n",
    "                     , flavor :: String\n",
    "                     } deriving (Show)"
   ]
  },
  {
   "cell_type": "markdown",
   "metadata": {},
   "source": [
    "So instead of just naming the field types one after another and\n",
    "separating them with spaces, we use curly brackets. First we write the\n",
    "name of the field, for instance, `firstName` and then we write a double\n",
    "colon `::` (also called Paamayim Nekudotayim, haha) and then we specify\n",
    "the type. The resulting data type is exactly the same. The main benefit\n",
    "of this is that it creates functions that lookup fields in the data\n",
    "type. By using record syntax to create this data type, Haskell\n",
    "automatically made these functions: `firstName`, `lastName`, `age`, `height`,\n",
    "`phoneNumber` and `flavor`."
   ]
  },
  {
   "cell_type": "code",
   "execution_count": 28,
   "metadata": {
    "attributes": {
     "classes": [
      "haskell:hs"
     ],
     "id": "",
     "name": "\"code\""
    }
   },
   "outputs": [
    {
     "data": {
      "text/html": [
       "<style>/* Styles used for the Hoogle display in the pager */\n",
       ".hoogle-doc {\n",
       "display: block;\n",
       "padding-bottom: 1.3em;\n",
       "padding-left: 0.4em;\n",
       "}\n",
       ".hoogle-code {\n",
       "display: block;\n",
       "font-family: monospace;\n",
       "white-space: pre;\n",
       "}\n",
       ".hoogle-text {\n",
       "display: block;\n",
       "}\n",
       ".hoogle-name {\n",
       "color: green;\n",
       "font-weight: bold;\n",
       "}\n",
       ".hoogle-head {\n",
       "font-weight: bold;\n",
       "}\n",
       ".hoogle-sub {\n",
       "display: block;\n",
       "margin-left: 0.4em;\n",
       "}\n",
       ".hoogle-package {\n",
       "font-weight: bold;\n",
       "font-style: italic;\n",
       "}\n",
       ".hoogle-module {\n",
       "font-weight: bold;\n",
       "}\n",
       ".hoogle-class {\n",
       "font-weight: bold;\n",
       "}\n",
       ".get-type {\n",
       "color: green;\n",
       "font-weight: bold;\n",
       "font-family: monospace;\n",
       "display: block;\n",
       "white-space: pre-wrap;\n",
       "}\n",
       ".show-type {\n",
       "color: green;\n",
       "font-weight: bold;\n",
       "font-family: monospace;\n",
       "margin-left: 1em;\n",
       "}\n",
       ".mono {\n",
       "font-family: monospace;\n",
       "display: block;\n",
       "}\n",
       ".err-msg {\n",
       "color: red;\n",
       "font-style: italic;\n",
       "font-family: monospace;\n",
       "white-space: pre;\n",
       "display: block;\n",
       "}\n",
       "#unshowable {\n",
       "color: red;\n",
       "font-weight: bold;\n",
       "}\n",
       ".err-msg.in.collapse {\n",
       "padding-top: 0.7em;\n",
       "}\n",
       ".highlight-code {\n",
       "white-space: pre;\n",
       "font-family: monospace;\n",
       "}\n",
       ".suggestion-warning { \n",
       "font-weight: bold;\n",
       "color: rgb(200, 130, 0);\n",
       "}\n",
       ".suggestion-error { \n",
       "font-weight: bold;\n",
       "color: red;\n",
       "}\n",
       ".suggestion-name {\n",
       "font-weight: bold;\n",
       "}\n",
       "</style><span class='get-type'>flavor :: Person -> String</span>"
      ],
      "text/plain": [
       "flavor :: Person -> String"
      ]
     },
     "metadata": {},
     "output_type": "display_data"
    }
   ],
   "source": [
    ":t flavor"
   ]
  },
  {
   "cell_type": "code",
   "execution_count": 29,
   "metadata": {
    "attributes": {
     "classes": [
      "haskell:hs"
     ],
     "id": "",
     "name": "\"code\""
    }
   },
   "outputs": [
    {
     "data": {
      "text/html": [
       "<style>/* Styles used for the Hoogle display in the pager */\n",
       ".hoogle-doc {\n",
       "display: block;\n",
       "padding-bottom: 1.3em;\n",
       "padding-left: 0.4em;\n",
       "}\n",
       ".hoogle-code {\n",
       "display: block;\n",
       "font-family: monospace;\n",
       "white-space: pre;\n",
       "}\n",
       ".hoogle-text {\n",
       "display: block;\n",
       "}\n",
       ".hoogle-name {\n",
       "color: green;\n",
       "font-weight: bold;\n",
       "}\n",
       ".hoogle-head {\n",
       "font-weight: bold;\n",
       "}\n",
       ".hoogle-sub {\n",
       "display: block;\n",
       "margin-left: 0.4em;\n",
       "}\n",
       ".hoogle-package {\n",
       "font-weight: bold;\n",
       "font-style: italic;\n",
       "}\n",
       ".hoogle-module {\n",
       "font-weight: bold;\n",
       "}\n",
       ".hoogle-class {\n",
       "font-weight: bold;\n",
       "}\n",
       ".get-type {\n",
       "color: green;\n",
       "font-weight: bold;\n",
       "font-family: monospace;\n",
       "display: block;\n",
       "white-space: pre-wrap;\n",
       "}\n",
       ".show-type {\n",
       "color: green;\n",
       "font-weight: bold;\n",
       "font-family: monospace;\n",
       "margin-left: 1em;\n",
       "}\n",
       ".mono {\n",
       "font-family: monospace;\n",
       "display: block;\n",
       "}\n",
       ".err-msg {\n",
       "color: red;\n",
       "font-style: italic;\n",
       "font-family: monospace;\n",
       "white-space: pre;\n",
       "display: block;\n",
       "}\n",
       "#unshowable {\n",
       "color: red;\n",
       "font-weight: bold;\n",
       "}\n",
       ".err-msg.in.collapse {\n",
       "padding-top: 0.7em;\n",
       "}\n",
       ".highlight-code {\n",
       "white-space: pre;\n",
       "font-family: monospace;\n",
       "}\n",
       ".suggestion-warning { \n",
       "font-weight: bold;\n",
       "color: rgb(200, 130, 0);\n",
       "}\n",
       ".suggestion-error { \n",
       "font-weight: bold;\n",
       "color: red;\n",
       "}\n",
       ".suggestion-name {\n",
       "font-weight: bold;\n",
       "}\n",
       "</style><span class='get-type'>firstName :: Person -> String</span>"
      ],
      "text/plain": [
       "firstName :: Person -> String"
      ]
     },
     "metadata": {},
     "output_type": "display_data"
    }
   ],
   "source": [
    ":t firstName"
   ]
  },
  {
   "cell_type": "markdown",
   "metadata": {},
   "source": [
    "There's another benefit to using record syntax. When we derive [`Show`](https://hackage.haskell.org/package/base/docs/Prelude.html#t:Show) for\n",
    "the type, it displays it differently if we use record syntax to define\n",
    "and instantiate the type. Say we have a type that represents a car. We\n",
    "want to keep track of the company that made it, the model name and its\n",
    "year of production. Watch."
   ]
  },
  {
   "cell_type": "code",
   "execution_count": 30,
   "metadata": {
    "attributes": {
     "classes": [
      "haskell:hs"
     ],
     "id": "",
     "name": "\"code\""
    }
   },
   "outputs": [],
   "source": [
    "data Car = Car String String Int deriving (Show)"
   ]
  },
  {
   "cell_type": "code",
   "execution_count": 31,
   "metadata": {
    "attributes": {
     "classes": [
      "haskell:hs"
     ],
     "id": "",
     "name": "\"code\""
    }
   },
   "outputs": [
    {
     "data": {
      "text/plain": [
       "Car \"Ford\" \"Mustang\" 1967"
      ]
     },
     "metadata": {},
     "output_type": "display_data"
    }
   ],
   "source": [
    "Car \"Ford\" \"Mustang\" 1967"
   ]
  },
  {
   "cell_type": "markdown",
   "metadata": {},
   "source": [
    "If we define it using record syntax, we can make a new car like this."
   ]
  },
  {
   "cell_type": "code",
   "execution_count": 32,
   "metadata": {
    "attributes": {
     "classes": [
      "haskell:hs"
     ],
     "id": "",
     "name": "\"code\""
    }
   },
   "outputs": [],
   "source": [
    "data Car = Car {company :: String, model :: String, year :: Int} deriving (Show)"
   ]
  },
  {
   "cell_type": "code",
   "execution_count": 33,
   "metadata": {
    "attributes": {
     "classes": [
      "haskell:hs"
     ],
     "id": "",
     "name": "\"code\""
    }
   },
   "outputs": [
    {
     "data": {
      "text/plain": [
       "Car {company = \"Ford\", model = \"Mustang\", year = 1967}"
      ]
     },
     "metadata": {},
     "output_type": "display_data"
    }
   ],
   "source": [
    "Car {company=\"Ford\", model=\"Mustang\", year=1967}"
   ]
  },
  {
   "cell_type": "markdown",
   "metadata": {},
   "source": [
    "When making a new car, we don't have to necessarily put the fields in\n",
    "the proper order, as long as we list all of them. But if we don't use\n",
    "record syntax, we have to specify them in order.\n",
    "\n",
    "Use record syntax when a constructor has several fields and it's not\n",
    "obvious which field is which. If we make a 3D vector data type by doing\n",
    "`data Vector = Vector Int Int Int`, it's pretty obvious that the fields\n",
    "are the components of a vector. However, in our `Person` and `Car` types, it\n",
    "wasn't so obvious and we greatly benefited from using record syntax.\n",
    "\n",
    "Type parameters\n",
    "---------------\n",
    "\n",
    "A value constructor can take some values parameters and then produce a\n",
    "new value. For instance, the `Car` constructor takes three values and\n",
    "produces a car value. In a similar manner, *type constructors* can take\n",
    "types as parameters to produce new types. This might sound a bit too\n",
    "meta at first, but it's not that complicated. If you're familiar with\n",
    "templates in C++, you'll see some parallels. To get a clear picture of\n",
    "what type parameters work like in action, let's take a look at how a\n",
    "type we've already met is implemented."
   ]
  },
  {
   "cell_type": "markdown",
   "metadata": {
    "attributes": {
     "classes": [
      "haskell:hs"
     ],
     "id": "",
     "name": "\"code\""
    }
   },
   "source": [
    "<pre><code>data Maybe a = Nothing | Just a deriving (Show)</code></pre>"
   ]
  },
  {
   "cell_type": "markdown",
   "metadata": {},
   "source": [
    "<img src=\"img/yeti.png\" title=\"yeti\" style=\"background-color:white;float:left;margin-right:2em;\" />\n",
    "\n",
    "The `a` here is the type parameter. And because there's a type parameter\n",
    "involved, we call [`Maybe`](https://hackage.haskell.org/package/base/docs/Prelude.html#t:Maybe) a type constructor. Depending on what we want\n",
    "this data type to hold when it's not [`Nothing`](https://hackage.haskell.org/package/base/docs/Prelude.html#v:Nothing), this type constructor can\n",
    "end up producing a type of `Maybe Int`, `Maybe Car`, `Maybe String`, etc. No\n",
    "value can have a type of just [`Maybe`](https://hackage.haskell.org/package/base/docs/Prelude.html#t:Maybe), because that's not a type per se,\n",
    "it's a type constructor. In order for this to be a real type that a\n",
    "value can be part of, it has to have all its type parameters filled up.\n",
    "\n",
    "So if we pass [`Char`](https://hackage.haskell.org/package/base/docs/Prelude.html#t:Char) as the type parameter to [`Maybe`](https://hackage.haskell.org/package/base/docs/Prelude.html#t:Maybe), we get a type of\n",
    "`Maybe Char`. The value `Just 'a'` has a type of `Maybe Char`, for example.\n",
    "\n",
    "You might not know it, but we used a type that has a type parameter\n",
    "before we used [`Maybe`](https://hackage.haskell.org/package/base/docs/Prelude.html#t:Maybe). That type is the list type. Although there's some\n",
    "syntactic sugar in play, the list type takes a parameter to produce a\n",
    "concrete type. Values can have an `[Int]` type, a `[Char]` type, a\n",
    "`[[String]]` type, but you can't have a value that just has a type of `[]`.\n",
    "\n",
    "Let's play around with the [`Maybe`](https://hackage.haskell.org/package/base/docs/Prelude.html#t:Maybe) type."
   ]
  },
  {
   "cell_type": "code",
   "execution_count": 34,
   "metadata": {
    "attributes": {
     "classes": [
      "haskell:hs"
     ],
     "id": "",
     "name": "\"code\""
    }
   },
   "outputs": [
    {
     "data": {
      "text/plain": [
       "Just \"Haha\""
      ]
     },
     "metadata": {},
     "output_type": "display_data"
    }
   ],
   "source": [
    "Just \"Haha\""
   ]
  },
  {
   "cell_type": "code",
   "execution_count": 35,
   "metadata": {
    "attributes": {
     "classes": [
      "haskell:hs"
     ],
     "id": "",
     "name": "\"code\""
    }
   },
   "outputs": [
    {
     "data": {
      "text/plain": [
       "Just 84"
      ]
     },
     "metadata": {},
     "output_type": "display_data"
    }
   ],
   "source": [
    "Just 84"
   ]
  },
  {
   "cell_type": "code",
   "execution_count": 36,
   "metadata": {
    "attributes": {
     "classes": [
      "haskell:hs"
     ],
     "id": "",
     "name": "\"code\""
    }
   },
   "outputs": [
    {
     "data": {
      "text/html": [
       "<style>/* Styles used for the Hoogle display in the pager */\n",
       ".hoogle-doc {\n",
       "display: block;\n",
       "padding-bottom: 1.3em;\n",
       "padding-left: 0.4em;\n",
       "}\n",
       ".hoogle-code {\n",
       "display: block;\n",
       "font-family: monospace;\n",
       "white-space: pre;\n",
       "}\n",
       ".hoogle-text {\n",
       "display: block;\n",
       "}\n",
       ".hoogle-name {\n",
       "color: green;\n",
       "font-weight: bold;\n",
       "}\n",
       ".hoogle-head {\n",
       "font-weight: bold;\n",
       "}\n",
       ".hoogle-sub {\n",
       "display: block;\n",
       "margin-left: 0.4em;\n",
       "}\n",
       ".hoogle-package {\n",
       "font-weight: bold;\n",
       "font-style: italic;\n",
       "}\n",
       ".hoogle-module {\n",
       "font-weight: bold;\n",
       "}\n",
       ".hoogle-class {\n",
       "font-weight: bold;\n",
       "}\n",
       ".get-type {\n",
       "color: green;\n",
       "font-weight: bold;\n",
       "font-family: monospace;\n",
       "display: block;\n",
       "white-space: pre-wrap;\n",
       "}\n",
       ".show-type {\n",
       "color: green;\n",
       "font-weight: bold;\n",
       "font-family: monospace;\n",
       "margin-left: 1em;\n",
       "}\n",
       ".mono {\n",
       "font-family: monospace;\n",
       "display: block;\n",
       "}\n",
       ".err-msg {\n",
       "color: red;\n",
       "font-style: italic;\n",
       "font-family: monospace;\n",
       "white-space: pre;\n",
       "display: block;\n",
       "}\n",
       "#unshowable {\n",
       "color: red;\n",
       "font-weight: bold;\n",
       "}\n",
       ".err-msg.in.collapse {\n",
       "padding-top: 0.7em;\n",
       "}\n",
       ".highlight-code {\n",
       "white-space: pre;\n",
       "font-family: monospace;\n",
       "}\n",
       ".suggestion-warning { \n",
       "font-weight: bold;\n",
       "color: rgb(200, 130, 0);\n",
       "}\n",
       ".suggestion-error { \n",
       "font-weight: bold;\n",
       "color: red;\n",
       "}\n",
       ".suggestion-name {\n",
       "font-weight: bold;\n",
       "}\n",
       "</style><span class='get-type'>Just \"Haha\" :: Maybe String</span>"
      ],
      "text/plain": [
       "Just \"Haha\" :: Maybe String"
      ]
     },
     "metadata": {},
     "output_type": "display_data"
    }
   ],
   "source": [
    ":t Just \"Haha\""
   ]
  },
  {
   "cell_type": "code",
   "execution_count": 37,
   "metadata": {
    "attributes": {
     "classes": [
      "haskell:hs"
     ],
     "id": "",
     "name": "\"code\""
    }
   },
   "outputs": [
    {
     "data": {
      "text/html": [
       "<style>/* Styles used for the Hoogle display in the pager */\n",
       ".hoogle-doc {\n",
       "display: block;\n",
       "padding-bottom: 1.3em;\n",
       "padding-left: 0.4em;\n",
       "}\n",
       ".hoogle-code {\n",
       "display: block;\n",
       "font-family: monospace;\n",
       "white-space: pre;\n",
       "}\n",
       ".hoogle-text {\n",
       "display: block;\n",
       "}\n",
       ".hoogle-name {\n",
       "color: green;\n",
       "font-weight: bold;\n",
       "}\n",
       ".hoogle-head {\n",
       "font-weight: bold;\n",
       "}\n",
       ".hoogle-sub {\n",
       "display: block;\n",
       "margin-left: 0.4em;\n",
       "}\n",
       ".hoogle-package {\n",
       "font-weight: bold;\n",
       "font-style: italic;\n",
       "}\n",
       ".hoogle-module {\n",
       "font-weight: bold;\n",
       "}\n",
       ".hoogle-class {\n",
       "font-weight: bold;\n",
       "}\n",
       ".get-type {\n",
       "color: green;\n",
       "font-weight: bold;\n",
       "font-family: monospace;\n",
       "display: block;\n",
       "white-space: pre-wrap;\n",
       "}\n",
       ".show-type {\n",
       "color: green;\n",
       "font-weight: bold;\n",
       "font-family: monospace;\n",
       "margin-left: 1em;\n",
       "}\n",
       ".mono {\n",
       "font-family: monospace;\n",
       "display: block;\n",
       "}\n",
       ".err-msg {\n",
       "color: red;\n",
       "font-style: italic;\n",
       "font-family: monospace;\n",
       "white-space: pre;\n",
       "display: block;\n",
       "}\n",
       "#unshowable {\n",
       "color: red;\n",
       "font-weight: bold;\n",
       "}\n",
       ".err-msg.in.collapse {\n",
       "padding-top: 0.7em;\n",
       "}\n",
       ".highlight-code {\n",
       "white-space: pre;\n",
       "font-family: monospace;\n",
       "}\n",
       ".suggestion-warning { \n",
       "font-weight: bold;\n",
       "color: rgb(200, 130, 0);\n",
       "}\n",
       ".suggestion-error { \n",
       "font-weight: bold;\n",
       "color: red;\n",
       "}\n",
       ".suggestion-name {\n",
       "font-weight: bold;\n",
       "}\n",
       "</style><span class='get-type'>Just 84 :: forall {a}. Num a => Maybe a</span>"
      ],
      "text/plain": [
       "Just 84 :: forall {a}. Num a => Maybe a"
      ]
     },
     "metadata": {},
     "output_type": "display_data"
    }
   ],
   "source": [
    ":t Just 84"
   ]
  },
  {
   "cell_type": "code",
   "execution_count": 38,
   "metadata": {
    "attributes": {
     "classes": [
      "haskell:hs"
     ],
     "id": "",
     "name": "\"code\""
    }
   },
   "outputs": [
    {
     "data": {
      "text/html": [
       "<style>/* Styles used for the Hoogle display in the pager */\n",
       ".hoogle-doc {\n",
       "display: block;\n",
       "padding-bottom: 1.3em;\n",
       "padding-left: 0.4em;\n",
       "}\n",
       ".hoogle-code {\n",
       "display: block;\n",
       "font-family: monospace;\n",
       "white-space: pre;\n",
       "}\n",
       ".hoogle-text {\n",
       "display: block;\n",
       "}\n",
       ".hoogle-name {\n",
       "color: green;\n",
       "font-weight: bold;\n",
       "}\n",
       ".hoogle-head {\n",
       "font-weight: bold;\n",
       "}\n",
       ".hoogle-sub {\n",
       "display: block;\n",
       "margin-left: 0.4em;\n",
       "}\n",
       ".hoogle-package {\n",
       "font-weight: bold;\n",
       "font-style: italic;\n",
       "}\n",
       ".hoogle-module {\n",
       "font-weight: bold;\n",
       "}\n",
       ".hoogle-class {\n",
       "font-weight: bold;\n",
       "}\n",
       ".get-type {\n",
       "color: green;\n",
       "font-weight: bold;\n",
       "font-family: monospace;\n",
       "display: block;\n",
       "white-space: pre-wrap;\n",
       "}\n",
       ".show-type {\n",
       "color: green;\n",
       "font-weight: bold;\n",
       "font-family: monospace;\n",
       "margin-left: 1em;\n",
       "}\n",
       ".mono {\n",
       "font-family: monospace;\n",
       "display: block;\n",
       "}\n",
       ".err-msg {\n",
       "color: red;\n",
       "font-style: italic;\n",
       "font-family: monospace;\n",
       "white-space: pre;\n",
       "display: block;\n",
       "}\n",
       "#unshowable {\n",
       "color: red;\n",
       "font-weight: bold;\n",
       "}\n",
       ".err-msg.in.collapse {\n",
       "padding-top: 0.7em;\n",
       "}\n",
       ".highlight-code {\n",
       "white-space: pre;\n",
       "font-family: monospace;\n",
       "}\n",
       ".suggestion-warning { \n",
       "font-weight: bold;\n",
       "color: rgb(200, 130, 0);\n",
       "}\n",
       ".suggestion-error { \n",
       "font-weight: bold;\n",
       "color: red;\n",
       "}\n",
       ".suggestion-name {\n",
       "font-weight: bold;\n",
       "}\n",
       "</style><span class='get-type'>Nothing :: forall a. Maybe a</span>"
      ],
      "text/plain": [
       "Nothing :: forall a. Maybe a"
      ]
     },
     "metadata": {},
     "output_type": "display_data"
    }
   ],
   "source": [
    ":t Nothing"
   ]
  },
  {
   "cell_type": "code",
   "execution_count": 39,
   "metadata": {
    "attributes": {
     "classes": [
      "haskell:hs"
     ],
     "id": "",
     "name": "\"code\""
    }
   },
   "outputs": [
    {
     "data": {
      "text/plain": [
       "Just 10.0"
      ]
     },
     "metadata": {},
     "output_type": "display_data"
    }
   ],
   "source": [
    "Just 10 :: Maybe Double"
   ]
  },
  {
   "cell_type": "markdown",
   "metadata": {},
   "source": [
    "Type parameters are useful because we can make different types with them\n",
    "depending on what kind of types we want contained in our data type. When\n",
    "we do `:t Just \"Haha\"`, the type inference engine figures it out to be of\n",
    "the type `Maybe [Char]`, because if the `a` in the `Just a` is a string, then\n",
    "the `a` in `Maybe a` must also be a string.\n",
    "\n",
    "Notice that the type of [`Nothing`](https://hackage.haskell.org/package/base/docs/Prelude.html#v:Nothing) is `Maybe a`. Its type is polymorphic. If\n",
    "some function requires a `Maybe Int` as a parameter, we can give it a\n",
    "[`Nothing`](https://hackage.haskell.org/package/base/docs/Prelude.html#v:Nothing), because a [`Nothing`](https://hackage.haskell.org/package/base/docs/Prelude.html#v:Nothing) doesn't contain a value anyway and so it\n",
    "doesn't matter. The `Maybe a` type can act like a `Maybe Int` if it has to,\n",
    "just like `5` can act like an [`Int`](https://hackage.haskell.org/package/base/docs/Prelude.html#t:Int) or a [`Double`](https://hackage.haskell.org/package/base/docs/Prelude.html#t:Double). Similarly, the type of the\n",
    "empty list is `[a]`. An empty list can act like a list of anything. That's\n",
    "why we can do `[1,2,3] ++ []` and `[\"ha\",\"ha\",\"ha\"] ++ []`.\n",
    "\n",
    "Using type parameters is very beneficial, but only when using them makes\n",
    "sense. Usually we use them when our data type would work regardless of\n",
    "the type of the value it then holds inside it, like with our `Maybe a`\n",
    "type. If our type acts as some kind of box, it's good to use them. "
   ]
  },
  {
   "cell_type": "markdown",
   "metadata": {
    "attributes": {
     "classes": [
      "haskell:hs"
     ],
     "id": "",
     "name": "\"code\""
    }
   },
   "source": [
    "> __Jupyter Note:__ `DuplicateRecordsFields` to allow Car1 and Car2 to have the same record field names."
   ]
  },
  {
   "cell_type": "code",
   "execution_count": 40,
   "metadata": {
    "attributes": {
     "classes": [
      "haskell:hs"
     ],
     "id": "",
     "name": "\"code\""
    }
   },
   "outputs": [],
   "source": [
    ":extension DuplicateRecordFields"
   ]
  },
  {
   "cell_type": "markdown",
   "metadata": {},
   "source": [
    "We could change our `Car` data type from this:"
   ]
  },
  {
   "cell_type": "code",
   "execution_count": 41,
   "metadata": {
    "attributes": {
     "classes": [
      "haskell:hs"
     ],
     "id": "",
     "name": "\"code\""
    }
   },
   "outputs": [],
   "source": [
    "data Car1 = Car1 { company :: String\n",
    "                 , model :: String\n",
    "                 , year :: Int\n",
    "                 } deriving (Show)"
   ]
  },
  {
   "cell_type": "markdown",
   "metadata": {},
   "source": [
    "To this:"
   ]
  },
  {
   "cell_type": "code",
   "execution_count": 42,
   "metadata": {
    "attributes": {
     "classes": [
      "haskell:hs"
     ],
     "id": "",
     "name": "\"code\""
    }
   },
   "outputs": [],
   "source": [
    "data Car2 a b c = Car2 { company :: a\n",
    "                       , model :: b\n",
    "                       , year :: c\n",
    "                       } deriving (Show)"
   ]
  },
  {
   "cell_type": "markdown",
   "metadata": {},
   "source": [
    "But would we really benefit? The answer is: probably no, because we'd\n",
    "just end up defining functions that only work on the `Car String String Int` type.\n",
    "For instance, given our first definition of `Car1`, we could make\n",
    "a function that displays the car's properties in a nice little text."
   ]
  },
  {
   "cell_type": "code",
   "execution_count": 43,
   "metadata": {
    "attributes": {
     "classes": [
      "haskell:hs"
     ],
     "id": "",
     "name": "\"code\""
    }
   },
   "outputs": [],
   "source": [
    "tellCar1 :: Car1 -> String\n",
    "tellCar1 (Car1 {company = c, model = m, year = y}) = \"This \" ++ c ++ \" \" ++ m ++ \" was made in \" ++ show y"
   ]
  },
  {
   "cell_type": "code",
   "execution_count": 44,
   "metadata": {
    "attributes": {
     "classes": [
      "haskell:hs"
     ],
     "id": "",
     "name": "\"code\""
    }
   },
   "outputs": [
    {
     "data": {
      "text/plain": [
       "\"This Ford Mustang was made in 1967\""
      ]
     },
     "metadata": {},
     "output_type": "display_data"
    }
   ],
   "source": [
    "let stang = Car1 {company=\"Ford\", model=\"Mustang\", year=1967}\n",
    "tellCar1 stang"
   ]
  },
  {
   "cell_type": "markdown",
   "metadata": {},
   "source": [
    "A cute little function! The type declaration is cute and it works\n",
    "nicely. Now what if Car was Car2 a b c?"
   ]
  },
  {
   "cell_type": "code",
   "execution_count": 45,
   "metadata": {
    "attributes": {
     "classes": [
      "haskell:hs"
     ],
     "id": "",
     "name": "\"code\""
    }
   },
   "outputs": [],
   "source": [
    "tellCar2 :: (Show a) => Car2 String String a -> String\n",
    "tellCar2 (Car2 {company = c, model = m, year = y}) = \"This \" ++ c ++ \" \" ++ m ++ \" was made in \" ++ show y"
   ]
  },
  {
   "cell_type": "markdown",
   "metadata": {},
   "source": [
    "We'd have to force this function to take a `Car2` type of\n",
    "`(Show a) => Car2 String String a`.\n",
    "You can see that the type signature is more complicated\n",
    "and the only benefit we'd actually get would be that we can use any type\n",
    "that's an instance of the [`Show`](https://hackage.haskell.org/package/base/docs/Prelude.html#t:Show) typeclass as the type for `c`."
   ]
  },
  {
   "cell_type": "code",
   "execution_count": 46,
   "metadata": {
    "attributes": {
     "classes": [
      "haskell:hs"
     ],
     "id": "",
     "name": "\"code\""
    }
   },
   "outputs": [
    {
     "data": {
      "text/plain": [
       "\"This Ford Mustang was made in 1967\""
      ]
     },
     "metadata": {},
     "output_type": "display_data"
    }
   ],
   "source": [
    "tellCar2 (Car2 \"Ford\" \"Mustang\" 1967)"
   ]
  },
  {
   "cell_type": "code",
   "execution_count": 47,
   "metadata": {
    "attributes": {
     "classes": [
      "haskell:hs"
     ],
     "id": "",
     "name": "\"code\""
    }
   },
   "outputs": [
    {
     "data": {
      "text/plain": [
       "\"This Ford Mustang was made in \\\"nineteen sixty seven\\\"\""
      ]
     },
     "metadata": {},
     "output_type": "display_data"
    }
   ],
   "source": [
    "tellCar2 (Car2 \"Ford\" \"Mustang\" \"nineteen sixty seven\")"
   ]
  },
  {
   "cell_type": "code",
   "execution_count": 48,
   "metadata": {
    "attributes": {
     "classes": [
      "haskell:hs"
     ],
     "id": "",
     "name": "\"code\""
    }
   },
   "outputs": [
    {
     "data": {
      "text/html": [
       "<style>/* Styles used for the Hoogle display in the pager */\n",
       ".hoogle-doc {\n",
       "display: block;\n",
       "padding-bottom: 1.3em;\n",
       "padding-left: 0.4em;\n",
       "}\n",
       ".hoogle-code {\n",
       "display: block;\n",
       "font-family: monospace;\n",
       "white-space: pre;\n",
       "}\n",
       ".hoogle-text {\n",
       "display: block;\n",
       "}\n",
       ".hoogle-name {\n",
       "color: green;\n",
       "font-weight: bold;\n",
       "}\n",
       ".hoogle-head {\n",
       "font-weight: bold;\n",
       "}\n",
       ".hoogle-sub {\n",
       "display: block;\n",
       "margin-left: 0.4em;\n",
       "}\n",
       ".hoogle-package {\n",
       "font-weight: bold;\n",
       "font-style: italic;\n",
       "}\n",
       ".hoogle-module {\n",
       "font-weight: bold;\n",
       "}\n",
       ".hoogle-class {\n",
       "font-weight: bold;\n",
       "}\n",
       ".get-type {\n",
       "color: green;\n",
       "font-weight: bold;\n",
       "font-family: monospace;\n",
       "display: block;\n",
       "white-space: pre-wrap;\n",
       "}\n",
       ".show-type {\n",
       "color: green;\n",
       "font-weight: bold;\n",
       "font-family: monospace;\n",
       "margin-left: 1em;\n",
       "}\n",
       ".mono {\n",
       "font-family: monospace;\n",
       "display: block;\n",
       "}\n",
       ".err-msg {\n",
       "color: red;\n",
       "font-style: italic;\n",
       "font-family: monospace;\n",
       "white-space: pre;\n",
       "display: block;\n",
       "}\n",
       "#unshowable {\n",
       "color: red;\n",
       "font-weight: bold;\n",
       "}\n",
       ".err-msg.in.collapse {\n",
       "padding-top: 0.7em;\n",
       "}\n",
       ".highlight-code {\n",
       "white-space: pre;\n",
       "font-family: monospace;\n",
       "}\n",
       ".suggestion-warning { \n",
       "font-weight: bold;\n",
       "color: rgb(200, 130, 0);\n",
       "}\n",
       ".suggestion-error { \n",
       "font-weight: bold;\n",
       "color: red;\n",
       "}\n",
       ".suggestion-name {\n",
       "font-weight: bold;\n",
       "}\n",
       "</style><span class='get-type'>Car2 \"Ford\" \"Mustang\" 1967 :: forall {c}. Num c => Car2 String String c</span>"
      ],
      "text/plain": [
       "Car2 \"Ford\" \"Mustang\" 1967 :: forall {c}. Num c => Car2 String String c"
      ]
     },
     "metadata": {},
     "output_type": "display_data"
    }
   ],
   "source": [
    ":t Car2 \"Ford\" \"Mustang\" 1967"
   ]
  },
  {
   "cell_type": "code",
   "execution_count": 49,
   "metadata": {
    "attributes": {
     "classes": [
      "haskell:hs"
     ],
     "id": "",
     "name": "\"code\""
    }
   },
   "outputs": [
    {
     "data": {
      "text/html": [
       "<style>/* Styles used for the Hoogle display in the pager */\n",
       ".hoogle-doc {\n",
       "display: block;\n",
       "padding-bottom: 1.3em;\n",
       "padding-left: 0.4em;\n",
       "}\n",
       ".hoogle-code {\n",
       "display: block;\n",
       "font-family: monospace;\n",
       "white-space: pre;\n",
       "}\n",
       ".hoogle-text {\n",
       "display: block;\n",
       "}\n",
       ".hoogle-name {\n",
       "color: green;\n",
       "font-weight: bold;\n",
       "}\n",
       ".hoogle-head {\n",
       "font-weight: bold;\n",
       "}\n",
       ".hoogle-sub {\n",
       "display: block;\n",
       "margin-left: 0.4em;\n",
       "}\n",
       ".hoogle-package {\n",
       "font-weight: bold;\n",
       "font-style: italic;\n",
       "}\n",
       ".hoogle-module {\n",
       "font-weight: bold;\n",
       "}\n",
       ".hoogle-class {\n",
       "font-weight: bold;\n",
       "}\n",
       ".get-type {\n",
       "color: green;\n",
       "font-weight: bold;\n",
       "font-family: monospace;\n",
       "display: block;\n",
       "white-space: pre-wrap;\n",
       "}\n",
       ".show-type {\n",
       "color: green;\n",
       "font-weight: bold;\n",
       "font-family: monospace;\n",
       "margin-left: 1em;\n",
       "}\n",
       ".mono {\n",
       "font-family: monospace;\n",
       "display: block;\n",
       "}\n",
       ".err-msg {\n",
       "color: red;\n",
       "font-style: italic;\n",
       "font-family: monospace;\n",
       "white-space: pre;\n",
       "display: block;\n",
       "}\n",
       "#unshowable {\n",
       "color: red;\n",
       "font-weight: bold;\n",
       "}\n",
       ".err-msg.in.collapse {\n",
       "padding-top: 0.7em;\n",
       "}\n",
       ".highlight-code {\n",
       "white-space: pre;\n",
       "font-family: monospace;\n",
       "}\n",
       ".suggestion-warning { \n",
       "font-weight: bold;\n",
       "color: rgb(200, 130, 0);\n",
       "}\n",
       ".suggestion-error { \n",
       "font-weight: bold;\n",
       "color: red;\n",
       "}\n",
       ".suggestion-name {\n",
       "font-weight: bold;\n",
       "}\n",
       "</style><span class='get-type'>Car2 \"Ford\" \"Mustang\" \"nineteen sixty seven\" :: Car2 String String String</span>"
      ],
      "text/plain": [
       "Car2 \"Ford\" \"Mustang\" \"nineteen sixty seven\" :: Car2 String String String"
      ]
     },
     "metadata": {},
     "output_type": "display_data"
    }
   ],
   "source": [
    ":t Car2 \"Ford\" \"Mustang\" \"nineteen sixty seven\""
   ]
  },
  {
   "cell_type": "markdown",
   "metadata": {},
   "source": [
    "<img src=\"img/meekrat.png\" title=\"meekrat\" style=\"background-color:white;float:right;margin-left:2em;\" />\n",
    "\n",
    "In real life though, we'd end up using `Car String String Int` most of the\n",
    "time and so it would seem that parameterizing the `Car` type isn't really\n",
    "worth it. We usually use type parameters when the type that's contained\n",
    "inside the data type's various value constructors isn't really that\n",
    "important for the type to work. A list of stuff is a list of stuff and\n",
    "it doesn't matter what the type of that stuff is, it can still work. If\n",
    "we want to sum a list of numbers, we can specify later in the summing\n",
    "function that we specifically want a list of numbers. Same goes for\n",
    "[`Maybe`](https://hackage.haskell.org/package/base/docs/Prelude.html#t:Maybe). [`Maybe`](https://hackage.haskell.org/package/base/docs/Prelude.html#t:Maybe) represents an option of either having nothing or having one\n",
    "of something. It doesn't matter what the type of that something is.\n",
    "\n",
    "Another example of a parameterized type that we've already met is\n",
    "`Map k v` from `Data.Map`. The `k` is the type of the keys in a map and the `v` is the\n",
    "type of the values. This is a good example of where type parameters are\n",
    "very useful. Having maps parameterized enables us to have mappings from\n",
    "any type to any other type, as long as the type of the key is part of\n",
    "the [`Ord`](https://hackage.haskell.org/package/base/docs/Prelude.html#t:Ord) typeclass. If we were defining a mapping type, we could add a\n",
    "typeclass constraint in the *data* declaration:"
   ]
  },
  {
   "cell_type": "markdown",
   "metadata": {
    "attributes": {
     "classes": [
      "haskell:hs"
     ],
     "id": "",
     "name": "\"code\""
    }
   },
   "source": [
    "<pre><code>data (Ord k) => Map k v = ...</code></pre>"
   ]
  },
  {
   "cell_type": "markdown",
   "metadata": {},
   "source": [
    "However, it's a very strong convention in Haskell to *never add\n",
    "typeclass constraints in data declarations.* Why? Well, because we don't\n",
    "benefit a lot, but we end up writing more class constraints, even when\n",
    "we don't need them. If we put or don't put the `Ord k` constraint in the\n",
    "*data* declaration for `Map k v`, we're going to have to put the\n",
    "constraint into functions that assume the keys in a map can be ordered.\n",
    "But if we don't put the constraint in the data declaration, we don't\n",
    "have to put `(Ord k) =>` in the type declarations of functions that don't\n",
    "care whether the keys can be ordered or not. An example of such a\n",
    "function is [`toList`](https://hackage.haskell.org/package/base/docs/Data-Foldable.html#v:toList), that just takes a mapping and converts it to an\n",
    "associative list. Its type signature is `toList :: Map k a -> [(k, a)]`.\n",
    "If `Map k v` had a type constraint in its *data* declaration, the type for\n",
    "[`toList`](https://hackage.haskell.org/package/base/docs/Data-Foldable.html#v:toList) would have to be `toList :: (Ord k) => Map k a -> [(k, a)]`, even\n",
    "though the function doesn't do any comparing of keys by order.\n",
    "\n",
    "So don't put type constraints into *data* declarations even if it seems\n",
    "to make sense, because you'll have to put them into the function type\n",
    "declarations either way.\n",
    "\n",
    "Let's implement a 3D vector type and add some operations for it. We'll\n",
    "be using a parameterized type because even though it will usually\n",
    "contain numeric types, it will still support several of them."
   ]
  },
  {
   "cell_type": "code",
   "execution_count": 50,
   "metadata": {
    "attributes": {
     "classes": [
      "haskell:hs"
     ],
     "id": "",
     "name": "\"code\""
    }
   },
   "outputs": [],
   "source": [
    "data Vector a = Vector a a a deriving (Show)\n",
    "\n",
    "vplus :: (Num t) => Vector t -> Vector t -> Vector t\n",
    "(Vector i j k) `vplus` (Vector l m n) = Vector (i+l) (j+m) (k+n)\n",
    "\n",
    "vectMult :: (Num t) => Vector t -> t -> Vector t\n",
    "(Vector i j k) `vectMult` m = Vector (i*m) (j*m) (k*m)\n",
    "\n",
    "scalarMult :: (Num t) => Vector t -> Vector t -> t\n",
    "(Vector i j k) `scalarMult` (Vector l m n) = i*l + j*m + k*n"
   ]
  },
  {
   "cell_type": "markdown",
   "metadata": {},
   "source": [
    "`vplus` is for adding two vectors together. Two vectors are added just by\n",
    "adding their corresponding components. `scalarMult` is for the scalar\n",
    "product of two vectors and `vectMult` is for multiplying a vector with a\n",
    "scalar. These functions can operate on types of `Vector Int`,\n",
    "`Vector Integer`, `Vector Float`,\n",
    "whatever, as long as the `a` from `Vector a` is from\n",
    "the [`Num`](https://hackage.haskell.org/package/base/docs/Prelude.html#t:Num) typeclass. Also, if you examine the type declaration for these\n",
    "functions, you'll see that they can operate only on vectors of the same\n",
    "type and the numbers involved must also be of the type that is contained\n",
    "in the vectors. Notice that we didn't put a [`Num`](https://hackage.haskell.org/package/base/docs/Prelude.html#t:Num) class constraint in the\n",
    "*data* declaration, because we'd have to repeat it in the functions\n",
    "anyway.\n",
    "\n",
    "Once again, it's very important to distinguish between the type\n",
    "constructor and the value constructor. When declaring a data type, the\n",
    "part before the `=` is the type constructor and the constructors after it\n",
    "(possibly separated by `|`'s) are value constructors. Giving a function a\n",
    "type of `Vector t t t -> Vector t t t -> t` would be wrong, because we\n",
    "have to put types in type declaration and the vector *type* constructor\n",
    "takes only one parameter, whereas the value constructor takes three.\n",
    "Let's play around with our vectors."
   ]
  },
  {
   "cell_type": "code",
   "execution_count": 51,
   "metadata": {
    "attributes": {
     "classes": [
      "haskell:hs"
     ],
     "id": "",
     "name": "\"code\""
    }
   },
   "outputs": [
    {
     "data": {
      "text/plain": [
       "Vector 12 7 16"
      ]
     },
     "metadata": {},
     "output_type": "display_data"
    }
   ],
   "source": [
    "Vector 3 5 8 `vplus` Vector 9 2 8"
   ]
  },
  {
   "cell_type": "code",
   "execution_count": 52,
   "metadata": {
    "attributes": {
     "classes": [
      "haskell:hs"
     ],
     "id": "",
     "name": "\"code\""
    }
   },
   "outputs": [
    {
     "data": {
      "text/plain": [
       "Vector 12 9 19"
      ]
     },
     "metadata": {},
     "output_type": "display_data"
    }
   ],
   "source": [
    "Vector 3 5 8 `vplus` Vector 9 2 8 `vplus` Vector 0 2 3"
   ]
  },
  {
   "cell_type": "code",
   "execution_count": 53,
   "metadata": {
    "attributes": {
     "classes": [
      "haskell:hs"
     ],
     "id": "",
     "name": "\"code\""
    }
   },
   "outputs": [
    {
     "data": {
      "text/plain": [
       "Vector 30 90 70"
      ]
     },
     "metadata": {},
     "output_type": "display_data"
    }
   ],
   "source": [
    "Vector 3 9 7 `vectMult` 10"
   ]
  },
  {
   "cell_type": "code",
   "execution_count": 54,
   "metadata": {
    "attributes": {
     "classes": [
      "haskell:hs"
     ],
     "id": "",
     "name": "\"code\""
    }
   },
   "outputs": [
    {
     "data": {
      "text/plain": [
       "74.0"
      ]
     },
     "metadata": {},
     "output_type": "display_data"
    }
   ],
   "source": [
    "Vector 4 9 5 `scalarMult` Vector 9.0 2.0 4.0"
   ]
  },
  {
   "cell_type": "code",
   "execution_count": 55,
   "metadata": {
    "attributes": {
     "classes": [
      "haskell:hs"
     ],
     "id": "",
     "name": "\"code\""
    }
   },
   "outputs": [
    {
     "data": {
      "text/plain": [
       "Vector 148 666 222"
      ]
     },
     "metadata": {},
     "output_type": "display_data"
    }
   ],
   "source": [
    "Vector 2 9 3 `vectMult` (Vector 4 9 5 `scalarMult` Vector 9 2 4)"
   ]
  },
  {
   "cell_type": "markdown",
   "metadata": {},
   "source": [
    "Derived instances\n",
    "-----------------\n",
    "\n",
    "<img src=\"img/gob.png\" title=\"gob\" style=\"background-color:white;float:right;margin-left:2em;\" />\n",
    "\n",
    "In the [Typeclasses 101](http://learnyouahaskell.com/types-and-typeclasses#typeclasses-101) section,\n",
    "we explained the basics of typeclasses. We explained that a typeclass is\n",
    "a sort of an interface that defines some behavior. A type can be made an\n",
    "*instance* of a typeclass if it supports that behavior. Example: the [`Int`](https://hackage.haskell.org/package/base/docs/Prelude.html#t:Int)\n",
    "type is an instance of the `Eq` typeclass because the `Eq` typeclass defines\n",
    "behavior for stuff that can be equated. And because integers can be\n",
    "equated, [`Int`](https://hackage.haskell.org/package/base/docs/Prelude.html#t:Int) is a part of the `Eq` typeclass. The real usefulness comes\n",
    "with the functions that act as the interface for `Eq`, namely [`==`](https://hackage.haskell.org/package/base/docs/Prelude.html#v:-61--61-) and [`/=`](https://hackage.haskell.org/package/base/docs/Prelude.html#v:-47--61-).\n",
    "If a type is a part of the `Eq` typeclass, we can use the [`==`](https://hackage.haskell.org/package/base/docs/Prelude.html#v:-61--61-) functions\n",
    "with values of that type. That's why expressions like `4 == 4` and\n",
    "`\"foo\" /= \"bar\"` typecheck.\n",
    "\n",
    "We also mentioned that they're often confused with classes in languages\n",
    "like Java, Python, C++ and the like, which then baffles a lot of people.\n",
    "In those languages, classes are a blueprint from which we then create\n",
    "objects that contain state and can do some actions. Typeclasses are more\n",
    "like interfaces. We don't make data from typeclasses. Instead, we first\n",
    "make our data type and then we think about what it can act like. If it\n",
    "can act like something that can be equated, we make it an instance of\n",
    "the `Eq` typeclass. If it can act like something that can be ordered, we\n",
    "make it an instance of the [`Ord`](https://hackage.haskell.org/package/base/docs/Prelude.html#t:Ord) typeclass.\n",
    "\n",
    "In the next section, we'll take a look at how we can manually make our\n",
    "types instances of typeclasses by implementing the functions defined by\n",
    "the typeclasses. But right now, let's see how Haskell can automatically\n",
    "make our type an instance of any of the following typeclasses: `Eq`, [`Ord`](https://hackage.haskell.org/package/base/docs/Prelude.html#t:Ord),\n",
    "[`Enum`](https://hackage.haskell.org/package/base/docs/Prelude.html#t:Enum), [`Bounded`](https://hackage.haskell.org/package/base/docs/Prelude.html#t:Bounded), [`Show`](https://hackage.haskell.org/package/base/docs/Prelude.html#t:Show), [`Read`](https://hackage.haskell.org/package/base/docs/Prelude.html#t:Read). Haskell can derive the behavior of our types\n",
    "in these contexts if we use the *deriving* keyword when making our data\n",
    "type.\n",
    "\n",
    "Consider this data type:"
   ]
  },
  {
   "cell_type": "code",
   "execution_count": 56,
   "metadata": {
    "attributes": {
     "classes": [
      "haskell:hs"
     ],
     "id": "",
     "name": "\"code\""
    }
   },
   "outputs": [],
   "source": [
    "data Person = Person { firstName :: String\n",
    "                     , lastName :: String\n",
    "                     , age :: Int\n",
    "                     }"
   ]
  },
  {
   "cell_type": "markdown",
   "metadata": {},
   "source": [
    "It describes a person. Let's assume that no two people have the same\n",
    "combination of first name, last name and age. Now, if we have records\n",
    "for two people, does it make sense to see if they represent the same\n",
    "person? Sure it does. We can try to equate them and see if they're equal\n",
    "or not. That's why it would make sense for this type to be part of the\n",
    "`Eq` typeclass. We'll derive the instance."
   ]
  },
  {
   "cell_type": "code",
   "execution_count": 57,
   "metadata": {
    "attributes": {
     "classes": [
      "haskell:hs"
     ],
     "id": "",
     "name": "\"code\""
    }
   },
   "outputs": [],
   "source": [
    "data Person = Person { firstName :: String\n",
    "                     , lastName :: String\n",
    "                     , age :: Int\n",
    "                     } deriving (Eq)"
   ]
  },
  {
   "cell_type": "markdown",
   "metadata": {},
   "source": [
    "When we derive the `Eq` instance for a type and then try to compare two\n",
    "values of that type with [`==`](https://hackage.haskell.org/package/base/docs/Prelude.html#v:-61--61-) or [`/=`](https://hackage.haskell.org/package/base/docs/Prelude.html#v:-47--61-), Haskell will see if the value\n",
    "constructors match (there's only one value constructor here though) and\n",
    "then it will check if all the data contained inside matches by testing\n",
    "each pair of fields with [`==`](https://hackage.haskell.org/package/base/docs/Prelude.html#v:-61--61-). There's only one catch though, the types of\n",
    "all the fields also have to be part of the `Eq` typeclass. But since both\n",
    "[`String`](https://hackage.haskell.org/package/base/docs/Prelude.html#t:String) and [`Int`](https://hackage.haskell.org/package/base/docs/Prelude.html#t:Int) are, we're OK. Let's test our `Eq` instance."
   ]
  },
  {
   "cell_type": "code",
   "execution_count": 58,
   "metadata": {
    "attributes": {
     "classes": [
      "haskell:hs"
     ],
     "id": "",
     "name": "\"code\""
    }
   },
   "outputs": [],
   "source": [
    "let mikeD = Person {firstName = \"Michael\", lastName = \"Diamond\", age = 43}\n",
    "let adRock = Person {firstName = \"Adam\", lastName = \"Horovitz\", age = 41}\n",
    "let mca = Person {firstName = \"Adam\", lastName = \"Yauch\", age = 44}"
   ]
  },
  {
   "cell_type": "code",
   "execution_count": 59,
   "metadata": {
    "attributes": {
     "classes": [
      "haskell:hs"
     ],
     "id": "",
     "name": "\"code\""
    }
   },
   "outputs": [
    {
     "data": {
      "text/plain": [
       "False"
      ]
     },
     "metadata": {},
     "output_type": "display_data"
    }
   ],
   "source": [
    "mca == adRock"
   ]
  },
  {
   "cell_type": "code",
   "execution_count": 60,
   "metadata": {
    "attributes": {
     "classes": [
      "haskell:hs"
     ],
     "id": "",
     "name": "\"code\""
    }
   },
   "outputs": [
    {
     "data": {
      "text/plain": [
       "False"
      ]
     },
     "metadata": {},
     "output_type": "display_data"
    }
   ],
   "source": [
    "mikeD == adRock"
   ]
  },
  {
   "cell_type": "code",
   "execution_count": 61,
   "metadata": {
    "attributes": {
     "classes": [
      "haskell:hs"
     ],
     "id": "",
     "name": "\"code\""
    }
   },
   "outputs": [
    {
     "data": {
      "text/plain": [
       "True"
      ]
     },
     "metadata": {},
     "output_type": "display_data"
    }
   ],
   "source": [
    "mikeD == mikeD"
   ]
  },
  {
   "cell_type": "code",
   "execution_count": 62,
   "metadata": {
    "attributes": {
     "classes": [
      "haskell:hs"
     ],
     "id": "",
     "name": "\"code\""
    }
   },
   "outputs": [
    {
     "data": {
      "text/plain": [
       "True"
      ]
     },
     "metadata": {},
     "output_type": "display_data"
    }
   ],
   "source": [
    "mikeD == Person {firstName = \"Michael\", lastName = \"Diamond\", age = 43}"
   ]
  },
  {
   "cell_type": "markdown",
   "metadata": {},
   "source": [
    "Of course, since `Person` is now in `Eq`, we can use it as the `a` for all\n",
    "functions that have a class constraint of `Eq a` in their type signature,\n",
    "such as [`elem`](https://hackage.haskell.org/package/base/docs/Prelude.html#v:elem)."
   ]
  },
  {
   "cell_type": "code",
   "execution_count": 63,
   "metadata": {
    "attributes": {
     "classes": [
      "haskell:hs"
     ],
     "id": "",
     "name": "\"code\""
    }
   },
   "outputs": [
    {
     "data": {
      "text/plain": [
       "True"
      ]
     },
     "metadata": {},
     "output_type": "display_data"
    }
   ],
   "source": [
    "let beastieBoys = [mca, adRock, mikeD]\n",
    "mikeD `elem` beastieBoys"
   ]
  },
  {
   "cell_type": "markdown",
   "metadata": {},
   "source": [
    "The [`Show`](https://hackage.haskell.org/package/base/docs/Prelude.html#t:Show) and [`Read`](https://hackage.haskell.org/package/base/docs/Prelude.html#t:Read) typeclasses are for things that can be converted to or\n",
    "from strings, respectively. Like with `Eq`, if a type's constructors have\n",
    "fields, their type has to be a part of [`Show`](https://hackage.haskell.org/package/base/docs/Prelude.html#t:Show) or [`Read`](https://hackage.haskell.org/package/base/docs/Prelude.html#t:Read) if we want to make\n",
    "our type an instance of them. Let's make our `Person` data type a part of\n",
    "[`Show`](https://hackage.haskell.org/package/base/docs/Prelude.html#t:Show) and [`Read`](https://hackage.haskell.org/package/base/docs/Prelude.html#t:Read) as well."
   ]
  },
  {
   "cell_type": "code",
   "execution_count": 64,
   "metadata": {
    "attributes": {
     "classes": [
      "haskell:hs"
     ],
     "id": "",
     "name": "\"code\""
    }
   },
   "outputs": [],
   "source": [
    "data Person = Person { firstName :: String\n",
    "                     , lastName :: String\n",
    "                     , age :: Int\n",
    "                     } deriving (Eq, Show, Read)"
   ]
  },
  {
   "cell_type": "markdown",
   "metadata": {},
   "source": [
    "Now we can print a person out to the terminal."
   ]
  },
  {
   "cell_type": "code",
   "execution_count": 65,
   "metadata": {
    "attributes": {
     "classes": [
      "haskell:hs"
     ],
     "id": "",
     "name": "\"code\""
    }
   },
   "outputs": [
    {
     "data": {
      "text/plain": [
       "Person {firstName = \"Michael\", lastName = \"Diamond\", age = 43}"
      ]
     },
     "metadata": {},
     "output_type": "display_data"
    }
   ],
   "source": [
    "let mikeD = Person {firstName = \"Michael\", lastName = \"Diamond\", age = 43}\n",
    "mikeD"
   ]
  },
  {
   "cell_type": "code",
   "execution_count": 66,
   "metadata": {
    "attributes": {
     "classes": [
      "haskell:hs"
     ],
     "id": "",
     "name": "\"code\""
    }
   },
   "outputs": [
    {
     "data": {
      "text/plain": [
       "\"mikeD is: Person {firstName = \\\"Michael\\\", lastName = \\\"Diamond\\\", age = 43}\""
      ]
     },
     "metadata": {},
     "output_type": "display_data"
    }
   ],
   "source": [
    "\"mikeD is: \" ++ show mikeD"
   ]
  },
  {
   "cell_type": "markdown",
   "metadata": {},
   "source": [
    "Had we tried to print a person on the terminal before making the `Person`\n",
    "data type part of [`Show`](https://hackage.haskell.org/package/base/docs/Prelude.html#t:Show), Haskell would have complained at us, claiming it\n",
    "doesn't know how to represent a person as a string. But now that we've\n",
    "derived a [`Show`](https://hackage.haskell.org/package/base/docs/Prelude.html#t:Show) instance for it, it does know.\n",
    "\n",
    "[`Read`](https://hackage.haskell.org/package/base/docs/Prelude.html#t:Read) is pretty much the inverse typeclass of [`Show`](https://hackage.haskell.org/package/base/docs/Prelude.html#t:Show). [`Show`](https://hackage.haskell.org/package/base/docs/Prelude.html#t:Show) is for\n",
    "converting values of our a type to a string, [`Read`](https://hackage.haskell.org/package/base/docs/Prelude.html#t:Read) is for converting\n",
    "strings to values of our type. Remember though, when we use the [`read`](https://hackage.haskell.org/package/base/docs/Prelude.html#v:read)\n",
    "function, we have to use an explicit type annotation to tell Haskell\n",
    "which type we want to get as a result. If we don't make the type we want\n",
    "as a result explicit, Haskell doesn't know which type we want."
   ]
  },
  {
   "cell_type": "code",
   "execution_count": 67,
   "metadata": {
    "attributes": {
     "classes": [
      "haskell:hs"
     ],
     "id": "",
     "name": "\"code\""
    }
   },
   "outputs": [
    {
     "data": {
      "text/plain": [
       "Person {firstName = \"Michael\", lastName = \"Diamond\", age = 43}"
      ]
     },
     "metadata": {},
     "output_type": "display_data"
    }
   ],
   "source": [
    "read \"Person {firstName =\\\"Michael\\\", lastName =\\\"Diamond\\\", age = 43}\" :: Person"
   ]
  },
  {
   "cell_type": "markdown",
   "metadata": {},
   "source": [
    "If we use the result of our [`read`](https://hackage.haskell.org/package/base/docs/Prelude.html#v:read) later on in a way that Haskell can\n",
    "infer that it should read it as a person, we don't have to use type\n",
    "annotation."
   ]
  },
  {
   "cell_type": "code",
   "execution_count": 68,
   "metadata": {
    "attributes": {
     "classes": [
      "haskell:hs"
     ],
     "id": "",
     "name": "\"code\""
    }
   },
   "outputs": [
    {
     "data": {
      "text/plain": [
       "True"
      ]
     },
     "metadata": {},
     "output_type": "display_data"
    }
   ],
   "source": [
    "read \"Person {firstName =\\\"Michael\\\", lastName =\\\"Diamond\\\", age = 43}\" == mikeD"
   ]
  },
  {
   "cell_type": "markdown",
   "metadata": {},
   "source": [
    "We can also read parameterized types, but we have to fill in the type\n",
    "parameters. So we can't do `read \"Just 't'\" :: Maybe a`, but we can do\n",
    "`read \"Just 't'\" :: Maybe Char`.\n",
    "\n",
    "We can derive instances for the [`Ord`](https://hackage.haskell.org/package/base/docs/Prelude.html#t:Ord) type class, which is for types that\n",
    "have values that can be ordered. If we compare two values of the same\n",
    "type that were made using different constructors, the value which was\n",
    "made with a constructor that's defined first is considered smaller. For\n",
    "instance, consider the [`Bool`](https://hackage.haskell.org/package/base/docs/Prelude.html#t:Bool) type, which can have a value of either [`False`](https://hackage.haskell.org/package/base/docs/Prelude.html#v:False)\n",
    "or [`True`](https://hackage.haskell.org/package/base/docs/Prelude.html#v:True). For the purpose of seeing how it behaves when compared, we can\n",
    "think of it as being implemented like this:"
   ]
  },
  {
   "cell_type": "markdown",
   "metadata": {
    "attributes": {
     "classes": [
      "haskell:hs"
     ],
     "id": "",
     "name": "\"code\""
    }
   },
   "source": [
    "<pre><code>data Bool = False | True deriving (Ord)</code></pre>"
   ]
  },
  {
   "cell_type": "markdown",
   "metadata": {},
   "source": [
    "Because the [`False`](https://hackage.haskell.org/package/base/docs/Prelude.html#v:False) value constructor is specified first and the [`True`](https://hackage.haskell.org/package/base/docs/Prelude.html#v:True)\n",
    "value constructor is specified after it, we can consider [`True`](https://hackage.haskell.org/package/base/docs/Prelude.html#v:True) as greater\n",
    "than [`False`](https://hackage.haskell.org/package/base/docs/Prelude.html#v:False)."
   ]
  },
  {
   "cell_type": "code",
   "execution_count": 69,
   "metadata": {
    "attributes": {
     "classes": [
      "haskell:hs"
     ],
     "id": "",
     "name": "\"code\""
    }
   },
   "outputs": [
    {
     "data": {
      "text/plain": [
       "GT"
      ]
     },
     "metadata": {},
     "output_type": "display_data"
    }
   ],
   "source": [
    "True `compare` False"
   ]
  },
  {
   "cell_type": "code",
   "execution_count": 70,
   "metadata": {
    "attributes": {
     "classes": [
      "haskell:hs"
     ],
     "id": "",
     "name": "\"code\""
    }
   },
   "outputs": [
    {
     "data": {
      "text/plain": [
       "True"
      ]
     },
     "metadata": {},
     "output_type": "display_data"
    }
   ],
   "source": [
    "True > False"
   ]
  },
  {
   "cell_type": "code",
   "execution_count": 71,
   "metadata": {
    "attributes": {
     "classes": [
      "haskell:hs"
     ],
     "id": "",
     "name": "\"code\""
    }
   },
   "outputs": [
    {
     "data": {
      "text/plain": [
       "False"
      ]
     },
     "metadata": {},
     "output_type": "display_data"
    }
   ],
   "source": [
    "True < False"
   ]
  },
  {
   "cell_type": "markdown",
   "metadata": {},
   "source": [
    "In the `Maybe a` data type, the [`Nothing`](https://hackage.haskell.org/package/base/docs/Prelude.html#v:Nothing) value constructor is specified\n",
    "before the [`Just`](https://hackage.haskell.org/package/base/docs/Prelude.html#v:Just) value constructor, so a value of [`Nothing`](https://hackage.haskell.org/package/base/docs/Prelude.html#v:Nothing) is always\n",
    "smaller than a value of `Just something`, even if that something is minus\n",
    "one billion trillion. But if we compare two [`Just`](https://hackage.haskell.org/package/base/docs/Prelude.html#v:Just) values, then it goes to\n",
    "compare what's inside them."
   ]
  },
  {
   "cell_type": "code",
   "execution_count": 72,
   "metadata": {
    "attributes": {
     "classes": [
      "haskell:hs"
     ],
     "id": "",
     "name": "\"code\""
    }
   },
   "outputs": [
    {
     "data": {
      "text/plain": [
       "True"
      ]
     },
     "metadata": {},
     "output_type": "display_data"
    }
   ],
   "source": [
    "Nothing < Just 100"
   ]
  },
  {
   "cell_type": "code",
   "execution_count": 73,
   "metadata": {
    "attributes": {
     "classes": [
      "haskell:hs"
     ],
     "id": "",
     "name": "\"code\""
    }
   },
   "outputs": [
    {
     "data": {
      "text/plain": [
       "False"
      ]
     },
     "metadata": {},
     "output_type": "display_data"
    }
   ],
   "source": [
    "Nothing > Just (-49999)"
   ]
  },
  {
   "cell_type": "code",
   "execution_count": 74,
   "metadata": {
    "attributes": {
     "classes": [
      "haskell:hs"
     ],
     "id": "",
     "name": "\"code\""
    }
   },
   "outputs": [
    {
     "data": {
      "text/plain": [
       "GT"
      ]
     },
     "metadata": {},
     "output_type": "display_data"
    }
   ],
   "source": [
    "Just 3 `compare` Just 2"
   ]
  },
  {
   "cell_type": "code",
   "execution_count": 75,
   "metadata": {
    "attributes": {
     "classes": [
      "haskell:hs"
     ],
     "id": "",
     "name": "\"code\""
    }
   },
   "outputs": [
    {
     "data": {
      "text/plain": [
       "True"
      ]
     },
     "metadata": {},
     "output_type": "display_data"
    }
   ],
   "source": [
    "Just 100 > Just 50"
   ]
  },
  {
   "cell_type": "markdown",
   "metadata": {},
   "source": [
    "But we can't do something like `Just (*3) > Just (*2)`, because `(*3)`\n",
    "and `(*2)` are functions, which aren't instances of Ord.\n",
    "\n",
    "We can easily use algebraic data types to make enumerations and the [`Enum`](https://hackage.haskell.org/package/base/docs/Prelude.html#t:Enum)\n",
    "and [`Bounded`](https://hackage.haskell.org/package/base/docs/Prelude.html#t:Bounded) typeclasses help us with that. Consider the following data\n",
    "type:"
   ]
  },
  {
   "cell_type": "markdown",
   "metadata": {
    "attributes": {
     "classes": [
      "haskell:hs"
     ],
     "id": "",
     "name": "\"code\""
    }
   },
   "source": [
    "<pre><code>data Day = Monday | Tuesday | Wednesday | Thursday | Friday | Saturday | Sunday</code></pre>"
   ]
  },
  {
   "cell_type": "markdown",
   "metadata": {},
   "source": [
    "Because all the value constructors are nullary (take no parameters, i.e.\n",
    "fields), we can make it part of the [`Enum`](https://hackage.haskell.org/package/base/docs/Prelude.html#t:Enum) typeclass. The [`Enum`](https://hackage.haskell.org/package/base/docs/Prelude.html#t:Enum) typeclass\n",
    "is for things that have predecessors and successors. We can also make it\n",
    "part of the [`Bounded`](https://hackage.haskell.org/package/base/docs/Prelude.html#t:Bounded) typeclass, which is for things that have a lowest\n",
    "possible value and highest possible value. And while we're at it, let's\n",
    "also make it an instance of all the other derivable typeclasses and see\n",
    "what we can do with it."
   ]
  },
  {
   "cell_type": "code",
   "execution_count": 76,
   "metadata": {
    "attributes": {
     "classes": [
      "haskell:hs"
     ],
     "id": "",
     "name": "\"code\""
    }
   },
   "outputs": [],
   "source": [
    "data Day = Monday | Tuesday | Wednesday | Thursday | Friday | Saturday | Sunday\n",
    "           deriving (Eq, Ord, Show, Read, Bounded, Enum)"
   ]
  },
  {
   "cell_type": "markdown",
   "metadata": {},
   "source": [
    "Because it's part of the [`Show`](https://hackage.haskell.org/package/base/docs/Prelude.html#t:Show) and [`Read`](https://hackage.haskell.org/package/base/docs/Prelude.html#t:Read) typeclasses, we can convert\n",
    "values of this type to and from strings."
   ]
  },
  {
   "cell_type": "code",
   "execution_count": 77,
   "metadata": {
    "attributes": {
     "classes": [
      "haskell:hs"
     ],
     "id": "",
     "name": "\"code\""
    }
   },
   "outputs": [
    {
     "data": {
      "text/plain": [
       "Wednesday"
      ]
     },
     "metadata": {},
     "output_type": "display_data"
    }
   ],
   "source": [
    "Wednesday"
   ]
  },
  {
   "cell_type": "code",
   "execution_count": 78,
   "metadata": {
    "attributes": {
     "classes": [
      "haskell:hs"
     ],
     "id": "",
     "name": "\"code\""
    }
   },
   "outputs": [
    {
     "data": {
      "text/plain": [
       "\"Wednesday\""
      ]
     },
     "metadata": {},
     "output_type": "display_data"
    }
   ],
   "source": [
    "show Wednesday"
   ]
  },
  {
   "cell_type": "code",
   "execution_count": 79,
   "metadata": {
    "attributes": {
     "classes": [
      "haskell:hs"
     ],
     "id": "",
     "name": "\"code\""
    }
   },
   "outputs": [
    {
     "data": {
      "text/plain": [
       "Saturday"
      ]
     },
     "metadata": {},
     "output_type": "display_data"
    }
   ],
   "source": [
    "read \"Saturday\" :: Day"
   ]
  },
  {
   "cell_type": "markdown",
   "metadata": {},
   "source": [
    "Because it's part of the `Eq` and [`Ord`](https://hackage.haskell.org/package/base/docs/Prelude.html#t:Ord) typeclasses, we can compare or\n",
    "equate days."
   ]
  },
  {
   "cell_type": "code",
   "execution_count": 80,
   "metadata": {
    "attributes": {
     "classes": [
      "haskell:hs"
     ],
     "id": "",
     "name": "\"code\""
    }
   },
   "outputs": [
    {
     "data": {
      "text/plain": [
       "False"
      ]
     },
     "metadata": {},
     "output_type": "display_data"
    }
   ],
   "source": [
    "Saturday == Sunday"
   ]
  },
  {
   "cell_type": "code",
   "execution_count": 81,
   "metadata": {
    "attributes": {
     "classes": [
      "haskell:hs"
     ],
     "id": "",
     "name": "\"code\""
    }
   },
   "outputs": [
    {
     "data": {
      "text/plain": [
       "True"
      ]
     },
     "metadata": {},
     "output_type": "display_data"
    }
   ],
   "source": [
    "Saturday == Saturday"
   ]
  },
  {
   "cell_type": "code",
   "execution_count": 82,
   "metadata": {
    "attributes": {
     "classes": [
      "haskell:hs"
     ],
     "id": "",
     "name": "\"code\""
    }
   },
   "outputs": [
    {
     "data": {
      "text/plain": [
       "True"
      ]
     },
     "metadata": {},
     "output_type": "display_data"
    }
   ],
   "source": [
    "Saturday > Friday"
   ]
  },
  {
   "cell_type": "code",
   "execution_count": 83,
   "metadata": {
    "attributes": {
     "classes": [
      "haskell:hs"
     ],
     "id": "",
     "name": "\"code\""
    }
   },
   "outputs": [
    {
     "data": {
      "text/plain": [
       "LT"
      ]
     },
     "metadata": {},
     "output_type": "display_data"
    }
   ],
   "source": [
    "Monday `compare` Wednesday"
   ]
  },
  {
   "cell_type": "markdown",
   "metadata": {},
   "source": [
    "It's also part of [`Bounded`](https://hackage.haskell.org/package/base/docs/Prelude.html#t:Bounded), so we can get the lowest and highest day."
   ]
  },
  {
   "cell_type": "code",
   "execution_count": 84,
   "metadata": {
    "attributes": {
     "classes": [
      "haskell:hs"
     ],
     "id": "",
     "name": "\"code\""
    }
   },
   "outputs": [
    {
     "data": {
      "text/plain": [
       "Monday"
      ]
     },
     "metadata": {},
     "output_type": "display_data"
    }
   ],
   "source": [
    "(minBound :: Day)"
   ]
  },
  {
   "cell_type": "code",
   "execution_count": 85,
   "metadata": {
    "attributes": {
     "classes": [
      "haskell:hs"
     ],
     "id": "",
     "name": "\"code\""
    }
   },
   "outputs": [
    {
     "data": {
      "text/plain": [
       "Sunday"
      ]
     },
     "metadata": {},
     "output_type": "display_data"
    }
   ],
   "source": [
    "(maxBound :: Day)"
   ]
  },
  {
   "cell_type": "markdown",
   "metadata": {},
   "source": [
    "It's also an instance of [`Enum`](https://hackage.haskell.org/package/base/docs/Prelude.html#t:Enum). We can get predecessors and successors of\n",
    "days and we can make list ranges from them!"
   ]
  },
  {
   "cell_type": "code",
   "execution_count": 86,
   "metadata": {
    "attributes": {
     "classes": [
      "haskell:hs"
     ],
     "id": "",
     "name": "\"code\""
    }
   },
   "outputs": [
    {
     "data": {
      "text/plain": [
       "Tuesday"
      ]
     },
     "metadata": {},
     "output_type": "display_data"
    }
   ],
   "source": [
    "succ Monday"
   ]
  },
  {
   "cell_type": "code",
   "execution_count": 87,
   "metadata": {
    "attributes": {
     "classes": [
      "haskell:hs"
     ],
     "id": "",
     "name": "\"code\""
    }
   },
   "outputs": [
    {
     "data": {
      "text/plain": [
       "Friday"
      ]
     },
     "metadata": {},
     "output_type": "display_data"
    }
   ],
   "source": [
    "pred Saturday"
   ]
  },
  {
   "cell_type": "code",
   "execution_count": 88,
   "metadata": {
    "attributes": {
     "classes": [
      "haskell:hs"
     ],
     "id": "",
     "name": "\"code\""
    }
   },
   "outputs": [
    {
     "data": {
      "text/plain": [
       "[Thursday,Friday,Saturday,Sunday]"
      ]
     },
     "metadata": {},
     "output_type": "display_data"
    }
   ],
   "source": [
    "[Thursday .. Sunday]"
   ]
  },
  {
   "cell_type": "code",
   "execution_count": 89,
   "metadata": {
    "attributes": {
     "classes": [
      "haskell:hs"
     ],
     "id": "",
     "name": "\"code\""
    }
   },
   "outputs": [
    {
     "data": {
      "text/plain": [
       "[Monday,Tuesday,Wednesday,Thursday,Friday,Saturday,Sunday]"
      ]
     },
     "metadata": {},
     "output_type": "display_data"
    }
   ],
   "source": [
    "[minBound .. maxBound] :: [Day]"
   ]
  },
  {
   "cell_type": "markdown",
   "metadata": {},
   "source": [
    "That's pretty awesome.\n",
    "\n",
    "<a name=\"type-synonyms\"></a>\n",
    "\n",
    "Type synonyms\n",
    "-------------\n",
    "\n",
    "Previously, we mentioned that when writing types, the `[Char]` and [`String`](https://hackage.haskell.org/package/base/docs/Prelude.html#t:String)\n",
    "types are equivalent and interchangeable. That's implemented with *type\n",
    "synonyms*. Type synonyms don't really do anything per se, they're just\n",
    "about giving some types different names so that they make more sense to\n",
    "someone reading our code and documentation. Here's how the standard\n",
    "library defines [`String`](https://hackage.haskell.org/package/base/docs/Prelude.html#t:String) as a synonym for `[Char]`."
   ]
  },
  {
   "cell_type": "code",
   "execution_count": 90,
   "metadata": {
    "attributes": {
     "classes": [
      "haskell:hs"
     ],
     "id": "",
     "name": "\"code\""
    }
   },
   "outputs": [],
   "source": [
    " type String = [Char]\n"
   ]
  },
  {
   "cell_type": "markdown",
   "metadata": {},
   "source": [
    "<img src=\"img/chicken.png\" title=\"chicken\" style=\"background-color:white;float:left;margin-right:2em;\" />\n",
    "\n",
    "We've introduced the *type* keyword. The keyword might be misleading to\n",
    "some, because we're not actually making anything new (we did that with\n",
    "the *data* keyword), but we're just making a synonym for an already\n",
    "existing type.\n",
    "\n",
    "If we make a function that converts a string to uppercase and call it\n",
    "`toUpperString` or something, we can give it a type declaration of\n",
    "`toUpperString :: [Char] -> [Char]` or\n",
    "`toUpperString :: String -> String`.\n",
    "Both of these are essentially the same, only the latter is nicer\n",
    "to read.\n",
    "\n",
    "When we were dealing with the `Data.Map` module, we first represented a\n",
    "phonebook with an association list before converting it into a map. As\n",
    "we've already found out, an association list is a list of key-value\n",
    "pairs. Let's look at a phonebook that we had."
   ]
  },
  {
   "cell_type": "code",
   "execution_count": 91,
   "metadata": {
    "attributes": {
     "classes": [
      "haskell:hs"
     ],
     "id": "",
     "name": "\"code\""
    }
   },
   "outputs": [],
   "source": [
    "phoneBook :: [(String,String)]\n",
    "phoneBook =\n",
    "    [(\"betty\",\"555-2938\")\n",
    "    ,(\"bonnie\",\"452-2928\")\n",
    "    ,(\"patsy\",\"493-2928\")\n",
    "    ,(\"lucille\",\"205-2928\")\n",
    "    ,(\"wendy\",\"939-8282\")\n",
    "    ,(\"penny\",\"853-2492\")\n",
    "    ]"
   ]
  },
  {
   "cell_type": "markdown",
   "metadata": {},
   "source": [
    "We see that the type of `phoneBook` is `[(String,String)]`. That tells us\n",
    "that it's an association list that maps from strings to strings, but not\n",
    "much else. Let's make a type synonym to convey some more information in\n",
    "the type declaration."
   ]
  },
  {
   "cell_type": "code",
   "execution_count": 92,
   "metadata": {
    "attributes": {
     "classes": [
      "haskell:hs"
     ],
     "id": "",
     "name": "\"code\""
    }
   },
   "outputs": [],
   "source": [
    "type PhoneBook = [(String,String)]"
   ]
  },
  {
   "cell_type": "markdown",
   "metadata": {},
   "source": [
    "Now the type declaration for our phonebook can be\n",
    "`phoneBook :: PhoneBook`. Let's make a type synonym for [`String`](https://hackage.haskell.org/package/base/docs/Prelude.html#t:String) as well."
   ]
  },
  {
   "cell_type": "code",
   "execution_count": 93,
   "metadata": {
    "attributes": {
     "classes": [
      "haskell:hs"
     ],
     "id": "",
     "name": "\"code\""
    }
   },
   "outputs": [],
   "source": [
    "type PhoneNumber = String\n",
    "type Name = String\n",
    "type PhoneBook = [(Name,PhoneNumber)]"
   ]
  },
  {
   "cell_type": "markdown",
   "metadata": {},
   "source": [
    "Giving the [`String`](https://hackage.haskell.org/package/base/docs/Prelude.html#t:String) type synonyms is something that Haskell programmers do\n",
    "when they want to convey more information about what strings in their\n",
    "functions should be used as and what they represent.\n",
    "\n",
    "So now, when we implement a function that takes a name and a number and\n",
    "sees if that name and number combination is in our phonebook, we can\n",
    "give it a very pretty and descriptive type declaration."
   ]
  },
  {
   "cell_type": "code",
   "execution_count": 94,
   "metadata": {
    "attributes": {
     "classes": [
      "haskell:hs"
     ],
     "id": "",
     "name": "\"code\""
    }
   },
   "outputs": [],
   "source": [
    "inPhoneBook :: Name -> PhoneNumber -> PhoneBook -> Bool\n",
    "inPhoneBook name pnumber pbook = (name,pnumber) `elem` pbook"
   ]
  },
  {
   "cell_type": "markdown",
   "metadata": {},
   "source": [
    "If we decided not to use type synonyms, our function would have a type\n",
    "of `String -> String -> [(String,String)] -> Bool`. In this case, the\n",
    "type declaration that took advantage of type synonyms is easier to\n",
    "understand. However, you shouldn't go overboard with them. We introduce\n",
    "type synonyms either to describe what some existing type represents in\n",
    "our functions (and thus our type declarations become better\n",
    "documentation) or when something has a long-ish type that's repeated a\n",
    "lot (like `[(String,String)]`) but represents something more specific in\n",
    "the context of our functions.\n",
    "\n",
    "Type synonyms can also be parameterized. If we want a type that\n",
    "represents an association list type but still want it to be general so\n",
    "it can use any type as the keys and values, we can do this:"
   ]
  },
  {
   "cell_type": "code",
   "execution_count": 95,
   "metadata": {
    "attributes": {
     "classes": [
      "haskell:hs"
     ],
     "id": "",
     "name": "\"code\""
    }
   },
   "outputs": [],
   "source": [
    "type AssocList k v = [(k,v)]"
   ]
  },
  {
   "cell_type": "markdown",
   "metadata": {},
   "source": [
    "Now, a function that gets the value by a key in an association list can\n",
    "have a type of `(Eq k) => k -> AssocList k v -> Maybe v`. `AssocList` is\n",
    "a type constructor that takes two types and produces a concrete type,\n",
    "like `AssocList Int String`, for instance.\n",
    "\n",
    "> __Fonzie says:__ Aaay! When I talk about *concrete types* I mean like\n",
    "> fully applied types like `Map Int String` or if we're dealin' with one of\n",
    "> them polymorphic functions, `[a]` or `(Ord a) => Maybe a` and stuff. And\n",
    "> like, sometimes me and the boys say that [`Maybe`](https://hackage.haskell.org/package/base/docs/Prelude.html#t:Maybe) is a type, but we don't\n",
    "> mean that, cause every idiot knows [`Maybe`](https://hackage.haskell.org/package/base/docs/Prelude.html#t:Maybe) is a type constructor. When I\n",
    "> apply an extra type to [`Maybe`](https://hackage.haskell.org/package/base/docs/Prelude.html#t:Maybe), like `Maybe String`, then I have a concrete\n",
    "> type. You know, values can only have types that are concrete types! So\n",
    "> in conclusion, live fast, love hard and don't let anybody else use your\n",
    "> comb!\n",
    "\n",
    "Just like we can partially apply functions to get new functions, we can\n",
    "partially apply type parameters and get new type constructors from them.\n",
    "Just like we call a function with too few parameters to get back a new\n",
    "function, we can specify a type constructor with too few type parameters\n",
    "and get back a partially applied type constructor. If we wanted a type\n",
    "that represents a map (from `Data.Map`) from integers to something, we\n",
    "could either do this:"
   ]
  },
  {
   "cell_type": "code",
   "execution_count": 96,
   "metadata": {
    "attributes": {
     "classes": [
      "haskell:hs"
     ],
     "id": "",
     "name": "\"code\""
    }
   },
   "outputs": [],
   "source": [
    "import qualified Data.Map as Map"
   ]
  },
  {
   "cell_type": "code",
   "execution_count": 97,
   "metadata": {
    "attributes": {
     "classes": [
      "haskell:hs"
     ],
     "id": "",
     "name": "\"code\""
    }
   },
   "outputs": [],
   "source": [
    "type IntMap v = Map.Map Int v"
   ]
  },
  {
   "cell_type": "markdown",
   "metadata": {},
   "source": [
    "Or we could do it like this:"
   ]
  },
  {
   "cell_type": "code",
   "execution_count": 98,
   "metadata": {
    "attributes": {
     "classes": [
      "haskell:hs"
     ],
     "id": "",
     "name": "\"code\""
    }
   },
   "outputs": [],
   "source": [
    "type IntMap = Map.Map Int"
   ]
  },
  {
   "cell_type": "markdown",
   "metadata": {},
   "source": [
    "Either way, the `IntMap` type constructor takes one parameter and that is\n",
    "the type of what the integers will point to.\n",
    "\n",
    "> __Oh yeah__. If you're going to try and implement this, you'll probably\n",
    "> going to do a qualified import of `Data.Map`. When you do a qualified\n",
    "> import, type constructors also have to be preceeded with a module name.\n",
    "> So you'd write `type IntMap = Map.Map Int`.\n",
    "\n",
    "Make sure that you really understand the distinction between type\n",
    "constructors and value constructors. Just because we made a type synonym\n",
    "called `IntMap` or `AssocList` doesn't mean that we can do stuff like\n",
    "`AssocList [(1,2),(4,5),(7,9)]`. All it means is that we can refer to its\n",
    "type by using different names. We can do\n",
    "`[(1,2),(3,5),(8,9)] :: AssocList Int Int`,\n",
    "which will make the numbers inside assume a type of\n",
    "[`Int`](https://hackage.haskell.org/package/base/docs/Prelude.html#t:Int), but we can still use that list as we would any normal list that has\n",
    "pairs of integers inside. Type synonyms (and types generally) can only\n",
    "be used in the type portion of Haskell. We're in Haskell's type portion\n",
    "whenever we're defining new types (so in *data* and *type* declarations)\n",
    "or when we're located after a `::`. The `::` is in type declarations or in\n",
    "type annotations.\n",
    "\n",
    "Another cool data type that takes two types as its parameters is the\n",
    "`Either a b` type. This is roughly how it's defined:"
   ]
  },
  {
   "cell_type": "markdown",
   "metadata": {
    "attributes": {
     "classes": [
      "haskell:hs"
     ],
     "id": "",
     "name": "\"code\""
    }
   },
   "source": [
    "<pre><code>data Either a b = Left a | Right b deriving (Eq, Ord, Read, Show)</code></pre>"
   ]
  },
  {
   "cell_type": "markdown",
   "metadata": {},
   "source": [
    "It has two value constructors. If the [`Left`](https://hackage.haskell.org/package/base/docs/Prelude.html#v:Left) is used, then its contents\n",
    "are of type `a` and if [`Right`](https://hackage.haskell.org/package/base/docs/Prelude.html#v:Right) is used, then its contents are of type b. So\n",
    "we can use this type to encapsulate a value of one type or another and\n",
    "then when we get a value of type `Either a b`, we usually pattern match on\n",
    "both [`Left`](https://hackage.haskell.org/package/base/docs/Prelude.html#v:Left) and [`Right`](https://hackage.haskell.org/package/base/docs/Prelude.html#v:Right) and we different stuff based on which one of them it\n",
    "was."
   ]
  },
  {
   "cell_type": "code",
   "execution_count": 99,
   "metadata": {
    "attributes": {
     "classes": [
      "haskell:hs"
     ],
     "id": "",
     "name": "\"code\""
    }
   },
   "outputs": [
    {
     "data": {
      "text/plain": [
       "Right 20"
      ]
     },
     "metadata": {},
     "output_type": "display_data"
    }
   ],
   "source": [
    "Right 20"
   ]
  },
  {
   "cell_type": "code",
   "execution_count": 100,
   "metadata": {
    "attributes": {
     "classes": [
      "haskell:hs"
     ],
     "id": "",
     "name": "\"code\""
    }
   },
   "outputs": [
    {
     "data": {
      "text/plain": [
       "Left \"w00t\""
      ]
     },
     "metadata": {},
     "output_type": "display_data"
    }
   ],
   "source": [
    "Left \"w00t\""
   ]
  },
  {
   "cell_type": "code",
   "execution_count": 101,
   "metadata": {
    "attributes": {
     "classes": [
      "haskell:hs"
     ],
     "id": "",
     "name": "\"code\""
    }
   },
   "outputs": [
    {
     "data": {
      "text/html": [
       "<style>/* Styles used for the Hoogle display in the pager */\n",
       ".hoogle-doc {\n",
       "display: block;\n",
       "padding-bottom: 1.3em;\n",
       "padding-left: 0.4em;\n",
       "}\n",
       ".hoogle-code {\n",
       "display: block;\n",
       "font-family: monospace;\n",
       "white-space: pre;\n",
       "}\n",
       ".hoogle-text {\n",
       "display: block;\n",
       "}\n",
       ".hoogle-name {\n",
       "color: green;\n",
       "font-weight: bold;\n",
       "}\n",
       ".hoogle-head {\n",
       "font-weight: bold;\n",
       "}\n",
       ".hoogle-sub {\n",
       "display: block;\n",
       "margin-left: 0.4em;\n",
       "}\n",
       ".hoogle-package {\n",
       "font-weight: bold;\n",
       "font-style: italic;\n",
       "}\n",
       ".hoogle-module {\n",
       "font-weight: bold;\n",
       "}\n",
       ".hoogle-class {\n",
       "font-weight: bold;\n",
       "}\n",
       ".get-type {\n",
       "color: green;\n",
       "font-weight: bold;\n",
       "font-family: monospace;\n",
       "display: block;\n",
       "white-space: pre-wrap;\n",
       "}\n",
       ".show-type {\n",
       "color: green;\n",
       "font-weight: bold;\n",
       "font-family: monospace;\n",
       "margin-left: 1em;\n",
       "}\n",
       ".mono {\n",
       "font-family: monospace;\n",
       "display: block;\n",
       "}\n",
       ".err-msg {\n",
       "color: red;\n",
       "font-style: italic;\n",
       "font-family: monospace;\n",
       "white-space: pre;\n",
       "display: block;\n",
       "}\n",
       "#unshowable {\n",
       "color: red;\n",
       "font-weight: bold;\n",
       "}\n",
       ".err-msg.in.collapse {\n",
       "padding-top: 0.7em;\n",
       "}\n",
       ".highlight-code {\n",
       "white-space: pre;\n",
       "font-family: monospace;\n",
       "}\n",
       ".suggestion-warning { \n",
       "font-weight: bold;\n",
       "color: rgb(200, 130, 0);\n",
       "}\n",
       ".suggestion-error { \n",
       "font-weight: bold;\n",
       "color: red;\n",
       "}\n",
       ".suggestion-name {\n",
       "font-weight: bold;\n",
       "}\n",
       "</style><span class='get-type'>Right 'a' :: forall {a}. Either a Char</span>"
      ],
      "text/plain": [
       "Right 'a' :: forall {a}. Either a Char"
      ]
     },
     "metadata": {},
     "output_type": "display_data"
    }
   ],
   "source": [
    ":t Right 'a'"
   ]
  },
  {
   "cell_type": "code",
   "execution_count": 102,
   "metadata": {
    "attributes": {
     "classes": [
      "haskell:hs"
     ],
     "id": "",
     "name": "\"code\""
    }
   },
   "outputs": [
    {
     "data": {
      "text/html": [
       "<style>/* Styles used for the Hoogle display in the pager */\n",
       ".hoogle-doc {\n",
       "display: block;\n",
       "padding-bottom: 1.3em;\n",
       "padding-left: 0.4em;\n",
       "}\n",
       ".hoogle-code {\n",
       "display: block;\n",
       "font-family: monospace;\n",
       "white-space: pre;\n",
       "}\n",
       ".hoogle-text {\n",
       "display: block;\n",
       "}\n",
       ".hoogle-name {\n",
       "color: green;\n",
       "font-weight: bold;\n",
       "}\n",
       ".hoogle-head {\n",
       "font-weight: bold;\n",
       "}\n",
       ".hoogle-sub {\n",
       "display: block;\n",
       "margin-left: 0.4em;\n",
       "}\n",
       ".hoogle-package {\n",
       "font-weight: bold;\n",
       "font-style: italic;\n",
       "}\n",
       ".hoogle-module {\n",
       "font-weight: bold;\n",
       "}\n",
       ".hoogle-class {\n",
       "font-weight: bold;\n",
       "}\n",
       ".get-type {\n",
       "color: green;\n",
       "font-weight: bold;\n",
       "font-family: monospace;\n",
       "display: block;\n",
       "white-space: pre-wrap;\n",
       "}\n",
       ".show-type {\n",
       "color: green;\n",
       "font-weight: bold;\n",
       "font-family: monospace;\n",
       "margin-left: 1em;\n",
       "}\n",
       ".mono {\n",
       "font-family: monospace;\n",
       "display: block;\n",
       "}\n",
       ".err-msg {\n",
       "color: red;\n",
       "font-style: italic;\n",
       "font-family: monospace;\n",
       "white-space: pre;\n",
       "display: block;\n",
       "}\n",
       "#unshowable {\n",
       "color: red;\n",
       "font-weight: bold;\n",
       "}\n",
       ".err-msg.in.collapse {\n",
       "padding-top: 0.7em;\n",
       "}\n",
       ".highlight-code {\n",
       "white-space: pre;\n",
       "font-family: monospace;\n",
       "}\n",
       ".suggestion-warning { \n",
       "font-weight: bold;\n",
       "color: rgb(200, 130, 0);\n",
       "}\n",
       ".suggestion-error { \n",
       "font-weight: bold;\n",
       "color: red;\n",
       "}\n",
       ".suggestion-name {\n",
       "font-weight: bold;\n",
       "}\n",
       "</style><span class='get-type'>Left True :: forall {b}. Either Bool b</span>"
      ],
      "text/plain": [
       "Left True :: forall {b}. Either Bool b"
      ]
     },
     "metadata": {},
     "output_type": "display_data"
    }
   ],
   "source": [
    ":t Left True"
   ]
  },
  {
   "cell_type": "markdown",
   "metadata": {},
   "source": [
    "So far, we've seen that `Maybe a` was mostly used to represent the results\n",
    "of computations that could have either failed or not. But sometimes,\n",
    "`Maybe a` isn't good enough because [`Nothing`](https://hackage.haskell.org/package/base/docs/Prelude.html#v:Nothing) doesn't really convey much\n",
    "information other than that something has failed. That's cool for\n",
    "functions that can fail in only one way or if we're just not interested\n",
    "in how and why they failed. A `Data.Map` lookup fails only if the key we\n",
    "were looking for wasn't in the map, so we know exactly what happened.\n",
    "However, when we're interested in how some function failed or why, we\n",
    "usually use the result type of `Either a b`, where `a` is some sort of type\n",
    "that can tell us something about the possible failure and `b` is the type\n",
    "of a successful computation. Hence, errors use the [`Left`](https://hackage.haskell.org/package/base/docs/Prelude.html#v:Left) value\n",
    "constructor while results use [`Right`](https://hackage.haskell.org/package/base/docs/Prelude.html#v:Right).\n",
    "\n",
    "An example: a high-school has lockers so that students have some place\n",
    "to put their Guns'n'Roses posters. Each locker has a code combination.\n",
    "When a student wants a new locker, they tell the locker supervisor which\n",
    "locker number they want and he gives them the code. However, if someone\n",
    "is already using that locker, he can't tell them the code for the locker\n",
    "and they have to pick a different one. We'll use a map from `Data.Map` to\n",
    "represent the lockers. It'll map from locker numbers to a pair of\n",
    "whether the locker is in use or not and the locker code."
   ]
  },
  {
   "cell_type": "code",
   "execution_count": 103,
   "metadata": {
    "attributes": {
     "classes": [
      "haskell:hs"
     ],
     "id": "",
     "name": "\"code\""
    }
   },
   "outputs": [],
   "source": [
    "import qualified Data.Map as Map\n",
    "\n",
    "data LockerState = Taken | Free deriving (Show, Eq)\n",
    "\n",
    "type Code = String\n",
    "\n",
    "type LockerMap = Map.Map Int (LockerState, Code)"
   ]
  },
  {
   "cell_type": "markdown",
   "metadata": {},
   "source": [
    "Simple stuff. We introduce a new data type to represent whether a locker\n",
    "is taken or free and we make a type synonym for the locker code. We also\n",
    "make a type synonym for the type that maps from integers to pairs of\n",
    "locker state and code. And now, we're going to make a function that\n",
    "searches for the code in a locker map. We're going to use an\n",
    "`Either String Code` type to represent our result, because our lookup can fail in\n",
    "two ways — the locker can be taken, in which case we can't tell the code\n",
    "or the locker number might not exist at all. If the lookup fails, we're\n",
    "just going to use a [`String`](https://hackage.haskell.org/package/base/docs/Prelude.html#t:String) to tell what's happened."
   ]
  },
  {
   "cell_type": "code",
   "execution_count": 104,
   "metadata": {
    "attributes": {
     "classes": [
      "haskell:hs"
     ],
     "id": "",
     "name": "\"code\""
    }
   },
   "outputs": [],
   "source": [
    "lockerLookup :: Int -> LockerMap -> Either String Code\n",
    "lockerLookup lockerNumber map =\n",
    "    case Map.lookup lockerNumber map of\n",
    "        Nothing -> Left $ \"Locker number \" ++ show lockerNumber ++ \" doesn't exist!\"\n",
    "        Just (state, code) -> if state /= Taken\n",
    "                                then Right code\n",
    "                                else Left $ \"Locker \" ++ show lockerNumber ++ \" is already taken!\""
   ]
  },
  {
   "cell_type": "markdown",
   "metadata": {},
   "source": [
    "We do a normal lookup in the map. If we get a [`Nothing`](https://hackage.haskell.org/package/base/docs/Prelude.html#v:Nothing), we return a value\n",
    "of type `Left String`, saying that the locker doesn't exist at all. If we\n",
    "do find it, then we do an additional check to see if the locker is\n",
    "taken. If it is, return a [`Left`](https://hackage.haskell.org/package/base/docs/Prelude.html#v:Left) saying that it's already taken. If it\n",
    "isn't, then return a value of type `Right Code`, in which we give the\n",
    "student the correct code for the locker. It's actually a `Right String`,\n",
    "but we introduced that type synonym to introduce some additional\n",
    "documentation into the type declaration. Here's an example map:"
   ]
  },
  {
   "cell_type": "code",
   "execution_count": 105,
   "metadata": {
    "attributes": {
     "classes": [
      "haskell:hs"
     ],
     "id": "",
     "name": "\"code\""
    }
   },
   "outputs": [],
   "source": [
    "lockers :: LockerMap\n",
    "lockers = Map.fromList\n",
    "    [(100,(Taken,\"ZD39I\"))\n",
    "    ,(101,(Free,\"JAH3I\"))\n",
    "    ,(103,(Free,\"IQSA9\"))\n",
    "    ,(105,(Free,\"QOTSA\"))\n",
    "    ,(109,(Taken,\"893JJ\"))\n",
    "    ,(110,(Taken,\"99292\"))\n",
    "    ]"
   ]
  },
  {
   "cell_type": "markdown",
   "metadata": {},
   "source": [
    "Now let's try looking up some locker codes."
   ]
  },
  {
   "cell_type": "code",
   "execution_count": 106,
   "metadata": {
    "attributes": {
     "classes": [
      "haskell:hs"
     ],
     "id": "",
     "name": "\"code\""
    }
   },
   "outputs": [
    {
     "data": {
      "text/plain": [
       "Right \"JAH3I\""
      ]
     },
     "metadata": {},
     "output_type": "display_data"
    }
   ],
   "source": [
    "lockerLookup 101 lockers"
   ]
  },
  {
   "cell_type": "code",
   "execution_count": 107,
   "metadata": {
    "attributes": {
     "classes": [
      "haskell:hs"
     ],
     "id": "",
     "name": "\"code\""
    }
   },
   "outputs": [
    {
     "data": {
      "text/plain": [
       "Left \"Locker 100 is already taken!\""
      ]
     },
     "metadata": {},
     "output_type": "display_data"
    }
   ],
   "source": [
    "lockerLookup 100 lockers"
   ]
  },
  {
   "cell_type": "code",
   "execution_count": 108,
   "metadata": {
    "attributes": {
     "classes": [
      "haskell:hs"
     ],
     "id": "",
     "name": "\"code\""
    }
   },
   "outputs": [
    {
     "data": {
      "text/plain": [
       "Left \"Locker number 102 doesn't exist!\""
      ]
     },
     "metadata": {},
     "output_type": "display_data"
    }
   ],
   "source": [
    "lockerLookup 102 lockers"
   ]
  },
  {
   "cell_type": "code",
   "execution_count": 109,
   "metadata": {
    "attributes": {
     "classes": [
      "haskell:hs"
     ],
     "id": "",
     "name": "\"code\""
    }
   },
   "outputs": [
    {
     "data": {
      "text/plain": [
       "Left \"Locker 110 is already taken!\""
      ]
     },
     "metadata": {},
     "output_type": "display_data"
    }
   ],
   "source": [
    "lockerLookup 110 lockers"
   ]
  },
  {
   "cell_type": "code",
   "execution_count": 110,
   "metadata": {
    "attributes": {
     "classes": [
      "haskell:hs"
     ],
     "id": "",
     "name": "\"code\""
    }
   },
   "outputs": [
    {
     "data": {
      "text/plain": [
       "Right \"QOTSA\""
      ]
     },
     "metadata": {},
     "output_type": "display_data"
    }
   ],
   "source": [
    "lockerLookup 105 lockers"
   ]
  },
  {
   "cell_type": "markdown",
   "metadata": {},
   "source": [
    "We could have used a `Maybe a` to represent the result but then we\n",
    "wouldn't know why we couldn't get the code. But now, we have information\n",
    "about the failure in our result type.\n",
    "\n",
    "<a name=\"recursive-data-structures\"></a>\n",
    "\n",
    "Recursive data structures\n",
    "-------------------------\n",
    "\n",
    "<img src=\"img/thefonz.png\" title=\"the fonz\" style=\"background-color:white;float:right;margin-left:2em;\" />\n",
    "\n",
    "As we've seen, a constructor in an algebraic data type can have several\n",
    "(or none at all) fields and each field must be of some concrete type.\n",
    "With that in mind, we can make types whose constructors have fields that\n",
    "are of the same type! Using that, we can create recursive data types,\n",
    "where one value of some type contains values of that type, which in turn\n",
    "contain more values of the same type and so on.\n",
    "\n",
    "Think about this list: `[5]`. That's just syntactic sugar for `5:[]`. On the\n",
    "left side of the `:`, there's a value and on the right side, there's a\n",
    "list. And in this case, it's an empty list. Now how about the list\n",
    "`[4,5]`? Well, that desugars to `4:(5:[])`. Looking at the first `:`, we see\n",
    "that it also has an element on its left side and a list `(5:[])` on its\n",
    "right side. Same goes for a list like `3:(4:(5:6:[]))`, which could be\n",
    "written either like that or like `3:4:5:6:[]` (because `:` is\n",
    "right-associative) or `[3,4,5,6]`.\n",
    "\n",
    "We could say that a list can be an empty list or it can be an element\n",
    "joined together with a `:` with another list (that can be either the empty\n",
    "list or not).\n",
    "\n",
    "Let's use algebraic data types to implement our own list then!"
   ]
  },
  {
   "cell_type": "code",
   "execution_count": 111,
   "metadata": {
    "attributes": {
     "classes": [
      "haskell:hs"
     ],
     "id": "",
     "name": "\"code\""
    }
   },
   "outputs": [],
   "source": [
    "data List a = Empty | Cons a (List a) deriving (Show, Read, Eq, Ord)"
   ]
  },
  {
   "cell_type": "markdown",
   "metadata": {},
   "source": [
    "This reads just like our definition of lists from one of the previous\n",
    "paragraphs. It's either an empty list or a combination of a head with\n",
    "some value and a list. If you're confused about this, you might find it\n",
    "easier to understand in record syntax."
   ]
  },
  {
   "cell_type": "code",
   "execution_count": 112,
   "metadata": {
    "attributes": {
     "classes": [
      "haskell:hs"
     ],
     "id": "",
     "name": "\"code\""
    }
   },
   "outputs": [],
   "source": [
    "data List a = Empty | Cons { listHead :: a, listTail :: List a} deriving (Show, Read, Eq, Ord)"
   ]
  },
  {
   "cell_type": "markdown",
   "metadata": {},
   "source": [
    "You might also be confused about the `Cons` constructor here. *cons* is\n",
    "another word for `:`. You see, in lists, `:` is actually a constructor that\n",
    "takes a value and another list and returns a list. We can already use\n",
    "our new list type! In other words, it has two fields. One field is of\n",
    "the type of `a` and the other is of the type `[a]`."
   ]
  },
  {
   "cell_type": "code",
   "execution_count": 113,
   "metadata": {
    "attributes": {
     "classes": [
      "haskell:hs"
     ],
     "id": "",
     "name": "\"code\""
    }
   },
   "outputs": [
    {
     "data": {
      "text/plain": [
       "Empty"
      ]
     },
     "metadata": {},
     "output_type": "display_data"
    }
   ],
   "source": [
    "Empty"
   ]
  },
  {
   "cell_type": "code",
   "execution_count": 114,
   "metadata": {
    "attributes": {
     "classes": [
      "haskell:hs"
     ],
     "id": "",
     "name": "\"code\""
    }
   },
   "outputs": [
    {
     "data": {
      "text/plain": [
       "Cons {listHead = 5, listTail = Empty}"
      ]
     },
     "metadata": {},
     "output_type": "display_data"
    }
   ],
   "source": [
    "5 `Cons` Empty"
   ]
  },
  {
   "cell_type": "code",
   "execution_count": 115,
   "metadata": {
    "attributes": {
     "classes": [
      "haskell:hs"
     ],
     "id": "",
     "name": "\"code\""
    }
   },
   "outputs": [
    {
     "data": {
      "text/plain": [
       "Cons {listHead = 4, listTail = Cons {listHead = 5, listTail = Empty}}"
      ]
     },
     "metadata": {},
     "output_type": "display_data"
    }
   ],
   "source": [
    "4 `Cons` (5 `Cons` Empty)"
   ]
  },
  {
   "cell_type": "code",
   "execution_count": 116,
   "metadata": {
    "attributes": {
     "classes": [
      "haskell:hs"
     ],
     "id": "",
     "name": "\"code\""
    }
   },
   "outputs": [
    {
     "data": {
      "text/plain": [
       "Cons {listHead = 3, listTail = Cons {listHead = 4, listTail = Cons {listHead = 5, listTail = Empty}}}"
      ]
     },
     "metadata": {},
     "output_type": "display_data"
    }
   ],
   "source": [
    "3 `Cons` (4 `Cons` (5 `Cons` Empty))"
   ]
  },
  {
   "cell_type": "markdown",
   "metadata": {},
   "source": [
    "We called our `Cons` constructor in an infix manner so you can see how\n",
    "it's just like `:`. `Empty` is like `[]` and ``4 `Cons` (5 `Cons` Empty)`` is\n",
    "like `4:(5:[])`.\n",
    "\n",
    "We can define functions to be automatically infix by making them\n",
    "comprised of only special characters. We can also do the same with\n",
    "constructors, since they're just functions that return a data type. So\n",
    "check this out."
   ]
  },
  {
   "cell_type": "code",
   "execution_count": 117,
   "metadata": {
    "attributes": {
     "classes": [
      "haskell:hs"
     ],
     "id": "",
     "name": "\"code\""
    }
   },
   "outputs": [],
   "source": [
    "infixr 5 :-:\n",
    "data List a = Empty | a :-: (List a) deriving (Show, Read, Eq, Ord)"
   ]
  },
  {
   "cell_type": "markdown",
   "metadata": {},
   "source": [
    "First off, we notice a new syntactic construct, the fixity declarations.\n",
    "When we define functions as operators, we can use that to give them a\n",
    "fixity (but we don't have to). A fixity states how tightly the operator\n",
    "binds and whether it's left-associative or right-associative. For\n",
    "instance, [`*`](https://hackage.haskell.org/package/base/docs/Prelude.html#v:-42-)'s fixity is `infixl 7 *` and [`+`](https://hackage.haskell.org/package/base/docs/Prelude.html#v:-43-)'s fixity is `infixl 6`. That\n",
    "means that they're both left-associative (`4 * 3 * 2` is `(4 * 3) * 2`)\n",
    "but [`*`](https://hackage.haskell.org/package/base/docs/Prelude.html#v:-42-) binds tighter than [`+`](https://hackage.haskell.org/package/base/docs/Prelude.html#v:-43-), because it has a greater fixity, so\n",
    "`5 * 4 + 3` is `(5 * 4) + 3`.\n",
    "\n",
    "Otherwise, we just wrote `a :-: (List a)` instead of `Cons a (List a)`. Now,\n",
    "we can write out lists in our list type like so:"
   ]
  },
  {
   "cell_type": "code",
   "execution_count": 118,
   "metadata": {
    "attributes": {
     "classes": [
      "haskell:hs"
     ],
     "id": "",
     "name": "\"code\""
    }
   },
   "outputs": [
    {
     "data": {
      "text/plain": [
       "3 :-: (4 :-: (5 :-: Empty))"
      ]
     },
     "metadata": {},
     "output_type": "display_data"
    }
   ],
   "source": [
    "3 :-: 4 :-: 5 :-: Empty"
   ]
  },
  {
   "cell_type": "code",
   "execution_count": 119,
   "metadata": {
    "attributes": {
     "classes": [
      "haskell:hs"
     ],
     "id": "",
     "name": "\"code\""
    }
   },
   "outputs": [
    {
     "data": {
      "text/plain": [
       "100 :-: (3 :-: (4 :-: (5 :-: Empty)))"
      ]
     },
     "metadata": {},
     "output_type": "display_data"
    }
   ],
   "source": [
    "let a = 3 :-: 4 :-: 5 :-: Empty\n",
    "100 :-: a"
   ]
  },
  {
   "cell_type": "markdown",
   "metadata": {},
   "source": [
    "When deriving [`Show`](https://hackage.haskell.org/package/base/docs/Prelude.html#t:Show) for our type, Haskell will still display it as if the\n",
    "constructor was a prefix function, hence the parentheses around the\n",
    "operator (remember, `4 + 3` is `(+) 4 3`).\n",
    "\n",
    "Let's make a function that adds two of our lists together. This is how\n",
    "[`++`](https://hackage.haskell.org/package/base/docs/Prelude.html#v:-43--43-) is defined for normal lists:"
   ]
  },
  {
   "cell_type": "markdown",
   "metadata": {
    "attributes": {
     "classes": [
      "haskell:hs"
     ],
     "id": "",
     "name": "\"code\""
    }
   },
   "source": [
    "<pre><code>infixr 5  ++\n",
    "(++) :: [a] -> [a] -> [a]\n",
    "[]     ++ ys = ys\n",
    "(x:xs) ++ ys = x : (xs ++ ys)</code></pre>"
   ]
  },
  {
   "cell_type": "markdown",
   "metadata": {},
   "source": [
    "So we'll just steal that for our own list. We'll name the function `.++`."
   ]
  },
  {
   "cell_type": "code",
   "execution_count": 120,
   "metadata": {
    "attributes": {
     "classes": [
      "haskell:hs"
     ],
     "id": "",
     "name": "\"code\""
    }
   },
   "outputs": [],
   "source": [
    "infixr 5  .++\n",
    "(.++) :: List a -> List a -> List a\n",
    "Empty .++ ys = ys\n",
    "(x :-: xs) .++ ys = x :-: (xs .++ ys)"
   ]
  },
  {
   "cell_type": "markdown",
   "metadata": {},
   "source": [
    "And let's see if it works ..."
   ]
  },
  {
   "cell_type": "code",
   "execution_count": 121,
   "metadata": {
    "attributes": {
     "classes": [
      "haskell:hs"
     ],
     "id": "",
     "name": "\"code\""
    }
   },
   "outputs": [
    {
     "data": {
      "text/plain": [
       "3 :-: (4 :-: (5 :-: (6 :-: (7 :-: Empty))))"
      ]
     },
     "metadata": {},
     "output_type": "display_data"
    }
   ],
   "source": [
    "let a = 3 :-: 4 :-: 5 :-: Empty\n",
    "let b = 6 :-: 7 :-: Empty\n",
    "a .++ b"
   ]
  },
  {
   "cell_type": "markdown",
   "metadata": {},
   "source": [
    "Nice. Is nice. If we wanted, we could implement all of the functions\n",
    "that operate on lists on our own list type.\n",
    "\n",
    "Notice how we pattern matched on `(x :-: xs)`. That works because pattern\n",
    "matching is actually about matching constructors. We can match on `:-:`\n",
    "because it is a constructor for our own list type and we can also match\n",
    "on `:` because it is a constructor for the built-in list type. Same goes\n",
    "for `[]`. Because pattern matching works (only) on constructors, we can\n",
    "match for stuff like that, normal prefix constructors or stuff like `8` or\n",
    "`'a'`, which are basically constructors for the numeric and character\n",
    "types, respectively.\n",
    "\n",
    "<img src=\"img/binarytree.png\" title=\"binary search tree\" style=\"background-color:white;float:left;margin-right:2em;\" />\n",
    "\n",
    "Now, we're going to implement a *binary search tree*. If you're not\n",
    "familiar with binary search trees from languages like C, here's what\n",
    "they are: an element points to two elements, one on its left and one on\n",
    "its right. The element to the left is smaller, the element to the right\n",
    "is bigger. Each of those elements can also point to two elements (or\n",
    "one, or none). In effect, each element has up to two sub-trees. And a\n",
    "cool thing about binary search trees is that we know that all the\n",
    "elements at the left sub-tree of, say, 5 are going to be smaller than 5.\n",
    "Elements in its right sub-tree are going to be bigger. So if we need to\n",
    "find if 8 is in our tree, we'd start at 5 and then because 8 is greater\n",
    "than 5, we'd go right. We're now at 7 and because 8 is greater than 7,\n",
    "we go right again. And we've found our element in three hops! Now if\n",
    "this were a normal list (or a tree, but really unbalanced), it would\n",
    "take us seven hops instead of three to see if 8 is in there.\n",
    "\n",
    "Sets and maps from `Data.Set` and `Data.Map` are implemented using trees,\n",
    "only instead of normal binary search trees, they use balanced binary\n",
    "search trees, which are always balanced. But right now, we'll just be\n",
    "implementing normal binary search trees.\n",
    "\n",
    "Here's what we're going to say: a tree is either an empty tree or it's\n",
    "an element that contains some value and two trees. Sounds like a perfect\n",
    "fit for an algebraic data type!"
   ]
  },
  {
   "cell_type": "code",
   "execution_count": 122,
   "metadata": {
    "attributes": {
     "classes": [
      "haskell:hs"
     ],
     "id": "",
     "name": "\"code\""
    }
   },
   "outputs": [],
   "source": [
    "data Tree a = EmptyTree | Node a (Tree a) (Tree a) deriving (Show, Read, Eq)"
   ]
  },
  {
   "cell_type": "markdown",
   "metadata": {},
   "source": [
    "Okay, good, this is good. Instead of manually building a tree, we're\n",
    "going to make a function that takes a tree and an element and inserts an\n",
    "element. We do this by comparing the value we want to insert to the root\n",
    "node and then if it's smaller, we go left, if it's larger, we go right.\n",
    "We do the same for every subsequent node until we reach an empty tree.\n",
    "Once we've reached an empty tree, we just insert a node with that value\n",
    "instead of the empty tree.\n",
    "\n",
    "In languages like C, we'd do this by modifying the pointers and values\n",
    "inside the tree. In Haskell, we can't really modify our tree, so we have\n",
    "to make a new sub-tree each time we decide to go left or right and in\n",
    "the end the insertion function returns a completely new tree, because\n",
    "Haskell doesn't really have a concept of pointer, just values. Hence,\n",
    "the type for our insertion function is going to be something like\n",
    "`a -> Tree a -> Tree a`. It takes an element and a tree and returns a new\n",
    "tree that has that element inside. This might seem like it's inefficient\n",
    "but laziness takes care of that problem.\n",
    "\n",
    "So, here are two functions. One is a utility function for making a\n",
    "`singleton` tree (a tree with just one node) and a function to insert an\n",
    "element into a tree."
   ]
  },
  {
   "cell_type": "code",
   "execution_count": 123,
   "metadata": {
    "attributes": {
     "classes": [
      "haskell:hs"
     ],
     "id": "",
     "name": "\"code\""
    }
   },
   "outputs": [],
   "source": [
    "singleton :: a -> Tree a\n",
    "singleton x = Node x EmptyTree EmptyTree\n",
    "\n",
    "treeInsert :: (Ord a) => a -> Tree a -> Tree a\n",
    "treeInsert x EmptyTree = singleton x\n",
    "treeInsert x (Node a left right)\n",
    "    | x == a = Node x left right\n",
    "    | x < a  = Node a (treeInsert x left) right\n",
    "    | x > a  = Node a left (treeInsert x right)"
   ]
  },
  {
   "cell_type": "markdown",
   "metadata": {},
   "source": [
    "The singleton function is just a shortcut for making a node that has\n",
    "something and then two empty sub-trees. In the insertion function, we\n",
    "first have the edge condition as a pattern. If we've reached an empty\n",
    "sub-tree, that means we're where we want and instead of the empty tree,\n",
    "we put a singleton tree with our element. If we're not inserting into an\n",
    "empty tree, then we have to check some things. First off, if the element\n",
    "we're inserting is equal to the root element, just return a tree that's\n",
    "the same. If it's smaller, return a tree that has the same root value,\n",
    "the same right sub-tree but instead of its left sub-tree, put a tree\n",
    "that has our value inserted into it. Same (but the other way around)\n",
    "goes if our value is bigger than the root element.\n",
    "\n",
    "Next up, we're going to make a function that checks if some element is\n",
    "in the tree. First, let's define the edge condition. If we're looking\n",
    "for an element in an empty tree, then it's certainly not there. Okay.\n",
    "Notice how this is the same as the edge condition when searching for\n",
    "elements in lists. If we're looking for an element in an empty list,\n",
    "it's not there. Anyway, if we're not looking for an element in an empty\n",
    "tree, then we check some things. If the element in the root node is what\n",
    "we're looking for, great! If it's not, what then? Well, we can take\n",
    "advantage of knowing that all the left elements are smaller than the\n",
    "root node. So if the element we're looking for is smaller than the root\n",
    "node, check to see if it's in the left sub-tree. If it's bigger, check\n",
    "to see if it's in the right sub-tree."
   ]
  },
  {
   "cell_type": "code",
   "execution_count": 124,
   "metadata": {
    "attributes": {
     "classes": [
      "haskell:hs"
     ],
     "id": "",
     "name": "\"code\""
    }
   },
   "outputs": [],
   "source": [
    "treeElem :: (Ord a) => a -> Tree a -> Bool\n",
    "treeElem x EmptyTree = False\n",
    "treeElem x (Node a left right)\n",
    "    | x == a = True\n",
    "    | x < a  = treeElem x left\n",
    "    | x > a  = treeElem x right"
   ]
  },
  {
   "cell_type": "markdown",
   "metadata": {},
   "source": [
    "All we had to do was write up the previous paragraph in code. Let's have\n",
    "some fun with our trees! Instead of manually building one (although we\n",
    "could), we'll use a fold to build up a tree from a list. Remember,\n",
    "pretty much everything that traverses a list one by one and then returns\n",
    "some sort of value can be implemented with a fold! We're going to start\n",
    "with the empty tree and then approach a list from the right and just\n",
    "insert element after element into our accumulator tree."
   ]
  },
  {
   "cell_type": "code",
   "execution_count": 125,
   "metadata": {
    "attributes": {
     "classes": [
      "haskell:hs"
     ],
     "id": "",
     "name": "\"code\""
    }
   },
   "outputs": [
    {
     "data": {
      "text/plain": [
       "Node 5 (Node 3 (Node 1 EmptyTree EmptyTree) (Node 4 EmptyTree EmptyTree)) (Node 7 (Node 6 EmptyTree EmptyTree) (Node 8 EmptyTree EmptyTree))"
      ]
     },
     "metadata": {},
     "output_type": "display_data"
    }
   ],
   "source": [
    "let nums = [8,6,4,1,7,3,5]\n",
    "let numsTree = foldr treeInsert EmptyTree nums\n",
    "numsTree"
   ]
  },
  {
   "cell_type": "markdown",
   "metadata": {},
   "source": [
    "In that [`foldr`](https://hackage.haskell.org/package/base/docs/Prelude.html#v:foldr), `treeInsert` was the folding function (it takes a tree and\n",
    "a list element and produces a new tree) and `EmptyTree` was the starting\n",
    "accumulator. `nums`, of course, was the list we were folding over.\n",
    "\n",
    "When we print our tree to the console, it's not very readable, but if we\n",
    "try, we can make out its structure. We see that the root node is 5 and\n",
    "then it has two sub-trees, one of which has the root node of 3 and the\n",
    "other a 7, etc."
   ]
  },
  {
   "cell_type": "code",
   "execution_count": 126,
   "metadata": {
    "attributes": {
     "classes": [
      "haskell:hs"
     ],
     "id": "",
     "name": "\"code\""
    }
   },
   "outputs": [
    {
     "data": {
      "text/plain": [
       "True"
      ]
     },
     "metadata": {},
     "output_type": "display_data"
    }
   ],
   "source": [
    "8 `treeElem` numsTree"
   ]
  },
  {
   "cell_type": "code",
   "execution_count": 127,
   "metadata": {
    "attributes": {
     "classes": [
      "haskell:hs"
     ],
     "id": "",
     "name": "\"code\""
    }
   },
   "outputs": [
    {
     "data": {
      "text/plain": [
       "False"
      ]
     },
     "metadata": {},
     "output_type": "display_data"
    }
   ],
   "source": [
    "100 `treeElem` numsTree"
   ]
  },
  {
   "cell_type": "code",
   "execution_count": 128,
   "metadata": {
    "attributes": {
     "classes": [
      "haskell:hs"
     ],
     "id": "",
     "name": "\"code\""
    }
   },
   "outputs": [
    {
     "data": {
      "text/plain": [
       "True"
      ]
     },
     "metadata": {},
     "output_type": "display_data"
    }
   ],
   "source": [
    "1 `treeElem` numsTree"
   ]
  },
  {
   "cell_type": "code",
   "execution_count": 129,
   "metadata": {
    "attributes": {
     "classes": [
      "haskell:hs"
     ],
     "id": "",
     "name": "\"code\""
    }
   },
   "outputs": [
    {
     "data": {
      "text/plain": [
       "False"
      ]
     },
     "metadata": {},
     "output_type": "display_data"
    }
   ],
   "source": [
    "10 `treeElem` numsTree"
   ]
  },
  {
   "cell_type": "markdown",
   "metadata": {},
   "source": [
    "Checking for membership also works nicely. Cool.\n",
    "\n",
    "So as you can see, algebraic data structures are a really cool and\n",
    "powerful concept in Haskell. We can use them to make anything from\n",
    "boolean values and weekday enumerations to binary search trees and more!\n",
    "\n",
    "Typeclasses 102\n",
    "---------------\n",
    "\n",
    "<img src=\"img/trafficlight.png\" title=\"tweet\" style=\"background-color:white;float:right;margin-left:2em;\" />\n",
    "\n",
    "So far, we've learned about some of the standard Haskell typeclasses and\n",
    "we've seen which types are in them. We've also learned how to\n",
    "automatically make our own types instances of the standard typeclasses\n",
    "by asking Haskell to derive the instances for us. In this section, we're\n",
    "going to learn how to make our own typeclasses and how to make types\n",
    "instances of them by hand.\n",
    "\n",
    "A quick recap on typeclasses: typeclasses are like interfaces. A\n",
    "typeclass defines some behavior (like comparing for equality, comparing\n",
    "for ordering, enumeration) and then types that can behave in that way\n",
    "are made instances of that typeclass. The behavior of typeclasses is\n",
    "achieved by defining functions or just type declarations that we then\n",
    "implement. So when we say that a type is an instance of a typeclass, we\n",
    "mean that we can use the functions that the typeclass defines with that\n",
    "type.\n",
    "\n",
    "Typeclasses have pretty much nothing to do with classes in languages\n",
    "like Java or Python. This confuses many people, so I want you to forget\n",
    "everything you know about classes in imperative languages right now.\n",
    "\n",
    "For example, the `Eq` typeclass is for stuff that can be equated. It\n",
    "defines the functions [`==`](https://hackage.haskell.org/package/base/docs/Prelude.html#v:-61--61-) and [`/=`](https://hackage.haskell.org/package/base/docs/Prelude.html#v:-47--61-). If we have a type (say, `Car`) and\n",
    "comparing two cars with the equality function [`==`](https://hackage.haskell.org/package/base/docs/Prelude.html#v:-61--61-) makes sense, then it\n",
    "makes sense for `Car` to be an instance of `Eq`.\n",
    "\n",
    "This is how the `Eq` class is defined in the standard prelude:"
   ]
  },
  {
   "cell_type": "markdown",
   "metadata": {
    "attributes": {
     "classes": [
      "haskell:hs"
     ],
     "id": "",
     "name": "\"code\""
    }
   },
   "source": [
    "<pre><code>class Eq a where\n",
    "    (==) :: a -> a -> Bool\n",
    "    (/=) :: a -> a -> Bool\n",
    "    x == y = not (x /= y)\n",
    "    x /= y = not (x == y)</code></pre>"
   ]
  },
  {
   "cell_type": "markdown",
   "metadata": {},
   "source": [
    "Woah, woah, woah! Some new strange syntax and keywords there! Don't\n",
    "worry, this will all be clear in a second. First off, when we write\n",
    "`class Eq a where`, this means that we're defining a new typeclass and\n",
    "that's called `Eq`. The `a` is the type variable and it means that a will\n",
    "play the role of the type that we will soon be making an instance of `Eq`.\n",
    "It doesn't have to be called `a`, it doesn't even have to be one letter,\n",
    "it just has to be a lowercase word. Then, we define several functions.\n",
    "It's not mandatory to implement the function bodies themselves, we just\n",
    "have to specify the type declarations for the functions.\n",
    "\n",
    "> Some people might understand this better if we wrote\n",
    "> `class Eq equatable where`\n",
    "> and then specified the type declarations like\n",
    "> `(==) :: equatable -> equatable -> Bool`.\n",
    "\n",
    "Anyway, we *did* implement the function bodies for the functions that `Eq`\n",
    "defines, only we defined them in terms of mutual recursion. We said that\n",
    "two instances of `Eq` are equal if they are not different and they are\n",
    "different if they are not equal. We didn't have to do this, really, but\n",
    "we did and we'll see how this helps us soon.\n",
    "\n",
    "> If we have say `class Eq a where` and then define a type declaration\n",
    "> within that class like `(==) :: a -> -a -> Bool`, then when we examine\n",
    "> the type of that function later on, it will have the type of\n",
    "> `(Eq a) => a -> a -> Bool`.\n",
    "\n",
    "So once we have a class, what can we do with it? Well, not much, really.\n",
    "But once we start making types instances of that class, we start getting\n",
    "some nice functionality. So check out this type:"
   ]
  },
  {
   "cell_type": "code",
   "execution_count": 130,
   "metadata": {
    "attributes": {
     "classes": [
      "haskell:hs"
     ],
     "id": "",
     "name": "\"code\""
    }
   },
   "outputs": [],
   "source": [
    "data TrafficLight = Red | Yellow | Green"
   ]
  },
  {
   "cell_type": "markdown",
   "metadata": {},
   "source": [
    "It defines the states of a traffic light. Notice how we didn't derive\n",
    "any class instances for it. That's because we're going to write up some\n",
    "instances by hand, even though we could derive them for types like `Eq`\n",
    "and [`Show`](https://hackage.haskell.org/package/base/docs/Prelude.html#t:Show). Here's how we make it an instance of `Eq`."
   ]
  },
  {
   "cell_type": "code",
   "execution_count": 131,
   "metadata": {
    "attributes": {
     "classes": [
      "haskell:hs"
     ],
     "id": "",
     "name": "\"code\""
    }
   },
   "outputs": [],
   "source": [
    "instance Eq TrafficLight where\n",
    "    Red == Red = True\n",
    "    Green == Green = True\n",
    "    Yellow == Yellow = True\n",
    "    _ == _ = False"
   ]
  },
  {
   "cell_type": "markdown",
   "metadata": {},
   "source": [
    "We did it by using the *instance* keyword. So *class* is for defining\n",
    "new typeclasses and *instance* is for making our types instances of\n",
    "typeclasses. When we were defining `Eq`, we wrote `class Eq a where` and we\n",
    "said that `a` plays the role of whichever type will be made an instance\n",
    "later on. We can see that clearly here, because when we're making an\n",
    "instance, we write `instance Eq TrafficLight where`. We replace the `a` with\n",
    "the actual type.\n",
    "\n",
    "Because [`==`](https://hackage.haskell.org/package/base/docs/Prelude.html#v:-61--61-) was defined in terms of [`/=`](https://hackage.haskell.org/package/base/docs/Prelude.html#v:-47--61-) and vice versa in the *class*\n",
    "declaration, we only had to overwrite one of them in the instance\n",
    "declaration. That's called the minimal complete definition for the\n",
    "typeclass — the minimum of functions that we have to implement so that\n",
    "our type can behave like the class advertises. To fulfill the minimal\n",
    "complete definition for `Eq`, we have to overwrite either one of [`==`](https://hackage.haskell.org/package/base/docs/Prelude.html#v:-61--61-) or [`/=`](https://hackage.haskell.org/package/base/docs/Prelude.html#v:-47--61-).\n",
    "If `Eq` was defined simply like this:"
   ]
  },
  {
   "cell_type": "markdown",
   "metadata": {
    "attributes": {
     "classes": [
      "haskell:hs"
     ],
     "id": "",
     "name": "\"code\""
    }
   },
   "source": [
    "<pre><code>class Eq a where\n",
    "    (==) :: a -> a -> Bool\n",
    "    (/=) :: a -> a -> Bool</code></pre>"
   ]
  },
  {
   "cell_type": "markdown",
   "metadata": {},
   "source": [
    "we'd have to implement both of these functions when making a type an\n",
    "instance of it, because Haskell wouldn't know how these two functions\n",
    "are related. The minimal complete definition would then be: both [`==`](https://hackage.haskell.org/package/base/docs/Prelude.html#v:-61--61-) and\n",
    "[`/=`](https://hackage.haskell.org/package/base/docs/Prelude.html#v:-47--61-).\n",
    "\n",
    "You can see that we implemented [`==`](https://hackage.haskell.org/package/base/docs/Prelude.html#v:-61--61-) simply by doing pattern matching.\n",
    "Since there are many more cases where two lights aren't equal, we\n",
    "specified the ones that are equal and then just did a catch-all pattern\n",
    "saying that if it's none of the previous combinations, then two lights\n",
    "aren't equal.\n",
    "\n",
    "Let's make this an instance of [`Show`](https://hackage.haskell.org/package/base/docs/Prelude.html#t:Show) by hand, too. To satisfy the minimal\n",
    "complete definition for [`Show`](https://hackage.haskell.org/package/base/docs/Prelude.html#t:Show), we just have to implement its [`show`](https://hackage.haskell.org/package/base/docs/Prelude.html#v:show)\n",
    "function, which takes a value and turns it into a string."
   ]
  },
  {
   "cell_type": "code",
   "execution_count": 132,
   "metadata": {
    "attributes": {
     "classes": [
      "haskell:hs"
     ],
     "id": "",
     "name": "\"code\""
    }
   },
   "outputs": [],
   "source": [
    "instance Show TrafficLight where\n",
    "    show Red = \"Red light\"\n",
    "    show Yellow = \"Yellow light\"\n",
    "    show Green = \"Green light\""
   ]
  },
  {
   "cell_type": "markdown",
   "metadata": {},
   "source": [
    "Once again, we used pattern matching to achieve our goals. Let's see how\n",
    "it works in action:"
   ]
  },
  {
   "cell_type": "code",
   "execution_count": 133,
   "metadata": {
    "attributes": {
     "classes": [
      "haskell:hs"
     ],
     "id": "",
     "name": "\"code\""
    }
   },
   "outputs": [
    {
     "data": {
      "text/plain": [
       "True"
      ]
     },
     "metadata": {},
     "output_type": "display_data"
    }
   ],
   "source": [
    "Red == Red"
   ]
  },
  {
   "cell_type": "code",
   "execution_count": 134,
   "metadata": {
    "attributes": {
     "classes": [
      "haskell:hs"
     ],
     "id": "",
     "name": "\"code\""
    }
   },
   "outputs": [
    {
     "data": {
      "text/plain": [
       "False"
      ]
     },
     "metadata": {},
     "output_type": "display_data"
    }
   ],
   "source": [
    "Red == Yellow"
   ]
  },
  {
   "cell_type": "code",
   "execution_count": 135,
   "metadata": {
    "attributes": {
     "classes": [
      "haskell:hs"
     ],
     "id": "",
     "name": "\"code\""
    }
   },
   "outputs": [
    {
     "data": {
      "text/plain": [
       "True"
      ]
     },
     "metadata": {},
     "output_type": "display_data"
    }
   ],
   "source": [
    "Red `elem` [Red, Yellow, Green]"
   ]
  },
  {
   "cell_type": "code",
   "execution_count": 136,
   "metadata": {
    "attributes": {
     "classes": [
      "haskell:hs"
     ],
     "id": "",
     "name": "\"code\""
    }
   },
   "outputs": [
    {
     "data": {
      "text/plain": [
       "[Red light,Yellow light,Green light]"
      ]
     },
     "metadata": {},
     "output_type": "display_data"
    }
   ],
   "source": [
    "[Red, Yellow, Green]"
   ]
  },
  {
   "cell_type": "markdown",
   "metadata": {},
   "source": [
    "Nice. We could have just derived `Eq` and it would have had the same\n",
    "effect (but we didn't for educational purposes). However, deriving [`Show`](https://hackage.haskell.org/package/base/docs/Prelude.html#t:Show)\n",
    "would have just directly translated the value constructors to strings.\n",
    "But if we want lights to appear like `\"Red light\"`, then we have to make\n",
    "the instance declaration by hand.\n",
    "\n",
    "You can also make typeclasses that are subclasses of other typeclasses.\n",
    "The *class* declaration for [`Num`](https://hackage.haskell.org/package/base/docs/Prelude.html#t:Num) is a bit long, but here's the first\n",
    "part:"
   ]
  },
  {
   "cell_type": "markdown",
   "metadata": {
    "attributes": {
     "classes": [
      "haskell:hs"
     ],
     "id": "",
     "name": "\"code\""
    }
   },
   "source": [
    "<pre><code>class (Eq a) => Num a where\n",
    "   ...</code></pre>"
   ]
  },
  {
   "cell_type": "markdown",
   "metadata": {},
   "source": [
    "As we mentioned previously, there are a lot of places where we can cram\n",
    "in class constraints. So this is just like writing `class Num a where`,\n",
    "only we state that our type `a` must be an instance of `Eq`. We're\n",
    "essentially saying that we have to make a type an instance of `Eq` before\n",
    "we can make it an instance of [`Num`](https://hackage.haskell.org/package/base/docs/Prelude.html#t:Num). Before some type can be considered a\n",
    "number, it makes sense that we can determine whether values of that type\n",
    "can be equated or not. That's all there is to subclassing really, it's\n",
    "just a class constraint on a *class* declaration! When defining function\n",
    "bodies in the *class* declaration or when defining them in *instance*\n",
    "declarations, we can assume that a is `a` part of `Eq` and so we can use [`==`](https://hackage.haskell.org/package/base/docs/Prelude.html#v:-61--61-)\n",
    "on values of that type.\n",
    "\n",
    "But how are the [`Maybe`](https://hackage.haskell.org/package/base/docs/Prelude.html#t:Maybe) or list types made as instances of typeclasses?\n",
    "What makes [`Maybe`](https://hackage.haskell.org/package/base/docs/Prelude.html#t:Maybe) different from, say, `TrafficLight` is that [`Maybe`](https://hackage.haskell.org/package/base/docs/Prelude.html#t:Maybe) in\n",
    "itself isn't a concrete type, it's a type constructor that takes one\n",
    "type parameter (like [`Char`](https://hackage.haskell.org/package/base/docs/Prelude.html#t:Char) or something) to produce a concrete type (like\n",
    "`Maybe Char`). Let's take a look at the `Eq` typeclass again:"
   ]
  },
  {
   "cell_type": "markdown",
   "metadata": {
    "attributes": {
     "classes": [
      "haskell:hs"
     ],
     "id": "",
     "name": "\"code\""
    }
   },
   "source": [
    "<pre><code>class Eq a where\n",
    "    (==) :: a -> a -> Bool\n",
    "    (/=) :: a -> a -> Bool\n",
    "    x == y = not (x /= y)\n",
    "    x /= y = not (x == y)</code></pre>"
   ]
  },
  {
   "cell_type": "markdown",
   "metadata": {},
   "source": [
    "From the type declarations, we see that the `a` is used as a concrete type\n",
    "because all the types in functions have to be concrete (remember, you\n",
    "can't have a function of the type `a -> Maybe` but you can have a\n",
    "function of `a -> Maybe a` or `Maybe Int -> Maybe String`). That's why we\n",
    "can't do something like"
   ]
  },
  {
   "cell_type": "markdown",
   "metadata": {
    "attributes": {
     "classes": [
      "haskell:hs"
     ],
     "id": "",
     "name": "\"code\""
    }
   },
   "source": [
    "<pre><code>instance Eq Maybe where\n",
    "    ...</code></pre>"
   ]
  },
  {
   "cell_type": "markdown",
   "metadata": {},
   "source": [
    "Because like we've seen, the `a` has to be a concrete type but [`Maybe`](https://hackage.haskell.org/package/base/docs/Prelude.html#t:Maybe) isn't\n",
    "a concrete type. It's a type constructor that takes one parameter and\n",
    "then produces a concrete type. It would also be tedious to write\n",
    "`instance Eq (Maybe Int) where`, `instance Eq (Maybe Char) where`, etc. for\n",
    "every type ever. So we could write it out like so:"
   ]
  },
  {
   "cell_type": "markdown",
   "metadata": {
    "attributes": {
     "classes": [
      "haskell:hs"
     ],
     "id": "",
     "name": "\"code\""
    }
   },
   "source": [
    "<pre><code>instance Eq (Maybe m) where\n",
    "    Just x == Just y = x == y\n",
    "    Nothing == Nothing = True\n",
    "    _ == _ = False</code></pre>"
   ]
  },
  {
   "cell_type": "markdown",
   "metadata": {},
   "source": [
    "This is like saying that we want to make all types of the form\n",
    "`Maybe something` an instance of `Eq`. We actually could have written\n",
    "`(Maybe something)`, but we usually opt for single letters to be true to the\n",
    "Haskell style. The `(Maybe m)` here plays the role of the `a` from\n",
    "`class Eq a where`. While [`Maybe`](https://hackage.haskell.org/package/base/docs/Prelude.html#t:Maybe) isn't a concrete type, `Maybe m` is.\n",
    "By specifying a\n",
    "type parameter (`m`, which is in lowercase), we said that we want all\n",
    "types that are in the form of `Maybe m`, where `m` is any type, to be an\n",
    "instance of `Eq`.\n",
    "\n",
    "There's one problem with this though. Can you spot it? We use [`==`](https://hackage.haskell.org/package/base/docs/Prelude.html#v:-61--61-) on the\n",
    "contents of the [`Maybe`](https://hackage.haskell.org/package/base/docs/Prelude.html#t:Maybe) but we have no assurance that what the [`Maybe`](https://hackage.haskell.org/package/base/docs/Prelude.html#t:Maybe)\n",
    "contains can be used with `Eq`! That's why we have to modify our\n",
    "*instance* declaration like this:"
   ]
  },
  {
   "cell_type": "markdown",
   "metadata": {
    "attributes": {
     "classes": [
      "haskell:hs"
     ],
     "id": "",
     "name": "\"code\""
    }
   },
   "source": [
    "<pre><code>instance (Eq m) => Eq (Maybe m) where\n",
    "    Just x == Just y = x == y\n",
    "    Nothing == Nothing = True\n",
    "    _ == _ = False</code></pre>"
   ]
  },
  {
   "cell_type": "markdown",
   "metadata": {},
   "source": [
    "We had to add a class constraint! With this *instance* declaration, we\n",
    "say this: we want all types of the form `Maybe m` to be part of the `Eq`\n",
    "typeclass, but only those types where the `m` (so what's contained inside\n",
    "the [`Maybe`](https://hackage.haskell.org/package/base/docs/Prelude.html#t:Maybe)) is also a part of `Eq`. This is actually how Haskell would\n",
    "derive the instance too.\n",
    "\n",
    "Most of the times, class constraints in *class* declarations are used\n",
    "for making a typeclass a subclass of another typeclass and class\n",
    "constraints in *instance* declarations are used to express requirements\n",
    "about the contents of some type. For instance, here we required the\n",
    "contents of the [`Maybe`](https://hackage.haskell.org/package/base/docs/Prelude.html#t:Maybe) to also be part of the `Eq` typeclass.\n",
    "\n",
    "When making instances, if you see that a type is used as a concrete type\n",
    "in the type declarations (like the `a` in `a -> a -> Bool`), you have to\n",
    "supply type parameters and add parentheses so that you end up with a\n",
    "concrete type.\n",
    "\n",
    "> Take into account that the type you're trying to make an instance of\n",
    "> will replace the parameter in the *class* declaration. The `a` from\n",
    "> `class Eq a where`\n",
    "> will be replaced with a real type when you make an instance,\n",
    "> so try mentally putting your type into the function type declarations as\n",
    "> well. `(==) :: Maybe -> Maybe -> Bool` doesn't make much sense but\n",
    "> `(==) :: (Eq m) => Maybe m -> Maybe m -> Bool` does. But this is just\n",
    "> something to think about, because [`==`](https://hackage.haskell.org/package/base/docs/Prelude.html#v:-61--61-) will always have a type of\n",
    "> `(==) :: (Eq a) => a -> a -> Bool`, no matter what instances we make.\n",
    "\n",
    "Ooh, one more thing, check this out! If you want to see what the\n",
    "instances of a typeclass are, just do `:info YourTypeClass` in GHCI. So\n",
    "typing `:info Num` will show which functions the typeclass defines and it\n",
    "will give you a list of the types in the typeclass. `:info` works for\n",
    "types and type constructors too. If you do `:info Maybe`, it will show you\n",
    "all the typeclasses that [`Maybe`](https://hackage.haskell.org/package/base/docs/Prelude.html#t:Maybe) is an instance of. Also `:info` can show\n",
    "you the type declaration of a function. I think that's pretty cool.\n",
    "\n",
    "A yes-no typeclass\n",
    "------------------\n",
    "\n",
    "<img src=\"img/yesno.png\" title=\"yesno\" style=\"background-color:white;float:left;margin-right:2em;\" />\n",
    "\n",
    "In JavaScript and some other weakly typed languages, you can put almost\n",
    "anything inside an if expression. For example, you can do all of the\n",
    "following:\n",
    "`if (0) alert(\"YEAH!\") else alert(\"NO!\")`,\n",
    "`if (\"\") alert (\"YEAH!\") else alert(\"NO!\")`,\n",
    "`if (false) alert(\"YEAH\") else alert(\"NO!)`,\n",
    "etc. and all of these will throw an alert of `NO!`. If you do\n",
    "`if (\"WHAT\") alert (\"YEAH\") else alert(\"NO!\")`,\n",
    "it will alert a `\"YEAH!\"` because\n",
    "JavaScript considers non-empty strings to be a sort of true-ish value.\n",
    "\n",
    "Even though strictly using [`Bool`](https://hackage.haskell.org/package/base/docs/Prelude.html#t:Bool) for boolean semantics works better in\n",
    "Haskell, let's try and implement that JavaScript-ish behavior anyway.\n",
    "For fun! Let's start out with a *class* declaration."
   ]
  },
  {
   "cell_type": "code",
   "execution_count": 137,
   "metadata": {
    "attributes": {
     "classes": [
      "haskell:hs"
     ],
     "id": "",
     "name": "\"code\""
    }
   },
   "outputs": [],
   "source": [
    "class YesNo a where\n",
    "    yesno :: a -> Bool"
   ]
  },
  {
   "cell_type": "markdown",
   "metadata": {},
   "source": [
    "Pretty simple. The `YesNo` typeclass defines one function. That function\n",
    "takes one value of a type that can be considered to hold some concept of\n",
    "true-ness and tells us for sure if it's true or not. Notice that from\n",
    "the way we use the `a` in the function, `a` has to be a concrete type.\n",
    "\n",
    "Next up, let's define some instances. For numbers, we'll assume that\n",
    "(like in JavaScript) any number that isn't 0 is true-ish and 0 is\n",
    "false-ish."
   ]
  },
  {
   "cell_type": "code",
   "execution_count": 138,
   "metadata": {
    "attributes": {
     "classes": [
      "haskell:hs"
     ],
     "id": "",
     "name": "\"code\""
    }
   },
   "outputs": [],
   "source": [
    "instance YesNo Int where\n",
    "    yesno 0 = False\n",
    "    yesno _ = True"
   ]
  },
  {
   "cell_type": "markdown",
   "metadata": {},
   "source": [
    "Empty lists (and by extensions, strings) are a no-ish value, while\n",
    "non-empty lists are a yes-ish value."
   ]
  },
  {
   "cell_type": "code",
   "execution_count": 139,
   "metadata": {
    "attributes": {
     "classes": [
      "haskell:hs"
     ],
     "id": "",
     "name": "\"code\""
    }
   },
   "outputs": [],
   "source": [
    "instance YesNo [a] where\n",
    "    yesno [] = False\n",
    "    yesno _ = True"
   ]
  },
  {
   "cell_type": "markdown",
   "metadata": {},
   "source": [
    "Notice how we just put in a type parameter `a` in there to make the list a\n",
    "concrete type, even though we don't make any assumptions about the type\n",
    "that's contained in the list. What else, hmm ... I know, [`Bool`](https://hackage.haskell.org/package/base/docs/Prelude.html#t:Bool) itself\n",
    "also holds true-ness and false-ness and it's pretty obvious which is\n",
    "which."
   ]
  },
  {
   "cell_type": "code",
   "execution_count": 140,
   "metadata": {
    "attributes": {
     "classes": [
      "haskell:hs"
     ],
     "id": "",
     "name": "\"code\""
    }
   },
   "outputs": [],
   "source": [
    "instance YesNo Bool where\n",
    "    yesno = id"
   ]
  },
  {
   "cell_type": "markdown",
   "metadata": {},
   "source": [
    "Huh? What's [`id`](https://hackage.haskell.org/package/base/docs/Prelude.html#v:id)? It's just a standard library function that takes a\n",
    "parameter and returns the same thing, which is what we would be writing\n",
    "here anyway.\n",
    "\n",
    "Let's make `Maybe a` an instance too."
   ]
  },
  {
   "cell_type": "code",
   "execution_count": 141,
   "metadata": {
    "attributes": {
     "classes": [
      "haskell:hs"
     ],
     "id": "",
     "name": "\"code\""
    }
   },
   "outputs": [],
   "source": [
    "instance YesNo (Maybe a) where\n",
    "    yesno (Just _) = True\n",
    "    yesno Nothing = False"
   ]
  },
  {
   "cell_type": "markdown",
   "metadata": {},
   "source": [
    "We didn't need a class constraint because we made no assumptions about\n",
    "the contents of the [`Maybe`](https://hackage.haskell.org/package/base/docs/Prelude.html#t:Maybe). We just said that it's true-ish if it's a\n",
    "[`Just`](https://hackage.haskell.org/package/base/docs/Prelude.html#v:Just) value and false-ish if it's a [`Nothing`](https://hackage.haskell.org/package/base/docs/Prelude.html#v:Nothing). We still had to write out\n",
    "`(Maybe a)` instead of just [`Maybe`](https://hackage.haskell.org/package/base/docs/Prelude.html#t:Maybe) because if you think about it, a\n",
    "`Maybe -> Bool` function can't exist (because [`Maybe`](https://hackage.haskell.org/package/base/docs/Prelude.html#t:Maybe) isn't a concrete type),\n",
    "whereas a `Maybe a -> Bool` is fine and dandy. Still, this is really cool\n",
    "because now, any type of the form `Maybe something` is part of `YesNo` and\n",
    "it doesn't matter what that `something` is.\n",
    "\n",
    "Previously, we defined a `Tree a` type, that represented a binary search\n",
    "tree. We can say an empty tree is false-ish and anything that's not an\n",
    "empty tree is true-ish."
   ]
  },
  {
   "cell_type": "code",
   "execution_count": 142,
   "metadata": {
    "attributes": {
     "classes": [
      "haskell:hs"
     ],
     "id": "",
     "name": "\"code\""
    }
   },
   "outputs": [],
   "source": [
    "instance YesNo (Tree a) where\n",
    "    yesno EmptyTree = False\n",
    "    yesno _ = True"
   ]
  },
  {
   "cell_type": "markdown",
   "metadata": {},
   "source": [
    "Can a traffic light be a yes or no value? Sure. If it's red, you stop.\n",
    "If it's green, you go. If it's yellow? Eh, I usually run the yellows\n",
    "because I live for adrenaline."
   ]
  },
  {
   "cell_type": "code",
   "execution_count": 143,
   "metadata": {
    "attributes": {
     "classes": [
      "haskell:hs"
     ],
     "id": "",
     "name": "\"code\""
    }
   },
   "outputs": [],
   "source": [
    "instance YesNo TrafficLight where\n",
    "    yesno Red = False\n",
    "    yesno _ = True"
   ]
  },
  {
   "cell_type": "markdown",
   "metadata": {},
   "source": [
    "Cool, now that we have some instances, let's go play!"
   ]
  },
  {
   "cell_type": "code",
   "execution_count": 144,
   "metadata": {
    "attributes": {
     "classes": [
      "haskell:hs"
     ],
     "id": "",
     "name": "\"code\""
    }
   },
   "outputs": [
    {
     "data": {
      "text/plain": [
       "False"
      ]
     },
     "metadata": {},
     "output_type": "display_data"
    }
   ],
   "source": [
    "yesno $ length []"
   ]
  },
  {
   "cell_type": "code",
   "execution_count": 145,
   "metadata": {
    "attributes": {
     "classes": [
      "haskell:hs"
     ],
     "id": "",
     "name": "\"code\""
    }
   },
   "outputs": [
    {
     "data": {
      "text/plain": [
       "True"
      ]
     },
     "metadata": {},
     "output_type": "display_data"
    }
   ],
   "source": [
    "yesno \"haha\""
   ]
  },
  {
   "cell_type": "code",
   "execution_count": 146,
   "metadata": {
    "attributes": {
     "classes": [
      "haskell:hs"
     ],
     "id": "",
     "name": "\"code\""
    }
   },
   "outputs": [
    {
     "data": {
      "text/plain": [
       "False"
      ]
     },
     "metadata": {},
     "output_type": "display_data"
    }
   ],
   "source": [
    "yesno \"\""
   ]
  },
  {
   "cell_type": "code",
   "execution_count": 147,
   "metadata": {
    "attributes": {
     "classes": [
      "haskell:hs"
     ],
     "id": "",
     "name": "\"code\""
    }
   },
   "outputs": [
    {
     "data": {
      "text/plain": [
       "True"
      ]
     },
     "metadata": {},
     "output_type": "display_data"
    }
   ],
   "source": [
    "yesno $ Just 0"
   ]
  },
  {
   "cell_type": "code",
   "execution_count": 148,
   "metadata": {
    "attributes": {
     "classes": [
      "haskell:hs"
     ],
     "id": "",
     "name": "\"code\""
    }
   },
   "outputs": [
    {
     "data": {
      "text/plain": [
       "True"
      ]
     },
     "metadata": {},
     "output_type": "display_data"
    }
   ],
   "source": [
    "yesno True"
   ]
  },
  {
   "cell_type": "code",
   "execution_count": 149,
   "metadata": {
    "attributes": {
     "classes": [
      "haskell:hs"
     ],
     "id": "",
     "name": "\"code\""
    }
   },
   "outputs": [
    {
     "data": {
      "text/plain": [
       "False"
      ]
     },
     "metadata": {},
     "output_type": "display_data"
    }
   ],
   "source": [
    "yesno EmptyTree"
   ]
  },
  {
   "cell_type": "code",
   "execution_count": 150,
   "metadata": {
    "attributes": {
     "classes": [
      "haskell:hs"
     ],
     "id": "",
     "name": "\"code\""
    }
   },
   "outputs": [
    {
     "data": {
      "text/plain": [
       "False"
      ]
     },
     "metadata": {},
     "output_type": "display_data"
    }
   ],
   "source": [
    "yesno []"
   ]
  },
  {
   "cell_type": "code",
   "execution_count": 151,
   "metadata": {
    "attributes": {
     "classes": [
      "haskell:hs"
     ],
     "id": "",
     "name": "\"code\""
    }
   },
   "outputs": [
    {
     "data": {
      "text/plain": [
       "True"
      ]
     },
     "metadata": {},
     "output_type": "display_data"
    }
   ],
   "source": [
    "yesno [0,0,0]"
   ]
  },
  {
   "cell_type": "code",
   "execution_count": 152,
   "metadata": {
    "attributes": {
     "classes": [
      "haskell:hs"
     ],
     "id": "",
     "name": "\"code\""
    }
   },
   "outputs": [
    {
     "data": {
      "text/html": [
       "<style>/* Styles used for the Hoogle display in the pager */\n",
       ".hoogle-doc {\n",
       "display: block;\n",
       "padding-bottom: 1.3em;\n",
       "padding-left: 0.4em;\n",
       "}\n",
       ".hoogle-code {\n",
       "display: block;\n",
       "font-family: monospace;\n",
       "white-space: pre;\n",
       "}\n",
       ".hoogle-text {\n",
       "display: block;\n",
       "}\n",
       ".hoogle-name {\n",
       "color: green;\n",
       "font-weight: bold;\n",
       "}\n",
       ".hoogle-head {\n",
       "font-weight: bold;\n",
       "}\n",
       ".hoogle-sub {\n",
       "display: block;\n",
       "margin-left: 0.4em;\n",
       "}\n",
       ".hoogle-package {\n",
       "font-weight: bold;\n",
       "font-style: italic;\n",
       "}\n",
       ".hoogle-module {\n",
       "font-weight: bold;\n",
       "}\n",
       ".hoogle-class {\n",
       "font-weight: bold;\n",
       "}\n",
       ".get-type {\n",
       "color: green;\n",
       "font-weight: bold;\n",
       "font-family: monospace;\n",
       "display: block;\n",
       "white-space: pre-wrap;\n",
       "}\n",
       ".show-type {\n",
       "color: green;\n",
       "font-weight: bold;\n",
       "font-family: monospace;\n",
       "margin-left: 1em;\n",
       "}\n",
       ".mono {\n",
       "font-family: monospace;\n",
       "display: block;\n",
       "}\n",
       ".err-msg {\n",
       "color: red;\n",
       "font-style: italic;\n",
       "font-family: monospace;\n",
       "white-space: pre;\n",
       "display: block;\n",
       "}\n",
       "#unshowable {\n",
       "color: red;\n",
       "font-weight: bold;\n",
       "}\n",
       ".err-msg.in.collapse {\n",
       "padding-top: 0.7em;\n",
       "}\n",
       ".highlight-code {\n",
       "white-space: pre;\n",
       "font-family: monospace;\n",
       "}\n",
       ".suggestion-warning { \n",
       "font-weight: bold;\n",
       "color: rgb(200, 130, 0);\n",
       "}\n",
       ".suggestion-error { \n",
       "font-weight: bold;\n",
       "color: red;\n",
       "}\n",
       ".suggestion-name {\n",
       "font-weight: bold;\n",
       "}\n",
       "</style><span class='get-type'>yesno :: forall a. YesNo a => a -> Bool</span>"
      ],
      "text/plain": [
       "yesno :: forall a. YesNo a => a -> Bool"
      ]
     },
     "metadata": {},
     "output_type": "display_data"
    }
   ],
   "source": [
    ":t yesno"
   ]
  },
  {
   "cell_type": "markdown",
   "metadata": {},
   "source": [
    "Right, it works! Let's make a function that mimics the if statement, but\n",
    "it works with `YesNo` values."
   ]
  },
  {
   "cell_type": "code",
   "execution_count": 153,
   "metadata": {
    "attributes": {
     "classes": [
      "haskell:hs"
     ],
     "id": "",
     "name": "\"code\""
    }
   },
   "outputs": [],
   "source": [
    "yesnoIf :: (YesNo y) => y -> a -> a -> a\n",
    "yesnoIf yesnoVal yesResult noResult = if yesno yesnoVal then yesResult else noResult"
   ]
  },
  {
   "cell_type": "markdown",
   "metadata": {},
   "source": [
    "Pretty straightforward. It takes a yes-no-ish value and two things. If\n",
    "the yes-no-ish value is more of a yes, it returns the first of the two\n",
    "things, otherwise it returns the second of them."
   ]
  },
  {
   "cell_type": "code",
   "execution_count": 154,
   "metadata": {
    "attributes": {
     "classes": [
      "haskell:hs"
     ],
     "id": "",
     "name": "\"code\""
    }
   },
   "outputs": [
    {
     "data": {
      "text/plain": [
       "\"NO!\""
      ]
     },
     "metadata": {},
     "output_type": "display_data"
    }
   ],
   "source": [
    "yesnoIf [] \"YEAH!\" \"NO!\""
   ]
  },
  {
   "cell_type": "code",
   "execution_count": 155,
   "metadata": {
    "attributes": {
     "classes": [
      "haskell:hs"
     ],
     "id": "",
     "name": "\"code\""
    }
   },
   "outputs": [
    {
     "data": {
      "text/plain": [
       "\"YEAH!\""
      ]
     },
     "metadata": {},
     "output_type": "display_data"
    }
   ],
   "source": [
    "yesnoIf [2,3,4] \"YEAH!\" \"NO!\""
   ]
  },
  {
   "cell_type": "code",
   "execution_count": 156,
   "metadata": {
    "attributes": {
     "classes": [
      "haskell:hs"
     ],
     "id": "",
     "name": "\"code\""
    }
   },
   "outputs": [
    {
     "data": {
      "text/plain": [
       "\"YEAH!\""
      ]
     },
     "metadata": {},
     "output_type": "display_data"
    }
   ],
   "source": [
    "yesnoIf True \"YEAH!\" \"NO!\""
   ]
  },
  {
   "cell_type": "code",
   "execution_count": 157,
   "metadata": {
    "attributes": {
     "classes": [
      "haskell:hs"
     ],
     "id": "",
     "name": "\"code\""
    }
   },
   "outputs": [
    {
     "data": {
      "text/plain": [
       "\"YEAH!\""
      ]
     },
     "metadata": {},
     "output_type": "display_data"
    }
   ],
   "source": [
    "yesnoIf (Just 500) \"YEAH!\" \"NO!\""
   ]
  },
  {
   "cell_type": "code",
   "execution_count": 158,
   "metadata": {
    "attributes": {
     "classes": [
      "haskell:hs"
     ],
     "id": "",
     "name": "\"code\""
    }
   },
   "outputs": [
    {
     "data": {
      "text/plain": [
       "\"NO!\""
      ]
     },
     "metadata": {},
     "output_type": "display_data"
    }
   ],
   "source": [
    "yesnoIf Nothing \"YEAH!\" \"NO!\""
   ]
  },
  {
   "cell_type": "markdown",
   "metadata": {},
   "source": [
    "<a name=\"the-functor-typeclass\"></a>\n",
    "\n",
    "The Functor typeclass\n",
    "---------------------\n",
    "\n",
    "So far, we've encountered a lot of the typeclasses in the standard\n",
    "library. We've played with [`Ord`](https://hackage.haskell.org/package/base/docs/Prelude.html#t:Ord), which is for stuff that can be ordered.\n",
    "We've palled around with `Eq`, which is for things that can be equated.\n",
    "We've seen [`Show`](https://hackage.haskell.org/package/base/docs/Prelude.html#t:Show), which presents an interface for types whose values can\n",
    "be displayed as strings. Our good friend [`Read`](https://hackage.haskell.org/package/base/docs/Prelude.html#t:Read) is there whenever we need\n",
    "to convert a string to a value of some type. And now, we're going to\n",
    "take a look at the __[`Functor`](https://hackage.haskell.org/package/base/docs/Prelude.html#t:Functor)__ typeclass, which is basically for things that\n",
    "can be mapped over. You're probably thinking about lists now, since\n",
    "mapping over lists is such a dominant idiom in Haskell. And you're\n",
    "right, the list type is part of the [`Functor`](https://hackage.haskell.org/package/base/docs/Prelude.html#t:Functor) typeclass.\n",
    "\n",
    "What better way to get to know the [`Functor`](https://hackage.haskell.org/package/base/docs/Prelude.html#t:Functor) typeclass than to see how\n",
    "it's implemented? Let's take a peek."
   ]
  },
  {
   "cell_type": "markdown",
   "metadata": {
    "attributes": {
     "classes": [
      "haskell:hs"
     ],
     "id": "",
     "name": "\"code\""
    }
   },
   "source": [
    "<pre><code>class Functor f where\n",
    "    fmap :: (a -> b) -> f a -> f b</code></pre>"
   ]
  },
  {
   "cell_type": "markdown",
   "metadata": {},
   "source": [
    "<img src=\"img/functor.png\" title=\"I AM FUNCTOOOOR!!!\" style=\"background-color:white;float:right;margin-left:2em;\" />\n",
    "\n",
    "Alright. We see that it defines one function, [`fmap`](https://hackage.haskell.org/package/base/docs/Prelude.html#v:fmap), and doesn't provide\n",
    "any default implementation for it. The type of [`fmap`](https://hackage.haskell.org/package/base/docs/Prelude.html#v:fmap) is interesting. In\n",
    "the definitions of typeclasses so far, the type variable that played the\n",
    "role of the type in the typeclass was a concrete type, like the `a` in\n",
    "`(==) :: (Eq a) => a -> a -> Bool`. But now, the `f` is not a concrete\n",
    "type (a type that a value can hold, like [`Int`](https://hackage.haskell.org/package/base/docs/Prelude.html#t:Int), [`Bool`](https://hackage.haskell.org/package/base/docs/Prelude.html#t:Bool) or `Maybe String`), but\n",
    "a type constructor that takes one type parameter. A quick refresher\n",
    "example: `Maybe Int` is a concrete type, but [`Maybe`](https://hackage.haskell.org/package/base/docs/Prelude.html#t:Maybe) is a type constructor\n",
    "that takes one type as the parameter. Anyway, we see that [`fmap`](https://hackage.haskell.org/package/base/docs/Prelude.html#v:fmap) takes a\n",
    "function from one type to another and a functor applied with one type\n",
    "and returns a functor applied with another type.\n",
    "\n",
    "If this sounds a bit confusing, don't worry. All will be revealed soon\n",
    "when we check out a few examples. Hmm, this type declaration for [`fmap`](https://hackage.haskell.org/package/base/docs/Prelude.html#v:fmap)\n",
    "reminds me of something. If you don't know what the type signature of\n",
    "[`map`](https://hackage.haskell.org/package/base/docs/Prelude.html#v:map) is, it's: `map :: (a -> b) -> [a] -> [b]`.\n",
    "\n",
    "Ah, interesting! It takes a function from one type to another and a list\n",
    "of one type and returns a list of another type. My friends, I think we\n",
    "have ourselves a functor! In fact, [`map`](https://hackage.haskell.org/package/base/docs/Prelude.html#v:map) is just a [`fmap`](https://hackage.haskell.org/package/base/docs/Prelude.html#v:fmap) that works only on\n",
    "lists. Here's how the list is an instance of the [`Functor`](https://hackage.haskell.org/package/base/docs/Prelude.html#t:Functor) typeclass."
   ]
  },
  {
   "cell_type": "markdown",
   "metadata": {
    "attributes": {
     "classes": [
      "haskell:hs"
     ],
     "id": "",
     "name": "\"code\""
    }
   },
   "source": [
    "<pre><code>instance Functor [] where\n",
    "    fmap = map</code></pre>"
   ]
  },
  {
   "cell_type": "markdown",
   "metadata": {},
   "source": [
    "That's it! Notice how we didn't write `instance Functor [a] where`,\n",
    "because from `fmap :: (a -> b) -> f a -> f b`, we see that the `f` has to\n",
    "be a type constructor that takes one type. `[a]` is already a concrete\n",
    "type (of a list with any type inside it), while `[]` is a type constructor\n",
    "that takes one type and can produce types such as `[Int]`, `[String]` or\n",
    "even `[[String]]`.\n",
    "\n",
    "Since for lists, [`fmap`](https://hackage.haskell.org/package/base/docs/Prelude.html#v:fmap) is just [`map`](https://hackage.haskell.org/package/base/docs/Prelude.html#v:map), we get the same results when using\n",
    "them on lists."
   ]
  },
  {
   "cell_type": "markdown",
   "metadata": {
    "attributes": {
     "classes": [
      "haskell:hs"
     ],
     "id": "",
     "name": "\"code\""
    }
   },
   "source": [
    "<pre><code>map :: (a -> b) -> [a] -> [b]</code></pre>"
   ]
  },
  {
   "cell_type": "code",
   "execution_count": 159,
   "metadata": {
    "attributes": {
     "classes": [
      "haskell:hs"
     ],
     "id": "",
     "name": "\"code\""
    }
   },
   "outputs": [
    {
     "data": {
      "text/plain": [
       "[2,4,6]"
      ]
     },
     "metadata": {},
     "output_type": "display_data"
    }
   ],
   "source": [
    "fmap (*2) [1..3]"
   ]
  },
  {
   "cell_type": "code",
   "execution_count": 160,
   "metadata": {
    "attributes": {
     "classes": [
      "haskell:hs"
     ],
     "id": "",
     "name": "\"code\""
    }
   },
   "outputs": [
    {
     "data": {
      "text/plain": [
       "[2,4,6]"
      ]
     },
     "metadata": {},
     "output_type": "display_data"
    }
   ],
   "source": [
    "map (*2) [1..3]"
   ]
  },
  {
   "cell_type": "markdown",
   "metadata": {},
   "source": [
    "What happens when we [`map`](https://hackage.haskell.org/package/base/docs/Prelude.html#v:map) or [`fmap`](https://hackage.haskell.org/package/base/docs/Prelude.html#v:fmap) over an empty list? Well, of course, we\n",
    "get an empty list. It just turns an empty list of type `[a]` into an empty\n",
    "list of type `[b]`.\n",
    "\n",
    "Types that can act like a box can be functors. You can think of a list\n",
    "as a box that has an infinite amount of little compartments and they can\n",
    "all be empty, one can be full and the others empty or a number of them\n",
    "can be full. So, what else has the properties of being like a box? For\n",
    "one, the `Maybe a` type. In a way, it's like a box that can either hold\n",
    "nothing, in which case it has the value of [`Nothing`](https://hackage.haskell.org/package/base/docs/Prelude.html#v:Nothing), or it can hold one\n",
    "item, like `\"HAHA\"`, in which case it has a value of `Just \"HAHA\"`. Here's\n",
    "how [`Maybe`](https://hackage.haskell.org/package/base/docs/Prelude.html#t:Maybe) is a functor."
   ]
  },
  {
   "cell_type": "markdown",
   "metadata": {
    "attributes": {
     "classes": [
      "haskell:hs"
     ],
     "id": "",
     "name": "\"code\""
    }
   },
   "source": [
    "<pre><code>instance Functor Maybe where\n",
    "    fmap f (Just x) = Just (f x)\n",
    "    fmap f Nothing = Nothing</code></pre>"
   ]
  },
  {
   "cell_type": "markdown",
   "metadata": {},
   "source": [
    "Again, notice how we wrote `instance Functor Maybe where` instead of\n",
    "`instance Functor (Maybe m)` where, like we did when we were dealing with\n",
    "[`Maybe`](https://hackage.haskell.org/package/base/docs/Prelude.html#t:Maybe) and `YesNo`. [`Functor`](https://hackage.haskell.org/package/base/docs/Prelude.html#t:Functor) wants a type constructor that takes one type\n",
    "and not a concrete type. If you mentally replace the `fs` with [`Maybe`](https://hackage.haskell.org/package/base/docs/Prelude.html#t:Maybe)s,\n",
    "[`fmap`](https://hackage.haskell.org/package/base/docs/Prelude.html#v:fmap) acts like a `(a -> b) -> Maybe a -> Maybe b` for this particular\n",
    "type, which looks OK. But if you replace `f` with `(Maybe m)`, then it would\n",
    "seem to act like a `(a -> b) -> Maybe m a -> Maybe m b`, which doesn't\n",
    "make any damn sense because [`Maybe`](https://hackage.haskell.org/package/base/docs/Prelude.html#t:Maybe) takes just one type parameter.\n",
    "\n",
    "Anyway, the [`fmap`](https://hackage.haskell.org/package/base/docs/Prelude.html#v:fmap) implementation is pretty simple. If it's an empty value\n",
    "of [`Nothing`](https://hackage.haskell.org/package/base/docs/Prelude.html#v:Nothing), then just return a [`Nothing`](https://hackage.haskell.org/package/base/docs/Prelude.html#v:Nothing). If we map over an empty box, we\n",
    "get an empty box. It makes sense. Just like if we map over an empty\n",
    "list, we get back an empty list. If it's not an empty value, but rather\n",
    "a single value packed up in a [`Just`](https://hackage.haskell.org/package/base/docs/Prelude.html#v:Just), then we apply the function on the\n",
    "contents of the [`Just`](https://hackage.haskell.org/package/base/docs/Prelude.html#v:Just)."
   ]
  },
  {
   "cell_type": "code",
   "execution_count": 161,
   "metadata": {
    "attributes": {
     "classes": [
      "haskell:hs"
     ],
     "id": "",
     "name": "\"code\""
    }
   },
   "outputs": [
    {
     "data": {
      "text/plain": [
       "Just \"Something serious. HEY GUYS IM INSIDE THE JUST\""
      ]
     },
     "metadata": {},
     "output_type": "display_data"
    }
   ],
   "source": [
    "fmap (++ \" HEY GUYS IM INSIDE THE JUST\") (Just \"Something serious.\")"
   ]
  },
  {
   "cell_type": "code",
   "execution_count": 162,
   "metadata": {
    "attributes": {
     "classes": [
      "haskell:hs"
     ],
     "id": "",
     "name": "\"code\""
    }
   },
   "outputs": [
    {
     "data": {
      "text/plain": [
       "Nothing"
      ]
     },
     "metadata": {},
     "output_type": "display_data"
    }
   ],
   "source": [
    "fmap (++ \" HEY GUYS IM INSIDE THE JUST\") Nothing"
   ]
  },
  {
   "cell_type": "code",
   "execution_count": 163,
   "metadata": {
    "attributes": {
     "classes": [
      "haskell:hs"
     ],
     "id": "",
     "name": "\"code\""
    }
   },
   "outputs": [
    {
     "data": {
      "text/plain": [
       "Just 400"
      ]
     },
     "metadata": {},
     "output_type": "display_data"
    }
   ],
   "source": [
    "fmap (*2) (Just 200)"
   ]
  },
  {
   "cell_type": "code",
   "execution_count": 164,
   "metadata": {
    "attributes": {
     "classes": [
      "haskell:hs"
     ],
     "id": "",
     "name": "\"code\""
    }
   },
   "outputs": [
    {
     "data": {
      "text/plain": [
       "Nothing"
      ]
     },
     "metadata": {},
     "output_type": "display_data"
    }
   ],
   "source": [
    "fmap (*2) Nothing"
   ]
  },
  {
   "cell_type": "markdown",
   "metadata": {},
   "source": [
    "Another thing that can be mapped over and made an instance of [`Functor`](https://hackage.haskell.org/package/base/docs/Prelude.html#t:Functor) is\n",
    "our `Tree a` type. It can be thought of as a box in a way (holds several\n",
    "or no values) and the `Tree` type constructor takes exactly one type\n",
    "parameter. If you look at [`fmap`](https://hackage.haskell.org/package/base/docs/Prelude.html#v:fmap) as if it were a function made only for\n",
    "`Tree`, its type signature would look like `(a -> b) -> Tree a -> Tree b`.\n",
    "We're going to use recursion on this one. Mapping over an empty tree\n",
    "will produce an empty tree. Mapping over a non-empty tree will be a tree\n",
    "consisting of our function applied to the root value and its left and\n",
    "right sub-trees will be the previous sub-trees, only our function will\n",
    "be mapped over them."
   ]
  },
  {
   "cell_type": "code",
   "execution_count": 165,
   "metadata": {
    "attributes": {
     "classes": [
      "haskell:hs"
     ],
     "id": "",
     "name": "\"code\""
    }
   },
   "outputs": [],
   "source": [
    "instance Functor Tree where\n",
    "    fmap f EmptyTree = EmptyTree\n",
    "    fmap f (Node x leftsub rightsub) = Node (f x) (fmap f leftsub) (fmap f rightsub)"
   ]
  },
  {
   "cell_type": "code",
   "execution_count": 166,
   "metadata": {
    "attributes": {
     "classes": [
      "haskell:hs"
     ],
     "id": "",
     "name": "\"code\""
    }
   },
   "outputs": [
    {
     "data": {
      "text/plain": [
       "EmptyTree"
      ]
     },
     "metadata": {},
     "output_type": "display_data"
    }
   ],
   "source": [
    "fmap (*2) EmptyTree"
   ]
  },
  {
   "cell_type": "code",
   "execution_count": 167,
   "metadata": {
    "attributes": {
     "classes": [
      "haskell:hs"
     ],
     "id": "",
     "name": "\"code\""
    }
   },
   "outputs": [
    {
     "data": {
      "text/plain": [
       "Node 28 (Node 4 EmptyTree (Node 8 EmptyTree (Node 12 EmptyTree (Node 20 EmptyTree EmptyTree)))) EmptyTree"
      ]
     },
     "metadata": {},
     "output_type": "display_data"
    }
   ],
   "source": [
    "fmap (*4) (foldr treeInsert EmptyTree [5,7,3,2,1,7])"
   ]
  },
  {
   "cell_type": "markdown",
   "metadata": {},
   "source": [
    "Nice! Now how about `Either a b`? Can this be made a functor? The [`Functor`](https://hackage.haskell.org/package/base/docs/Prelude.html#t:Functor)\n",
    "typeclass wants a type constructor that takes only one type parameter\n",
    "but [`Either`](https://hackage.haskell.org/package/base/docs/Prelude.html#t:Either) takes two. Hmmm! I know, we'll partially apply [`Either`](https://hackage.haskell.org/package/base/docs/Prelude.html#t:Either) by\n",
    "feeding it only one parameter so that it has one free parameter. Here's\n",
    "how `Either a` is a functor in the standard libraries:"
   ]
  },
  {
   "cell_type": "markdown",
   "metadata": {
    "attributes": {
     "classes": [
      "haskell:hs"
     ],
     "id": "",
     "name": "\"code\""
    }
   },
   "source": [
    "<pre><code>instance Functor (Either a) where\n",
    "    fmap f (Right x) = Right (f x)\n",
    "    fmap f (Left x) = Left x</code></pre>"
   ]
  },
  {
   "cell_type": "markdown",
   "metadata": {},
   "source": [
    "Well well, what did we do here? You can see how we made `Either a` an\n",
    "instance instead of just [`Either`](https://hackage.haskell.org/package/base/docs/Prelude.html#t:Either). That's because `Either a` is a type\n",
    "constructor that takes one parameter, whereas [`Either`](https://hackage.haskell.org/package/base/docs/Prelude.html#t:Either) takes two. If [`fmap`](https://hackage.haskell.org/package/base/docs/Prelude.html#v:fmap)\n",
    "was specifically for Either a, the type signature would then be\n",
    "`(b -> c) -> Either a b -> Either a c`\n",
    "because that's the same as\n",
    "`(b -> c) -> (Either a) b -> (Either a) c`.\n",
    "In the implementation, we mapped in\n",
    "the case of a [`Right`](https://hackage.haskell.org/package/base/docs/Prelude.html#v:Right) value constructor, but we didn't in the case of a\n",
    "[`Left`](https://hackage.haskell.org/package/base/docs/Prelude.html#v:Left). Why is that? Well, if we look back at how the `Either a b` type is\n",
    "defined, it's kind of like:"
   ]
  },
  {
   "cell_type": "markdown",
   "metadata": {
    "attributes": {
     "classes": [
      "haskell:hs"
     ],
     "id": "",
     "name": "\"code\""
    }
   },
   "source": [
    "<pre><code>data Either a b = Left a | Right b</code></pre>"
   ]
  },
  {
   "cell_type": "markdown",
   "metadata": {},
   "source": [
    "Well, if we wanted to map one function over both of them, `a` and `b` would\n",
    "have to be the same type. I mean, if we tried to map a function that\n",
    "takes a string and returns a string and the `b` was a string but the `a` was\n",
    "a number, that wouldn't really work out. Also, from seeing what [`fmap`](https://hackage.haskell.org/package/base/docs/Prelude.html#v:fmap)'s\n",
    "type would be if it operated only on [`Either`](https://hackage.haskell.org/package/base/docs/Prelude.html#t:Either) values, we see that the\n",
    "first parameter has to remain the same while the second one can change\n",
    "and the first parameter is actualized by the [`Left`](https://hackage.haskell.org/package/base/docs/Prelude.html#v:Left) value constructor.\n",
    "\n",
    "This also goes nicely with our box analogy if we think of the [`Left`](https://hackage.haskell.org/package/base/docs/Prelude.html#v:Left) part\n",
    "as sort of an empty box with an error message written on the side\n",
    "telling us why it's empty.\n",
    "\n",
    "Maps from `Data.Map` can also be made a functor because they hold values\n",
    "(or not!). In the case of `Map k v`, [`fmap`](https://hackage.haskell.org/package/base/docs/Prelude.html#v:fmap) will map a function `v -> v'`\n",
    "over a map of type `Map k v` and return a map of type `Map k v'`.\n",
    "\n",
    "> Note, the `'` has no special meaning in types just like it doesn't have\n",
    "> special meaning when naming values. It's used to denote things that are\n",
    "> similar, only slightly changed.\n",
    "\n",
    "Try figuring out how `Map k` is made an instance of [`Functor`](https://hackage.haskell.org/package/base/docs/Prelude.html#t:Functor) by yourself!\n",
    "\n",
    "With the [`Functor`](https://hackage.haskell.org/package/base/docs/Prelude.html#t:Functor) typeclass, we've seen how typeclasses can represent\n",
    "pretty cool higher-order concepts. We've also had some more practice\n",
    "with partially applying types and making instances. In one of the next\n",
    "chapters, we'll also take a look at some laws that apply for functors.\n",
    "\n",
    "> __Just one more thing!__ Functors should obey some laws so that they may\n",
    "> have some properties that we can depend on and not think about too much.\n",
    "> If we use `fmap (+1)` over the list `[1,2,3,4]`, we expect the result to be\n",
    "> `[2,3,4,5]` and not its reverse, `[5,4,3,2]`. If we use `fmap (\\a -> a)`\n",
    "> (the identity function, which just returns its parameter) over some\n",
    "> list, we expect to get back the same list as a result. For example, if\n",
    "> we gave the wrong functor instance to our `Tree` type, using [`fmap`](https://hackage.haskell.org/package/base/docs/Prelude.html#v:fmap) over a\n",
    "> tree where the left sub-tree of a node only has elements that are\n",
    "> smaller than the node and the right sub-tree only has nodes that are\n",
    "> larger than the node might produce a tree where that's not the case.\n",
    "> We'll go over the functor laws in more detail in one of the next\n",
    "> chapters.\n",
    "\n",
    "Kinds and some type-foo\n",
    "-----------------------\n",
    "\n",
    "<img src=\"img/typefoo.png\" title=\"TYPE FOO MASTER\" style=\"background-color:white;float:right;margin-left:2em;\" />\n",
    "\n",
    "Type constructors take other types as parameters to eventually produce\n",
    "concrete types. That kind of reminds me of functions, which take values\n",
    "as parameters to produce values. We've seen that type constructors can\n",
    "be partially applied (`Either String` is a type that takes one type and\n",
    "produces a concrete type, like `Either String Int`), just like functions\n",
    "can. This is all very interesting indeed. In this section, we'll take a\n",
    "look at formally defining how types are applied to type constructors,\n",
    "just like we took a look at formally defining how values are applied to\n",
    "functions by using type declarations. *You don't really have to read\n",
    "this section to continue on your magical Haskell quest* and if you don't\n",
    "understand it, don't worry about it. However, getting this will give you\n",
    "a very thorough understanding of the type system.\n",
    "\n",
    "So, values like `3`, `\"YEAH\"` or [`takeWhile`](https://hackage.haskell.org/package/base/docs/Prelude.html#v:takeWhile) (functions are also values,\n",
    "because we can pass them around and such) each have their own type.\n",
    "Types are little labels that values carry so that we can reason about\n",
    "the values. But types have their own little labels, called *kinds*. A\n",
    "kind is more or less the type of a type. This may sound a bit weird and\n",
    "confusing, but it's actually a really cool concept.\n",
    "\n",
    "What are kinds and what are they good for? Well, let's examine the kind\n",
    "of a type by using the `:k` command in GHCI."
   ]
  },
  {
   "cell_type": "code",
   "execution_count": 168,
   "metadata": {
    "attributes": {
     "classes": [
      "haskell:hs"
     ],
     "id": "",
     "name": "\"code\""
    }
   },
   "outputs": [
    {
     "data": {
      "text/html": [
       "<style>/* Styles used for the Hoogle display in the pager */\n",
       ".hoogle-doc {\n",
       "display: block;\n",
       "padding-bottom: 1.3em;\n",
       "padding-left: 0.4em;\n",
       "}\n",
       ".hoogle-code {\n",
       "display: block;\n",
       "font-family: monospace;\n",
       "white-space: pre;\n",
       "}\n",
       ".hoogle-text {\n",
       "display: block;\n",
       "}\n",
       ".hoogle-name {\n",
       "color: green;\n",
       "font-weight: bold;\n",
       "}\n",
       ".hoogle-head {\n",
       "font-weight: bold;\n",
       "}\n",
       ".hoogle-sub {\n",
       "display: block;\n",
       "margin-left: 0.4em;\n",
       "}\n",
       ".hoogle-package {\n",
       "font-weight: bold;\n",
       "font-style: italic;\n",
       "}\n",
       ".hoogle-module {\n",
       "font-weight: bold;\n",
       "}\n",
       ".hoogle-class {\n",
       "font-weight: bold;\n",
       "}\n",
       ".get-type {\n",
       "color: green;\n",
       "font-weight: bold;\n",
       "font-family: monospace;\n",
       "display: block;\n",
       "white-space: pre-wrap;\n",
       "}\n",
       ".show-type {\n",
       "color: green;\n",
       "font-weight: bold;\n",
       "font-family: monospace;\n",
       "margin-left: 1em;\n",
       "}\n",
       ".mono {\n",
       "font-family: monospace;\n",
       "display: block;\n",
       "}\n",
       ".err-msg {\n",
       "color: red;\n",
       "font-style: italic;\n",
       "font-family: monospace;\n",
       "white-space: pre;\n",
       "display: block;\n",
       "}\n",
       "#unshowable {\n",
       "color: red;\n",
       "font-weight: bold;\n",
       "}\n",
       ".err-msg.in.collapse {\n",
       "padding-top: 0.7em;\n",
       "}\n",
       ".highlight-code {\n",
       "white-space: pre;\n",
       "font-family: monospace;\n",
       "}\n",
       ".suggestion-warning { \n",
       "font-weight: bold;\n",
       "color: rgb(200, 130, 0);\n",
       "}\n",
       ".suggestion-error { \n",
       "font-weight: bold;\n",
       "color: red;\n",
       "}\n",
       ".suggestion-name {\n",
       "font-weight: bold;\n",
       "}\n",
       "</style><span class='get-type'>Int :: *</span>"
      ],
      "text/plain": [
       "Int :: *"
      ]
     },
     "metadata": {},
     "output_type": "display_data"
    }
   ],
   "source": [
    ":k Int"
   ]
  },
  {
   "cell_type": "markdown",
   "metadata": {},
   "source": [
    "A star? How quaint. What does that mean? A [`*`](https://hackage.haskell.org/package/base/docs/Prelude.html#v:-42-) means that the type is a\n",
    "concrete type. A concrete type is a type that doesn't take any type\n",
    "parameters and values can only have types that are concrete types. If I\n",
    "had to read [`*`](https://hackage.haskell.org/package/base/docs/Prelude.html#v:-42-) out loud (I haven't had to do that so far), I'd say\n",
    "*star* or just *type*.\n",
    "\n",
    "Okay, now let's see what the kind of Maybe is."
   ]
  },
  {
   "cell_type": "code",
   "execution_count": 169,
   "metadata": {
    "attributes": {
     "classes": [
      "haskell:hs"
     ],
     "id": "",
     "name": "\"code\""
    }
   },
   "outputs": [
    {
     "data": {
      "text/html": [
       "<style>/* Styles used for the Hoogle display in the pager */\n",
       ".hoogle-doc {\n",
       "display: block;\n",
       "padding-bottom: 1.3em;\n",
       "padding-left: 0.4em;\n",
       "}\n",
       ".hoogle-code {\n",
       "display: block;\n",
       "font-family: monospace;\n",
       "white-space: pre;\n",
       "}\n",
       ".hoogle-text {\n",
       "display: block;\n",
       "}\n",
       ".hoogle-name {\n",
       "color: green;\n",
       "font-weight: bold;\n",
       "}\n",
       ".hoogle-head {\n",
       "font-weight: bold;\n",
       "}\n",
       ".hoogle-sub {\n",
       "display: block;\n",
       "margin-left: 0.4em;\n",
       "}\n",
       ".hoogle-package {\n",
       "font-weight: bold;\n",
       "font-style: italic;\n",
       "}\n",
       ".hoogle-module {\n",
       "font-weight: bold;\n",
       "}\n",
       ".hoogle-class {\n",
       "font-weight: bold;\n",
       "}\n",
       ".get-type {\n",
       "color: green;\n",
       "font-weight: bold;\n",
       "font-family: monospace;\n",
       "display: block;\n",
       "white-space: pre-wrap;\n",
       "}\n",
       ".show-type {\n",
       "color: green;\n",
       "font-weight: bold;\n",
       "font-family: monospace;\n",
       "margin-left: 1em;\n",
       "}\n",
       ".mono {\n",
       "font-family: monospace;\n",
       "display: block;\n",
       "}\n",
       ".err-msg {\n",
       "color: red;\n",
       "font-style: italic;\n",
       "font-family: monospace;\n",
       "white-space: pre;\n",
       "display: block;\n",
       "}\n",
       "#unshowable {\n",
       "color: red;\n",
       "font-weight: bold;\n",
       "}\n",
       ".err-msg.in.collapse {\n",
       "padding-top: 0.7em;\n",
       "}\n",
       ".highlight-code {\n",
       "white-space: pre;\n",
       "font-family: monospace;\n",
       "}\n",
       ".suggestion-warning { \n",
       "font-weight: bold;\n",
       "color: rgb(200, 130, 0);\n",
       "}\n",
       ".suggestion-error { \n",
       "font-weight: bold;\n",
       "color: red;\n",
       "}\n",
       ".suggestion-name {\n",
       "font-weight: bold;\n",
       "}\n",
       "</style><span class='get-type'>Maybe :: * -> *</span>"
      ],
      "text/plain": [
       "Maybe :: * -> *"
      ]
     },
     "metadata": {},
     "output_type": "display_data"
    }
   ],
   "source": [
    ":k Maybe"
   ]
  },
  {
   "cell_type": "markdown",
   "metadata": {},
   "source": [
    "The [`Maybe`](https://hackage.haskell.org/package/base/docs/Prelude.html#t:Maybe) type constructor takes one concrete type (like [`Int`](https://hackage.haskell.org/package/base/docs/Prelude.html#t:Int)) and then\n",
    "returns a concrete type like `Maybe Int`. And that's what this kind tells\n",
    "us. Just like `Int -> Int` means that a function takes an [`Int`](https://hackage.haskell.org/package/base/docs/Prelude.html#t:Int) and returns\n",
    "an [`Int`](https://hackage.haskell.org/package/base/docs/Prelude.html#t:Int), `* -> *` means that the type constructor takes one concrete\n",
    "type and returns a concrete type. Let's apply the type parameter to\n",
    "[`Maybe`](https://hackage.haskell.org/package/base/docs/Prelude.html#t:Maybe) and see what the kind of that type is."
   ]
  },
  {
   "cell_type": "code",
   "execution_count": 170,
   "metadata": {
    "attributes": {
     "classes": [
      "haskell:hs"
     ],
     "id": "",
     "name": "\"code\""
    }
   },
   "outputs": [
    {
     "data": {
      "text/html": [
       "<style>/* Styles used for the Hoogle display in the pager */\n",
       ".hoogle-doc {\n",
       "display: block;\n",
       "padding-bottom: 1.3em;\n",
       "padding-left: 0.4em;\n",
       "}\n",
       ".hoogle-code {\n",
       "display: block;\n",
       "font-family: monospace;\n",
       "white-space: pre;\n",
       "}\n",
       ".hoogle-text {\n",
       "display: block;\n",
       "}\n",
       ".hoogle-name {\n",
       "color: green;\n",
       "font-weight: bold;\n",
       "}\n",
       ".hoogle-head {\n",
       "font-weight: bold;\n",
       "}\n",
       ".hoogle-sub {\n",
       "display: block;\n",
       "margin-left: 0.4em;\n",
       "}\n",
       ".hoogle-package {\n",
       "font-weight: bold;\n",
       "font-style: italic;\n",
       "}\n",
       ".hoogle-module {\n",
       "font-weight: bold;\n",
       "}\n",
       ".hoogle-class {\n",
       "font-weight: bold;\n",
       "}\n",
       ".get-type {\n",
       "color: green;\n",
       "font-weight: bold;\n",
       "font-family: monospace;\n",
       "display: block;\n",
       "white-space: pre-wrap;\n",
       "}\n",
       ".show-type {\n",
       "color: green;\n",
       "font-weight: bold;\n",
       "font-family: monospace;\n",
       "margin-left: 1em;\n",
       "}\n",
       ".mono {\n",
       "font-family: monospace;\n",
       "display: block;\n",
       "}\n",
       ".err-msg {\n",
       "color: red;\n",
       "font-style: italic;\n",
       "font-family: monospace;\n",
       "white-space: pre;\n",
       "display: block;\n",
       "}\n",
       "#unshowable {\n",
       "color: red;\n",
       "font-weight: bold;\n",
       "}\n",
       ".err-msg.in.collapse {\n",
       "padding-top: 0.7em;\n",
       "}\n",
       ".highlight-code {\n",
       "white-space: pre;\n",
       "font-family: monospace;\n",
       "}\n",
       ".suggestion-warning { \n",
       "font-weight: bold;\n",
       "color: rgb(200, 130, 0);\n",
       "}\n",
       ".suggestion-error { \n",
       "font-weight: bold;\n",
       "color: red;\n",
       "}\n",
       ".suggestion-name {\n",
       "font-weight: bold;\n",
       "}\n",
       "</style><span class='get-type'>Maybe Int :: *</span>"
      ],
      "text/plain": [
       "Maybe Int :: *"
      ]
     },
     "metadata": {},
     "output_type": "display_data"
    }
   ],
   "source": [
    ":k Maybe Int"
   ]
  },
  {
   "cell_type": "markdown",
   "metadata": {},
   "source": [
    "Just like I expected! We applied the type parameter to [`Maybe`](https://hackage.haskell.org/package/base/docs/Prelude.html#t:Maybe) and got\n",
    "back a concrete type (that's what `* -> *` means. A parallel (although\n",
    "not equivalent, types and kinds are two different things) to this is if\n",
    "we do `:t isUpper` and `:t isUpper 'A'`. [`isUpper`](https://hackage.haskell.org/package/base/docs/Data-Char.html#v:isUpper) has a type of `Char -> Bool`\n",
    "and `isUpper 'A'` has a type of [`Bool`](https://hackage.haskell.org/package/base/docs/Prelude.html#t:Bool), because its value is basically [`True`](https://hackage.haskell.org/package/base/docs/Prelude.html#v:True).\n",
    "Both those types, however, have a kind of [`*`](https://hackage.haskell.org/package/base/docs/Prelude.html#v:-42-).\n",
    "\n",
    "We used `:k` on a type to get its kind, just like we can use `:t` on a value\n",
    "to get its type. Like we said, types are the labels of values and kinds\n",
    "are the labels of types and there are parallels between the two.\n",
    "\n",
    "Let's look at another kind."
   ]
  },
  {
   "cell_type": "code",
   "execution_count": 171,
   "metadata": {
    "attributes": {
     "classes": [
      "haskell:hs"
     ],
     "id": "",
     "name": "\"code\""
    }
   },
   "outputs": [
    {
     "data": {
      "text/html": [
       "<style>/* Styles used for the Hoogle display in the pager */\n",
       ".hoogle-doc {\n",
       "display: block;\n",
       "padding-bottom: 1.3em;\n",
       "padding-left: 0.4em;\n",
       "}\n",
       ".hoogle-code {\n",
       "display: block;\n",
       "font-family: monospace;\n",
       "white-space: pre;\n",
       "}\n",
       ".hoogle-text {\n",
       "display: block;\n",
       "}\n",
       ".hoogle-name {\n",
       "color: green;\n",
       "font-weight: bold;\n",
       "}\n",
       ".hoogle-head {\n",
       "font-weight: bold;\n",
       "}\n",
       ".hoogle-sub {\n",
       "display: block;\n",
       "margin-left: 0.4em;\n",
       "}\n",
       ".hoogle-package {\n",
       "font-weight: bold;\n",
       "font-style: italic;\n",
       "}\n",
       ".hoogle-module {\n",
       "font-weight: bold;\n",
       "}\n",
       ".hoogle-class {\n",
       "font-weight: bold;\n",
       "}\n",
       ".get-type {\n",
       "color: green;\n",
       "font-weight: bold;\n",
       "font-family: monospace;\n",
       "display: block;\n",
       "white-space: pre-wrap;\n",
       "}\n",
       ".show-type {\n",
       "color: green;\n",
       "font-weight: bold;\n",
       "font-family: monospace;\n",
       "margin-left: 1em;\n",
       "}\n",
       ".mono {\n",
       "font-family: monospace;\n",
       "display: block;\n",
       "}\n",
       ".err-msg {\n",
       "color: red;\n",
       "font-style: italic;\n",
       "font-family: monospace;\n",
       "white-space: pre;\n",
       "display: block;\n",
       "}\n",
       "#unshowable {\n",
       "color: red;\n",
       "font-weight: bold;\n",
       "}\n",
       ".err-msg.in.collapse {\n",
       "padding-top: 0.7em;\n",
       "}\n",
       ".highlight-code {\n",
       "white-space: pre;\n",
       "font-family: monospace;\n",
       "}\n",
       ".suggestion-warning { \n",
       "font-weight: bold;\n",
       "color: rgb(200, 130, 0);\n",
       "}\n",
       ".suggestion-error { \n",
       "font-weight: bold;\n",
       "color: red;\n",
       "}\n",
       ".suggestion-name {\n",
       "font-weight: bold;\n",
       "}\n",
       "</style><span class='get-type'>Either :: * -> * -> *</span>"
      ],
      "text/plain": [
       "Either :: * -> * -> *"
      ]
     },
     "metadata": {},
     "output_type": "display_data"
    }
   ],
   "source": [
    ":k Either"
   ]
  },
  {
   "cell_type": "markdown",
   "metadata": {},
   "source": [
    "Aha, this tells us that [`Either`](https://hackage.haskell.org/package/base/docs/Prelude.html#t:Either) takes two concrete types as type\n",
    "parameters to produce a concrete type. It also looks kind of like a type\n",
    "declaration of a function that takes two values and returns something.\n",
    "Type constructors are curried (just like functions), so we can partially\n",
    "apply them."
   ]
  },
  {
   "cell_type": "code",
   "execution_count": 172,
   "metadata": {
    "attributes": {
     "classes": [
      "haskell:hs"
     ],
     "id": "",
     "name": "\"code\""
    }
   },
   "outputs": [
    {
     "data": {
      "text/html": [
       "<style>/* Styles used for the Hoogle display in the pager */\n",
       ".hoogle-doc {\n",
       "display: block;\n",
       "padding-bottom: 1.3em;\n",
       "padding-left: 0.4em;\n",
       "}\n",
       ".hoogle-code {\n",
       "display: block;\n",
       "font-family: monospace;\n",
       "white-space: pre;\n",
       "}\n",
       ".hoogle-text {\n",
       "display: block;\n",
       "}\n",
       ".hoogle-name {\n",
       "color: green;\n",
       "font-weight: bold;\n",
       "}\n",
       ".hoogle-head {\n",
       "font-weight: bold;\n",
       "}\n",
       ".hoogle-sub {\n",
       "display: block;\n",
       "margin-left: 0.4em;\n",
       "}\n",
       ".hoogle-package {\n",
       "font-weight: bold;\n",
       "font-style: italic;\n",
       "}\n",
       ".hoogle-module {\n",
       "font-weight: bold;\n",
       "}\n",
       ".hoogle-class {\n",
       "font-weight: bold;\n",
       "}\n",
       ".get-type {\n",
       "color: green;\n",
       "font-weight: bold;\n",
       "font-family: monospace;\n",
       "display: block;\n",
       "white-space: pre-wrap;\n",
       "}\n",
       ".show-type {\n",
       "color: green;\n",
       "font-weight: bold;\n",
       "font-family: monospace;\n",
       "margin-left: 1em;\n",
       "}\n",
       ".mono {\n",
       "font-family: monospace;\n",
       "display: block;\n",
       "}\n",
       ".err-msg {\n",
       "color: red;\n",
       "font-style: italic;\n",
       "font-family: monospace;\n",
       "white-space: pre;\n",
       "display: block;\n",
       "}\n",
       "#unshowable {\n",
       "color: red;\n",
       "font-weight: bold;\n",
       "}\n",
       ".err-msg.in.collapse {\n",
       "padding-top: 0.7em;\n",
       "}\n",
       ".highlight-code {\n",
       "white-space: pre;\n",
       "font-family: monospace;\n",
       "}\n",
       ".suggestion-warning { \n",
       "font-weight: bold;\n",
       "color: rgb(200, 130, 0);\n",
       "}\n",
       ".suggestion-error { \n",
       "font-weight: bold;\n",
       "color: red;\n",
       "}\n",
       ".suggestion-name {\n",
       "font-weight: bold;\n",
       "}\n",
       "</style><span class='get-type'>Either String :: * -> *</span>"
      ],
      "text/plain": [
       "Either String :: * -> *"
      ]
     },
     "metadata": {},
     "output_type": "display_data"
    }
   ],
   "source": [
    ":k Either String"
   ]
  },
  {
   "cell_type": "code",
   "execution_count": 173,
   "metadata": {
    "attributes": {
     "classes": [
      "haskell:hs"
     ],
     "id": "",
     "name": "\"code\""
    }
   },
   "outputs": [
    {
     "data": {
      "text/html": [
       "<style>/* Styles used for the Hoogle display in the pager */\n",
       ".hoogle-doc {\n",
       "display: block;\n",
       "padding-bottom: 1.3em;\n",
       "padding-left: 0.4em;\n",
       "}\n",
       ".hoogle-code {\n",
       "display: block;\n",
       "font-family: monospace;\n",
       "white-space: pre;\n",
       "}\n",
       ".hoogle-text {\n",
       "display: block;\n",
       "}\n",
       ".hoogle-name {\n",
       "color: green;\n",
       "font-weight: bold;\n",
       "}\n",
       ".hoogle-head {\n",
       "font-weight: bold;\n",
       "}\n",
       ".hoogle-sub {\n",
       "display: block;\n",
       "margin-left: 0.4em;\n",
       "}\n",
       ".hoogle-package {\n",
       "font-weight: bold;\n",
       "font-style: italic;\n",
       "}\n",
       ".hoogle-module {\n",
       "font-weight: bold;\n",
       "}\n",
       ".hoogle-class {\n",
       "font-weight: bold;\n",
       "}\n",
       ".get-type {\n",
       "color: green;\n",
       "font-weight: bold;\n",
       "font-family: monospace;\n",
       "display: block;\n",
       "white-space: pre-wrap;\n",
       "}\n",
       ".show-type {\n",
       "color: green;\n",
       "font-weight: bold;\n",
       "font-family: monospace;\n",
       "margin-left: 1em;\n",
       "}\n",
       ".mono {\n",
       "font-family: monospace;\n",
       "display: block;\n",
       "}\n",
       ".err-msg {\n",
       "color: red;\n",
       "font-style: italic;\n",
       "font-family: monospace;\n",
       "white-space: pre;\n",
       "display: block;\n",
       "}\n",
       "#unshowable {\n",
       "color: red;\n",
       "font-weight: bold;\n",
       "}\n",
       ".err-msg.in.collapse {\n",
       "padding-top: 0.7em;\n",
       "}\n",
       ".highlight-code {\n",
       "white-space: pre;\n",
       "font-family: monospace;\n",
       "}\n",
       ".suggestion-warning { \n",
       "font-weight: bold;\n",
       "color: rgb(200, 130, 0);\n",
       "}\n",
       ".suggestion-error { \n",
       "font-weight: bold;\n",
       "color: red;\n",
       "}\n",
       ".suggestion-name {\n",
       "font-weight: bold;\n",
       "}\n",
       "</style><span class='get-type'>Either String Int :: *</span>"
      ],
      "text/plain": [
       "Either String Int :: *"
      ]
     },
     "metadata": {},
     "output_type": "display_data"
    }
   ],
   "source": [
    ":k Either String Int"
   ]
  },
  {
   "cell_type": "markdown",
   "metadata": {},
   "source": [
    "When we wanted to make [`Either`](https://hackage.haskell.org/package/base/docs/Prelude.html#t:Either) a part of the [`Functor`](https://hackage.haskell.org/package/base/docs/Prelude.html#t:Functor) typeclass, we had to\n",
    "partially apply it because [`Functor`](https://hackage.haskell.org/package/base/docs/Prelude.html#t:Functor) wants types that take only one\n",
    "parameter while [`Either`](https://hackage.haskell.org/package/base/docs/Prelude.html#t:Either) takes two. In other words, [`Functor`](https://hackage.haskell.org/package/base/docs/Prelude.html#t:Functor) wants types of\n",
    "kind `* -> *` and so we had to partially apply [`Either`](https://hackage.haskell.org/package/base/docs/Prelude.html#t:Either) to get a type of\n",
    "kind `* -> *` instead of its original kind `* -> * -> *`. If we look\n",
    "at the definition of [`Functor`](https://hackage.haskell.org/package/base/docs/Prelude.html#t:Functor) again"
   ]
  },
  {
   "cell_type": "markdown",
   "metadata": {
    "attributes": {
     "classes": [
      "haskell:hs"
     ],
     "id": "",
     "name": "\"code\""
    }
   },
   "source": [
    "<pre><code>class Functor f where\n",
    "    fmap :: (a -> b) -> f a -> f b</code></pre>"
   ]
  },
  {
   "cell_type": "markdown",
   "metadata": {},
   "source": [
    "we see that the `f` type variable is used as a type that takes one\n",
    "concrete type to produce a concrete type. We know it has to produce a\n",
    "concrete type because it's used as the type of a value in a function.\n",
    "And from that, we can deduce that types that want to be friends with\n",
    "[`Functor`](https://hackage.haskell.org/package/base/docs/Prelude.html#t:Functor) have to be of kind `* -> *`.\n",
    "\n",
    "Now, let's do some type-foo. Take a look at this typeclass that I'm just\n",
    "going to make up right now:"
   ]
  },
  {
   "cell_type": "code",
   "execution_count": 174,
   "metadata": {
    "attributes": {
     "classes": [
      "haskell:hs"
     ],
     "id": "",
     "name": "\"code\""
    }
   },
   "outputs": [],
   "source": [
    "class Tofu t where\n",
    "    tofu :: j a -> t a j"
   ]
  },
  {
   "cell_type": "markdown",
   "metadata": {},
   "source": [
    "Man, that looks weird. How would we make a type that could be an\n",
    "instance of that strange typeclass? Well, let's look at what its kind\n",
    "would have to be. Because `j a` is used as the type of a value that the\n",
    "`tofu` function takes as its parameter, `j a` has to have a kind of [`*`](https://hackage.haskell.org/package/base/docs/Prelude.html#v:-42-). We\n",
    "assume [`*`](https://hackage.haskell.org/package/base/docs/Prelude.html#v:-42-) for `a` and so we can infer that `j` has to have a kind of\n",
    "`* -> *`. We see that t has to produce a concrete value too and that it takes\n",
    "two types. And knowing that a has a kind of [`*`](https://hackage.haskell.org/package/base/docs/Prelude.html#v:-42-) and `j` has a kind of\n",
    "`* -> *`, we infer that t has to have a kind of\n",
    "`* -> (* -> *) -> *`.\n",
    "So it takes a concrete type (`a`), a type constructor that takes one\n",
    "concrete type (`j`) and produces a concrete type. Wow.\n",
    "\n",
    "OK, so let's make a type with a kind of `* -> (* -> *) -> *`.\n",
    "Here's one way of going about it."
   ]
  },
  {
   "cell_type": "code",
   "execution_count": 175,
   "metadata": {
    "attributes": {
     "classes": [
      "haskell:hs"
     ],
     "id": "",
     "name": "\"code\""
    }
   },
   "outputs": [],
   "source": [
    "data Frank a b  = Frank {frankField :: b a} deriving (Show)"
   ]
  },
  {
   "cell_type": "markdown",
   "metadata": {},
   "source": [
    "How do we know this type has a kind of `* -> (* -> *) -> *`? Well,\n",
    "fields in ADTs are made to hold values, so they must be of kind [`*`](https://hackage.haskell.org/package/base/docs/Prelude.html#v:-42-),\n",
    "obviously. We assume [`*`](https://hackage.haskell.org/package/base/docs/Prelude.html#v:-42-) for `a`, which means that `b` takes one type\n",
    "parameter and so its kind is `* -> *`. Now we know the kinds of both\n",
    "`a` and `b` and because they're parameters for `Frank`, we see that `Frank` has a\n",
    "kind of `* -> (* -> *) -> *` The first [`*`](https://hackage.haskell.org/package/base/docs/Prelude.html#v:-42-) represents `a` and the\n",
    "`(* -> *)` represents `b`. Let's make some `Frank` values and check out their\n",
    "types."
   ]
  },
  {
   "cell_type": "code",
   "execution_count": 176,
   "metadata": {
    "attributes": {
     "classes": [
      "haskell:hs"
     ],
     "id": "",
     "name": "\"code\""
    }
   },
   "outputs": [
    {
     "data": {
      "text/html": [
       "<style>/* Styles used for the Hoogle display in the pager */\n",
       ".hoogle-doc {\n",
       "display: block;\n",
       "padding-bottom: 1.3em;\n",
       "padding-left: 0.4em;\n",
       "}\n",
       ".hoogle-code {\n",
       "display: block;\n",
       "font-family: monospace;\n",
       "white-space: pre;\n",
       "}\n",
       ".hoogle-text {\n",
       "display: block;\n",
       "}\n",
       ".hoogle-name {\n",
       "color: green;\n",
       "font-weight: bold;\n",
       "}\n",
       ".hoogle-head {\n",
       "font-weight: bold;\n",
       "}\n",
       ".hoogle-sub {\n",
       "display: block;\n",
       "margin-left: 0.4em;\n",
       "}\n",
       ".hoogle-package {\n",
       "font-weight: bold;\n",
       "font-style: italic;\n",
       "}\n",
       ".hoogle-module {\n",
       "font-weight: bold;\n",
       "}\n",
       ".hoogle-class {\n",
       "font-weight: bold;\n",
       "}\n",
       ".get-type {\n",
       "color: green;\n",
       "font-weight: bold;\n",
       "font-family: monospace;\n",
       "display: block;\n",
       "white-space: pre-wrap;\n",
       "}\n",
       ".show-type {\n",
       "color: green;\n",
       "font-weight: bold;\n",
       "font-family: monospace;\n",
       "margin-left: 1em;\n",
       "}\n",
       ".mono {\n",
       "font-family: monospace;\n",
       "display: block;\n",
       "}\n",
       ".err-msg {\n",
       "color: red;\n",
       "font-style: italic;\n",
       "font-family: monospace;\n",
       "white-space: pre;\n",
       "display: block;\n",
       "}\n",
       "#unshowable {\n",
       "color: red;\n",
       "font-weight: bold;\n",
       "}\n",
       ".err-msg.in.collapse {\n",
       "padding-top: 0.7em;\n",
       "}\n",
       ".highlight-code {\n",
       "white-space: pre;\n",
       "font-family: monospace;\n",
       "}\n",
       ".suggestion-warning { \n",
       "font-weight: bold;\n",
       "color: rgb(200, 130, 0);\n",
       "}\n",
       ".suggestion-error { \n",
       "font-weight: bold;\n",
       "color: red;\n",
       "}\n",
       ".suggestion-name {\n",
       "font-weight: bold;\n",
       "}\n",
       "</style><span class='get-type'>Frank {frankField = Just \"HAHA\"} :: Frank String Maybe</span>"
      ],
      "text/plain": [
       "Frank {frankField = Just \"HAHA\"} :: Frank String Maybe"
      ]
     },
     "metadata": {},
     "output_type": "display_data"
    }
   ],
   "source": [
    ":t Frank {frankField = Just \"HAHA\"}"
   ]
  },
  {
   "cell_type": "code",
   "execution_count": 177,
   "metadata": {
    "attributes": {
     "classes": [
      "haskell:hs"
     ],
     "id": "",
     "name": "\"code\""
    }
   },
   "outputs": [
    {
     "data": {
      "text/html": [
       "<style>/* Styles used for the Hoogle display in the pager */\n",
       ".hoogle-doc {\n",
       "display: block;\n",
       "padding-bottom: 1.3em;\n",
       "padding-left: 0.4em;\n",
       "}\n",
       ".hoogle-code {\n",
       "display: block;\n",
       "font-family: monospace;\n",
       "white-space: pre;\n",
       "}\n",
       ".hoogle-text {\n",
       "display: block;\n",
       "}\n",
       ".hoogle-name {\n",
       "color: green;\n",
       "font-weight: bold;\n",
       "}\n",
       ".hoogle-head {\n",
       "font-weight: bold;\n",
       "}\n",
       ".hoogle-sub {\n",
       "display: block;\n",
       "margin-left: 0.4em;\n",
       "}\n",
       ".hoogle-package {\n",
       "font-weight: bold;\n",
       "font-style: italic;\n",
       "}\n",
       ".hoogle-module {\n",
       "font-weight: bold;\n",
       "}\n",
       ".hoogle-class {\n",
       "font-weight: bold;\n",
       "}\n",
       ".get-type {\n",
       "color: green;\n",
       "font-weight: bold;\n",
       "font-family: monospace;\n",
       "display: block;\n",
       "white-space: pre-wrap;\n",
       "}\n",
       ".show-type {\n",
       "color: green;\n",
       "font-weight: bold;\n",
       "font-family: monospace;\n",
       "margin-left: 1em;\n",
       "}\n",
       ".mono {\n",
       "font-family: monospace;\n",
       "display: block;\n",
       "}\n",
       ".err-msg {\n",
       "color: red;\n",
       "font-style: italic;\n",
       "font-family: monospace;\n",
       "white-space: pre;\n",
       "display: block;\n",
       "}\n",
       "#unshowable {\n",
       "color: red;\n",
       "font-weight: bold;\n",
       "}\n",
       ".err-msg.in.collapse {\n",
       "padding-top: 0.7em;\n",
       "}\n",
       ".highlight-code {\n",
       "white-space: pre;\n",
       "font-family: monospace;\n",
       "}\n",
       ".suggestion-warning { \n",
       "font-weight: bold;\n",
       "color: rgb(200, 130, 0);\n",
       "}\n",
       ".suggestion-error { \n",
       "font-weight: bold;\n",
       "color: red;\n",
       "}\n",
       ".suggestion-name {\n",
       "font-weight: bold;\n",
       "}\n",
       "</style><span class='get-type'>Frank {frankField = Node 'a' EmptyTree EmptyTree} :: Frank Char Tree</span>"
      ],
      "text/plain": [
       "Frank {frankField = Node 'a' EmptyTree EmptyTree} :: Frank Char Tree"
      ]
     },
     "metadata": {},
     "output_type": "display_data"
    }
   ],
   "source": [
    ":t Frank {frankField = Node 'a' EmptyTree EmptyTree}"
   ]
  },
  {
   "cell_type": "code",
   "execution_count": 178,
   "metadata": {
    "attributes": {
     "classes": [
      "haskell:hs"
     ],
     "id": "",
     "name": "\"code\""
    }
   },
   "outputs": [
    {
     "data": {
      "text/html": [
       "<style>/* Styles used for the Hoogle display in the pager */\n",
       ".hoogle-doc {\n",
       "display: block;\n",
       "padding-bottom: 1.3em;\n",
       "padding-left: 0.4em;\n",
       "}\n",
       ".hoogle-code {\n",
       "display: block;\n",
       "font-family: monospace;\n",
       "white-space: pre;\n",
       "}\n",
       ".hoogle-text {\n",
       "display: block;\n",
       "}\n",
       ".hoogle-name {\n",
       "color: green;\n",
       "font-weight: bold;\n",
       "}\n",
       ".hoogle-head {\n",
       "font-weight: bold;\n",
       "}\n",
       ".hoogle-sub {\n",
       "display: block;\n",
       "margin-left: 0.4em;\n",
       "}\n",
       ".hoogle-package {\n",
       "font-weight: bold;\n",
       "font-style: italic;\n",
       "}\n",
       ".hoogle-module {\n",
       "font-weight: bold;\n",
       "}\n",
       ".hoogle-class {\n",
       "font-weight: bold;\n",
       "}\n",
       ".get-type {\n",
       "color: green;\n",
       "font-weight: bold;\n",
       "font-family: monospace;\n",
       "display: block;\n",
       "white-space: pre-wrap;\n",
       "}\n",
       ".show-type {\n",
       "color: green;\n",
       "font-weight: bold;\n",
       "font-family: monospace;\n",
       "margin-left: 1em;\n",
       "}\n",
       ".mono {\n",
       "font-family: monospace;\n",
       "display: block;\n",
       "}\n",
       ".err-msg {\n",
       "color: red;\n",
       "font-style: italic;\n",
       "font-family: monospace;\n",
       "white-space: pre;\n",
       "display: block;\n",
       "}\n",
       "#unshowable {\n",
       "color: red;\n",
       "font-weight: bold;\n",
       "}\n",
       ".err-msg.in.collapse {\n",
       "padding-top: 0.7em;\n",
       "}\n",
       ".highlight-code {\n",
       "white-space: pre;\n",
       "font-family: monospace;\n",
       "}\n",
       ".suggestion-warning { \n",
       "font-weight: bold;\n",
       "color: rgb(200, 130, 0);\n",
       "}\n",
       ".suggestion-error { \n",
       "font-weight: bold;\n",
       "color: red;\n",
       "}\n",
       ".suggestion-name {\n",
       "font-weight: bold;\n",
       "}\n",
       "</style><span class='get-type'>Frank {frankField = \"YES\"} :: Frank Char []</span>"
      ],
      "text/plain": [
       "Frank {frankField = \"YES\"} :: Frank Char []"
      ]
     },
     "metadata": {},
     "output_type": "display_data"
    }
   ],
   "source": [
    ":t Frank {frankField = \"YES\"}"
   ]
  },
  {
   "cell_type": "markdown",
   "metadata": {},
   "source": [
    "Hmm. Because `frankField` has a type of form `a b`, its values must have\n",
    "types that are of a similar form as well. So they can be `Just \"HAHA\"`,\n",
    "which has a type of `Maybe [Char]` or it can have a value of\n",
    "`['Y','E','S']`, which has a type of `[Char]` (if we used our own list type\n",
    "for this, it would have a type of `List Char`). And we see that the types\n",
    "of the `Frank` values correspond with the kind for `Frank`. `[Char]` has a\n",
    "kind of [`*`](https://hackage.haskell.org/package/base/docs/Prelude.html#v:-42-) and [`Maybe`](https://hackage.haskell.org/package/base/docs/Prelude.html#t:Maybe) has a kind of `* -> *`. Because in order to have a\n",
    "value, it has to be a concrete type and thus has to be fully applied,\n",
    "every value of `Frank blah blaah` has a kind of [`*`](https://hackage.haskell.org/package/base/docs/Prelude.html#v:-42-).\n",
    "\n",
    "Making `Frank` an instance of `Tofu` is pretty simple. We see that `tofu`\n",
    "takes a `j a` (so an example type of that form would be `Maybe Int`) and\n",
    "returns a `t a j`. So if we replace `Frank` with `j`, the result type would be\n",
    "`Frank Int Maybe`."
   ]
  },
  {
   "cell_type": "code",
   "execution_count": 179,
   "metadata": {
    "attributes": {
     "classes": [
      "haskell:hs"
     ],
     "id": "",
     "name": "\"code\""
    }
   },
   "outputs": [],
   "source": [
    "instance Tofu Frank where\n",
    "    tofu x = Frank x"
   ]
  },
  {
   "cell_type": "code",
   "execution_count": 180,
   "metadata": {
    "attributes": {
     "classes": [
      "haskell:hs"
     ],
     "id": "",
     "name": "\"code\""
    }
   },
   "outputs": [
    {
     "data": {
      "text/plain": [
       "Frank {frankField = Just 'a'}"
      ]
     },
     "metadata": {},
     "output_type": "display_data"
    }
   ],
   "source": [
    "tofu (Just 'a') :: Frank Char Maybe"
   ]
  },
  {
   "cell_type": "code",
   "execution_count": 181,
   "metadata": {
    "attributes": {
     "classes": [
      "haskell:hs"
     ],
     "id": "",
     "name": "\"code\""
    }
   },
   "outputs": [
    {
     "data": {
      "text/plain": [
       "Frank {frankField = [\"HELLO\"]}"
      ]
     },
     "metadata": {},
     "output_type": "display_data"
    }
   ],
   "source": [
    "tofu [\"HELLO\"] :: Frank [Char] []"
   ]
  },
  {
   "cell_type": "markdown",
   "metadata": {},
   "source": [
    "Not very useful, but we did flex our type muscles. Let's do some more\n",
    "type-foo. We have this data type:"
   ]
  },
  {
   "cell_type": "code",
   "execution_count": 182,
   "metadata": {
    "attributes": {
     "classes": [
      "haskell:hs"
     ],
     "id": "",
     "name": "\"code\""
    }
   },
   "outputs": [],
   "source": [
    "data Barry t k p = Barry { yabba :: p, dabba :: t k }"
   ]
  },
  {
   "cell_type": "markdown",
   "metadata": {},
   "source": [
    "And now we want to make it an instance of [`Functor`](https://hackage.haskell.org/package/base/docs/Prelude.html#t:Functor). [`Functor`](https://hackage.haskell.org/package/base/docs/Prelude.html#t:Functor) wants types\n",
    "of kind `* -> *` but `Barry` doesn't look like it has that kind. What is\n",
    "the kind of `Barry`? Well, we see it takes three type parameters, so it's\n",
    "going to be `something -> something -> something -> *`. It's safe to\n",
    "say that `p` is a concrete type and thus has a kind of [`*`](https://hackage.haskell.org/package/base/docs/Prelude.html#v:-42-). For `k`, we\n",
    "assume [`*`](https://hackage.haskell.org/package/base/docs/Prelude.html#v:-42-) and so by extension, `t` has a kind of `* -> *`. Now let's just\n",
    "replace those kinds with the *somethings* that we used as placeholders\n",
    "and we see it has a kind of `(* -> *) -> * -> * -> *`. Let's\n",
    "check that with GHCI."
   ]
  },
  {
   "cell_type": "code",
   "execution_count": 183,
   "metadata": {
    "attributes": {
     "classes": [
      "haskell:hs"
     ],
     "id": "",
     "name": "\"code\""
    }
   },
   "outputs": [
    {
     "data": {
      "text/html": [
       "<style>/* Styles used for the Hoogle display in the pager */\n",
       ".hoogle-doc {\n",
       "display: block;\n",
       "padding-bottom: 1.3em;\n",
       "padding-left: 0.4em;\n",
       "}\n",
       ".hoogle-code {\n",
       "display: block;\n",
       "font-family: monospace;\n",
       "white-space: pre;\n",
       "}\n",
       ".hoogle-text {\n",
       "display: block;\n",
       "}\n",
       ".hoogle-name {\n",
       "color: green;\n",
       "font-weight: bold;\n",
       "}\n",
       ".hoogle-head {\n",
       "font-weight: bold;\n",
       "}\n",
       ".hoogle-sub {\n",
       "display: block;\n",
       "margin-left: 0.4em;\n",
       "}\n",
       ".hoogle-package {\n",
       "font-weight: bold;\n",
       "font-style: italic;\n",
       "}\n",
       ".hoogle-module {\n",
       "font-weight: bold;\n",
       "}\n",
       ".hoogle-class {\n",
       "font-weight: bold;\n",
       "}\n",
       ".get-type {\n",
       "color: green;\n",
       "font-weight: bold;\n",
       "font-family: monospace;\n",
       "display: block;\n",
       "white-space: pre-wrap;\n",
       "}\n",
       ".show-type {\n",
       "color: green;\n",
       "font-weight: bold;\n",
       "font-family: monospace;\n",
       "margin-left: 1em;\n",
       "}\n",
       ".mono {\n",
       "font-family: monospace;\n",
       "display: block;\n",
       "}\n",
       ".err-msg {\n",
       "color: red;\n",
       "font-style: italic;\n",
       "font-family: monospace;\n",
       "white-space: pre;\n",
       "display: block;\n",
       "}\n",
       "#unshowable {\n",
       "color: red;\n",
       "font-weight: bold;\n",
       "}\n",
       ".err-msg.in.collapse {\n",
       "padding-top: 0.7em;\n",
       "}\n",
       ".highlight-code {\n",
       "white-space: pre;\n",
       "font-family: monospace;\n",
       "}\n",
       ".suggestion-warning { \n",
       "font-weight: bold;\n",
       "color: rgb(200, 130, 0);\n",
       "}\n",
       ".suggestion-error { \n",
       "font-weight: bold;\n",
       "color: red;\n",
       "}\n",
       ".suggestion-name {\n",
       "font-weight: bold;\n",
       "}\n",
       "</style><span class='get-type'>Barry :: forall {k}. (k -> *) -> k -> * -> *</span>"
      ],
      "text/plain": [
       "Barry :: forall {k}. (k -> *) -> k -> * -> *"
      ]
     },
     "metadata": {},
     "output_type": "display_data"
    }
   ],
   "source": [
    ":k Barry"
   ]
  },
  {
   "cell_type": "markdown",
   "metadata": {},
   "source": [
    "Ah, we were right. How satisfying. Now, to make this type a part of\n",
    "[`Functor`](https://hackage.haskell.org/package/base/docs/Prelude.html#t:Functor) we have to partially apply the first two type parameters so that\n",
    "we're left with `* -> *`. That means that the start of the instance\n",
    "declaration will be: `instance Functor (Barry a b) where`. If we look at\n",
    "[`fmap`](https://hackage.haskell.org/package/base/docs/Prelude.html#v:fmap) as if it was made specifically for `Barry`, it would have a type of\n",
    "`fmap :: (a -> b) -> Barry c d a -> Barry c d b`, because we just\n",
    "replace the [`Functor`](https://hackage.haskell.org/package/base/docs/Prelude.html#t:Functor)'s `f` with `Barry c d`. The third type parameter from\n",
    "`Barry` will have to change and we see that it's conveniently in its own\n",
    "field."
   ]
  },
  {
   "cell_type": "code",
   "execution_count": 184,
   "metadata": {
    "attributes": {
     "classes": [
      "haskell:hs"
     ],
     "id": "",
     "name": "\"code\""
    }
   },
   "outputs": [],
   "source": [
    "instance Functor (Barry a b) where\n",
    "    fmap f (Barry {yabba = x, dabba = y}) = Barry {yabba = f x, dabba = y}"
   ]
  },
  {
   "cell_type": "markdown",
   "metadata": {},
   "source": [
    "There we go! We just mapped the `f` over the first field.\n",
    "\n",
    "In this section, we took a good look at how type parameters work and\n",
    "kind of formalized them with kinds, just like we formalized function\n",
    "parameters with type declarations. We saw that there are interesting\n",
    "parallels between functions and type constructors. They are, however,\n",
    "two completely different things. When working on real Haskell, you\n",
    "usually won't have to mess with kinds and do kind inference by hand like\n",
    "we did now. Usually, you just have to partially apply your own type to\n",
    "`* -> *` or [`*`](https://hackage.haskell.org/package/base/docs/Prelude.html#v:-42-) when making it an instance of one of the standard\n",
    "typeclasses, but it's good to know how and why that actually works. It's\n",
    "also interesting to see that types have little types of their own.\n",
    "Again, you don't really have to understand everything we did here to\n",
    "read on, but if you understand how kinds work, chances are that you have\n",
    "a very solid grasp of Haskell's type system."
   ]
  }
 ],
 "metadata": {
  "kernelspec": {
   "display_name": "Haskell",
   "language": "haskell",
   "name": "haskell"
  },
  "language_info": {
   "codemirror_mode": "ihaskell",
   "file_extension": ".hs",
   "mimetype": "text/x-haskell",
   "name": "haskell",
   "pygments_lexer": "Haskell",
   "version": "9.2.5"
  }
 },
 "nbformat": 4,
 "nbformat_minor": 4
}
