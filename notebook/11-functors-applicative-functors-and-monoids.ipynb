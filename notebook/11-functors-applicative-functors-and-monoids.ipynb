{
 "cells": [
  {
   "cell_type": "markdown",
   "metadata": {},
   "source": [
    "Functors, Applicative Functors and Monoids\n",
    "==========================================\n",
    "\n",
    "Haskell's combination of purity, higher order functions, parameterized\n",
    "algebraic data types, and typeclasses allows us to implement\n",
    "polymorphism on a much higher level than possible in other languages. We\n",
    "don't have to think about types belonging to a big hierarchy of types.\n",
    "Instead, we think about what the types can act like and then connect\n",
    "them with the appropriate typeclasses. An [`Int`](https://hackage.haskell.org/package/base/docs/Prelude.html#t:Int) can act like a lot of\n",
    "things. It can act like an equatable thing, like an ordered thing, like\n",
    "an enumerable thing, etc.\n",
    "\n",
    "Typeclasses are open, which means that we can define our own data type,\n",
    "think about what it can act like and connect it with the typeclasses\n",
    "that define its behaviors. Because of that and because of Haskell's\n",
    "great type system that allows us to know a lot about a function just by\n",
    "knowing its type declaration, we can define typeclasses that define\n",
    "behavior that's very general and abstract. We've met typeclasses that\n",
    "define operations for seeing if two things are equal or comparing two\n",
    "things by some ordering. Those are very abstract and elegant behaviors,\n",
    "but we just don't think of them as anything very special because we've\n",
    "been dealing with them for most of our lives. We recently met functors,\n",
    "which are basically things that can be mapped over. That's an example of\n",
    "a useful and yet still pretty abstract property that typeclasses can\n",
    "describe. In this chapter, we'll take a closer look at functors, along\n",
    "with slightly stronger and more useful versions of functors called\n",
    "applicative functors. We'll also take a look at monoids, which are sort\n",
    "of like socks."
   ]
  },
  {
   "cell_type": "markdown",
   "metadata": {},
   "source": [
    "> __Jupyter Note:__ We'll turn off the [automatic linting for IHaskell](https://github.com/IHaskell/IHaskell/wiki#opt-no-lint) first."
   ]
  },
  {
   "cell_type": "code",
   "execution_count": 1,
   "metadata": {
    "attributes": {
     "classes": [
      "haskell:hs"
     ],
     "id": "",
     "name": "\"code\""
    }
   },
   "outputs": [],
   "source": [
    ":opt no-lint"
   ]
  },
  {
   "cell_type": "markdown",
   "metadata": {
    "attributes": {
     "classes": [
      "haskell:hs"
     ],
     "id": "",
     "name": "\"code\""
    }
   },
   "source": [
    "> __Jupyter Note:__ About the following functions.\n",
    ">\n",
    "> `withStdin` takes a string and runs an [`IO`](https://hackage.haskell.org/package/base/docs/Prelude.html#t:IO) action with that string as the standard input.\n",
    "This is for simulating an interactive command line environment for programs. Inspired by [Test.Main.withStdin](http://hackage.haskell.org/package/main-tester-0.2.0.1/docs/src/Test.Main.html#withStdin).\n",
    "> The original book instructs the reader to run interactive programs from a shell command line, but those instructions don't work in a Jupyter notebook environment\n",
    "> because we want to be able to run the notebook from beginning to end without waiting for user interaction. The programs in this chapter can still be run\n",
    "> interactively in the notebook, but if a program doesn't terminate, you will have to <kbd>⭮</kbd> Restart the kernel.\n",
    ">\n",
    "> `catchPrint` catches an exception and prints it to standard output. We use this because Jupyter won't show us the output of a program if the program throws an exception. We want to see both the output and the exception."
   ]
  },
  {
   "cell_type": "code",
   "execution_count": 2,
   "metadata": {
    "attributes": {
     "classes": [
      "haskell:hs"
     ],
     "id": "",
     "name": "\"code\""
    }
   },
   "outputs": [],
   "source": [
    "import System.IO\n",
    "import GHC.IO.Handle\n",
    "import Control.Exception\n",
    "import System.Directory\n",
    "\n",
    "withStdin :: String -> IO a -> IO a\n",
    "withStdin s action = do\n",
    "    writeFile \"stdin.txt\" s\n",
    "    finally\n",
    "        (bracket \n",
    "            (openFile \"stdin.txt\" ReadWriteMode)\n",
    "            hClose\n",
    "            (\\h -> do\n",
    "                  stdin' <- hDuplicate stdin\n",
    "                  hDuplicateTo h stdin\n",
    "                  finally action (hDuplicateTo stdin' stdin)            \n",
    "            )\n",
    "        )\n",
    "        (removeFile \"stdin.txt\")\n",
    "\n",
    "catchPrint = flip catch p where\n",
    "    p :: SomeException -> IO ()\n",
    "    p = print"
   ]
  },
  {
   "cell_type": "markdown",
   "metadata": {},
   "source": [
    "Functors redux\n",
    "--------------\n",
    "\n",
    "<img src=\"img/frogtor.png\" title=\"frogs dont even need money\" style=\"background-color:white;float:right;margin-left:2em;\" />\n",
    "\n",
    "We've already talked about functors in [their own little\n",
    "section](http://learnyouahaskell.com/making-our-own-types-and-typeclasses#the-functor-typeclass). If\n",
    "you haven't read it yet, you should probably give it a glance right now,\n",
    "or maybe later when you have more time. Or you can just pretend you read\n",
    "it.\n",
    "\n",
    "Still, here's a quick refresher: Functors are things that can be mapped\n",
    "over, like lists, [`Maybe`](https://hackage.haskell.org/package/base/docs/Prelude.html#t:Maybe)s, trees, and such. In Haskell, they're described\n",
    "by the typeclass [`Functor`](https://hackage.haskell.org/package/base/docs/Prelude.html#t:Functor), which has only one typeclass method, namely\n",
    "[`fmap`](https://hackage.haskell.org/package/base/docs/Prelude.html#v:fmap), which has a type of `fmap :: (a -> b) -> f a -> f b`. It says:\n",
    "give me a function that takes an `a` and returns a `b` and a box with an `a`\n",
    "(or several of them) inside it and I'll give you a box with a `b` (or\n",
    "several of them) inside it. It kind of applies the function to the\n",
    "element inside the box.\n",
    "\n",
    "> __A word of advice.__ Many times the box analogy is used to help you get\n",
    "> some intuition for how functors work, and later, we'll probably use the\n",
    "> same analogy for applicative functors and monads. It's an okay analogy\n",
    "> that helps people understand functors at first, just don't take it too\n",
    "> literally, because for some functors the box analogy has to be stretched\n",
    "> really thin to still hold some truth. A more correct term for what a\n",
    "> functor is would be *computational context*. The context might be that\n",
    "> the computation can have a value or it might have failed ([`Maybe`](https://hackage.haskell.org/package/base/docs/Prelude.html#t:Maybe) and\n",
    "> `Either a`) or that there might be more values (lists), stuff like that.\n",
    "\n",
    "If we want to make a type constructor an instance of [`Functor`](https://hackage.haskell.org/package/base/docs/Prelude.html#t:Functor), it has to\n",
    "have a kind of `* -> *`, which means that it has to take exactly one\n",
    "concrete type as a type parameter. For example, [`Maybe`](https://hackage.haskell.org/package/base/docs/Prelude.html#t:Maybe) can be made an\n",
    "instance because it takes one type parameter to produce a concrete type,\n",
    "like `Maybe Int` or `Maybe String`. If a type constructor takes two\n",
    "parameters, like [`Either`](https://hackage.haskell.org/package/base/docs/Prelude.html#t:Either), we have to partially apply the type constructor\n",
    "until it only takes one type parameter. So we can't write\n",
    "`instance Functor Either where`, but we can write\n",
    "`instance Functor (Either a) where`\n",
    "and then if we imagine that [`fmap`](https://hackage.haskell.org/package/base/docs/Prelude.html#v:fmap) is only for `Either a`, it would have a\n",
    "type declaration of `fmap :: (b -> c) -> Either a b -> Either a c`. As\n",
    "you can see, the `Either a` part is fixed, because `Either a` takes only one\n",
    "type parameter, whereas just [`Either`](https://hackage.haskell.org/package/base/docs/Prelude.html#t:Either) takes two so\n",
    "`fmap :: (b -> c) -> Either b -> Either c` wouldn't really make sense.\n",
    "\n",
    "We've learned by now how a lot of types (well, type constructors really)\n",
    "are instances of [`Functor`](https://hackage.haskell.org/package/base/docs/Prelude.html#t:Functor), like `[]`, [`Maybe`](https://hackage.haskell.org/package/base/docs/Prelude.html#t:Maybe), `Either a` and a `Tree` type that\n",
    "we made on our own. We saw how we can map functions over them for great\n",
    "good. In this section, we'll take a look at two more instances of\n",
    "functor, namely [`IO`](https://hackage.haskell.org/package/base/docs/Prelude.html#t:IO) and `(->) r`.\n",
    "\n",
    "If some value has a type of, say, `IO String`, that means that it's an I/O\n",
    "action that, when performed, will go out into the real world and get\n",
    "some string for us, which it will yield as a result. We can use `<-` in\n",
    "*do* syntax to bind that result to a name. We mentioned that I/O actions\n",
    "are like boxes with little feet that go out and fetch some value from\n",
    "the outside world for us. We can inspect what they fetched, but after\n",
    "inspecting, we have to wrap the value back in [`IO`](https://hackage.haskell.org/package/base/docs/Prelude.html#t:IO). By thinking about this\n",
    "box with little feet analogy, we can see how [`IO`](https://hackage.haskell.org/package/base/docs/Prelude.html#t:IO) acts like a functor.\n",
    "\n",
    "Let's see how [`IO`](https://hackage.haskell.org/package/base/docs/Prelude.html#t:IO) is an instance of [`Functor`](https://hackage.haskell.org/package/base/docs/Prelude.html#t:Functor). When we [`fmap`](https://hackage.haskell.org/package/base/docs/Prelude.html#v:fmap) a function over\n",
    "an I/O action, we want to get back an I/O action that does the same\n",
    "thing, but has our function applied over its result value."
   ]
  },
  {
   "cell_type": "markdown",
   "metadata": {
    "attributes": {
     "classes": [
      "haskell:hs"
     ],
     "id": "",
     "name": "\"code\""
    }
   },
   "source": [
    "<pre><code>instance Functor IO where\n",
    "    fmap f action = do\n",
    "        result <- action\n",
    "        return (f result)</code></pre>"
   ]
  },
  {
   "cell_type": "markdown",
   "metadata": {},
   "source": [
    "The result of mapping something over an I/O action will be an I/O\n",
    "action, so right off the bat we use *do* syntax to glue two actions and\n",
    "make a new one. In the implementation for [`fmap`](https://hackage.haskell.org/package/base/docs/Prelude.html#v:fmap), we make a new I/O action\n",
    "that first performs the original I/O action and calls its result `result`.\n",
    "Then, we do `return (f result)`. [`return`](https://hackage.haskell.org/package/base/docs/Prelude.html#v:return) is, as you know, a function that\n",
    "makes an I/O action that doesn't do anything but only presents something\n",
    "as its result. The action that a *do* block produces will always have\n",
    "the result value of its last action. That's why we use return to make an\n",
    "I/O action that doesn't really do anything, it just presents `f result` as\n",
    "the result of the new I/O action.\n",
    "\n",
    "We can play around with it to gain some intuition. It's pretty simple\n",
    "really. Check out this piece of code:"
   ]
  },
  {
   "cell_type": "code",
   "execution_count": 3,
   "metadata": {
    "attributes": {
     "classes": [
      "haskell:hs"
     ],
     "id": "",
     "name": "\"code\""
    }
   },
   "outputs": [],
   "source": [
    "main = do line <- getLine\n",
    "          let line' = reverse line\n",
    "          putStrLn $ \"You said \" ++ line' ++ \" backwards!\"\n",
    "          putStrLn $ \"Yes, you really said\" ++ line' ++ \" backwards!\""
   ]
  },
  {
   "cell_type": "markdown",
   "metadata": {},
   "source": [
    "The user is prompted for a line and we give it back to the user, only\n",
    "reversed. Here's how to rewrite this by using [`fmap`](https://hackage.haskell.org/package/base/docs/Prelude.html#v:fmap):"
   ]
  },
  {
   "cell_type": "code",
   "execution_count": 4,
   "metadata": {
    "attributes": {
     "classes": [
      "haskell:hs"
     ],
     "id": "",
     "name": "\"code\""
    }
   },
   "outputs": [],
   "source": [
    "main = do line <- fmap reverse getLine\n",
    "          putStrLn $ \"You said \" ++ line ++ \" backwards!\"\n",
    "          putStrLn $ \"Yes, you really said \" ++ line ++ \" backwards!\""
   ]
  },
  {
   "cell_type": "code",
   "execution_count": 5,
   "metadata": {
    "attributes": {
     "classes": [
      "haskell:hs"
     ],
     "id": "",
     "name": "\"code\""
    }
   },
   "outputs": [
    {
     "data": {
      "text/plain": [
       "You said halb backwards!\n",
       "Yes, you really said halb backwards!"
      ]
     },
     "metadata": {},
     "output_type": "display_data"
    }
   ],
   "source": [
    "withStdin \"blah\" main"
   ]
  },
  {
   "cell_type": "markdown",
   "metadata": {},
   "source": [
    "<img src=\"img/alien.png\" title=\"w00ooOoooOO\" style=\"background-color:white;float:left;margin-right:2em;\" />\n",
    "\n",
    "Just like when we [`fmap`](https://hackage.haskell.org/package/base/docs/Prelude.html#v:fmap) [`reverse`](https://hackage.haskell.org/package/base/docs/Prelude.html#v:reverse) over `Just \"blah\"` to get `Just \"halb\"`, we\n",
    "can [`fmap`](https://hackage.haskell.org/package/base/docs/Prelude.html#v:fmap) [`reverse`](https://hackage.haskell.org/package/base/docs/Prelude.html#v:reverse) over [`getLine`](https://hackage.haskell.org/package/base/docs/Prelude.html#v:getLine). [`getLine`](https://hackage.haskell.org/package/base/docs/Prelude.html#v:getLine) is an I/O action that has a type\n",
    "of `IO String` and mapping [`reverse`](https://hackage.haskell.org/package/base/docs/Prelude.html#v:reverse) over it gives us an I/O action that\n",
    "will go out into the real world and get a line and then apply [`reverse`](https://hackage.haskell.org/package/base/docs/Prelude.html#v:reverse) to\n",
    "its result. Like we can apply a function to something that's inside a\n",
    "[`Maybe`](https://hackage.haskell.org/package/base/docs/Prelude.html#t:Maybe) box, we can apply a function to what's inside an [`IO`](https://hackage.haskell.org/package/base/docs/Prelude.html#t:IO) box, only it\n",
    "has to go out into the real world to get something. Then when we bind it\n",
    "to a name by using `<-`, the name will reflect the result that already\n",
    "has [`reverse`](https://hackage.haskell.org/package/base/docs/Prelude.html#v:reverse) applied to it.\n",
    "\n",
    "The I/O action `fmap (++\"!\") getLine` behaves just like [`getLine`](https://hackage.haskell.org/package/base/docs/Prelude.html#v:getLine), only that\n",
    "its result always has `\"!\"` appended to it!\n",
    "\n",
    "If we look at what [`fmap`](https://hackage.haskell.org/package/base/docs/Prelude.html#v:fmap)'s type would be if it were limited to [`IO`](https://hackage.haskell.org/package/base/docs/Prelude.html#t:IO), it\n",
    "would be `fmap :: (a -> b) -> IO a -> IO b`. [`fmap`](https://hackage.haskell.org/package/base/docs/Prelude.html#v:fmap) takes a function and\n",
    "an I/O action and returns a new I/O action that's like the old one,\n",
    "except that the function is applied to its contained result.\n",
    "\n",
    "If you ever find yourself binding the result of an I/O action to a name,\n",
    "only to apply a function to that and call that something else, consider\n",
    "using [`fmap`](https://hackage.haskell.org/package/base/docs/Prelude.html#v:fmap), because it looks prettier. If you want to apply multiple\n",
    "transformations to some data inside a functor, you can declare your own\n",
    "function at the top level, make a lambda function or ideally, use\n",
    "function composition:"
   ]
  },
  {
   "cell_type": "code",
   "execution_count": 6,
   "metadata": {
    "attributes": {
     "classes": [
      "haskell:hs"
     ],
     "id": "",
     "name": "\"code\""
    }
   },
   "outputs": [],
   "source": [
    "import Data.Char\n",
    "import Data.List\n",
    "\n",
    "main = do line <- fmap (intersperse '-' . reverse . map toUpper) getLine\n",
    "          putStrLn line"
   ]
  },
  {
   "cell_type": "code",
   "execution_count": 7,
   "metadata": {
    "attributes": {
     "classes": [
      "plain"
     ],
     "id": "",
     "name": "\"code\""
    }
   },
   "outputs": [
    {
     "data": {
      "text/plain": [
       "E-R-E-H-T- -O-L-L-E-H"
      ]
     },
     "metadata": {},
     "output_type": "display_data"
    }
   ],
   "source": [
    "withStdin \"hello there\" main"
   ]
  },
  {
   "cell_type": "markdown",
   "metadata": {},
   "source": [
    "As you probably know, `intersperse '-' . reverse . map toUpper` is a\n",
    "function that takes a string, maps [`toUpper`](https://hackage.haskell.org/package/base/docs/Data-Char.html#v:toUpper) over it, then applies [`reverse`](https://hackage.haskell.org/package/base/docs/Prelude.html#v:reverse)\n",
    "to that result and then applies `intersperse '-'` to that result. It's\n",
    "like writing `(\\xs -> intersperse '-' (reverse (map toUpper xs)))`, only\n",
    "prettier.\n",
    "\n",
    "Another instance of [`Functor`](https://hackage.haskell.org/package/base/docs/Prelude.html#t:Functor) that we've been dealing with all along but\n",
    "didn't know was a [`Functor`](https://hackage.haskell.org/package/base/docs/Prelude.html#t:Functor) is `(->) r`. You're probably slightly confused\n",
    "now, since what the heck does `(->) r` mean? The function type `r -> a`\n",
    "can be rewritten as `(->) r a`, much like we can write `2 + 3` as `(+) 2 3`.\n",
    "When we look at it as `(->) r a`, we can see `(->)` in a slightly different\n",
    "light, because we see that it's just a type constructor that takes two\n",
    "type parameters, just like [`Either`](https://hackage.haskell.org/package/base/docs/Prelude.html#t:Either). But remember, we said that a type\n",
    "constructor has to take exactly one type parameter so that it can be\n",
    "made an instance of [`Functor`](https://hackage.haskell.org/package/base/docs/Prelude.html#t:Functor). That's why we can't make `(->)` an instance\n",
    "of [`Functor`](https://hackage.haskell.org/package/base/docs/Prelude.html#t:Functor), but if we partially apply it to `(->) r`, it doesn't pose any\n",
    "problems. If the syntax allowed for type constructors to be partially\n",
    "applied with sections (like we can partially apply [`+`](https://hackage.haskell.org/package/base/docs/Prelude.html#v:-43-) by doing `(2+)`,\n",
    "which is the same as `(+) 2`), you could write `(->) r` as `(r ->)`. How are\n",
    "functions functors? Well, let's take a look at the implementation, which\n",
    "lies in `Control.Monad.Instances`\n",
    "\n",
    "> We usually mark functions that take anything and return anything as\n",
    "> `a -> b`. `r -> a` is the same thing, we just used different letters for the\n",
    "> type variables."
   ]
  },
  {
   "cell_type": "markdown",
   "metadata": {
    "attributes": {
     "classes": [
      "haskell:hs"
     ],
     "id": "",
     "name": "\"code\""
    }
   },
   "source": [
    "<pre><code>instance Functor ((->) r) where\n",
    "    fmap f g = (\\x -> f (g x))</code></pre>"
   ]
  },
  {
   "cell_type": "markdown",
   "metadata": {},
   "source": [
    "If the syntax allowed for it, it could have been written as"
   ]
  },
  {
   "cell_type": "markdown",
   "metadata": {
    "attributes": {
     "classes": [
      "haskell:hs"
     ],
     "id": "",
     "name": "\"code\""
    }
   },
   "source": [
    "<pre><code>instance Functor (r ->) where\n",
    "    fmap f g = (\\x -> f (g x))</code></pre>"
   ]
  },
  {
   "cell_type": "markdown",
   "metadata": {},
   "source": [
    "But it doesn't, so we have to write it in the former fashion.\n",
    "\n",
    "First of all, let's think about [`fmap`](https://hackage.haskell.org/package/base/docs/Prelude.html#v:fmap)'s type. It's\n",
    "`fmap :: (a -> b) -> f a -> f b`. Now what we'll do is mentally replace all the f's, which\n",
    "are the role that our functor instance plays, with `(->) r`'s. We'll do\n",
    "that to see how [`fmap`](https://hackage.haskell.org/package/base/docs/Prelude.html#v:fmap) should behave for this particular instance. We get\n",
    "`fmap :: (a -> b) -> ((->) r a) -> ((->) r b)`. Now what we can do is\n",
    "write the `(->) r a` and `(-> r b)` types as infix `r -> a` and `r -> b`,\n",
    "like we normally do with functions. What we get now is\n",
    "`fmap :: (a -> b) -> (r -> a) -> (r -> b)`.\n",
    "\n",
    "Hmmm OK. Mapping one function over a function has to produce a function,\n",
    "just like mapping a function over a [`Maybe`](https://hackage.haskell.org/package/base/docs/Prelude.html#t:Maybe) has to produce a [`Maybe`](https://hackage.haskell.org/package/base/docs/Prelude.html#t:Maybe) and\n",
    "mapping a function over a list has to produce a list. What does the type\n",
    "`fmap :: (a -> b) -> (r -> a) -> (r -> b)` for this instance tell us?\n",
    "Well, we see that it takes a function from `a` to `b` and a function from `r`\n",
    "to `a` and returns a function from `r` to `b`. Does this remind you of\n",
    "anything? Yes! Function composition! We pipe the output of `r -> a` into\n",
    "the input of `a -> b` to get a function `r -> b`, which is exactly what\n",
    "function composition is about. If you look at how the instance is\n",
    "defined above, you'll see that it's just function composition. Another\n",
    "way to write this instance would be:"
   ]
  },
  {
   "cell_type": "markdown",
   "metadata": {
    "attributes": {
     "classes": [
      "haskell:hs"
     ],
     "id": "",
     "name": "\"code\""
    }
   },
   "source": [
    "<pre><code>instance Functor ((->) r) where\n",
    "    fmap = (.)</code></pre>"
   ]
  },
  {
   "cell_type": "markdown",
   "metadata": {},
   "source": [
    "This makes the revelation that using [`fmap`](https://hackage.haskell.org/package/base/docs/Prelude.html#v:fmap) over functions is just\n",
    "composition sort of obvious. Do `:m + Control.Monad.Instances`, since\n",
    "that's where the instance is defined and then try playing with mapping\n",
    "over functions."
   ]
  },
  {
   "cell_type": "code",
   "execution_count": 8,
   "metadata": {
    "attributes": {
     "classes": [
      "haskell:hs"
     ],
     "id": "",
     "name": "\"code\""
    }
   },
   "outputs": [
    {
     "data": {
      "text/html": [
       "<style>/* Styles used for the Hoogle display in the pager */\n",
       ".hoogle-doc {\n",
       "display: block;\n",
       "padding-bottom: 1.3em;\n",
       "padding-left: 0.4em;\n",
       "}\n",
       ".hoogle-code {\n",
       "display: block;\n",
       "font-family: monospace;\n",
       "white-space: pre;\n",
       "}\n",
       ".hoogle-text {\n",
       "display: block;\n",
       "}\n",
       ".hoogle-name {\n",
       "color: green;\n",
       "font-weight: bold;\n",
       "}\n",
       ".hoogle-head {\n",
       "font-weight: bold;\n",
       "}\n",
       ".hoogle-sub {\n",
       "display: block;\n",
       "margin-left: 0.4em;\n",
       "}\n",
       ".hoogle-package {\n",
       "font-weight: bold;\n",
       "font-style: italic;\n",
       "}\n",
       ".hoogle-module {\n",
       "font-weight: bold;\n",
       "}\n",
       ".hoogle-class {\n",
       "font-weight: bold;\n",
       "}\n",
       ".get-type {\n",
       "color: green;\n",
       "font-weight: bold;\n",
       "font-family: monospace;\n",
       "display: block;\n",
       "white-space: pre-wrap;\n",
       "}\n",
       ".show-type {\n",
       "color: green;\n",
       "font-weight: bold;\n",
       "font-family: monospace;\n",
       "margin-left: 1em;\n",
       "}\n",
       ".mono {\n",
       "font-family: monospace;\n",
       "display: block;\n",
       "}\n",
       ".err-msg {\n",
       "color: red;\n",
       "font-style: italic;\n",
       "font-family: monospace;\n",
       "white-space: pre;\n",
       "display: block;\n",
       "}\n",
       "#unshowable {\n",
       "color: red;\n",
       "font-weight: bold;\n",
       "}\n",
       ".err-msg.in.collapse {\n",
       "padding-top: 0.7em;\n",
       "}\n",
       ".highlight-code {\n",
       "white-space: pre;\n",
       "font-family: monospace;\n",
       "}\n",
       ".suggestion-warning { \n",
       "font-weight: bold;\n",
       "color: rgb(200, 130, 0);\n",
       "}\n",
       ".suggestion-error { \n",
       "font-weight: bold;\n",
       "color: red;\n",
       "}\n",
       ".suggestion-name {\n",
       "font-weight: bold;\n",
       "}\n",
       "</style><span class='get-type'>fmap (*3) (+100) :: forall {b}. Num b => b -> b</span>"
      ],
      "text/plain": [
       "fmap (*3) (+100) :: forall {b}. Num b => b -> b"
      ]
     },
     "metadata": {},
     "output_type": "display_data"
    }
   ],
   "source": [
    ":t fmap (*3) (+100)"
   ]
  },
  {
   "cell_type": "code",
   "execution_count": 9,
   "metadata": {
    "attributes": {
     "classes": [
      "haskell:hs"
     ],
     "id": "",
     "name": "\"code\""
    }
   },
   "outputs": [
    {
     "data": {
      "text/plain": [
       "303"
      ]
     },
     "metadata": {},
     "output_type": "display_data"
    }
   ],
   "source": [
    "fmap (*3) (+100) 1"
   ]
  },
  {
   "cell_type": "code",
   "execution_count": 10,
   "metadata": {
    "attributes": {
     "classes": [
      "haskell:hs"
     ],
     "id": "",
     "name": "\"code\""
    }
   },
   "outputs": [
    {
     "data": {
      "text/plain": [
       "303"
      ]
     },
     "metadata": {},
     "output_type": "display_data"
    }
   ],
   "source": [
    "(*3) `fmap` (+100) $ 1"
   ]
  },
  {
   "cell_type": "code",
   "execution_count": 11,
   "metadata": {
    "attributes": {
     "classes": [
      "haskell:hs"
     ],
     "id": "",
     "name": "\"code\""
    }
   },
   "outputs": [
    {
     "data": {
      "text/plain": [
       "303"
      ]
     },
     "metadata": {},
     "output_type": "display_data"
    }
   ],
   "source": [
    "(*3) . (+100) $ 1"
   ]
  },
  {
   "cell_type": "code",
   "execution_count": 12,
   "metadata": {
    "attributes": {
     "classes": [
      "haskell:hs"
     ],
     "id": "",
     "name": "\"code\""
    }
   },
   "outputs": [
    {
     "data": {
      "text/plain": [
       "\"300\""
      ]
     },
     "metadata": {},
     "output_type": "display_data"
    }
   ],
   "source": [
    "fmap (show . (*3)) (*100) 1"
   ]
  },
  {
   "cell_type": "markdown",
   "metadata": {},
   "source": [
    "We can call [`fmap`](https://hackage.haskell.org/package/base/docs/Prelude.html#v:fmap) as an infix function so that the resemblance to [`.`](https://hackage.haskell.org/package/base/docs/Prelude.html#v:.) is\n",
    "clear. In the second input line, we're mapping `(*3)` over `(+100)`, which\n",
    "results in a function that will take an input, call `(+100)` on that and\n",
    "then call `(*3)` on that result. We call that function with `1`.\n",
    "\n",
    "How does the box analogy hold here? Well, if you stretch it, it holds.\n",
    "When we use `fmap (+3)` over `Just 3`, it's easy to imagine the [`Maybe`](https://hackage.haskell.org/package/base/docs/Prelude.html#t:Maybe) as a\n",
    "box that has some contents on which we apply the function `(+3)`. But what\n",
    "about when we're doing `fmap (*3) (+100)`? Well, you can think of the\n",
    "function `(+100)` as a box that contains its eventual result. Sort of like\n",
    "how an I/O action can be thought of as a box that will go out into the\n",
    "real world and fetch some result. Using `fmap (*3)` on `(+100)` will create\n",
    "another function that acts like `(+100)`, only before producing a result,\n",
    "`(*3)` will be applied to that result. Now we can see how [`fmap`](https://hackage.haskell.org/package/base/docs/Prelude.html#v:fmap) acts just\n",
    "like [`.`](https://hackage.haskell.org/package/base/docs/Prelude.html#v:.) for functions.\n",
    "\n",
    "The fact that [`fmap`](https://hackage.haskell.org/package/base/docs/Prelude.html#v:fmap) is function composition when used on functions isn't\n",
    "so terribly useful right now, but at least it's very interesting. It\n",
    "also bends our minds a bit and let us see how things that act more like\n",
    "computations than boxes ([`IO`](https://hackage.haskell.org/package/base/docs/Prelude.html#t:IO) and `(->) r`) can be functors. The function\n",
    "being mapped over a computation results in the same computation but the\n",
    "result of that computation is modified with the function.\n",
    "\n",
    "<img src=\"img/lifter.png\" title=\"lifting a function is easier than lifting a million pounds\" style=\"background-color:white;float:right;margin-left:2em;\"/>\n",
    "\n",
    "Before we go on to the rules that [`fmap`](https://hackage.haskell.org/package/base/docs/Prelude.html#v:fmap) should follow, let's think about\n",
    "the type of [`fmap`](https://hackage.haskell.org/package/base/docs/Prelude.html#v:fmap) once more. Its type is `fmap :: (a -> b) -> f a -> f b`.\n",
    "We're missing the class constraint `(Functor f) =>`, but we left it\n",
    "out here for brevity, because we're talking about functors anyway so we\n",
    "know what the `f` stands for. When we first learned about [curried\n",
    "functions](http://learnyouahaskell.com/higher-order-functions#curried-functions), we said that all\n",
    "Haskell functions actually take one parameter. A function `a -> b -> c`\n",
    "actually takes just one parameter of type `a` and then returns a function\n",
    "`b -> c`, which takes one parameter and returns a `c`. That's how if we\n",
    "call a function with too few parameters (i.e. partially apply it), we\n",
    "get back a function that takes the number of parameters that we left out\n",
    "(if we're thinking about functions as taking several parameters again).\n",
    "So `a -> b -> c` can be written as `a -> (b -> c)`, to make the currying\n",
    "more apparent.\n",
    "\n",
    "In the same vein, if we write `fmap :: (a -> b) -> (f a -> f b)`, we\n",
    "can think of [`fmap`](https://hackage.haskell.org/package/base/docs/Prelude.html#v:fmap) not as a function that takes one function and a\n",
    "functor and returns a functor, but as a function that takes a function\n",
    "and returns a new function that's just like the old one, only it takes a\n",
    "functor as a parameter and returns a functor as the result. It takes an\n",
    "`a -> b` function and returns a function `f a -> f b`. This is called\n",
    "*lifting* a function. Let's play around with that idea by using GHCI's\n",
    "`:t` command:"
   ]
  },
  {
   "cell_type": "code",
   "execution_count": 13,
   "metadata": {
    "attributes": {
     "classes": [
      "haskell:hs"
     ],
     "id": "",
     "name": "\"code\""
    }
   },
   "outputs": [
    {
     "data": {
      "text/html": [
       "<style>/* Styles used for the Hoogle display in the pager */\n",
       ".hoogle-doc {\n",
       "display: block;\n",
       "padding-bottom: 1.3em;\n",
       "padding-left: 0.4em;\n",
       "}\n",
       ".hoogle-code {\n",
       "display: block;\n",
       "font-family: monospace;\n",
       "white-space: pre;\n",
       "}\n",
       ".hoogle-text {\n",
       "display: block;\n",
       "}\n",
       ".hoogle-name {\n",
       "color: green;\n",
       "font-weight: bold;\n",
       "}\n",
       ".hoogle-head {\n",
       "font-weight: bold;\n",
       "}\n",
       ".hoogle-sub {\n",
       "display: block;\n",
       "margin-left: 0.4em;\n",
       "}\n",
       ".hoogle-package {\n",
       "font-weight: bold;\n",
       "font-style: italic;\n",
       "}\n",
       ".hoogle-module {\n",
       "font-weight: bold;\n",
       "}\n",
       ".hoogle-class {\n",
       "font-weight: bold;\n",
       "}\n",
       ".get-type {\n",
       "color: green;\n",
       "font-weight: bold;\n",
       "font-family: monospace;\n",
       "display: block;\n",
       "white-space: pre-wrap;\n",
       "}\n",
       ".show-type {\n",
       "color: green;\n",
       "font-weight: bold;\n",
       "font-family: monospace;\n",
       "margin-left: 1em;\n",
       "}\n",
       ".mono {\n",
       "font-family: monospace;\n",
       "display: block;\n",
       "}\n",
       ".err-msg {\n",
       "color: red;\n",
       "font-style: italic;\n",
       "font-family: monospace;\n",
       "white-space: pre;\n",
       "display: block;\n",
       "}\n",
       "#unshowable {\n",
       "color: red;\n",
       "font-weight: bold;\n",
       "}\n",
       ".err-msg.in.collapse {\n",
       "padding-top: 0.7em;\n",
       "}\n",
       ".highlight-code {\n",
       "white-space: pre;\n",
       "font-family: monospace;\n",
       "}\n",
       ".suggestion-warning { \n",
       "font-weight: bold;\n",
       "color: rgb(200, 130, 0);\n",
       "}\n",
       ".suggestion-error { \n",
       "font-weight: bold;\n",
       "color: red;\n",
       "}\n",
       ".suggestion-name {\n",
       "font-weight: bold;\n",
       "}\n",
       "</style><span class='get-type'>fmap (*2) :: forall {f :: * -> *} {b}. (Functor f, Num b) => f b -> f b</span>"
      ],
      "text/plain": [
       "fmap (*2) :: forall {f :: * -> *} {b}. (Functor f, Num b) => f b -> f b"
      ]
     },
     "metadata": {},
     "output_type": "display_data"
    }
   ],
   "source": [
    ":t fmap (*2)"
   ]
  },
  {
   "cell_type": "code",
   "execution_count": 14,
   "metadata": {
    "attributes": {
     "classes": [
      "haskell:hs"
     ],
     "id": "",
     "name": "\"code\""
    }
   },
   "outputs": [
    {
     "data": {
      "text/html": [
       "<style>/* Styles used for the Hoogle display in the pager */\n",
       ".hoogle-doc {\n",
       "display: block;\n",
       "padding-bottom: 1.3em;\n",
       "padding-left: 0.4em;\n",
       "}\n",
       ".hoogle-code {\n",
       "display: block;\n",
       "font-family: monospace;\n",
       "white-space: pre;\n",
       "}\n",
       ".hoogle-text {\n",
       "display: block;\n",
       "}\n",
       ".hoogle-name {\n",
       "color: green;\n",
       "font-weight: bold;\n",
       "}\n",
       ".hoogle-head {\n",
       "font-weight: bold;\n",
       "}\n",
       ".hoogle-sub {\n",
       "display: block;\n",
       "margin-left: 0.4em;\n",
       "}\n",
       ".hoogle-package {\n",
       "font-weight: bold;\n",
       "font-style: italic;\n",
       "}\n",
       ".hoogle-module {\n",
       "font-weight: bold;\n",
       "}\n",
       ".hoogle-class {\n",
       "font-weight: bold;\n",
       "}\n",
       ".get-type {\n",
       "color: green;\n",
       "font-weight: bold;\n",
       "font-family: monospace;\n",
       "display: block;\n",
       "white-space: pre-wrap;\n",
       "}\n",
       ".show-type {\n",
       "color: green;\n",
       "font-weight: bold;\n",
       "font-family: monospace;\n",
       "margin-left: 1em;\n",
       "}\n",
       ".mono {\n",
       "font-family: monospace;\n",
       "display: block;\n",
       "}\n",
       ".err-msg {\n",
       "color: red;\n",
       "font-style: italic;\n",
       "font-family: monospace;\n",
       "white-space: pre;\n",
       "display: block;\n",
       "}\n",
       "#unshowable {\n",
       "color: red;\n",
       "font-weight: bold;\n",
       "}\n",
       ".err-msg.in.collapse {\n",
       "padding-top: 0.7em;\n",
       "}\n",
       ".highlight-code {\n",
       "white-space: pre;\n",
       "font-family: monospace;\n",
       "}\n",
       ".suggestion-warning { \n",
       "font-weight: bold;\n",
       "color: rgb(200, 130, 0);\n",
       "}\n",
       ".suggestion-error { \n",
       "font-weight: bold;\n",
       "color: red;\n",
       "}\n",
       ".suggestion-name {\n",
       "font-weight: bold;\n",
       "}\n",
       "</style><span class='get-type'>fmap (replicate 3) :: forall {f :: * -> *} {a}. Functor f => f a -> f [a]</span>"
      ],
      "text/plain": [
       "fmap (replicate 3) :: forall {f :: * -> *} {a}. Functor f => f a -> f [a]"
      ]
     },
     "metadata": {},
     "output_type": "display_data"
    }
   ],
   "source": [
    ":t fmap (replicate 3)"
   ]
  },
  {
   "cell_type": "markdown",
   "metadata": {},
   "source": [
    "The expression `fmap (*2)` is a function that takes a functor `f` over\n",
    "numbers and returns a functor over numbers. That functor can be a list,\n",
    "a [`Maybe`](https://hackage.haskell.org/package/base/docs/Prelude.html#t:Maybe), an `Either String`, whatever. The expression `fmap (replicate 3)`\n",
    "will take a functor over any type and return a functor over a list of\n",
    "elements of that type.\n",
    "\n",
    "> When we say *a functor over numbers*, you can think of that as *a\n",
    "> functor that has numbers in it*. The former is a bit fancier and more\n",
    "> technically correct, but the latter is usually easier to get.\n",
    "\n",
    "This is even more apparent if we partially apply, say, `fmap (++\"!\")` and\n",
    "then bind it to a name in GHCI.\n",
    "\n",
    "You can think of [`fmap`](https://hackage.haskell.org/package/base/docs/Prelude.html#v:fmap) as either a function that takes a function and a\n",
    "functor and then maps that function over the functor, or you can think\n",
    "of it as a function that takes a function and lifts that function so\n",
    "that it operates on functors. Both views are correct and in Haskell,\n",
    "equivalent.\n",
    "\n",
    "The type `fmap (replicate 3) :: (Functor f) => f a -> f [a]` means that\n",
    "the function will work on any functor. What exactly it will do depends\n",
    "on which functor we use it on. If we use `fmap (replicate 3)` on a list,\n",
    "the list's implementation for [`fmap`](https://hackage.haskell.org/package/base/docs/Prelude.html#v:fmap) will be chosen, which is just [`map`](https://hackage.haskell.org/package/base/docs/Prelude.html#v:map). If\n",
    "we use it on a `Maybe a`, it'll apply `replicate 3` to the value inside the\n",
    "[`Just`](https://hackage.haskell.org/package/base/docs/Prelude.html#v:Just), or if it's [`Nothing`](https://hackage.haskell.org/package/base/docs/Prelude.html#v:Nothing), then it stays [`Nothing`](https://hackage.haskell.org/package/base/docs/Prelude.html#v:Nothing)."
   ]
  },
  {
   "cell_type": "code",
   "execution_count": 15,
   "metadata": {
    "attributes": {
     "classes": [
      "haskell:hs"
     ],
     "id": "",
     "name": "\"code\""
    }
   },
   "outputs": [
    {
     "data": {
      "text/plain": [
       "[[1,1,1],[2,2,2],[3,3,3],[4,4,4]]"
      ]
     },
     "metadata": {},
     "output_type": "display_data"
    }
   ],
   "source": [
    "fmap (replicate 3) [1,2,3,4]"
   ]
  },
  {
   "cell_type": "code",
   "execution_count": 16,
   "metadata": {
    "attributes": {
     "classes": [
      "haskell:hs"
     ],
     "id": "",
     "name": "\"code\""
    }
   },
   "outputs": [
    {
     "data": {
      "text/plain": [
       "Just [4,4,4]"
      ]
     },
     "metadata": {},
     "output_type": "display_data"
    }
   ],
   "source": [
    "fmap (replicate 3) (Just 4)"
   ]
  },
  {
   "cell_type": "code",
   "execution_count": 17,
   "metadata": {
    "attributes": {
     "classes": [
      "haskell:hs"
     ],
     "id": "",
     "name": "\"code\""
    }
   },
   "outputs": [
    {
     "data": {
      "text/plain": [
       "Right [\"blah\",\"blah\",\"blah\"]"
      ]
     },
     "metadata": {},
     "output_type": "display_data"
    }
   ],
   "source": [
    "fmap (replicate 3) (Right \"blah\")"
   ]
  },
  {
   "cell_type": "code",
   "execution_count": 18,
   "metadata": {
    "attributes": {
     "classes": [
      "haskell:hs"
     ],
     "id": "",
     "name": "\"code\""
    }
   },
   "outputs": [
    {
     "data": {
      "text/plain": [
       "Nothing"
      ]
     },
     "metadata": {},
     "output_type": "display_data"
    }
   ],
   "source": [
    "fmap (replicate 3) Nothing"
   ]
  },
  {
   "cell_type": "code",
   "execution_count": 19,
   "metadata": {
    "attributes": {
     "classes": [
      "haskell:hs"
     ],
     "id": "",
     "name": "\"code\""
    }
   },
   "outputs": [
    {
     "data": {
      "text/plain": [
       "Left \"foo\""
      ]
     },
     "metadata": {},
     "output_type": "display_data"
    }
   ],
   "source": [
    "fmap (replicate 3) (Left \"foo\")"
   ]
  },
  {
   "cell_type": "markdown",
   "metadata": {},
   "source": [
    "Next up, we're going to look at the __functor laws__. In order for\n",
    "something to be a functor, it should satisfy some laws. All functors are\n",
    "expected to exhibit certain kinds of functor-like properties and\n",
    "behaviors. They should reliably behave as things that can be mapped\n",
    "over. Calling [`fmap`](https://hackage.haskell.org/package/base/docs/Prelude.html#v:fmap) on a functor should just map a function over the\n",
    "functor, nothing more. This behavior is described in the functor laws.\n",
    "There are two of them that all instances of [`Functor`](https://hackage.haskell.org/package/base/docs/Prelude.html#t:Functor) should abide by.\n",
    "They aren't enforced by Haskell automatically, so you have to test them\n",
    "out yourself.\n",
    "\n",
    "__The first functor law states that if we map the [`id`](https://hackage.haskell.org/package/base/docs/Prelude.html#v:id) function over a\n",
    "functor, the functor that we get back should be the same as the original\n",
    "functor.__ If we write that a bit more formally, it means that\n",
    "**`fmap id = id`**.\n",
    "So essentially, this says that if we do `fmap id` over a functor, it\n",
    "should be the same as just calling [`id`](https://hackage.haskell.org/package/base/docs/Prelude.html#v:id) on the functor. Remember, [`id`](https://hackage.haskell.org/package/base/docs/Prelude.html#v:id) is\n",
    "the identity function, which just returns its parameter unmodified. It\n",
    "can also be written as `\\x -> x`. If we view the functor as something\n",
    "that can be mapped over, the **`fmap id = id`** law seems kind of trivial or\n",
    "obvious.\n",
    "\n",
    "Let's see if this law holds for a few values of functors."
   ]
  },
  {
   "cell_type": "code",
   "execution_count": 20,
   "metadata": {
    "attributes": {
     "classes": [
      "haskell:hs"
     ],
     "id": "",
     "name": "\"code\""
    }
   },
   "outputs": [
    {
     "data": {
      "text/plain": [
       "Just 3"
      ]
     },
     "metadata": {},
     "output_type": "display_data"
    }
   ],
   "source": [
    "fmap id (Just 3)"
   ]
  },
  {
   "cell_type": "code",
   "execution_count": 21,
   "metadata": {
    "attributes": {
     "classes": [
      "haskell:hs"
     ],
     "id": "",
     "name": "\"code\""
    }
   },
   "outputs": [
    {
     "data": {
      "text/plain": [
       "Just 3"
      ]
     },
     "metadata": {},
     "output_type": "display_data"
    }
   ],
   "source": [
    "id (Just 3)"
   ]
  },
  {
   "cell_type": "code",
   "execution_count": 22,
   "metadata": {
    "attributes": {
     "classes": [
      "haskell:hs"
     ],
     "id": "",
     "name": "\"code\""
    }
   },
   "outputs": [
    {
     "data": {
      "text/plain": [
       "[1,2,3,4,5]"
      ]
     },
     "metadata": {},
     "output_type": "display_data"
    }
   ],
   "source": [
    "fmap id [1..5]"
   ]
  },
  {
   "cell_type": "code",
   "execution_count": 23,
   "metadata": {
    "attributes": {
     "classes": [
      "haskell:hs"
     ],
     "id": "",
     "name": "\"code\""
    }
   },
   "outputs": [
    {
     "data": {
      "text/plain": [
       "[1,2,3,4,5]"
      ]
     },
     "metadata": {},
     "output_type": "display_data"
    }
   ],
   "source": [
    "id [1..5]"
   ]
  },
  {
   "cell_type": "code",
   "execution_count": 24,
   "metadata": {
    "attributes": {
     "classes": [
      "haskell:hs"
     ],
     "id": "",
     "name": "\"code\""
    }
   },
   "outputs": [
    {
     "data": {
      "text/plain": [
       "[]"
      ]
     },
     "metadata": {},
     "output_type": "display_data"
    }
   ],
   "source": [
    "fmap id []"
   ]
  },
  {
   "cell_type": "code",
   "execution_count": 25,
   "metadata": {
    "attributes": {
     "classes": [
      "haskell:hs"
     ],
     "id": "",
     "name": "\"code\""
    }
   },
   "outputs": [
    {
     "data": {
      "text/plain": [
       "Nothing"
      ]
     },
     "metadata": {},
     "output_type": "display_data"
    }
   ],
   "source": [
    "fmap id Nothing"
   ]
  },
  {
   "cell_type": "markdown",
   "metadata": {},
   "source": [
    "If we look at the implementation of [`fmap`](https://hackage.haskell.org/package/base/docs/Prelude.html#v:fmap) for, say, [`Maybe`](https://hackage.haskell.org/package/base/docs/Prelude.html#t:Maybe), we can figure\n",
    "out why the first functor law holds."
   ]
  },
  {
   "cell_type": "markdown",
   "metadata": {
    "attributes": {
     "classes": [
      "haskell:hs"
     ],
     "id": "",
     "name": "\"code\""
    }
   },
   "source": [
    "<pre><code>instance Functor Maybe where\n",
    "    fmap f (Just x) = Just (f x)\n",
    "    fmap f Nothing = Nothing</code></pre>"
   ]
  },
  {
   "cell_type": "markdown",
   "metadata": {},
   "source": [
    "We imagine that [`id`](https://hackage.haskell.org/package/base/docs/Prelude.html#v:id) plays the role of the `f` parameter in the\n",
    "implementation. We see that if we `fmap id` over `Just x`, the result will\n",
    "be `Just (id x)`, and because [`id`](https://hackage.haskell.org/package/base/docs/Prelude.html#v:id) just returns its parameter, we can deduce\n",
    "that `Just (id x)` equals `Just x`. So now we know that if we map [`id`](https://hackage.haskell.org/package/base/docs/Prelude.html#v:id) over a\n",
    "[`Maybe`](https://hackage.haskell.org/package/base/docs/Prelude.html#t:Maybe) value with a [`Just`](https://hackage.haskell.org/package/base/docs/Prelude.html#v:Just) value constructor, we get that same value back.\n",
    "\n",
    "Seeing that mapping [`id`](https://hackage.haskell.org/package/base/docs/Prelude.html#v:id) over a [`Nothing`](https://hackage.haskell.org/package/base/docs/Prelude.html#v:Nothing) value returns the same value is\n",
    "trivial. So from these two equations in the implementation for [`fmap`](https://hackage.haskell.org/package/base/docs/Prelude.html#v:fmap), we\n",
    "see that the law `fmap id = id` holds.\n",
    "\n",
    "<img src=\"img/justice.png\" title=\"justice is blind, but so is my dog\" style=\"background-color:white;float:left;margin-right:2em;\"/>\n",
    "\n",
    "__The second law says that composing two functions and then mapping the\n",
    "resulting function over a functor should be the same as first mapping\n",
    "one function over the functor and then mapping the other one.__ Formally\n",
    "written, that means that **`fmap (f . g) = fmap f . fmap g`**. Or to write it\n",
    "in another way, for any functor `F`, the following should \n",
    "hold: **`fmap (f . g) F = fmap f (fmap g F)`**.\n",
    "\n",
    "If we can show that some type obeys both functor laws, we can rely on it\n",
    "having the same fundamental behaviors as other functors when it comes to\n",
    "mapping. We can know that when we use [`fmap`](https://hackage.haskell.org/package/base/docs/Prelude.html#v:fmap) on it, there won't be\n",
    "anything other than mapping going on behind the scenes and that it will\n",
    "act like a thing that can be mapped over, i.e. a functor. You figure out\n",
    "how the second law holds for some type by looking at the implementation\n",
    "of [`fmap`](https://hackage.haskell.org/package/base/docs/Prelude.html#v:fmap) for that type and then using the method that we used to check if\n",
    "[`Maybe`](https://hackage.haskell.org/package/base/docs/Prelude.html#t:Maybe) obeys the first law.\n",
    "\n",
    "If you want, we can check out how the second functor law holds for\n",
    "[`Maybe`](https://hackage.haskell.org/package/base/docs/Prelude.html#t:Maybe). If we do `fmap (f . g)` over [`Nothing`](https://hackage.haskell.org/package/base/docs/Prelude.html#v:Nothing), we get [`Nothing`](https://hackage.haskell.org/package/base/docs/Prelude.html#v:Nothing), because doing\n",
    "a [`fmap`](https://hackage.haskell.org/package/base/docs/Prelude.html#v:fmap) with any function over [`Nothing`](https://hackage.haskell.org/package/base/docs/Prelude.html#v:Nothing) returns [`Nothing`](https://hackage.haskell.org/package/base/docs/Prelude.html#v:Nothing). If we do\n",
    "`fmap f (fmap g Nothing)`, we get [`Nothing`](https://hackage.haskell.org/package/base/docs/Prelude.html#v:Nothing), for the same reason. OK, seeing how\n",
    "the second law holds for [`Maybe`](https://hackage.haskell.org/package/base/docs/Prelude.html#t:Maybe) if it's a [`Nothing`](https://hackage.haskell.org/package/base/docs/Prelude.html#v:Nothing) value is pretty easy,\n",
    "almost trivial.\n",
    "\n",
    "How about if it's a `Just <something>` value? Well, if we do\n",
    "`fmap (f . g) (Just x)`,\n",
    "we see from the implementation that it's implemented as\n",
    "`Just ((f . g) x)`, which is, of course, `Just (f (g x))`.\n",
    "If we do `fmap f (fmap g (Just x))`,\n",
    "we see from the implementation that `fmap g (Just x)` is\n",
    "`Just (g x)`. Ergo, `fmap f (fmap g (Just x))` equals\n",
    "`fmap f (Just (g x))` and\n",
    "from the implementation we see that this equals `Just (f (g x))`.\n",
    "\n",
    "If you're a bit confused by this proof, don't worry. Be sure that you\n",
    "understand how [function\n",
    "composition](http://learnyouahaskell.com/higher-order-functions#composition) works. Many times, you\n",
    "can intuitively see how these laws hold because the types act like\n",
    "containers or functions. You can also just try them on a bunch of\n",
    "different values of a type and be able to say with some certainty that a\n",
    "type does indeed obey the laws.\n",
    "\n",
    "Let's take a look at a pathological example of a type constructor being\n",
    "an instance of the [`Functor`](https://hackage.haskell.org/package/base/docs/Prelude.html#t:Functor) typeclass but not really being a functor,\n",
    "because it doesn't satisfy the laws. Let's say that we have a type:"
   ]
  },
  {
   "cell_type": "code",
   "execution_count": 26,
   "metadata": {
    "attributes": {
     "classes": [
      "haskell:hs"
     ],
     "id": "",
     "name": "\"code\""
    }
   },
   "outputs": [],
   "source": [
    "data CMaybe a = CNothing | CJust Int a deriving (Show)"
   ]
  },
  {
   "cell_type": "markdown",
   "metadata": {},
   "source": [
    "The C here stands for *counter*. It's a data type that looks much like\n",
    "`Maybe a`, only the [`Just`](https://hackage.haskell.org/package/base/docs/Prelude.html#v:Just) part holds two fields instead of one. The first\n",
    "field in the `CJust` value constructor will always have a type of [`Int`](https://hackage.haskell.org/package/base/docs/Prelude.html#t:Int), and\n",
    "it will be some sort of counter and the second field is of type `a`, which\n",
    "comes from the type parameter and its type will, of course, depend on\n",
    "the concrete type that we choose for `CMaybe a`. Let's play with our new\n",
    "type to get some intuition for it."
   ]
  },
  {
   "cell_type": "code",
   "execution_count": 27,
   "metadata": {
    "attributes": {
     "classes": [
      "haskell:hs"
     ],
     "id": "",
     "name": "\"code\""
    }
   },
   "outputs": [
    {
     "data": {
      "text/plain": [
       "CNothing"
      ]
     },
     "metadata": {},
     "output_type": "display_data"
    }
   ],
   "source": [
    "CNothing"
   ]
  },
  {
   "cell_type": "code",
   "execution_count": 28,
   "metadata": {
    "attributes": {
     "classes": [
      "haskell:hs"
     ],
     "id": "",
     "name": "\"code\""
    }
   },
   "outputs": [
    {
     "data": {
      "text/plain": [
       "CJust 0 \"haha\""
      ]
     },
     "metadata": {},
     "output_type": "display_data"
    }
   ],
   "source": [
    "CJust 0 \"haha\""
   ]
  },
  {
   "cell_type": "code",
   "execution_count": 29,
   "metadata": {
    "attributes": {
     "classes": [
      "haskell:hs"
     ],
     "id": "",
     "name": "\"code\""
    }
   },
   "outputs": [
    {
     "data": {
      "text/html": [
       "<style>/* Styles used for the Hoogle display in the pager */\n",
       ".hoogle-doc {\n",
       "display: block;\n",
       "padding-bottom: 1.3em;\n",
       "padding-left: 0.4em;\n",
       "}\n",
       ".hoogle-code {\n",
       "display: block;\n",
       "font-family: monospace;\n",
       "white-space: pre;\n",
       "}\n",
       ".hoogle-text {\n",
       "display: block;\n",
       "}\n",
       ".hoogle-name {\n",
       "color: green;\n",
       "font-weight: bold;\n",
       "}\n",
       ".hoogle-head {\n",
       "font-weight: bold;\n",
       "}\n",
       ".hoogle-sub {\n",
       "display: block;\n",
       "margin-left: 0.4em;\n",
       "}\n",
       ".hoogle-package {\n",
       "font-weight: bold;\n",
       "font-style: italic;\n",
       "}\n",
       ".hoogle-module {\n",
       "font-weight: bold;\n",
       "}\n",
       ".hoogle-class {\n",
       "font-weight: bold;\n",
       "}\n",
       ".get-type {\n",
       "color: green;\n",
       "font-weight: bold;\n",
       "font-family: monospace;\n",
       "display: block;\n",
       "white-space: pre-wrap;\n",
       "}\n",
       ".show-type {\n",
       "color: green;\n",
       "font-weight: bold;\n",
       "font-family: monospace;\n",
       "margin-left: 1em;\n",
       "}\n",
       ".mono {\n",
       "font-family: monospace;\n",
       "display: block;\n",
       "}\n",
       ".err-msg {\n",
       "color: red;\n",
       "font-style: italic;\n",
       "font-family: monospace;\n",
       "white-space: pre;\n",
       "display: block;\n",
       "}\n",
       "#unshowable {\n",
       "color: red;\n",
       "font-weight: bold;\n",
       "}\n",
       ".err-msg.in.collapse {\n",
       "padding-top: 0.7em;\n",
       "}\n",
       ".highlight-code {\n",
       "white-space: pre;\n",
       "font-family: monospace;\n",
       "}\n",
       ".suggestion-warning { \n",
       "font-weight: bold;\n",
       "color: rgb(200, 130, 0);\n",
       "}\n",
       ".suggestion-error { \n",
       "font-weight: bold;\n",
       "color: red;\n",
       "}\n",
       ".suggestion-name {\n",
       "font-weight: bold;\n",
       "}\n",
       "</style><span class='get-type'>CNothing :: forall a. CMaybe a</span>"
      ],
      "text/plain": [
       "CNothing :: forall a. CMaybe a"
      ]
     },
     "metadata": {},
     "output_type": "display_data"
    }
   ],
   "source": [
    ":t CNothing"
   ]
  },
  {
   "cell_type": "code",
   "execution_count": 30,
   "metadata": {
    "attributes": {
     "classes": [
      "haskell:hs"
     ],
     "id": "",
     "name": "\"code\""
    }
   },
   "outputs": [
    {
     "data": {
      "text/html": [
       "<style>/* Styles used for the Hoogle display in the pager */\n",
       ".hoogle-doc {\n",
       "display: block;\n",
       "padding-bottom: 1.3em;\n",
       "padding-left: 0.4em;\n",
       "}\n",
       ".hoogle-code {\n",
       "display: block;\n",
       "font-family: monospace;\n",
       "white-space: pre;\n",
       "}\n",
       ".hoogle-text {\n",
       "display: block;\n",
       "}\n",
       ".hoogle-name {\n",
       "color: green;\n",
       "font-weight: bold;\n",
       "}\n",
       ".hoogle-head {\n",
       "font-weight: bold;\n",
       "}\n",
       ".hoogle-sub {\n",
       "display: block;\n",
       "margin-left: 0.4em;\n",
       "}\n",
       ".hoogle-package {\n",
       "font-weight: bold;\n",
       "font-style: italic;\n",
       "}\n",
       ".hoogle-module {\n",
       "font-weight: bold;\n",
       "}\n",
       ".hoogle-class {\n",
       "font-weight: bold;\n",
       "}\n",
       ".get-type {\n",
       "color: green;\n",
       "font-weight: bold;\n",
       "font-family: monospace;\n",
       "display: block;\n",
       "white-space: pre-wrap;\n",
       "}\n",
       ".show-type {\n",
       "color: green;\n",
       "font-weight: bold;\n",
       "font-family: monospace;\n",
       "margin-left: 1em;\n",
       "}\n",
       ".mono {\n",
       "font-family: monospace;\n",
       "display: block;\n",
       "}\n",
       ".err-msg {\n",
       "color: red;\n",
       "font-style: italic;\n",
       "font-family: monospace;\n",
       "white-space: pre;\n",
       "display: block;\n",
       "}\n",
       "#unshowable {\n",
       "color: red;\n",
       "font-weight: bold;\n",
       "}\n",
       ".err-msg.in.collapse {\n",
       "padding-top: 0.7em;\n",
       "}\n",
       ".highlight-code {\n",
       "white-space: pre;\n",
       "font-family: monospace;\n",
       "}\n",
       ".suggestion-warning { \n",
       "font-weight: bold;\n",
       "color: rgb(200, 130, 0);\n",
       "}\n",
       ".suggestion-error { \n",
       "font-weight: bold;\n",
       "color: red;\n",
       "}\n",
       ".suggestion-name {\n",
       "font-weight: bold;\n",
       "}\n",
       "</style><span class='get-type'>CJust 0 \"haha\" :: CMaybe String</span>"
      ],
      "text/plain": [
       "CJust 0 \"haha\" :: CMaybe String"
      ]
     },
     "metadata": {},
     "output_type": "display_data"
    }
   ],
   "source": [
    ":t CJust 0 \"haha\""
   ]
  },
  {
   "cell_type": "code",
   "execution_count": 31,
   "metadata": {
    "attributes": {
     "classes": [
      "haskell:hs"
     ],
     "id": "",
     "name": "\"code\""
    }
   },
   "outputs": [
    {
     "data": {
      "text/plain": [
       "CJust 100 [1,2,3]"
      ]
     },
     "metadata": {},
     "output_type": "display_data"
    }
   ],
   "source": [
    "CJust 100 [1,2,3]"
   ]
  },
  {
   "cell_type": "markdown",
   "metadata": {},
   "source": [
    "If we use the `CNothing` constructor, there are no fields, and if we use\n",
    "the `CJust` constructor, the first field is an integer and the second\n",
    "field can be any type. Let's make this an instance of [`Functor`](https://hackage.haskell.org/package/base/docs/Prelude.html#t:Functor) so that\n",
    "every time we use [`fmap`](https://hackage.haskell.org/package/base/docs/Prelude.html#v:fmap), the function gets applied to the second field,\n",
    "whereas the first field gets increased by 1."
   ]
  },
  {
   "cell_type": "code",
   "execution_count": 32,
   "metadata": {
    "attributes": {
     "classes": [
      "haskell:hs"
     ],
     "id": "",
     "name": "\"code\""
    }
   },
   "outputs": [],
   "source": [
    "instance Functor CMaybe where\n",
    "    fmap f CNothing = CNothing\n",
    "    fmap f (CJust counter x) = CJust (counter+1) (f x)"
   ]
  },
  {
   "cell_type": "markdown",
   "metadata": {},
   "source": [
    "This is kind of like the instance implementation for [`Maybe`](https://hackage.haskell.org/package/base/docs/Prelude.html#t:Maybe), except that\n",
    "when we do [`fmap`](https://hackage.haskell.org/package/base/docs/Prelude.html#v:fmap) over a value that doesn't represent an empty box (a\n",
    "`CJust` value), we don't just apply the function to the contents, we also\n",
    "increase the counter by 1. Everything seems cool so far, we can even\n",
    "play with this a bit:"
   ]
  },
  {
   "cell_type": "code",
   "execution_count": 33,
   "metadata": {
    "attributes": {
     "classes": [
      "haskell:hs"
     ],
     "id": "",
     "name": "\"code\""
    }
   },
   "outputs": [
    {
     "data": {
      "text/plain": [
       "CJust 1 \"hoha\""
      ]
     },
     "metadata": {},
     "output_type": "display_data"
    }
   ],
   "source": [
    "fmap (++\"ha\") (CJust 0 \"ho\")"
   ]
  },
  {
   "cell_type": "code",
   "execution_count": 34,
   "metadata": {
    "attributes": {
     "classes": [
      "haskell:hs"
     ],
     "id": "",
     "name": "\"code\""
    }
   },
   "outputs": [
    {
     "data": {
      "text/plain": [
       "CJust 2 \"hohahe\""
      ]
     },
     "metadata": {},
     "output_type": "display_data"
    }
   ],
   "source": [
    "fmap (++\"he\") (fmap (++\"ha\") (CJust 0 \"ho\"))"
   ]
  },
  {
   "cell_type": "code",
   "execution_count": 35,
   "metadata": {
    "attributes": {
     "classes": [
      "haskell:hs"
     ],
     "id": "",
     "name": "\"code\""
    }
   },
   "outputs": [
    {
     "data": {
      "text/plain": [
       "CNothing"
      ]
     },
     "metadata": {},
     "output_type": "display_data"
    }
   ],
   "source": [
    "fmap (++\"blah\") CNothing"
   ]
  },
  {
   "cell_type": "markdown",
   "metadata": {},
   "source": [
    "Does this obey the functor laws? In order to see that something doesn't\n",
    "obey a law, it's enough to find just one counter-example."
   ]
  },
  {
   "cell_type": "code",
   "execution_count": 36,
   "metadata": {
    "attributes": {
     "classes": [
      "haskell:hs"
     ],
     "id": "",
     "name": "\"code\""
    }
   },
   "outputs": [
    {
     "data": {
      "text/plain": [
       "CJust 1 \"haha\""
      ]
     },
     "metadata": {},
     "output_type": "display_data"
    }
   ],
   "source": [
    "fmap id (CJust 0 \"haha\")"
   ]
  },
  {
   "cell_type": "code",
   "execution_count": 37,
   "metadata": {
    "attributes": {
     "classes": [
      "haskell:hs"
     ],
     "id": "",
     "name": "\"code\""
    }
   },
   "outputs": [
    {
     "data": {
      "text/plain": [
       "CJust 0 \"haha\""
      ]
     },
     "metadata": {},
     "output_type": "display_data"
    }
   ],
   "source": [
    "id (CJust 0 \"haha\")"
   ]
  },
  {
   "cell_type": "markdown",
   "metadata": {},
   "source": [
    "Ah! We know that the first functor law states that if we map [`id`](https://hackage.haskell.org/package/base/docs/Prelude.html#v:id) over a\n",
    "functor, it should be the same as just calling [`id`](https://hackage.haskell.org/package/base/docs/Prelude.html#v:id) with the same functor,\n",
    "but as we've seen from this example, this is not true for our `CMaybe`\n",
    "functor. Even though it's part of the [`Functor`](https://hackage.haskell.org/package/base/docs/Prelude.html#t:Functor) typeclass, it doesn't obey\n",
    "the functor laws and is therefore not a functor. If someone used our\n",
    "`CMaybe` type as a functor, they would expect it to obey the functor laws\n",
    "like a good functor. But `CMaybe` fails at being a functor even though it\n",
    "pretends to be one, so using it as a functor might lead to some faulty\n",
    "code. When we use a functor, it shouldn't matter if we first compose a\n",
    "few functions and then map them over the functor or if we just map each\n",
    "function over a functor in succession. But with `CMaybe`, it matters,\n",
    "because it keeps track of how many times it's been mapped over. Not\n",
    "cool! If we wanted `CMaybe` to obey the functor laws, we'd have to make it\n",
    "so that the [`Int`](https://hackage.haskell.org/package/base/docs/Prelude.html#t:Int) field stays the same when we use [`fmap`](https://hackage.haskell.org/package/base/docs/Prelude.html#v:fmap).\n",
    "\n",
    "At first, the functor laws might seem a bit confusing and unnecessary,\n",
    "but then we see that if we know that a type obeys both laws, we can make\n",
    "certain assumptions about how it will act. If a type obeys the functor\n",
    "laws, we know that calling [`fmap`](https://hackage.haskell.org/package/base/docs/Prelude.html#v:fmap) on a value of that type will only map\n",
    "the function over it, nothing more. This leads to code that is more\n",
    "abstract and extensible, because we can use laws to reason about\n",
    "behaviors that any functor should have and make functions that operate\n",
    "reliably on any functor.\n",
    "\n",
    "All the [`Functor`](https://hackage.haskell.org/package/base/docs/Prelude.html#t:Functor) instances in the standard library obey these laws, but\n",
    "you can check for yourself if you don't believe me. And the next time\n",
    "you make a type an instance of [`Functor`](https://hackage.haskell.org/package/base/docs/Prelude.html#t:Functor), take a minute to make sure that\n",
    "it obeys the functor laws. Once you've dealt with enough functors, you\n",
    "kind of intuitively see the properties and behaviors that they have in\n",
    "common and it's not hard to intuitively see if a type obeys the functor\n",
    "laws. But even without the intuition, you can always just go over the\n",
    "implementation line by line and see if the laws hold or try to find a\n",
    "counter-example.\n",
    "\n",
    "We can also look at functors as things that output values in a context.\n",
    "For instance, `Just 3` outputs the value `3` in the context that it might or\n",
    "not output any values at all. `[1,2,3]` outputs three values—`1`, `2`, and `3`,\n",
    "the context is that there may be multiple values or no values. The\n",
    "function `(+3)` will output a value, depending on which parameter it is\n",
    "given.\n",
    "\n",
    "If you think of functors as things that output values, you can think of\n",
    "mapping over functors as attaching a transformation to the output of the\n",
    "functor that changes the value. When we do `fmap (+3) [1,2,3]`, we attach\n",
    "the transformation `(+3)` to the output of `[1,2,3]`, so whenever we look at\n",
    "a number that the list outputs, `(+3)` will be applied to it. Another\n",
    "example is mapping over functions. When we do `fmap (+3) (*3)`, we attach\n",
    "the transformation `(+3)` to the eventual output of `(*3)`. Looking at it\n",
    "this way gives us some intuition as to why using [`fmap`](https://hackage.haskell.org/package/base/docs/Prelude.html#v:fmap) on functions is\n",
    "just composition (`fmap (+3) (*3)` equals `(+3) . (*3)`, which equals\n",
    "`\\x -> ((x*3)+3)`), because we take a function like `(*3)` then we attach\n",
    "the transformation `(+3)` to its output. The result is still a function,\n",
    "only when we give it a number, it will be multiplied by three and then\n",
    "it will go through the attached transformation where it will be added to\n",
    "three. This is what happens with composition.\n",
    "\n",
    "<a name=\"applicative-functors\"></a>\n",
    "\n",
    "Applicative functors\n",
    "--------------------\n",
    "\n",
    "<img src=\"img/present.png\" title=\"disregard this analogy\" style=\"background-color:white;float:right;margin-left:2em;\" />\n",
    "\n",
    "In this section, we'll take a look at applicative functors, which are\n",
    "beefed up functors, represented in Haskell by the [`Applicative`](https://hackage.haskell.org/package/base/docs/Prelude.html#t:Applicative) typeclass,\n",
    "found in the `Control.Applicative` module.\n",
    "\n",
    "As you know, functions in Haskell are curried by default, which means\n",
    "that a function that seems to take several parameters actually takes\n",
    "just one parameter and returns a function that takes the next parameter\n",
    "and so on. If a function is of type `a -> b -> c`, we usually say that\n",
    "it takes two parameters and returns a `c`, but actually it takes an `a` and\n",
    "returns a function `b -> c`. That's why we can call a function as `f x y`\n",
    "or as `(f x) y`. This mechanism is what enables us to partially apply\n",
    "functions by just calling them with too few parameters, which results in\n",
    "functions that we can then pass on to other functions.\n",
    "\n",
    "So far, when we were mapping functions over functors, we usually mapped\n",
    "functions that take only one parameter. But what happens when we map a\n",
    "function like [`*`](https://hackage.haskell.org/package/base/docs/Prelude.html#v:-42-), which takes two parameters, over a functor? Let's take\n",
    "a look at a couple of concrete examples of this. If we have `Just 3` and\n",
    "we do `fmap (*) (Just 3)`, what do we get? From the instance\n",
    "implementation of [`Maybe`](https://hackage.haskell.org/package/base/docs/Prelude.html#t:Maybe) for [`Functor`](https://hackage.haskell.org/package/base/docs/Prelude.html#t:Functor), we know that if it's a\n",
    "`Just <something>` value, it will apply the function to the `<something>` inside\n",
    "the [`Just`](https://hackage.haskell.org/package/base/docs/Prelude.html#v:Just). Therefore, doing `fmap (*) (Just 3)` results in `Just ((*) 3)`,\n",
    "which can also be written as `Just (* 3)` if we use sections.\n",
    "Interesting! We get a function wrapped in a [`Just`](https://hackage.haskell.org/package/base/docs/Prelude.html#v:Just)!"
   ]
  },
  {
   "cell_type": "code",
   "execution_count": 38,
   "metadata": {
    "attributes": {
     "classes": [
      "haskell:hs"
     ],
     "id": "",
     "name": "\"code\""
    }
   },
   "outputs": [
    {
     "data": {
      "text/html": [
       "<style>/* Styles used for the Hoogle display in the pager */\n",
       ".hoogle-doc {\n",
       "display: block;\n",
       "padding-bottom: 1.3em;\n",
       "padding-left: 0.4em;\n",
       "}\n",
       ".hoogle-code {\n",
       "display: block;\n",
       "font-family: monospace;\n",
       "white-space: pre;\n",
       "}\n",
       ".hoogle-text {\n",
       "display: block;\n",
       "}\n",
       ".hoogle-name {\n",
       "color: green;\n",
       "font-weight: bold;\n",
       "}\n",
       ".hoogle-head {\n",
       "font-weight: bold;\n",
       "}\n",
       ".hoogle-sub {\n",
       "display: block;\n",
       "margin-left: 0.4em;\n",
       "}\n",
       ".hoogle-package {\n",
       "font-weight: bold;\n",
       "font-style: italic;\n",
       "}\n",
       ".hoogle-module {\n",
       "font-weight: bold;\n",
       "}\n",
       ".hoogle-class {\n",
       "font-weight: bold;\n",
       "}\n",
       ".get-type {\n",
       "color: green;\n",
       "font-weight: bold;\n",
       "font-family: monospace;\n",
       "display: block;\n",
       "white-space: pre-wrap;\n",
       "}\n",
       ".show-type {\n",
       "color: green;\n",
       "font-weight: bold;\n",
       "font-family: monospace;\n",
       "margin-left: 1em;\n",
       "}\n",
       ".mono {\n",
       "font-family: monospace;\n",
       "display: block;\n",
       "}\n",
       ".err-msg {\n",
       "color: red;\n",
       "font-style: italic;\n",
       "font-family: monospace;\n",
       "white-space: pre;\n",
       "display: block;\n",
       "}\n",
       "#unshowable {\n",
       "color: red;\n",
       "font-weight: bold;\n",
       "}\n",
       ".err-msg.in.collapse {\n",
       "padding-top: 0.7em;\n",
       "}\n",
       ".highlight-code {\n",
       "white-space: pre;\n",
       "font-family: monospace;\n",
       "}\n",
       ".suggestion-warning { \n",
       "font-weight: bold;\n",
       "color: rgb(200, 130, 0);\n",
       "}\n",
       ".suggestion-error { \n",
       "font-weight: bold;\n",
       "color: red;\n",
       "}\n",
       ".suggestion-name {\n",
       "font-weight: bold;\n",
       "}\n",
       "</style><span class='get-type'>fmap (++) (Just \"hey\") :: Maybe ([Char] -> [Char])</span>"
      ],
      "text/plain": [
       "fmap (++) (Just \"hey\") :: Maybe ([Char] -> [Char])"
      ]
     },
     "metadata": {},
     "output_type": "display_data"
    }
   ],
   "source": [
    ":t fmap (++) (Just \"hey\")"
   ]
  },
  {
   "cell_type": "code",
   "execution_count": 39,
   "metadata": {
    "attributes": {
     "classes": [
      "haskell:hs"
     ],
     "id": "",
     "name": "\"code\""
    }
   },
   "outputs": [
    {
     "data": {
      "text/html": [
       "<style>/* Styles used for the Hoogle display in the pager */\n",
       ".hoogle-doc {\n",
       "display: block;\n",
       "padding-bottom: 1.3em;\n",
       "padding-left: 0.4em;\n",
       "}\n",
       ".hoogle-code {\n",
       "display: block;\n",
       "font-family: monospace;\n",
       "white-space: pre;\n",
       "}\n",
       ".hoogle-text {\n",
       "display: block;\n",
       "}\n",
       ".hoogle-name {\n",
       "color: green;\n",
       "font-weight: bold;\n",
       "}\n",
       ".hoogle-head {\n",
       "font-weight: bold;\n",
       "}\n",
       ".hoogle-sub {\n",
       "display: block;\n",
       "margin-left: 0.4em;\n",
       "}\n",
       ".hoogle-package {\n",
       "font-weight: bold;\n",
       "font-style: italic;\n",
       "}\n",
       ".hoogle-module {\n",
       "font-weight: bold;\n",
       "}\n",
       ".hoogle-class {\n",
       "font-weight: bold;\n",
       "}\n",
       ".get-type {\n",
       "color: green;\n",
       "font-weight: bold;\n",
       "font-family: monospace;\n",
       "display: block;\n",
       "white-space: pre-wrap;\n",
       "}\n",
       ".show-type {\n",
       "color: green;\n",
       "font-weight: bold;\n",
       "font-family: monospace;\n",
       "margin-left: 1em;\n",
       "}\n",
       ".mono {\n",
       "font-family: monospace;\n",
       "display: block;\n",
       "}\n",
       ".err-msg {\n",
       "color: red;\n",
       "font-style: italic;\n",
       "font-family: monospace;\n",
       "white-space: pre;\n",
       "display: block;\n",
       "}\n",
       "#unshowable {\n",
       "color: red;\n",
       "font-weight: bold;\n",
       "}\n",
       ".err-msg.in.collapse {\n",
       "padding-top: 0.7em;\n",
       "}\n",
       ".highlight-code {\n",
       "white-space: pre;\n",
       "font-family: monospace;\n",
       "}\n",
       ".suggestion-warning { \n",
       "font-weight: bold;\n",
       "color: rgb(200, 130, 0);\n",
       "}\n",
       ".suggestion-error { \n",
       "font-weight: bold;\n",
       "color: red;\n",
       "}\n",
       ".suggestion-name {\n",
       "font-weight: bold;\n",
       "}\n",
       "</style><span class='get-type'>fmap compare (Just 'a') :: Maybe (Char -> Ordering)</span>"
      ],
      "text/plain": [
       "fmap compare (Just 'a') :: Maybe (Char -> Ordering)"
      ]
     },
     "metadata": {},
     "output_type": "display_data"
    }
   ],
   "source": [
    ":t fmap compare (Just 'a')"
   ]
  },
  {
   "cell_type": "code",
   "execution_count": 40,
   "metadata": {
    "attributes": {
     "classes": [
      "haskell:hs"
     ],
     "id": "",
     "name": "\"code\""
    }
   },
   "outputs": [
    {
     "data": {
      "text/html": [
       "<style>/* Styles used for the Hoogle display in the pager */\n",
       ".hoogle-doc {\n",
       "display: block;\n",
       "padding-bottom: 1.3em;\n",
       "padding-left: 0.4em;\n",
       "}\n",
       ".hoogle-code {\n",
       "display: block;\n",
       "font-family: monospace;\n",
       "white-space: pre;\n",
       "}\n",
       ".hoogle-text {\n",
       "display: block;\n",
       "}\n",
       ".hoogle-name {\n",
       "color: green;\n",
       "font-weight: bold;\n",
       "}\n",
       ".hoogle-head {\n",
       "font-weight: bold;\n",
       "}\n",
       ".hoogle-sub {\n",
       "display: block;\n",
       "margin-left: 0.4em;\n",
       "}\n",
       ".hoogle-package {\n",
       "font-weight: bold;\n",
       "font-style: italic;\n",
       "}\n",
       ".hoogle-module {\n",
       "font-weight: bold;\n",
       "}\n",
       ".hoogle-class {\n",
       "font-weight: bold;\n",
       "}\n",
       ".get-type {\n",
       "color: green;\n",
       "font-weight: bold;\n",
       "font-family: monospace;\n",
       "display: block;\n",
       "white-space: pre-wrap;\n",
       "}\n",
       ".show-type {\n",
       "color: green;\n",
       "font-weight: bold;\n",
       "font-family: monospace;\n",
       "margin-left: 1em;\n",
       "}\n",
       ".mono {\n",
       "font-family: monospace;\n",
       "display: block;\n",
       "}\n",
       ".err-msg {\n",
       "color: red;\n",
       "font-style: italic;\n",
       "font-family: monospace;\n",
       "white-space: pre;\n",
       "display: block;\n",
       "}\n",
       "#unshowable {\n",
       "color: red;\n",
       "font-weight: bold;\n",
       "}\n",
       ".err-msg.in.collapse {\n",
       "padding-top: 0.7em;\n",
       "}\n",
       ".highlight-code {\n",
       "white-space: pre;\n",
       "font-family: monospace;\n",
       "}\n",
       ".suggestion-warning { \n",
       "font-weight: bold;\n",
       "color: rgb(200, 130, 0);\n",
       "}\n",
       ".suggestion-error { \n",
       "font-weight: bold;\n",
       "color: red;\n",
       "}\n",
       ".suggestion-name {\n",
       "font-weight: bold;\n",
       "}\n",
       "</style><span class='get-type'>fmap compare \"A LIST OF CHARS\" :: [Char -> Ordering]</span>"
      ],
      "text/plain": [
       "fmap compare \"A LIST OF CHARS\" :: [Char -> Ordering]"
      ]
     },
     "metadata": {},
     "output_type": "display_data"
    }
   ],
   "source": [
    ":t fmap compare \"A LIST OF CHARS\""
   ]
  },
  {
   "cell_type": "code",
   "execution_count": 41,
   "metadata": {
    "attributes": {
     "classes": [
      "haskell:hs"
     ],
     "id": "",
     "name": "\"code\""
    }
   },
   "outputs": [
    {
     "data": {
      "text/html": [
       "<style>/* Styles used for the Hoogle display in the pager */\n",
       ".hoogle-doc {\n",
       "display: block;\n",
       "padding-bottom: 1.3em;\n",
       "padding-left: 0.4em;\n",
       "}\n",
       ".hoogle-code {\n",
       "display: block;\n",
       "font-family: monospace;\n",
       "white-space: pre;\n",
       "}\n",
       ".hoogle-text {\n",
       "display: block;\n",
       "}\n",
       ".hoogle-name {\n",
       "color: green;\n",
       "font-weight: bold;\n",
       "}\n",
       ".hoogle-head {\n",
       "font-weight: bold;\n",
       "}\n",
       ".hoogle-sub {\n",
       "display: block;\n",
       "margin-left: 0.4em;\n",
       "}\n",
       ".hoogle-package {\n",
       "font-weight: bold;\n",
       "font-style: italic;\n",
       "}\n",
       ".hoogle-module {\n",
       "font-weight: bold;\n",
       "}\n",
       ".hoogle-class {\n",
       "font-weight: bold;\n",
       "}\n",
       ".get-type {\n",
       "color: green;\n",
       "font-weight: bold;\n",
       "font-family: monospace;\n",
       "display: block;\n",
       "white-space: pre-wrap;\n",
       "}\n",
       ".show-type {\n",
       "color: green;\n",
       "font-weight: bold;\n",
       "font-family: monospace;\n",
       "margin-left: 1em;\n",
       "}\n",
       ".mono {\n",
       "font-family: monospace;\n",
       "display: block;\n",
       "}\n",
       ".err-msg {\n",
       "color: red;\n",
       "font-style: italic;\n",
       "font-family: monospace;\n",
       "white-space: pre;\n",
       "display: block;\n",
       "}\n",
       "#unshowable {\n",
       "color: red;\n",
       "font-weight: bold;\n",
       "}\n",
       ".err-msg.in.collapse {\n",
       "padding-top: 0.7em;\n",
       "}\n",
       ".highlight-code {\n",
       "white-space: pre;\n",
       "font-family: monospace;\n",
       "}\n",
       ".suggestion-warning { \n",
       "font-weight: bold;\n",
       "color: rgb(200, 130, 0);\n",
       "}\n",
       ".suggestion-error { \n",
       "font-weight: bold;\n",
       "color: red;\n",
       "}\n",
       ".suggestion-name {\n",
       "font-weight: bold;\n",
       "}\n",
       "</style><span class='get-type'>fmap (\\x y z -> x + y / z) [3,4,5,6] :: forall {a}. Fractional a => [a -> a -> a]</span>"
      ],
      "text/plain": [
       "fmap (\\x y z -> x + y / z) [3,4,5,6] :: forall {a}. Fractional a => [a -> a -> a]"
      ]
     },
     "metadata": {},
     "output_type": "display_data"
    }
   ],
   "source": [
    ":t fmap (\\x y z -> x + y / z) [3,4,5,6]"
   ]
  },
  {
   "cell_type": "markdown",
   "metadata": {},
   "source": [
    "If we map [`compare`](https://hackage.haskell.org/package/base/docs/Prelude.html#v:compare), which has a type of `(Ord a) => a -> a -> Ordering`\n",
    "over a list of characters, we get a list of functions of type\n",
    "`Char -> Ordering`, because the function [`compare`](https://hackage.haskell.org/package/base/docs/Prelude.html#v:compare) gets partially applied with the\n",
    "characters in the list. It's not a list of `(Ord a) => a -> Ordering`\n",
    "function, because the first `a` that got applied was a [`Char`](https://hackage.haskell.org/package/base/docs/Prelude.html#t:Char) and so the\n",
    "second `a` has to decide to be of type [`Char`](https://hackage.haskell.org/package/base/docs/Prelude.html#t:Char).\n",
    "\n",
    "We see how by mapping \"multi-parameter\" functions over functors, we get\n",
    "functors that contain functions inside them. So now what can we do with\n",
    "them? Well for one, we can map functions that take these functions as\n",
    "parameters over them, because whatever is inside a functor will be given\n",
    "to the function that we're mapping over it as a parameter."
   ]
  },
  {
   "cell_type": "code",
   "execution_count": 42,
   "metadata": {
    "attributes": {
     "classes": [
      "haskell:hs"
     ],
     "id": "",
     "name": "\"code\""
    }
   },
   "outputs": [
    {
     "data": {
      "text/html": [
       "<style>/* Styles used for the Hoogle display in the pager */\n",
       ".hoogle-doc {\n",
       "display: block;\n",
       "padding-bottom: 1.3em;\n",
       "padding-left: 0.4em;\n",
       "}\n",
       ".hoogle-code {\n",
       "display: block;\n",
       "font-family: monospace;\n",
       "white-space: pre;\n",
       "}\n",
       ".hoogle-text {\n",
       "display: block;\n",
       "}\n",
       ".hoogle-name {\n",
       "color: green;\n",
       "font-weight: bold;\n",
       "}\n",
       ".hoogle-head {\n",
       "font-weight: bold;\n",
       "}\n",
       ".hoogle-sub {\n",
       "display: block;\n",
       "margin-left: 0.4em;\n",
       "}\n",
       ".hoogle-package {\n",
       "font-weight: bold;\n",
       "font-style: italic;\n",
       "}\n",
       ".hoogle-module {\n",
       "font-weight: bold;\n",
       "}\n",
       ".hoogle-class {\n",
       "font-weight: bold;\n",
       "}\n",
       ".get-type {\n",
       "color: green;\n",
       "font-weight: bold;\n",
       "font-family: monospace;\n",
       "display: block;\n",
       "white-space: pre-wrap;\n",
       "}\n",
       ".show-type {\n",
       "color: green;\n",
       "font-weight: bold;\n",
       "font-family: monospace;\n",
       "margin-left: 1em;\n",
       "}\n",
       ".mono {\n",
       "font-family: monospace;\n",
       "display: block;\n",
       "}\n",
       ".err-msg {\n",
       "color: red;\n",
       "font-style: italic;\n",
       "font-family: monospace;\n",
       "white-space: pre;\n",
       "display: block;\n",
       "}\n",
       "#unshowable {\n",
       "color: red;\n",
       "font-weight: bold;\n",
       "}\n",
       ".err-msg.in.collapse {\n",
       "padding-top: 0.7em;\n",
       "}\n",
       ".highlight-code {\n",
       "white-space: pre;\n",
       "font-family: monospace;\n",
       "}\n",
       ".suggestion-warning { \n",
       "font-weight: bold;\n",
       "color: rgb(200, 130, 0);\n",
       "}\n",
       ".suggestion-error { \n",
       "font-weight: bold;\n",
       "color: red;\n",
       "}\n",
       ".suggestion-name {\n",
       "font-weight: bold;\n",
       "}\n",
       "</style><span class='get-type'>a :: forall {a}. Num a => [a -> a]</span>"
      ],
      "text/plain": [
       "a :: forall {a}. Num a => [a -> a]"
      ]
     },
     "metadata": {},
     "output_type": "display_data"
    }
   ],
   "source": [
    "let a = fmap (*) [1,2,3,4]\n",
    ":t a"
   ]
  },
  {
   "cell_type": "code",
   "execution_count": 43,
   "metadata": {
    "attributes": {
     "classes": [
      "haskell:hs"
     ],
     "id": "",
     "name": "\"code\""
    }
   },
   "outputs": [
    {
     "data": {
      "text/plain": [
       "[9,18,27,36]"
      ]
     },
     "metadata": {},
     "output_type": "display_data"
    }
   ],
   "source": [
    "fmap (\\f -> f 9) a"
   ]
  },
  {
   "cell_type": "markdown",
   "metadata": {},
   "source": [
    "But what if we have a functor value of `Just (3 *)` and a functor value\n",
    "of `Just 5` and we want to take out the function from `Just (3 *)` and map\n",
    "it over `Just 5`? With normal functors, we're out of luck, because all\n",
    "they support is just mapping normal functions over existing functors.\n",
    "Even when we mapped `\\f -> f 9` over a functor that contained functions\n",
    "inside it, we were just mapping a normal function over it. But we can't\n",
    "map a function that's inside a functor over another functor with what\n",
    "[`fmap`](https://hackage.haskell.org/package/base/docs/Prelude.html#v:fmap) offers us. We could pattern-match against the [`Just`](https://hackage.haskell.org/package/base/docs/Prelude.html#v:Just) constructor to\n",
    "get the function out of it and then map it over `Just 5`, but we're\n",
    "looking for a more general and abstract way of doing that, which works\n",
    "across functors.\n",
    "\n",
    "Meet the [`Applicative`](https://hackage.haskell.org/package/base/docs/Prelude.html#t:Applicative) typeclass. It lies in the `Control.Applicative`\n",
    "module and it defines two methods, [`pure`](https://hackage.haskell.org/package/base/docs/Prelude.html#v:pure) and [`<*>`](https://hackage.haskell.org/package/base/docs/Prelude.html#v:-60--42--62-). It doesn't provide a\n",
    "default implementation for any of them, so we have to define them both\n",
    "if we want something to be an applicative functor. The class is defined\n",
    "like so:"
   ]
  },
  {
   "cell_type": "markdown",
   "metadata": {
    "attributes": {
     "classes": [
      "haskell:hs"
     ],
     "id": "",
     "name": "\"code\""
    }
   },
   "source": [
    "<pre><code>class (Functor f) => Applicative f where\n",
    "    pure :: a -> f a\n",
    "    (<*>) :: f (a -> b) -> f a -> f b</code></pre>"
   ]
  },
  {
   "cell_type": "markdown",
   "metadata": {},
   "source": [
    "This simple three line class definition tells us a lot! Let's start at\n",
    "the first line. It starts the definition of the [`Applicative`](https://hackage.haskell.org/package/base/docs/Prelude.html#t:Applicative) class and it\n",
    "also introduces a class constraint. It says that if we want to make a\n",
    "type constructor part of the [`Applicative`](https://hackage.haskell.org/package/base/docs/Prelude.html#t:Applicative) typeclass, it has to be in\n",
    "[`Functor`](https://hackage.haskell.org/package/base/docs/Prelude.html#t:Functor) first. That's why if we know that if a type constructor is part\n",
    "of the [`Applicative`](https://hackage.haskell.org/package/base/docs/Prelude.html#t:Applicative) typeclass, it's also in [`Functor`](https://hackage.haskell.org/package/base/docs/Prelude.html#t:Functor), so we can use [`fmap`](https://hackage.haskell.org/package/base/docs/Prelude.html#v:fmap)\n",
    "on it.\n",
    "\n",
    "The first method it defines is called [`pure`](https://hackage.haskell.org/package/base/docs/Prelude.html#v:pure). Its type declaration is\n",
    "`pure :: a -> f a`. `f` plays the role of our applicative functor instance here.\n",
    "Because Haskell has a very good type system and because everything a\n",
    "function can do is take some parameters and return some value, we can\n",
    "tell a lot from a type declaration and this is no exception. [`pure`](https://hackage.haskell.org/package/base/docs/Prelude.html#v:pure) should\n",
    "take a value of any type and return an applicative functor with that\n",
    "value inside it. When we say *inside it*, we're using the box analogy\n",
    "again, even though we've seen that it doesn't always stand up to\n",
    "scrutiny. But the `a -> f a` type declaration is still pretty\n",
    "descriptive. We take a value and we wrap it in an applicative functor\n",
    "that has that value as the result inside it.\n",
    "\n",
    "A better way of thinking about [`pure`](https://hackage.haskell.org/package/base/docs/Prelude.html#v:pure) would be to say that it takes a\n",
    "value and puts it in some sort of default (or pure) context—a minimal\n",
    "context that still yields that value.\n",
    "\n",
    "The [`<*>`](https://hackage.haskell.org/package/base/docs/Prelude.html#v:-60--42--62-) function is really interesting. It has a type declaration of\n",
    "`f (a -> b) -> f a -> f b`. Does this remind you of anything? Of\n",
    "course, `fmap :: (a -> b) -> f a -> f b`. It's a sort of a beefed up\n",
    "[`fmap`](https://hackage.haskell.org/package/base/docs/Prelude.html#v:fmap). Whereas [`fmap`](https://hackage.haskell.org/package/base/docs/Prelude.html#v:fmap) takes a function and a functor and applies the\n",
    "function inside the functor, [`<*>`](https://hackage.haskell.org/package/base/docs/Prelude.html#v:-60--42--62-) takes a functor that has a function\n",
    "in it and another functor and sort of extracts that function from the\n",
    "first functor and then maps it over the second one. When I say\n",
    "*extract*, I actually sort of mean *run* and then extract, maybe even\n",
    "*sequence*. We'll see why soon.\n",
    "\n",
    "Let's take a look at the [`Applicative`](https://hackage.haskell.org/package/base/docs/Prelude.html#t:Applicative) instance implementation for [`Maybe`](https://hackage.haskell.org/package/base/docs/Prelude.html#t:Maybe)."
   ]
  },
  {
   "cell_type": "markdown",
   "metadata": {
    "attributes": {
     "classes": [
      "haskell:hs"
     ],
     "id": "",
     "name": "\"code\""
    }
   },
   "source": [
    "<pre><code>instance Applicative Maybe where\n",
    "    pure = Just\n",
    "    Nothing <*> _ = Nothing\n",
    "    (Just f) <*> something = fmap f something</code></pre>"
   ]
  },
  {
   "cell_type": "markdown",
   "metadata": {},
   "source": [
    "Again, from the class definition we see that the `f` that plays the role\n",
    "of the applicative functor should take one concrete type as a parameter,\n",
    "so we write `instance Applicative Maybe where` instead of writing\n",
    "`instance Applicative (Maybe a) where`.\n",
    "\n",
    "First off, [`pure`](https://hackage.haskell.org/package/base/docs/Prelude.html#v:pure). We said earlier that it's supposed to take something\n",
    "and wrap it in an applicative functor. We wrote `pure = Just`, because\n",
    "value constructors like [`Just`](https://hackage.haskell.org/package/base/docs/Prelude.html#v:Just) are normal functions. We could have also\n",
    "written `pure x = Just x`.\n",
    "\n",
    "Next up, we have the definition for [`<*>`](https://hackage.haskell.org/package/base/docs/Prelude.html#v:-60--42--62-). We can't extract a function\n",
    "out of a [`Nothing`](https://hackage.haskell.org/package/base/docs/Prelude.html#v:Nothing), because it has no function inside it. So we say that\n",
    "if we try to extract a function from a [`Nothing`](https://hackage.haskell.org/package/base/docs/Prelude.html#v:Nothing), the result is a [`Nothing`](https://hackage.haskell.org/package/base/docs/Prelude.html#v:Nothing).\n",
    "If you look at the class definition for [`Applicative`](https://hackage.haskell.org/package/base/docs/Prelude.html#t:Applicative), you'll see that\n",
    "there's a [`Functor`](https://hackage.haskell.org/package/base/docs/Prelude.html#t:Functor) class constraint, which means that we can assume that\n",
    "both of [`<*>`](https://hackage.haskell.org/package/base/docs/Prelude.html#v:-60--42--62-)'s parameters are functors. If the first parameter is not\n",
    "a [`Nothing`](https://hackage.haskell.org/package/base/docs/Prelude.html#v:Nothing), but a [`Just`](https://hackage.haskell.org/package/base/docs/Prelude.html#v:Just) with some function inside it, we say that we then\n",
    "want to map that function over the second parameter. This also takes\n",
    "care of the case where the second parameter is [`Nothing`](https://hackage.haskell.org/package/base/docs/Prelude.html#v:Nothing), because doing\n",
    "[`fmap`](https://hackage.haskell.org/package/base/docs/Prelude.html#v:fmap) with any function over a [`Nothing`](https://hackage.haskell.org/package/base/docs/Prelude.html#v:Nothing) will return a [`Nothing`](https://hackage.haskell.org/package/base/docs/Prelude.html#v:Nothing).\n",
    "\n",
    "So for [`Maybe`](https://hackage.haskell.org/package/base/docs/Prelude.html#t:Maybe), [`<*>`](https://hackage.haskell.org/package/base/docs/Prelude.html#v:-60--42--62-) extracts the function from the left value if it's a\n",
    "[`Just`](https://hackage.haskell.org/package/base/docs/Prelude.html#v:Just) and maps it over the right value. If any of the parameters is\n",
    "[`Nothing`](https://hackage.haskell.org/package/base/docs/Prelude.html#v:Nothing), [`Nothing`](https://hackage.haskell.org/package/base/docs/Prelude.html#v:Nothing) is the result.\n",
    "\n",
    "OK cool great. Let's give this a whirl."
   ]
  },
  {
   "cell_type": "code",
   "execution_count": 44,
   "metadata": {
    "attributes": {
     "classes": [
      "haskell:hs"
     ],
     "id": "",
     "name": "\"code\""
    }
   },
   "outputs": [
    {
     "data": {
      "text/plain": [
       "Just 12"
      ]
     },
     "metadata": {},
     "output_type": "display_data"
    }
   ],
   "source": [
    "Just (+3) <*> Just 9"
   ]
  },
  {
   "cell_type": "code",
   "execution_count": 45,
   "metadata": {
    "attributes": {
     "classes": [
      "haskell:hs"
     ],
     "id": "",
     "name": "\"code\""
    }
   },
   "outputs": [
    {
     "data": {
      "text/plain": [
       "Just 13"
      ]
     },
     "metadata": {},
     "output_type": "display_data"
    }
   ],
   "source": [
    "pure (+3) <*> Just 10"
   ]
  },
  {
   "cell_type": "code",
   "execution_count": 46,
   "metadata": {
    "attributes": {
     "classes": [
      "haskell:hs"
     ],
     "id": "",
     "name": "\"code\""
    }
   },
   "outputs": [
    {
     "data": {
      "text/plain": [
       "Just 12"
      ]
     },
     "metadata": {},
     "output_type": "display_data"
    }
   ],
   "source": [
    "pure (+3) <*> Just 9"
   ]
  },
  {
   "cell_type": "code",
   "execution_count": 47,
   "metadata": {
    "attributes": {
     "classes": [
      "haskell:hs"
     ],
     "id": "",
     "name": "\"code\""
    }
   },
   "outputs": [
    {
     "data": {
      "text/plain": [
       "Nothing"
      ]
     },
     "metadata": {},
     "output_type": "display_data"
    }
   ],
   "source": [
    "Just (++\"hahah\") <*> Nothing"
   ]
  },
  {
   "cell_type": "code",
   "execution_count": 48,
   "metadata": {
    "attributes": {
     "classes": [
      "haskell:hs"
     ],
     "id": "",
     "name": "\"code\""
    }
   },
   "outputs": [
    {
     "data": {
      "text/plain": [
       "Nothing"
      ]
     },
     "metadata": {},
     "output_type": "display_data"
    }
   ],
   "source": [
    "Nothing <*> Just \"woot\""
   ]
  },
  {
   "cell_type": "markdown",
   "metadata": {},
   "source": [
    "We see how doing `pure (+3)` and `Just (+3)` is the same in this case. Use\n",
    "[`pure`](https://hackage.haskell.org/package/base/docs/Prelude.html#v:pure) if you're dealing with [`Maybe`](https://hackage.haskell.org/package/base/docs/Prelude.html#t:Maybe) values in an applicative context (i.e.\n",
    "using them with [`<*>`](https://hackage.haskell.org/package/base/docs/Prelude.html#v:-60--42--62-)), otherwise stick to [`Just`](https://hackage.haskell.org/package/base/docs/Prelude.html#v:Just). The first four input\n",
    "lines demonstrate how the function is extracted and then mapped, but in\n",
    "this case, they could have been achieved by just mapping unwrapped\n",
    "functions over functors. The last line is interesting, because we try to\n",
    "extract a function from a [`Nothing`](https://hackage.haskell.org/package/base/docs/Prelude.html#v:Nothing) and then map it over something, which\n",
    "of course results in a [`Nothing`](https://hackage.haskell.org/package/base/docs/Prelude.html#v:Nothing).\n",
    "\n",
    "With normal functors, you can just map a function over a functor and\n",
    "then you can't get the result out in any general way, even if the result\n",
    "is a partially applied function. Applicative functors, on the other\n",
    "hand, allow you to operate on several functors with a single function.\n",
    "Check out this piece of code:"
   ]
  },
  {
   "cell_type": "code",
   "execution_count": 49,
   "metadata": {
    "attributes": {
     "classes": [
      "haskell:hs"
     ],
     "id": "",
     "name": "\"code\""
    }
   },
   "outputs": [
    {
     "data": {
      "text/plain": [
       "Just 8"
      ]
     },
     "metadata": {},
     "output_type": "display_data"
    }
   ],
   "source": [
    "pure (+) <*> Just 3 <*> Just 5"
   ]
  },
  {
   "cell_type": "code",
   "execution_count": 50,
   "metadata": {
    "attributes": {
     "classes": [
      "haskell:hs"
     ],
     "id": "",
     "name": "\"code\""
    }
   },
   "outputs": [
    {
     "data": {
      "text/plain": [
       "Nothing"
      ]
     },
     "metadata": {},
     "output_type": "display_data"
    }
   ],
   "source": [
    "pure (+) <*> Just 3 <*> Nothing"
   ]
  },
  {
   "cell_type": "code",
   "execution_count": 51,
   "metadata": {
    "attributes": {
     "classes": [
      "haskell:hs"
     ],
     "id": "",
     "name": "\"code\""
    }
   },
   "outputs": [
    {
     "data": {
      "text/plain": [
       "Nothing"
      ]
     },
     "metadata": {},
     "output_type": "display_data"
    }
   ],
   "source": [
    "pure (+) <*> Nothing <*> Just 5"
   ]
  },
  {
   "cell_type": "markdown",
   "metadata": {},
   "source": [
    "<img src=\"img/whale.png\" title=\"whaale\" style=\"background-color:white;float:right;margin-left:2em;\" />\n",
    "\n",
    "What's going on here? Let's take a look, step by step. [`<*>`](https://hackage.haskell.org/package/base/docs/Prelude.html#v:-60--42--62-) is\n",
    "left-associative, which means that `pure (+) <*> Just 3 <*> Just 5`\n",
    "is the same as `(pure (+) <*> Just 3) <*> Just 5`. First, the [`+`](https://hackage.haskell.org/package/base/docs/Prelude.html#v:-43-)\n",
    "function is put in a functor, which is in this case a [`Maybe`](https://hackage.haskell.org/package/base/docs/Prelude.html#t:Maybe) value that\n",
    "contains the function. So at first, we have `pure (+)`, which is `Just (+)`.\n",
    "Next, `Just (+) <*> Just 3` happens. The result of this is `Just (3+)`.\n",
    "This is because of partial application. Only applying `3` to the [`+`](https://hackage.haskell.org/package/base/docs/Prelude.html#v:-43-)\n",
    "function results in a function that takes one parameter and adds 3 to\n",
    "it. Finally, `Just (3+) <*> Just 5` is carried out, which results in a\n",
    "`Just 8`.\n",
    "\n",
    "Isn't this awesome?! Applicative functors and the applicative style of\n",
    "doing `pure f <*> x <*> y <*> ...` allow us to take a function\n",
    "that expects parameters that aren't necessarily wrapped in functors and\n",
    "use that function to operate on several values that are in functor\n",
    "contexts. The function can take as many parameters as we want, because\n",
    "it's always partially applied step by step between occurrences of [`<*>`](https://hackage.haskell.org/package/base/docs/Prelude.html#v:-60--42--62-).\n",
    "\n",
    "This becomes even more handy and apparent if we consider the fact that\n",
    "`pure f <*> x` equals `fmap f x`. This is one of the applicative laws.\n",
    "We'll take a closer look at them later, but for now, we can sort of\n",
    "intuitively see that this is so. Think about it, it makes sense. Like we\n",
    "said before, [`pure`](https://hackage.haskell.org/package/base/docs/Prelude.html#v:pure) puts a value in a default context. If we just put a\n",
    "function in a default context and then extract and apply it to a value\n",
    "inside another applicative functor, we did the same as just mapping that\n",
    "function over that applicative functor. Instead of writing\n",
    "`pure f <*> x <*> y <*> ...`,\n",
    "we can write `fmap f x <*> y <*> ...`. This\n",
    "is why `Control.Applicative` exports a function called [`<$>`](https://hackage.haskell.org/package/base/docs/Prelude.html#v:-60--36--62-), which is\n",
    "just [`fmap`](https://hackage.haskell.org/package/base/docs/Prelude.html#v:fmap) as an infix operator. Here's how it's defined:"
   ]
  },
  {
   "cell_type": "markdown",
   "metadata": {
    "attributes": {
     "classes": [
      "haskell:hs"
     ],
     "id": "",
     "name": "\"code\""
    }
   },
   "source": [
    "<pre><code>(<$>) :: (Functor f) => (a -> b) -> f a -> f b\n",
    "f <$> x = fmap f x</code></pre>"
   ]
  },
  {
   "cell_type": "markdown",
   "metadata": {},
   "source": [
    "> __Yo!__ Quick reminder: type variables are independent of parameter names\n",
    "> or other value names. The `f` in the function declaration here is a type\n",
    "> variable with a class constraint saying that any type constructor that\n",
    "> replaces `f` should be in the [`Functor`](https://hackage.haskell.org/package/base/docs/Prelude.html#t:Functor) typeclass. The `f` in the function\n",
    "> body denotes a function that we map over `x`. The fact that we used `f` to\n",
    "> represent both of those doesn't mean that they somehow represent the\n",
    "> same thing.\n",
    "\n",
    "By using [`<$>`](https://hackage.haskell.org/package/base/docs/Prelude.html#v:-60--36--62-), the applicative style really shines, because now if we\n",
    "want to apply a function `f` between three applicative functors, we can\n",
    "write `f <$> x <*> y <*> z`. If the parameters weren't\n",
    "applicative functors but normal values, we'd write `f x y z`.\n",
    "\n",
    "Let's take a closer look at how this works. We have a value of\n",
    "`Just \"johntra\"` and a value of `Just \"volta\"` and we want to join them into one\n",
    "[`String`](https://hackage.haskell.org/package/base/docs/Prelude.html#t:String) inside a [`Maybe`](https://hackage.haskell.org/package/base/docs/Prelude.html#t:Maybe) functor. We do this:"
   ]
  },
  {
   "cell_type": "code",
   "execution_count": 52,
   "metadata": {
    "attributes": {
     "classes": [
      "haskell:hs"
     ],
     "id": "",
     "name": "\"code\""
    }
   },
   "outputs": [
    {
     "data": {
      "text/plain": [
       "Just \"johntravolta\""
      ]
     },
     "metadata": {},
     "output_type": "display_data"
    }
   ],
   "source": [
    "(++) <$> Just \"johntra\" <*> Just \"volta\""
   ]
  },
  {
   "cell_type": "markdown",
   "metadata": {},
   "source": [
    "Before we see how this happens, compare the above line with this:"
   ]
  },
  {
   "cell_type": "code",
   "execution_count": 53,
   "metadata": {
    "attributes": {
     "classes": [
      "haskell:hs"
     ],
     "id": "",
     "name": "\"code\""
    }
   },
   "outputs": [
    {
     "data": {
      "text/plain": [
       "\"johntravolta\""
      ]
     },
     "metadata": {},
     "output_type": "display_data"
    }
   ],
   "source": [
    "(++) \"johntra\" \"volta\""
   ]
  },
  {
   "cell_type": "markdown",
   "metadata": {},
   "source": [
    "Awesome! To use a normal function on applicative functors, just sprinkle\n",
    "some [`<$>`](https://hackage.haskell.org/package/base/docs/Prelude.html#v:-60--36--62-) and [`<*>`](https://hackage.haskell.org/package/base/docs/Prelude.html#v:-60--42--62-) about and the function will operate on\n",
    "applicatives and return an applicative. How cool is that?\n",
    "\n",
    "Anyway, when we do `(++) <$> Just \"johntra\" <*> Just \"volta\"`, first\n",
    "`(++)`, which has a type of `(++) :: [a] -> [a] -> [a]` gets mapped over\n",
    "`Just \"johntra\"`, resulting in a value that's the same as\n",
    "`Just (\"johntra\"++)` and has a type of `Maybe ([Char] -\\> [Char])`. Notice how\n",
    "the first parameter of `(++)` got eaten up and how the `a`s turned into\n",
    "[`Char`](https://hackage.haskell.org/package/base/docs/Prelude.html#t:Char)s. And now `Just (\"johntra\"++) <*> Just \"volta\"` happens, which\n",
    "takes the function out of the [`Just`](https://hackage.haskell.org/package/base/docs/Prelude.html#v:Just) and maps it over `Just \"volta\"`,\n",
    "resulting in `Just \"johntravolta\"`. Had any of the two values been\n",
    "[`Nothing`](https://hackage.haskell.org/package/base/docs/Prelude.html#v:Nothing), the result would have also been [`Nothing`](https://hackage.haskell.org/package/base/docs/Prelude.html#v:Nothing).\n",
    "\n",
    "So far, we've only used [`Maybe`](https://hackage.haskell.org/package/base/docs/Prelude.html#t:Maybe) in our examples and you might be thinking\n",
    "that applicative functors are all about [`Maybe`](https://hackage.haskell.org/package/base/docs/Prelude.html#t:Maybe). There are loads of other\n",
    "instances of [`Applicative`](https://hackage.haskell.org/package/base/docs/Prelude.html#t:Applicative), so let's go and meet them!\n",
    "\n",
    "Lists (actually the list type constructor, `[]`) are applicative functors.\n",
    "What a surprise! Here's how `[]` is an instance of [`Applicative`](https://hackage.haskell.org/package/base/docs/Prelude.html#t:Applicative):"
   ]
  },
  {
   "cell_type": "markdown",
   "metadata": {
    "attributes": {
     "classes": [
      "haskell:hs"
     ],
     "id": "",
     "name": "\"code\""
    }
   },
   "source": [
    "<pre><code>instance Applicative [] where\n",
    "    pure x = [x]\n",
    "    fs <*> xs = [f x | f <- fs, x <- xs]</code></pre>"
   ]
  },
  {
   "cell_type": "markdown",
   "metadata": {},
   "source": [
    "Earlier, we said that [`pure`](https://hackage.haskell.org/package/base/docs/Prelude.html#v:pure) takes a value and puts it in a default\n",
    "context. Or in other words, a minimal context that still yields that\n",
    "value. The minimal context for lists would be the empty list, `[]`, but\n",
    "the empty list represents the lack of a value, so it can't hold in\n",
    "itself the value that we used [`pure`](https://hackage.haskell.org/package/base/docs/Prelude.html#v:pure) on. That's why [`pure`](https://hackage.haskell.org/package/base/docs/Prelude.html#v:pure) takes a value and\n",
    "puts it in a singleton list. Similarly, the minimal context for the\n",
    "[`Maybe`](https://hackage.haskell.org/package/base/docs/Prelude.html#t:Maybe) applicative functor would be a [`Nothing`](https://hackage.haskell.org/package/base/docs/Prelude.html#v:Nothing), but it represents the lack\n",
    "of a value instead of a value, so [`pure`](https://hackage.haskell.org/package/base/docs/Prelude.html#v:pure) is implemented as [`Just`](https://hackage.haskell.org/package/base/docs/Prelude.html#v:Just) in the\n",
    "instance implementation for [`Maybe`](https://hackage.haskell.org/package/base/docs/Prelude.html#t:Maybe)."
   ]
  },
  {
   "cell_type": "code",
   "execution_count": 54,
   "metadata": {
    "attributes": {
     "classes": [
      "haskell:hs"
     ],
     "id": "",
     "name": "\"code\""
    }
   },
   "outputs": [
    {
     "data": {
      "text/plain": [
       "[\"Hey\"]"
      ]
     },
     "metadata": {},
     "output_type": "display_data"
    }
   ],
   "source": [
    "pure \"Hey\" :: [String]"
   ]
  },
  {
   "cell_type": "code",
   "execution_count": 55,
   "metadata": {
    "attributes": {
     "classes": [
      "haskell:hs"
     ],
     "id": "",
     "name": "\"code\""
    }
   },
   "outputs": [
    {
     "data": {
      "text/plain": [
       "Just \"Hey\""
      ]
     },
     "metadata": {},
     "output_type": "display_data"
    }
   ],
   "source": [
    "pure \"Hey\" :: Maybe String"
   ]
  },
  {
   "cell_type": "markdown",
   "metadata": {},
   "source": [
    "What about [`<*>`](https://hackage.haskell.org/package/base/docs/Prelude.html#v:-60--42--62-)? If we look at what [`<*>`](https://hackage.haskell.org/package/base/docs/Prelude.html#v:-60--42--62-)'s type would be if it were\n",
    "limited only to lists, we get `(<*>) :: [a -> b] -> [a] -> [b]`.\n",
    "It's implemented with a [list\n",
    "comprehension](http://learnyouahaskell.com/starting-out#im-a-list-comprehension). [`<*>`](https://hackage.haskell.org/package/base/docs/Prelude.html#v:-60--42--62-) has to\n",
    "somehow extract the function out of its left parameter and then map it\n",
    "over the right parameter. But the thing here is that the left list can\n",
    "have zero functions, one function, or several functions inside it. The\n",
    "right list can also hold several values. That's why we use a list\n",
    "comprehension to draw from both lists. We apply every possible function\n",
    "from the left list to every possible value from the right list. The\n",
    "resulting list has every possible combination of applying a function\n",
    "from the left list to a value in the right one."
   ]
  },
  {
   "cell_type": "code",
   "execution_count": 56,
   "metadata": {
    "attributes": {
     "classes": [
      "haskell:hs"
     ],
     "id": "",
     "name": "\"code\""
    }
   },
   "outputs": [
    {
     "data": {
      "text/plain": [
       "[0,0,0,101,102,103,1,4,9]"
      ]
     },
     "metadata": {},
     "output_type": "display_data"
    }
   ],
   "source": [
    "[(*0),(+100),(^2)] <*> [1,2,3]"
   ]
  },
  {
   "cell_type": "markdown",
   "metadata": {},
   "source": [
    "The left list has three functions and the right list has three values,\n",
    "so the resulting list will have nine elements. Every function in the\n",
    "left list is applied to every function in the right one. If we have a\n",
    "list of functions that take two parameters, we can apply those functions\n",
    "between two lists."
   ]
  },
  {
   "cell_type": "code",
   "execution_count": 57,
   "metadata": {
    "attributes": {
     "classes": [
      "haskell:hs"
     ],
     "id": "",
     "name": "\"code\""
    }
   },
   "outputs": [
    {
     "data": {
      "text/plain": [
       "[4,5,5,6,3,4,6,8]"
      ]
     },
     "metadata": {},
     "output_type": "display_data"
    }
   ],
   "source": [
    "[(+),(*)] <*> [1,2] <*> [3,4]"
   ]
  },
  {
   "cell_type": "markdown",
   "metadata": {},
   "source": [
    "Because [`<*>`](https://hackage.haskell.org/package/base/docs/Prelude.html#v:-60--42--62-) is left-associative, `[(+),(*)] <*> [1,2]` happens\n",
    "first, resulting in a list that's the same as `[(1+),(2+),(1*),(2*)]`,\n",
    "because every function on the left gets applied to every value on the\n",
    "right. Then, `[(1+),(2+),(1*),(2*)] <*> [3,4]` happens, which\n",
    "produces the final result.\n",
    "\n",
    "Using the applicative style with lists is fun! Watch:"
   ]
  },
  {
   "cell_type": "code",
   "execution_count": 58,
   "metadata": {
    "attributes": {
     "classes": [
      "haskell:hs"
     ],
     "id": "",
     "name": "\"code\""
    }
   },
   "outputs": [
    {
     "data": {
      "text/plain": [
       "[\"ha?\",\"ha!\",\"ha.\",\"heh?\",\"heh!\",\"heh.\",\"hmm?\",\"hmm!\",\"hmm.\"]"
      ]
     },
     "metadata": {},
     "output_type": "display_data"
    }
   ],
   "source": [
    "(++) <$> [\"ha\",\"heh\",\"hmm\"] <*> [\"?\",\"!\",\".\"]"
   ]
  },
  {
   "cell_type": "markdown",
   "metadata": {},
   "source": [
    "Again, see how we used a normal function that takes two strings between\n",
    "two applicative functors of strings just by inserting the appropriate\n",
    "applicative operators.\n",
    "\n",
    "You can view lists as non-deterministic computations. A value like `100`\n",
    "or `\"what\"` can be viewed as a deterministic computation that has only one\n",
    "result, whereas a list like `[1,2,3]` can be viewed as a computation that\n",
    "can't decide on which result it wants to have, so it presents us with\n",
    "all of the possible results. So when you do something like\n",
    "`(+) <$> [1,2,3] <*> [4,5,6]`, you can think of it as adding together two\n",
    "non-deterministic computations with +, only to produce another\n",
    "non-deterministic computation that's even less sure about its result.\n",
    "\n",
    "Using the applicative style on lists is often a good replacement for\n",
    "list comprehensions. In the second chapter, we wanted to see all the\n",
    "possible products of `[2,5,10]` and `[8,10,11]`, so we did this:"
   ]
  },
  {
   "cell_type": "code",
   "execution_count": 59,
   "metadata": {
    "attributes": {
     "classes": [
      "haskell:hs"
     ],
     "id": "",
     "name": "\"code\""
    }
   },
   "outputs": [
    {
     "data": {
      "text/plain": [
       "[16,20,22,40,50,55,80,100,110]"
      ]
     },
     "metadata": {},
     "output_type": "display_data"
    }
   ],
   "source": [
    "[ x*y | x <- [2,5,10], y <- [8,10,11]]"
   ]
  },
  {
   "cell_type": "markdown",
   "metadata": {},
   "source": [
    "We're just drawing from two lists and applying a function between every\n",
    "combination of elements. This can be done in the applicative style as\n",
    "well:"
   ]
  },
  {
   "cell_type": "code",
   "execution_count": 60,
   "metadata": {
    "attributes": {
     "classes": [
      "haskell:hs"
     ],
     "id": "",
     "name": "\"code\""
    }
   },
   "outputs": [
    {
     "data": {
      "text/plain": [
       "[16,20,22,40,50,55,80,100,110]"
      ]
     },
     "metadata": {},
     "output_type": "display_data"
    }
   ],
   "source": [
    "(*) <$> [2,5,10] <*> [8,10,11]"
   ]
  },
  {
   "cell_type": "markdown",
   "metadata": {},
   "source": [
    "This seems clearer to me, because it's easier to see that we're just\n",
    "calling [`*`](https://hackage.haskell.org/package/base/docs/Prelude.html#v:-42-) between two non-deterministic computations. If we wanted all\n",
    "possible products of those two lists that are more than 50, we'd just\n",
    "do:"
   ]
  },
  {
   "cell_type": "code",
   "execution_count": 61,
   "metadata": {
    "attributes": {
     "classes": [
      "haskell:hs"
     ],
     "id": "",
     "name": "\"code\""
    }
   },
   "outputs": [
    {
     "data": {
      "text/plain": [
       "[55,80,100,110]"
      ]
     },
     "metadata": {},
     "output_type": "display_data"
    }
   ],
   "source": [
    "filter (>50) $ (*) <$> [2,5,10] <*> [8,10,11]"
   ]
  },
  {
   "cell_type": "markdown",
   "metadata": {},
   "source": [
    "It's easy to see how `pure f <*> xs` equals `fmap f xs` with lists.\n",
    "`pure f` is just `[f]` and `[f] <*> xs` will apply every function in the left\n",
    "list to every value in the right one, but there's just one function in\n",
    "the left list, so it's like mapping.\n",
    "\n",
    "Another instance of [`Applicative`](https://hackage.haskell.org/package/base/docs/Prelude.html#t:Applicative) that we've already encountered is [`IO`](https://hackage.haskell.org/package/base/docs/Prelude.html#t:IO).\n",
    "This is how the instance is implemented:"
   ]
  },
  {
   "cell_type": "markdown",
   "metadata": {
    "attributes": {
     "classes": [
      "haskell:hs"
     ],
     "id": "",
     "name": "\"code\""
    }
   },
   "source": [
    "<pre><code>instance Applicative IO where\n",
    "    pure = return\n",
    "    a <*> b = do\n",
    "        f <- a\n",
    "        x <- b\n",
    "        return (f x)</code></pre>"
   ]
  },
  {
   "cell_type": "markdown",
   "metadata": {},
   "source": [
    "<img src=\"img/knight.png\" title=\"ahahahah!\" style=\"background-color:white;float:left;margin-right:2em;\" />\n",
    "\n",
    "Since [`pure`](https://hackage.haskell.org/package/base/docs/Prelude.html#v:pure) is all about putting a value in a minimal context that still\n",
    "holds it as its result, it makes sense that [`pure`](https://hackage.haskell.org/package/base/docs/Prelude.html#v:pure) is just [`return`](https://hackage.haskell.org/package/base/docs/Prelude.html#v:return), because\n",
    "[`return`](https://hackage.haskell.org/package/base/docs/Prelude.html#v:return) does exactly that; it makes an I/O action that doesn't do\n",
    "anything, it just yields some value as its result, but it doesn't really\n",
    "do any I/O operations like printing to the terminal or reading from a\n",
    "file.\n",
    "\n",
    "If [`<*>`](https://hackage.haskell.org/package/base/docs/Prelude.html#v:-60--42--62-) were specialized for [`IO`](https://hackage.haskell.org/package/base/docs/Prelude.html#t:IO) it would have a type of\n",
    "`(<*>) :: IO (a -> b) -> IO a -> IO b`. It would take an I/O action that yields a\n",
    "function as its result and another I/O action and create a new I/O\n",
    "action from those two that, when performed, first performs the first one\n",
    "to get the function and then performs the second one to get the value\n",
    "and then it would yield that function applied to the value as its\n",
    "result. We used *do* syntax to implement it here. Remember, *do* syntax\n",
    "is about taking several I/O actions and gluing them into one, which is\n",
    "exactly what we do here.\n",
    "\n",
    "With [`Maybe`](https://hackage.haskell.org/package/base/docs/Prelude.html#t:Maybe) and `[]`, we could think of [`<*>`](https://hackage.haskell.org/package/base/docs/Prelude.html#v:-60--42--62-) as simply extracting a\n",
    "function from its left parameter and then sort of applying it over the\n",
    "right one. With [`IO`](https://hackage.haskell.org/package/base/docs/Prelude.html#t:IO), extracting is still in the game, but now we also\n",
    "have a notion of *sequencing*, because we're taking two I/O actions and\n",
    "we're sequencing, or gluing, them into one. We have to extract the\n",
    "function from the first I/O action, but to extract a result from an I/O\n",
    "action, it has to be performed.\n",
    "\n",
    "Consider this:"
   ]
  },
  {
   "cell_type": "code",
   "execution_count": 62,
   "metadata": {
    "attributes": {
     "classes": [
      "haskell:hs"
     ],
     "id": "",
     "name": "\"code\""
    }
   },
   "outputs": [],
   "source": [
    "myAction :: IO String\n",
    "myAction = do\n",
    "    a <- getLine\n",
    "    b <- getLine\n",
    "    return $ a ++ b"
   ]
  },
  {
   "cell_type": "markdown",
   "metadata": {},
   "source": [
    "This is an I/O action that will prompt the user for two lines and yield\n",
    "as its result those two lines concatenated. We achieved it by gluing\n",
    "together two [`getLine`](https://hackage.haskell.org/package/base/docs/Prelude.html#v:getLine) I/O actions and a [`return`](https://hackage.haskell.org/package/base/docs/Prelude.html#v:return), because we wanted our new\n",
    "glued I/O action to hold the result of `a ++ b`. Another way of writing\n",
    "this would be to use the applicative style."
   ]
  },
  {
   "cell_type": "code",
   "execution_count": 63,
   "metadata": {
    "attributes": {
     "classes": [
      "haskell:hs"
     ],
     "id": "",
     "name": "\"code\""
    }
   },
   "outputs": [],
   "source": [
    "myAction :: IO String\n",
    "myAction = (++) <$> getLine <*> getLine"
   ]
  },
  {
   "cell_type": "markdown",
   "metadata": {},
   "source": [
    "What we were doing before was making an I/O action that applied a\n",
    "function between the results of two other I/O actions, and this is the\n",
    "same thing. Remember, [`getLine`](https://hackage.haskell.org/package/base/docs/Prelude.html#v:getLine) is an I/O action with the type\n",
    "`getLine :: IO String`. When we use [`<*>`](https://hackage.haskell.org/package/base/docs/Prelude.html#v:-60--42--62-) between two applicative functors, the\n",
    "result is an applicative functor, so this all makes sense.\n",
    "\n",
    "If we regress to the box analogy, we can imagine [`getLine`](https://hackage.haskell.org/package/base/docs/Prelude.html#v:getLine) as a box that\n",
    "will go out into the real world and fetch us a string. Doing\n",
    "`(++) <$> getLine <*> getLine` makes a new, bigger box that sends those two\n",
    "boxes out to fetch lines from the terminal and then presents the\n",
    "concatenation of those two lines as its result.\n",
    "\n",
    "The type of the expression `(++) <$> getLine <*> getLine` is\n",
    "`IO String`, which means that this expression is a completely normal I/O\n",
    "action like any other, which also holds a result value inside it, just\n",
    "like other I/O actions. That's why we can do stuff like:"
   ]
  },
  {
   "cell_type": "code",
   "execution_count": 64,
   "metadata": {
    "attributes": {
     "classes": [
      "haskell:hs"
     ],
     "id": "",
     "name": "\"code\""
    }
   },
   "outputs": [],
   "source": [
    "main = do\n",
    "    a <- (++) <$> getLine <*> getLine\n",
    "    putStrLn $ \"The two lines concatenated turn out to be: \" ++ a"
   ]
  },
  {
   "cell_type": "code",
   "execution_count": 65,
   "metadata": {
    "attributes": {
     "classes": [
      "haskell:hs"
     ],
     "id": "",
     "name": "\"code\""
    }
   },
   "outputs": [
    {
     "data": {
      "text/plain": [
       "The two lines concatenated turn out to be: line 1line 2"
      ]
     },
     "metadata": {},
     "output_type": "display_data"
    }
   ],
   "source": [
    "withStdin (unlines [\"line 1\", \"line 2\"]) main"
   ]
  },
  {
   "cell_type": "markdown",
   "metadata": {},
   "source": [
    "If you ever find yourself binding some I/O actions to names and then\n",
    "calling some function on them and presenting that as the result by using\n",
    "[`return`](https://hackage.haskell.org/package/base/docs/Prelude.html#v:return), consider using the applicative style because it's arguably a bit\n",
    "more concise and terse.\n",
    "\n",
    "Another instance of [`Applicative`](https://hackage.haskell.org/package/base/docs/Prelude.html#t:Applicative) is `(->) r`, so functions. They are\n",
    "rarely used with the applicative style outside of code golf, but they're\n",
    "still interesting as applicatives, so let's take a look at how the\n",
    "function instance is implemented.\n",
    "\n",
    "> If you're confused about what `(->) r` means, check out the previous\n",
    "> section where we explain how `(->) r` is a functor."
   ]
  },
  {
   "cell_type": "markdown",
   "metadata": {
    "attributes": {
     "classes": [
      "haskell:hs"
     ],
     "id": "",
     "name": "\"code\""
    }
   },
   "source": [
    "<pre><code>instance Applicative ((->) r) where\n",
    "    pure x = (\\_ -> x)\n",
    "    f <*> g = \\x -> f x (g x)</code></pre>"
   ]
  },
  {
   "cell_type": "markdown",
   "metadata": {},
   "source": [
    "When we wrap a value into an applicative functor with [`pure`](https://hackage.haskell.org/package/base/docs/Prelude.html#v:pure), the result\n",
    "it yields always has to be that value. A minimal default context that\n",
    "still yields that value as a result. That's why in the function instance\n",
    "implementation, [`pure`](https://hackage.haskell.org/package/base/docs/Prelude.html#v:pure) takes a value and creates a function that ignores\n",
    "its parameter and always returns that value. If we look at the type for\n",
    "[`pure`](https://hackage.haskell.org/package/base/docs/Prelude.html#v:pure), but specialized for the `(->) r` instance, it's\n",
    "`pure :: a -> (r -> a)`."
   ]
  },
  {
   "cell_type": "code",
   "execution_count": 66,
   "metadata": {
    "attributes": {
     "classes": [
      "haskell:hs"
     ],
     "id": "",
     "name": "\"code\""
    }
   },
   "outputs": [
    {
     "data": {
      "text/plain": [
       "3"
      ]
     },
     "metadata": {},
     "output_type": "display_data"
    }
   ],
   "source": [
    "(pure 3) \"blah\""
   ]
  },
  {
   "cell_type": "markdown",
   "metadata": {},
   "source": [
    "Because of currying, function application is left-associative, so we can\n",
    "omit the parentheses."
   ]
  },
  {
   "cell_type": "code",
   "execution_count": 67,
   "metadata": {
    "attributes": {
     "classes": [
      "haskell:hs"
     ],
     "id": "",
     "name": "\"code\""
    }
   },
   "outputs": [
    {
     "data": {
      "text/plain": [
       "3"
      ]
     },
     "metadata": {},
     "output_type": "display_data"
    }
   ],
   "source": [
    "pure 3 \"blah\""
   ]
  },
  {
   "cell_type": "markdown",
   "metadata": {},
   "source": [
    "The instance implementation for [`<*>`](https://hackage.haskell.org/package/base/docs/Prelude.html#v:-60--42--62-) is a bit cryptic, so it's best if\n",
    "we just take a look at how to use functions as applicative functors in\n",
    "the applicative style."
   ]
  },
  {
   "cell_type": "code",
   "execution_count": 68,
   "metadata": {
    "attributes": {
     "classes": [
      "haskell:hs"
     ],
     "id": "",
     "name": "\"code\""
    }
   },
   "outputs": [
    {
     "data": {
      "text/html": [
       "<style>/* Styles used for the Hoogle display in the pager */\n",
       ".hoogle-doc {\n",
       "display: block;\n",
       "padding-bottom: 1.3em;\n",
       "padding-left: 0.4em;\n",
       "}\n",
       ".hoogle-code {\n",
       "display: block;\n",
       "font-family: monospace;\n",
       "white-space: pre;\n",
       "}\n",
       ".hoogle-text {\n",
       "display: block;\n",
       "}\n",
       ".hoogle-name {\n",
       "color: green;\n",
       "font-weight: bold;\n",
       "}\n",
       ".hoogle-head {\n",
       "font-weight: bold;\n",
       "}\n",
       ".hoogle-sub {\n",
       "display: block;\n",
       "margin-left: 0.4em;\n",
       "}\n",
       ".hoogle-package {\n",
       "font-weight: bold;\n",
       "font-style: italic;\n",
       "}\n",
       ".hoogle-module {\n",
       "font-weight: bold;\n",
       "}\n",
       ".hoogle-class {\n",
       "font-weight: bold;\n",
       "}\n",
       ".get-type {\n",
       "color: green;\n",
       "font-weight: bold;\n",
       "font-family: monospace;\n",
       "display: block;\n",
       "white-space: pre-wrap;\n",
       "}\n",
       ".show-type {\n",
       "color: green;\n",
       "font-weight: bold;\n",
       "font-family: monospace;\n",
       "margin-left: 1em;\n",
       "}\n",
       ".mono {\n",
       "font-family: monospace;\n",
       "display: block;\n",
       "}\n",
       ".err-msg {\n",
       "color: red;\n",
       "font-style: italic;\n",
       "font-family: monospace;\n",
       "white-space: pre;\n",
       "display: block;\n",
       "}\n",
       "#unshowable {\n",
       "color: red;\n",
       "font-weight: bold;\n",
       "}\n",
       ".err-msg.in.collapse {\n",
       "padding-top: 0.7em;\n",
       "}\n",
       ".highlight-code {\n",
       "white-space: pre;\n",
       "font-family: monospace;\n",
       "}\n",
       ".suggestion-warning { \n",
       "font-weight: bold;\n",
       "color: rgb(200, 130, 0);\n",
       "}\n",
       ".suggestion-error { \n",
       "font-weight: bold;\n",
       "color: red;\n",
       "}\n",
       ".suggestion-name {\n",
       "font-weight: bold;\n",
       "}\n",
       "</style><span class='get-type'>(+) <$> (+3) <*> (*100) :: forall {b}. Num b => b -> b</span>"
      ],
      "text/plain": [
       "(+) <$> (+3) <*> (*100) :: forall {b}. Num b => b -> b"
      ]
     },
     "metadata": {},
     "output_type": "display_data"
    }
   ],
   "source": [
    ":t (+) <$> (+3) <*> (*100)"
   ]
  },
  {
   "cell_type": "code",
   "execution_count": 69,
   "metadata": {
    "attributes": {
     "classes": [
      "haskell:hs"
     ],
     "id": "",
     "name": "\"code\""
    }
   },
   "outputs": [
    {
     "data": {
      "text/plain": [
       "508"
      ]
     },
     "metadata": {},
     "output_type": "display_data"
    }
   ],
   "source": [
    "(+) <$> (+3) <*> (*100) $ 5"
   ]
  },
  {
   "cell_type": "markdown",
   "metadata": {},
   "source": [
    "Calling [`<*>`](https://hackage.haskell.org/package/base/docs/Prelude.html#v:-60--42--62-) with two applicative functors results in an applicative\n",
    "functor, so if we use it on two functions, we get back a function. So\n",
    "what goes on here? When we do `(+) <$> (+3) <*> (*100)`, we're\n",
    "making a function that will use + on the results of `(+3)` and `(*100)` and\n",
    "return that. To demonstrate on a real example, when we did\n",
    "`(+) <$> (+3) <*> (*100) $ 5`, the `5` first got applied to `(+3)` and `(*100)`,\n",
    "resulting in `8` and `500`. Then, [`+`](https://hackage.haskell.org/package/base/docs/Prelude.html#v:-43-) gets called with `8` and `500`, resulting in\n",
    "`508`."
   ]
  },
  {
   "cell_type": "code",
   "execution_count": 70,
   "metadata": {
    "attributes": {
     "classes": [
      "haskell:hs"
     ],
     "id": "",
     "name": "\"code\""
    }
   },
   "outputs": [
    {
     "data": {
      "text/plain": [
       "[8.0,10.0,2.5]"
      ]
     },
     "metadata": {},
     "output_type": "display_data"
    }
   ],
   "source": [
    "(\\x y z -> [x,y,z]) <$> (+3) <*> (*2) <*> (/2) $ 5"
   ]
  },
  {
   "cell_type": "markdown",
   "metadata": {},
   "source": [
    "<img src=\"img/jazzb.png\" title=\"SLAP\" style=\"background-color:white;float:right;margin-left:2em;\" />\n",
    "\n",
    "Same here. We create a function that will call the function\n",
    "`\\x y z -> [x,y,z]` with the eventual results from `(+3)`, `(*2)` and `(/2)`.\n",
    "The `5` gets fed to each of the three functions and then `\\x y z -> [x, y, z]` gets\n",
    "called with those results.\n",
    "\n",
    "You can think of functions as boxes that contain their eventual results,\n",
    "so doing `k <$> f <*> g` creates a function that will call `k` with\n",
    "the eventual results from `f` and `g`. When we do something like\n",
    "`(+) <$> Just 3 <*> Just 5`, we're using [`+`](https://hackage.haskell.org/package/base/docs/Prelude.html#v:-43-) on values that might or might not be\n",
    "there, which also results in a value that might or might not be there.\n",
    "When we do `(+) <$> (+10) <*> (+5)`, we're using [`+`](https://hackage.haskell.org/package/base/docs/Prelude.html#v:-43-) on the future\n",
    "return values of `(+10)` and `(+5)` and the result is also something that\n",
    "will produce a value only when called with a parameter.\n",
    "\n",
    "We don't often use functions as applicatives, but this is still really\n",
    "interesting. It's not very important that you get how the `(->) r`\n",
    "instance for [`Applicative`](https://hackage.haskell.org/package/base/docs/Prelude.html#t:Applicative) works, so don't despair if you're not getting\n",
    "this right now. Try playing with the applicative style and functions to\n",
    "build up an intuition for functions as applicatives.\n",
    "\n",
    "An instance of [`Applicative`](https://hackage.haskell.org/package/base/docs/Prelude.html#t:Applicative) that we haven't encountered yet is [`ZipList`](https://hackage.haskell.org/package/base/docs/Control-Applicative.html#t:ZipList),\n",
    "and it lives in `Control.Applicative`.\n",
    "\n",
    "It turns out there are actually more ways for lists to be applicative\n",
    "functors. One way is the one we already covered, which says that calling\n",
    "[`<*>`](https://hackage.haskell.org/package/base/docs/Prelude.html#v:-60--42--62-) with a list of functions and a list of values results in a list\n",
    "which has all the possible combinations of applying functions from the\n",
    "left list to the values in the right list. If we do\n",
    "`[(+3),(*2)] <*> [1,2]`, `(+3)` will be applied to both `1` and `2` and `(*2)` will also be\n",
    "applied to both `1` and `2`, resulting in a list that has four elements,\n",
    "namely `[4,5,2,4]`.\n",
    "\n",
    "However, `[(+3),(*2)] <*> [1,2]` could also work in such a way that\n",
    "the first function in the left list gets applied to the first value in\n",
    "the right one, the second function gets applied to the second value, and\n",
    "so on. That would result in a list with two values, namely `[4,4]`. You\n",
    "could look at it as `[1 + 3, 2 * 2]`.\n",
    "\n",
    "Because one type can't have two instances for the same typeclass, the\n",
    "`ZipList a` type was introduced, which has one constructor [`ZipList`](https://hackage.haskell.org/package/base/docs/Control-Applicative.html#t:ZipList) that\n",
    "has just one field, and that field is a list. Here's the instance:"
   ]
  },
  {
   "cell_type": "markdown",
   "metadata": {
    "attributes": {
     "classes": [
      "haskell:hs"
     ],
     "id": "",
     "name": "\"code\""
    }
   },
   "source": [
    "<pre><code>instance Applicative ZipList where\n",
    "        pure x = ZipList (repeat x)\n",
    "        ZipList fs <*> ZipList xs = ZipList (zipWith (\\f x -> f x) fs xs)</code></pre>"
   ]
  },
  {
   "cell_type": "markdown",
   "metadata": {},
   "source": [
    "[`<*>`](https://hackage.haskell.org/package/base/docs/Prelude.html#v:-60--42--62-) does just what we said. It applies the first function to the\n",
    "first value, the second function to the second value, etc. This is done\n",
    "with `zipWith (\\f x -> f x) fs xs`. Because of how [`zipWith`](https://hackage.haskell.org/package/base/docs/Prelude.html#v:zipWith) works, the\n",
    "resulting list will be as long as the shorter of the two lists.\n",
    "\n",
    "[`pure`](https://hackage.haskell.org/package/base/docs/Prelude.html#v:pure) is also interesting here. It takes a value and puts it in a list\n",
    "that just has that value repeating indefinitely. `pure \"haha\"` results in\n",
    "`ZipList ([\"haha\",\"haha\",\"haha\"...`. This might be a bit confusing since\n",
    "we said that [`pure`](https://hackage.haskell.org/package/base/docs/Prelude.html#v:pure) should put a value in a minimal context that still\n",
    "yields that value. And you might be thinking that an infinite list of\n",
    "something is hardly minimal. But it makes sense with zip lists, because\n",
    "it has to produce the value on every position. This also satisfies the\n",
    "law that `pure f <*> xs` should equal `fmap f xs`. If `pure 3` just\n",
    "returned `ZipList [3]`, `pure (*2) <*> ZipList [1,5,10]` would result in\n",
    "`ZipList [2]`, because the resulting list of two zipped lists has the\n",
    "length of the shorter of the two. If we zip a finite list with an\n",
    "infinite list, the length of the resulting list will always be equal to\n",
    "the length of the finite list.\n",
    "\n",
    "So how do zip lists work in an applicative style? Let's see. Oh, the\n",
    "`ZipList a` type doesn't have a [`Show`](https://hackage.haskell.org/package/base/docs/Prelude.html#t:Show) instance, so we have to use the\n",
    "__[`getZipList`](https://hackage.haskell.org/package/base/docs/Control-Applicative.html#v:getZipList)__ function to extract a raw list out of a zip list."
   ]
  },
  {
   "cell_type": "code",
   "execution_count": 71,
   "metadata": {
    "attributes": {
     "classes": [
      "haskell:hs"
     ],
     "id": "",
     "name": "\"code\""
    }
   },
   "outputs": [],
   "source": [
    "import Control.Applicative"
   ]
  },
  {
   "cell_type": "code",
   "execution_count": 72,
   "metadata": {
    "attributes": {
     "classes": [
      "haskell:hs"
     ],
     "id": "",
     "name": "\"code\""
    }
   },
   "outputs": [
    {
     "data": {
      "text/plain": [
       "[101,102,103]"
      ]
     },
     "metadata": {},
     "output_type": "display_data"
    }
   ],
   "source": [
    "getZipList $ (+) <$> ZipList [1,2,3] <*> ZipList [100,100,100]"
   ]
  },
  {
   "cell_type": "code",
   "execution_count": 73,
   "metadata": {
    "attributes": {
     "classes": [
      "haskell:hs"
     ],
     "id": "",
     "name": "\"code\""
    }
   },
   "outputs": [
    {
     "data": {
      "text/plain": [
       "[101,102,103]"
      ]
     },
     "metadata": {},
     "output_type": "display_data"
    }
   ],
   "source": [
    "getZipList $ (+) <$> ZipList [1,2,3] <*> ZipList [100,100..]"
   ]
  },
  {
   "cell_type": "code",
   "execution_count": 74,
   "metadata": {
    "attributes": {
     "classes": [
      "haskell:hs"
     ],
     "id": "",
     "name": "\"code\""
    }
   },
   "outputs": [
    {
     "data": {
      "text/plain": [
       "[5,3,3,4]"
      ]
     },
     "metadata": {},
     "output_type": "display_data"
    }
   ],
   "source": [
    "getZipList $ max <$> ZipList [1,2,3,4,5,3] <*> ZipList [5,3,1,2]"
   ]
  },
  {
   "cell_type": "code",
   "execution_count": 75,
   "metadata": {
    "attributes": {
     "classes": [
      "haskell:hs"
     ],
     "id": "",
     "name": "\"code\""
    }
   },
   "outputs": [
    {
     "data": {
      "text/plain": [
       "[('d','c','r'),('o','a','a'),('g','t','t')]"
      ]
     },
     "metadata": {},
     "output_type": "display_data"
    }
   ],
   "source": [
    "getZipList $ (,,) <$> ZipList \"dog\" <*> ZipList \"cat\" <*> ZipList \"rat\""
   ]
  },
  {
   "cell_type": "markdown",
   "metadata": {},
   "source": [
    "> The `(,,)` function is the same as `\\x y z -> (x,y,z)`. Also, the `(,)`\n",
    "> function is the same as `\\x y -\\> (x,y)`.\n",
    "\n",
    "Aside from [`zipWith`](https://hackage.haskell.org/package/base/docs/Prelude.html#v:zipWith), the standard library has functions such as `zipWith3`,\n",
    "`zipWith4`, all the way up to 7. [`zipWith`](https://hackage.haskell.org/package/base/docs/Prelude.html#v:zipWith) takes a function that takes two\n",
    "parameters and zips two lists with it. `zipWith3` takes a function that\n",
    "takes three parameters and zips three lists with it, and so on. By using\n",
    "zip lists with an applicative style, we don't have to have a separate\n",
    "zip function for each number of lists that we want to zip together. We\n",
    "just use the applicative style to zip together an arbitrary amount of\n",
    "lists with a function, and that's pretty cool.\n",
    "\n",
    "`Control.Applicative` defines a function that's called __`liftA2`__, which has a\n",
    "type of `liftA2 :: (Applicative f) => (a -> b -> c) -> f a -> f b -> f c`.\n",
    "It's defined like this:"
   ]
  },
  {
   "cell_type": "markdown",
   "metadata": {
    "attributes": {
     "classes": [
      "haskell:hs"
     ],
     "id": "",
     "name": "\"code\""
    }
   },
   "source": [
    "<pre><code>liftA2 :: (Applicative f) => (a -> b -> c) -> f a -> f b -> f c\n",
    "liftA2 f a b = f <$> a <*> b</code></pre>"
   ]
  },
  {
   "cell_type": "markdown",
   "metadata": {},
   "source": [
    "Nothing special, it just applies a function between two applicatives,\n",
    "hiding the applicative style that we've become familiar with. The reason\n",
    "we're looking at it is because it clearly showcases why applicative\n",
    "functors are more powerful than just ordinary functors. With ordinary\n",
    "functors, we can just map functions over one functor. But with\n",
    "applicative functors, we can apply a function between several functors.\n",
    "It's also interesting to look at this function's type as\n",
    "`(a -> b -> c) -> (f a -> f b -> f c)`. When we look at it like this, we can say that\n",
    "`liftA2` takes a normal binary function and promotes it to a function that\n",
    "operates on two functors.\n",
    "\n",
    "Here's an interesting concept: we can take two applicative functors and\n",
    "combine them into one applicative functor that has inside it the results\n",
    "of those two applicative functors in a list. For instance, we have\n",
    "`Just 3` and `Just 4`. Let's assume that the second one has a singleton list\n",
    "inside it, because that's really easy to achieve:"
   ]
  },
  {
   "cell_type": "code",
   "execution_count": 76,
   "metadata": {
    "attributes": {
     "classes": [
      "haskell:hs"
     ],
     "id": "",
     "name": "\"code\""
    }
   },
   "outputs": [
    {
     "data": {
      "text/plain": [
       "Just [4]"
      ]
     },
     "metadata": {},
     "output_type": "display_data"
    }
   ],
   "source": [
    "fmap (\\x -> [x]) (Just 4)"
   ]
  },
  {
   "cell_type": "markdown",
   "metadata": {},
   "source": [
    "OK, so let's say we have `Just 3` and `Just [4]`. How do we get `Just [3,4]`?\n",
    "Easy."
   ]
  },
  {
   "cell_type": "code",
   "execution_count": 77,
   "metadata": {
    "attributes": {
     "classes": [
      "haskell:hs"
     ],
     "id": "",
     "name": "\"code\""
    }
   },
   "outputs": [
    {
     "data": {
      "text/plain": [
       "Just [3,4]"
      ]
     },
     "metadata": {},
     "output_type": "display_data"
    }
   ],
   "source": [
    "liftA2 (:) (Just 3) (Just [4])"
   ]
  },
  {
   "cell_type": "code",
   "execution_count": 78,
   "metadata": {
    "attributes": {
     "classes": [
      "haskell:hs"
     ],
     "id": "",
     "name": "\"code\""
    }
   },
   "outputs": [
    {
     "data": {
      "text/plain": [
       "Just [3,4]"
      ]
     },
     "metadata": {},
     "output_type": "display_data"
    }
   ],
   "source": [
    "(:) <$> Just 3 <*> Just [4]"
   ]
  },
  {
   "cell_type": "markdown",
   "metadata": {},
   "source": [
    "Remember, : is a function that takes an element and a list and returns a\n",
    "new list with that element at the beginning. Now that we have\n",
    "`Just [3,4]`, could we combine that with `Just 2` to produce `Just [2,3,4]`? Of\n",
    "course we could. It seems that we can combine any amount of applicatives\n",
    "into one applicative that has a list of the results of those\n",
    "applicatives inside it. Let's try implementing a function that takes a\n",
    "list of applicatives and returns an applicative that has a list as its\n",
    "result value. We'll call it [`sequenceA`](https://hackage.haskell.org/package/base/docs/Prelude.html#v:sequenceA)."
   ]
  },
  {
   "cell_type": "markdown",
   "metadata": {
    "attributes": {
     "classes": [
      "haskell:hs"
     ],
     "id": "",
     "name": "\"code\""
    }
   },
   "source": [
    "<pre><code>sequenceA :: (Applicative f) => [f a] -> f [a]\n",
    "sequenceA [] = pure []\n",
    "sequenceA (x:xs) = (:) <$> x <*> sequenceA xs</code></pre>"
   ]
  },
  {
   "cell_type": "markdown",
   "metadata": {},
   "source": [
    "Ah, recursion! First, we look at the type. It will transform a list of\n",
    "applicatives into an applicative with a list. From that, we can lay some\n",
    "groundwork for an edge condition. If we want to turn an empty list into\n",
    "an applicative with a list of results, well, we just put an empty list\n",
    "in a default context. Now comes the recursion. If we have a list with a\n",
    "head and a tail (remember, `x` is an applicative and `xs` is a list of\n",
    "them), we call [`sequenceA`](https://hackage.haskell.org/package/base/docs/Prelude.html#v:sequenceA) on the tail, which results in an applicative\n",
    "with a list. Then, we just prepend the value inside the applicative `x`\n",
    "into that applicative with a list, and that's it!\n",
    "\n",
    "So if we do `sequenceA [Just 1, Just 2]`, that's\n",
    "`(:) <$> Just 1 <*> sequenceA [Just 2]`.\n",
    "That equals\n",
    "`(:) <$> Just 1 <*> ((:) <$> Just 2 <*> sequenceA [])`.\n",
    "Ah! We know that `sequenceA []` ends up as\n",
    "being `Just []`, so this expression is now\n",
    "`(:) <$> Just 1 <*> ((:) <$> Just 2 <*> Just [])`, which is\n",
    "`(:) <$> Just 1 <*> Just [2]`, which is `Just [1,2]`!\n",
    "\n",
    "Another way to implement [`sequenceA`](https://hackage.haskell.org/package/base/docs/Prelude.html#v:sequenceA) is with a fold. Remember, pretty much\n",
    "any function where we go over a list element by element and accumulate a\n",
    "result along the way can be implemented with a fold."
   ]
  },
  {
   "cell_type": "markdown",
   "metadata": {
    "attributes": {
     "classes": [
      "haskell:hs"
     ],
     "id": "",
     "name": "\"code\""
    }
   },
   "source": [
    "<pre><code>sequenceA :: (Applicative f) => [f a] -> f [a]\n",
    "sequenceA = foldr (liftA2 (:)) (pure [])</code></pre>"
   ]
  },
  {
   "cell_type": "markdown",
   "metadata": {},
   "source": [
    "We approach the list from the right and start off with an accumulator\n",
    "value of `pure []`. We do `liftA2 (:)` between the accumulator and the last\n",
    "element of the list, which results in an applicative that has a\n",
    "singleton in it. Then we do `liftA2 (:)` with the now last element and the\n",
    "current accumulator and so on, until we're left with just the\n",
    "accumulator, which holds a list of the results of all the applicatives.\n",
    "\n",
    "Let's give our function a whirl on some applicatives."
   ]
  },
  {
   "cell_type": "code",
   "execution_count": 79,
   "metadata": {
    "attributes": {
     "classes": [
      "haskell:hs"
     ],
     "id": "",
     "name": "\"code\""
    }
   },
   "outputs": [
    {
     "data": {
      "text/plain": [
       "Just [3,2,1]"
      ]
     },
     "metadata": {},
     "output_type": "display_data"
    }
   ],
   "source": [
    "sequenceA [Just 3, Just 2, Just 1]"
   ]
  },
  {
   "cell_type": "code",
   "execution_count": 80,
   "metadata": {
    "attributes": {
     "classes": [
      "haskell:hs"
     ],
     "id": "",
     "name": "\"code\""
    }
   },
   "outputs": [
    {
     "data": {
      "text/plain": [
       "Nothing"
      ]
     },
     "metadata": {},
     "output_type": "display_data"
    }
   ],
   "source": [
    "sequenceA [Just 3, Nothing, Just 1]"
   ]
  },
  {
   "cell_type": "code",
   "execution_count": 81,
   "metadata": {
    "attributes": {
     "classes": [
      "haskell:hs"
     ],
     "id": "",
     "name": "\"code\""
    }
   },
   "outputs": [
    {
     "data": {
      "text/plain": [
       "[6,5,4]"
      ]
     },
     "metadata": {},
     "output_type": "display_data"
    }
   ],
   "source": [
    "sequenceA [(+3),(+2),(+1)] 3"
   ]
  },
  {
   "cell_type": "code",
   "execution_count": 82,
   "metadata": {
    "attributes": {
     "classes": [
      "haskell:hs"
     ],
     "id": "",
     "name": "\"code\""
    }
   },
   "outputs": [
    {
     "data": {
      "text/plain": [
       "[[1,4],[1,5],[1,6],[2,4],[2,5],[2,6],[3,4],[3,5],[3,6]]"
      ]
     },
     "metadata": {},
     "output_type": "display_data"
    }
   ],
   "source": [
    "sequenceA [[1,2,3],[4,5,6]]"
   ]
  },
  {
   "cell_type": "code",
   "execution_count": 83,
   "metadata": {
    "attributes": {
     "classes": [
      "haskell:hs"
     ],
     "id": "",
     "name": "\"code\""
    }
   },
   "outputs": [
    {
     "data": {
      "text/plain": [
       "[]"
      ]
     },
     "metadata": {},
     "output_type": "display_data"
    }
   ],
   "source": [
    "sequenceA [[1,2,3],[4,5,6],[3,4,4],[]]"
   ]
  },
  {
   "cell_type": "markdown",
   "metadata": {},
   "source": [
    "Ah! Pretty cool. When used on [`Maybe`](https://hackage.haskell.org/package/base/docs/Prelude.html#t:Maybe) values, [`sequenceA`](https://hackage.haskell.org/package/base/docs/Prelude.html#v:sequenceA) creates a [`Maybe`](https://hackage.haskell.org/package/base/docs/Prelude.html#t:Maybe)\n",
    "value with all the results inside it as a list. If one of the values was\n",
    "[`Nothing`](https://hackage.haskell.org/package/base/docs/Prelude.html#v:Nothing), then the result is also a [`Nothing`](https://hackage.haskell.org/package/base/docs/Prelude.html#v:Nothing). This is cool when you have a\n",
    "list of [`Maybe`](https://hackage.haskell.org/package/base/docs/Prelude.html#t:Maybe) values and you're interested in the values only if none of\n",
    "them is a [`Nothing`](https://hackage.haskell.org/package/base/docs/Prelude.html#v:Nothing).\n",
    "\n",
    "When used with functions, [`sequenceA`](https://hackage.haskell.org/package/base/docs/Prelude.html#v:sequenceA) takes a list of functions and\n",
    "returns a function that returns a list. In our example, we made a\n",
    "function that took a number as a parameter and applied it to each\n",
    "function in the list and then returned a list of results.\n",
    "`sequenceA [(+3),(+2),(+1)] 3` will call `(+3)` with `3`, `(+2)` with `3` and `(+1)` with `3`\n",
    "and present all those results as a list.\n",
    "\n",
    "Doing `(+) <$> (+3) <*> (*2)` will create a function that takes a\n",
    "parameter, feeds it to both `(+3)` and `(*2)` and then calls + with those\n",
    "two results. In the same vein, it makes sense that\n",
    "`sequenceA [(+3),(*2)]` makes a function that takes a parameter and feeds it to all\n",
    "of the functions in the list. Instead of calling [`+`](https://hackage.haskell.org/package/base/docs/Prelude.html#v:-43-) with the results of\n",
    "the functions, a combination of `:` and `pure []` is used to gather those\n",
    "results in a list, which is the result of that function.\n",
    "\n",
    "Using [`sequenceA`](https://hackage.haskell.org/package/base/docs/Prelude.html#v:sequenceA) is cool when we have a list of functions and we want to\n",
    "feed the same input to all of them and then view the list of results.\n",
    "For instance, we have a number and we're wondering whether it satisfies\n",
    "all of the predicates in a list. One way to do that would be like so:"
   ]
  },
  {
   "cell_type": "code",
   "execution_count": 84,
   "metadata": {
    "attributes": {
     "classes": [
      "haskell:hs"
     ],
     "id": "",
     "name": "\"code\""
    }
   },
   "outputs": [
    {
     "data": {
      "text/plain": [
       "[True,True,True]"
      ]
     },
     "metadata": {},
     "output_type": "display_data"
    }
   ],
   "source": [
    "map (\\f -> f 7) [(>4),(<10),odd]"
   ]
  },
  {
   "cell_type": "code",
   "execution_count": 85,
   "metadata": {
    "attributes": {
     "classes": [
      "haskell:hs"
     ],
     "id": "",
     "name": "\"code\""
    }
   },
   "outputs": [
    {
     "data": {
      "text/plain": [
       "True"
      ]
     },
     "metadata": {},
     "output_type": "display_data"
    }
   ],
   "source": [
    "and $ map (\\f -> f 7) [(>4),(<10),odd]"
   ]
  },
  {
   "cell_type": "markdown",
   "metadata": {},
   "source": [
    "Remember, [`and`](https://hackage.haskell.org/package/base/docs/Prelude.html#v:and) takes a list of booleans and returns [`True`](https://hackage.haskell.org/package/base/docs/Prelude.html#v:True) if they're all\n",
    "[`True`](https://hackage.haskell.org/package/base/docs/Prelude.html#v:True). Another way to achieve the same thing would be with [`sequenceA`](https://hackage.haskell.org/package/base/docs/Prelude.html#v:sequenceA):"
   ]
  },
  {
   "cell_type": "code",
   "execution_count": 86,
   "metadata": {
    "attributes": {
     "classes": [
      "haskell:hs"
     ],
     "id": "",
     "name": "\"code\""
    }
   },
   "outputs": [
    {
     "data": {
      "text/plain": [
       "[True,True,True]"
      ]
     },
     "metadata": {},
     "output_type": "display_data"
    }
   ],
   "source": [
    "sequenceA [(>4),(<10),odd] 7"
   ]
  },
  {
   "cell_type": "code",
   "execution_count": 87,
   "metadata": {
    "attributes": {
     "classes": [
      "haskell:hs"
     ],
     "id": "",
     "name": "\"code\""
    }
   },
   "outputs": [
    {
     "data": {
      "text/plain": [
       "True"
      ]
     },
     "metadata": {},
     "output_type": "display_data"
    }
   ],
   "source": [
    "and $ sequenceA [(>4),(<10),odd] 7"
   ]
  },
  {
   "cell_type": "markdown",
   "metadata": {},
   "source": [
    "`sequenceA [(>4),(<10),odd]` creates a function that will take a number\n",
    "and feed it to all of the predicates in `[(>4),(<10),odd]` and return a\n",
    "list of booleans. It turns a list with the type `(Num a) => [a -> Bool]`\n",
    "into a function with the type `(Num a) => a -> [Bool]`. Pretty neat,\n",
    "huh?\n",
    "\n",
    "Because lists are homogeneous, all the functions in the list have to be\n",
    "functions of the same type, of course. You can't have a list like\n",
    "`[ord, (+3)]`, because [`ord`](https://hackage.haskell.org/package/base/docs/Data-Char.html#v:ord) takes a character and returns a number, whereas `(+3)`\n",
    "takes a number and returns a number.\n",
    "\n",
    "When used with `[]`, [`sequenceA`](https://hackage.haskell.org/package/base/docs/Prelude.html#v:sequenceA) takes a list of lists and returns a list of\n",
    "lists. Hmm, interesting. It actually creates lists that have all\n",
    "possible combinations of their elements. For illustration, here's the\n",
    "above done with [`sequenceA`](https://hackage.haskell.org/package/base/docs/Prelude.html#v:sequenceA) and then done with a list comprehension:"
   ]
  },
  {
   "cell_type": "code",
   "execution_count": 88,
   "metadata": {
    "attributes": {
     "classes": [
      "haskell:hs"
     ],
     "id": "",
     "name": "\"code\""
    }
   },
   "outputs": [
    {
     "data": {
      "text/plain": [
       "[[1,4],[1,5],[1,6],[2,4],[2,5],[2,6],[3,4],[3,5],[3,6]]"
      ]
     },
     "metadata": {},
     "output_type": "display_data"
    }
   ],
   "source": [
    "sequenceA [[1,2,3],[4,5,6]]"
   ]
  },
  {
   "cell_type": "code",
   "execution_count": 89,
   "metadata": {
    "attributes": {
     "classes": [
      "haskell:hs"
     ],
     "id": "",
     "name": "\"code\""
    }
   },
   "outputs": [
    {
     "data": {
      "text/plain": [
       "[[1,4],[1,5],[1,6],[2,4],[2,5],[2,6],[3,4],[3,5],[3,6]]"
      ]
     },
     "metadata": {},
     "output_type": "display_data"
    }
   ],
   "source": [
    "[[x,y] | x <- [1,2,3], y <- [4,5,6]]"
   ]
  },
  {
   "cell_type": "code",
   "execution_count": 90,
   "metadata": {
    "attributes": {
     "classes": [
      "haskell:hs"
     ],
     "id": "",
     "name": "\"code\""
    }
   },
   "outputs": [
    {
     "data": {
      "text/plain": [
       "[[1,3],[1,4],[2,3],[2,4]]"
      ]
     },
     "metadata": {},
     "output_type": "display_data"
    }
   ],
   "source": [
    "sequenceA [[1,2],[3,4]]"
   ]
  },
  {
   "cell_type": "code",
   "execution_count": 91,
   "metadata": {
    "attributes": {
     "classes": [
      "haskell:hs"
     ],
     "id": "",
     "name": "\"code\""
    }
   },
   "outputs": [
    {
     "data": {
      "text/plain": [
       "[[1,3],[1,4],[2,3],[2,4]]"
      ]
     },
     "metadata": {},
     "output_type": "display_data"
    }
   ],
   "source": [
    "[[x,y] | x <- [1,2], y <- [3,4]]"
   ]
  },
  {
   "cell_type": "code",
   "execution_count": 92,
   "metadata": {
    "attributes": {
     "classes": [
      "haskell:hs"
     ],
     "id": "",
     "name": "\"code\""
    }
   },
   "outputs": [
    {
     "data": {
      "text/plain": [
       "[[1,3,5],[1,3,6],[1,4,5],[1,4,6],[2,3,5],[2,3,6],[2,4,5],[2,4,6]]"
      ]
     },
     "metadata": {},
     "output_type": "display_data"
    }
   ],
   "source": [
    "sequenceA [[1,2],[3,4],[5,6]]"
   ]
  },
  {
   "cell_type": "code",
   "execution_count": 93,
   "metadata": {
    "attributes": {
     "classes": [
      "haskell:hs"
     ],
     "id": "",
     "name": "\"code\""
    }
   },
   "outputs": [
    {
     "data": {
      "text/plain": [
       "[[1,3,5],[1,3,6],[1,4,5],[1,4,6],[2,3,5],[2,3,6],[2,4,5],[2,4,6]]"
      ]
     },
     "metadata": {},
     "output_type": "display_data"
    }
   ],
   "source": [
    "[[x,y,z] | x <- [1,2], y <- [3,4], z <- [5,6]]"
   ]
  },
  {
   "cell_type": "markdown",
   "metadata": {},
   "source": [
    "This might be a bit hard to grasp, but if you play with it for a while,\n",
    "you'll see how it works. Let's say that we're doing\n",
    "`sequenceA [[1,2],[3,4]]`. To see how this happens, let's use the\n",
    "`sequenceA (x:xs) = (:) <$> x <*> sequenceA xs` definition of [`sequenceA`](https://hackage.haskell.org/package/base/docs/Prelude.html#v:sequenceA) and the edge\n",
    "condition `sequenceA [] = pure []`. You don't have to follow this\n",
    "evaluation, but it might help you if have trouble imagining how\n",
    "[`sequenceA`](https://hackage.haskell.org/package/base/docs/Prelude.html#v:sequenceA) works on lists of lists, because it can be a bit mind-bending.\n",
    "\n",
    "-   We start off with `sequenceA [[1,2],[3,4]]`\n",
    "-   That evaluates to `(:) <$> [1,2] <*> sequenceA [[3,4]]`\n",
    "-   Evaluating the inner [`sequenceA`](https://hackage.haskell.org/package/base/docs/Prelude.html#v:sequenceA) further, we get `(:) <$> [1,2] <*> ((:) <$> [3,4] <*> sequenceA [])`\n",
    "-   We've reached the edge condition, so this is now `(:) <$> [1,2] <*> ((:) <$> [3,4] <*> [[]])`\n",
    "-   Now, we evaluate the `(:) <$> [3,4] <*> [[]]` part, which will\n",
    "    use `:` with every possible value in the left list (possible values\n",
    "    are `3` and `4`) with every possible value on the right list (only\n",
    "    possible value is `[]`), which results in `[3:[], 4:[]]`, which is\n",
    "    `[[3],[4]]`. So now we have `(:) <$> [1,2] <*> [[3],[4]]`\n",
    "-   Now, `:` is used with every possible value from the left list (`1` and\n",
    "    `2`) with every possible value in the right list (`[3]` and `[4]`), which\n",
    "    results in `[1:[3], 1:[4], 2:[3], 2:[4]]`, which is\n",
    "    `[[1,3],[1,4],[2,3],[2,4]`\n",
    "\n",
    "Doing `(+) <$> [1,2] <*> [4,5,6]` results in a non-deterministic\n",
    "computation `x + y` where `x` takes on every value from `[1,2]` and `y` takes on\n",
    "every value from `[4,5,6]`. We represent that as a list which holds all of\n",
    "the possible results. Similarly, when we do\n",
    "`sequence [[1,2],[3,4],[5,6],[7,8]]`, the result is a non-deterministic computation\n",
    "`[x,y,z,w]`, where `x` takes on every value from `[1,2]`, `y` takes on every\n",
    "value from `[3,4]` and so on. To represent the result of that\n",
    "non-deterministic computation, we use a list, where each element in the\n",
    "list is one possible list. That's why the result is a list of lists.\n",
    "\n",
    "When used with I/O actions, [`sequenceA`](https://hackage.haskell.org/package/base/docs/Prelude.html#v:sequenceA) is the same thing as [`sequence`](https://hackage.haskell.org/package/base/docs/Prelude.html#v:sequence)! It\n",
    "takes a list of I/O actions and returns an I/O action that will perform\n",
    "each of those actions and have as its result a list of the results of\n",
    "those I/O actions. That's because to turn an `[IO a]` value into an `IO [a]`\n",
    "value, to make an I/O action that yields a list of results when\n",
    "performed, all those I/O actions have to be sequenced so that they're\n",
    "then performed one after the other when evaluation is forced. You can't\n",
    "get the result of an I/O action without performing it."
   ]
  },
  {
   "cell_type": "code",
   "execution_count": 94,
   "metadata": {
    "attributes": {
     "classes": [
      "haskell:hs"
     ],
     "id": "",
     "name": "\"code\""
    }
   },
   "outputs": [
    {
     "data": {
      "text/plain": [
       "[\"heyh\",\"ho\",\"woo\"]"
      ]
     },
     "metadata": {},
     "output_type": "display_data"
    }
   ],
   "source": [
    "withStdin (unlines [\"heyh\",\"ho\",\"woo\"] ) $ sequenceA [getLine, getLine, getLine]"
   ]
  },
  {
   "cell_type": "markdown",
   "metadata": {},
   "source": [
    "Like normal functors, applicative functors come with a few laws. The\n",
    "most important one is the one that we already mentioned, namely that\n",
    "**`pure f <*> x = fmap f x`** holds. As an exercise, you can prove this law\n",
    "for some of the applicative functors that we've met in this chapter.The\n",
    "other functor laws are:\n",
    "\n",
    "-   **`pure id <*> v = v`**\n",
    "-   **`pure (.) <*> u <*> v <*> w = u <*> (v <*> w)`**\n",
    "-   **`pure f <*> pure x = pure (f x)`**\n",
    "-   **`u <*> pure y = pure ($ y) <*> u`**\n",
    "\n",
    "We won't go over them in detail right now because that would take up a\n",
    "lot of pages and it would probably be kind of boring, but if you're up\n",
    "to the task, you can take a closer look at them and see if they hold for\n",
    "some of the instances.\n",
    "\n",
    "In conclusion, applicative functors aren't just interesting, they're\n",
    "also useful, because they allow us to combine different computations,\n",
    "such as I/O computations, non-deterministic computations, computations\n",
    "that might have failed, etc. by using the applicative style. Just by\n",
    "using [`<$>`](https://hackage.haskell.org/package/base/docs/Prelude.html#v:-60--36--62-) and [`<*>`](https://hackage.haskell.org/package/base/docs/Prelude.html#v:-60--42--62-) we can use normal functions to uniformly operate\n",
    "on any number of applicative functors and take advantage of the\n",
    "semantics of each one.\n",
    "\n",
    "The newtype keyword\n",
    "-------------------\n",
    "\n",
    "<img src=\"img/maoi.png\" title=\"why_ so serious?\" style=\"background-color:white;float:left;margin-right:2em;\" />\n",
    "\n",
    "So far, we've learned how to make our own algebraic data types by using\n",
    "the *data* keyword. We've also learned how to give existing types\n",
    "synonyms with the *type* keyword. In this section, we'll be taking a\n",
    "look at how to make new types out of existing data types by using the\n",
    "*newtype* keyword and why we'd want to do that in the first place.\n",
    "\n",
    "In the previous section, we saw that there are actually more ways for\n",
    "the list type to be an applicative functor. One way is to have [`<*>`](https://hackage.haskell.org/package/base/docs/Prelude.html#v:-60--42--62-)\n",
    "take every function out of the list that is its left parameter and apply\n",
    "it to every value in the list that is on the right, resulting in every\n",
    "possible combination of applying a function from the left list to a\n",
    "value in the right list."
   ]
  },
  {
   "cell_type": "code",
   "execution_count": 95,
   "metadata": {
    "attributes": {
     "classes": [
      "haskell:hs"
     ],
     "id": "",
     "name": "\"code\""
    }
   },
   "outputs": [
    {
     "data": {
      "text/plain": [
       "[2,3,4,100,200,300,5,10,15]"
      ]
     },
     "metadata": {},
     "output_type": "display_data"
    }
   ],
   "source": [
    "[(+1),(*100),(*5)] <*> [1,2,3]"
   ]
  },
  {
   "cell_type": "markdown",
   "metadata": {},
   "source": [
    "The second way is to take the first function on the left side of [`<*>`](https://hackage.haskell.org/package/base/docs/Prelude.html#v:-60--42--62-)\n",
    "and apply it to the first value on the right, then take the second\n",
    "function from the list on the left side and apply it to the second value\n",
    "on the right, and so on. Ultimately, it's kind of like zipping the two\n",
    "lists together. But lists are already an instance of [`Applicative`](https://hackage.haskell.org/package/base/docs/Prelude.html#t:Applicative), so how\n",
    "did we also make lists an instance of [`Applicative`](https://hackage.haskell.org/package/base/docs/Prelude.html#t:Applicative) in this second way? If\n",
    "you remember, we said that the `ZipList a` type was introduced for this\n",
    "reason, which has one value constructor, [`ZipList`](https://hackage.haskell.org/package/base/docs/Control-Applicative.html#t:ZipList), that has just one\n",
    "field. We put the list that we're wrapping in that field. Then, [`ZipList`](https://hackage.haskell.org/package/base/docs/Control-Applicative.html#t:ZipList)\n",
    "was made an instance of [`Applicative`](https://hackage.haskell.org/package/base/docs/Prelude.html#t:Applicative), so that when we want to use lists\n",
    "as applicatives in the zipping manner, we just wrap them with the\n",
    "[`ZipList`](https://hackage.haskell.org/package/base/docs/Control-Applicative.html#t:ZipList) constructor and then once we're done, unwrap them with\n",
    "[`getZipList`](https://hackage.haskell.org/package/base/docs/Control-Applicative.html#v:getZipList):"
   ]
  },
  {
   "cell_type": "code",
   "execution_count": 96,
   "metadata": {
    "attributes": {
     "classes": [
      "haskell:hs"
     ],
     "id": "",
     "name": "\"code\""
    }
   },
   "outputs": [
    {
     "data": {
      "text/plain": [
       "[2,200,15]"
      ]
     },
     "metadata": {},
     "output_type": "display_data"
    }
   ],
   "source": [
    "getZipList $ ZipList [(+1),(*100),(*5)] <*> ZipList [1,2,3]"
   ]
  },
  {
   "cell_type": "markdown",
   "metadata": {},
   "source": [
    "So, what does this have to do with this *newtype* keyword? Well, think\n",
    "about how we might write the data declaration for our `ZipList a` type.\n",
    "One way would be to do it like so:"
   ]
  },
  {
   "cell_type": "markdown",
   "metadata": {
    "attributes": {
     "classes": [
      "haskell:hs"
     ],
     "id": "",
     "name": "\"code\""
    }
   },
   "source": [
    "<pre><code>data ZipList a = ZipList [a]</code></pre>"
   ]
  },
  {
   "cell_type": "markdown",
   "metadata": {},
   "source": [
    "A type that has just one value constructor and that value constructor\n",
    "has just one field that is a list of things. We might also want to use\n",
    "record syntax so that we automatically get a function that extracts a\n",
    "list from a [`ZipList`](https://hackage.haskell.org/package/base/docs/Control-Applicative.html#t:ZipList):"
   ]
  },
  {
   "cell_type": "markdown",
   "metadata": {
    "attributes": {
     "classes": [
      "haskell:hs"
     ],
     "id": "",
     "name": "\"code\""
    }
   },
   "source": [
    "<pre><code>data ZipList a = ZipList { getZipList :: [a] }</code></pre>"
   ]
  },
  {
   "cell_type": "markdown",
   "metadata": {},
   "source": [
    "This looks fine and would actually work pretty well. We had two ways of\n",
    "making an existing type an instance of a type class, so we used the\n",
    "*data* keyword to just wrap that type into another type and made the\n",
    "other type an instance in the second way.\n",
    "\n",
    "The *newtype* keyword in Haskell is made exactly for these cases when we\n",
    "want to just take one type and wrap it in something to present it as\n",
    "another type. In the actual libraries, `ZipList a` is defined like this:"
   ]
  },
  {
   "cell_type": "markdown",
   "metadata": {
    "attributes": {
     "classes": [
      "haskell:hs"
     ],
     "id": "",
     "name": "\"code\""
    }
   },
   "source": [
    "<pre><code>newtype ZipList a = ZipList { getZipList :: [a] }</code></pre>"
   ]
  },
  {
   "cell_type": "markdown",
   "metadata": {},
   "source": [
    "Instead of the *data* keyword, the *newtype* keyword is used. Now why is\n",
    "that? Well for one, *newtype* is faster. If you use the *data* keyword\n",
    "to wrap a type, there's some overhead to all that wrapping and\n",
    "unwrapping when your program is running. But if you use *newtype*,\n",
    "Haskell knows that you're just using it to wrap an existing type into a\n",
    "new type (hence the name), because you want it to be the same internally\n",
    "but have a different type. With that in mind, Haskell can get rid of the\n",
    "wrapping and unwrapping once it resolves which value is of what type.\n",
    "\n",
    "So why not just use *newtype* all the time instead of *data* then? Well,\n",
    "when you make a new type from an existing type by using the *newtype*\n",
    "keyword, you can only have one value constructor and that value\n",
    "constructor can only have one field. But with *data*, you can make data\n",
    "types that have several value constructors and each constructor can have\n",
    "zero or more fields:"
   ]
  },
  {
   "cell_type": "code",
   "execution_count": 97,
   "metadata": {
    "attributes": {
     "classes": [
      "haskell:hs"
     ],
     "id": "",
     "name": "\"code\""
    }
   },
   "outputs": [],
   "source": [
    "data Profession = Fighter | Archer | Accountant\n",
    "\n",
    "data Race = Human | Elf | Orc | Goblin\n",
    "\n",
    "data PlayerCharacter = PlayerCharacter Race Profession"
   ]
  },
  {
   "cell_type": "markdown",
   "metadata": {},
   "source": [
    "When using *newtype*, you're restricted to just one constructor with one\n",
    "field.\n",
    "\n",
    "We can also use the *deriving* keyword with *newtype* just like we would\n",
    "with *data*. We can derive instances for `Eq`, [`Ord`](https://hackage.haskell.org/package/base/docs/Prelude.html#t:Ord), [`Enum`](https://hackage.haskell.org/package/base/docs/Prelude.html#t:Enum), [`Bounded`](https://hackage.haskell.org/package/base/docs/Prelude.html#t:Bounded), [`Show`](https://hackage.haskell.org/package/base/docs/Prelude.html#t:Show)\n",
    "and [`Read`](https://hackage.haskell.org/package/base/docs/Prelude.html#t:Read). If we derive the instance for a type class, the type that\n",
    "we're wrapping has to be in that type class to begin with. It makes\n",
    "sense, because *newtype* just wraps an existing type. So now if we do\n",
    "the following, we can print and equate values of our new type:"
   ]
  },
  {
   "cell_type": "code",
   "execution_count": 98,
   "metadata": {
    "attributes": {
     "classes": [
      "haskell:hs"
     ],
     "id": "",
     "name": "\"code\""
    }
   },
   "outputs": [],
   "source": [
    "newtype CharList = CharList { getCharList :: [Char] } deriving (Eq, Show)"
   ]
  },
  {
   "cell_type": "markdown",
   "metadata": {},
   "source": [
    "Let's give that a go:"
   ]
  },
  {
   "cell_type": "code",
   "execution_count": 99,
   "metadata": {
    "attributes": {
     "classes": [
      "haskell:hs"
     ],
     "id": "",
     "name": "\"code\""
    }
   },
   "outputs": [
    {
     "data": {
      "text/plain": [
       "CharList {getCharList = \"this will be shown!\"}"
      ]
     },
     "metadata": {},
     "output_type": "display_data"
    }
   ],
   "source": [
    "CharList \"this will be shown!\""
   ]
  },
  {
   "cell_type": "code",
   "execution_count": 100,
   "metadata": {
    "attributes": {
     "classes": [
      "haskell:hs"
     ],
     "id": "",
     "name": "\"code\""
    }
   },
   "outputs": [
    {
     "data": {
      "text/plain": [
       "True"
      ]
     },
     "metadata": {},
     "output_type": "display_data"
    }
   ],
   "source": [
    "CharList \"benny\" == CharList \"benny\""
   ]
  },
  {
   "cell_type": "code",
   "execution_count": 101,
   "metadata": {
    "attributes": {
     "classes": [
      "haskell:hs"
     ],
     "id": "",
     "name": "\"code\""
    }
   },
   "outputs": [
    {
     "data": {
      "text/plain": [
       "False"
      ]
     },
     "metadata": {},
     "output_type": "display_data"
    }
   ],
   "source": [
    "CharList \"benny\" == CharList \"oisters\""
   ]
  },
  {
   "cell_type": "markdown",
   "metadata": {},
   "source": [
    "In this particular *newtype*, the value constructor has the following\n",
    "type:"
   ]
  },
  {
   "cell_type": "markdown",
   "metadata": {
    "attributes": {
     "classes": [
      "haskell:hs"
     ],
     "id": "",
     "name": "\"code\""
    }
   },
   "source": [
    "<pre><code>CharList :: [Char] -> CharList</code></pre>"
   ]
  },
  {
   "cell_type": "markdown",
   "metadata": {},
   "source": [
    "It takes a `[Char]` value, such as `\"my sharona\"` and returns a `CharList`\n",
    "value. From the above examples where we used the `CharList` value\n",
    "constructor, we see that really is the case. Conversely, the `getCharList`\n",
    "function, which was generated for us because we used record syntax in\n",
    "our *newtype*, has this type:"
   ]
  },
  {
   "cell_type": "markdown",
   "metadata": {
    "attributes": {
     "classes": [
      "haskell:hs"
     ],
     "id": "",
     "name": "\"code\""
    }
   },
   "source": [
    "<pre><code>getCharList :: CharList -> [Char]</code></pre>"
   ]
  },
  {
   "cell_type": "markdown",
   "metadata": {},
   "source": [
    "It takes a `CharList` value and converts it to a `[Char]` value. You can\n",
    "think of this as wrapping and unwrapping, but you can also think of it\n",
    "as converting values from one type to the other.\n",
    "\n",
    "### Using newtype to make type class instances\n",
    "\n",
    "Many times, we want to make our types instances of certain type classes,\n",
    "but the type parameters just don't match up for what we want to do. It's\n",
    "easy to make [`Maybe`](https://hackage.haskell.org/package/base/docs/Prelude.html#t:Maybe) an instance of [`Functor`](https://hackage.haskell.org/package/base/docs/Prelude.html#t:Functor), because the [`Functor`](https://hackage.haskell.org/package/base/docs/Prelude.html#t:Functor) type\n",
    "class is defined like this:"
   ]
  },
  {
   "cell_type": "markdown",
   "metadata": {
    "attributes": {
     "classes": [
      "haskell:hs"
     ],
     "id": "",
     "name": "\"code\""
    }
   },
   "source": [
    "<pre><code>class Functor f where\n",
    "    fmap :: (a -> b) -> f a -> f b</code></pre>"
   ]
  },
  {
   "cell_type": "markdown",
   "metadata": {},
   "source": [
    "So we just start out with:"
   ]
  },
  {
   "cell_type": "markdown",
   "metadata": {
    "attributes": {
     "classes": [
      "haskell:hs"
     ],
     "id": "",
     "name": "\"code\""
    }
   },
   "source": [
    "<pre><code>instance Functor Maybe where</code></pre>"
   ]
  },
  {
   "cell_type": "markdown",
   "metadata": {},
   "source": [
    "And then implement [`fmap`](https://hackage.haskell.org/package/base/docs/Prelude.html#v:fmap). All the type parameters add up because the\n",
    "[`Maybe`](https://hackage.haskell.org/package/base/docs/Prelude.html#t:Maybe) takes the place of f in the definition of the [`Functor`](https://hackage.haskell.org/package/base/docs/Prelude.html#t:Functor) type class\n",
    "and so if we look at [`fmap`](https://hackage.haskell.org/package/base/docs/Prelude.html#v:fmap) like it only worked on [`Maybe`](https://hackage.haskell.org/package/base/docs/Prelude.html#t:Maybe), it ends up\n",
    "behaving like:"
   ]
  },
  {
   "cell_type": "markdown",
   "metadata": {
    "attributes": {
     "classes": [
      "haskell:hs"
     ],
     "id": "",
     "name": "\"code\""
    }
   },
   "source": [
    "<pre><code>fmap :: (a -> b) -> Maybe a -> Maybe b</code></pre>"
   ]
  },
  {
   "cell_type": "markdown",
   "metadata": {},
   "source": [
    "<img src=\"img/krakatoa.png\" title=\"wow, very evil\" style=\"background-color:white;float:right;margin-left:2em;\" />\n",
    "\n",
    "Isn't that just peachy? Now what if we wanted to make the tuple an\n",
    "instance of [`Functor`](https://hackage.haskell.org/package/base/docs/Prelude.html#t:Functor) in such a way that when we [`fmap`](https://hackage.haskell.org/package/base/docs/Prelude.html#v:fmap) a function over a\n",
    "tuple, it gets applied to the first component of the tuple? That way,\n",
    "doing `fmap (+3) (1,1)` would result in `(4,1)`. It turns out that writing\n",
    "the instance for that is kind of hard. With [`Maybe`](https://hackage.haskell.org/package/base/docs/Prelude.html#t:Maybe), we just say\n",
    "`instance Functor Maybe where` because only type constructors that take exactly one\n",
    "parameter can be made an instance of [`Functor`](https://hackage.haskell.org/package/base/docs/Prelude.html#t:Functor). But it seems like there's\n",
    "no way to do something like that with `(a,b)` so that the type parameter `a`\n",
    "ends up being the one that changes when we use [`fmap`](https://hackage.haskell.org/package/base/docs/Prelude.html#v:fmap). To get around this,\n",
    "we can *newtype* our tuple in such a way that the second type parameter\n",
    "represents the type of the first component in the tuple:"
   ]
  },
  {
   "cell_type": "code",
   "execution_count": 102,
   "metadata": {
    "attributes": {
     "classes": [
      "haskell:hs"
     ],
     "id": "",
     "name": "\"code\""
    }
   },
   "outputs": [],
   "source": [
    "newtype Pair b a = Pair { getPair :: (a,b) }"
   ]
  },
  {
   "cell_type": "markdown",
   "metadata": {},
   "source": [
    "And now, we can make it an instance of [`Functor`](https://hackage.haskell.org/package/base/docs/Prelude.html#t:Functor) so that the function is\n",
    "mapped over the first component:"
   ]
  },
  {
   "cell_type": "code",
   "execution_count": 103,
   "metadata": {
    "attributes": {
     "classes": [
      "haskell:hs"
     ],
     "id": "",
     "name": "\"code\""
    }
   },
   "outputs": [],
   "source": [
    "instance Functor (Pair c) where\n",
    "    fmap f (Pair (x,y)) = Pair (f x, y)"
   ]
  },
  {
   "cell_type": "markdown",
   "metadata": {},
   "source": [
    "As you can see, we can pattern match on types defined with *newtype*. We\n",
    "pattern match to get the underlying tuple, then we apply the function `f`\n",
    "to the first component in the tuple and then we use the [`Pair`](https://hackage.haskell.org/package/base/docs/Data-Functor-Product.html#v:Pair) value\n",
    "constructor to convert the tuple back to our `Pair b a`. If we imagine\n",
    "what the type [`fmap`](https://hackage.haskell.org/package/base/docs/Prelude.html#v:fmap) would be if it only worked on our new pairs, it would\n",
    "be:"
   ]
  },
  {
   "cell_type": "markdown",
   "metadata": {
    "attributes": {
     "classes": [
      "haskell:hs"
     ],
     "id": "",
     "name": "\"code\""
    }
   },
   "source": [
    "<pre><code>fmap :: (a -> b) -> Pair c a -> Pair c b</code></pre>"
   ]
  },
  {
   "cell_type": "markdown",
   "metadata": {},
   "source": [
    "Again, we said `instance Functor (Pair c) where` and so `Pair c` took the\n",
    "place of the `f` in the type class definition for [`Functor`](https://hackage.haskell.org/package/base/docs/Prelude.html#t:Functor):"
   ]
  },
  {
   "cell_type": "markdown",
   "metadata": {
    "attributes": {
     "classes": [
      "haskell:hs"
     ],
     "id": "",
     "name": "\"code\""
    }
   },
   "source": [
    "<pre><code>class Functor f where\n",
    "    fmap :: (a -> b) -> f a -> f b</code></pre>"
   ]
  },
  {
   "cell_type": "markdown",
   "metadata": {},
   "source": [
    "So now, if we convert a tuple into a `Pair b a`, we can use [`fmap`](https://hackage.haskell.org/package/base/docs/Prelude.html#v:fmap) over it\n",
    "and the function will be mapped over the first component:"
   ]
  },
  {
   "cell_type": "code",
   "execution_count": 104,
   "metadata": {
    "attributes": {
     "classes": [
      "haskell:hs"
     ],
     "id": "",
     "name": "\"code\""
    }
   },
   "outputs": [
    {
     "data": {
      "text/plain": [
       "(200,3)"
      ]
     },
     "metadata": {},
     "output_type": "display_data"
    }
   ],
   "source": [
    "getPair $ fmap (*100) (Pair (2,3))"
   ]
  },
  {
   "cell_type": "code",
   "execution_count": 105,
   "metadata": {
    "attributes": {
     "classes": [
      "haskell:hs"
     ],
     "id": "",
     "name": "\"code\""
    }
   },
   "outputs": [
    {
     "data": {
      "text/plain": [
       "(\"gnillac nodnol\",3)"
      ]
     },
     "metadata": {},
     "output_type": "display_data"
    }
   ],
   "source": [
    "getPair $ fmap reverse (Pair (\"london calling\", 3))"
   ]
  },
  {
   "cell_type": "markdown",
   "metadata": {},
   "source": [
    "### On newtype laziness\n",
    "\n",
    "We mentioned that *newtype* is usually faster than *data*. The only\n",
    "thing that can be done with *newtype* is turning an existing type into a\n",
    "new type, so internally, Haskell can represent the values of types\n",
    "defined with *newtype* just like the original ones, only it has to keep\n",
    "in mind that the their types are now distinct. This fact means that not\n",
    "only is *newtype* faster, it's also lazier. Let's take a look at what\n",
    "this means.\n",
    "\n",
    "Like we've said before, Haskell is lazy by default, which means that\n",
    "only when we try to actually print the results of our functions will any\n",
    "computation take place. Furthermore, only those computations that are\n",
    "necessary for our function to tell us the result will get carried out.\n",
    "The [`undefined`](https://hackage.haskell.org/package/base/docs/Prelude.html#v:undefined) value in Haskell represents an erroneous computation. If we\n",
    "try to evaluate it (that is, force Haskell to actually compute it) by\n",
    "printing it to the terminal, Haskell will throw a hissy fit (technically\n",
    "referred to as an exception):"
   ]
  },
  {
   "cell_type": "code",
   "execution_count": 106,
   "metadata": {
    "attributes": {
     "classes": [
      "haskell:hs"
     ],
     "id": "",
     "name": "\"code\""
    }
   },
   "outputs": [
    {
     "ename": "",
     "evalue": "",
     "output_type": "error",
     "traceback": [
      "Prelude.undefined\nCallStack (from HasCallStack):\n  error, called at libraries/base/GHC/Err.hs:74:14 in base:GHC.Err\n  undefined, called at <interactive>:1:1 in interactive:Ghci3170"
     ]
    }
   ],
   "source": [
    "undefined"
   ]
  },
  {
   "cell_type": "markdown",
   "metadata": {},
   "source": [
    "However, if we make a list that has some [`undefined`](https://hackage.haskell.org/package/base/docs/Prelude.html#v:undefined) values in it but\n",
    "request only the head of the list, which is not [`undefined`](https://hackage.haskell.org/package/base/docs/Prelude.html#v:undefined), everything\n",
    "will go smoothly because Haskell doesn't really need to evaluate any\n",
    "other elements in a list if we only want to see what the first element\n",
    "is:"
   ]
  },
  {
   "cell_type": "code",
   "execution_count": 107,
   "metadata": {
    "attributes": {
     "classes": [
      "haskell:hs"
     ],
     "id": "",
     "name": "\"code\""
    }
   },
   "outputs": [
    {
     "data": {
      "text/plain": [
       "3"
      ]
     },
     "metadata": {},
     "output_type": "display_data"
    }
   ],
   "source": [
    "head [3,4,5,undefined,2,undefined]"
   ]
  },
  {
   "cell_type": "markdown",
   "metadata": {},
   "source": [
    "Now consider the following type:"
   ]
  },
  {
   "cell_type": "code",
   "execution_count": 108,
   "metadata": {
    "attributes": {
     "classes": [
      "haskell:hs"
     ],
     "id": "",
     "name": "\"code\""
    }
   },
   "outputs": [],
   "source": [
    "data CoolBool = CoolBool { getCoolBool :: Bool }"
   ]
  },
  {
   "cell_type": "markdown",
   "metadata": {},
   "source": [
    "It's your run-of-the-mill algebraic data type that was defined with the\n",
    "*data* keyword. It has one value constructor, which has one field whose\n",
    "type is [`Bool`](https://hackage.haskell.org/package/base/docs/Prelude.html#t:Bool). Let's make a function that pattern matches on a `CoolBool`\n",
    "and returns the value `\"hello\"` regardless of whether the [`Bool`](https://hackage.haskell.org/package/base/docs/Prelude.html#t:Bool) inside the\n",
    "`CoolBool` was [`True`](https://hackage.haskell.org/package/base/docs/Prelude.html#v:True) or [`False`](https://hackage.haskell.org/package/base/docs/Prelude.html#v:False):"
   ]
  },
  {
   "cell_type": "code",
   "execution_count": 109,
   "metadata": {
    "attributes": {
     "classes": [
      "haskell:hs"
     ],
     "id": "",
     "name": "\"code\""
    }
   },
   "outputs": [],
   "source": [
    "helloMe :: CoolBool -> String\n",
    "helloMe (CoolBool _) = \"hello\""
   ]
  },
  {
   "cell_type": "markdown",
   "metadata": {},
   "source": [
    "Instead of applying this function to a normal `CoolBool`, let's throw it a\n",
    "curveball and apply it to [`undefined`](https://hackage.haskell.org/package/base/docs/Prelude.html#v:undefined)!"
   ]
  },
  {
   "cell_type": "code",
   "execution_count": 110,
   "metadata": {
    "attributes": {
     "classes": [
      "haskell:hs"
     ],
     "id": "",
     "name": "\"code\""
    }
   },
   "outputs": [
    {
     "ename": "",
     "evalue": "",
     "output_type": "error",
     "traceback": [
      "Prelude.undefined\nCallStack (from HasCallStack):\n  error, called at libraries/base/GHC/Err.hs:74:14 in base:GHC.Err\n  undefined, called at <interactive>:1:9 in interactive:Ghci3256"
     ]
    }
   ],
   "source": [
    "helloMe undefined"
   ]
  },
  {
   "cell_type": "markdown",
   "metadata": {},
   "source": [
    "Yikes! An exception! Now why did this exception happen? Types defined\n",
    "with the *data* keyword can have multiple value constructors (even\n",
    "though `CoolBool` only has one). So in order to see if the value given to\n",
    "our function conforms to the `(CoolBool _)` pattern, Haskell has to\n",
    "evaluate the value just enough to see which value constructor was used\n",
    "when we made the value. And when we try to evaluate an [`undefined`](https://hackage.haskell.org/package/base/docs/Prelude.html#v:undefined) value,\n",
    "even a little, an exception is thrown.\n",
    "\n",
    "Instead of using the *data* keyword for `CoolBool`, let's try using\n",
    "*newtype*:"
   ]
  },
  {
   "cell_type": "code",
   "execution_count": 111,
   "metadata": {
    "attributes": {
     "classes": [
      "haskell:hs"
     ],
     "id": "",
     "name": "\"code\""
    }
   },
   "outputs": [],
   "source": [
    "newtype CoolBool = CoolBool { getCoolBool :: Bool }"
   ]
  },
  {
   "cell_type": "markdown",
   "metadata": {},
   "source": [
    "We don't have to change our `helloMe` function, because the pattern\n",
    "matching syntax is the same if you use *newtype* or *data* to define\n",
    "your type."
   ]
  },
  {
   "cell_type": "code",
   "execution_count": 112,
   "metadata": {
    "attributes": {
     "classes": [
      "haskell:hs"
     ],
     "id": "",
     "name": "\"code\""
    }
   },
   "outputs": [],
   "source": [
    "helloMe :: CoolBool -> String\n",
    "helloMe (CoolBool _) = \"hello\""
   ]
  },
  {
   "cell_type": "markdown",
   "metadata": {},
   "source": [
    "Let's do the same thing here and apply `helloMe` to an\n",
    "[`undefined`](https://hackage.haskell.org/package/base/docs/Prelude.html#v:undefined) value:"
   ]
  },
  {
   "cell_type": "code",
   "execution_count": 113,
   "metadata": {
    "attributes": {
     "classes": [
      "haskell:hs"
     ],
     "id": "",
     "name": "\"code\""
    }
   },
   "outputs": [
    {
     "data": {
      "text/plain": [
       "\"hello\""
      ]
     },
     "metadata": {},
     "output_type": "display_data"
    }
   ],
   "source": [
    "helloMe undefined"
   ]
  },
  {
   "cell_type": "markdown",
   "metadata": {},
   "source": [
    "<img src=\"img/shamrock.png\" title=\"top of the mornin to ya!!!\" style=\"background-color:white;float:right;margin-left:2em;\" />\n",
    "\n",
    "It worked! Hmmm, why is that? Well, like we've said, when we use\n",
    "*newtype*, Haskell can internally represent the values of the new type\n",
    "in the same way as the original values. It doesn't have to add another\n",
    "box around them, it just has to be aware of the values being of\n",
    "different types. And because Haskell knows that types made with the\n",
    "*newtype* keyword can only have one constructor, it doesn't have to\n",
    "evaluate the value passed to the function to make sure that it conforms\n",
    "to the `(CoolBool _)` pattern because *newtype* types can only have one\n",
    "possible value constructor and one field!\n",
    "\n",
    "This difference in behavior may seem trivial, but it's actually pretty\n",
    "important because it helps us realize that even though types defined\n",
    "with *data* and *newtype* behave similarly from the programmer's point\n",
    "of view because they both have value constructors and fields, they are\n",
    "actually two different mechanisms. Whereas *data* can be used to make\n",
    "your own types from scratch, *newtype* is for making a completely new\n",
    "type out of an existing type. Pattern matching on *newtype* values isn't\n",
    "like taking something out of a box (like it is with *data*), it's more\n",
    "about making a direct conversion from one type to another.\n",
    "\n",
    "### `type` vs. `newtype` vs. `data`\n",
    "\n",
    "At this point, you may be a bit confused about what exactly the\n",
    "difference between *type*, *data* and *newtype* is, so let's refresh our\n",
    "memory a bit.\n",
    "\n",
    "The *type* keyword is for making type synonyms. What that means is that\n",
    "we just give another name to an already existing type so that the type\n",
    "is easier to refer to. Say we did the following:"
   ]
  },
  {
   "cell_type": "code",
   "execution_count": 114,
   "metadata": {
    "attributes": {
     "classes": [
      "haskell:hs"
     ],
     "id": "",
     "name": "\"code\""
    }
   },
   "outputs": [],
   "source": [
    "type IntList = [Int]"
   ]
  },
  {
   "cell_type": "markdown",
   "metadata": {},
   "source": [
    "All this does is to allow us to refer to the `[Int]` type as `IntList`. They\n",
    "can be used interchangeably. We don't get an `IntList` value constructor\n",
    "or anything like that. Because `[Int]` and `IntList` are only two ways to\n",
    "refer to the same type, it doesn't matter which name we use in our type\n",
    "annotations:"
   ]
  },
  {
   "cell_type": "code",
   "execution_count": 115,
   "metadata": {
    "attributes": {
     "classes": [
      "haskell:hs"
     ],
     "id": "",
     "name": "\"code\""
    }
   },
   "outputs": [
    {
     "data": {
      "text/plain": [
       "[1,2,3,1,2,3]"
      ]
     },
     "metadata": {},
     "output_type": "display_data"
    }
   ],
   "source": [
    "([1,2,3] :: IntList) ++ ([1,2,3] :: [Int])"
   ]
  },
  {
   "cell_type": "markdown",
   "metadata": {},
   "source": [
    "We use type synonyms when we want to make our type signatures more\n",
    "descriptive by giving types names that tell us something about their\n",
    "purpose in the context of the functions where they're being used. For\n",
    "instance, when we used an association list of type `[(String,String)]` to\n",
    "represent a phone book, we gave it the type synonym of `PhoneBook` so that\n",
    "the type signatures of our functions were easier to read.\n",
    "\n",
    "The *newtype* keyword is for taking existing types and wrapping them in\n",
    "new types, mostly so that it's easier to make them instances of certain\n",
    "type classes. When we use *newtype* to wrap an existing type, the type\n",
    "that we get is separate from the original type. If we make the following\n",
    "*newtype*:"
   ]
  },
  {
   "cell_type": "code",
   "execution_count": 116,
   "metadata": {
    "attributes": {
     "classes": [
      "haskell:hs"
     ],
     "id": "",
     "name": "\"code\""
    }
   },
   "outputs": [],
   "source": [
    "newtype CharList = CharList { getCharList :: [Char] }"
   ]
  },
  {
   "cell_type": "markdown",
   "metadata": {},
   "source": [
    "We can't use [`++`](https://hackage.haskell.org/package/base/docs/Prelude.html#v:-43--43-) to put together a `CharList` and a list of type `[Char]`. We\n",
    "can't even use [`++`](https://hackage.haskell.org/package/base/docs/Prelude.html#v:-43--43-) to put together two `CharList`s, because [`++`](https://hackage.haskell.org/package/base/docs/Prelude.html#v:-43--43-) works only\n",
    "on lists and the `CharList` type isn't a list, even though it could be\n",
    "said that it contains one. We can, however, convert two `CharList`s to\n",
    "lists, [`++`](https://hackage.haskell.org/package/base/docs/Prelude.html#v:-43--43-) them and then convert that back to a `CharList`.\n",
    "\n",
    "When we use record syntax in our *newtype* declarations, we get\n",
    "functions for converting between the new type and the original type:\n",
    "namely the value constructor of our *newtype* and the function for\n",
    "extracting the value in its field. The new type also isn't automatically\n",
    "made an instance of the type classes that the original type belongs to,\n",
    "so we have to derive or manually write them.\n",
    "\n",
    "In practice, you can think of *newtype* declarations as *data*\n",
    "declarations that can only have one constructor and one field. If you\n",
    "catch yourself writing such a *data* declaration, consider using\n",
    "*newtype*.\n",
    "\n",
    "The *data* keyword is for making your own data types and with them, you\n",
    "can go hog wild. They can have as many constructors and fields as you\n",
    "wish and can be used to implement any algebraic data type by yourself.\n",
    "Everything from lists and [`Maybe`](https://hackage.haskell.org/package/base/docs/Prelude.html#t:Maybe)-like types to trees.\n",
    "\n",
    "If you just want your type signatures to look cleaner and be more\n",
    "descriptive, you probably want type synonyms. If you want to take an\n",
    "existing type and wrap it in a new type in order to make it an instance\n",
    "of a type class, chances are you're looking for a *newtype*. And if you\n",
    "want to make something completely new, odds are good that you're looking\n",
    "for the *data* keyword.\n",
    "\n",
    "<a name=\"monoids\"></a>\n",
    "\n",
    "Monoids\n",
    "-------\n",
    "\n",
    "<img src=\"img/pirateship.png\" title=\"wow this is pretty much the gayest pirate ship ever\" style=\"background-color:white;float:right;margin-left:2em;\"/>\n",
    "\n",
    "Type classes in Haskell are used to present an interface for types that\n",
    "have some behavior in common. We started out with simple type classes\n",
    "like `Eq`, which is for types whose values can be equated, and [`Ord`](https://hackage.haskell.org/package/base/docs/Prelude.html#t:Ord), which\n",
    "is for things that can be put in an order and then moved on to more\n",
    "interesting ones, like [`Functor`](https://hackage.haskell.org/package/base/docs/Prelude.html#t:Functor) and [`Applicative`](https://hackage.haskell.org/package/base/docs/Prelude.html#t:Applicative).\n",
    "\n",
    "When we make a type, we think about which behaviors it supports, i.e.\n",
    "what it can act like and then based on that we decide which type classes\n",
    "to make it an instance of. If it makes sense for values of our type to\n",
    "be equated, we make it an instance of the `Eq` type class. If we see that\n",
    "our type is some kind of functor, we make it an instance of [`Functor`](https://hackage.haskell.org/package/base/docs/Prelude.html#t:Functor), and\n",
    "so on.\n",
    "\n",
    "Now consider the following: [`*`](https://hackage.haskell.org/package/base/docs/Prelude.html#v:-42-) is a function that takes two numbers and\n",
    "multiplies them. If we multiply some number with a `1`, the result is\n",
    "always equal to that number. It doesn't matter if we do `1 * x` or\n",
    "`x * 1`, the result is always `x`. Similarly, [`++`](https://hackage.haskell.org/package/base/docs/Prelude.html#v:-43--43-) is also a function which takes\n",
    "two things and returns a third. Only instead of multiplying numbers, it\n",
    "takes two lists and concatenates them. And much like [`*`](https://hackage.haskell.org/package/base/docs/Prelude.html#v:-42-), it also has a\n",
    "certain value which doesn't change the other one when used with [`++`](https://hackage.haskell.org/package/base/docs/Prelude.html#v:-43--43-). That\n",
    "value is the empty list: `[]`."
   ]
  },
  {
   "cell_type": "code",
   "execution_count": 117,
   "metadata": {
    "attributes": {
     "classes": [
      "haskell:hs"
     ],
     "id": "",
     "name": "\"code\""
    }
   },
   "outputs": [
    {
     "data": {
      "text/plain": [
       "4"
      ]
     },
     "metadata": {},
     "output_type": "display_data"
    }
   ],
   "source": [
    "4 * 1"
   ]
  },
  {
   "cell_type": "code",
   "execution_count": 118,
   "metadata": {
    "attributes": {
     "classes": [
      "haskell:hs"
     ],
     "id": "",
     "name": "\"code\""
    }
   },
   "outputs": [
    {
     "data": {
      "text/plain": [
       "9"
      ]
     },
     "metadata": {},
     "output_type": "display_data"
    }
   ],
   "source": [
    "1 * 9"
   ]
  },
  {
   "cell_type": "code",
   "execution_count": 119,
   "metadata": {
    "attributes": {
     "classes": [
      "haskell:hs"
     ],
     "id": "",
     "name": "\"code\""
    }
   },
   "outputs": [
    {
     "data": {
      "text/plain": [
       "[1,2,3]"
      ]
     },
     "metadata": {},
     "output_type": "display_data"
    }
   ],
   "source": [
    "[1,2,3] ++ []"
   ]
  },
  {
   "cell_type": "code",
   "execution_count": 120,
   "metadata": {
    "attributes": {
     "classes": [
      "haskell:hs"
     ],
     "id": "",
     "name": "\"code\""
    }
   },
   "outputs": [
    {
     "data": {
      "text/plain": [
       "[0.5,2.5]"
      ]
     },
     "metadata": {},
     "output_type": "display_data"
    }
   ],
   "source": [
    "[] ++ [0.5, 2.5]"
   ]
  },
  {
   "cell_type": "markdown",
   "metadata": {},
   "source": [
    "It seems that both [`*`](https://hackage.haskell.org/package/base/docs/Prelude.html#v:-42-) together with `1` and [`++`](https://hackage.haskell.org/package/base/docs/Prelude.html#v:-43--43-) along with `[]` share some\n",
    "common properties:\n",
    "\n",
    "-   The function takes two parameters.\n",
    "-   The parameters and the returned value have the same type.\n",
    "-   There exists such a value that doesn't change other values when used\n",
    "    with the binary function.\n",
    "\n",
    "There's another thing that these two operations have in common that may\n",
    "not be as obvious as our previous observations: when we have three or\n",
    "more values and we want to use the binary function to reduce them to a\n",
    "single result, the order in which we apply the binary function to the\n",
    "values doesn't matter. It doesn't matter if we do `(3 * 4) * 5` or\n",
    "`3 * (4 * 5)`. Either way, the result is `60`. The same goes for [`++`](https://hackage.haskell.org/package/base/docs/Prelude.html#v:-43--43-):"
   ]
  },
  {
   "cell_type": "code",
   "execution_count": 121,
   "metadata": {
    "attributes": {
     "classes": [
      "haskell:hs"
     ],
     "id": "",
     "name": "\"code\""
    }
   },
   "outputs": [
    {
     "data": {
      "text/plain": [
       "240"
      ]
     },
     "metadata": {},
     "output_type": "display_data"
    }
   ],
   "source": [
    "(3 * 2) * (8 * 5)"
   ]
  },
  {
   "cell_type": "code",
   "execution_count": 122,
   "metadata": {
    "attributes": {
     "classes": [
      "haskell:hs"
     ],
     "id": "",
     "name": "\"code\""
    }
   },
   "outputs": [
    {
     "data": {
      "text/plain": [
       "240"
      ]
     },
     "metadata": {},
     "output_type": "display_data"
    }
   ],
   "source": [
    "3 * (2 * (8 * 5))"
   ]
  },
  {
   "cell_type": "code",
   "execution_count": 123,
   "metadata": {
    "attributes": {
     "classes": [
      "haskell:hs"
     ],
     "id": "",
     "name": "\"code\""
    }
   },
   "outputs": [
    {
     "data": {
      "text/plain": [
       "\"ladida\""
      ]
     },
     "metadata": {},
     "output_type": "display_data"
    }
   ],
   "source": [
    "\"la\" ++ (\"di\" ++ \"da\")"
   ]
  },
  {
   "cell_type": "code",
   "execution_count": 124,
   "metadata": {
    "attributes": {
     "classes": [
      "haskell:hs"
     ],
     "id": "",
     "name": "\"code\""
    }
   },
   "outputs": [
    {
     "data": {
      "text/plain": [
       "\"ladida\""
      ]
     },
     "metadata": {},
     "output_type": "display_data"
    }
   ],
   "source": [
    "(\"la\" ++ \"di\") ++ \"da\""
   ]
  },
  {
   "cell_type": "markdown",
   "metadata": {},
   "source": [
    "We call this property *associativity*. [`*`](https://hackage.haskell.org/package/base/docs/Prelude.html#v:-42-) is associative, and so is [`++`](https://hackage.haskell.org/package/base/docs/Prelude.html#v:-43--43-),\n",
    "but [`-`](https://hackage.haskell.org/package/base/docs/Prelude.html#v:-45-), for example, is not. The expressions `(5 - 3) - 4` and `5 - (3 - 4)`\n",
    "result in different numbers.\n",
    "\n",
    "By noticing and writing down these properties, we have chanced upon\n",
    "*monoids*! A monoid is when you have an associative binary function and\n",
    "a value which acts as an identity with respect to that function. When\n",
    "something acts as an identity with respect to a function, it means that\n",
    "when called with that function and some other value, the result is\n",
    "always equal to that other value. `1` is the identity with respect to [`*`](https://hackage.haskell.org/package/base/docs/Prelude.html#v:-42-)\n",
    "and `[]` is the identity with respect to [`++`](https://hackage.haskell.org/package/base/docs/Prelude.html#v:-43--43-). There are a lot of other\n",
    "monoids to be found in the world of Haskell, which is why the [`Monoid`](https://hackage.haskell.org/package/base/docs/Prelude.html#t:Monoid)\n",
    "type class exists. It's for types which can act like monoids. Let's see\n",
    "how the type class is defined:"
   ]
  },
  {
   "cell_type": "markdown",
   "metadata": {
    "attributes": {
     "classes": [
      "haskell:hs"
     ],
     "id": "",
     "name": "\"code\""
    }
   },
   "source": [
    "<pre><code>class Monoid m where\n",
    "    mempty :: m\n",
    "    mappend :: m -> m -> m\n",
    "    mconcat :: [m] -> m\n",
    "    mconcat = foldr mappend mempty</code></pre>"
   ]
  },
  {
   "cell_type": "markdown",
   "metadata": {},
   "source": [
    "<img src=\"img/balloondog.png\" title=\"woof dee do!!!\" style=\"background-color:white;float:right;margin-left:2em;\" />\n",
    "\n",
    "The [`Monoid`](https://hackage.haskell.org/package/base/docs/Prelude.html#t:Monoid) type class is defined in `import Data.Monoid`. Let's take some\n",
    "time and get properly acquainted with it.\n",
    "\n",
    "First of all, we see that only concrete types can be made instances of\n",
    "[`Monoid`](https://hackage.haskell.org/package/base/docs/Prelude.html#t:Monoid), because the `m` in the type class definition doesn't take any type\n",
    "parameters. This is different from [`Functor`](https://hackage.haskell.org/package/base/docs/Prelude.html#t:Functor) and [`Applicative`](https://hackage.haskell.org/package/base/docs/Prelude.html#t:Applicative), which\n",
    "require their instances to be type constructors which take one\n",
    "parameter.\n",
    "\n",
    "The first function is [`mempty`](https://hackage.haskell.org/package/base/docs/Prelude.html#v:mempty). It's not really a function, since it\n",
    "doesn't take parameters, so it's a polymorphic constant, kind of like\n",
    "[`minBound`](https://hackage.haskell.org/package/base/docs/Prelude.html#v:minBound) from [`Bounded`](https://hackage.haskell.org/package/base/docs/Prelude.html#t:Bounded). [`mempty`](https://hackage.haskell.org/package/base/docs/Prelude.html#v:mempty) represents the identity value for a\n",
    "particular monoid.\n",
    "\n",
    "Next up, we have [`mappend`](https://hackage.haskell.org/package/base/docs/Prelude.html#v:mappend), which, as you've probably guessed, is the\n",
    "binary function. It takes two values of the same type and returns a\n",
    "value of that type as well. It's worth noting that the decision to name\n",
    "[`mappend`](https://hackage.haskell.org/package/base/docs/Prelude.html#v:mappend) as it's named was kind of unfortunate, because it implies that\n",
    "we're appending two things in some way. While [`++`](https://hackage.haskell.org/package/base/docs/Prelude.html#v:-43--43-) does take two lists and\n",
    "append one to the other, [`*`](https://hackage.haskell.org/package/base/docs/Prelude.html#v:-42-) doesn't really do any appending, it just\n",
    "multiplies two numbers together. When we meet other instances of [`Monoid`](https://hackage.haskell.org/package/base/docs/Prelude.html#t:Monoid),\n",
    "we'll see that most of them don't append values either, so avoid\n",
    "thinking in terms of appending and just think in terms of [`mappend`](https://hackage.haskell.org/package/base/docs/Prelude.html#v:mappend) being\n",
    "a binary function that takes two monoid values and returns a third.\n",
    "\n",
    "The last function in this type class definition is [`mconcat`](https://hackage.haskell.org/package/base/docs/Prelude.html#v:mconcat). It takes a\n",
    "list of monoid values and reduces them to a single value by doing\n",
    "[`mappend`](https://hackage.haskell.org/package/base/docs/Prelude.html#v:mappend) between the list's elements. It has a default implementation,\n",
    "which just takes [`mempty`](https://hackage.haskell.org/package/base/docs/Prelude.html#v:mempty) as a starting value and folds the list from the\n",
    "right with [`mappend`](https://hackage.haskell.org/package/base/docs/Prelude.html#v:mappend). Because the default implementation is fine for most\n",
    "instances, we won't concern ourselves with [`mconcat`](https://hackage.haskell.org/package/base/docs/Prelude.html#v:mconcat) too much from now on.\n",
    "When making a type an instance of [`Monoid`](https://hackage.haskell.org/package/base/docs/Prelude.html#t:Monoid), it suffices to just implement\n",
    "[`mempty`](https://hackage.haskell.org/package/base/docs/Prelude.html#v:mempty) and [`mappend`](https://hackage.haskell.org/package/base/docs/Prelude.html#v:mappend). The reason [`mconcat`](https://hackage.haskell.org/package/base/docs/Prelude.html#v:mconcat) is there at all is because for\n",
    "some instances, there might be a more efficient way to implement\n",
    "[`mconcat`](https://hackage.haskell.org/package/base/docs/Prelude.html#v:mconcat), but for most instances the default implementation is just fine.\n",
    "\n",
    "Before moving on to specific instances of [`Monoid`](https://hackage.haskell.org/package/base/docs/Prelude.html#t:Monoid), let's take a brief\n",
    "look at the monoid laws. We mentioned that there has to be a value that\n",
    "acts as the identity with respect to the binary function and that the\n",
    "binary function has to be associative. It's possible to make instances\n",
    "of [`Monoid`](https://hackage.haskell.org/package/base/docs/Prelude.html#t:Monoid) that don't follow these rules, but such instances are of no\n",
    "use to anyone because when using the [`Monoid`](https://hackage.haskell.org/package/base/docs/Prelude.html#t:Monoid) type class, we rely on its\n",
    "instances acting like monoids. Otherwise, what's the point? That's why\n",
    "when making instances, we have to make sure they follow these laws:\n",
    "\n",
    "-   **``mempty `mappend` x = x``**\n",
    "-   **``x `mappend` mempty = x``**\n",
    "-   **``(x `mappend` y) `mappend` z = x `mappend` (y `mappend` z)``**\n",
    "\n",
    "The first two state that [`mempty`](https://hackage.haskell.org/package/base/docs/Prelude.html#v:mempty) has to act as the identity with respect\n",
    "to [`mappend`](https://hackage.haskell.org/package/base/docs/Prelude.html#v:mappend) and the third says that [`mappend`](https://hackage.haskell.org/package/base/docs/Prelude.html#v:mappend) has to be associative i.e.\n",
    "that it the order in which we use [`mappend`](https://hackage.haskell.org/package/base/docs/Prelude.html#v:mappend) to reduce several monoid\n",
    "values into one doesn't matter. Haskell doesn't enforce these laws, so\n",
    "we as the programmer have to be careful that our instances do indeed\n",
    "obey them.\n",
    "\n",
    "### Lists are monoids\n",
    "\n",
    "Yes, lists are monoids! Like we've seen, the [`++`](https://hackage.haskell.org/package/base/docs/Prelude.html#v:-43--43-) function and the empty\n",
    "list `[]` form a monoid. The instance is very simple:"
   ]
  },
  {
   "cell_type": "markdown",
   "metadata": {
    "attributes": {
     "classes": [
      "haskell:hs"
     ],
     "id": "",
     "name": "\"code\""
    }
   },
   "source": [
    "<pre><code>instance Monoid [a] where\n",
    "    mempty = []\n",
    "    mappend = (++)</code></pre>"
   ]
  },
  {
   "cell_type": "markdown",
   "metadata": {},
   "source": [
    "Lists are an instance of the [`Monoid`](https://hackage.haskell.org/package/base/docs/Prelude.html#t:Monoid) type class regardless of the type of\n",
    "the elements they hold. Notice that we wrote `instance Monoid [a]` and not\n",
    "`instance Monoid []`, because [`Monoid`](https://hackage.haskell.org/package/base/docs/Prelude.html#t:Monoid) requires a concrete type for an\n",
    "instance.\n",
    "\n",
    "Giving this a test run, we encounter no surprises:"
   ]
  },
  {
   "cell_type": "code",
   "execution_count": 125,
   "metadata": {
    "attributes": {
     "classes": [
      "haskell:hs"
     ],
     "id": "",
     "name": "\"code\""
    }
   },
   "outputs": [
    {
     "data": {
      "text/plain": [
       "[1,2,3,4,5,6]"
      ]
     },
     "metadata": {},
     "output_type": "display_data"
    }
   ],
   "source": [
    "[1,2,3] `mappend` [4,5,6]"
   ]
  },
  {
   "cell_type": "code",
   "execution_count": 126,
   "metadata": {
    "attributes": {
     "classes": [
      "haskell:hs"
     ],
     "id": "",
     "name": "\"code\""
    }
   },
   "outputs": [
    {
     "data": {
      "text/plain": [
       "\"onetwotree\""
      ]
     },
     "metadata": {},
     "output_type": "display_data"
    }
   ],
   "source": [
    "(\"one\" `mappend` \"two\") `mappend` \"tree\""
   ]
  },
  {
   "cell_type": "code",
   "execution_count": 127,
   "metadata": {
    "attributes": {
     "classes": [
      "haskell:hs"
     ],
     "id": "",
     "name": "\"code\""
    }
   },
   "outputs": [
    {
     "data": {
      "text/plain": [
       "\"onetwotree\""
      ]
     },
     "metadata": {},
     "output_type": "display_data"
    }
   ],
   "source": [
    "\"one\" `mappend` (\"two\" `mappend` \"tree\")"
   ]
  },
  {
   "cell_type": "code",
   "execution_count": 128,
   "metadata": {
    "attributes": {
     "classes": [
      "haskell:hs"
     ],
     "id": "",
     "name": "\"code\""
    }
   },
   "outputs": [
    {
     "data": {
      "text/plain": [
       "\"onetwotree\""
      ]
     },
     "metadata": {},
     "output_type": "display_data"
    }
   ],
   "source": [
    "\"one\" `mappend` \"two\" `mappend` \"tree\""
   ]
  },
  {
   "cell_type": "code",
   "execution_count": 129,
   "metadata": {
    "attributes": {
     "classes": [
      "haskell:hs"
     ],
     "id": "",
     "name": "\"code\""
    }
   },
   "outputs": [
    {
     "data": {
      "text/plain": [
       "\"pang\""
      ]
     },
     "metadata": {},
     "output_type": "display_data"
    }
   ],
   "source": [
    "\"pang\" `mappend` mempty"
   ]
  },
  {
   "cell_type": "code",
   "execution_count": 130,
   "metadata": {
    "attributes": {
     "classes": [
      "haskell:hs"
     ],
     "id": "",
     "name": "\"code\""
    }
   },
   "outputs": [
    {
     "data": {
      "text/plain": [
       "[1,2,3,6,9]"
      ]
     },
     "metadata": {},
     "output_type": "display_data"
    }
   ],
   "source": [
    "mconcat [[1,2],[3,6],[9]]"
   ]
  },
  {
   "cell_type": "code",
   "execution_count": 131,
   "metadata": {
    "attributes": {
     "classes": [
      "haskell:hs"
     ],
     "id": "",
     "name": "\"code\""
    }
   },
   "outputs": [
    {
     "data": {
      "text/plain": [
       "[]"
      ]
     },
     "metadata": {},
     "output_type": "display_data"
    }
   ],
   "source": [
    "(mempty :: [a])"
   ]
  },
  {
   "cell_type": "markdown",
   "metadata": {},
   "source": [
    "<img src=\"img/smug.png\" title=\"smug as hell\" style=\"background-color:white;float:left;margin-right:2em;\" />\n",
    "\n",
    "Notice that in the last line, we had to write an explicit type\n",
    "annotation, because if we just did [`mempty`](https://hackage.haskell.org/package/base/docs/Prelude.html#v:mempty), GHCi wouldn't know which\n",
    "instance to use, so we had to say we want the list instance. We were\n",
    "able to use the general type of `[a]` (as opposed to specifying `[Int]` or\n",
    "`[String]`) because the empty list can act as if it contains any type.\n",
    "\n",
    "Because [`mconcat`](https://hackage.haskell.org/package/base/docs/Prelude.html#v:mconcat) has a default implementation, we get it for free when we\n",
    "make something an instance of [`Monoid`](https://hackage.haskell.org/package/base/docs/Prelude.html#t:Monoid). In the case of the list, [`mconcat`](https://hackage.haskell.org/package/base/docs/Prelude.html#v:mconcat)\n",
    "turns out to be just [`concat`](https://hackage.haskell.org/package/base/docs/Prelude.html#v:concat). It takes a list of lists and flattens it,\n",
    "because that's the equivalent of doing [`++`](https://hackage.haskell.org/package/base/docs/Prelude.html#v:-43--43-) between all the adjacent lists\n",
    "in a list.\n",
    "\n",
    "The monoid laws do indeed hold for the list instance. When we have\n",
    "several lists and we [`mappend`](https://hackage.haskell.org/package/base/docs/Prelude.html#v:mappend) (or [`++`](https://hackage.haskell.org/package/base/docs/Prelude.html#v:-43--43-)) them together, it doesn't matter\n",
    "which ones we do first, because they're just joined at the ends anyway.\n",
    "Also, the empty list acts as the identity so all is well. Notice that\n",
    "monoids don't require that ``a `mappend` b`` be equal to ``b `mappend` a``.\n",
    "In the case of the list, they clearly aren't:"
   ]
  },
  {
   "cell_type": "code",
   "execution_count": 132,
   "metadata": {
    "attributes": {
     "classes": [
      "haskell:hs"
     ],
     "id": "",
     "name": "\"code\""
    }
   },
   "outputs": [
    {
     "data": {
      "text/plain": [
       "\"onetwo\""
      ]
     },
     "metadata": {},
     "output_type": "display_data"
    }
   ],
   "source": [
    "\"one\" `mappend` \"two\""
   ]
  },
  {
   "cell_type": "code",
   "execution_count": 133,
   "metadata": {
    "attributes": {
     "classes": [
      "haskell:hs"
     ],
     "id": "",
     "name": "\"code\""
    }
   },
   "outputs": [
    {
     "data": {
      "text/plain": [
       "\"twoone\""
      ]
     },
     "metadata": {},
     "output_type": "display_data"
    }
   ],
   "source": [
    "\"two\" `mappend` \"one\""
   ]
  },
  {
   "cell_type": "markdown",
   "metadata": {},
   "source": [
    "And that's okay. The fact that for multiplication `3 * 5` and `5 * 3` are\n",
    "the same is just a property of multiplication, but it doesn't hold for\n",
    "all (and indeed, most) monoids.\n",
    "\n",
    "### [`Product`](https://hackage.haskell.org/package/base/docs/Data-Functor-Product.html) and [`Sum`](https://hackage.haskell.org/package/base/docs/Data-Functor-Sum.html)\n",
    "\n",
    "We already examined one way for numbers to be considered monoids. Just\n",
    "have the binary function be [`*`](https://hackage.haskell.org/package/base/docs/Prelude.html#v:-42-) and the identity value `1`. It turns out\n",
    "that that's not the only way for numbers to be monoids. Another way is\n",
    "to have the binary function be [`+`](https://hackage.haskell.org/package/base/docs/Prelude.html#v:-43-) and the identity value `0`:"
   ]
  },
  {
   "cell_type": "code",
   "execution_count": 134,
   "metadata": {
    "attributes": {
     "classes": [
      "haskell:hs"
     ],
     "id": "",
     "name": "\"code\""
    }
   },
   "outputs": [
    {
     "data": {
      "text/plain": [
       "4"
      ]
     },
     "metadata": {},
     "output_type": "display_data"
    }
   ],
   "source": [
    "0 + 4"
   ]
  },
  {
   "cell_type": "code",
   "execution_count": 135,
   "metadata": {
    "attributes": {
     "classes": [
      "haskell:hs"
     ],
     "id": "",
     "name": "\"code\""
    }
   },
   "outputs": [
    {
     "data": {
      "text/plain": [
       "5"
      ]
     },
     "metadata": {},
     "output_type": "display_data"
    }
   ],
   "source": [
    "5 + 0"
   ]
  },
  {
   "cell_type": "code",
   "execution_count": 136,
   "metadata": {
    "attributes": {
     "classes": [
      "haskell:hs"
     ],
     "id": "",
     "name": "\"code\""
    }
   },
   "outputs": [
    {
     "data": {
      "text/plain": [
       "9"
      ]
     },
     "metadata": {},
     "output_type": "display_data"
    }
   ],
   "source": [
    "(1 + 3) + 5"
   ]
  },
  {
   "cell_type": "code",
   "execution_count": 137,
   "metadata": {
    "attributes": {
     "classes": [
      "haskell:hs"
     ],
     "id": "",
     "name": "\"code\""
    }
   },
   "outputs": [
    {
     "data": {
      "text/plain": [
       "9"
      ]
     },
     "metadata": {},
     "output_type": "display_data"
    }
   ],
   "source": [
    "1 + (3 + 5)"
   ]
  },
  {
   "cell_type": "markdown",
   "metadata": {},
   "source": [
    "The monoid laws hold, because if you add 0 to any number, the result is\n",
    "that number. And addition is also associative, so we get no problems\n",
    "there. So now that there are two equally valid ways for numbers to be\n",
    "monoids, which way do choose? Well, we don't have to. Remember, when\n",
    "there are several ways for some type to be an instance of the same type\n",
    "class, we can wrap that type in a *newtype* and then make the new type\n",
    "an instance of the type class in a different way. We can have our cake\n",
    "and eat it too."
   ]
  },
  {
   "cell_type": "code",
   "execution_count": 138,
   "metadata": {},
   "outputs": [],
   "source": [
    "import Data.Monoid"
   ]
  },
  {
   "cell_type": "markdown",
   "metadata": {},
   "source": [
    "The `Data.Monoid` module exports two types for this, namely [`Product`](https://hackage.haskell.org/package/base/docs/Data-Functor-Product.html) and\n",
    "[`Sum`](https://hackage.haskell.org/package/base/docs/Data-Functor-Sum.html). [`Product`](https://hackage.haskell.org/package/base/docs/Data-Functor-Product.html) is defined like this:"
   ]
  },
  {
   "cell_type": "markdown",
   "metadata": {
    "attributes": {
     "classes": [
      "haskell:hs"
     ],
     "id": "",
     "name": "\"code\""
    }
   },
   "source": [
    "<pre><code>newtype Product a =  Product { getProduct :: a }\n",
    "    deriving (Eq, Ord, Read, Show, Bounded)</code></pre>"
   ]
  },
  {
   "cell_type": "markdown",
   "metadata": {},
   "source": [
    "Simple, just a *newtype* wrapper with one type parameter along with some\n",
    "derived instances. Its instance for [`Monoid`](https://hackage.haskell.org/package/base/docs/Prelude.html#t:Monoid) goes a little something like\n",
    "this:"
   ]
  },
  {
   "cell_type": "markdown",
   "metadata": {
    "attributes": {
     "classes": [
      "haskell:hs"
     ],
     "id": "",
     "name": "\"code\""
    }
   },
   "source": [
    "<pre><code>instance Num a => Monoid (Product a) where\n",
    "    mempty = Product 1\n",
    "    Product x `mappend` Product y = Product (x * y)</code></pre>"
   ]
  },
  {
   "cell_type": "markdown",
   "metadata": {},
   "source": [
    "[`mempty`](https://hackage.haskell.org/package/base/docs/Prelude.html#v:mempty) is just `1` wrapped in a [`Product`](https://hackage.haskell.org/package/base/docs/Data-Functor-Product.html) constructor. [`mappend`](https://hackage.haskell.org/package/base/docs/Prelude.html#v:mappend) pattern\n",
    "matches on the [`Product`](https://hackage.haskell.org/package/base/docs/Data-Functor-Product.html) constructor, multiplies the two numbers and then\n",
    "wraps the resulting number back. As you can see, there's a `Num a` class\n",
    "constraint. So this means that `Product a` is an instance of [`Monoid`](https://hackage.haskell.org/package/base/docs/Prelude.html#t:Monoid) for\n",
    "all `a`'s that are already an instance of [`Num`](https://hackage.haskell.org/package/base/docs/Prelude.html#t:Num). To use `Product a` as a\n",
    "monoid, we have to do some *newtype* wrapping and unwrapping:"
   ]
  },
  {
   "cell_type": "code",
   "execution_count": 139,
   "metadata": {
    "attributes": {
     "classes": [
      "haskell:hs"
     ],
     "id": "",
     "name": "\"code\""
    }
   },
   "outputs": [
    {
     "data": {
      "text/plain": [
       "27"
      ]
     },
     "metadata": {},
     "output_type": "display_data"
    }
   ],
   "source": [
    "getProduct $ Product 3 `mappend` Product 9"
   ]
  },
  {
   "cell_type": "code",
   "execution_count": 140,
   "metadata": {
    "attributes": {
     "classes": [
      "haskell:hs"
     ],
     "id": "",
     "name": "\"code\""
    }
   },
   "outputs": [
    {
     "data": {
      "text/plain": [
       "3"
      ]
     },
     "metadata": {},
     "output_type": "display_data"
    }
   ],
   "source": [
    "getProduct $ Product 3 `mappend` mempty"
   ]
  },
  {
   "cell_type": "code",
   "execution_count": 141,
   "metadata": {
    "attributes": {
     "classes": [
      "haskell:hs"
     ],
     "id": "",
     "name": "\"code\""
    }
   },
   "outputs": [
    {
     "data": {
      "text/plain": [
       "24"
      ]
     },
     "metadata": {},
     "output_type": "display_data"
    }
   ],
   "source": [
    "getProduct $ Product 3 `mappend` Product 4 `mappend` Product 2"
   ]
  },
  {
   "cell_type": "code",
   "execution_count": 142,
   "metadata": {
    "attributes": {
     "classes": [
      "haskell:hs"
     ],
     "id": "",
     "name": "\"code\""
    }
   },
   "outputs": [
    {
     "data": {
      "text/plain": [
       "24"
      ]
     },
     "metadata": {},
     "output_type": "display_data"
    }
   ],
   "source": [
    "getProduct . mconcat . map Product $ [3,4,2]"
   ]
  },
  {
   "cell_type": "markdown",
   "metadata": {},
   "source": [
    "This is nice as a showcase of the [`Monoid`](https://hackage.haskell.org/package/base/docs/Prelude.html#t:Monoid) type class, but no one in their\n",
    "right mind would use this way of multiplying numbers instead of just\n",
    "writing `3 * 9` and `3 * 1`. But a bit later, we'll see how these [`Monoid`](https://hackage.haskell.org/package/base/docs/Prelude.html#t:Monoid)\n",
    "instances that may seem trivial at this time can come in handy.\n",
    "\n",
    "[`Sum`](https://hackage.haskell.org/package/base/docs/Data-Functor-Sum.html) is defined like [`Product`](https://hackage.haskell.org/package/base/docs/Data-Functor-Product.html) and the instance is similar as well. We use\n",
    "it in the same way:"
   ]
  },
  {
   "cell_type": "code",
   "execution_count": 143,
   "metadata": {
    "attributes": {
     "classes": [
      "haskell:hs"
     ],
     "id": "",
     "name": "\"code\""
    }
   },
   "outputs": [
    {
     "data": {
      "text/plain": [
       "11"
      ]
     },
     "metadata": {},
     "output_type": "display_data"
    }
   ],
   "source": [
    "getSum $ Sum 2 `mappend` Sum 9"
   ]
  },
  {
   "cell_type": "code",
   "execution_count": 144,
   "metadata": {
    "attributes": {
     "classes": [
      "haskell:hs"
     ],
     "id": "",
     "name": "\"code\""
    }
   },
   "outputs": [
    {
     "data": {
      "text/plain": [
       "3"
      ]
     },
     "metadata": {},
     "output_type": "display_data"
    }
   ],
   "source": [
    "getSum $ mempty `mappend` Sum 3"
   ]
  },
  {
   "cell_type": "code",
   "execution_count": 145,
   "metadata": {
    "attributes": {
     "classes": [
      "haskell:hs"
     ],
     "id": "",
     "name": "\"code\""
    }
   },
   "outputs": [
    {
     "data": {
      "text/plain": [
       "6"
      ]
     },
     "metadata": {},
     "output_type": "display_data"
    }
   ],
   "source": [
    "getSum . mconcat . map Sum $ [1,2,3]"
   ]
  },
  {
   "cell_type": "markdown",
   "metadata": {},
   "source": [
    "### [`Any`](https://hackage.haskell.org/package/base/docs/Data-Monoid.html#t:Any) and [`All`](https://hackage.haskell.org/package/base/docs/Data-Monoid.html#t:All)\n",
    "\n",
    "Another type which can act like a monoid in two distinct but equally\n",
    "valid ways is [`Bool`](https://hackage.haskell.org/package/base/docs/Prelude.html#t:Bool). The first way is to have the *or* function [`||`](https://hackage.haskell.org/package/base/docs/Prelude.html#v:-124--124-) act as\n",
    "the binary function along with [`False`](https://hackage.haskell.org/package/base/docs/Prelude.html#v:False) as the identity value. The way *or*\n",
    "works in logic is that if any of its two parameters is [`True`](https://hackage.haskell.org/package/base/docs/Prelude.html#v:True), it returns\n",
    "[`True`](https://hackage.haskell.org/package/base/docs/Prelude.html#v:True), otherwise it returns [`False`](https://hackage.haskell.org/package/base/docs/Prelude.html#v:False). So if we use [`False`](https://hackage.haskell.org/package/base/docs/Prelude.html#v:False) as the identity\n",
    "value, it will return [`False`](https://hackage.haskell.org/package/base/docs/Prelude.html#v:False) when *or*-ed with [`False`](https://hackage.haskell.org/package/base/docs/Prelude.html#v:False) and [`True`](https://hackage.haskell.org/package/base/docs/Prelude.html#v:True) when\n",
    "*or*-ed with [`True`](https://hackage.haskell.org/package/base/docs/Prelude.html#v:True). The [`Any`](https://hackage.haskell.org/package/base/docs/Data-Monoid.html#t:Any) *newtype* constructor is an instance of\n",
    "[`Monoid`](https://hackage.haskell.org/package/base/docs/Prelude.html#t:Monoid) in this fashion. It's defined like this:"
   ]
  },
  {
   "cell_type": "markdown",
   "metadata": {
    "attributes": {
     "classes": [
      "haskell:hs"
     ],
     "id": "",
     "name": "\"code\""
    }
   },
   "source": [
    "<pre><code>newtype Any = Any { getAny :: Bool }\n",
    "    deriving (Eq, Ord, Read, Show, Bounded)</code></pre>"
   ]
  },
  {
   "cell_type": "markdown",
   "metadata": {},
   "source": [
    "Its instance looks goes like so:"
   ]
  },
  {
   "cell_type": "markdown",
   "metadata": {
    "attributes": {
     "classes": [
      "haskell:hs"
     ],
     "id": "",
     "name": "\"code\""
    }
   },
   "source": [
    "<pre><code>instance Monoid Any where\n",
    "        mempty = Any False\n",
    "        Any x `mappend` Any y = Any (x || y)</code></pre>"
   ]
  },
  {
   "cell_type": "markdown",
   "metadata": {},
   "source": [
    "The reason it's called [`Any`](https://hackage.haskell.org/package/base/docs/Data-Monoid.html#t:Any) is because ``x `mappend` y`` will be [`True`](https://hackage.haskell.org/package/base/docs/Prelude.html#v:True) if\n",
    "*any* one of those two is [`True`](https://hackage.haskell.org/package/base/docs/Prelude.html#v:True). Even if three or more [`Any`](https://hackage.haskell.org/package/base/docs/Data-Monoid.html#t:Any) wrapped [`Bool`](https://hackage.haskell.org/package/base/docs/Prelude.html#t:Bool)s\n",
    "are [`mappend`](https://hackage.haskell.org/package/base/docs/Prelude.html#v:mappend)ed together, the result will hold [`True`](https://hackage.haskell.org/package/base/docs/Prelude.html#v:True) if any of them are\n",
    "[`True`](https://hackage.haskell.org/package/base/docs/Prelude.html#v:True):"
   ]
  },
  {
   "cell_type": "code",
   "execution_count": 146,
   "metadata": {
    "attributes": {
     "classes": [
      "haskell:hs"
     ],
     "id": "",
     "name": "\"code\""
    }
   },
   "outputs": [
    {
     "data": {
      "text/plain": [
       "True"
      ]
     },
     "metadata": {},
     "output_type": "display_data"
    }
   ],
   "source": [
    "getAny $ Any True `mappend` Any False"
   ]
  },
  {
   "cell_type": "code",
   "execution_count": 147,
   "metadata": {
    "attributes": {
     "classes": [
      "haskell:hs"
     ],
     "id": "",
     "name": "\"code\""
    }
   },
   "outputs": [
    {
     "data": {
      "text/plain": [
       "True"
      ]
     },
     "metadata": {},
     "output_type": "display_data"
    }
   ],
   "source": [
    "getAny $ mempty `mappend` Any True"
   ]
  },
  {
   "cell_type": "code",
   "execution_count": 148,
   "metadata": {
    "attributes": {
     "classes": [
      "haskell:hs"
     ],
     "id": "",
     "name": "\"code\""
    }
   },
   "outputs": [
    {
     "data": {
      "text/plain": [
       "True"
      ]
     },
     "metadata": {},
     "output_type": "display_data"
    }
   ],
   "source": [
    "getAny . mconcat . map Any $ [False, False, False, True]"
   ]
  },
  {
   "cell_type": "code",
   "execution_count": 149,
   "metadata": {
    "attributes": {
     "classes": [
      "haskell:hs"
     ],
     "id": "",
     "name": "\"code\""
    }
   },
   "outputs": [
    {
     "data": {
      "text/plain": [
       "False"
      ]
     },
     "metadata": {},
     "output_type": "display_data"
    }
   ],
   "source": [
    "getAny $ mempty `mappend` mempty"
   ]
  },
  {
   "cell_type": "markdown",
   "metadata": {},
   "source": [
    "The other way for [`Bool`](https://hackage.haskell.org/package/base/docs/Prelude.html#t:Bool) to be an instance of [`Monoid`](https://hackage.haskell.org/package/base/docs/Prelude.html#t:Monoid) is to kind of do the\n",
    "opposite: have [`&&`](https://hackage.haskell.org/package/base/docs/Prelude.html#v:-38--38-) be the binary function and then make [`True`](https://hackage.haskell.org/package/base/docs/Prelude.html#v:True) the identity\n",
    "value. Logical *and* will return [`True`](https://hackage.haskell.org/package/base/docs/Prelude.html#v:True) only if both of its parameters are\n",
    "[`True`](https://hackage.haskell.org/package/base/docs/Prelude.html#v:True). This is the *newtype* declaration, nothing fancy:"
   ]
  },
  {
   "cell_type": "markdown",
   "metadata": {
    "attributes": {
     "classes": [
      "haskell:hs"
     ],
     "id": "",
     "name": "\"code\""
    }
   },
   "source": [
    "<pre><code>newtype All = All { getAll :: Bool }\n",
    "        deriving (Eq, Ord, Read, Show, Bounded)</code></pre>"
   ]
  },
  {
   "cell_type": "markdown",
   "metadata": {},
   "source": [
    "And this is the instance:"
   ]
  },
  {
   "cell_type": "markdown",
   "metadata": {
    "attributes": {
     "classes": [
      "haskell:hs"
     ],
     "id": "",
     "name": "\"code\""
    }
   },
   "source": [
    "<pre><code>instance Monoid All where\n",
    "        mempty = All True\n",
    "        All x `mappend` All y = All (x && y)</code></pre>"
   ]
  },
  {
   "cell_type": "markdown",
   "metadata": {},
   "source": [
    "When we [`mappend`](https://hackage.haskell.org/package/base/docs/Prelude.html#v:mappend) values of the [`All`](https://hackage.haskell.org/package/base/docs/Data-Monoid.html#t:All) type, the result will be [`True`](https://hackage.haskell.org/package/base/docs/Prelude.html#v:True) only if\n",
    "*all* the values used in the [`mappend`](https://hackage.haskell.org/package/base/docs/Prelude.html#v:mappend) operations are [`True`](https://hackage.haskell.org/package/base/docs/Prelude.html#v:True):"
   ]
  },
  {
   "cell_type": "code",
   "execution_count": 150,
   "metadata": {
    "attributes": {
     "classes": [
      "haskell:hs"
     ],
     "id": "",
     "name": "\"code\""
    }
   },
   "outputs": [
    {
     "data": {
      "text/plain": [
       "True"
      ]
     },
     "metadata": {},
     "output_type": "display_data"
    }
   ],
   "source": [
    "getAll $ mempty `mappend` All True"
   ]
  },
  {
   "cell_type": "code",
   "execution_count": 151,
   "metadata": {
    "attributes": {
     "classes": [
      "haskell:hs"
     ],
     "id": "",
     "name": "\"code\""
    }
   },
   "outputs": [
    {
     "data": {
      "text/plain": [
       "False"
      ]
     },
     "metadata": {},
     "output_type": "display_data"
    }
   ],
   "source": [
    "getAll $ mempty `mappend` All False"
   ]
  },
  {
   "cell_type": "code",
   "execution_count": 152,
   "metadata": {
    "attributes": {
     "classes": [
      "haskell:hs"
     ],
     "id": "",
     "name": "\"code\""
    }
   },
   "outputs": [
    {
     "data": {
      "text/plain": [
       "True"
      ]
     },
     "metadata": {},
     "output_type": "display_data"
    }
   ],
   "source": [
    "getAll . mconcat . map All $ [True, True, True]"
   ]
  },
  {
   "cell_type": "code",
   "execution_count": 153,
   "metadata": {
    "attributes": {
     "classes": [
      "haskell:hs"
     ],
     "id": "",
     "name": "\"code\""
    }
   },
   "outputs": [
    {
     "data": {
      "text/plain": [
       "False"
      ]
     },
     "metadata": {},
     "output_type": "display_data"
    }
   ],
   "source": [
    "getAll . mconcat . map All $ [True, True, False]"
   ]
  },
  {
   "cell_type": "markdown",
   "metadata": {},
   "source": [
    "Just like with multiplication and addition, we usually explicitly state\n",
    "the binary functions instead of wrapping them in *newtype*s and then\n",
    "using [`mappend`](https://hackage.haskell.org/package/base/docs/Prelude.html#v:mappend) and [`mempty`](https://hackage.haskell.org/package/base/docs/Prelude.html#v:mempty). [`mconcat`](https://hackage.haskell.org/package/base/docs/Prelude.html#v:mconcat) seems useful for [`Any`](https://hackage.haskell.org/package/base/docs/Data-Monoid.html#t:Any) and [`All`](https://hackage.haskell.org/package/base/docs/Data-Monoid.html#t:All), but\n",
    "usually it's easier to use the [`or`](https://hackage.haskell.org/package/base/docs/Prelude.html#v:or) and [`and`](https://hackage.haskell.org/package/base/docs/Prelude.html#v:and) functions, which take lists of\n",
    "[`Bool`](https://hackage.haskell.org/package/base/docs/Prelude.html#t:Bool)s and return [`True`](https://hackage.haskell.org/package/base/docs/Prelude.html#v:True) if any of them are [`True`](https://hackage.haskell.org/package/base/docs/Prelude.html#v:True) or if all of them are\n",
    "[`True`](https://hackage.haskell.org/package/base/docs/Prelude.html#v:True), respectively.\n",
    "\n",
    "### The [`Ordering`](https://hackage.haskell.org/package/base/docs/Prelude.html#t:Ordering) monoid\n",
    "\n",
    "Hey, remember the [`Ordering`](https://hackage.haskell.org/package/base/docs/Prelude.html#t:Ordering) type? It's used as the result when comparing\n",
    "things and it can have three values: [`LT`](https://hackage.haskell.org/package/base/docs/Prelude.html#v:LT), [`EQ`](https://hackage.haskell.org/package/base/docs/Prelude.html#v:EQ) and [`GT`](https://hackage.haskell.org/package/base/docs/Prelude.html#v:GT), which stand for\n",
    "*less than*, *equal* and *greater than* respectively:"
   ]
  },
  {
   "cell_type": "code",
   "execution_count": 154,
   "metadata": {
    "attributes": {
     "classes": [
      "haskell:hs"
     ],
     "id": "",
     "name": "\"code\""
    }
   },
   "outputs": [
    {
     "data": {
      "text/plain": [
       "LT"
      ]
     },
     "metadata": {},
     "output_type": "display_data"
    }
   ],
   "source": [
    "1 `compare` 2"
   ]
  },
  {
   "cell_type": "code",
   "execution_count": 155,
   "metadata": {
    "attributes": {
     "classes": [
      "haskell:hs"
     ],
     "id": "",
     "name": "\"code\""
    }
   },
   "outputs": [
    {
     "data": {
      "text/plain": [
       "EQ"
      ]
     },
     "metadata": {},
     "output_type": "display_data"
    }
   ],
   "source": [
    "2 `compare` 2"
   ]
  },
  {
   "cell_type": "code",
   "execution_count": 156,
   "metadata": {
    "attributes": {
     "classes": [
      "haskell:hs"
     ],
     "id": "",
     "name": "\"code\""
    }
   },
   "outputs": [
    {
     "data": {
      "text/plain": [
       "GT"
      ]
     },
     "metadata": {},
     "output_type": "display_data"
    }
   ],
   "source": [
    "3 `compare` 2"
   ]
  },
  {
   "cell_type": "markdown",
   "metadata": {},
   "source": [
    "With lists, numbers and boolean values, finding monoids was just a\n",
    "matter of looking at already existing commonly used functions and seeing\n",
    "if they exhibit some sort of monoid behavior. With [`Ordering`](https://hackage.haskell.org/package/base/docs/Prelude.html#t:Ordering), we have to\n",
    "look a bit harder to recognize a monoid, but it turns out that its\n",
    "[`Monoid`](https://hackage.haskell.org/package/base/docs/Prelude.html#t:Monoid) instance is just as intuitive as the ones we've met so far and\n",
    "also quite useful:"
   ]
  },
  {
   "cell_type": "markdown",
   "metadata": {
    "attributes": {
     "classes": [
      "haskell:hs"
     ],
     "id": "",
     "name": "\"code\""
    }
   },
   "source": [
    "<pre><code>instance Monoid Ordering where\n",
    "    mempty = EQ\n",
    "    LT `mappend` _ = LT\n",
    "    EQ `mappend` y = y\n",
    "    GT `mappend` _ = GT</code></pre>"
   ]
  },
  {
   "cell_type": "markdown",
   "metadata": {},
   "source": [
    "<img src=\"img/bear.png\" title=\"did anyone ORDER pizza?!?! I can't BEAR these puns!\" style=\"background-color:white;float:right;margin-left:2em;\" />\n",
    "\n",
    "The instance is set up like this: when we [`mappend`](https://hackage.haskell.org/package/base/docs/Prelude.html#v:mappend) two [`Ordering`](https://hackage.haskell.org/package/base/docs/Prelude.html#t:Ordering) values,\n",
    "the one on the left is kept, unless the value on the left is [`EQ`](https://hackage.haskell.org/package/base/docs/Prelude.html#v:EQ), in\n",
    "which case the right one is the result. The identity is [`EQ`](https://hackage.haskell.org/package/base/docs/Prelude.html#v:EQ). At first,\n",
    "this may seem kind of arbitrary, but it actually resembles the way we\n",
    "alphabetically compare words. We compare the first two letters and if\n",
    "they differ, we can already decide which word would go first in a\n",
    "dictionary. However, if the first two letters are equal, then we move on\n",
    "to comparing the next pair of letters and repeat the process.\n",
    "\n",
    "For instance, if we were to alphabetically compare the words `\"ox\"` and\n",
    "`\"on\"`, we'd first compare the first two letters of each word, see that\n",
    "they are equal and then move on to comparing the second letter of each\n",
    "word. We see that `'x'` is alphabetically greater than `'n'`, and so we know\n",
    "how the words compare. To gain some intuition for [`EQ`](https://hackage.haskell.org/package/base/docs/Prelude.html#v:EQ) being the identity,\n",
    "we can notice that if we were to cram the same letter in the same\n",
    "position in both words, it wouldn't change their alphabetical ordering.\n",
    "`\"oix\"` is still alphabetically greater than and `\"oin\"`.\n",
    "\n",
    "It's important to note that in the [`Monoid`](https://hackage.haskell.org/package/base/docs/Prelude.html#t:Monoid) instance for [`Ordering`](https://hackage.haskell.org/package/base/docs/Prelude.html#t:Ordering),\n",
    "``x `mappend` y`` doesn't equal ``y `mappend` x``. Because the first parameter\n",
    "is kept unless it's [`EQ`](https://hackage.haskell.org/package/base/docs/Prelude.html#v:EQ), ``LT `mappend` GT`` will result in [`LT`](https://hackage.haskell.org/package/base/docs/Prelude.html#v:LT), whereas\n",
    "``GT `mappend` LT`` will result in [`GT`](https://hackage.haskell.org/package/base/docs/Prelude.html#v:GT):"
   ]
  },
  {
   "cell_type": "code",
   "execution_count": 157,
   "metadata": {
    "attributes": {
     "classes": [
      "haskell:hs"
     ],
     "id": "",
     "name": "\"code\""
    }
   },
   "outputs": [
    {
     "data": {
      "text/plain": [
       "LT"
      ]
     },
     "metadata": {},
     "output_type": "display_data"
    }
   ],
   "source": [
    "LT `mappend` GT"
   ]
  },
  {
   "cell_type": "code",
   "execution_count": 158,
   "metadata": {
    "attributes": {
     "classes": [
      "haskell:hs"
     ],
     "id": "",
     "name": "\"code\""
    }
   },
   "outputs": [
    {
     "data": {
      "text/plain": [
       "GT"
      ]
     },
     "metadata": {},
     "output_type": "display_data"
    }
   ],
   "source": [
    "GT `mappend` LT"
   ]
  },
  {
   "cell_type": "code",
   "execution_count": 159,
   "metadata": {
    "attributes": {
     "classes": [
      "haskell:hs"
     ],
     "id": "",
     "name": "\"code\""
    }
   },
   "outputs": [
    {
     "data": {
      "text/plain": [
       "LT"
      ]
     },
     "metadata": {},
     "output_type": "display_data"
    }
   ],
   "source": [
    "mempty `mappend` LT"
   ]
  },
  {
   "cell_type": "code",
   "execution_count": 160,
   "metadata": {
    "attributes": {
     "classes": [
      "haskell:hs"
     ],
     "id": "",
     "name": "\"code\""
    }
   },
   "outputs": [
    {
     "data": {
      "text/plain": [
       "GT"
      ]
     },
     "metadata": {},
     "output_type": "display_data"
    }
   ],
   "source": [
    "mempty `mappend` GT"
   ]
  },
  {
   "cell_type": "markdown",
   "metadata": {},
   "source": [
    "OK, so how is this monoid useful? Let's say you were writing a function\n",
    "that takes two strings, compares their lengths, and returns an [`Ordering`](https://hackage.haskell.org/package/base/docs/Prelude.html#t:Ordering).\n",
    "But if the strings are of the same length, then instead of returning [`EQ`](https://hackage.haskell.org/package/base/docs/Prelude.html#v:EQ)\n",
    "right away, we want to compare them alphabetically. One way to write\n",
    "this would be like so:"
   ]
  },
  {
   "cell_type": "code",
   "execution_count": 161,
   "metadata": {
    "attributes": {
     "classes": [
      "haskell:hs"
     ],
     "id": "",
     "name": "\"code\""
    }
   },
   "outputs": [],
   "source": [
    "lengthCompare :: String -> String -> Ordering\n",
    "lengthCompare x y = let a = length x `compare` length y\n",
    "                        b = x `compare` y\n",
    "                    in  if a == EQ then b else a"
   ]
  },
  {
   "cell_type": "markdown",
   "metadata": {},
   "source": [
    "We name the result of comparing the lengths `a` and the result of the\n",
    "alphabetical comparison `b` and then if it turns out that the lengths were\n",
    "equal, we return their alphabetical ordering.\n",
    "\n",
    "But by employing our understanding of how [`Ordering`](https://hackage.haskell.org/package/base/docs/Prelude.html#t:Ordering) is a monoid, we can\n",
    "rewrite this function in a much simpler manner:"
   ]
  },
  {
   "cell_type": "code",
   "execution_count": 162,
   "metadata": {
    "attributes": {
     "classes": [
      "haskell:hs"
     ],
     "id": "",
     "name": "\"code\""
    }
   },
   "outputs": [],
   "source": [
    "import Data.Monoid\n",
    "\n",
    "lengthCompare :: String -> String -> Ordering\n",
    "lengthCompare x y = (length x `compare` length y) `mappend`\n",
    "                    (x `compare` y)"
   ]
  },
  {
   "cell_type": "markdown",
   "metadata": {},
   "source": [
    "We can try this out:"
   ]
  },
  {
   "cell_type": "code",
   "execution_count": 163,
   "metadata": {
    "attributes": {
     "classes": [
      "haskell:hs"
     ],
     "id": "",
     "name": "\"code\""
    }
   },
   "outputs": [
    {
     "data": {
      "text/plain": [
       "LT"
      ]
     },
     "metadata": {},
     "output_type": "display_data"
    }
   ],
   "source": [
    "lengthCompare \"zen\" \"ants\""
   ]
  },
  {
   "cell_type": "code",
   "execution_count": 164,
   "metadata": {
    "attributes": {
     "classes": [
      "haskell:hs"
     ],
     "id": "",
     "name": "\"code\""
    }
   },
   "outputs": [
    {
     "data": {
      "text/plain": [
       "GT"
      ]
     },
     "metadata": {},
     "output_type": "display_data"
    }
   ],
   "source": [
    "lengthCompare \"zen\" \"ant\""
   ]
  },
  {
   "cell_type": "markdown",
   "metadata": {},
   "source": [
    "Remember, when we use [`mappend`](https://hackage.haskell.org/package/base/docs/Prelude.html#v:mappend), its left parameter is always kept unless\n",
    "it's [`EQ`](https://hackage.haskell.org/package/base/docs/Prelude.html#v:EQ), in which case the right one is kept. That's why we put the\n",
    "comparison that we consider to be the first, more important criterion as\n",
    "the first parameter. If we wanted to expand this function to also\n",
    "compare for the number of vowels and set this to be the second most\n",
    "important criterion for comparison, we'd just modify it like this:"
   ]
  },
  {
   "cell_type": "code",
   "execution_count": 165,
   "metadata": {
    "attributes": {
     "classes": [
      "haskell:hs"
     ],
     "id": "",
     "name": "\"code\""
    }
   },
   "outputs": [],
   "source": [
    "import Data.Monoid\n",
    "\n",
    "lengthCompare :: String -> String -> Ordering\n",
    "lengthCompare x y = (length x `compare` length y) `mappend`\n",
    "                    (vowels x `compare` vowels y) `mappend`\n",
    "                    (x `compare` y)\n",
    "    where vowels = length . filter (`elem` \"aeiou\")"
   ]
  },
  {
   "cell_type": "markdown",
   "metadata": {},
   "source": [
    "We made a helper function, which takes a string and tells us how many\n",
    "vowels it has by first filtering it only for letters that are in the\n",
    "string `\"aeiou\"` and then applying [`length`](https://hackage.haskell.org/package/base/docs/Prelude.html#v:length) to that."
   ]
  },
  {
   "cell_type": "code",
   "execution_count": 166,
   "metadata": {
    "attributes": {
     "classes": [
      "haskell:hs"
     ],
     "id": "",
     "name": "\"code\""
    }
   },
   "outputs": [
    {
     "data": {
      "text/plain": [
       "LT"
      ]
     },
     "metadata": {},
     "output_type": "display_data"
    }
   ],
   "source": [
    "lengthCompare \"zen\" \"anna\""
   ]
  },
  {
   "cell_type": "code",
   "execution_count": 167,
   "metadata": {
    "attributes": {
     "classes": [
      "haskell:hs"
     ],
     "id": "",
     "name": "\"code\""
    }
   },
   "outputs": [
    {
     "data": {
      "text/plain": [
       "LT"
      ]
     },
     "metadata": {},
     "output_type": "display_data"
    }
   ],
   "source": [
    "lengthCompare \"zen\" \"ana\""
   ]
  },
  {
   "cell_type": "code",
   "execution_count": 168,
   "metadata": {
    "attributes": {
     "classes": [
      "haskell:hs"
     ],
     "id": "",
     "name": "\"code\""
    }
   },
   "outputs": [
    {
     "data": {
      "text/plain": [
       "GT"
      ]
     },
     "metadata": {},
     "output_type": "display_data"
    }
   ],
   "source": [
    "lengthCompare \"zen\" \"ann\""
   ]
  },
  {
   "cell_type": "markdown",
   "metadata": {},
   "source": [
    "Very cool. Here, we see how in the first example the lengths are found\n",
    "to be different and so [`LT`](https://hackage.haskell.org/package/base/docs/Prelude.html#v:LT) is returned, because the length of `\"zen\"` is\n",
    "less than the length of `\"anna\"`. In the second example, the lengths are\n",
    "the same, but the second string has more vowels, so [`LT`](https://hackage.haskell.org/package/base/docs/Prelude.html#v:LT) is returned\n",
    "again. In the third example, they both have the same length and the same\n",
    "number of vowels, so they're compared alphabetically and `\"zen\"` wins.\n",
    "\n",
    "The [`Ordering`](https://hackage.haskell.org/package/base/docs/Prelude.html#t:Ordering) monoid is very cool because it allows us to easily compare\n",
    "things by many different criteria and put those criteria in an order\n",
    "themselves, ranging from the most important to the least.\n",
    "\n",
    "### [`Maybe`](https://hackage.haskell.org/package/base/docs/Prelude.html#t:Maybe) the monoid\n",
    "\n",
    "Let's take a look at the various ways that `Maybe a` can be made an\n",
    "instance of [`Monoid`](https://hackage.haskell.org/package/base/docs/Prelude.html#t:Monoid) and what those instances are useful for.\n",
    "\n",
    "One way is to treat `Maybe a` as a monoid only if its type parameter `a` is\n",
    "a monoid as well and then implement [`mappend`](https://hackage.haskell.org/package/base/docs/Prelude.html#v:mappend) in such a way that it uses\n",
    "the [`mappend`](https://hackage.haskell.org/package/base/docs/Prelude.html#v:mappend) operation of the values that are wrapped with [`Just`](https://hackage.haskell.org/package/base/docs/Prelude.html#v:Just). We use\n",
    "[`Nothing`](https://hackage.haskell.org/package/base/docs/Prelude.html#v:Nothing) as the identity, and so if one of the two values that we're\n",
    "[`mappend`](https://hackage.haskell.org/package/base/docs/Prelude.html#v:mappend)ing is [`Nothing`](https://hackage.haskell.org/package/base/docs/Prelude.html#v:Nothing), we keep the other value. Here's the instance\n",
    "declaration:"
   ]
  },
  {
   "cell_type": "markdown",
   "metadata": {
    "attributes": {
     "classes": [
      "haskell:hs"
     ],
     "id": "",
     "name": "\"code\""
    }
   },
   "source": [
    "<pre><code>instance Monoid a => Monoid (Maybe a) where\n",
    "    mempty = Nothing\n",
    "    Nothing `mappend` m = m\n",
    "    m `mappend` Nothing = m\n",
    "    Just m1 `mappend` Just m2 = Just (m1 `mappend` m2)</code></pre>"
   ]
  },
  {
   "cell_type": "markdown",
   "metadata": {},
   "source": [
    "Notice the class constraint. It says that `Maybe a` is an instance of\n",
    "[`Monoid`](https://hackage.haskell.org/package/base/docs/Prelude.html#t:Monoid) only if `a` is an instance of [`Monoid`](https://hackage.haskell.org/package/base/docs/Prelude.html#t:Monoid). If we [`mappend`](https://hackage.haskell.org/package/base/docs/Prelude.html#v:mappend) something with\n",
    "a [`Nothing`](https://hackage.haskell.org/package/base/docs/Prelude.html#v:Nothing), the result is that something. If we [`mappend`](https://hackage.haskell.org/package/base/docs/Prelude.html#v:mappend) two [`Just`](https://hackage.haskell.org/package/base/docs/Prelude.html#v:Just) values,\n",
    "the contents of the [`Just`](https://hackage.haskell.org/package/base/docs/Prelude.html#v:Just)s get `mappended` and then wrapped back in a [`Just`](https://hackage.haskell.org/package/base/docs/Prelude.html#v:Just).\n",
    "We can do this because the class constraint ensures that the type of\n",
    "what's inside the [`Just`](https://hackage.haskell.org/package/base/docs/Prelude.html#v:Just) is an instance of [`Monoid`](https://hackage.haskell.org/package/base/docs/Prelude.html#t:Monoid)."
   ]
  },
  {
   "cell_type": "code",
   "execution_count": 169,
   "metadata": {
    "attributes": {
     "classes": [
      "haskell:hs"
     ],
     "id": "",
     "name": "\"code\""
    }
   },
   "outputs": [
    {
     "data": {
      "text/plain": [
       "Just \"andy\""
      ]
     },
     "metadata": {},
     "output_type": "display_data"
    }
   ],
   "source": [
    "Nothing `mappend` Just \"andy\""
   ]
  },
  {
   "cell_type": "code",
   "execution_count": 170,
   "metadata": {
    "attributes": {
     "classes": [
      "haskell:hs"
     ],
     "id": "",
     "name": "\"code\""
    }
   },
   "outputs": [
    {
     "data": {
      "text/plain": [
       "Just LT"
      ]
     },
     "metadata": {},
     "output_type": "display_data"
    }
   ],
   "source": [
    "Just LT `mappend` Nothing"
   ]
  },
  {
   "cell_type": "code",
   "execution_count": 171,
   "metadata": {
    "attributes": {
     "classes": [
      "haskell:hs"
     ],
     "id": "",
     "name": "\"code\""
    }
   },
   "outputs": [
    {
     "data": {
      "text/plain": [
       "Just (Sum {getSum = 7})"
      ]
     },
     "metadata": {},
     "output_type": "display_data"
    }
   ],
   "source": [
    "Just (Sum 3) `mappend` Just (Sum 4)"
   ]
  },
  {
   "cell_type": "markdown",
   "metadata": {},
   "source": [
    "This comes in use when you're dealing with monoids as results of\n",
    "computations that may have failed. Because of this instance, we don't\n",
    "have to check if the computations have failed by seeing if they're a\n",
    "[`Nothing`](https://hackage.haskell.org/package/base/docs/Prelude.html#v:Nothing) or [`Just`](https://hackage.haskell.org/package/base/docs/Prelude.html#v:Just) value; we can just continue to treat them as normal\n",
    "monoids.\n",
    "\n",
    "But what if the type of the contents of the [`Maybe`](https://hackage.haskell.org/package/base/docs/Prelude.html#t:Maybe) aren't an instance of\n",
    "[`Monoid`](https://hackage.haskell.org/package/base/docs/Prelude.html#t:Monoid)? Notice that in the previous instance declaration, the only case\n",
    "where we have to rely on the contents being monoids is when both\n",
    "parameters of mappend are Just values. But if we don't know if the\n",
    "contents are monoids, we can't use mappend between them, so what are we\n",
    "to do? Well, one thing we can do is to just discard the second value and\n",
    "keep the first one. For this, the First a type exists and this is its\n",
    "definition:"
   ]
  },
  {
   "cell_type": "markdown",
   "metadata": {
    "attributes": {
     "classes": [
      "haskell:hs"
     ],
     "id": "",
     "name": "\"code\""
    }
   },
   "source": [
    "<pre><code>newtype First a = First { getFirst :: Maybe a }\n",
    "    deriving (Eq, Ord, Read, Show)</code></pre>"
   ]
  },
  {
   "cell_type": "markdown",
   "metadata": {},
   "source": [
    "We take a Maybe a and we wrap it with a *newtype*. The Monoid instance\n",
    "is as follows:"
   ]
  },
  {
   "cell_type": "markdown",
   "metadata": {
    "attributes": {
     "classes": [
      "haskell:hs"
     ],
     "id": "",
     "name": "\"code\""
    }
   },
   "source": [
    "<pre><code>instance Monoid (First a) where\n",
    "    mempty = First Nothing\n",
    "    First (Just x) `mappend` _ = First (Just x)\n",
    "    First Nothing `mappend` x = x</code></pre>"
   ]
  },
  {
   "cell_type": "markdown",
   "metadata": {},
   "source": [
    "Just like we said. mempty is just a [`Nothing`](https://hackage.haskell.org/package/base/docs/Prelude.html#v:Nothing) wrapped with the [`First`](https://hackage.haskell.org/package/base/docs/Data-Monoid.html#t:First)\n",
    "*newtype* constructor. If [`mappend`](https://hackage.haskell.org/package/base/docs/Prelude.html#v:mappend)'s first parameter is a [`Just`](https://hackage.haskell.org/package/base/docs/Prelude.html#v:Just) value, we\n",
    "ignore the second one. If the first one is a [`Nothing`](https://hackage.haskell.org/package/base/docs/Prelude.html#v:Nothing), then we present\n",
    "the second parameter as a result, regardless of whether it's a [`Just`](https://hackage.haskell.org/package/base/docs/Prelude.html#v:Just) or a\n",
    "[`Nothing`](https://hackage.haskell.org/package/base/docs/Prelude.html#v:Nothing):"
   ]
  },
  {
   "cell_type": "code",
   "execution_count": 172,
   "metadata": {
    "attributes": {
     "classes": [
      "haskell:hs"
     ],
     "id": "",
     "name": "\"code\""
    }
   },
   "outputs": [
    {
     "data": {
      "text/plain": [
       "Just 'a'"
      ]
     },
     "metadata": {},
     "output_type": "display_data"
    }
   ],
   "source": [
    "getFirst $ First (Just 'a') `mappend` First (Just 'b')"
   ]
  },
  {
   "cell_type": "code",
   "execution_count": 173,
   "metadata": {
    "attributes": {
     "classes": [
      "haskell:hs"
     ],
     "id": "",
     "name": "\"code\""
    }
   },
   "outputs": [
    {
     "data": {
      "text/plain": [
       "Just 'b'"
      ]
     },
     "metadata": {},
     "output_type": "display_data"
    }
   ],
   "source": [
    "getFirst $ First Nothing `mappend` First (Just 'b')"
   ]
  },
  {
   "cell_type": "code",
   "execution_count": 174,
   "metadata": {
    "attributes": {
     "classes": [
      "haskell:hs"
     ],
     "id": "",
     "name": "\"code\""
    }
   },
   "outputs": [
    {
     "data": {
      "text/plain": [
       "Just 'a'"
      ]
     },
     "metadata": {},
     "output_type": "display_data"
    }
   ],
   "source": [
    "getFirst $ First (Just 'a') `mappend` First Nothing"
   ]
  },
  {
   "cell_type": "markdown",
   "metadata": {},
   "source": [
    "[`First`](https://hackage.haskell.org/package/base/docs/Data-Monoid.html#t:First) is useful when we have a bunch of [`Maybe`](https://hackage.haskell.org/package/base/docs/Prelude.html#t:Maybe) values and we just want to\n",
    "know if any of them is a [`Just`](https://hackage.haskell.org/package/base/docs/Prelude.html#v:Just). The [`mconcat`](https://hackage.haskell.org/package/base/docs/Prelude.html#v:mconcat) function comes in handy:"
   ]
  },
  {
   "cell_type": "code",
   "execution_count": 175,
   "metadata": {
    "attributes": {
     "classes": [
      "haskell:hs"
     ],
     "id": "",
     "name": "\"code\""
    }
   },
   "outputs": [
    {
     "data": {
      "text/plain": [
       "Just 9"
      ]
     },
     "metadata": {},
     "output_type": "display_data"
    }
   ],
   "source": [
    "getFirst . mconcat . map First $ [Nothing, Just 9, Just 10]"
   ]
  },
  {
   "cell_type": "markdown",
   "metadata": {},
   "source": [
    "If we want a monoid on `Maybe a` such that the second parameter is kept if\n",
    "both parameters of [`mappend`](https://hackage.haskell.org/package/base/docs/Prelude.html#v:mappend) are [`Just`](https://hackage.haskell.org/package/base/docs/Prelude.html#v:Just) values, `Data.Monoid` provides a the\n",
    "`Last a` type, which works like `First a`, only the last non-[`Nothing`](https://hackage.haskell.org/package/base/docs/Prelude.html#v:Nothing) value\n",
    "is kept when [`mappend`](https://hackage.haskell.org/package/base/docs/Prelude.html#v:mappend)ing and using [`mconcat`](https://hackage.haskell.org/package/base/docs/Prelude.html#v:mconcat):"
   ]
  },
  {
   "cell_type": "code",
   "execution_count": 176,
   "metadata": {
    "attributes": {
     "classes": [
      "haskell:hs"
     ],
     "id": "",
     "name": "\"code\""
    }
   },
   "outputs": [
    {
     "data": {
      "text/plain": [
       "Just 10"
      ]
     },
     "metadata": {},
     "output_type": "display_data"
    }
   ],
   "source": [
    "getLast . mconcat . map Last $ [Nothing, Just 9, Just 10]"
   ]
  },
  {
   "cell_type": "code",
   "execution_count": 177,
   "metadata": {
    "attributes": {
     "classes": [
      "haskell:hs"
     ],
     "id": "",
     "name": "\"code\""
    }
   },
   "outputs": [
    {
     "data": {
      "text/plain": [
       "Just \"two\""
      ]
     },
     "metadata": {},
     "output_type": "display_data"
    }
   ],
   "source": [
    "getLast $ Last (Just \"one\") `mappend` Last (Just \"two\")"
   ]
  },
  {
   "cell_type": "markdown",
   "metadata": {},
   "source": [
    "### Using monoids to fold data structures\n",
    "\n",
    "One of the more interesting ways to put monoids to work is to make them\n",
    "help us define folds over various data structures. So far, we've only\n",
    "done folds over lists, but lists aren't the only data structure that can\n",
    "be folded over. We can define folds over almost any data structure.\n",
    "Trees especially lend themselves well to folding.\n",
    "\n",
    "Because there are so many data structures that work nicely with folds,\n",
    "the __[`Foldable`](https://hackage.haskell.org/package/base/docs/Prelude.html#t:Foldable)__ type class was introduced. Much like [`Functor`](https://hackage.haskell.org/package/base/docs/Prelude.html#t:Functor) is for things\n",
    "that can be mapped over, [`Foldable`](https://hackage.haskell.org/package/base/docs/Prelude.html#t:Foldable) is for things that can be folded up!\n",
    "It can be found in `Data.Foldable` and because it exports functions whose\n",
    "names clash with the ones from the [`Prelude`](https://hackage.haskell.org/package/base/docs/Prelude.html), it's best imported qualified\n",
    "(and served with basil):"
   ]
  },
  {
   "cell_type": "code",
   "execution_count": 178,
   "metadata": {
    "attributes": {
     "classes": [
      "haskell:hs"
     ],
     "id": "",
     "name": "\"code\""
    }
   },
   "outputs": [],
   "source": [
    "import qualified Data.Foldable as F"
   ]
  },
  {
   "cell_type": "markdown",
   "metadata": {},
   "source": [
    "To save ourselves precious keystrokes, we've chosen to import it\n",
    "qualified as `F`. Alright, so what are some of the functions that this\n",
    "type class defines? Well, among them are [`foldr`](https://hackage.haskell.org/package/base/docs/Prelude.html#v:foldr), [`foldl`](https://hackage.haskell.org/package/base/docs/Prelude.html#v:foldl), `foldr1` and\n",
    "`foldl1`. Huh? But we already know these functions, what's so new about\n",
    "this? Let's compare the types of [`Foldable`](https://hackage.haskell.org/package/base/docs/Prelude.html#t:Foldable)'s [`foldr`](https://hackage.haskell.org/package/base/docs/Prelude.html#v:foldr) and the [`foldr`](https://hackage.haskell.org/package/base/docs/Prelude.html#v:foldr) from the\n",
    "[`Prelude`](https://hackage.haskell.org/package/base/docs/Prelude.html) to see how they differ:"
   ]
  },
  {
   "cell_type": "code",
   "execution_count": 179,
   "metadata": {
    "attributes": {
     "classes": [
      "haskell:hs"
     ],
     "id": "",
     "name": "\"code\""
    }
   },
   "outputs": [
    {
     "data": {
      "text/html": [
       "<style>/* Styles used for the Hoogle display in the pager */\n",
       ".hoogle-doc {\n",
       "display: block;\n",
       "padding-bottom: 1.3em;\n",
       "padding-left: 0.4em;\n",
       "}\n",
       ".hoogle-code {\n",
       "display: block;\n",
       "font-family: monospace;\n",
       "white-space: pre;\n",
       "}\n",
       ".hoogle-text {\n",
       "display: block;\n",
       "}\n",
       ".hoogle-name {\n",
       "color: green;\n",
       "font-weight: bold;\n",
       "}\n",
       ".hoogle-head {\n",
       "font-weight: bold;\n",
       "}\n",
       ".hoogle-sub {\n",
       "display: block;\n",
       "margin-left: 0.4em;\n",
       "}\n",
       ".hoogle-package {\n",
       "font-weight: bold;\n",
       "font-style: italic;\n",
       "}\n",
       ".hoogle-module {\n",
       "font-weight: bold;\n",
       "}\n",
       ".hoogle-class {\n",
       "font-weight: bold;\n",
       "}\n",
       ".get-type {\n",
       "color: green;\n",
       "font-weight: bold;\n",
       "font-family: monospace;\n",
       "display: block;\n",
       "white-space: pre-wrap;\n",
       "}\n",
       ".show-type {\n",
       "color: green;\n",
       "font-weight: bold;\n",
       "font-family: monospace;\n",
       "margin-left: 1em;\n",
       "}\n",
       ".mono {\n",
       "font-family: monospace;\n",
       "display: block;\n",
       "}\n",
       ".err-msg {\n",
       "color: red;\n",
       "font-style: italic;\n",
       "font-family: monospace;\n",
       "white-space: pre;\n",
       "display: block;\n",
       "}\n",
       "#unshowable {\n",
       "color: red;\n",
       "font-weight: bold;\n",
       "}\n",
       ".err-msg.in.collapse {\n",
       "padding-top: 0.7em;\n",
       "}\n",
       ".highlight-code {\n",
       "white-space: pre;\n",
       "font-family: monospace;\n",
       "}\n",
       ".suggestion-warning { \n",
       "font-weight: bold;\n",
       "color: rgb(200, 130, 0);\n",
       "}\n",
       ".suggestion-error { \n",
       "font-weight: bold;\n",
       "color: red;\n",
       "}\n",
       ".suggestion-name {\n",
       "font-weight: bold;\n",
       "}\n",
       "</style><span class='get-type'>foldr :: forall (t :: * -> *) a b. Foldable t => (a -> b -> b) -> b -> t a -> b</span>"
      ],
      "text/plain": [
       "foldr :: forall (t :: * -> *) a b. Foldable t => (a -> b -> b) -> b -> t a -> b"
      ]
     },
     "metadata": {},
     "output_type": "display_data"
    }
   ],
   "source": [
    ":t foldr"
   ]
  },
  {
   "cell_type": "code",
   "execution_count": 180,
   "metadata": {
    "attributes": {
     "classes": [
      "haskell:hs"
     ],
     "id": "",
     "name": "\"code\""
    }
   },
   "outputs": [
    {
     "data": {
      "text/html": [
       "<style>/* Styles used for the Hoogle display in the pager */\n",
       ".hoogle-doc {\n",
       "display: block;\n",
       "padding-bottom: 1.3em;\n",
       "padding-left: 0.4em;\n",
       "}\n",
       ".hoogle-code {\n",
       "display: block;\n",
       "font-family: monospace;\n",
       "white-space: pre;\n",
       "}\n",
       ".hoogle-text {\n",
       "display: block;\n",
       "}\n",
       ".hoogle-name {\n",
       "color: green;\n",
       "font-weight: bold;\n",
       "}\n",
       ".hoogle-head {\n",
       "font-weight: bold;\n",
       "}\n",
       ".hoogle-sub {\n",
       "display: block;\n",
       "margin-left: 0.4em;\n",
       "}\n",
       ".hoogle-package {\n",
       "font-weight: bold;\n",
       "font-style: italic;\n",
       "}\n",
       ".hoogle-module {\n",
       "font-weight: bold;\n",
       "}\n",
       ".hoogle-class {\n",
       "font-weight: bold;\n",
       "}\n",
       ".get-type {\n",
       "color: green;\n",
       "font-weight: bold;\n",
       "font-family: monospace;\n",
       "display: block;\n",
       "white-space: pre-wrap;\n",
       "}\n",
       ".show-type {\n",
       "color: green;\n",
       "font-weight: bold;\n",
       "font-family: monospace;\n",
       "margin-left: 1em;\n",
       "}\n",
       ".mono {\n",
       "font-family: monospace;\n",
       "display: block;\n",
       "}\n",
       ".err-msg {\n",
       "color: red;\n",
       "font-style: italic;\n",
       "font-family: monospace;\n",
       "white-space: pre;\n",
       "display: block;\n",
       "}\n",
       "#unshowable {\n",
       "color: red;\n",
       "font-weight: bold;\n",
       "}\n",
       ".err-msg.in.collapse {\n",
       "padding-top: 0.7em;\n",
       "}\n",
       ".highlight-code {\n",
       "white-space: pre;\n",
       "font-family: monospace;\n",
       "}\n",
       ".suggestion-warning { \n",
       "font-weight: bold;\n",
       "color: rgb(200, 130, 0);\n",
       "}\n",
       ".suggestion-error { \n",
       "font-weight: bold;\n",
       "color: red;\n",
       "}\n",
       ".suggestion-name {\n",
       "font-weight: bold;\n",
       "}\n",
       "</style><span class='get-type'>F.foldr :: forall (t :: * -> *) a b. Foldable t => (a -> b -> b) -> b -> t a -> b</span>"
      ],
      "text/plain": [
       "F.foldr :: forall (t :: * -> *) a b. Foldable t => (a -> b -> b) -> b -> t a -> b"
      ]
     },
     "metadata": {},
     "output_type": "display_data"
    }
   ],
   "source": [
    ":t F.foldr"
   ]
  },
  {
   "cell_type": "markdown",
   "metadata": {},
   "source": [
    "Ah! So whereas [`foldr`](https://hackage.haskell.org/package/base/docs/Prelude.html#v:foldr) takes a list and folds it up, the [`foldr`](https://hackage.haskell.org/package/base/docs/Prelude.html#v:foldr) from\n",
    "`Data.Foldable` accepts any type that can be folded up, not just lists! As\n",
    "expected, both [`foldr`](https://hackage.haskell.org/package/base/docs/Prelude.html#v:foldr) functions do the same for lists:"
   ]
  },
  {
   "cell_type": "code",
   "execution_count": 181,
   "metadata": {
    "attributes": {
     "classes": [
      "haskell:hs"
     ],
     "id": "",
     "name": "\"code\""
    }
   },
   "outputs": [
    {
     "data": {
      "text/plain": [
       "6"
      ]
     },
     "metadata": {},
     "output_type": "display_data"
    }
   ],
   "source": [
    "foldr (*) 1 [1,2,3]"
   ]
  },
  {
   "cell_type": "code",
   "execution_count": 182,
   "metadata": {
    "attributes": {
     "classes": [
      "haskell:hs"
     ],
     "id": "",
     "name": "\"code\""
    }
   },
   "outputs": [
    {
     "data": {
      "text/plain": [
       "6"
      ]
     },
     "metadata": {},
     "output_type": "display_data"
    }
   ],
   "source": [
    "F.foldr (*) 1 [1,2,3]"
   ]
  },
  {
   "cell_type": "markdown",
   "metadata": {},
   "source": [
    "Okay then, what are some other data structures that support folds? Well,\n",
    "there's the [`Maybe`](https://hackage.haskell.org/package/base/docs/Prelude.html#t:Maybe) we all know and love!"
   ]
  },
  {
   "cell_type": "code",
   "execution_count": 183,
   "metadata": {
    "attributes": {
     "classes": [
      "haskell:hs"
     ],
     "id": "",
     "name": "\"code\""
    }
   },
   "outputs": [
    {
     "data": {
      "text/plain": [
       "11"
      ]
     },
     "metadata": {},
     "output_type": "display_data"
    }
   ],
   "source": [
    "F.foldl (+) 2 (Just 9)"
   ]
  },
  {
   "cell_type": "code",
   "execution_count": 184,
   "metadata": {
    "attributes": {
     "classes": [
      "haskell:hs"
     ],
     "id": "",
     "name": "\"code\""
    }
   },
   "outputs": [
    {
     "data": {
      "text/plain": [
       "True"
      ]
     },
     "metadata": {},
     "output_type": "display_data"
    }
   ],
   "source": [
    "F.foldr (||) False (Just True)"
   ]
  },
  {
   "cell_type": "markdown",
   "metadata": {},
   "source": [
    "But folding over a [`Maybe`](https://hackage.haskell.org/package/base/docs/Prelude.html#t:Maybe) value isn't terribly interesting, because when\n",
    "it comes to folding, it just acts like a list with one element if it's a\n",
    "[`Just`](https://hackage.haskell.org/package/base/docs/Prelude.html#v:Just) value and as an empty list if it's [`Nothing`](https://hackage.haskell.org/package/base/docs/Prelude.html#v:Nothing). So let's examine a data\n",
    "structure that's a little more complex then.\n",
    "\n",
    "Remember the tree data structure from the [Making Our Own Types and\n",
    "Typeclasses](http://learnyouahaskell.com/making-our-own-types-and-typeclasses#recursive-data-structures)\n",
    "chapter? We defined it like this:"
   ]
  },
  {
   "cell_type": "code",
   "execution_count": 185,
   "metadata": {
    "attributes": {
     "classes": [
      "haskell:hs"
     ],
     "id": "",
     "name": "\"code\""
    }
   },
   "outputs": [],
   "source": [
    "data Tree a = Empty | Node a (Tree a) (Tree a) deriving (Show, Read, Eq)"
   ]
  },
  {
   "cell_type": "markdown",
   "metadata": {},
   "source": [
    "We said that a tree is either an empty tree that doesn't hold any values\n",
    "or it's a node that holds one value and also two other trees. After\n",
    "defining it, we made it an instance of [`Functor`](https://hackage.haskell.org/package/base/docs/Prelude.html#t:Functor) and with that we gained\n",
    "the ability to [`fmap`](https://hackage.haskell.org/package/base/docs/Prelude.html#v:fmap) functions over it. Now, we're going to make it an\n",
    "instance of [`Foldable`](https://hackage.haskell.org/package/base/docs/Prelude.html#t:Foldable) so that we get the ability to fold it up. One way to\n",
    "make a type constructor an instance of [`Foldable`](https://hackage.haskell.org/package/base/docs/Prelude.html#t:Foldable) is to just directly\n",
    "implement [`foldr`](https://hackage.haskell.org/package/base/docs/Prelude.html#v:foldr) for it. But another, often much easier way, is to\n",
    "implement the [`foldMap`](https://hackage.haskell.org/package/base/docs/Prelude.html#v:foldMap) function, which is also a part of the [`Foldable`](https://hackage.haskell.org/package/base/docs/Prelude.html#t:Foldable)\n",
    "type class. The [`foldMap`](https://hackage.haskell.org/package/base/docs/Prelude.html#v:foldMap) function has the following type:"
   ]
  },
  {
   "cell_type": "markdown",
   "metadata": {
    "attributes": {
     "classes": [
      "haskell:hs"
     ],
     "id": "",
     "name": "\"code\""
    }
   },
   "source": [
    "<pre><code>foldMap :: (Monoid m, Foldable t) => (a -> m) -> t a -> m</code></pre>"
   ]
  },
  {
   "cell_type": "markdown",
   "metadata": {},
   "source": [
    "Its first parameter is a function that takes a value of the type that\n",
    "our foldable structure contains (denoted here with `a`) and returns a\n",
    "monoid value. Its second parameter is a foldable structure that contains\n",
    "values of type `a`. It maps that function over the foldable structure,\n",
    "thus producing a foldable structure that contains monoid values. Then,\n",
    "by doing [`mappend`](https://hackage.haskell.org/package/base/docs/Prelude.html#v:mappend) between those monoid values, it joins them all into a\n",
    "single monoid value. This function may sound kind of odd at the moment,\n",
    "but we'll see that it's very easy to implement. What's also cool is that\n",
    "implementing this function is all it takes for our type to be made an\n",
    "instance of [`Foldable`](https://hackage.haskell.org/package/base/docs/Prelude.html#t:Foldable). So if we just implement [`foldMap`](https://hackage.haskell.org/package/base/docs/Prelude.html#v:foldMap) for some type, we\n",
    "get [`foldr`](https://hackage.haskell.org/package/base/docs/Prelude.html#v:foldr) and [`foldl`](https://hackage.haskell.org/package/base/docs/Prelude.html#v:foldl) on that type for free!\n",
    "\n",
    "This is how we make `Tree` an instance of [`Foldable`](https://hackage.haskell.org/package/base/docs/Prelude.html#t:Foldable):"
   ]
  },
  {
   "cell_type": "code",
   "execution_count": 186,
   "metadata": {
    "attributes": {
     "classes": [
      "haskell:hs"
     ],
     "id": "",
     "name": "\"code\""
    }
   },
   "outputs": [],
   "source": [
    "instance F.Foldable Tree where\n",
    "    foldMap f Empty = mempty\n",
    "    foldMap f (Node x l r) = F.foldMap f l `mappend`\n",
    "                             f x           `mappend`\n",
    "                             F.foldMap f r"
   ]
  },
  {
   "cell_type": "markdown",
   "metadata": {},
   "source": [
    "<img src=\"img/accordion.png\" title=\"find the visual pun or whatever\" style=\"background-color:white;float:right;margin-left:2em;\" />\n",
    "\n",
    "We think like this: if we are provided with a function that takes an\n",
    "element of our tree and returns a monoid value, how do we reduce our\n",
    "whole tree down to one single monoid value? When we were doing [`fmap`](https://hackage.haskell.org/package/base/docs/Prelude.html#v:fmap) over\n",
    "our tree, we applied the function that we were mapping to a node and\n",
    "then we recursively mapped the function over the left sub-tree as well\n",
    "as the right one. Here, we're tasked with not only mapping a function,\n",
    "but with also joining up the results into a single monoid value by using\n",
    "[`mappend`](https://hackage.haskell.org/package/base/docs/Prelude.html#v:mappend). First we consider the case of the empty tree — a sad and lonely\n",
    "tree that has no values or sub-trees. It doesn't hold any value that we\n",
    "can give to our monoid-making function, so we just say that if our tree\n",
    "is empty, the monoid value it becomes is [`mempty`](https://hackage.haskell.org/package/base/docs/Prelude.html#v:mempty).\n",
    "\n",
    "The case of a non-empty node is a bit more interesting. It contains two\n",
    "sub-trees as well as a value. In this case, we recursively [`foldMap`](https://hackage.haskell.org/package/base/docs/Prelude.html#v:foldMap) the\n",
    "same function `f` over the left and the right sub-trees. Remember, our\n",
    "[`foldMap`](https://hackage.haskell.org/package/base/docs/Prelude.html#v:foldMap) results in a single monoid value. We also apply our function `f`\n",
    "to the value in the node. Now we have three monoid values (two from our\n",
    "sub-trees and one from applying `f` to the value in the node) and we just\n",
    "have to bang them together into a single value. For this purpose we use\n",
    "[`mappend`](https://hackage.haskell.org/package/base/docs/Prelude.html#v:mappend), and naturally the left sub-tree comes first, then the node\n",
    "value and then the right sub-tree.\n",
    "\n",
    "Notice that we didn't have to provide the function that takes a value\n",
    "and returns a monoid value. We receive that function as a parameter to\n",
    "[`foldMap`](https://hackage.haskell.org/package/base/docs/Prelude.html#v:foldMap) and all we have to decide is where to apply that function and\n",
    "how to join up the resulting monoids from it.\n",
    "\n",
    "Now that we have a [`Foldable`](https://hackage.haskell.org/package/base/docs/Prelude.html#t:Foldable) instance for our tree type, we get [`foldr`](https://hackage.haskell.org/package/base/docs/Prelude.html#v:foldr) and\n",
    "[`foldl`](https://hackage.haskell.org/package/base/docs/Prelude.html#v:foldl) for free! Consider this tree:"
   ]
  },
  {
   "cell_type": "code",
   "execution_count": 187,
   "metadata": {
    "attributes": {
     "classes": [
      "haskell:hs"
     ],
     "id": "",
     "name": "\"code\""
    }
   },
   "outputs": [],
   "source": [
    "testTree = Node 5\n",
    "            (Node 3\n",
    "                (Node 1 Empty Empty)\n",
    "                (Node 6 Empty Empty)\n",
    "            )\n",
    "            (Node 9\n",
    "                (Node 8 Empty Empty)\n",
    "                (Node 10 Empty Empty)\n",
    "            )"
   ]
  },
  {
   "cell_type": "markdown",
   "metadata": {},
   "source": [
    "It has `5` at its root and then its left node is has `3` with `1` on the left\n",
    "and `6` on the right. The root's right node has a `9` and then an `8` to its\n",
    "left and a `10` on the far right side. With a [`Foldable`](https://hackage.haskell.org/package/base/docs/Prelude.html#t:Foldable) instance, we can do\n",
    "all of the folds that we can do on lists:"
   ]
  },
  {
   "cell_type": "code",
   "execution_count": 188,
   "metadata": {
    "attributes": {
     "classes": [
      "haskell:hs"
     ],
     "id": "",
     "name": "\"code\""
    }
   },
   "outputs": [
    {
     "data": {
      "text/plain": [
       "42"
      ]
     },
     "metadata": {},
     "output_type": "display_data"
    }
   ],
   "source": [
    "F.foldl (+) 0 testTree"
   ]
  },
  {
   "cell_type": "code",
   "execution_count": 189,
   "metadata": {
    "attributes": {
     "classes": [
      "haskell:hs"
     ],
     "id": "",
     "name": "\"code\""
    }
   },
   "outputs": [
    {
     "data": {
      "text/plain": [
       "64800"
      ]
     },
     "metadata": {},
     "output_type": "display_data"
    }
   ],
   "source": [
    "F.foldl (*) 1 testTree"
   ]
  },
  {
   "cell_type": "markdown",
   "metadata": {},
   "source": [
    "And also, [`foldMap`](https://hackage.haskell.org/package/base/docs/Prelude.html#v:foldMap) isn't only useful for making new instances of\n",
    "[`Foldable`](https://hackage.haskell.org/package/base/docs/Prelude.html#t:Foldable); it comes in handy for reducing our structure to a single\n",
    "monoid value. For instance, if we want to know if any number in our tree\n",
    "is equal to `3`, we can do this:"
   ]
  },
  {
   "cell_type": "code",
   "execution_count": 190,
   "metadata": {
    "attributes": {
     "classes": [
      "haskell:hs"
     ],
     "id": "",
     "name": "\"code\""
    }
   },
   "outputs": [
    {
     "data": {
      "text/plain": [
       "True"
      ]
     },
     "metadata": {},
     "output_type": "display_data"
    }
   ],
   "source": [
    "getAny $ F.foldMap (\\x -> Any $ x == 3) testTree"
   ]
  },
  {
   "cell_type": "markdown",
   "metadata": {},
   "source": [
    "Here, `\\x -> Any $ x == 3` is a function that takes a number and\n",
    "returns a monoid value, namely a [`Bool`](https://hackage.haskell.org/package/base/docs/Prelude.html#t:Bool) wrapped in [`Any`](https://hackage.haskell.org/package/base/docs/Data-Monoid.html#t:Any). [`foldMap`](https://hackage.haskell.org/package/base/docs/Prelude.html#v:foldMap) applies\n",
    "this function to every element in our tree and then reduces the\n",
    "resulting monoids into a single monoid with [`mappend`](https://hackage.haskell.org/package/base/docs/Prelude.html#v:mappend). If we do this:"
   ]
  },
  {
   "cell_type": "code",
   "execution_count": 191,
   "metadata": {
    "attributes": {
     "classes": [
      "haskell:hs"
     ],
     "id": "",
     "name": "\"code\""
    }
   },
   "outputs": [
    {
     "data": {
      "text/plain": [
       "False"
      ]
     },
     "metadata": {},
     "output_type": "display_data"
    }
   ],
   "source": [
    "getAny $ F.foldMap (\\x -> Any $ x > 15) testTree"
   ]
  },
  {
   "cell_type": "markdown",
   "metadata": {},
   "source": [
    "All of the nodes in our tree would hold the value `Any False` after having\n",
    "the function in the lambda applied to them. But to end up [`True`](https://hackage.haskell.org/package/base/docs/Prelude.html#v:True), [`mappend`](https://hackage.haskell.org/package/base/docs/Prelude.html#v:mappend)\n",
    "for [`Any`](https://hackage.haskell.org/package/base/docs/Data-Monoid.html#t:Any) has to have at least one [`True`](https://hackage.haskell.org/package/base/docs/Prelude.html#v:True) value as a parameter. That's why\n",
    "the final result is [`False`](https://hackage.haskell.org/package/base/docs/Prelude.html#v:False), which makes sense because no value in our\n",
    "tree is greater than `15`.\n",
    "\n",
    "We can also easily turn our tree into a list by doing a [`foldMap`](https://hackage.haskell.org/package/base/docs/Prelude.html#v:foldMap) with the\n",
    "`\\x -> [x]` function. By first projecting that function onto our tree,\n",
    "each element becomes a singleton list. The [`mappend`](https://hackage.haskell.org/package/base/docs/Prelude.html#v:mappend) action that takes\n",
    "place between all those singleton list results in a single list that\n",
    "holds all of the elements that are in our tree:"
   ]
  },
  {
   "cell_type": "code",
   "execution_count": 192,
   "metadata": {
    "attributes": {
     "classes": [
      "haskell:hs"
     ],
     "id": "",
     "name": "\"code\""
    }
   },
   "outputs": [
    {
     "data": {
      "text/plain": [
       "[1,3,6,5,8,9,10]"
      ]
     },
     "metadata": {},
     "output_type": "display_data"
    }
   ],
   "source": [
    "F.foldMap (\\x -> [x]) testTree"
   ]
  },
  {
   "cell_type": "markdown",
   "metadata": {},
   "source": [
    "What's cool is that all of these trick aren't limited to trees, they\n",
    "work on any instance of [`Foldable`](https://hackage.haskell.org/package/base/docs/Prelude.html#t:Foldable)."
   ]
  }
 ],
 "metadata": {
  "kernelspec": {
   "display_name": "Haskell",
   "language": "haskell",
   "name": "haskell"
  },
  "language_info": {
   "codemirror_mode": "ihaskell",
   "file_extension": ".hs",
   "mimetype": "text/x-haskell",
   "name": "haskell",
   "pygments_lexer": "Haskell",
   "version": "9.2.5"
  }
 },
 "nbformat": 4,
 "nbformat_minor": 4
}
