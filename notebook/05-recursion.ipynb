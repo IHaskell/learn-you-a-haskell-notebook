{
 "cells": [
  {
   "cell_type": "markdown",
   "metadata": {},
   "source": [
    "Recursion\n",
    "=========\n",
    "\n",
    "<a name=\"recursion\"></a>\n",
    "\n",
    "Hello recursion!\n",
    "----------------\n",
    "\n",
    "<img src=\"img/recursion.png\" title=\"SOVIET RUSSIA\" style=\"background-color:white;float:left;margin-right:2em;\" />\n",
    "\n",
    "We mention recursion briefly in the previous chapter. In this chapter,\n",
    "we'll take a closer look at recursion, why it's important to Haskell and\n",
    "how we can work out very concise and elegant solutions to problems by\n",
    "thinking recursively.\n",
    "\n",
    "If you still don't know what recursion is, read this sentence. Haha!\n",
    "Just kidding! Recursion is actually a way of defining functions in which\n",
    "the function is applied inside its own definition. Definitions in\n",
    "mathematics are often given recursively. For instance, the Fibonacci\n",
    "sequence is defined recursively. First, we define the first two\n",
    "Fibonacci numbers non-recursively. We say that $F(0) = 0$ and\n",
    "$F(1) = 1$, meaning that the 0th and 1st Fibonacci numbers are 0 and 1,\n",
    "respectively. Then we say that for any other natural number, that\n",
    "Fibonacci number is the sum of the previous two Fibonacci numbers. So\n",
    "$F(n) = F(n-1) + F(n-2)$. That way, $F(3)$ is $F(2) + F(1)$, which is\n",
    "$(F(1) + F(0)) + F(1)$. Because we've now come down to only\n",
    "non-recursively defined Fibonacci numbers, we can safely say that $F(3)$\n",
    "is 2. Having an element or two in a recursion definition defined\n",
    "non-recursively (like $F(0)$ and $F(1)$ here) is also called the __edge\n",
    "condition__ and is important if you want your recursive function to\n",
    "terminate. If we hadn't defined $F(0)$ and $F(1)$ non recursively, you'd\n",
    "never get a solution any number because you'd reach 0 and then you'd go\n",
    "into negative numbers. All of a sudden, you'd be saying that $F(-2000)$\n",
    "is $F(-2001) + F(-2002)$ and there still wouldn't be an end in sight!\n",
    "\n",
    "Recursion is important to Haskell because unlike imperative languages,\n",
    "you do computations in Haskell by declaring what something *is* instead\n",
    "of declaring *how* you get it. That's why there are no while loops or\n",
    "for loops in Haskell and instead we many times have to use recursion to\n",
    "declare what something is.\n",
    "\n",
    "Maximum awesome\n",
    "---------------\n",
    "\n",
    "The [`maximum`](https://hackage.haskell.org/package/base/docs/Prelude.html#v:maximum) function takes a list of things that can be ordered (e.g.\n",
    "instances of the [`Ord`](https://hackage.haskell.org/package/base/docs/Prelude.html#t:Ord) typeclass) and returns the biggest of them. Think\n",
    "about how you'd implement that in an imperative fashion. You'd probably\n",
    "set up a variable to hold the maximum value so far and then you'd loop\n",
    "through the elements of a list and if an element is bigger than then the\n",
    "current maximum value, you'd replace it with that element. The maximum\n",
    "value that remains at the end is the result. Whew! That's quite a lot of\n",
    "words to describe such a simple algorithm!\n",
    "\n",
    "Now let's see how we'd define it recursively. We could first set up an\n",
    "edge condition and say that the maximum of a singleton list is equal to\n",
    "the only element in it. Then we can say that the maximum of a longer\n",
    "list is the head if the head is bigger than the maximum of the tail. If\n",
    "the maximum of the tail is bigger, well, then it's the maximum of the\n",
    "tail. That's it! Now let's implement that in Haskell."
   ]
  },
  {
   "cell_type": "code",
   "execution_count": 1,
   "metadata": {
    "attributes": {
     "classes": [
      "haskell:hs"
     ],
     "id": "",
     "name": "\"code\""
    }
   },
   "outputs": [],
   "source": [
    "maximum' :: (Ord a) => [a] -> a\n",
    "maximum' [] = error \"maximum of empty list\"\n",
    "maximum' [x] = x\n",
    "maximum' (x:xs)\n",
    "    | x > maxTail = x\n",
    "    | otherwise = maxTail\n",
    "    where maxTail = maximum' xs"
   ]
  },
  {
   "cell_type": "markdown",
   "metadata": {},
   "source": [
    "As you can see, pattern matching goes great with recursion! Most\n",
    "imperative languages don't have pattern matching so you have to make a\n",
    "lot of if else statements to test for edge conditions. Here, we simply\n",
    "put them out as patterns. So the first edge condition says that if the\n",
    "list is empty, crash! Makes sense because what's the maximum of an empty\n",
    "list? I don't know. The second pattern also lays out an edge condition.\n",
    "It says that if it's the singleton list, just give back the only\n",
    "element.\n",
    "\n",
    "Now the third pattern is where the action happens. We use pattern\n",
    "matching to split a list into a head and a tail. This is a very common\n",
    "idiom when doing recursion with lists, so get used to it. We use a\n",
    "*where* binding to define `maxTail` as the maximum of the rest of the\n",
    "list. Then we check if the head is greater than the maximum of the rest\n",
    "of the list. If it is, we return the head. Otherwise, we return the\n",
    "maximum of the rest of the list.\n",
    "\n",
    "Let's take an example list of numbers and check out how this would work\n",
    "on them: `[2,5,1]`. If we call `maximum'` on that, the first two patterns\n",
    "won't match. The third one will and the list is split into `2` and `[5,1]`.\n",
    "The *where* clause wants to know the maximum of `[5,1]`, so we follow that\n",
    "route. It matches the third pattern again and `[5,1]` is split into `5` and\n",
    "`[1]`. Again, the `where` clause wants to know the maximum of `[1]`. Because\n",
    "that's the edge condition, it returns `1`. Finally! So going up one step,\n",
    "comparing `5` to the maximum of `[1]` (which is `1`), we obviously get back `5`.\n",
    "So now we know that the maximum of `[5,1]` is `5`. We go up one step again\n",
    "where we had `2` and `[5,1]`. Comparing `2` with the maximum of `[5,1]`, which\n",
    "is `5`, we choose `5`.\n",
    "\n",
    "An even clearer way to write this function is to use [`max`](https://hackage.haskell.org/package/base/docs/Prelude.html#v:max). If you\n",
    "remember, [`max`](https://hackage.haskell.org/package/base/docs/Prelude.html#v:max) is a function that takes two numbers and returns the\n",
    "bigger of them. Here's how we could rewrite `maximum'` by using [`max`](https://hackage.haskell.org/package/base/docs/Prelude.html#v:max):"
   ]
  },
  {
   "cell_type": "code",
   "execution_count": 2,
   "metadata": {
    "attributes": {
     "classes": [
      "haskell:hs"
     ],
     "id": "",
     "name": "\"code\""
    }
   },
   "outputs": [],
   "source": [
    "maximum' :: (Ord a) => [a] -> a\n",
    "maximum' [] = error \"maximum of empty list\"\n",
    "maximum' [x] = x\n",
    "maximum' (x:xs) = max x (maximum' xs)"
   ]
  },
  {
   "cell_type": "markdown",
   "metadata": {},
   "source": [
    "How's that for elegant! In essence, the maximum of a list is the max of\n",
    "the first element and the maximum of the tail.\n",
    "\n",
    "<img src=\"img/maxs.png\" title=\"max\" style=\"background-color:white;\" />\n",
    "\n",
    "A few more recursive functions\n",
    "------------------------------\n",
    "\n",
    "Now that we know how to generally think recursively, let's implement a\n",
    "few functions using recursion. First off, we'll implement [`replicate`](https://hackage.haskell.org/package/base/docs/Prelude.html#v:replicate).\n",
    "[`replicate`](https://hackage.haskell.org/package/base/docs/Prelude.html#v:replicate) takes an [`Int`](https://hackage.haskell.org/package/base/docs/Prelude.html#t:Int) and some element and returns a list that has\n",
    "several repetitions of the same element. For instance, `replicate 3 5`\n",
    "returns `[5,5,5]`. Let's think about the edge condition. My guess is that\n",
    "the edge condition is 0 or less. If we try to replicate something zero\n",
    "times, it should return an empty list. Also for negative numbers,\n",
    "because it doesn't really make sense."
   ]
  },
  {
   "cell_type": "code",
   "execution_count": 3,
   "metadata": {
    "attributes": {
     "classes": [
      "haskell:hs"
     ],
     "id": "",
     "name": "\"code\""
    }
   },
   "outputs": [],
   "source": [
    "replicate' :: (Num i, Ord i) => i -> a -> [a]\n",
    "replicate' n x\n",
    "    | n <= 0    = []\n",
    "    | otherwise = x:replicate' (n-1) x"
   ]
  },
  {
   "cell_type": "markdown",
   "metadata": {},
   "source": [
    "We used guards here instead of patterns because we're testing for a\n",
    "boolean condition. If `n` is less than or equal to 0, return an empty\n",
    "list. Otherwise return a list that has `x` as the first element and then `x`\n",
    "replicated n-1 times as the tail. Eventually, the `(n-1)` part will cause\n",
    "our function to reach the edge condition.\n",
    "\n",
    "> __Note:__ [`Num`](https://hackage.haskell.org/package/base/docs/Prelude.html#t:Num) is not a subclass of [`Ord`](https://hackage.haskell.org/package/base/docs/Prelude.html#t:Ord). That means that what constitutes\n",
    "> for a number doesn't really have to adhere to an ordering. So that's why\n",
    "> we have to specify both the [`Num`](https://hackage.haskell.org/package/base/docs/Prelude.html#t:Num) and [`Ord`](https://hackage.haskell.org/package/base/docs/Prelude.html#t:Ord) class constraints when doing\n",
    "> addition or subtraction and also comparison.\n",
    "\n",
    "Next up, we'll implement [`take`](https://hackage.haskell.org/package/base/docs/Prelude.html#v:take). It takes a certain number of elements\n",
    "from a list. For instance, `take 3 [5,4,3,2,1]` will return `[5,4,3]`. If we\n",
    "try to take 0 or less elements from a list, we get an empty list. Also\n",
    "if we try to take anything from an empty list, we get an empty list.\n",
    "Notice that those are two edge conditions right there. So let's write\n",
    "that out:"
   ]
  },
  {
   "cell_type": "code",
   "execution_count": 4,
   "metadata": {
    "attributes": {
     "classes": [
      "haskell:hs"
     ],
     "id": "",
     "name": "\"code\""
    }
   },
   "outputs": [],
   "source": [
    "take' :: (Num i, Ord i) => i -> [a] -> [a]\n",
    "take' n _\n",
    "    | n <= 0   = []\n",
    "take' _ []     = []\n",
    "take' n (x:xs) = x : take' (n-1) xs"
   ]
  },
  {
   "cell_type": "markdown",
   "metadata": {},
   "source": [
    "<img src=\"img/painter.png\" title=\"painter\" style=\"background-color:white;float:right;margin-left:2em;\" />\n",
    "\n",
    "The first pattern specifies that if we try to take a 0 or negative\n",
    "number of elements, we get an empty list. Notice that we're using `_` to\n",
    "match the list because we don't really care what it is in this case.\n",
    "Also notice that we use a guard, but without an [`otherwise`](https://hackage.haskell.org/package/base/docs/Prelude.html#v:otherwise) part. That\n",
    "means that if `n` turns out to be more than 0, the matching will fall\n",
    "through to the next pattern. The second pattern indicates that if we try\n",
    "to take anything from an empty list, we get an empty list. The third\n",
    "pattern breaks the list into a head and a tail. And then we state that\n",
    "taking `n` elements from a list equals a list that has `x` as the head and\n",
    "then a list that takes `n-1` elements from the tail as a tail. Try using a\n",
    "piece of paper to write down how the evaluation would look like if we\n",
    "try to take, say, 3 from `[4,3,2,1]`.\n",
    "\n",
    "[`reverse`](https://hackage.haskell.org/package/base/docs/Prelude.html#v:reverse) simply reverses a list. Think about the edge condition. What is\n",
    "it? Come on ... it's the empty list! An empty list reversed equals the\n",
    "empty list itself. O-kay. What about the rest of it? Well, you could say\n",
    "that if we split a list to a head and a tail, the reversed list is equal\n",
    "to the reversed tail and then the head at the end."
   ]
  },
  {
   "cell_type": "code",
   "execution_count": 5,
   "metadata": {
    "attributes": {
     "classes": [
      "haskell:hs"
     ],
     "id": "",
     "name": "\"code\""
    }
   },
   "outputs": [],
   "source": [
    "reverse' :: [a] -> [a]\n",
    "reverse' [] = []\n",
    "reverse' (x:xs) = reverse' xs ++ [x]"
   ]
  },
  {
   "cell_type": "markdown",
   "metadata": {},
   "source": [
    "There we go!\n",
    "\n",
    "Because Haskell supports infinite lists, our recursion doesn't really\n",
    "have to have an edge condition. But if it doesn't have it, it will\n",
    "either keep churning at something infinitely or produce an infinite data\n",
    "structure, like an infinite list. The good thing about infinite lists\n",
    "though is that we can cut them where we want. [`repeat`](https://hackage.haskell.org/package/base/docs/Prelude.html#v:repeat) takes an element\n",
    "and returns an infinite list that just has that element. A recursive\n",
    "implementation of that is really easy, watch."
   ]
  },
  {
   "cell_type": "code",
   "execution_count": 6,
   "metadata": {
    "attributes": {
     "classes": [
      "haskell:hs"
     ],
     "id": "",
     "name": "\"code\""
    }
   },
   "outputs": [],
   "source": [
    "repeat' :: a -> [a]\n",
    "repeat' x = x:repeat' x"
   ]
  },
  {
   "cell_type": "markdown",
   "metadata": {},
   "source": [
    "Calling `repeat 3` will give us a list that starts with `3` and then has an\n",
    "infinite amount of 3's as a tail. So calling `repeat 3` would evaluate\n",
    "like `3:repeat 3`, which is `3:(3:repeat 3)`, which is `3:(3:(3:repeat 3))`,\n",
    "etc. `repeat 3` will never finish evaluating, whereas `take 5 (repeat 3)`\n",
    "will give us a list of five 3's. So essentially it's like doing\n",
    "`replicate 5 3`.\n",
    "\n",
    "[`zip`](https://hackage.haskell.org/package/base/docs/Prelude.html#v:zip) takes two lists and zips them together. `zip [1,2,3] [2,3]` returns\n",
    "`[(1,2),(2,3)]`, because it truncates the longer list to match the length\n",
    "of the shorter one. How about if we zip something with an empty list?\n",
    "Well, we get an empty list back then. So there's our edge condition.\n",
    "However, [`zip`](https://hackage.haskell.org/package/base/docs/Prelude.html#v:zip) takes two lists as parameters, so there are actually two\n",
    "edge conditions."
   ]
  },
  {
   "cell_type": "code",
   "execution_count": 7,
   "metadata": {
    "attributes": {
     "classes": [
      "haskell:hs"
     ],
     "id": "",
     "name": "\"code\""
    }
   },
   "outputs": [],
   "source": [
    "zip' :: [a] -> [b] -> [(a,b)]\n",
    "zip' _ [] = []\n",
    "zip' [] _ = []\n",
    "zip' (x:xs) (y:ys) = (x,y):zip' xs ys"
   ]
  },
  {
   "cell_type": "markdown",
   "metadata": {},
   "source": [
    "First two patterns say that if the first list or second list is empty,\n",
    "we get an empty list. The third one says that two lists zipped are equal\n",
    "to pairing up their heads and then tacking on the zipped tails. Zipping\n",
    "`[1,2,3]` and `['a','b']` will eventually try to zip `[3]` with `[]`. The edge\n",
    "condition patterns kick in and so the result is `(1,'a'):(2,'b'):[]`,\n",
    "which is exactly the same as `[(1,'a'),(2,'b')]`.\n",
    "\n",
    "Let's implement one more standard library function — [`elem`](https://hackage.haskell.org/package/base/docs/Prelude.html#v:elem). It takes an\n",
    "element and a list and sees if that element is in the list. The edge\n",
    "condition, as is most of the times with lists, is the empty list. We\n",
    "know that an empty list contains no elements, so it certainly doesn't\n",
    "have the droids we're looking for."
   ]
  },
  {
   "cell_type": "code",
   "execution_count": 8,
   "metadata": {
    "attributes": {
     "classes": [
      "haskell:hs"
     ],
     "id": "",
     "name": "\"code\""
    }
   },
   "outputs": [],
   "source": [
    "elem' :: (Eq a) => a -> [a] -> Bool\n",
    "elem' a [] = False\n",
    "elem' a (x:xs)\n",
    "    | a == x    = True\n",
    "    | otherwise = a `elem'` xs"
   ]
  },
  {
   "cell_type": "markdown",
   "metadata": {},
   "source": [
    "Pretty simple and expected. If the head isn't the element then we check\n",
    "the tail. If we reach an empty list, the result is [`False`](https://hackage.haskell.org/package/base/docs/Prelude.html#v:False).\n",
    "\n",
    "Quick, sort!\n",
    "------------\n",
    "\n",
    "We have a list of items that can be sorted. Their type is an instance of\n",
    "the [`Ord`](https://hackage.haskell.org/package/base/docs/Prelude.html#t:Ord) typeclass. And now, we want to sort them! There's a very cool\n",
    "algorithm for sorting called quicksort. It's a very clever way of sorting\n",
    "items. While it takes upwards of 10 lines to implement quicksort in\n",
    "imperative languages, the implementation is much shorter and elegant in\n",
    "Haskell. Quicksort has become a sort of poster child for Haskell.\n",
    "Therefore, let's implement it here, even though implementing quicksort\n",
    "in Haskell is considered really cheesy because everyone does it to\n",
    "showcase how elegant Haskell is.\n",
    "\n",
    "<img src=\"img/quickman.png\" title=\"quickman\" style=\"background-color:white;float:left;margin-right:2em;\" />\n",
    "\n",
    "So, the type signature is going to be\n",
    "`quicksort :: (Ord a) => [a] -> [a]`.\n",
    "No surprises there. The edge condition? Empty list, as is expected.\n",
    "A sorted empty list is an empty list. Now here comes the main algorithm:\n",
    "__a sorted list is a list that has all the values smaller than (or equal\n",
    "to) the head of the list in front (and those values are sorted), then\n",
    "comes the head of the list in the middle and then come all the values\n",
    "that are bigger than the head (they're also sorted).__ Notice that we\n",
    "said *sorted* two times in this definition, so we'll probably have to\n",
    "make the recursive call twice! Also notice that we defined it using the\n",
    "verb *is* to define the algorithm instead of saying *do this, do that,\n",
    "then do that ...*. That's the beauty of functional programming! How are\n",
    "we going to filter the list so that we get only the elements smaller\n",
    "than the head of our list and only elements that are bigger? List\n",
    "comprehensions. So, let's dive in and define this function."
   ]
  },
  {
   "cell_type": "code",
   "execution_count": 9,
   "metadata": {
    "attributes": {
     "classes": [
      "haskell:hs"
     ],
     "id": "",
     "name": "\"code\""
    }
   },
   "outputs": [],
   "source": [
    "quicksort :: (Ord a) => [a] -> [a]\n",
    "quicksort [] = []\n",
    "quicksort (x:xs) =\n",
    "    let smallerSorted = quicksort [a | a <- xs, a <= x]\n",
    "        biggerSorted = quicksort [a | a <- xs, a > x]\n",
    "    in  smallerSorted ++ [x] ++ biggerSorted"
   ]
  },
  {
   "cell_type": "markdown",
   "metadata": {},
   "source": [
    "Let's give it a small test run to see if it appears to behave correctly."
   ]
  },
  {
   "cell_type": "code",
   "execution_count": 10,
   "metadata": {
    "attributes": {
     "classes": [
      "haskell:ghci"
     ],
     "id": "",
     "name": "\"code\""
    }
   },
   "outputs": [
    {
     "data": {
      "text/plain": [
       "[1,2,2,3,3,4,4,5,6,7,8,9,10]"
      ]
     },
     "metadata": {},
     "output_type": "display_data"
    }
   ],
   "source": [
    "quicksort [10,2,5,3,1,6,7,4,2,3,4,8,9]"
   ]
  },
  {
   "cell_type": "code",
   "execution_count": 11,
   "metadata": {
    "attributes": {
     "classes": [
      "haskell:ghci"
     ],
     "id": "",
     "name": "\"code\""
    }
   },
   "outputs": [
    {
     "data": {
      "text/plain": [
       "\"        abcdeeefghhijklmnoooopqrrsttuuvwxyz\""
      ]
     },
     "metadata": {},
     "output_type": "display_data"
    }
   ],
   "source": [
    "quicksort \"the quick brown fox jumps over the lazy dog\""
   ]
  },
  {
   "cell_type": "markdown",
   "metadata": {},
   "source": [
    "Booyah! That's what I'm talking about! So if we have, say\n",
    "`[5,1,9,4,6,7,3]` and we want to sort it, this algorithm will first take\n",
    "the head, which is `5` and then put it in the middle of two lists that are\n",
    "smaller and bigger than it. So at one point, you'll have\n",
    "`[1,4,3] ++ [5] ++ [9,6,7]`. We know that once the list is sorted completely,\n",
    "the number `5` will stay in the fourth place since there are 3 numbers lower\n",
    "than it and 3 numbers higher than it. Now, if we sort `[1,4,3]` and `[9,6,7]`, we\n",
    "have a sorted list! We sort the two lists using the same function.\n",
    "Eventually, we'll break it up so much that we reach empty lists and an\n",
    "empty list is already sorted in a way, by virtue of being empty. Here's\n",
    "an illustration:\n",
    "\n",
    "<img src=\"img/quicksort.png\" title=\"quicksort\" style=\"background-color:white;\" />\n",
    "\n",
    "An element that is in place and won't move anymore is represented in\n",
    "<span style=\"color:darkorange;font-weight:bold\">orange</span>. If you read them from left to right, you'll see the sorted list.\n",
    "Although we chose to compare all the elements to the heads, we could\n",
    "have used any element to compare against. In quicksort, an element that\n",
    "you compare against is called a pivot. They're in <span style=\"color:green;font-weight:bold;\">green</span> here. We chose\n",
    "the head because it's easy to get by pattern matching. The elements that\n",
    "are smaller than the pivot are <span style=\"color:lightgreen;font-weight:bold;\">light green</span> and elements larger than the\n",
    "pivot are dark green. The yellowish gradient thing represents an\n",
    "application of quicksort.\n",
    "\n",
    "Thinking recursively\n",
    "--------------------\n",
    "\n",
    "We did quite a bit of recursion so far and as you've probably noticed,\n",
    "there's a pattern here. Usually you define an edge case and then you\n",
    "define a function that does something between some element and the\n",
    "function applied to the rest. It doesn't matter if it's a list, a tree\n",
    "or any other data structure. A sum is the first element of a list plus\n",
    "the sum of the rest of the list. A product of a list is the first\n",
    "element of the list times the product of the rest of the list. The\n",
    "length of a list is one plus the length of the tail of the list.\n",
    "Ekcetera, ekcetera ...\n",
    "\n",
    "<img src=\"img/brain.png\" title=\"brain\" style=\"background-color:white;float:left;margin-right:2em;\" />\n",
    "\n",
    "Of course, these also have edge cases. Usually the edge case is some\n",
    "scenario where a recursive application doesn't make sense. When dealing\n",
    "with lists, the edge case is most often the empty list. If you're\n",
    "dealing with trees, the edge case is usually a node that doesn't have\n",
    "any children.\n",
    "\n",
    "It's similar when you're dealing with numbers recursively. Usually it\n",
    "has to do with some number and the function applied to that number\n",
    "modified. We did the factorial function earlier and it's the product of\n",
    "a number and the factorial of that number minus one. Such a recursive\n",
    "application doesn't make sense with zero, because factorials are defined\n",
    "only for positive integers. Often the edge case value turns out to be an\n",
    "identity. The identity for multiplication is 1 because if you multiply\n",
    "something by 1, you get that something back. Also when doing sums of\n",
    "lists, we define the sum of an empty list as 0 and 0 is the identity for\n",
    "addition. In quicksort, the edge case is the empty list and the identity\n",
    "is also the empty list, because if you add an empty list to a list, you\n",
    "just get the original list back.\n",
    "\n",
    "So when trying to think of a recursive way to solve a problem, try to\n",
    "think of when a recursive solution doesn't apply and see if you can use\n",
    "that as an edge case, think about identities and think about whether\n",
    "you'll break apart the parameters of the function (for instance, lists\n",
    "are usually broken into a head and a tail via pattern matching) and on\n",
    "which part you'll use the recursive call."
   ]
  }
 ],
 "metadata": {
  "kernelspec": {
   "display_name": "Haskell",
   "language": "haskell",
   "name": "haskell"
  },
  "language_info": {
   "codemirror_mode": "ihaskell",
   "file_extension": ".hs",
   "mimetype": "text/x-haskell",
   "name": "haskell",
   "pygments_lexer": "Haskell",
   "version": "9.2.5"
  }
 },
 "nbformat": 4,
 "nbformat_minor": 4
}
