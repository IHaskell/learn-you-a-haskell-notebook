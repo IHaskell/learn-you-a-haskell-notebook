{
 "cells": [
  {
   "cell_type": "markdown",
   "metadata": {
    "tags": []
   },
   "source": [
    "Syntax in Functions\n",
    "===================\n",
    "\n",
    "Pattern matching\n",
    "----------------\n",
    "\n",
    "<img src=\"img/pattern.png\" title=\"four!\" style=\"background-color:white;float:right;margin-left:2em;\" />\n",
    "\n",
    "This chapter will cover some of Haskell's cool syntactic constructs and\n",
    "we'll start with pattern matching. Pattern matching consists of\n",
    "specifying patterns to which some data should conform and then checking\n",
    "to see if it does and deconstructing the data according to those\n",
    "patterns.\n",
    "\n",
    "When defining functions, you can define separate function bodies for\n",
    "different patterns. This leads to really neat code that's simple and\n",
    "readable. You can pattern match on any data type — numbers, characters,\n",
    "lists, tuples, etc. Let's make a really trivial function that checks if\n",
    "the number we supplied to it is a seven or not."
   ]
  },
  {
   "cell_type": "markdown",
   "metadata": {},
   "source": [
    "> __Jupyter Note:__ We'll turn off the [automatic linting for IHaskell](https://github.com/IHaskell/IHaskell/wiki#opt-no-lint) first."
   ]
  },
  {
   "cell_type": "code",
   "execution_count": 1,
   "metadata": {},
   "outputs": [],
   "source": [
    ":opt no-lint"
   ]
  },
  {
   "cell_type": "code",
   "execution_count": 2,
   "metadata": {
    "attributes": {
     "classes": [
      "haskell:",
      "hs"
     ],
     "id": "",
     "name": "\"code\""
    }
   },
   "outputs": [],
   "source": [
    "lucky :: (Integral a) => a -> String\n",
    "lucky 7 = \"LUCKY NUMBER SEVEN!\"\n",
    "lucky x = \"Sorry, you're out of luck, pal!\""
   ]
  },
  {
   "cell_type": "markdown",
   "metadata": {},
   "source": [
    "When you call `lucky`, the patterns will be checked from top to bottom and\n",
    "when it conforms to a pattern, the corresponding function body will be\n",
    "used. The only way a number can conform to the first pattern here is if\n",
    "it is 7. If it's not, it falls through to the second pattern, which\n",
    "matches anything and binds it to `x`. This function could have also been\n",
    "implemented by using an if statement. But what if we wanted a function\n",
    "that says the numbers from 1 to 5 and says `\"Not between 1 and 5\"` for any\n",
    "other number? Without pattern matching, we'd have to make a pretty\n",
    "convoluted if then else tree. However, with it:"
   ]
  },
  {
   "cell_type": "code",
   "execution_count": 3,
   "metadata": {
    "attributes": {
     "classes": [
      "haskell:",
      "hs"
     ],
     "id": "",
     "name": "\"code\""
    }
   },
   "outputs": [],
   "source": [
    "sayMe :: (Integral a) => a -> String\n",
    "sayMe 1 = \"One!\"\n",
    "sayMe 2 = \"Two!\"\n",
    "sayMe 3 = \"Three!\"\n",
    "sayMe 4 = \"Four!\"\n",
    "sayMe 5 = \"Five!\"\n",
    "sayMe x = \"Not between 1 and 5\""
   ]
  },
  {
   "cell_type": "markdown",
   "metadata": {},
   "source": [
    "Note that if we moved the last pattern (the catch-all one) to the top,\n",
    "it would always say `\"Not between 1 and 5\"`, because it would catch all\n",
    "the numbers and they wouldn't have a chance to fall through and be\n",
    "checked for any other patterns.\n",
    "\n",
    "Remember the factorial function we implemented previously? We defined\n",
    "the factorial of a number `n` as `product [1..n]`. We can also define a\n",
    "factorial function *recursively*, the way it is usually defined in\n",
    "mathematics. We start by saying that the factorial of 0 is 1. Then we\n",
    "state that the factorial of any positive integer is that integer\n",
    "multiplied by the factorial of its predecessor. Here's how that looks\n",
    "like translated in Haskell terms."
   ]
  },
  {
   "cell_type": "code",
   "execution_count": 4,
   "metadata": {
    "attributes": {
     "classes": [
      "haskell:",
      "hs"
     ],
     "id": "",
     "name": "\"code\""
    }
   },
   "outputs": [],
   "source": [
    "factorial :: (Integral a) => a -> a\n",
    "factorial 0 = 1\n",
    "factorial n = n * factorial (n - 1)"
   ]
  },
  {
   "cell_type": "markdown",
   "metadata": {},
   "source": [
    "This is the first time we've defined a function recursively. Recursion\n",
    "is important in Haskell and we'll take a closer look at it later. But in\n",
    "a nutshell, this is what happens if we try to get the factorial of, say, 3. \n",
    "It tries to compute `3 * factorial 2`. The factorial of 2 is\n",
    "`2 * factorial 1`, so for now we have `3 * (2 * factorial 1)`.\n",
    "`factorial 1` is `1 * factorial 0`, so we have\n",
    "`3 * (2 * (1 * factorial 0))`. Now here comes the trick — we've defined\n",
    "the factorial of 0 to be just 1 and\n",
    "because it encounters that pattern before the catch-all one, it just\n",
    "returns 1. So the final result is equivalent to `3 * (2 * (1 * 1))`.\n",
    "Had we written the second pattern on top of the first one, it would\n",
    "catch all numbers, including 0 and our calculation would never\n",
    "terminate. That's why order is important when specifying patterns and\n",
    "it's always best to specify the most specific ones first and then the\n",
    "more general ones later.\n",
    "\n",
    "Pattern matching can also fail. If we define a function like this:"
   ]
  },
  {
   "cell_type": "code",
   "execution_count": 5,
   "metadata": {
    "attributes": {
     "classes": [
      "haskell:",
      "hs"
     ],
     "id": "",
     "name": "\"code\""
    }
   },
   "outputs": [],
   "source": [
    "charName :: Char -> String\n",
    "charName 'a' = \"Albert\"\n",
    "charName 'b' = \"Broseph\"\n",
    "charName 'c' = \"Cecil\""
   ]
  },
  {
   "cell_type": "markdown",
   "metadata": {},
   "source": [
    "and then try to call it with an input that we didn't expect, this is\n",
    "what happens:"
   ]
  },
  {
   "cell_type": "code",
   "execution_count": 6,
   "metadata": {
    "attributes": {
     "classes": [
      "haskell:",
      "ghci"
     ],
     "id": "",
     "name": "\"code\""
    }
   },
   "outputs": [
    {
     "data": {
      "text/plain": [
       "\"Albert\""
      ]
     },
     "metadata": {},
     "output_type": "display_data"
    }
   ],
   "source": [
    "charName 'a'"
   ]
  },
  {
   "cell_type": "code",
   "execution_count": 7,
   "metadata": {
    "attributes": {
     "classes": [
      "haskell:",
      "ghci"
     ],
     "id": "",
     "name": "\"code\""
    }
   },
   "outputs": [
    {
     "data": {
      "text/plain": [
       "\"Broseph\""
      ]
     },
     "metadata": {},
     "output_type": "display_data"
    }
   ],
   "source": [
    "charName 'b'"
   ]
  },
  {
   "cell_type": "code",
   "execution_count": 8,
   "metadata": {
    "attributes": {
     "classes": [
      "haskell:",
      "ghci"
     ],
     "id": "",
     "name": "\"code\""
    }
   },
   "outputs": [
    {
     "ename": "",
     "evalue": "",
     "output_type": "error",
     "traceback": [
      "<interactive>:(2,1)-(4,22): Non-exhaustive patterns in function charName"
     ]
    }
   ],
   "source": [
    "charName 'h'"
   ]
  },
  {
   "cell_type": "markdown",
   "metadata": {},
   "source": [
    "It complains that we have non-exhaustive patterns, and rightfully so.\n",
    "When making patterns, we should always include a catch-all pattern so\n",
    "that our program doesn't crash if we get some unexpected input.\n",
    "\n",
    "Pattern matching can also be used on tuples. What if we wanted to make a\n",
    "function that takes two vectors in a 2D space (that are in the form of\n",
    "pairs) and adds them together? To add together two vectors, we add their\n",
    "x components separately and then their y components separately. Here's\n",
    "how we would have done it if we didn't know about pattern matching:"
   ]
  },
  {
   "cell_type": "code",
   "execution_count": 9,
   "metadata": {
    "attributes": {
     "classes": [
      "haskell:",
      "hs"
     ],
     "id": "",
     "name": "\"code\""
    }
   },
   "outputs": [],
   "source": [
    "addVectors :: (Num a) => (a, a) -> (a, a) -> (a, a)\n",
    "addVectors a b = (fst a + fst b, snd a + snd b)"
   ]
  },
  {
   "cell_type": "markdown",
   "metadata": {},
   "source": [
    "Well, that works, but there's a better way to do it. Let's modify the\n",
    "function so that it uses pattern matching."
   ]
  },
  {
   "cell_type": "code",
   "execution_count": 10,
   "metadata": {
    "attributes": {
     "classes": [
      "haskell:",
      "hs"
     ],
     "id": "",
     "name": "\"code\""
    }
   },
   "outputs": [],
   "source": [
    "addVectors :: (Num a) => (a, a) -> (a, a) -> (a, a)\n",
    "addVectors (x1, y1) (x2, y2) = (x1 + x2, y1 + y2)"
   ]
  },
  {
   "cell_type": "markdown",
   "metadata": {},
   "source": [
    "There we go! Much better. Note that this is already a catch-all pattern.\n",
    "The type of `addVectors` (in both cases) is\n",
    "`addVectors :: (Num a) => (a, a) -> (a, a) -> (a, a)`,\n",
    "so we are guaranteed to get two pairs as\n",
    "parameters.\n",
    "\n",
    "[`fst`](https://hackage.haskell.org/package/base/docs/Prelude.html#v:fst) and [`snd`](https://hackage.haskell.org/package/base/docs/Prelude.html#v:snd) extract the components of pairs. But what about triples?\n",
    "Well, there are no provided functions that do that but we can make our\n",
    "own."
   ]
  },
  {
   "cell_type": "code",
   "execution_count": 11,
   "metadata": {
    "attributes": {
     "classes": [
      "haskell:",
      "hs"
     ],
     "id": "",
     "name": "\"code\""
    }
   },
   "outputs": [],
   "source": [
    "first :: (a, b, c) -> a\n",
    "first (x, _, _) = x\n",
    "\n",
    "second :: (a, b, c) -> b\n",
    "second (_, y, _) = y\n",
    "\n",
    "third :: (a, b, c) -> c\n",
    "third (_, _, z) = z"
   ]
  },
  {
   "cell_type": "markdown",
   "metadata": {},
   "source": [
    "The `_` means the same thing as it does in list comprehensions. It means\n",
    "that we really don't care what that part is, so we just write a `_`.\n",
    "\n",
    "Which reminds me, you can also pattern match in list comprehensions.\n",
    "Check this out:"
   ]
  },
  {
   "cell_type": "code",
   "execution_count": 12,
   "metadata": {
    "attributes": {
     "classes": [
      "haskell:",
      "ghci"
     ],
     "id": "",
     "name": "\"code\""
    }
   },
   "outputs": [
    {
     "data": {
      "text/plain": [
       "[4,7,6,8,11,4]"
      ]
     },
     "metadata": {},
     "output_type": "display_data"
    }
   ],
   "source": [
    "let xs = [(1,3), (4,3), (2,4), (5,3), (5,6), (3,1)]\n",
    "[a+b | (a,b) <- xs]"
   ]
  },
  {
   "cell_type": "markdown",
   "metadata": {},
   "source": [
    "Should a pattern match fail, it will just move on to the next element.\n",
    "\n",
    "Lists themselves can also be used in pattern matching. You can match\n",
    "with the empty list `[]` or any pattern that involves `:` and the empty\n",
    "list. But since `[1,2,3]` is just syntactic sugar for `1:2:3:[]`, you can\n",
    "also use the former pattern. A pattern like `x:xs` will bind the head of\n",
    "the list to `x` and the rest of it to `xs`, even if there's only one element\n",
    "so `xs` ends up being an empty list.\n",
    "\n",
    "> __Note:__ The `x:xs` pattern is used a lot, especially with recursive\n",
    "> functions. But patterns that have `:` in them only match against lists of\n",
    "> length 1 or more.\n",
    "\n",
    "If you want to bind, say, the first three elements to variables and the\n",
    "rest of the list to another variable, you can use something like\n",
    "`x:y:z:zs`. It will only match against lists that have three elements or\n",
    "more.\n",
    "\n",
    "Now that we know how to pattern match against list, let's make our own\n",
    "implementation of the [`head`](https://hackage.haskell.org/package/base/docs/Prelude.html#v:head) function."
   ]
  },
  {
   "cell_type": "code",
   "execution_count": 13,
   "metadata": {
    "attributes": {
     "classes": [
      "haskell:",
      "hs"
     ],
     "id": "",
     "name": "\"code\""
    }
   },
   "outputs": [],
   "source": [
    "head' :: [a] -> a\n",
    "head' [] = error \"Can't call head on an empty list, dummy!\"\n",
    "head' (x:_) = x"
   ]
  },
  {
   "cell_type": "markdown",
   "metadata": {},
   "source": [
    "Checking if it works:"
   ]
  },
  {
   "cell_type": "code",
   "execution_count": 14,
   "metadata": {
    "attributes": {
     "classes": [
      "haskell:",
      "ghci"
     ],
     "id": "",
     "name": "\"code\""
    }
   },
   "outputs": [
    {
     "data": {
      "text/plain": [
       "4"
      ]
     },
     "metadata": {},
     "output_type": "display_data"
    }
   ],
   "source": [
    "head' [4,5,6]"
   ]
  },
  {
   "cell_type": "code",
   "execution_count": 15,
   "metadata": {
    "attributes": {
     "classes": [
      "haskell:",
      "ghci"
     ],
     "id": "",
     "name": "\"code\""
    }
   },
   "outputs": [
    {
     "data": {
      "text/plain": [
       "'H'"
      ]
     },
     "metadata": {},
     "output_type": "display_data"
    }
   ],
   "source": [
    "head' \"Hello\""
   ]
  },
  {
   "cell_type": "markdown",
   "metadata": {},
   "source": [
    "Nice! Notice that if you want to bind to several variables (even if one\n",
    "of them is just `_` and doesn't actually bind at all), we have to\n",
    "surround them in parentheses. Also notice the [`error`](https://hackage.haskell.org/package/base/docs/Prelude.html#v:error) function that we\n",
    "used. It takes a string and generates a runtime error, using that string\n",
    "as information about what kind of error occurred. It causes the program\n",
    "to crash, so it's not good to use it too much. But calling [`head`](https://hackage.haskell.org/package/base/docs/Prelude.html#v:head) on an\n",
    "empty list doesn't make sense.\n",
    "\n",
    "Let's make a trivial function that tells us some of the first elements\n",
    "of the list in (in)convenient English form."
   ]
  },
  {
   "cell_type": "code",
   "execution_count": 16,
   "metadata": {
    "attributes": {
     "classes": [
      "haskell:",
      "hs"
     ],
     "id": "",
     "name": "\"code\""
    }
   },
   "outputs": [],
   "source": [
    "tell :: (Show a) => [a] -> String\n",
    "tell [] = \"The list is empty\"\n",
    "tell (x:[]) = \"The list has one element: \" ++ show x\n",
    "tell (x:y:[]) = \"The list has two elements: \" ++ show x ++ \" and \" ++ show y\n",
    "tell (x:y:_) = \"This list is long. The first two elements are: \" ++ show x ++ \" and \" ++ show y"
   ]
  },
  {
   "cell_type": "markdown",
   "metadata": {},
   "source": [
    "This function is safe because it takes care of the empty list, a\n",
    "singleton list, a list with two elements and a list with more than two\n",
    "elements. Note that `(x:[])` and `(x:y:[])` could be rewritten as `[x]` and\n",
    "`[x,y]` (because its syntactic sugar, we don't need the parentheses). We\n",
    "can't rewrite `(x:y:_)` with square brackets because it matches any list\n",
    "of length 2 or more.\n",
    "\n",
    "We already implemented our own [`length`](https://hackage.haskell.org/package/base/docs/Prelude.html#v:length) function using list comprehension.\n",
    "Now we'll do it by using pattern matching and a little recursion:"
   ]
  },
  {
   "cell_type": "code",
   "execution_count": 17,
   "metadata": {
    "attributes": {
     "classes": [
      "haskell:",
      "hs"
     ],
     "id": "",
     "name": "\"code\""
    }
   },
   "outputs": [],
   "source": [
    "length' :: (Num b) => [a] -> b\n",
    "length' [] = 0\n",
    "length' (_:xs) = 1 + length' xs"
   ]
  },
  {
   "cell_type": "markdown",
   "metadata": {},
   "source": [
    "This is similar to the factorial function we wrote earlier. First we\n",
    "defined the result of a known input — the empty list. This is also known\n",
    "as the edge condition. Then in the second pattern we take the list apart\n",
    "by splitting it into a head and a tail. We say that the length is equal\n",
    "to 1 plus the length of the tail. We use `_` to match the head because we\n",
    "don't actually care what it is. Also note that we've taken care of all\n",
    "possible patterns of a list. The first pattern matches an empty list and\n",
    "the second one matches anything that isn't an empty list.\n",
    "\n",
    "Let's see what happens if we call `length'` on `\"ham\"`. First, it will check\n",
    "if it's an empty list. Because it isn't, it falls through to the second\n",
    "pattern. It matches on the second pattern and there it says that the\n",
    "length is `1 + length' \"am\"`, because we broke it into a head and a tail\n",
    "and discarded the head. O-kay. The `length'` of `\"am\"` is, similarly,\n",
    "`1 + length' \"m\"`.\n",
    "So right now we have `1 + (1 + length' \"m\")`. `length' \"m\"` is\n",
    "`1 + length' \"\"` (could also be written as `1 + length' []`). And we've\n",
    "defined `length' []` to be `0`. So in the end we have `1 + (1 + (1 + 0))`.\n",
    "\n",
    "Let's implement [`sum`](https://hackage.haskell.org/package/base/docs/Prelude.html#v:sum). We know that the sum of an empty list is 0. We\n",
    "write that down as a pattern. And we also know that the sum of a list is\n",
    "the head plus the sum of the rest of the list. So if we write that down,\n",
    "we get:"
   ]
  },
  {
   "cell_type": "code",
   "execution_count": 18,
   "metadata": {
    "attributes": {
     "classes": [
      "haskell:nogutter:nocontrols:hs"
     ],
     "id": "",
     "name": "\"code\""
    }
   },
   "outputs": [],
   "source": [
    "sum' :: (Num a) => [a] -> a\n",
    "sum' [] = 0\n",
    "sum' (x:xs) = x + sum' xs"
   ]
  },
  {
   "cell_type": "markdown",
   "metadata": {},
   "source": [
    "There's also a thing called *as patterns*. Those are a handy way of\n",
    "breaking something up according to a pattern and binding it to names\n",
    "whilst still keeping a reference to the whole thing. You do that by\n",
    "putting a name and an `@` in front of a pattern. For instance, the pattern\n",
    "`xs@(x:y:ys)`. This pattern will match exactly the same thing as `x:y:ys`\n",
    "but you can easily get the whole list via `xs` instead of repeating\n",
    "yourself by typing out `x:y:ys` in the function body again. Here's a quick\n",
    "and dirty example:"
   ]
  },
  {
   "cell_type": "code",
   "execution_count": 19,
   "metadata": {
    "attributes": {
     "classes": [
      "haskell:nogutter:nocontrols:hs"
     ],
     "id": "",
     "name": "\"code\""
    }
   },
   "outputs": [],
   "source": [
    "capital :: String -> String\n",
    "capital \"\" = \"Empty string, whoops!\"\n",
    "capital all@(x:xs) = \"The first letter of \" ++ all ++ \" is \" ++ [x]"
   ]
  },
  {
   "cell_type": "code",
   "execution_count": 20,
   "metadata": {
    "attributes": {
     "classes": [
      "haskell:ghci"
     ],
     "id": "",
     "name": "\"code\""
    }
   },
   "outputs": [
    {
     "data": {
      "text/plain": [
       "\"The first letter of Dracula is D\""
      ]
     },
     "metadata": {},
     "output_type": "display_data"
    }
   ],
   "source": [
    "capital \"Dracula\""
   ]
  },
  {
   "cell_type": "markdown",
   "metadata": {},
   "source": [
    "Normally we use as patterns to avoid repeating ourselves when matching\n",
    "against a bigger pattern when we have to use the whole thing again in\n",
    "the function body.\n",
    "\n",
    "One more thing — you can't use [`++`](https://hackage.haskell.org/package/base/docs/Prelude.html#v:-43--43-) in pattern matches. If you tried to\n",
    "pattern match against `(xs ++ ys)`, what would be in the first and what\n",
    "would be in the second list? It doesn't make much sense. It would make\n",
    "sense to match stuff against `(xs ++ [x,y,z])` or just `(xs ++ [x])`, but\n",
    "because of the nature of lists, you can't do that.\n",
    "\n",
    "<a name=\"guards-guards\"></a>\n",
    "\n",
    "Guards, guards!\n",
    "---------------\n",
    "\n",
    "<img src=\"img/guards.png\" title=\"guards\" style=\"background-color:white;float:left;margin-right:2em;\" />\n",
    "\n",
    "Whereas patterns are a way of making sure a value conforms to some form\n",
    "and deconstructing it, guards are a way of testing whether some property\n",
    "of a value (or several of them) are true or false. That sounds a lot\n",
    "like an if statement and it's very similar. The thing is that guards are\n",
    "a lot more readable when you have several conditions and they play\n",
    "really nicely with patterns.\n",
    "\n",
    "Instead of explaining their syntax, let's just dive in and make a\n",
    "function using guards. We're going to make a simple function that\n",
    "berates you differently depending on your\n",
    "[BMI](http://en.wikipedia.org/wiki/Body_mass_index) (body mass index).\n",
    "Your BMI equals your weight divided by your height squared. If your BMI\n",
    "is less than 18.5, you're considered underweight. If it's anywhere from\n",
    "18.5 to 25 then you're considered normal. 25 to 30 is overweight and\n",
    "more than 30 is obese. So here's the function (we won't be calculating\n",
    "it right now, this function just gets a BMI and tells you off)"
   ]
  },
  {
   "cell_type": "code",
   "execution_count": 21,
   "metadata": {
    "attributes": {
     "classes": [
      "haskell:hs"
     ],
     "id": "",
     "name": "\"code\""
    }
   },
   "outputs": [],
   "source": [
    "bmiTell :: (RealFloat a) => a -> String\n",
    "bmiTell bmi\n",
    "    | bmi <= 18.5 = \"You're underweight, you emo, you!\"\n",
    "    | bmi <= 25.0 = \"You're supposedly normal. Pffft, I bet you're ugly!\"\n",
    "    | bmi <= 30.0 = \"You're fat! Lose some weight, fatty!\"\n",
    "    | otherwise   = \"You're a whale, congratulations!\""
   ]
  },
  {
   "cell_type": "markdown",
   "metadata": {},
   "source": [
    "Guards are indicated by pipes that follow a function's name and its\n",
    "parameters. Usually, they're indented a bit to the right and lined up. A\n",
    "guard is basically a boolean expression. If it evaluates to [`True`](https://hackage.haskell.org/package/base/docs/Prelude.html#v:True), then\n",
    "the corresponding function body is used. If it evaluates to [`False`](https://hackage.haskell.org/package/base/docs/Prelude.html#v:False),\n",
    "checking drops through to the next guard and so on. If we call this\n",
    "function with `24.3`, it will first check if that's smaller than or equal\n",
    "to `18.5`. Because it isn't, it falls through to the next guard. The check\n",
    "is carried out with the second guard and because 24.3 is less than 25.0,\n",
    "the second string is returned.\n",
    "\n",
    "This is very reminiscent of a big if else tree in imperative languages,\n",
    "only this is far better and more readable. While big if else trees are\n",
    "usually frowned upon, sometimes a problem is defined in such a discrete\n",
    "way that you can't get around them. Guards are a very nice alternative\n",
    "for this.\n",
    "\n",
    "Many times, the last guard is [`otherwise`](https://hackage.haskell.org/package/base/docs/Prelude.html#v:otherwise). [`otherwise`](https://hackage.haskell.org/package/base/docs/Prelude.html#v:otherwise) is defined simply as\n",
    "`otherwise = True` and catches everything. This is very similar to\n",
    "patterns, only they check if the input satisfies a pattern but guards\n",
    "check for boolean conditions. If all the guards of a function evaluate\n",
    "to [`False`](https://hackage.haskell.org/package/base/docs/Prelude.html#v:False) (and we haven't provided an [`otherwise`](https://hackage.haskell.org/package/base/docs/Prelude.html#v:otherwise) catch-all guard),\n",
    "evaluation falls through to the next *pattern*. That's how patterns and\n",
    "guards play nicely together. If no suitable guards or patterns are\n",
    "found, an error is thrown.\n",
    "\n",
    "Of course we can use guards with functions that take as many parameters\n",
    "as we want. Instead of having the user calculate his own BMI before\n",
    "calling the function, let's modify this function so that it takes a\n",
    "height and weight and calculates it for us."
   ]
  },
  {
   "cell_type": "code",
   "execution_count": 22,
   "metadata": {
    "attributes": {
     "classes": [
      "haskell:hs"
     ],
     "id": "",
     "name": "\"code\""
    }
   },
   "outputs": [],
   "source": [
    "bmiTell :: (RealFloat a) => a -> a -> String\n",
    "bmiTell weight height\n",
    "    | weight / height ^ 2 <= 18.5 = \"You're underweight, you emo, you!\"\n",
    "    | weight / height ^ 2 <= 25.0 = \"You're supposedly normal. Pffft, I bet you're ugly!\"\n",
    "    | weight / height ^ 2 <= 30.0 = \"You're fat! Lose some weight, fatty!\"\n",
    "    | otherwise                 = \"You're a whale, congratulations!\""
   ]
  },
  {
   "cell_type": "markdown",
   "metadata": {},
   "source": [
    "Let's see if I'm fat ..."
   ]
  },
  {
   "cell_type": "code",
   "execution_count": 23,
   "metadata": {
    "attributes": {
     "classes": [
      "haskell:ghci"
     ],
     "id": "",
     "name": "\"code\""
    }
   },
   "outputs": [
    {
     "data": {
      "text/plain": [
       "\"You're supposedly normal. Pffft, I bet you're ugly!\""
      ]
     },
     "metadata": {},
     "output_type": "display_data"
    }
   ],
   "source": [
    "bmiTell 85 1.90"
   ]
  },
  {
   "cell_type": "markdown",
   "metadata": {},
   "source": [
    "Yay! I'm not fat! But Haskell just called me ugly. Whatever!\n",
    "\n",
    "Note that there's no `=` right after the function name and its parameters,\n",
    "before the first guard. Many newbies get syntax errors because they\n",
    "sometimes put it there.\n",
    "\n",
    "Another very simple example: let's implement our own [`max`](https://hackage.haskell.org/package/base/docs/Prelude.html#v:max) function. If\n",
    "you remember, it takes two things that can be compared and returns the\n",
    "larger of them."
   ]
  },
  {
   "cell_type": "code",
   "execution_count": 24,
   "metadata": {
    "attributes": {
     "classes": [
      "haskell:hs"
     ],
     "id": "",
     "name": "\"code\""
    }
   },
   "outputs": [],
   "source": [
    "max' :: (Ord a) => a -> a -> a\n",
    "max' a b\n",
    "    | a > b     = a\n",
    "    | otherwise = b"
   ]
  },
  {
   "cell_type": "markdown",
   "metadata": {},
   "source": [
    "Guards can also be written inline, although I'd advise against that\n",
    "because it's less readable, even for very short functions. But to\n",
    "demonstrate, we could write `max'` like this:"
   ]
  },
  {
   "cell_type": "code",
   "execution_count": 25,
   "metadata": {
    "attributes": {
     "classes": [
      "haskell:hs"
     ],
     "id": "",
     "name": "\"code\""
    }
   },
   "outputs": [],
   "source": [
    "max' :: (Ord a) => a -> a -> a\n",
    "max' a b | a > b = a | otherwise = b"
   ]
  },
  {
   "cell_type": "markdown",
   "metadata": {},
   "source": [
    "Ugh! Not very readable at all! Moving on: let's implement our own\n",
    "[`compare`](https://hackage.haskell.org/package/base/docs/Prelude.html#v:compare) by using guards."
   ]
  },
  {
   "cell_type": "code",
   "execution_count": 26,
   "metadata": {
    "attributes": {
     "classes": [
      "haskell:hs"
     ],
     "id": "",
     "name": "\"code\""
    }
   },
   "outputs": [],
   "source": [
    "myCompare :: (Ord a) => a -> a -> Ordering\n",
    "a `myCompare` b\n",
    "    | a > b     = GT\n",
    "    | a == b    = EQ\n",
    "    | otherwise = LT"
   ]
  },
  {
   "cell_type": "code",
   "execution_count": 27,
   "metadata": {
    "attributes": {
     "classes": [
      "haskell:hs"
     ],
     "id": "",
     "name": "\"code\""
    }
   },
   "outputs": [
    {
     "data": {
      "text/plain": [
       "GT"
      ]
     },
     "metadata": {},
     "output_type": "display_data"
    }
   ],
   "source": [
    "3 `myCompare` 2"
   ]
  },
  {
   "cell_type": "markdown",
   "metadata": {},
   "source": [
    "> __Note:__ Not only can we call functions as infix with backticks, we can\n",
    "> also define them using backticks. Sometimes it's easier to read that\n",
    "> way.\n",
    "\n",
    "Where!?\n",
    "-------\n",
    "\n",
    "In the previous section, we defined a BMI calculator function and\n",
    "berator like this:"
   ]
  },
  {
   "cell_type": "code",
   "execution_count": 28,
   "metadata": {
    "attributes": {
     "classes": [
      "haskell:hs"
     ],
     "id": "",
     "name": "\"code\""
    }
   },
   "outputs": [],
   "source": [
    "bmiTell :: (RealFloat a) => a -> a -> String\n",
    "bmiTell weight height\n",
    "    | weight / height ^ 2 <= 18.5 = \"You're underweight, you emo, you!\"\n",
    "    | weight / height ^ 2 <= 25.0 = \"You're supposedly normal. Pffft, I bet you're ugly!\"\n",
    "    | weight / height ^ 2 <= 30.0 = \"You're fat! Lose some weight, fatty!\"\n",
    "    | otherwise                   = \"You're a whale, congratulations!\""
   ]
  },
  {
   "cell_type": "markdown",
   "metadata": {},
   "source": [
    "Notice that we repeat ourselves here three times. We repeat ourselves\n",
    "three times. Repeating yourself (three times) while programming is about\n",
    "as desirable as getting kicked inna head. Since we repeat the same\n",
    "expression three times, it would be ideal if we could calculate it once,\n",
    "bind it to a name and then use that name instead of the expression.\n",
    "Well, we can modify our function like this:"
   ]
  },
  {
   "cell_type": "code",
   "execution_count": 29,
   "metadata": {
    "attributes": {
     "classes": [
      "haskell:hs"
     ],
     "id": "",
     "name": "\"code\""
    }
   },
   "outputs": [],
   "source": [
    "bmiTell :: (RealFloat a) => a -> a -> String\n",
    "bmiTell weight height\n",
    "    | bmi <= 18.5 = \"You're underweight, you emo, you!\"\n",
    "    | bmi <= 25.0 = \"You're supposedly normal. Pffft, I bet you're ugly!\"\n",
    "    | bmi <= 30.0 = \"You're fat! Lose some weight, fatty!\"\n",
    "    | otherwise   = \"You're a whale, congratulations!\"\n",
    "    where bmi = weight / height ^ 2"
   ]
  },
  {
   "cell_type": "markdown",
   "metadata": {},
   "source": [
    "We put the keyword `where` after the guards (usually it's best to indent\n",
    "it as much as the pipes are indented) and then we define several names\n",
    "or functions. These names are visible across the guards and give us the\n",
    "advantage of not having to repeat ourselves. If we decide that we want\n",
    "to calculate BMI a bit differently, we only have to change it once. It\n",
    "also improves readability by giving names to things and can make our\n",
    "programs faster since stuff like our `bmi` variable here is calculated\n",
    "only once. We could go a bit overboard and present our function like\n",
    "this:"
   ]
  },
  {
   "cell_type": "code",
   "execution_count": 30,
   "metadata": {
    "attributes": {
     "classes": [
      "haskell:hs"
     ],
     "id": "",
     "name": "\"code\""
    }
   },
   "outputs": [],
   "source": [
    "bmiTell :: (RealFloat a) => a -> a -> String\n",
    "bmiTell weight height\n",
    "    | bmi <= skinny = \"You're underweight, you emo, you!\"\n",
    "    | bmi <= normal = \"You're supposedly normal. Pffft, I bet you're ugly!\"\n",
    "    | bmi <= fat    = \"You're fat! Lose some weight, fatty!\"\n",
    "    | otherwise     = \"You're a whale, congratulations!\"\n",
    "    where bmi = weight / height ^ 2\n",
    "          skinny = 18.5\n",
    "          normal = 25.0\n",
    "          fat = 30.0"
   ]
  },
  {
   "cell_type": "markdown",
   "metadata": {},
   "source": [
    "The names we define in the where section of a function are only visible\n",
    "to that function, so we don't have to worry about them polluting the\n",
    "namespace of other functions. Notice that all the names are aligned at a\n",
    "single column. If we don't align them nice and proper, Haskell gets\n",
    "confused because then it doesn't know they're all part of the same\n",
    "block.\n",
    "\n",
    "*where* bindings aren't shared across function bodies of different\n",
    "patterns. If you want several patterns of one function to access some\n",
    "shared name, you have to define it globally.\n",
    "\n",
    "You can also use where bindings to *pattern match*! We could have\n",
    "rewritten the where section of our previous function as:"
   ]
  },
  {
   "cell_type": "markdown",
   "metadata": {
    "attributes": {
     "classes": [
      "haskell:hs"
     ],
     "id": "",
     "name": "\"code\""
    }
   },
   "source": [
    "<pre><code>...\n",
    "    where bmi = weight / height ^ 2\n",
    "          (skinny, normal, fat) = (18.5, 25.0, 30.0)</pre></code>"
   ]
  },
  {
   "cell_type": "markdown",
   "metadata": {},
   "source": [
    "Let's make another fairly trivial function where we get a first and a\n",
    "last name and give someone back their initials."
   ]
  },
  {
   "cell_type": "code",
   "execution_count": 31,
   "metadata": {
    "attributes": {
     "classes": [
      "haskell:hs"
     ],
     "id": "",
     "name": "\"code\""
    }
   },
   "outputs": [],
   "source": [
    "initials :: String -> String -> String\n",
    "initials firstname lastname = [f] ++ \". \" ++ [l] ++ \".\"\n",
    "    where (f:_) = firstname\n",
    "          (l:_) = lastname"
   ]
  },
  {
   "cell_type": "markdown",
   "metadata": {},
   "source": [
    "We could have done this pattern matching directly in the function's\n",
    "parameters (it would have been shorter and clearer actually) but this\n",
    "just goes to show that it's possible to do it in where bindings as well.\n",
    "\n",
    "Just like we've defined constants in where blocks, you can also define\n",
    "functions. Staying true to our healthy programming theme, let's make a\n",
    "function that takes a list of weight-height pairs and returns a list of\n",
    "BMIs."
   ]
  },
  {
   "cell_type": "code",
   "execution_count": 32,
   "metadata": {
    "attributes": {
     "classes": [
      "haskell:hs"
     ],
     "id": "",
     "name": "\"code\""
    }
   },
   "outputs": [],
   "source": [
    "calcBmis :: (RealFloat a) => [(a, a)] -> [a]\n",
    "calcBmis xs = [bmi w h | (w, h) <- xs]\n",
    "    where bmi weight height = weight / height ^ 2"
   ]
  },
  {
   "cell_type": "markdown",
   "metadata": {},
   "source": [
    "And that's all there is to it! The reason we had to introduce `bmi` as a\n",
    "function in this example is because we can't just calculate one BMI from\n",
    "the function's parameters. We have to examine the list passed to the\n",
    "function and there's a different BMI for every pair in there.\n",
    "\n",
    "*where* bindings can also be nested. It's a common idiom to make a\n",
    "function and define some helper function in its *where* clause and then\n",
    "to give those functions helper functions as well, each with its own\n",
    "*where* clause.\n",
    "\n",
    "<a name=\"let-it-be\"></a>\n",
    "\n",
    "Let it be\n",
    "---------\n",
    "\n",
    "Very similar to where bindings are let bindings. Where bindings are a\n",
    "syntactic construct that let you bind to variables at the end of a\n",
    "function and the whole function can see them, including all the guards.\n",
    "Let bindings let you bind to variables anywhere and are expressions\n",
    "themselves, but are very local, so they don't span across guards. Just\n",
    "like any construct in Haskell that is used to bind values to names, let\n",
    "bindings can be used for pattern matching. Let's see them in action!\n",
    "This is how we could define a function that gives us a cylinder's\n",
    "surface area based on its height and radius:"
   ]
  },
  {
   "cell_type": "code",
   "execution_count": 33,
   "metadata": {
    "attributes": {
     "classes": [
      "haskell:hs"
     ],
     "id": "",
     "name": "\"code\""
    }
   },
   "outputs": [],
   "source": [
    "cylinder :: (RealFloat a) => a -> a -> a\n",
    "cylinder r h =\n",
    "    let sideArea = 2 * pi * r * h\n",
    "        topArea = pi * r ^2\n",
    "    in  sideArea + 2 * topArea"
   ]
  },
  {
   "cell_type": "markdown",
   "metadata": {},
   "source": [
    "<img src=\"img/letitbe.png\" title=\"let it be\" style=\"background-color:white;float:right;margin-left:2em;\" />\n",
    "\n",
    "The form is `let <bindings> in <expression>`. The names that you\n",
    "define in the *let* part are accessible to the expression after the *in*\n",
    "part. As you can see, we could have also defined this with a *where*\n",
    "binding. Notice that the names are also aligned in a single column. So\n",
    "what's the difference between the two? For now it just seems that *let*\n",
    "puts the bindings first and the expression that uses them later whereas\n",
    "*where* is the other way around.\n",
    "\n",
    "The difference is that *let* bindings are expressions themselves.\n",
    "*where* bindings are just syntactic constructs. Remember when we did the\n",
    "if statement and it was explained that an if else statement is an\n",
    "expression and you can cram it in almost anywhere?"
   ]
  },
  {
   "cell_type": "code",
   "execution_count": 34,
   "metadata": {
    "attributes": {
     "classes": [
      "haskell:ghci"
     ],
     "id": "",
     "name": "\"code\""
    }
   },
   "outputs": [
    {
     "data": {
      "text/plain": [
       "[\"Woo\",\"Bar\"]"
      ]
     },
     "metadata": {},
     "output_type": "display_data"
    }
   ],
   "source": [
    "[if 5 > 3 then \"Woo\" else \"Boo\", if 'a' > 'b' then \"Foo\" else \"Bar\"]"
   ]
  },
  {
   "cell_type": "code",
   "execution_count": 35,
   "metadata": {
    "attributes": {
     "classes": [
      "haskell:ghci"
     ],
     "id": "",
     "name": "\"code\""
    }
   },
   "outputs": [
    {
     "data": {
      "text/plain": [
       "42"
      ]
     },
     "metadata": {},
     "output_type": "display_data"
    }
   ],
   "source": [
    "4 * (if 10 > 5 then 10 else 0) + 2"
   ]
  },
  {
   "cell_type": "markdown",
   "metadata": {},
   "source": [
    "You can also do that with let bindings."
   ]
  },
  {
   "cell_type": "code",
   "execution_count": 36,
   "metadata": {
    "attributes": {
     "classes": [
      "haskell:ghci"
     ],
     "id": "",
     "name": "\"code\""
    }
   },
   "outputs": [
    {
     "data": {
      "text/plain": [
       "42"
      ]
     },
     "metadata": {},
     "output_type": "display_data"
    }
   ],
   "source": [
    "4 * (let a = 9 in a + 1) + 2"
   ]
  },
  {
   "cell_type": "markdown",
   "metadata": {},
   "source": [
    "They can also be used to introduce functions in a local scope:"
   ]
  },
  {
   "cell_type": "code",
   "execution_count": 37,
   "metadata": {
    "attributes": {
     "classes": [
      "haskell:ghci"
     ],
     "id": "",
     "name": "\"code\""
    }
   },
   "outputs": [
    {
     "data": {
      "text/plain": [
       "[(25,9,4)]"
      ]
     },
     "metadata": {},
     "output_type": "display_data"
    }
   ],
   "source": [
    "[let square x = x * x in (square 5, square 3, square 2)]"
   ]
  },
  {
   "cell_type": "markdown",
   "metadata": {},
   "source": [
    "If we want to bind to several variables inline, we obviously can't align\n",
    "them at columns. That's why we can separate them with semicolons."
   ]
  },
  {
   "cell_type": "code",
   "execution_count": 38,
   "metadata": {
    "attributes": {
     "classes": [
      "haskell:ghci"
     ],
     "id": "",
     "name": "\"code\""
    }
   },
   "outputs": [
    {
     "data": {
      "text/plain": [
       "(6000000,\"Hey there!\")"
      ]
     },
     "metadata": {},
     "output_type": "display_data"
    }
   ],
   "source": [
    "(let a = 100; b = 200; c = 300 in a*b*c, let foo=\"Hey \"; bar = \"there!\" in foo ++ bar)"
   ]
  },
  {
   "cell_type": "markdown",
   "metadata": {},
   "source": [
    "You don't have to put a semicolon after the last binding but you can if\n",
    "you want. Like we said before, you can pattern match with *let*\n",
    "bindings. They're very useful for quickly dismantling a tuple into\n",
    "components and binding them to names and such."
   ]
  },
  {
   "cell_type": "code",
   "execution_count": 39,
   "metadata": {
    "attributes": {
     "classes": [
      "haskell:ghci"
     ],
     "id": "",
     "name": "\"code\""
    }
   },
   "outputs": [
    {
     "data": {
      "text/plain": [
       "600"
      ]
     },
     "metadata": {},
     "output_type": "display_data"
    }
   ],
   "source": [
    "(let (a,b,c) = (1,2,3) in a+b+c) * 100"
   ]
  },
  {
   "cell_type": "markdown",
   "metadata": {},
   "source": [
    "You can also put *let* bindings inside list comprehensions. Let's\n",
    "rewrite our previous example of calculating lists of weight-height pairs\n",
    "to use a *let* inside a list comprehension instead of defining an\n",
    "auxiliary function with a *where*."
   ]
  },
  {
   "cell_type": "code",
   "execution_count": 40,
   "metadata": {
    "attributes": {
     "classes": [
      "haskell:hs"
     ],
     "id": "",
     "name": "\"code\""
    }
   },
   "outputs": [],
   "source": [
    "calcBmis :: (RealFloat a) => [(a, a)] -> [a]\n",
    "calcBmis xs = [bmi | (w, h) <- xs, let bmi = w / h ^ 2]"
   ]
  },
  {
   "cell_type": "markdown",
   "metadata": {},
   "source": [
    "We include a *let* inside a list comprehension much like we would a\n",
    "predicate, only it doesn't filter the list, it only binds to names. The\n",
    "names defined in a *let* inside a list comprehension are visible to the\n",
    "output function (the part before the |) and all predicates and sections\n",
    "that come after of the binding. So we could make our function return\n",
    "only the BMIs of fat people:"
   ]
  },
  {
   "cell_type": "code",
   "execution_count": 41,
   "metadata": {
    "attributes": {
     "classes": [
      "haskell:hs"
     ],
     "id": "",
     "name": "\"code\""
    }
   },
   "outputs": [],
   "source": [
    "calcBmis :: (RealFloat a) => [(a, a)] -> [a]\n",
    "calcBmis xs = [bmi | (w, h) <- xs, let bmi = w / h ^ 2, bmi >= 25.0]"
   ]
  },
  {
   "cell_type": "markdown",
   "metadata": {},
   "source": [
    "We can't use the `bmi` name in the `(w, h) <- xs` part because it's defined\n",
    "prior to the *let* binding.\n",
    "\n",
    "We omitted the *in* part of the *let* binding when we used them in list\n",
    "comprehensions because the visibility of the names is already predefined\n",
    "there. However, we could use a *let in* binding in a predicate and the\n",
    "names defined would only be visible to that predicate. The *in* part can\n",
    "also be omitted when defining functions and constants directly in GHCi.\n",
    "If we do that, then the names will be visible throughout the entire\n",
    "interactive session."
   ]
  },
  {
   "cell_type": "code",
   "execution_count": 42,
   "metadata": {
    "attributes": {
     "classes": [
      "haskell:ghci"
     ],
     "id": "",
     "name": "\"code\""
    }
   },
   "outputs": [],
   "source": [
    "let zoot x y z = x * y + z"
   ]
  },
  {
   "cell_type": "code",
   "execution_count": 43,
   "metadata": {
    "attributes": {
     "classes": [
      "haskell:ghci"
     ],
     "id": "",
     "name": "\"code\""
    }
   },
   "outputs": [
    {
     "data": {
      "text/plain": [
       "29"
      ]
     },
     "metadata": {},
     "output_type": "display_data"
    }
   ],
   "source": [
    "zoot 3 9 2"
   ]
  },
  {
   "cell_type": "code",
   "execution_count": 44,
   "metadata": {
    "attributes": {
     "classes": [
      "haskell:ghci"
     ],
     "id": "",
     "name": "\"code\""
    }
   },
   "outputs": [
    {
     "data": {
      "text/plain": [
       "14"
      ]
     },
     "metadata": {},
     "output_type": "display_data"
    }
   ],
   "source": [
    "let boot x y z = x * y + z in boot 3 4 2"
   ]
  },
  {
   "cell_type": "code",
   "execution_count": 45,
   "metadata": {
    "attributes": {
     "classes": [
      "haskell:ghci"
     ],
     "id": "",
     "name": "\"code\""
    }
   },
   "outputs": [
    {
     "ename": "",
     "evalue": "",
     "output_type": "error",
     "traceback": [
      "<interactive>:1:1: error:\n    • Variable not in scope: boot\n    • Perhaps you meant ‘zoot’ (line 1)"
     ]
    }
   ],
   "source": [
    "boot"
   ]
  },
  {
   "cell_type": "markdown",
   "metadata": {},
   "source": [
    "If *let* bindings are so cool, why not use them all the time instead of\n",
    "*where* bindings, you ask? Well, since *let* bindings are expressions\n",
    "and are fairly local in their scope, they can't be used across guards.\n",
    "Some people prefer *where* bindings because the names come after the\n",
    "function they're being used in. That way, the function body is closer to\n",
    "its name and type declaration and to some that's more readable.\n",
    "\n",
    "Case expressions\n",
    "----------------\n",
    "\n",
    "<img src=\"img/case.png\" title=\"case\" style=\"background-color:white;float:right;margin-left:2em;\" />\n",
    "\n",
    "Many imperative languages (C, C++, Java, etc.) have case syntax and if\n",
    "you've ever programmed in them, you probably know what it's about. It's\n",
    "about taking a variable and then executing blocks of code for specific\n",
    "values of that variable and then maybe including a catch-all block of\n",
    "code in case the variable has some value for which we didn't set up a\n",
    "case.\n",
    "\n",
    "Haskell takes that concept and one-ups it. Like the name implies, case\n",
    "expressions are, well, expressions, much like if else expressions and\n",
    "*let* bindings. Not only can we evaluate expressions based on the\n",
    "possible cases of the value of a variable, we can also do pattern\n",
    "matching. Hmmm, taking a variable, pattern matching it, evaluating\n",
    "pieces of code based on its value, where have we heard this before? Oh\n",
    "yeah, pattern matching on parameters in function definitions! Well,\n",
    "that's actually just syntactic sugar for case expressions. These two\n",
    "pieces of code do the same thing and are interchangeable:"
   ]
  },
  {
   "cell_type": "code",
   "execution_count": 46,
   "metadata": {
    "attributes": {
     "classes": [
      "haskell:hs"
     ],
     "id": "",
     "name": "\"code\""
    }
   },
   "outputs": [],
   "source": [
    "head' :: [a] -> a\n",
    "head' [] = error \"No head for empty lists!\"\n",
    "head' (x:_) = x"
   ]
  },
  {
   "cell_type": "code",
   "execution_count": 47,
   "metadata": {
    "attributes": {
     "classes": [
      "haskell:hs"
     ],
     "id": "",
     "name": "\"code\""
    }
   },
   "outputs": [],
   "source": [
    "head' :: [a] -> a\n",
    "head' xs = case xs of [] -> error \"No head for empty lists!\"\n",
    "                      (x:_) -> x"
   ]
  },
  {
   "cell_type": "markdown",
   "metadata": {},
   "source": [
    "As you can see, the syntax for case expressions is pretty simple:"
   ]
  },
  {
   "cell_type": "markdown",
   "metadata": {
    "attributes": {
     "classes": [
      "haskell:hs"
     ],
     "id": "",
     "name": "\"code\""
    }
   },
   "source": [
    "<pre><code>case expression of pattern -> result\n",
    "                   pattern -> result\n",
    "                   pattern -> result\n",
    "                   ...</code></pre>"
   ]
  },
  {
   "cell_type": "markdown",
   "metadata": {},
   "source": [
    "`expression` is matched against the patterns. The pattern matching action\n",
    "is the same as expected: the first pattern that matches the expression\n",
    "is used. If it falls through the whole case expression and no suitable\n",
    "pattern is found, a runtime error occurs.\n",
    "\n",
    "Whereas pattern matching on function parameters can only be done when\n",
    "defining functions, case expressions can be used pretty much anywhere.\n",
    "For instance:"
   ]
  },
  {
   "cell_type": "code",
   "execution_count": 48,
   "metadata": {
    "attributes": {
     "classes": [
      "haskell:hs"
     ],
     "id": "",
     "name": "\"code\""
    }
   },
   "outputs": [],
   "source": [
    "describeList :: [a] -> String\n",
    "describeList xs = \"The list is \" ++ case xs of [] -> \"empty.\"\n",
    "                                               [x] -> \"a singleton list.\"\n",
    "                                               xs -> \"a longer list.\""
   ]
  },
  {
   "cell_type": "markdown",
   "metadata": {},
   "source": [
    "They are useful for pattern matching against something in the middle of\n",
    "an expression. Because pattern matching in function definitions is\n",
    "syntactic sugar for case expressions, we could have also defined this\n",
    "like so:"
   ]
  },
  {
   "cell_type": "code",
   "execution_count": 49,
   "metadata": {
    "attributes": {
     "classes": [
      "haskell:hs"
     ],
     "id": "",
     "name": "\"code\""
    }
   },
   "outputs": [],
   "source": [
    "describeList :: [a] -> String\n",
    "describeList xs = \"The list is \" ++ what xs\n",
    "    where what [] = \"empty.\"\n",
    "          what [x] = \"a singleton list.\"\n",
    "          what xs = \"a longer list.\""
   ]
  }
 ],
 "metadata": {
  "kernelspec": {
   "display_name": "Haskell",
   "language": "haskell",
   "name": "haskell"
  },
  "language_info": {
   "codemirror_mode": "ihaskell",
   "file_extension": ".hs",
   "mimetype": "text/x-haskell",
   "name": "haskell",
   "pygments_lexer": "Haskell",
   "version": "9.2.5"
  }
 },
 "nbformat": 4,
 "nbformat_minor": 4
}
