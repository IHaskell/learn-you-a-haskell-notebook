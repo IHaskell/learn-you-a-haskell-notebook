{
 "cells": [
  {
   "cell_type": "markdown",
   "metadata": {},
   "source": [
    "Functionally Solving Problems\n",
    "=============================\n",
    "\n",
    "In this chapter, we'll take a look at a few interesting problems and how\n",
    "to think functionally to solve them as elegantly as possible. We\n",
    "probably won't be introducing any new concepts, we'll just be flexing\n",
    "our newly acquired Haskell muscles and practicing our coding skills.\n",
    "Each section will present a different problem. First we'll describe the\n",
    "problem, then we'll try and find out what the best (or least worst) way\n",
    "of solving it is."
   ]
  },
  {
   "cell_type": "code",
   "execution_count": 1,
   "metadata": {
    "attributes": {
     "classes": [
      "haskell:hs"
     ],
     "id": "",
     "name": "\"code\""
    }
   },
   "outputs": [],
   "source": [
    ":opt no-lint"
   ]
  },
  {
   "cell_type": "markdown",
   "metadata": {},
   "source": [
    "<a name=\"reverse-polish-notation-calculator\"></a>\n",
    "\n",
    "Reverse Polish notation calculator\n",
    "----------------------------------\n",
    "\n",
    "Usually when we write mathematical expressions in school, we write them\n",
    "in an infix manner. For instance, we write `10 - (4 + 3) * 2`. [`+`](https://hackage.haskell.org/package/base/docs/Prelude.html#v:-43-), [`*`](https://hackage.haskell.org/package/base/docs/Prelude.html#v:-42-) and\n",
    "[`-`](https://hackage.haskell.org/package/base/docs/Prelude.html#v:-45-) are infix operators, just like the infix functions we met in Haskell\n",
    "([`+`](https://hackage.haskell.org/package/base/docs/Prelude.html#v:-43-), `` `elem` ``, etc.). This makes it handy because we, as humans, can\n",
    "parse it easily in our minds by looking at such an expression. The\n",
    "downside to it is that we have to use parentheses to denote precedence.\n",
    "\n",
    "[Reverse Polish\n",
    "notation](http://en.wikipedia.org/wiki/Reverse_Polish_notation) is\n",
    "another way of writing down mathematical expressions. Initially it looks\n",
    "a bit weird, but it's actually pretty easy to understand and use because\n",
    "there's no need for parentheses and it's very easy to punch into a\n",
    "calculator. While most modern calculators use infix notation, some\n",
    "people still swear by RPN calculators. This is what the previous infix\n",
    "expression looks like in RPN: `10 4 3 + 2 * -`. How do we calculate what\n",
    "the result of that is? Well, think of a stack. You go over the\n",
    "expression from left to right. Every time a number is encountered, push\n",
    "it on to the stack. When we encounter an operator, take the two numbers\n",
    "that are on top of the stack (we also say that we *pop* them), use the\n",
    "operator and those two and then push the resulting number back onto the\n",
    "stack. When you reach the end of the expression, you should be left with\n",
    "a single number if the expression was well-formed and that number\n",
    "represents the result.\n",
    "\n",
    "<img src=\"img/rpn.png\" title=\"this expression\" style=\"background-color:white;\" />\n",
    "\n",
    "Let's go over the expression `10 4 3 + 2 * -` together! First we push `10`\n",
    "on to the stack and the stack is now `10`. The next item is `4`, so we push\n",
    "it to the stack as well. The stack is now `10, 4`. We do the same with `3`\n",
    "and the stack is now `10, 4, 3`. And now, we encounter an operator, namely\n",
    "[`+`](https://hackage.haskell.org/package/base/docs/Prelude.html#v:-43-)! We pop the two top numbers from the stack (so now the stack is just\n",
    "`10`), add those numbers together and push that result to the stack. The\n",
    "stack is now `10, 7`. We push `2` to the stack, the stack for now is\n",
    "`10, 7, 2`. We've encountered an operator again, so let's pop `7` and `2` off the\n",
    "stack, multiply them and push that result to the stack. Multiplying `7`\n",
    "and `2` produces a `14`, so the stack we have now is `10, 14`. Finally,\n",
    "there's a [`-`](https://hackage.haskell.org/package/base/docs/Prelude.html#v:-45-). We pop `10` and `14` from the stack, subtract `14` from `10` and\n",
    "push that back. The number on the stack is now `-4` and because there are\n",
    "no more numbers or operators in our expression, that's our result!\n",
    "\n",
    "Now that we know how we'd calculate any RPN expression by hand, let's\n",
    "think about how we could make a Haskell function that takes as its\n",
    "parameter a string that contains a RPN expression, like\n",
    "`\"10 4 3 + 2 * -\"` and gives us back its result.\n",
    "\n",
    "What would the type of that function be? We want it to take a string as\n",
    "a parameter and produce a number as its result. So it will probably be\n",
    "something like `solveRPN :: (Num a) => String -> a`.\n",
    "\n",
    "> __Protip:__ it really helps to first think what the type declaration of a\n",
    "> function should be before concerning ourselves with the implementation\n",
    "> and then write it down. In Haskell, a function's type declaration tells\n",
    "> us a whole lot about the function, due to the very strong type system.\n",
    "\n",
    "<img src=\"img/calculator.png\" title=\"HA HA HA\" style=\"background-color:white;float:left;margin-right:2em;\" />\n",
    "\n",
    "Cool. When implementing a solution to a problem in Haskell, it's also\n",
    "good to think back on how you did it by hand and maybe try to see if you\n",
    "can gain any insight from that. Here we see that we treated every number\n",
    "or operator that was separated by a space as a single item. So it might\n",
    "help us if we start by breaking a string like\n",
    "`\"10 4 3 + 2 * -\"` into a\n",
    "list of items like `[\"10\",\"4\",\"3\",\"+\",\"2\",\"*\",\"-\"]`.\n",
    "\n",
    "Next up, what did we do with that list of items in our head? We went\n",
    "over it from left to right and kept a stack as we did that. Does the\n",
    "previous sentence remind you of anything? Remember, in the section about\n",
    "[folds](http://learnyouahaskell.com/higher-order-functions#folds), we said that pretty much any\n",
    "function where you traverse a list from left to right or right to left\n",
    "one element by element and build up (accumulate) some result (whether\n",
    "it's a number, a list, a stack, whatever) can be implemented with a\n",
    "fold.\n",
    "\n",
    "In this case, we're going to use a left fold, because we go over the\n",
    "list from left to right. The accumulator value will be our stack and\n",
    "hence, the result from the fold will also be a stack, only as we've\n",
    "seen, it will only have one item.\n",
    "\n",
    "One more thing to think about is, well, how are we going to represent\n",
    "the stack? I propose we use a list. Also I propose that we keep the top\n",
    "of our stack at the head of the list. That's because adding to the head\n",
    "(beginning) of a list is much faster than adding to the end of it. So if\n",
    "we have a stack of, say, `10, 4, 3`, we'll represent that as the list\n",
    "`[3,4,10]`.\n",
    "\n",
    "Now we have enough information to roughly sketch our function. It's\n",
    "going to take a string, like, `\"10 4 3 + 2 * -\"` and break it down into a\n",
    "list of items by using [`words`](https://hackage.haskell.org/package/base/docs/Prelude.html#v:words) to get `[\"10\",\"4\",\"3\",\"+\",\"2\",\"*\",\"-\"]`.\n",
    "Next, we'll do a left fold over that list and end up with a stack that\n",
    "has a single item, so `[-4]`. We take that single item out of the list and\n",
    "that's our final result!\n",
    "\n",
    "So here's a sketch of that function:"
   ]
  },
  {
   "cell_type": "markdown",
   "metadata": {
    "attributes": {
     "classes": [
      "haskell:hs"
     ],
     "id": "",
     "name": "\"code\""
    }
   },
   "source": [
    "<pre><code>import Data.List\n",
    "\n",
    "solveRPN :: (Num a) => String -> a\n",
    "solveRPN expression = head (foldl foldingFunction [] (words expression))\n",
    "    where   foldingFunction stack item = ...</code></pre>"
   ]
  },
  {
   "cell_type": "markdown",
   "metadata": {},
   "source": [
    "We take the expression and turn it into a list of items. Then we fold\n",
    "over that list of items with the folding function. Mind the `[]`, which\n",
    "represents the starting accumulator. The accumulator is our stack, so `[]`\n",
    "represents an empty stack, which is what we start with. After getting\n",
    "the final stack with a single item, we call [`head`](https://hackage.haskell.org/package/base/docs/Prelude.html#v:head) on that list to get the\n",
    "item out and then we apply [`read`](https://hackage.haskell.org/package/base/docs/Prelude.html#v:read).\n",
    "\n",
    "So all that's left now is to implement a folding function that will take\n",
    "a stack, like `[4,10]`, and an item, like `\"3\"` and return a new stack\n",
    "`[3,4,10]`. If the stack is `[4,10]` and the item `\"*\"`, then it will have to\n",
    "return `[40]`. But before that, let's turn our function into [point-free\n",
    "style](http://learnyouahaskell.com/higher-order-functions#composition) because it has a lot of\n",
    "parentheses that are kind of freaking me out:"
   ]
  },
  {
   "cell_type": "markdown",
   "metadata": {
    "attributes": {
     "classes": [
      "haskell:hs"
     ],
     "id": "",
     "name": "\"code\""
    }
   },
   "source": [
    "<pre><code>import Data.List\n",
    "\n",
    "solveRPN :: (Num a) => String -> a\n",
    "solveRPN = head . foldl foldingFunction [] . words\n",
    "    where   foldingFunction stack item = ...</code></pre>"
   ]
  },
  {
   "cell_type": "markdown",
   "metadata": {},
   "source": [
    "Ah, there we go. Much better. So, the folding function will take a stack\n",
    "and an item and return a new stack. We'll use pattern matching to get\n",
    "the top items of a stack and to pattern match against operators like\n",
    "`\"*\"` and `\"-\"`."
   ]
  },
  {
   "cell_type": "code",
   "execution_count": 2,
   "metadata": {
    "attributes": {
     "classes": [
      "haskell:hs"
     ],
     "id": "",
     "name": "\"code\""
    }
   },
   "outputs": [],
   "source": [
    "solveRPN :: (Num a, Read a) => String -> a\n",
    "solveRPN = head . foldl foldingFunction [] . words\n",
    "    where   foldingFunction (x:y:ys) \"*\" = (x * y):ys\n",
    "            foldingFunction (x:y:ys) \"+\" = (x + y):ys\n",
    "            foldingFunction (x:y:ys) \"-\" = (y - x):ys\n",
    "            foldingFunction xs numberString = read numberString:xs"
   ]
  },
  {
   "cell_type": "markdown",
   "metadata": {},
   "source": [
    "We laid this out as four patterns. The patterns will be tried from top\n",
    "to bottom. First the folding function will see if the current item is\n",
    "`\"*\"`. If it is, then it will take a list like `[3,4,9,3]` and call its\n",
    "first two elements `x` and `y` respectively. So in this case, `x` would be `3`\n",
    "and `y` would be `4`. `ys` would be `[9,3]`. It will return a list that's just\n",
    "like `ys`, only it has `x` and `y` multiplied as its head. So with this we pop\n",
    "the two topmost numbers off the stack, multiply them and push the result\n",
    "back on to the stack. If the item is not `\"*\"`, the pattern matching will\n",
    "fall through and `\"+\"` will be checked, and so on.\n",
    "\n",
    "If the item is none of the operators, then we assume it's a string that\n",
    "represents a number. If it's a number, we just call [`read`](https://hackage.haskell.org/package/base/docs/Prelude.html#v:read) on that string\n",
    "to get a number from it and return the previous stack but with that\n",
    "number pushed to the top.\n",
    "\n",
    "And that's it! Also noticed that we added an extra class constraint of\n",
    "`Read a` to the function declaration, because we call [`read`](https://hackage.haskell.org/package/base/docs/Prelude.html#v:read) on our string\n",
    "to get the number. So this declaration means that the result can be of\n",
    "any type that's part of the [`Num`](https://hackage.haskell.org/package/base/docs/Prelude.html#t:Num) and [`Read`](https://hackage.haskell.org/package/base/docs/Prelude.html#t:Read) typeclasses (like [`Int`](https://hackage.haskell.org/package/base/docs/Prelude.html#t:Int), [`Float`](https://hackage.haskell.org/package/base/docs/Prelude.html#t:Float),\n",
    "etc.).\n",
    "\n",
    "For the list of items `[\"2\",\"3\",\"+\"]`, our function will start folding\n",
    "from the left. The initial stack will be `[]`. It will call the folding\n",
    "function with `[]` as the stack (accumulator) and `\"2\"` as the item. Because\n",
    "that item is not an operator, it will be [`read`](https://hackage.haskell.org/package/base/docs/Prelude.html#v:read) and the added to the\n",
    "beginning of `[]`. So the new stack is now `[2]` and the folding function\n",
    "will be called with `[2]` as the stack and `[\"3\"]` as the item, producing a\n",
    "new stack of `[3,2]`. Then, it's called for the third time with `[3,2]` as\n",
    "the stack and `\"+\"` as the item. This causes these two numbers to be\n",
    "popped off the stack, added together and pushed back. The final stack is\n",
    "`[5]`, which is the number that we return.\n",
    "\n",
    "Let's play around with our function:"
   ]
  },
  {
   "cell_type": "code",
   "execution_count": 3,
   "metadata": {
    "attributes": {
     "classes": [
      "haskell:hs"
     ],
     "id": "",
     "name": "\"code\""
    }
   },
   "outputs": [
    {
     "data": {
      "text/plain": [
       "-4"
      ]
     },
     "metadata": {},
     "output_type": "display_data"
    }
   ],
   "source": [
    "solveRPN \"10 4 3 + 2 * -\""
   ]
  },
  {
   "cell_type": "code",
   "execution_count": 4,
   "metadata": {
    "attributes": {
     "classes": [
      "haskell:hs"
     ],
     "id": "",
     "name": "\"code\""
    }
   },
   "outputs": [
    {
     "data": {
      "text/plain": [
       "5"
      ]
     },
     "metadata": {},
     "output_type": "display_data"
    }
   ],
   "source": [
    "solveRPN \"2 3 +\""
   ]
  },
  {
   "cell_type": "code",
   "execution_count": 5,
   "metadata": {
    "attributes": {
     "classes": [
      "haskell:hs"
     ],
     "id": "",
     "name": "\"code\""
    }
   },
   "outputs": [
    {
     "data": {
      "text/plain": [
       "-3947"
      ]
     },
     "metadata": {},
     "output_type": "display_data"
    }
   ],
   "source": [
    "solveRPN \"90 34 12 33 55 66 + * - +\""
   ]
  },
  {
   "cell_type": "code",
   "execution_count": 6,
   "metadata": {
    "attributes": {
     "classes": [
      "haskell:hs"
     ],
     "id": "",
     "name": "\"code\""
    }
   },
   "outputs": [
    {
     "data": {
      "text/plain": [
       "4037"
      ]
     },
     "metadata": {},
     "output_type": "display_data"
    }
   ],
   "source": [
    "solveRPN \"90 34 12 33 55 66 + * - + -\""
   ]
  },
  {
   "cell_type": "code",
   "execution_count": 7,
   "metadata": {
    "attributes": {
     "classes": [
      "haskell:hs"
     ],
     "id": "",
     "name": "\"code\""
    }
   },
   "outputs": [
    {
     "data": {
      "text/plain": [
       "4037"
      ]
     },
     "metadata": {},
     "output_type": "display_data"
    }
   ],
   "source": [
    "solveRPN \"90 34 12 33 55 66 + * - + -\""
   ]
  },
  {
   "cell_type": "code",
   "execution_count": 8,
   "metadata": {
    "attributes": {
     "classes": [
      "haskell:hs"
     ],
     "id": "",
     "name": "\"code\""
    }
   },
   "outputs": [
    {
     "data": {
      "text/plain": [
       "87"
      ]
     },
     "metadata": {},
     "output_type": "display_data"
    }
   ],
   "source": [
    "solveRPN \"90 3 -\""
   ]
  },
  {
   "cell_type": "markdown",
   "metadata": {},
   "source": [
    "Cool, it works! One nice thing about this function is that it can be\n",
    "easily modified to support various other operators. They don't even have\n",
    "to be binary operators. For instance, we can make an operator `\"log\"` that\n",
    "just pops one number off the stack and pushes back its logarithm. We can\n",
    "also make a ternary operators that pop three numbers off the stack and\n",
    "push back a result or operators like `\"sum\"` which pop off all the numbers\n",
    "and push back their sum.\n",
    "\n",
    "Let's modify our function to take a few more operators. For simplicity's\n",
    "sake, we'll change its type declaration so that it returns a number of\n",
    "type [`Float`](https://hackage.haskell.org/package/base/docs/Prelude.html#t:Float)."
   ]
  },
  {
   "cell_type": "code",
   "execution_count": 9,
   "metadata": {
    "attributes": {
     "classes": [
      "haskell:hs"
     ],
     "id": "",
     "name": "\"code\""
    }
   },
   "outputs": [],
   "source": [
    "import Data.List\n",
    "\n",
    "solveRPN :: String -> Float\n",
    "solveRPN = head . foldl foldingFunction [] . words\n",
    "    where   foldingFunction (x:y:ys) \"*\" = (x * y):ys\n",
    "            foldingFunction (x:y:ys) \"+\" = (x + y):ys\n",
    "            foldingFunction (x:y:ys) \"-\" = (y - x):ys\n",
    "            foldingFunction (x:y:ys) \"/\" = (y / x):ys\n",
    "            foldingFunction (x:y:ys) \"^\" = (y ** x):ys\n",
    "            foldingFunction (x:xs) \"ln\" = log x:xs\n",
    "            foldingFunction xs \"sum\" = [sum xs]\n",
    "            foldingFunction xs numberString = read numberString:xs"
   ]
  },
  {
   "cell_type": "markdown",
   "metadata": {},
   "source": [
    "Wow, great! [`/`](https://hackage.haskell.org/package/base/docs/Prelude.html#v:-47-) is division of course and [`**`](https://hackage.haskell.org/package/base/docs/Prelude.html#v:-42--42-) is floating point\n",
    "exponentiation. With the logarithm operator, we just pattern match\n",
    "against a single element and the rest of the stack because we only need\n",
    "one element to perform its natural logarithm. With the sum operator, we\n",
    "just return a stack that has only one element, which is the sum of the\n",
    "stack so far."
   ]
  },
  {
   "cell_type": "code",
   "execution_count": 10,
   "metadata": {
    "attributes": {
     "classes": [
      "haskell:hs"
     ],
     "id": "",
     "name": "\"code\""
    }
   },
   "outputs": [
    {
     "data": {
      "text/plain": [
       "0.9932518"
      ]
     },
     "metadata": {},
     "output_type": "display_data"
    }
   ],
   "source": [
    "solveRPN \"2.7 ln\""
   ]
  },
  {
   "cell_type": "code",
   "execution_count": 11,
   "metadata": {
    "attributes": {
     "classes": [
      "haskell:hs"
     ],
     "id": "",
     "name": "\"code\""
    }
   },
   "outputs": [
    {
     "data": {
      "text/plain": [
       "10.0"
      ]
     },
     "metadata": {},
     "output_type": "display_data"
    }
   ],
   "source": [
    "solveRPN \"10 10 10 10 sum 4 /\""
   ]
  },
  {
   "cell_type": "code",
   "execution_count": 12,
   "metadata": {
    "attributes": {
     "classes": [
      "haskell:hs"
     ],
     "id": "",
     "name": "\"code\""
    }
   },
   "outputs": [
    {
     "data": {
      "text/plain": [
       "12.5"
      ]
     },
     "metadata": {},
     "output_type": "display_data"
    }
   ],
   "source": [
    "solveRPN \"10 10 10 10 10 sum 4 /\""
   ]
  },
  {
   "cell_type": "code",
   "execution_count": 13,
   "metadata": {
    "attributes": {
     "classes": [
      "haskell:hs"
     ],
     "id": "",
     "name": "\"code\""
    }
   },
   "outputs": [
    {
     "data": {
      "text/plain": [
       "100.0"
      ]
     },
     "metadata": {},
     "output_type": "display_data"
    }
   ],
   "source": [
    "solveRPN \"10 2 ^\""
   ]
  },
  {
   "cell_type": "markdown",
   "metadata": {},
   "source": [
    "Notice that we can include floating point numbers in our expression\n",
    "because [`read`](https://hackage.haskell.org/package/base/docs/Prelude.html#v:read) knows how to read them."
   ]
  },
  {
   "cell_type": "code",
   "execution_count": 14,
   "metadata": {
    "attributes": {
     "classes": [
      "haskell:hs"
     ],
     "id": "",
     "name": "\"code\""
    }
   },
   "outputs": [
    {
     "data": {
      "text/plain": [
       "6.575903"
      ]
     },
     "metadata": {},
     "output_type": "display_data"
    }
   ],
   "source": [
    "solveRPN \"43.2425 0.5 ^\""
   ]
  },
  {
   "cell_type": "markdown",
   "metadata": {},
   "source": [
    "I think that making a function that can calculate arbitrary floating\n",
    "point RPN expressions and has the option to be easily extended in 10\n",
    "lines is pretty awesome.\n",
    "\n",
    "One thing to note about this function is that it's not really fault\n",
    "tolerant. When given input that doesn't make sense, it will just crash\n",
    "everything. We'll make a fault tolerant version of this with a type\n",
    "declaration of `solveRPN :: String -> Maybe Float` once we get to know\n",
    "monads (they're not scary, trust me!). We could make one right now, but\n",
    "it would be a bit tedious because it would involve a lot of checking for\n",
    "[`Nothing`](https://hackage.haskell.org/package/base/docs/Prelude.html#v:Nothing) on every step. If you're feeling up to the challenge though, you\n",
    "can go ahead and try it! Hint: you can use [`reads`](https://hackage.haskell.org/package/base/docs/Prelude.html#v:reads) to see if a read was\n",
    "successful or not.\n",
    "\n",
    "Heathrow to London\n",
    "------------------\n",
    "\n",
    "Our next problem is this: your plane has just landed in England and you\n",
    "rent a car. You have a meeting really soon and you have to get from\n",
    "Heathrow Airport to London as fast as you can (but safely!).\n",
    "\n",
    "There are two main roads going from Heathrow to London and there's a\n",
    "number of regional roads crossing them. It takes you a fixed amount of\n",
    "time to travel from one crossroads to another. It's up to you to find\n",
    "the optimal path to take so that you get to London as fast as you can!\n",
    "You start on the left side and can either cross to the other main road\n",
    "or go forward.\n",
    "\n",
    "<img src=\"img/roads.png\" title=\"Heathrow - London\" style=\"background-color:white;\" />\n",
    "\n",
    "As you can see in the picture, the shortest path from Heathrow to London\n",
    "in this case is to start on main road B, cross over, go forward on A,\n",
    "cross over again and then go forward twice on B. If we take this path,\n",
    "it takes us 75 minutes. Had we chosen any other path, it would take more\n",
    "than that.\n",
    "\n",
    "Our job is to make a program that takes input that represents a road\n",
    "system and print out what the shortest path across it is. Here's what\n",
    "the input would look like for this case:"
   ]
  },
  {
   "cell_type": "markdown",
   "metadata": {
    "attributes": {
     "classes": [
      "plain"
     ],
     "id": "",
     "name": "\"code\""
    }
   },
   "source": [
    "<pre><code>50\n",
    "10\n",
    "30\n",
    "5\n",
    "90\n",
    "20\n",
    "40\n",
    "2\n",
    "25\n",
    "10\n",
    "8\n",
    "0</code></pre>"
   ]
  },
  {
   "cell_type": "markdown",
   "metadata": {},
   "source": [
    "To mentally parse the input file, read it in threes and mentally split\n",
    "the road system into sections. Each section is comprised of a road A,\n",
    "road B and a crossing road. To have it neatly fit into threes, we say\n",
    "that there's a last crossing section that takes 0 minutes to drive over.\n",
    "That's because we don't care where we arrive in London, as long as we're\n",
    "in London.\n",
    "\n",
    "Just like we did when solving the RPN calculator problem, we're going to\n",
    "solve this problem in three steps:\n",
    "\n",
    "-   Forget Haskell for a minute and think about how we'd solve the\n",
    "    problem by hand\n",
    "-   Think about how we're going to represent our data in Haskell\n",
    "-   Figure out how to operate on that data in Haskell so that we produce\n",
    "    at a solution\n",
    "\n",
    "In the RPN calculator section, we first figured out that when\n",
    "calculating an expression by hand, we'd keep a sort of stack in our\n",
    "minds and then go over the expression one item at a time. We decided to\n",
    "use a list of strings to represent our expression. Finally, we used a\n",
    "left fold to walk oevr the list of strings while keeping a stack to\n",
    "produce a solution.\n",
    "\n",
    "Okay, so how would we figure out the shortest path from Heathrow to\n",
    "London by hand? Well, we can just sort of look at the whole picture and\n",
    "try to guess what the shortest path is and hopefully we'll make a guess\n",
    "that's right. That solution works for very small inputs, but what if we\n",
    "have a road that has 10,000 sections? Yikes! We also won't be able to\n",
    "say for certain that our solution is the optimal one, we can just sort\n",
    "of say that we're pretty sure.\n",
    "\n",
    "That's not a good solution then. Here's a simplified picture of our road\n",
    "system:\n",
    "\n",
    "<img src=\"img/roads_simple.png\" title=\"roads\" style=\"background-color:white;\" />\n",
    "\n",
    "Alright, can you figure out what the shortest path to the first\n",
    "crossroads (the first blue dot on A, marked *A1*) on road A is? That's\n",
    "pretty trivial. We just see if it's shorter to go directly forward on A\n",
    "or if it's shorter to go forward on B and then cross over. Obviously,\n",
    "it's cheaper to go forward via B and then cross over because that takes\n",
    "40 minutes, whereas going directly via A takes 50 minutes. What about\n",
    "crossroads *B1*? Same thing. We see that it's a lot cheaper to just go\n",
    "directly via B (incurring a cost of 10 minutes), because going via A and\n",
    "then crossing over would take us a whole 80 minutes!\n",
    "\n",
    "Now we know what the cheapest path to *A1* is (go via B and then cross\n",
    "over, so we'll say that's `B, C` with a cost of 40) and we know what the\n",
    "cheapest path to *B1* is (go directly via B, so that's just `B`, going at\n",
    "10). Does this knowledge help us at all if we want to know the cheapest\n",
    "path to the next crossroads on both main roads? Gee golly, it sure does!\n",
    "\n",
    "Let's see what the shortest path to *A2* would be. To get to *A2*, we'll\n",
    "either go directly to *A2* from *A1* or we'll go forward from *B1* and\n",
    "then cross over (remember, we can only move forward or cross to the\n",
    "other side). And because we know the cost to *A1* and *B1*, we can\n",
    "easily figure out what the best path to *A2* is. It costs 40 to get to\n",
    "*A1* and then 5 to get from *A1* to *A2*, so that's `B, C, A` for a cost\n",
    "of 45. It costs only 10 to get to *B1*, but then it would take an\n",
    "additional 110 minutes to go to *B2* and then cross over! So obviously,\n",
    "the cheapest path to *A2* is `B, C, A`. In the same way, the cheapest way\n",
    "to *B2* is to go forward from *A1* and then cross over.\n",
    "\n",
    "> __Maybe you're asking yourself__: but what about getting to *A2* by first\n",
    "> crossing over at *B1* and then going on forward? Well, we already\n",
    "> covered crossing from *B1* to *A1* when we were looking for the best way\n",
    "> to *A1*, so we don't have to take that into account in the next step as\n",
    "> well.\n",
    "\n",
    "Now that we have the best path to *A2* and *B2*, we can repeat this\n",
    "indefinitely until we reach the end. Once we've gotten the best paths\n",
    "for *A4* and *B4*, the one that's cheaper is the optimal path!\n",
    "\n",
    "So in essence, for the second section, we just repeat the step we did at\n",
    "first, only we take into account what the previous best paths on A and\n",
    "B. We could say that we also took into account the best paths on A and\n",
    "on B in the first step, only they were both empty paths with a cost of\n",
    "0.\n",
    "\n",
    "Here's a summary. To get the bast path from Heathrow to London, we do\n",
    "this: first we see what the best path to the next crossroads on main\n",
    "road A is. The two options are going directly forward or starting at the\n",
    "opposite road, going forward and then crossing over. We remember the\n",
    "cost and the path. We use the same method to see what the best path to\n",
    "the next crossroads on main road B is and remember that. Then, we see if\n",
    "the path to the next crossroads on A is cheaper if we go from the\n",
    "previous A crossroads or if we go from the previous B crossroads and\n",
    "then cross over. We remember the cheaper path and then we do the same\n",
    "for the crossroads opposite of it. We do this for every section until we\n",
    "reach the end. Once we've reached the end, the cheapest of the two paths\n",
    "that we have is our optimal path!\n",
    "\n",
    "So in essence, we keep one shortest path on the A road and one shortest\n",
    "path on the B road and when we reach the end, the shorter of those two\n",
    "is our path. We now know how to figure out the shortest path by hand. If\n",
    "you had enough time, paper and pencils, you could figure out the\n",
    "shortest path through a road system with any number of sections.\n",
    "\n",
    "Next step! How do we represent this road system with Haskell's data\n",
    "types? One way is to think of the starting points and crossroads as\n",
    "nodes of a graph that point to other crossroads. If we imagine that the\n",
    "starting points actually point to each other with a road that has a\n",
    "length of one, we see that every crossroads (or node) points to the node\n",
    "on the other side and also to the next one on its side. Except for the\n",
    "last nodes, they just point to the other side."
   ]
  },
  {
   "cell_type": "code",
   "execution_count": 15,
   "metadata": {
    "attributes": {
     "classes": [
      "haskell:hs"
     ],
     "id": "",
     "name": "\"code\""
    }
   },
   "outputs": [],
   "source": [
    "data Node = Node Road Road | EndNode Road\n",
    "data Road = Road Int Node"
   ]
  },
  {
   "cell_type": "markdown",
   "metadata": {},
   "source": [
    "A node is either a normal node and has information about the road that\n",
    "leads to the other main road and the road that leads to the next node or\n",
    "an end node, which only has information about the road to the other main\n",
    "road. A road keeps information about how long it is and which node it\n",
    "points to. For instance, the first part of the road on the A main road\n",
    "would be `Road 50 a1` where `a1` would be a node `Node x y`, where `x` and `y` are\n",
    "roads that point to *B1* and *A2*.\n",
    "\n",
    "Another way would be to use [`Maybe`](https://hackage.haskell.org/package/base/docs/Prelude.html#t:Maybe) for the road parts that point forward.\n",
    "Each node has a road part that point to the opposite road, but only\n",
    "those nodes that aren't the end ones have road parts that point forward."
   ]
  },
  {
   "cell_type": "code",
   "execution_count": 16,
   "metadata": {
    "attributes": {
     "classes": [
      "haskell:hs"
     ],
     "id": "",
     "name": "\"code\""
    }
   },
   "outputs": [],
   "source": [
    "data Node = Node Road (Maybe Road)\n",
    "data Road = Road Int Node"
   ]
  },
  {
   "cell_type": "markdown",
   "metadata": {},
   "source": [
    "This is an alright way to represent the road system in Haskell and we\n",
    "could certainly solve this problem with it, but maybe we could come up\n",
    "with something simpler? If we think back to our solution by hand, we\n",
    "always just checked the lengths of three road parts at once: the road\n",
    "part on the A road, its opposite part on the B road and part C, which\n",
    "touches those two parts and connects them. When we were looking for the\n",
    "shortest path to *A1* and *B1*, we only had to deal with the lengths of\n",
    "the first three parts, which have lengths of 50, 10 and 30. We'll call\n",
    "that one section. So the road system that we use for this example can be\n",
    "easily represented as four sections: `50, 10, 30`, `5, 90, 20`, `40, 2, 25`,\n",
    "and `10, 8, 0`.\n",
    "\n",
    "It's always good to keep our data types as simple as possible, although\n",
    "not any simpler!"
   ]
  },
  {
   "cell_type": "code",
   "execution_count": 17,
   "metadata": {
    "attributes": {
     "classes": [
      "haskell:hs"
     ],
     "id": "",
     "name": "\"code\""
    }
   },
   "outputs": [],
   "source": [
    "data Section = Section { getA :: Int, getB :: Int, getC :: Int } deriving (Show)\n",
    "type RoadSystem = [Section]"
   ]
  },
  {
   "cell_type": "markdown",
   "metadata": {},
   "source": [
    "This is pretty much perfect! It's as simple as it goes and I have a\n",
    "feeling it'll work perfectly for implementing our solution. `Section` is a\n",
    "simple algebraic data type that holds three integers for the lengths of\n",
    "its three road parts. We introduce a type synonym as well, saying that\n",
    "`RoadSystem` is a list of sections.\n",
    "\n",
    "> We could also use a triple of `(Int, Int, Int)` to represent a road\n",
    "> section. Using tuples instead of making your own algebraic data types is\n",
    "> good for some small localized stuff, but it's usually better to make a\n",
    "> new type for things like this. It gives the type system more information\n",
    "> about what's what. We can use `(Int, Int, Int)` to represent a road\n",
    "> section or a vector in 3D space and we can operate on those two, but\n",
    "> that allows us to mix them up. If we use `Section` and `Vector` data types,\n",
    "> then we can't accidentally add a vector to a section of a road system.\n",
    "\n",
    "Our road system from Heathrow to London can now be represented like\n",
    "this:"
   ]
  },
  {
   "cell_type": "code",
   "execution_count": 18,
   "metadata": {
    "attributes": {
     "classes": [
      "haskell:hs"
     ],
     "id": "",
     "name": "\"code\""
    }
   },
   "outputs": [],
   "source": [
    "heathrowToLondon :: RoadSystem\n",
    "heathrowToLondon = [Section 50 10 30, Section 5 90 20, Section 40 2 25, Section 10 8 0]"
   ]
  },
  {
   "cell_type": "markdown",
   "metadata": {},
   "source": [
    "All we need to do now is to implement the solution that we came up with\n",
    "previously in Haskell. What should the type declaration for a function\n",
    "that calculates a shortest path for any given road system be? It should\n",
    "take a road system as a parameter and return a path. We'll represent a\n",
    "path as a list as well. Let's introduce a `Label` type that's just an\n",
    "enumeration of either `A`, `B` or [`C`](https://hackage.haskell.org/package/base/docs/Foreign-C.html). We'll also make a type synonym: `Path`."
   ]
  },
  {
   "cell_type": "code",
   "execution_count": 19,
   "metadata": {
    "attributes": {
     "classes": [
      "haskell:hs"
     ],
     "id": "",
     "name": "\"code\""
    }
   },
   "outputs": [],
   "source": [
    "data Label = A | B | C deriving (Show)\n",
    "type Path = [(Label, Int)]"
   ]
  },
  {
   "cell_type": "markdown",
   "metadata": {},
   "source": [
    "Our function, we'll call it `optimalPath` should thus have a type\n",
    "declaration of `optimalPath :: RoadSystem -> Path`. If called with the\n",
    "road system `heathrowToLondon`, it should return the following path:"
   ]
  },
  {
   "cell_type": "markdown",
   "metadata": {
    "attributes": {
     "classes": [
      "haskell:hs"
     ],
     "id": "",
     "name": "\"code\""
    }
   },
   "source": [
    "<pre><code>[(B,10),(C,30),(A,5),(C,20),(B,2),(B,8)]</code></pre>"
   ]
  },
  {
   "cell_type": "markdown",
   "metadata": {},
   "source": [
    "We're going to have to walk over the list with the sections from left to\n",
    "right and keep the optimal path on A and optimal path on B as we go\n",
    "along. We'll accumulate the best path as we walk over the list, left to\n",
    "right. What does that sound like? Ding, ding, ding! That's right, A LEFT\n",
    "FOLD!\n",
    "\n",
    "When doing the solution by hand, there was a step that we repeated over\n",
    "and over again. It involved checking the optimal paths on A and B so far\n",
    "and the current section to produce the new optimal paths on A and B. For\n",
    "instance, at the beginning the optimal paths were `[]` and `[]` for A and B\n",
    "respectively. We examined the section `Section 50 10 30` and concluded\n",
    "that the new optimal path to *A1* is `[(B,10),(C,30)]` and the optimal\n",
    "path to *B1* is `[(B,10)]`. If you look at this step as a function, it\n",
    "takes a pair of paths and a section and produces a new pair of paths.\n",
    "The type is `(Path, Path) -> Section -> (Path, Path)`. Let's go ahead\n",
    "and implement this function, because it's bound to be useful.\n",
    "\n",
    "> __Hint:__ it will be useful because\n",
    "> `(Path, Path) -> Section -> (Path, Path)`\n",
    "> can be used as the binary function for a left fold, which has to\n",
    "> have a type of `a -> b -> a`"
   ]
  },
  {
   "cell_type": "code",
   "execution_count": 20,
   "metadata": {
    "attributes": {
     "classes": [
      "haskell:hs"
     ],
     "id": "",
     "name": "\"code\""
    }
   },
   "outputs": [],
   "source": [
    "roadStep :: (Path, Path) -> Section -> (Path, Path)\n",
    "roadStep (pathA, pathB) (Section a b c) =\n",
    "    let priceA = sum $ map snd pathA\n",
    "        priceB = sum $ map snd pathB\n",
    "        forwardPriceToA = priceA + a\n",
    "        crossPriceToA = priceB + b + c\n",
    "        forwardPriceToB = priceB + b\n",
    "        crossPriceToB = priceA + a + c\n",
    "        newPathToA = if forwardPriceToA <= crossPriceToA\n",
    "                        then (A,a):pathA\n",
    "                        else (C,c):(B,b):pathB\n",
    "        newPathToB = if forwardPriceToB <= crossPriceToB\n",
    "                        then (B,b):pathB\n",
    "                        else (C,c):(A,a):pathA\n",
    "    in  (newPathToA, newPathToB)"
   ]
  },
  {
   "cell_type": "markdown",
   "metadata": {},
   "source": [
    "<img src=\"img/guycar.png\" title=\"this is you\" style=\"background-color:white;float:right;margin-left:2em;\" />\n",
    "\n",
    "What's going on here? First, calculate the optimal price on road A based\n",
    "on the best so far on A and we do the same for B. We do\n",
    "`sum $ map snd pathA`, so if `pathA` is something like\n",
    "`[(A,100),(C,20)]`, `priceA` becomes\n",
    "`120`. `forwardPriceToA` is the price that we would pay if we went to the\n",
    "next crossroads on A if we went there directly from the previous\n",
    "crossroads on A. It equals the best price to our previous A, plus the\n",
    "length of the A part of the current section. `crossPriceToA` is the price\n",
    "that we would pay if we went to the next A by going forward from the\n",
    "previous B and then crossing over. It's the best price to the previous B\n",
    "so far plus the B length of the section plus the C length of the\n",
    "section. We determine `forwardPriceToB` and `crossPriceToB` in the same\n",
    "manner.\n",
    "\n",
    "Now that we know what the best way to A and B is, we just need to make\n",
    "the new paths to A and B based on that. If it's cheaper to go to A by\n",
    "just going forwards, we set `newPathToA` to be `(A,a):pathA`. Basically we\n",
    "prepend the `Label` `A` and the section length `a` to the optimal path path on\n",
    "A so far. Basically, we say that the best path to the next A crossroads\n",
    "is the path to the previous A crossroads and then one section forward\n",
    "via A. Remember, `A` is just a label, whereas `a` has a type of [`Int`](https://hackage.haskell.org/package/base/docs/Prelude.html#t:Int). Why do\n",
    "we prepend instead of doing `pathA ++ [(A,a)]`? Well, adding an element to\n",
    "the beginning of a list (also known as consing) is much faster than\n",
    "adding it to the end. This means that the path will be the wrong way\n",
    "around once we fold over a list with this function, but it's easy to\n",
    "reverse the list later. If it's cheaper to get to the next A crossroads\n",
    "by going forward from road B and then crossing over, then `newPathToA` is\n",
    "the old path to B that then goes forward and crosses to A. We do the\n",
    "same thing for `newPathToB`, only everything's mirrored.\n",
    "\n",
    "Finally, we return `newPathToA` and `newPathToB` in a pair.\n",
    "\n",
    "Let's run this function on the first section of `heathrowToLondon`.\n",
    "Because it's the first section, the best paths on A and B parameter will\n",
    "be a pair of empty lists."
   ]
  },
  {
   "cell_type": "code",
   "execution_count": 21,
   "metadata": {
    "attributes": {
     "classes": [
      "haskell:hs"
     ],
     "id": "",
     "name": "\"code\""
    }
   },
   "outputs": [
    {
     "data": {
      "text/plain": [
       "([(C,30),(B,10)],[(B,10)])"
      ]
     },
     "metadata": {},
     "output_type": "display_data"
    }
   ],
   "source": [
    "roadStep ([], []) (head heathrowToLondon)"
   ]
  },
  {
   "cell_type": "markdown",
   "metadata": {},
   "source": [
    "Remember, the paths are reversed, so read them from right to left. From\n",
    "this we can read that the best path to the next A is to start on B and\n",
    "then cross over to A and that the best path to the next B is to just go\n",
    "directly forward from the starting point at B.\n",
    "\n",
    "> __Optimization tip:__ when we do `priceA = sum $ map snd pathA`, we're\n",
    "> calculating the price from the path on every step. We wouldn't have to\n",
    "> do that if we implemented `roadStep` as a\n",
    "> `(Path, Path, Int, Int) -> Section -> (Path, Path, Int, Int)`\n",
    "> function where the integers represent\n",
    "> the best price on A and B.\n",
    "\n",
    "Now that we have a function that takes a pair of paths and a section and\n",
    "produces a new optimal path, we can just easily do a left fold over a\n",
    "list of sections. `roadStep` is called with `([],[])` and the first section\n",
    "and returns a pair of optimal paths to that section. Then, it's called\n",
    "with that pair of paths and the next section and so on. When we've\n",
    "walked over all the sections, we're left with a pair of optimal paths\n",
    "and the shorter of them is our answer. With this in mind, we can\n",
    "implement `optimalPath`."
   ]
  },
  {
   "cell_type": "code",
   "execution_count": 22,
   "metadata": {
    "attributes": {
     "classes": [
      "haskell:hs"
     ],
     "id": "",
     "name": "\"code\""
    }
   },
   "outputs": [],
   "source": [
    "optimalPath :: RoadSystem -> Path\n",
    "optimalPath roadSystem =\n",
    "    let (bestAPath, bestBPath) = foldl roadStep ([],[]) roadSystem\n",
    "    in  if sum (map snd bestAPath) <= sum (map snd bestBPath)\n",
    "            then reverse bestAPath\n",
    "            else reverse bestBPath"
   ]
  },
  {
   "cell_type": "markdown",
   "metadata": {},
   "source": [
    "We left fold over `roadSystem` (remember, it's a list of sections) with\n",
    "the starting accumulator being a pair of empty paths. The result of that\n",
    "fold is a pair of paths, so we pattern match on the pair to get the\n",
    "paths themselves. Then, we check which one of these was cheaper and\n",
    "return it. Before returning it, we also reverse it, because the optimal\n",
    "paths so far were reversed due to us choosing consing over appending.\n",
    "\n",
    "Let's test this!"
   ]
  },
  {
   "cell_type": "code",
   "execution_count": 23,
   "metadata": {
    "attributes": {
     "classes": [
      "haskell:hs"
     ],
     "id": "",
     "name": "\"code\""
    }
   },
   "outputs": [
    {
     "data": {
      "text/plain": [
       "[(B,10),(C,30),(A,5),(C,20),(B,2),(B,8),(C,0)]"
      ]
     },
     "metadata": {},
     "output_type": "display_data"
    }
   ],
   "source": [
    "optimalPath heathrowToLondon"
   ]
  },
  {
   "cell_type": "markdown",
   "metadata": {},
   "source": [
    "This is the result that we were supposed to get! Awesome! It differs\n",
    "from our expected result a bit because there's a step `(C,0)` at the end,\n",
    "which means that we cross over to the other road once we're in London,\n",
    "but because that crossing doesn't cost anything, this is still the\n",
    "correct result.\n",
    "\n",
    "We have the function that finds an optimal path based on, now we just\n",
    "have to read a textual representation of a road system from the standard\n",
    "input, convert it into a type of `RoadSystem`, run that through our\n",
    "`optimalPath` function and print the path.\n",
    "\n",
    "First off, let's make a function that takes a list and splits it into\n",
    "groups of the same size. We'll call it `groupsOf`. For a parameter of\n",
    "`[1..10]`, `groupsOf 3` should return `[[1,2,3],[4,5,6],[7,8,9],[10]]`."
   ]
  },
  {
   "cell_type": "code",
   "execution_count": 24,
   "metadata": {
    "attributes": {
     "classes": [
      "haskell:hs"
     ],
     "id": "",
     "name": "\"code\""
    }
   },
   "outputs": [],
   "source": [
    "groupsOf :: Int -> [a] -> [[a]]\n",
    "groupsOf 0 _ = undefined\n",
    "groupsOf _ [] = []\n",
    "groupsOf n xs = take n xs : groupsOf n (drop n xs)"
   ]
  },
  {
   "cell_type": "markdown",
   "metadata": {},
   "source": [
    "A standard recursive function. For an `xs` of `[1..10]` and an `n` of `3`, this\n",
    "equals `[1,2,3] : groupsOf 3 [4,5,6,7,8,9,10]`. When the recursion is\n",
    "done, we get our list in groups of three. And here's our `main` function,\n",
    "which reads from the standard input, makes a `RoadSystem` out of it and\n",
    "prints out the shortest path:"
   ]
  },
  {
   "cell_type": "code",
   "execution_count": 25,
   "metadata": {
    "attributes": {
     "classes": [
      "haskell:hs"
     ],
     "id": "",
     "name": "\"code\""
    }
   },
   "outputs": [],
   "source": [
    "import Data.List\n",
    "\n",
    "main contents = do\n",
    "    let threes = groupsOf 3 (map read $ lines contents)\n",
    "        roadSystem = map (\\[a,b,c] -> Section a b c) threes\n",
    "        path = optimalPath roadSystem\n",
    "        pathString = concat $ map (show . fst) path\n",
    "        pathPrice = sum $ map snd path\n",
    "    putStrLn $ \"The best path to take is: \" ++ pathString\n",
    "    putStrLn $ \"The price is: \" ++ show pathPrice"
   ]
  },
  {
   "cell_type": "markdown",
   "metadata": {},
   "source": [
    "First, we get all the contents from the standard input. Then, we call\n",
    "[`lines`](https://hackage.haskell.org/package/base/docs/Prelude.html#v:lines) with our contents to convert something like `\"50\\n10\\n30\\n...` to\n",
    "`[\"50\",\"10\",\"30\"..` and then we map [`read`](https://hackage.haskell.org/package/base/docs/Prelude.html#v:read) to that to convert it to a list\n",
    "of numbers. We call `groupsOf 3` on it so that we turn it to a list of\n",
    "lists of length 3. We map the lambda (`\\[a,b,c] -> Section a b c`) over\n",
    "that list of lists. As you can see, the lambda just takes a list of\n",
    "length 3 and turns it into a section. So `roadSystem` is now our system of\n",
    "roads and it even has the correct type, namely `RoadSystem` (or\n",
    "`[Section]`). We call `optimalPath` with that and then get the path and the\n",
    "price in a nice textual representation and print it out.\n",
    "\n",
    "We save the following text"
   ]
  },
  {
   "cell_type": "code",
   "execution_count": 26,
   "metadata": {
    "attributes": {
     "classes": [
      "plain"
     ],
     "id": "",
     "name": "\"code\""
    }
   },
   "outputs": [],
   "source": [
    "writeFile \"paths.txt\" $ unlines $ map show\n",
    " [ 50\n",
    " , 10\n",
    " , 30\n",
    " , 5\n",
    " , 90\n",
    " , 20\n",
    " , 40\n",
    " , 2\n",
    " , 25\n",
    " , 10\n",
    " , 8\n",
    " , 0\n",
    " ]"
   ]
  },
  {
   "cell_type": "markdown",
   "metadata": {},
   "source": [
    "in a file called `paths.txt` and then feed it to our program."
   ]
  },
  {
   "cell_type": "code",
   "execution_count": 27,
   "metadata": {
    "attributes": {
     "classes": [
      "plain"
     ],
     "id": "",
     "name": "\"code\""
    }
   },
   "outputs": [
    {
     "data": {
      "text/plain": [
       "The best path to take is: BCACBBC\n",
       "The price is: 75"
      ]
     },
     "metadata": {},
     "output_type": "display_data"
    }
   ],
   "source": [
    "readFile \"paths.txt\" >>= main"
   ]
  },
  {
   "cell_type": "markdown",
   "metadata": {},
   "source": [
    "Works like a charm! You can use your knowledge of the `Data.Random` module\n",
    "to generate a much longer system of roads, which you can then feed to\n",
    "what we just wrote. If you get stack overflows, try using `foldl'` instead\n",
    "of [`foldl`](https://hackage.haskell.org/package/base/docs/Prelude.html#v:foldl), because `foldl'` is strict."
   ]
  }
 ],
 "metadata": {
  "kernelspec": {
   "display_name": "Haskell",
   "language": "haskell",
   "name": "haskell"
  },
  "language_info": {
   "codemirror_mode": "ihaskell",
   "file_extension": ".hs",
   "mimetype": "text/x-haskell",
   "name": "haskell",
   "pygments_lexer": "Haskell",
   "version": "9.2.5"
  }
 },
 "nbformat": 4,
 "nbformat_minor": 4
}
