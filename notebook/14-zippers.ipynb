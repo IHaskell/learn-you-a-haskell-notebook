{
 "cells": [
  {
   "cell_type": "markdown",
   "metadata": {},
   "source": [
    "Zippers\n",
    "=======\n",
    "\n",
    "<img src=\"img/60sdude.png\" title=\"hi im chet\" style=\"background-color:white;float:right;margin-left:2em;\" />\n",
    "\n",
    "While Haskell's purity comes with a whole bunch of benefits, it makes us\n",
    "tackle some problems differently than we would in impure languages.\n",
    "Because of referential transparency, one value is as good as another in\n",
    "Haskell if it represents the same thing.\n",
    "\n",
    "So if we have a tree full of fives (high-fives, maybe?) and we want to\n",
    "change one of them into a six, we have to have some way of knowing\n",
    "exactly which five in our tree we want to change. We have to know where\n",
    "it is in our tree. In impure languages, we could just note where in our\n",
    "memory the five is located and change that. But in Haskell, one five is\n",
    "as good as another, so we can't discriminate based on where in our\n",
    "memory they are. We also can't really *change* anything; when we say\n",
    "that we change a tree, we actually mean that we take a tree and return a\n",
    "new one that's similar to the original tree, but slightly different.\n",
    "\n",
    "One thing we can do is to remember a path from the root of the tree to\n",
    "the element that we want to change. We could say, take this tree, go\n",
    "left, go right and then left again and change the element that's there.\n",
    "While this works, it can be inefficient. If we want to later change an\n",
    "element that's near the element that we previously changed, we have to\n",
    "walk all the way from the root of the tree to our element again!\n",
    "\n",
    "In this chapter, we'll see how we can take some data structure and focus\n",
    "on a part of it in a way that makes changing its elements easy and\n",
    "walking around it efficient. Nice!"
   ]
  },
  {
   "cell_type": "markdown",
   "metadata": {},
   "source": [
    "> __Jupyter Note:__ We'll turn off the [automatic linting for IHaskell](https://github.com/IHaskell/IHaskell/wiki#opt-no-lint) first."
   ]
  },
  {
   "cell_type": "code",
   "execution_count": 1,
   "metadata": {
    "attributes": {
     "classes": [
      "haskell:hs"
     ],
     "id": "",
     "name": "\"code\""
    }
   },
   "outputs": [],
   "source": [
    ":opt no-lint"
   ]
  },
  {
   "cell_type": "markdown",
   "metadata": {},
   "source": [
    "Taking a walk\n",
    "-------------\n",
    "\n",
    "Like we've learned in biology class, there are many different kinds of\n",
    "trees, so let's pick a seed that we will use to plant ours. Here it is:"
   ]
  },
  {
   "cell_type": "code",
   "execution_count": 2,
   "metadata": {
    "attributes": {
     "classes": [
      "haskell:hs"
     ],
     "id": "",
     "name": "\"code\""
    }
   },
   "outputs": [],
   "source": [
    "data Tree a = Empty | Node a (Tree a) (Tree a) deriving (Show)"
   ]
  },
  {
   "cell_type": "markdown",
   "metadata": {},
   "source": [
    "So our tree is either empty or it's a node that has an element and two\n",
    "sub-trees. Here's a fine example of such a tree, which I give to you,\n",
    "the reader, for free!"
   ]
  },
  {
   "cell_type": "code",
   "execution_count": 3,
   "metadata": {
    "attributes": {
     "classes": [
      "haskell:hs"
     ],
     "id": "",
     "name": "\"code\""
    }
   },
   "outputs": [],
   "source": [
    "freeTree :: Tree Char\n",
    "freeTree =\n",
    "    Node 'P'\n",
    "        (Node 'O'\n",
    "            (Node 'L'\n",
    "                (Node 'N' Empty Empty)\n",
    "                (Node 'T' Empty Empty)\n",
    "            )\n",
    "            (Node 'Y'\n",
    "                (Node 'S' Empty Empty)\n",
    "                (Node 'A' Empty Empty)\n",
    "            )\n",
    "        )\n",
    "        (Node 'L'\n",
    "            (Node 'W'\n",
    "                (Node 'C' Empty Empty)\n",
    "                (Node 'R' Empty Empty)\n",
    "            )\n",
    "            (Node 'A'\n",
    "                (Node 'A' Empty Empty)\n",
    "                (Node 'C' Empty Empty)\n",
    "            )\n",
    "        )"
   ]
  },
  {
   "cell_type": "markdown",
   "metadata": {},
   "source": [
    "And here's this tree represented graphically:\n",
    "\n",
    "<img src=\"img/pollywantsa.png\" title=\"polly says her back hurts\" style=\"background-color:white;\" />\n",
    "\n",
    "Notice that `W` in the tree there? Say we want to change it into a `P`. How\n",
    "would we go about doing that? Well, one way would be to pattern match on\n",
    "our tree until we find the element that's located by first going right\n",
    "and then left and changing said element. Here's the code for this:"
   ]
  },
  {
   "cell_type": "code",
   "execution_count": 4,
   "metadata": {
    "attributes": {
     "classes": [
      "haskell:hs"
     ],
     "id": "",
     "name": "\"code\""
    }
   },
   "outputs": [],
   "source": [
    "changeToP :: Tree Char -> Tree Char\n",
    "changeToP (Node x l (Node y (Node _ m n) r)) = Node x l (Node y (Node 'P' m n) r)"
   ]
  },
  {
   "cell_type": "markdown",
   "metadata": {},
   "source": [
    "Yuck! Not only is this rather ugly, it's also kind of confusing. What\n",
    "happens here? Well, we pattern match on our tree and name its root\n",
    "element `x` (that's becomes the `'P'` in the root) and its left sub-tree `l`.\n",
    "Instead of giving a name to its right sub-tree, we further pattern match\n",
    "on it. We continue this pattern matching until we reach the sub-tree\n",
    "whose root is our `'W'`. Once we've done this, we rebuild the tree, only\n",
    "the sub-tree that contained the 'W' at its root now has a `'P'`.\n",
    "\n",
    "Is there a better way of doing this? How about we make our function take\n",
    "a tree along with a list of directions. The directions will be either `L`\n",
    "or [`R`](https://hackage.haskell.org/package/base/docs/GHC-Generics.html#t:R), representing left and right respectively, and we'll change the\n",
    "element that we arrive at if we follow the supplied directions. Here it\n",
    "is:"
   ]
  },
  {
   "cell_type": "code",
   "execution_count": 5,
   "metadata": {
    "attributes": {
     "classes": [
      "haskell:hs"
     ],
     "id": "",
     "name": "\"code\""
    }
   },
   "outputs": [],
   "source": [
    "data Direction = L | R deriving (Show)\n",
    "type Directions = [Direction]\n",
    "\n",
    "changeToP :: Directions-> Tree Char -> Tree Char\n",
    "changeToP (L:ds) (Node x l r) = Node x (changeToP ds l) r\n",
    "changeToP (R:ds) (Node x l r) = Node x l (changeToP ds r)\n",
    "changeToP [] (Node _ l r) = Node 'P' l r"
   ]
  },
  {
   "cell_type": "markdown",
   "metadata": {},
   "source": [
    "If the first element in the our list of directions is `L`, we construct a\n",
    "new tree that's like the old tree, only its left sub-tree has an element\n",
    "changed to `'P'`. When we recursively call `changeToP`, we give it only the\n",
    "tail of the list of directions, because we already took a left. We do\n",
    "the same thing in the case of an [`R`](https://hackage.haskell.org/package/base/docs/GHC-Generics.html#t:R). If the list of directions is empty,\n",
    "that means that we're at our destination, so we return a tree that's\n",
    "like the one supplied, only it has `'P'` as its root element.\n",
    "\n",
    "To avoid printing out the whole tree, let's make a function that takes a\n",
    "list of directions and tells us what the element at the destination is:"
   ]
  },
  {
   "cell_type": "code",
   "execution_count": 6,
   "metadata": {
    "attributes": {
     "classes": [
      "haskell:hs"
     ],
     "id": "",
     "name": "\"code\""
    }
   },
   "outputs": [],
   "source": [
    "elemAt :: Directions -> Tree a -> a\n",
    "elemAt (L:ds) (Node _ l _) = elemAt ds l\n",
    "elemAt (R:ds) (Node _ _ r) = elemAt ds r\n",
    "elemAt [] (Node x _ _) = x"
   ]
  },
  {
   "cell_type": "markdown",
   "metadata": {},
   "source": [
    "This function is actually quite similar to `changeToP`, only instead of\n",
    "remembering stuff along the way and reconstructing the tree, it ignores\n",
    "everything except its destination. Here we change the `'W'` to a `'P'` and\n",
    "see if the change in our new tree sticks:"
   ]
  },
  {
   "cell_type": "code",
   "execution_count": 7,
   "metadata": {
    "attributes": {
     "classes": [
      "haskell:hs"
     ],
     "id": "",
     "name": "\"code\""
    }
   },
   "outputs": [
    {
     "data": {
      "text/plain": [
       "'P'"
      ]
     },
     "metadata": {},
     "output_type": "display_data"
    }
   ],
   "source": [
    "let newTree = changeToP [R,L] freeTree\n",
    "elemAt [R,L] newTree"
   ]
  },
  {
   "cell_type": "markdown",
   "metadata": {},
   "source": [
    "Nice, this seems to work. In these functions, the list of directions\n",
    "acts as a sort of *focus*, because it pinpoints one exact sub-tree from\n",
    "our tree. A direction list of `[R]` focuses on the sub-tree that's right\n",
    "of the root, for example. An empty direction list focuses on the main\n",
    "tree itself.\n",
    "\n",
    "While this technique may seem cool, it can be rather inefficient,\n",
    "especially if we want to repeatedly change elements. Say we have a\n",
    "really huge tree and a long direction list that points to some element\n",
    "all the way at the bottom of the tree. We use the direction list to take\n",
    "a walk along the tree and change an element at the bottom. If we want to\n",
    "change another element that's close to the element that we've just\n",
    "changed, we have to start from the root of the tree and walk all the way\n",
    "to the bottom again! What a drag.\n",
    "\n",
    "In the next section, we'll find a better way of focusing on a sub-tree,\n",
    "one that allows us to efficiently switch focus to sub-trees that are\n",
    "nearby.\n",
    "\n",
    "A trail of breadcrumbs\n",
    "----------------------\n",
    "\n",
    "<img src=\"img/bread.png\" title=\"whoop dee doo\" style=\"background-color:white;float:right;margin-left:2em;\" />\n",
    "\n",
    "Okay, so for focusing on a sub-tree, we want something better than just\n",
    "a list of directions that we always follow from the root of our tree.\n",
    "Would it help if we start at the root of the tree and move either left\n",
    "or right one step at a time and sort of leave breadcrumbs? That is, when\n",
    "we go left, we remember that we went left and when we go right, we\n",
    "remember that we went right. Sure, we can try that.\n",
    "\n",
    "To represent our breadcrumbs, we'll also use a list of `Direction` (which\n",
    "is either `L` or [`R`](https://hackage.haskell.org/package/base/docs/GHC-Generics.html#t:R)), only instead of calling it `Directions`, we'll call it\n",
    "`Breadcrumbs` , because our directions will now be reversed since we're\n",
    "leaving them as we go down our tree:"
   ]
  },
  {
   "cell_type": "code",
   "execution_count": 8,
   "metadata": {
    "attributes": {
     "classes": [
      "haskell:hs"
     ],
     "id": "",
     "name": "\"code\""
    }
   },
   "outputs": [],
   "source": [
    "type Breadcrumbs = [Direction]"
   ]
  },
  {
   "cell_type": "markdown",
   "metadata": {},
   "source": [
    "Here's a function that takes a tree and some breadcrumbs and moves to\n",
    "the left sub-tree while adding `L` to the head of the list that represents\n",
    "our breadcrumbs:"
   ]
  },
  {
   "cell_type": "code",
   "execution_count": 9,
   "metadata": {
    "attributes": {
     "classes": [
      "haskell:hs"
     ],
     "id": "",
     "name": "\"code\""
    }
   },
   "outputs": [],
   "source": [
    "goLeft :: (Tree a, Breadcrumbs) -> (Tree a, Breadcrumbs)\n",
    "goLeft (Node _ l _, bs) = (l, L:bs)"
   ]
  },
  {
   "cell_type": "markdown",
   "metadata": {},
   "source": [
    "We ignore the element at the root and the right sub-tree and just return\n",
    "the left sub-tree along with the old breadcrumbs with `L` as the head.\n",
    "Here's a function to go right:"
   ]
  },
  {
   "cell_type": "code",
   "execution_count": 10,
   "metadata": {
    "attributes": {
     "classes": [
      "haskell:hs"
     ],
     "id": "",
     "name": "\"code\""
    }
   },
   "outputs": [],
   "source": [
    "goRight :: (Tree a, Breadcrumbs) -> (Tree a, Breadcrumbs)\n",
    "goRight (Node _ _ r, bs) = (r, R:bs)"
   ]
  },
  {
   "cell_type": "markdown",
   "metadata": {},
   "source": [
    "It works the same way. Let's use these functions to take our `freeTree`\n",
    "and go right and then left:"
   ]
  },
  {
   "cell_type": "code",
   "execution_count": 11,
   "metadata": {
    "attributes": {
     "classes": [
      "haskell:hs"
     ],
     "id": "",
     "name": "\"code\""
    }
   },
   "outputs": [
    {
     "data": {
      "text/plain": [
       "(Node 'W' (Node 'C' Empty Empty) (Node 'R' Empty Empty),[L,R])"
      ]
     },
     "metadata": {},
     "output_type": "display_data"
    }
   ],
   "source": [
    "goLeft (goRight (freeTree, []))"
   ]
  },
  {
   "cell_type": "markdown",
   "metadata": {},
   "source": [
    "<img src=\"img/almostzipper.png\" title=\"almostthere\" style=\"background-color:white;float:left;margin-right:2em;\" />\n",
    "\n",
    "Okay, so now we have a tree that has `'W'` in its root and `'C'` in the root\n",
    "of its left sub-tree and `'R'` in the root of its right sub-tree. The\n",
    "breadcrumbs are `[L,R]`, because we first went right and then left.\n",
    "\n",
    "To make walking along our tree clearer, we can use the `-:` function that\n",
    "we defined like so:"
   ]
  },
  {
   "cell_type": "code",
   "execution_count": 12,
   "metadata": {
    "attributes": {
     "classes": [
      "haskell:hs"
     ],
     "id": "",
     "name": "\"code\""
    }
   },
   "outputs": [],
   "source": [
    "x -: f = f x"
   ]
  },
  {
   "cell_type": "markdown",
   "metadata": {},
   "source": [
    "Which allows us to apply functions to values by first writing the value,\n",
    "then writing a `-:` and then the function. So instead of\n",
    "`goRight (freeTree, [])`, we can write `(freeTree, []) -: goRight`. Using this, we\n",
    "can rewrite the above so that it's more apparent that we're first going\n",
    "right and then left:"
   ]
  },
  {
   "cell_type": "code",
   "execution_count": 13,
   "metadata": {
    "attributes": {
     "classes": [
      "haskell:hs"
     ],
     "id": "",
     "name": "\"code\""
    }
   },
   "outputs": [
    {
     "data": {
      "text/plain": [
       "(Node 'W' (Node 'C' Empty Empty) (Node 'R' Empty Empty),[L,R])"
      ]
     },
     "metadata": {},
     "output_type": "display_data"
    }
   ],
   "source": [
    "(freeTree, []) -: goRight -: goLeft"
   ]
  },
  {
   "cell_type": "markdown",
   "metadata": {},
   "source": [
    "### Going back up\n",
    "\n",
    "What if we now want to go back up in our tree? From our breadcrumbs we\n",
    "know that the current tree is the left sub-tree of its parent and that\n",
    "it is the right sub-tree of its parent, but that's it. They don't tell\n",
    "us enough about the parent of the current sub-tree for us to be able to\n",
    "go up in the tree. It would seem that apart from the direction that we\n",
    "took, a single breadcrumb should also contain all other data that we\n",
    "need to go back up. In this case, that's the element in the parent tree\n",
    "along with its right sub-tree.\n",
    "\n",
    "In general, a single breadcrumb should contain all the data needed to\n",
    "reconstruct the parent node. So it should have the information from all\n",
    "the paths that we didn't take and it should also know the direction that\n",
    "we did take, but it must not contain the sub-tree that we're currently\n",
    "focusing on. That's because we already have that sub-tree in the first\n",
    "component of the tuple, so if we also had it in the breadcrumbs, we'd\n",
    "have duplicate information.\n",
    "\n",
    "Let's modify our breadcrumbs so that they also contain information about\n",
    "everything that we previously ignored when moving left and right.\n",
    "Instead of `Direction`, we'll make a new data type:"
   ]
  },
  {
   "cell_type": "code",
   "execution_count": 14,
   "metadata": {
    "attributes": {
     "classes": [
      "haskell:hs"
     ],
     "id": "",
     "name": "\"code\""
    }
   },
   "outputs": [],
   "source": [
    "data Crumb a = LeftCrumb a (Tree a) | RightCrumb a (Tree a) deriving (Show)"
   ]
  },
  {
   "cell_type": "markdown",
   "metadata": {},
   "source": [
    "Now, instead of just `L`, we have a `LeftCrumb` that also contains the\n",
    "element in the node that we moved from and the right tree that we didn't\n",
    "visit. Instead of [`R`](https://hackage.haskell.org/package/base/docs/GHC-Generics.html#t:R), we have `RightCrumb`, which contains the element in\n",
    "the node that we moved from and the left tree that we didn't visit.\n",
    "\n",
    "These breadcrumbs now contain all the data needed to recreate the tree\n",
    "that we walked through. So instead of just being normal bread crumbs,\n",
    "they're now more like floppy disks that we leave as we go along, because\n",
    "they contain a lot more information than just the direction that we\n",
    "took.\n",
    "\n",
    "In essence, every breadcrumb is now like a tree node with a hole in it.\n",
    "When we move deeper into a tree, the breadcrumb carries all the\n",
    "information that the node that we moved away from carried *except* the\n",
    "sub-tree that we chose to focus on. It also has to note where the hole\n",
    "is. In the case of a `LeftCrumb`, we know that we moved left, so the\n",
    "sub-tree that's missing is the left one.\n",
    "\n",
    "Let's also change our `Breadcrumbs` type synonym to reflect this:"
   ]
  },
  {
   "cell_type": "code",
   "execution_count": 15,
   "metadata": {
    "attributes": {
     "classes": [
      "haskell:hs"
     ],
     "id": "",
     "name": "\"code\""
    }
   },
   "outputs": [],
   "source": [
    "type Breadcrumbs a = [Crumb a]"
   ]
  },
  {
   "cell_type": "markdown",
   "metadata": {},
   "source": [
    "Next up, we have to modify the `goLeft` and `goRight` functions to store\n",
    "information about the paths that we didn't take in our breadcrumbs,\n",
    "instead of ignoring that information like they did before. Here's\n",
    "`goLeft`:"
   ]
  },
  {
   "cell_type": "code",
   "execution_count": 16,
   "metadata": {
    "attributes": {
     "classes": [
      "haskell:hs"
     ],
     "id": "",
     "name": "\"code\""
    }
   },
   "outputs": [],
   "source": [
    "goLeft :: (Tree a, Breadcrumbs a) -> (Tree a, Breadcrumbs a)\n",
    "goLeft (Node x l r, bs) = (l, LeftCrumb x r:bs)"
   ]
  },
  {
   "cell_type": "markdown",
   "metadata": {},
   "source": [
    "You can see that it's very similar to our previous `goLeft`, only instead\n",
    "of just adding a `L` to the head of our list of breadcrumbs, we add a\n",
    "`LeftCrumb` to signify that we went left and we equip our `LeftCrumb` with\n",
    "the element in the node that we moved from (that's the `x`) and the right\n",
    "sub-tree that we chose not to visit.\n",
    "\n",
    "Note that this function assumes that the current tree that's under focus\n",
    "isn't `Empty`. An empty tree doesn't have any sub-trees, so if we try to\n",
    "go left from an empty tree, an error will occur because the pattern\n",
    "match on `Node` won't succeed and there's no pattern that takes care of\n",
    "`Empty`.\n",
    "\n",
    "`goRight` is similar:"
   ]
  },
  {
   "cell_type": "code",
   "execution_count": 17,
   "metadata": {
    "attributes": {
     "classes": [
      "haskell:hs"
     ],
     "id": "",
     "name": "\"code\""
    }
   },
   "outputs": [],
   "source": [
    "goRight :: (Tree a, Breadcrumbs a) -> (Tree a, Breadcrumbs a)\n",
    "goRight (Node x l r, bs) = (r, RightCrumb x l:bs)"
   ]
  },
  {
   "cell_type": "markdown",
   "metadata": {},
   "source": [
    "We were previously able to go left and right. What we've gotten now is\n",
    "the ability to actualy go back up by remembering stuff about the parent\n",
    "nodes and the paths that we didn't visit. Here's the `goUp` function:"
   ]
  },
  {
   "cell_type": "code",
   "execution_count": 18,
   "metadata": {
    "attributes": {
     "classes": [
      "haskell:hs"
     ],
     "id": "",
     "name": "\"code\""
    }
   },
   "outputs": [],
   "source": [
    "goUp :: (Tree a, Breadcrumbs a) -> (Tree a, Breadcrumbs a)\n",
    "goUp (t, LeftCrumb x r:bs) = (Node x t r, bs)\n",
    "goUp (t, RightCrumb x l:bs) = (Node x l t, bs)"
   ]
  },
  {
   "cell_type": "markdown",
   "metadata": {},
   "source": [
    "<img src=\"img/asstronaut.png\" title=\"asstronaut\" style=\"background-color:white;float:left;margin-right:2em;\" />\n",
    "\n",
    "We're focusing on the tree `t` and we check what the latest `Crumb` is. If\n",
    "it's a `LeftCrumb`, then we construct a new tree where our tree `t` is the\n",
    "left sub-tree and we use the information about the right sub-tree that\n",
    "we didn't visit and the element to fill out the rest of the `Node`.\n",
    "Because we moved back so to speak and picked up the last breadcrumb to\n",
    "recreate with it the parent tree, the new list of breadcrumbs doesn't\n",
    "contain it.\n",
    "\n",
    "Note that this function causes an error if we're already at the top of a\n",
    "tree and we want to move up. Later on, we'll use the [`Maybe`](https://hackage.haskell.org/package/base/docs/Prelude.html#t:Maybe) monad to\n",
    "represent possible failure when moving focus.\n",
    "\n",
    "With a pair of `Tree a` and `Breadcrumbs a`, we have all the information to\n",
    "rebuild the whole tree and we also have a focus on a sub-tree. This\n",
    "scheme also enables us to easily move up, left and right. Such a pair\n",
    "that contains a focused part of a data structure and its surroundings is\n",
    "called a zipper, because moving our focus up and down the data structure\n",
    "resembles the operation of a zipper on a regular pair of pants. So it's\n",
    "cool to make a type synonym as such:"
   ]
  },
  {
   "cell_type": "code",
   "execution_count": 19,
   "metadata": {
    "attributes": {
     "classes": [
      "haskell:hs"
     ],
     "id": "",
     "name": "\"code\""
    }
   },
   "outputs": [],
   "source": [
    "type Zipper a = (Tree a, Breadcrumbs a)"
   ]
  },
  {
   "cell_type": "markdown",
   "metadata": {},
   "source": [
    "I'd prefer naming the type synonym `Focus` because that makes it clearer\n",
    "that we're focusing on a part of a data structure, but the term zipper\n",
    "is more widely used to describe such a setup, so we'll stick with\n",
    "`Zipper`.\n",
    "\n",
    "### Manipulating trees under focus\n",
    "\n",
    "Now that we can move up and down, let's make a function that modifies\n",
    "the element in the root of the sub-tree that the zipper is focusing on:"
   ]
  },
  {
   "cell_type": "code",
   "execution_count": 20,
   "metadata": {
    "attributes": {
     "classes": [
      "haskell:hs"
     ],
     "id": "",
     "name": "\"code\""
    }
   },
   "outputs": [],
   "source": [
    "modify :: (a -> a) -> Zipper a -> Zipper a\n",
    "modify f (Node x l r, bs) = (Node (f x) l r, bs)\n",
    "modify f (Empty, bs) = (Empty, bs)"
   ]
  },
  {
   "cell_type": "markdown",
   "metadata": {},
   "source": [
    "If we're focusing on a node, we modify its root element with the\n",
    "function `f`. If we're focusing on an empty tree, we leave it as it is.\n",
    "Now we can start off with a tree, move to anywhere we want and modify an\n",
    "element, all while keeping focus on that element so that we can easily\n",
    "move further up or down. An example:"
   ]
  },
  {
   "cell_type": "code",
   "execution_count": 21,
   "metadata": {
    "attributes": {
     "classes": [
      "haskell:hs"
     ],
     "id": "",
     "name": "\"code\""
    }
   },
   "outputs": [],
   "source": [
    "let newFocus = modify (\\_ -> 'P') (goRight (goLeft (freeTree,[])))"
   ]
  },
  {
   "cell_type": "markdown",
   "metadata": {},
   "source": [
    "We go left, then right and then modify the root element by replacing it\n",
    "with a `'P'`. This reads even better if we use `-:`:"
   ]
  },
  {
   "cell_type": "code",
   "execution_count": 22,
   "metadata": {
    "attributes": {
     "classes": [
      "haskell:hs"
     ],
     "id": "",
     "name": "\"code\""
    }
   },
   "outputs": [],
   "source": [
    "let newFocus = (freeTree,[]) -: goLeft -: goRight -: modify (\\_ -> 'P')"
   ]
  },
  {
   "cell_type": "markdown",
   "metadata": {},
   "source": [
    "We can then move up if we want and replace an element with a mysterious\n",
    "`'X'`:"
   ]
  },
  {
   "cell_type": "code",
   "execution_count": 23,
   "metadata": {
    "attributes": {
     "classes": [
      "haskell:hs"
     ],
     "id": "",
     "name": "\"code\""
    }
   },
   "outputs": [],
   "source": [
    "let newFocus2 = modify (\\_ -> 'X') (goUp newFocus)"
   ]
  },
  {
   "cell_type": "markdown",
   "metadata": {},
   "source": [
    "Or if we wrote it with `-:`:"
   ]
  },
  {
   "cell_type": "code",
   "execution_count": 24,
   "metadata": {
    "attributes": {
     "classes": [
      "haskell:hs"
     ],
     "id": "",
     "name": "\"code\""
    }
   },
   "outputs": [],
   "source": [
    "let newFocus2 = newFocus -: goUp -: modify (\\_ -> 'X')"
   ]
  },
  {
   "cell_type": "markdown",
   "metadata": {},
   "source": [
    "Moving up is easy because the breadcrumbs that we leave form the part of\n",
    "the data structure that we're not focusing on, but it's inverted, sort\n",
    "of like turning a sock inside out. That's why when we want to move up,\n",
    "we don't have to start from the root and make our way down, but we just\n",
    "take the top of our inverted tree, thereby uninverting a part of it and\n",
    "adding it to our focus.\n",
    "\n",
    "Each node has two sub-trees, even if those sub-trees are empty trees. So\n",
    "if we're focusing on an empty sub-tree, one thing we can do is to\n",
    "replace it with a non-empty subtree, thus attaching a tree to a leaf\n",
    "node. The code for this is simple:"
   ]
  },
  {
   "cell_type": "code",
   "execution_count": 25,
   "metadata": {
    "attributes": {
     "classes": [
      "haskell:hs"
     ],
     "id": "",
     "name": "\"code\""
    }
   },
   "outputs": [],
   "source": [
    "attach :: Tree a -> Zipper a -> Zipper a\n",
    "attach t (_, bs) = (t, bs)"
   ]
  },
  {
   "cell_type": "markdown",
   "metadata": {},
   "source": [
    "We take a tree and a zipper and return a new zipper that has its focus\n",
    "replaced with the supplied tree. Not only can we extend trees this way\n",
    "by replacing empty sub-trees with new trees, we can also replace whole\n",
    "existing sub-trees. Let's attach a tree to the far left of our `freeTree`:"
   ]
  },
  {
   "cell_type": "code",
   "execution_count": 26,
   "metadata": {
    "attributes": {
     "classes": [
      "haskell:hs"
     ],
     "id": "",
     "name": "\"code\""
    }
   },
   "outputs": [],
   "source": [
    "let farLeft = (freeTree,[]) -: goLeft -: goLeft -: goLeft -: goLeft\n",
    "let newFocus = farLeft -: attach (Node 'Z' Empty Empty)"
   ]
  },
  {
   "cell_type": "markdown",
   "metadata": {},
   "source": [
    "`newFocus` is now focused on the tree that we just attached and the rest\n",
    "of the tree lies inverted in the breadcrumbs. If we were to use `goUp` to\n",
    "walk all the way to the top of the tree, it would be the same tree as\n",
    "`freeTree` but with an additional `'Z'` on its far left.\n",
    "\n",
    "### I'm going straight to the top, oh yeah, up where the air is fresh and clean!\n",
    "\n",
    "Making a function that walks all the way to the top of the tree,\n",
    "regardless of what we're focusing on, is really easy. Here it is:"
   ]
  },
  {
   "cell_type": "code",
   "execution_count": 27,
   "metadata": {
    "attributes": {
     "classes": [
      "haskell:hs"
     ],
     "id": "",
     "name": "\"code\""
    }
   },
   "outputs": [],
   "source": [
    "topMost :: Zipper a -> Zipper a\n",
    "topMost (t,[]) = (t,[])\n",
    "topMost z = topMost (goUp z)"
   ]
  },
  {
   "cell_type": "markdown",
   "metadata": {},
   "source": [
    "If our trail of beefed up breadcrumbs is empty, this means that we're\n",
    "already at the root of our tree, so we just return the current focus.\n",
    "Otherwise, we go up to get the focus of the parent node and then\n",
    "recursively apply `topMost` to that. So now we can walk around our tree,\n",
    "going left and right and up, applying `modify` and `attach` as we go along\n",
    "and then when we're done with our modifications, we use `topMost` to focus\n",
    "on the root of our tree and see the changes that we've done in proper\n",
    "perspective.\n",
    "\n",
    "Focusing on lists\n",
    "-----------------\n",
    "\n",
    "Zippers can be used with pretty much any data structure, so it's no\n",
    "surprise that they can be used to focus on sub-lists of lists. After\n",
    "all, lists are pretty much like trees, only where a node in a tree has\n",
    "an element (or not) and several sub-trees, a node in a list has an\n",
    "element and only a single sub-list. When we [implemented our own\n",
    "lists](http://learnyouahaskell.com/making-our-own-types-and-typeclasses#recursive-data-structures),\n",
    "we defined our data type like so:"
   ]
  },
  {
   "cell_type": "markdown",
   "metadata": {
    "attributes": {
     "classes": [
      "haskell:hs"
     ],
     "id": "",
     "name": "\"code\""
    }
   },
   "source": [
    "<pre><code>data List a = Empty | Cons a (List a) deriving (Show, Read, Eq, Ord)</code></pre>"
   ]
  },
  {
   "cell_type": "markdown",
   "metadata": {},
   "source": [
    "<img src=\"img/picard.png\" title=\"the best damn thing\" style=\"background-color:white;float:right;margin-left:2em;\" />\n",
    "\n",
    "Contrast this with our definition of our binary tree and it's easy to\n",
    "see how lists can be viewed as trees where each node has only one\n",
    "sub-tree.\n",
    "\n",
    "A list like `[1,2,3]` can be written as `1:2:3:[]`. It consists of the head\n",
    "of the list, which is `1` and then the list's tail, which is `2:3:[]`. In\n",
    "turn, `2:3:[]` also has a head, which is `2` and a tail, which is `3:[]`. With\n",
    "`3:[]`, the `3` is the head and the tail is the empty list `[]`.\n",
    "\n",
    "Let's make a zipper for lists. To change the focus on sub-lists of a\n",
    "list, we move either forward or back (whereas with trees we moved either\n",
    "up or left or right). The focused part will be a sub-tree and along with\n",
    "that we'll leave breadcrumbs as we move forward. Now what would a single\n",
    "breadcrumb for a list consist of? When we were dealing with binary\n",
    "trees, we said that a breadcrumb has to hold the element in the root of\n",
    "the parent node along with all the sub-trees that we didn't choose. It\n",
    "also had to remember if we went left or right. So, it had to have all\n",
    "the information that a node has except for the sub-tree that we chose to\n",
    "focus on.\n",
    "\n",
    "Lists are simpler than trees, so we don't have to remember if we went\n",
    "left or right, because there's only one way to go deeper into a list.\n",
    "Because there's only one sub-tree to each node, we don't have to\n",
    "remember the paths that we didn't take either. It seems that all we have\n",
    "to remember is the previous element. If we have a list like `[3,4,5]` and\n",
    "we know that the previous element was `2`, we can go back by just putting\n",
    "that element at the head of our list, getting `[2,3,4,5]`.\n",
    "\n",
    "Because a single breadcrumb here is just the element, we don't really\n",
    "have to put it inside a data type, like we did when we made the `Crumb`\n",
    "data type for tree zippers:"
   ]
  },
  {
   "cell_type": "code",
   "execution_count": 28,
   "metadata": {
    "attributes": {
     "classes": [
      "haskell:hs"
     ],
     "id": "",
     "name": "\"code\""
    }
   },
   "outputs": [],
   "source": [
    "type ListZipper a = ([a],[a])"
   ]
  },
  {
   "cell_type": "markdown",
   "metadata": {},
   "source": [
    "The first list represents the list that we're focusing on and the second\n",
    "list is the list of breadcrumbs. Let's make functions that go forward\n",
    "and back into lists:"
   ]
  },
  {
   "cell_type": "code",
   "execution_count": 29,
   "metadata": {
    "attributes": {
     "classes": [
      "haskell:hs"
     ],
     "id": "",
     "name": "\"code\""
    }
   },
   "outputs": [],
   "source": [
    "goForward :: ListZipper a -> ListZipper a\n",
    "goForward (x:xs, bs) = (xs, x:bs)\n",
    "\n",
    "goBack :: ListZipper a -> ListZipper a\n",
    "goBack (xs, b:bs) = (b:xs, bs)"
   ]
  },
  {
   "cell_type": "markdown",
   "metadata": {},
   "source": [
    "When we're going forward, we focus on the tail of the current list and\n",
    "leave the head element as a breadcrumb. When we're moving backwards, we\n",
    "take the latest breadcrumb and put it at the beginning of the list.\n",
    "\n",
    "Here are these two functions in action:"
   ]
  },
  {
   "cell_type": "code",
   "execution_count": 30,
   "metadata": {
    "attributes": {
     "classes": [
      "haskell:hs"
     ],
     "id": "",
     "name": "\"code\""
    }
   },
   "outputs": [],
   "source": [
    "let xs = [1,2,3,4]"
   ]
  },
  {
   "cell_type": "code",
   "execution_count": 31,
   "metadata": {
    "attributes": {
     "classes": [
      "haskell:hs"
     ],
     "id": "",
     "name": "\"code\""
    }
   },
   "outputs": [
    {
     "data": {
      "text/plain": [
       "([2,3,4],[1])"
      ]
     },
     "metadata": {},
     "output_type": "display_data"
    }
   ],
   "source": [
    "goForward (xs,[])"
   ]
  },
  {
   "cell_type": "code",
   "execution_count": 32,
   "metadata": {
    "attributes": {
     "classes": [
      "haskell:hs"
     ],
     "id": "",
     "name": "\"code\""
    }
   },
   "outputs": [
    {
     "data": {
      "text/plain": [
       "([3,4],[2,1])"
      ]
     },
     "metadata": {},
     "output_type": "display_data"
    }
   ],
   "source": [
    "goForward ([2,3,4],[1])"
   ]
  },
  {
   "cell_type": "code",
   "execution_count": 33,
   "metadata": {
    "attributes": {
     "classes": [
      "haskell:hs"
     ],
     "id": "",
     "name": "\"code\""
    }
   },
   "outputs": [
    {
     "data": {
      "text/plain": [
       "([4],[3,2,1])"
      ]
     },
     "metadata": {},
     "output_type": "display_data"
    }
   ],
   "source": [
    "goForward ([3,4],[2,1])"
   ]
  },
  {
   "cell_type": "code",
   "execution_count": 34,
   "metadata": {
    "attributes": {
     "classes": [
      "haskell:hs"
     ],
     "id": "",
     "name": "\"code\""
    }
   },
   "outputs": [
    {
     "data": {
      "text/plain": [
       "([3,4],[2,1])"
      ]
     },
     "metadata": {},
     "output_type": "display_data"
    }
   ],
   "source": [
    "goBack ([4],[3,2,1])"
   ]
  },
  {
   "cell_type": "markdown",
   "metadata": {},
   "source": [
    "We see that the breadcrumbs in the case of lists are nothing more but a\n",
    "reversed part of our list. The element that we move away from always\n",
    "goes into the head of the breadcrumbs, so it's easy to move back by just\n",
    "taking that element from the head of the breadcrumbs and making it the\n",
    "head of our focus.\n",
    "\n",
    "This also makes it easier to see why we call this a zipper, because this\n",
    "really looks like the slider of a zipper moving up and down.\n",
    "\n",
    "If you were making a text editor, you could use a list of strings to\n",
    "represent the lines of text that are currently opened and you could then\n",
    "use a zipper so that you know which line the cursor is currently focused\n",
    "on. By using a zipper, it would also make it easier to insert new lines\n",
    "anywhere in the text or delete existing ones.\n",
    "\n",
    "A very simple file system\n",
    "-------------------------\n",
    "\n",
    "Now that we know how zippers work, let's use trees to represent a very\n",
    "simple file system and then make a zipper for that file system, which\n",
    "will allow us to move between folders, just like we usually do when\n",
    "jumping around our file system.\n",
    "\n",
    "If we take a simplistic view of the average hierarchical file system, we\n",
    "see that it's mostly made up of files and folders. Files are units of\n",
    "data and come with a name, whereas folders are used to organize those\n",
    "files and can contain files or other folders. So let's say that an item\n",
    "in a file system is either a file, which comes with a name and some\n",
    "data, or a folder, which has a name and then a bunch of items that are\n",
    "either files or folders themselves. Here's a data type for this and some\n",
    "type synonyms so we know what's what:"
   ]
  },
  {
   "cell_type": "code",
   "execution_count": 35,
   "metadata": {
    "attributes": {
     "classes": [
      "haskell:hs"
     ],
     "id": "",
     "name": "\"code\""
    }
   },
   "outputs": [],
   "source": [
    "type Name = String\n",
    "type Data = String\n",
    "data FSItem = File Name Data | Folder Name [FSItem] deriving (Show)"
   ]
  },
  {
   "cell_type": "markdown",
   "metadata": {},
   "source": [
    "A file comes with two strings, which represent its name and the data it\n",
    "holds. A folder comes with a string that is its name and a list of\n",
    "items. If that list is empty, then we have an empty folder.\n",
    "\n",
    "Here's a folder with some files and sub-folders:"
   ]
  },
  {
   "cell_type": "code",
   "execution_count": 36,
   "metadata": {
    "attributes": {
     "classes": [
      "haskell:hs"
     ],
     "id": "",
     "name": "\"code\""
    }
   },
   "outputs": [],
   "source": [
    "myDisk :: FSItem\n",
    "myDisk =\n",
    "    Folder \"root\"\n",
    "        [ File \"goat_yelling_like_man.wmv\" \"baaaaaa\"\n",
    "        , File \"pope_time.avi\" \"god bless\"\n",
    "        , Folder \"pics\"\n",
    "            [ File \"ape_throwing_up.jpg\" \"bleargh\"\n",
    "            , File \"watermelon_smash.gif\" \"smash!!\"\n",
    "            , File \"skull_man(scary).bmp\" \"Yikes!\"\n",
    "            ]\n",
    "        , File \"dijon_poupon.doc\" \"best mustard\"\n",
    "        , Folder \"programs\"\n",
    "            [ File \"fartwizard.exe\" \"10gotofart\"\n",
    "            , File \"owl_bandit.dmg\" \"mov eax, h00t\"\n",
    "            , File \"not_a_virus.exe\" \"really not a virus\"\n",
    "            , Folder \"source code\"\n",
    "                [ File \"best_hs_prog.hs\" \"main = print (fix error)\"\n",
    "                , File \"random.hs\" \"main = print 4\"\n",
    "                ]\n",
    "            ]\n",
    "        ]"
   ]
  },
  {
   "cell_type": "markdown",
   "metadata": {},
   "source": [
    "That's actually what my disk contains right now.\n",
    "\n",
    "### A zipper for our file system\n",
    "\n",
    "<img src=\"img/spongedisk.png\" title=\"spongedisk\" style=\"background-color:white;float:right;margin-left:2em;\" />\n",
    "\n",
    "Now that we have a file system, all we need is a zipper so we can zip\n",
    "and zoom around it and add, modify and remove files as well as folders.\n",
    "Like with binary trees and lists, we're going to be leaving breadcrumbs\n",
    "that contain info about all the stuff that we chose not to visit. Like\n",
    "we said, a single breadcrumb should be kind of like a node, only it\n",
    "should contain everything except the sub-tree that we're currently\n",
    "focusing on. It should also note where the hole is so that once we move\n",
    "back up, we can plug our previous focus into the hole.\n",
    "\n",
    "In this case, a breadcrumb should be like a folder, only it should be\n",
    "missing the folder that we currently chose. Why not like a file, you\n",
    "ask? Well, because once we're focusing on a file, we can't move deeper\n",
    "into the file system, so it doesn't make sense to leave a breadcrumb\n",
    "that says that we came from a file. A file is sort of like an empty\n",
    "tree.\n",
    "\n",
    "If we're focusing on the folder `\"root\"` and we then focus on the file\n",
    "`\"dijon_poupon.doc\"`, what should the breadcrumb that we leave look like?\n",
    "Well, it should contain the name of its parent folder along with the\n",
    "items that come before the file that we're focusing on and the items\n",
    "that come after it. So all we need is a `Name` and two lists of items. By\n",
    "keeping separate lists for the items that come before the item that\n",
    "we're focusing and for the items that come after it, we know exactly\n",
    "where to place it once we move back up. So this way, we know where the\n",
    "hole is.\n",
    "\n",
    "Here's our breadcrumb type for the file system:"
   ]
  },
  {
   "cell_type": "code",
   "execution_count": 37,
   "metadata": {
    "attributes": {
     "classes": [
      "haskell:hs"
     ],
     "id": "",
     "name": "\"code\""
    }
   },
   "outputs": [],
   "source": [
    "data FSCrumb = FSCrumb Name [FSItem] [FSItem] deriving (Show)"
   ]
  },
  {
   "cell_type": "markdown",
   "metadata": {},
   "source": [
    "And here's a type synonym for our zipper:"
   ]
  },
  {
   "cell_type": "code",
   "execution_count": 38,
   "metadata": {
    "attributes": {
     "classes": [
      "haskell:hs"
     ],
     "id": "",
     "name": "\"code\""
    }
   },
   "outputs": [],
   "source": [
    "type FSZipper = (FSItem, [FSCrumb])"
   ]
  },
  {
   "cell_type": "markdown",
   "metadata": {},
   "source": [
    "Going back up in the hierarchy is very simple. We just take the latest\n",
    "breadcrumb and assemble a new focus from the current focus and\n",
    "breadcrumb. Like so:"
   ]
  },
  {
   "cell_type": "code",
   "execution_count": 39,
   "metadata": {
    "attributes": {
     "classes": [
      "haskell:hs"
     ],
     "id": "",
     "name": "\"code\""
    }
   },
   "outputs": [],
   "source": [
    "fsUp :: FSZipper -> FSZipper\n",
    "fsUp (item, FSCrumb name ls rs:bs) = (Folder name (ls ++ [item] ++ rs), bs)"
   ]
  },
  {
   "cell_type": "markdown",
   "metadata": {},
   "source": [
    "Because our breadcrumb knew what the parent folder's name was, as well\n",
    "as the items that came before our focused item in the folder (that's `ls`)\n",
    "and the ones that came after (that's `rs`), moving up was easy.\n",
    "\n",
    "How about going deeper into the file system? If we're in the `\"root\"` and\n",
    "we want to focus on `\"dijon_poupon.doc\"`, the breadcrumb that we leave is\n",
    "going to include the name `\"root\"` along with the items that precede\n",
    "`\"dijon_poupon.doc\"` and the ones that come after it.\n",
    "\n",
    "Here's a function that, given a name, focuses on a file of folder that's\n",
    "located in the current focused folder:"
   ]
  },
  {
   "cell_type": "code",
   "execution_count": 40,
   "metadata": {
    "attributes": {
     "classes": [
      "haskell:hs"
     ],
     "id": "",
     "name": "\"code\""
    }
   },
   "outputs": [],
   "source": [
    "import Data.List (break)\n",
    "\n",
    "fsTo :: Name -> FSZipper -> FSZipper\n",
    "fsTo name (Folder folderName items, bs) =\n",
    "    let (ls, item:rs) = break (nameIs name) items\n",
    "    in  (item, FSCrumb folderName ls rs:bs)\n",
    "\n",
    "nameIs :: Name -> FSItem -> Bool\n",
    "nameIs name (Folder folderName _) = name == folderName\n",
    "nameIs name (File fileName _) = name == fileName"
   ]
  },
  {
   "cell_type": "markdown",
   "metadata": {},
   "source": [
    "`fsTo` takes a `Name` and a `FSZipper` and returns a new `FSZipper` that focuses\n",
    "on the file with the given name. That file has to be in the current\n",
    "focused folder. This function doesn't search all over the place, it just\n",
    "looks at the current folder.\n",
    "\n",
    "<img src=\"img/cool.png\" title=\"wow cool great\" style=\"background-color:white;float:left;margin-right:2em;\" />\n",
    "\n",
    "First we use [`break`](https://hackage.haskell.org/package/base/docs/Prelude.html#v:break) to break the list of items in a folder into those\n",
    "that precede the file that we're searching for and those that come after\n",
    "it. If you remember, [`break`](https://hackage.haskell.org/package/base/docs/Prelude.html#v:break) takes a predicate and a list and returns a\n",
    "pair of lists. The first list in the pair holds items for which the\n",
    "predicate returns [`False`](https://hackage.haskell.org/package/base/docs/Prelude.html#v:False). Then, once the predicate returns [`True`](https://hackage.haskell.org/package/base/docs/Prelude.html#v:True) for an\n",
    "item, it places that item and the rest of the list in the second item of\n",
    "the pair. We made an auxiliary function called `nameIs` that takes a name\n",
    "and a file system item and returns [`True`](https://hackage.haskell.org/package/base/docs/Prelude.html#v:True) if the names match.\n",
    "\n",
    "So now, `ls` is a list that contains the items that precede the `item` that\n",
    "we're searching for, item is that very item and `rs` is the list of items\n",
    "that come after it in its folder. Now that we have this, we just present\n",
    "the item that we got from [`break`](https://hackage.haskell.org/package/base/docs/Prelude.html#v:break) as the focus and build a breadcrumb that\n",
    "has all the data it needs.\n",
    "\n",
    "Note that if the name we're looking for isn't in the folder, the pattern\n",
    "`item:rs` will try to match on an empty list and we'll get an error. Also,\n",
    "if our current focus isn't a folder at all but a file, we get an error\n",
    "as well and the program crashes.\n",
    "\n",
    "Now we can move up and down our file system. Let's start at the root and\n",
    "walk to the file `\"skull_man(scary).bmp\"`:"
   ]
  },
  {
   "cell_type": "code",
   "execution_count": 41,
   "metadata": {
    "attributes": {
     "classes": [
      "haskell:hs"
     ],
     "id": "",
     "name": "\"code\""
    }
   },
   "outputs": [],
   "source": [
    "let newFocus = (myDisk,[]) -: fsTo \"pics\" -: fsTo \"skull_man(scary).bmp\""
   ]
  },
  {
   "cell_type": "markdown",
   "metadata": {},
   "source": [
    "`newFocus` is now a zipper that's focused on the `\"skull_man(scary).bmp\"`\n",
    "file. Let's get the first component of the zipper (the focus itself) and\n",
    "see if that's really true:"
   ]
  },
  {
   "cell_type": "code",
   "execution_count": 42,
   "metadata": {
    "attributes": {
     "classes": [
      "haskell:hs"
     ],
     "id": "",
     "name": "\"code\""
    }
   },
   "outputs": [
    {
     "data": {
      "text/plain": [
       "File \"skull_man(scary).bmp\" \"Yikes!\""
      ]
     },
     "metadata": {},
     "output_type": "display_data"
    }
   ],
   "source": [
    "fst newFocus"
   ]
  },
  {
   "cell_type": "markdown",
   "metadata": {},
   "source": [
    "Let's move up and then focus on its neighboring file\n",
    "`\"watermelon_smash.gif\"`:"
   ]
  },
  {
   "cell_type": "code",
   "execution_count": 43,
   "metadata": {
    "attributes": {
     "classes": [
      "haskell:hs"
     ],
     "id": "",
     "name": "\"code\""
    }
   },
   "outputs": [
    {
     "data": {
      "text/plain": [
       "File \"watermelon_smash.gif\" \"smash!!\""
      ]
     },
     "metadata": {},
     "output_type": "display_data"
    }
   ],
   "source": [
    "let newFocus2 = newFocus -: fsUp -: fsTo \"watermelon_smash.gif\"\n",
    "fst newFocus2"
   ]
  },
  {
   "cell_type": "markdown",
   "metadata": {},
   "source": [
    "### Manipulating our file system\n",
    "\n",
    "Now that we know how to navigate our file system, manipulating it is\n",
    "easy. Here's a function that renames the currently focused file or\n",
    "folder:"
   ]
  },
  {
   "cell_type": "code",
   "execution_count": 44,
   "metadata": {
    "attributes": {
     "classes": [
      "haskell:hs"
     ],
     "id": "",
     "name": "\"code\""
    }
   },
   "outputs": [],
   "source": [
    "fsRename :: Name -> FSZipper -> FSZipper\n",
    "fsRename newName (Folder name items, bs) = (Folder newName items, bs)\n",
    "fsRename newName (File name dat, bs) = (File newName dat, bs)"
   ]
  },
  {
   "cell_type": "markdown",
   "metadata": {},
   "source": [
    "Now we can rename our `\"pics\"` folder to `\"cspi\"`:"
   ]
  },
  {
   "cell_type": "code",
   "execution_count": 45,
   "metadata": {
    "attributes": {
     "classes": [
      "haskell:hs"
     ],
     "id": "",
     "name": "\"code\""
    }
   },
   "outputs": [],
   "source": [
    "let newFocus = (myDisk,[]) -: fsTo \"pics\" -: fsRename \"cspi\" -: fsUp"
   ]
  },
  {
   "cell_type": "markdown",
   "metadata": {},
   "source": [
    "We descended to the `\"pics\"` folder, renamed it and then moved back up.\n",
    "\n",
    "How about a function that makes a new item in the current folder?\n",
    "Behold:"
   ]
  },
  {
   "cell_type": "code",
   "execution_count": 46,
   "metadata": {
    "attributes": {
     "classes": [
      "haskell:hs"
     ],
     "id": "",
     "name": "\"code\""
    }
   },
   "outputs": [],
   "source": [
    "fsNewFile :: FSItem -> FSZipper -> FSZipper\n",
    "fsNewFile item (Folder folderName items, bs) =\n",
    "    (Folder folderName (item:items), bs)"
   ]
  },
  {
   "cell_type": "markdown",
   "metadata": {},
   "source": [
    "Easy as pie. Note that this would crash if we tried to add an item but\n",
    "weren't focusing on a folder, but were focusing on a file instead.\n",
    "\n",
    "Let's add a file to our `\"pics\"` folder and then move back up to the root:"
   ]
  },
  {
   "cell_type": "code",
   "execution_count": 47,
   "metadata": {
    "attributes": {
     "classes": [
      "haskell:hs"
     ],
     "id": "",
     "name": "\"code\""
    }
   },
   "outputs": [],
   "source": [
    "let newFocus = (myDisk,[]) -: fsTo \"pics\" -: fsNewFile (File \"heh.jpg\" \"lol\") -: fsUp"
   ]
  },
  {
   "cell_type": "markdown",
   "metadata": {},
   "source": [
    "What's really cool about all this is that when we modify our file\n",
    "system, it doesn't actually modify it in place but it returns a whole\n",
    "new file system. That way, we have access to our old file system (in\n",
    "this case, `myDisk`) as well as the new one (the first component of\n",
    "`newFocus`). So by using zippers, we get versioning for free, meaning that\n",
    "we can always refer to older versions of data structures even after\n",
    "we've changed them, so to speak. This isn't unique to zippers, but is a\n",
    "property of Haskell because its data structures are immutable. With\n",
    "zippers however, we get the ability to easily and efficiently walk\n",
    "around our data structures, so the persistence of Haskell's data\n",
    "structures really begins to shine.\n",
    "\n",
    "Watch your step\n",
    "---------------\n",
    "\n",
    "So far, while walking through our data structures, whether they were\n",
    "binary trees, lists or file systems, we didn't really care if we took a\n",
    "step too far and fell off. For instance, our `goLeft` function takes a\n",
    "zipper of a binary tree and moves the focus to its left sub-tree:"
   ]
  },
  {
   "cell_type": "code",
   "execution_count": 48,
   "metadata": {
    "attributes": {
     "classes": [
      "haskell:hs"
     ],
     "id": "",
     "name": "\"code\""
    }
   },
   "outputs": [],
   "source": [
    "goLeft :: Zipper a -> Zipper a\n",
    "goLeft (Node x l r, bs) = (l, LeftCrumb x r:bs)"
   ]
  },
  {
   "cell_type": "markdown",
   "metadata": {},
   "source": [
    "<img src=\"img/bigtree.png\" title=\"falling for you\" style=\"background-color:white;float:right;margin-left:2em;\" />\n",
    "\n",
    "But what if the tree we're stepping off from is an empty tree? That is,\n",
    "what if it's not a `Node`, but an `Empty`? In this case, we'd get a runtime\n",
    "error because the pattern match would fail and we have made no pattern\n",
    "to handle an empty tree, which doesn't have any sub-trees at all. So\n",
    "far, we just assumed that we'd never try to focus on the left sub-tree\n",
    "of an empty tree as its left sub-tree doesn't exist at all. But going to\n",
    "the left sub-tree of an empty tree doesn't make much sense, and so far\n",
    "we've just conveniently ignored this.\n",
    "\n",
    "Or what if we were already at the root of some tree and didn't have any\n",
    "breadcrumbs but still tried to move up? The same thing would happen. It\n",
    "seems that when using zippers, any step could be our last (cue ominous\n",
    "music). In other words, any move can result in a success, but it can\n",
    "also result in a failure. Does that remind you of something? Of course,\n",
    "monads! More specifically, the [`Maybe`](https://hackage.haskell.org/package/base/docs/Prelude.html#t:Maybe) monad which adds a context of\n",
    "possible failure to normal values.\n",
    "\n",
    "So let's use the [`Maybe`](https://hackage.haskell.org/package/base/docs/Prelude.html#t:Maybe) monad to add a context of possible failure to our\n",
    "movements. We're going to take the functions that work on our binary\n",
    "tree zipper and we're going to make them into monadic functions. First,\n",
    "let's take care of possible failure in `goLeft` and `goRight`. So far, the\n",
    "failure of functions that could fail was always reflected in their\n",
    "result, and this time is no different. So here are `goLeft` and `goRight`\n",
    "with an added possibility of failure:"
   ]
  },
  {
   "cell_type": "code",
   "execution_count": 49,
   "metadata": {
    "attributes": {
     "classes": [
      "haskell:hs"
     ],
     "id": "",
     "name": "\"code\""
    }
   },
   "outputs": [],
   "source": [
    "goLeft :: Zipper a -> Maybe (Zipper a)\n",
    "goLeft (Node x l r, bs) = Just (l, LeftCrumb x r:bs)\n",
    "goLeft (Empty, _) = Nothing\n",
    "\n",
    "goRight :: Zipper a -> Maybe (Zipper a)\n",
    "goRight (Node x l r, bs) = Just (r, RightCrumb x l:bs)\n",
    "goRight (Empty, _) = Nothing"
   ]
  },
  {
   "cell_type": "markdown",
   "metadata": {},
   "source": [
    "Cool, now if we try to take a step to the left of an empty tree, we get\n",
    "a [`Nothing`](https://hackage.haskell.org/package/base/docs/Prelude.html#v:Nothing)!"
   ]
  },
  {
   "cell_type": "code",
   "execution_count": 50,
   "metadata": {
    "attributes": {
     "classes": [
      "haskell:hs"
     ],
     "id": "",
     "name": "\"code\""
    }
   },
   "outputs": [
    {
     "data": {
      "text/plain": [
       "Nothing"
      ]
     },
     "metadata": {},
     "output_type": "display_data"
    }
   ],
   "source": [
    "goLeft (Empty, [])"
   ]
  },
  {
   "cell_type": "code",
   "execution_count": 51,
   "metadata": {
    "attributes": {
     "classes": [
      "haskell:hs"
     ],
     "id": "",
     "name": "\"code\""
    }
   },
   "outputs": [
    {
     "data": {
      "text/plain": [
       "Just (Empty,[LeftCrumb 'A' Empty])"
      ]
     },
     "metadata": {},
     "output_type": "display_data"
    }
   ],
   "source": [
    "goLeft (Node 'A' Empty Empty, [])"
   ]
  },
  {
   "cell_type": "markdown",
   "metadata": {},
   "source": [
    "Looks good! How about going up? The problem before happened if we tried\n",
    "to go up but we didn't have any more breadcrumbs, which meant that we\n",
    "were already in the root of the tree. This is the `goUp` function that\n",
    "throws an error if we don't keep within the bounds of our tree:"
   ]
  },
  {
   "cell_type": "code",
   "execution_count": 52,
   "metadata": {
    "attributes": {
     "classes": [
      "haskell:hs"
     ],
     "id": "",
     "name": "\"code\""
    }
   },
   "outputs": [],
   "source": [
    "goUp :: Zipper a -> Zipper a\n",
    "goUp (t, LeftCrumb x r:bs) = (Node x t r, bs)\n",
    "goUp (t, RightCrumb x l:bs) = (Node x l t, bs)"
   ]
  },
  {
   "cell_type": "markdown",
   "metadata": {},
   "source": [
    "Now let's modify it to fail gracefully:"
   ]
  },
  {
   "cell_type": "code",
   "execution_count": 53,
   "metadata": {
    "attributes": {
     "classes": [
      "haskell:hs"
     ],
     "id": "",
     "name": "\"code\""
    }
   },
   "outputs": [],
   "source": [
    "goUp :: Zipper a -> Maybe (Zipper a)\n",
    "goUp (t, LeftCrumb x r:bs) = Just (Node x t r, bs)\n",
    "goUp (t, RightCrumb x l:bs) = Just (Node x l t, bs)\n",
    "goUp (_, []) = Nothing"
   ]
  },
  {
   "cell_type": "markdown",
   "metadata": {},
   "source": [
    "If we have breadcrumbs, everything is okay and we return a successful\n",
    "new focus, but if we don't, then we return a failure.\n",
    "\n",
    "Before, these functions took zippers and returned zippers, which meant\n",
    "that we could chain them like this to walk around:"
   ]
  },
  {
   "cell_type": "markdown",
   "metadata": {
    "attributes": {
     "classes": [
      "haskell:hs"
     ],
     "id": "",
     "name": "\"code\""
    }
   },
   "source": [
    "<pre><code>let newFocus = (freeTree,[]) -: goLeft -: goRight</code></pre>"
   ]
  },
  {
   "cell_type": "markdown",
   "metadata": {},
   "source": [
    "But now, instead of returning `Zipper a`, they return `Maybe (Zipper a)`, so\n",
    "chaining functions like this won't work. We had a similar problem when\n",
    "we were [dealing with our tightrope\n",
    "walker](http://learnyouahaskell.com/a-fistful-of-monads#walk-the-line) in the chapter about monads.\n",
    "He also walked one step at a time and each of his steps could result in\n",
    "failure because a bunch of birds could land on one side of his balancing\n",
    "pole and make him fall.\n",
    "\n",
    "Now, the joke's on us because we're the ones doing the walking, and\n",
    "we're traversing a labyrinth of our own devising. Luckily, we can learn\n",
    "from the tightrope walker and just do what he did, which is to exchange\n",
    "normal function application for using [`>>=`](https://hackage.haskell.org/package/base/docs/Prelude.html#v:-62--62--61-), which takes a value with a\n",
    "context (in our case, the `Maybe (Zipper a)`, which has a context of\n",
    "possible failure) and feeds it into a function while making sure that\n",
    "the context is taken care of. So just like our tightrope walker, we're\n",
    "going to trade in all our `-:` operators for [`>>=`](https://hackage.haskell.org/package/base/docs/Prelude.html#v:-62--62--61-). Alright, we can chain\n",
    "our functions again! Watch:"
   ]
  },
  {
   "cell_type": "code",
   "execution_count": 54,
   "metadata": {
    "attributes": {
     "classes": [
      "haskell:hs"
     ],
     "id": "",
     "name": "\"code\""
    }
   },
   "outputs": [],
   "source": [
    "let coolTree = Node 1 Empty (Node 3 Empty Empty)"
   ]
  },
  {
   "cell_type": "code",
   "execution_count": 55,
   "metadata": {
    "attributes": {
     "classes": [
      "haskell:hs"
     ],
     "id": "",
     "name": "\"code\""
    }
   },
   "outputs": [
    {
     "data": {
      "text/plain": [
       "Just (Node 3 Empty Empty,[RightCrumb 1 Empty])"
      ]
     },
     "metadata": {},
     "output_type": "display_data"
    }
   ],
   "source": [
    "return (coolTree,[]) >>= goRight"
   ]
  },
  {
   "cell_type": "code",
   "execution_count": 56,
   "metadata": {
    "attributes": {
     "classes": [
      "haskell:hs"
     ],
     "id": "",
     "name": "\"code\""
    }
   },
   "outputs": [
    {
     "data": {
      "text/plain": [
       "Just (Empty,[RightCrumb 3 Empty,RightCrumb 1 Empty])"
      ]
     },
     "metadata": {},
     "output_type": "display_data"
    }
   ],
   "source": [
    "return (coolTree,[]) >>= goRight >>= goRight"
   ]
  },
  {
   "cell_type": "code",
   "execution_count": 57,
   "metadata": {
    "attributes": {
     "classes": [
      "haskell:hs"
     ],
     "id": "",
     "name": "\"code\""
    }
   },
   "outputs": [
    {
     "data": {
      "text/plain": [
       "Nothing"
      ]
     },
     "metadata": {},
     "output_type": "display_data"
    }
   ],
   "source": [
    "return (coolTree,[]) >>= goRight >>= goRight >>= goRight"
   ]
  },
  {
   "cell_type": "markdown",
   "metadata": {},
   "source": [
    "We used [`return`](https://hackage.haskell.org/package/base/docs/Prelude.html#v:return) to put a zipper in a [`Just`](https://hackage.haskell.org/package/base/docs/Prelude.html#v:Just) and then used [`>>=`](https://hackage.haskell.org/package/base/docs/Prelude.html#v:-62--62--61-) to feed\n",
    "that to our `goRight` function. First, we made a tree that has on its left\n",
    "an empty sub-tree and on its right a node that has two empty sub-trees.\n",
    "When we try to go right once, the result is a success, because the\n",
    "operation makes sense. Going right twice is okay too; we end up with the\n",
    "focus on an empty sub-tree. But going right three times wouldn't make\n",
    "sense, because we can't go to the right of an empty sub-tree, which is\n",
    "why the result is a [`Nothing`](https://hackage.haskell.org/package/base/docs/Prelude.html#v:Nothing).\n",
    "\n",
    "Now we've equipped our trees with a safety-net that will catch us should\n",
    "we fall off. Wow, I nailed this metaphor.\n",
    "\n",
    "Our file system also has a lot of cases where an operation could fail,\n",
    "such as trying to focus on a file or folder that doesn't exist. As an\n",
    "exercise, you can equip our file system with functions that fail\n",
    "gracefully by using the [`Maybe`](https://hackage.haskell.org/package/base/docs/Prelude.html#t:Maybe) monad."
   ]
  }
 ],
 "metadata": {
  "kernelspec": {
   "display_name": "Haskell",
   "language": "haskell",
   "name": "haskell"
  },
  "language_info": {
   "codemirror_mode": "ihaskell",
   "file_extension": ".hs",
   "mimetype": "text/x-haskell",
   "name": "haskell",
   "pygments_lexer": "Haskell",
   "version": "9.2.5"
  }
 },
 "nbformat": 4,
 "nbformat_minor": 4
}
