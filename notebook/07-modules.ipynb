{
 "cells": [
  {
   "cell_type": "markdown",
   "metadata": {},
   "source": [
    "Modules\n",
    "=======\n",
    "\n",
    "Loading modules\n",
    "---------------\n",
    "\n",
    "<img src=\"img/modules.png\" title=\"modules\" style=\"background-color:white;float:right;margin-left:2em;\" />\n",
    "\n",
    "A Haskell module is a collection of related functions, types and\n",
    "typeclasses. A Haskell program is a collection of modules where the main\n",
    "module loads up the other modules and then uses the functions defined in\n",
    "them to do something. Having code split up into several modules has\n",
    "quite a lot of advantages. If a module is generic enough, the functions\n",
    "it exports can be used in a multitude of different programs. If your own\n",
    "code is separated into self-contained modules which don't rely on each\n",
    "other too much (we also say they are loosely coupled), you can reuse\n",
    "them later on. It makes the whole deal of writing code more manageable\n",
    "by having it split into several parts, each of which has some sort of\n",
    "purpose.\n",
    "\n",
    "The Haskell standard library is split into modules, each of them\n",
    "contains functions and types that are somehow related and serve some\n",
    "common purpose. There's a module for manipulating lists, a module for\n",
    "concurrent programming, a module for dealing with complex numbers, etc.\n",
    "All the functions, types and typeclasses that we've dealt with so far\n",
    "were part of the [`Prelude`](https://hackage.haskell.org/package/base/docs/Prelude.html) module, which is imported by default. In this\n",
    "chapter, we're going to examine a few useful modules and the functions\n",
    "that they have. But first, we're going to see how to import modules."
   ]
  },
  {
   "cell_type": "markdown",
   "metadata": {
    "attributes": {
     "classes": [
      "haskell:hs"
     ],
     "id": "",
     "name": "\"code\""
    }
   },
   "source": [
    "> __Jupyter Note:__ We'll turn off the [automatic linting for IHaskell](https://github.com/IHaskell/IHaskell/wiki#opt-no-lint) first."
   ]
  },
  {
   "cell_type": "code",
   "execution_count": 1,
   "metadata": {
    "attributes": {
     "classes": [
      "haskell:hs"
     ],
     "id": "",
     "name": "\"code\""
    }
   },
   "outputs": [],
   "source": [
    ":opt no-lint"
   ]
  },
  {
   "cell_type": "markdown",
   "metadata": {},
   "source": [
    "The syntax for importing modules in a Haskell script is\n",
    "`import <module name>`.\n",
    "This must be done before defining any functions, so imports are\n",
    "usually done at the top of the file. One script can, of course, import\n",
    "several modules. Just put each import statement into a separate line.\n",
    "Let's import the `Data.List` module, which has a bunch of useful functions\n",
    "for working with lists and use a function that it exports to create a\n",
    "function that tells us how many unique elements a list has."
   ]
  },
  {
   "cell_type": "code",
   "execution_count": 2,
   "metadata": {
    "attributes": {
     "classes": [
      "haskell:hs"
     ],
     "id": "",
     "name": "\"code\""
    }
   },
   "outputs": [],
   "source": [
    "import Data.List\n",
    "\n",
    "numUniques :: (Eq a) => [a] -> Int\n",
    "numUniques = length . nub"
   ]
  },
  {
   "cell_type": "markdown",
   "metadata": {},
   "source": [
    "When you do `import Data.List`, all the functions that `Data.List` exports\n",
    "become available in the global namespace, meaning that you can call them\n",
    "from wherever in the script. [`nub`](https://hackage.haskell.org/package/base/docs/Data-List.html#v:nub) is a function defined in `Data.List` that\n",
    "takes a list and weeds out duplicate elements. Composing [`length`](https://hackage.haskell.org/package/base/docs/Prelude.html#v:length) and [`nub`](https://hackage.haskell.org/package/base/docs/Data-List.html#v:nub)\n",
    "by doing `length . nub` produces a function that's the equivalent of \n",
    "`\\xs -> length (nub xs)`.\n",
    "\n",
    "You can also put the functions of modules into the global namespace when\n",
    "using IHaskell or GHCI. If you're in IHaskell or GHCI and you want to be able to call the\n",
    "functions exported by `Data.List`, do this:"
   ]
  },
  {
   "cell_type": "code",
   "execution_count": 3,
   "metadata": {
    "attributes": {
     "classes": [
      "haskell:ghci"
     ],
     "id": "",
     "name": "\"code\""
    }
   },
   "outputs": [],
   "source": [
    ":m + Data.List"
   ]
  },
  {
   "cell_type": "markdown",
   "metadata": {},
   "source": [
    "If we want to load up the names from several modules, we\n",
    "don't have to do `:m +` several times, we can just load up several modules\n",
    "at once."
   ]
  },
  {
   "cell_type": "markdown",
   "metadata": {
    "attributes": {
     "classes": [
      "haskell:ghci"
     ],
     "id": "",
     "name": "\"code\""
    }
   },
   "source": [
    "<pre><code>:m + Data.List Data.Map Data.Set</code></pre>"
   ]
  },
  {
   "cell_type": "markdown",
   "metadata": {},
   "source": [
    "However, if you've loaded a script that already imports a module, you\n",
    "don't need to use :m + to get access to it.\n",
    "\n",
    "If you just need a couple of functions from a module, you can\n",
    "selectively import just those functions. If we wanted to import only the\n",
    "[`nub`](https://hackage.haskell.org/package/base/docs/Data-List.html#v:nub) and [`sort`](https://hackage.haskell.org/package/base/docs/Data-List.html#v:sort) functions from `Data.List`, we'd do this:"
   ]
  },
  {
   "cell_type": "code",
   "execution_count": 4,
   "metadata": {
    "attributes": {
     "classes": [
      "haskell:hs"
     ],
     "id": "",
     "name": "\"code\""
    }
   },
   "outputs": [],
   "source": [
    "import Data.List (nub, sort)"
   ]
  },
  {
   "cell_type": "markdown",
   "metadata": {},
   "source": [
    "You can also choose to import all of the functions of a module except a\n",
    "few select ones. That's often useful when several modules export\n",
    "functions with the same name and you want to get rid of the offending\n",
    "ones. Say we already have our own function that's called [`nub`](https://hackage.haskell.org/package/base/docs/Data-List.html#v:nub) and we want\n",
    "to import all the functions from `Data.List` except the [`nub`](https://hackage.haskell.org/package/base/docs/Data-List.html#v:nub) function:"
   ]
  },
  {
   "cell_type": "markdown",
   "metadata": {
    "attributes": {
     "classes": [
      "haskell:hs"
     ],
     "id": "",
     "name": "\"code\""
    }
   },
   "source": [
    "<pre><code>import Data.List hiding (nub)</code></pre>"
   ]
  },
  {
   "cell_type": "markdown",
   "metadata": {},
   "source": [
    "Another way of dealing with name clashes is to do qualified imports. The\n",
    "`Data.Map` module, which offers a data structure for looking up values by\n",
    "key, exports a bunch of functions with the same name as [`Prelude`](https://hackage.haskell.org/package/base/docs/Prelude.html)\n",
    "functions, like [`filter`](https://hackage.haskell.org/package/base/docs/Prelude.html#v:filter) or [`null`](https://hackage.haskell.org/package/base/docs/Prelude.html#v:null). So when we import `Data.Map` and then call\n",
    "[`filter`](https://hackage.haskell.org/package/base/docs/Prelude.html#v:filter), Haskell won't know which function to use. Here's how we solve\n",
    "this:"
   ]
  },
  {
   "cell_type": "code",
   "execution_count": 5,
   "metadata": {
    "attributes": {
     "classes": [
      "haskell:hs"
     ],
     "id": "",
     "name": "\"code\""
    }
   },
   "outputs": [],
   "source": [
    "import qualified Data.Map"
   ]
  },
  {
   "cell_type": "markdown",
   "metadata": {},
   "source": [
    "This makes it so that if we want to reference `Data.Map`'s [`filter`](https://hackage.haskell.org/package/base/docs/Prelude.html#v:filter)\n",
    "function, we have to do `Data.Map.filter`, whereas just [`filter`](https://hackage.haskell.org/package/base/docs/Prelude.html#v:filter) still\n",
    "refers to the normal [`filter`](https://hackage.haskell.org/package/base/docs/Prelude.html#v:filter) we all know and love. But typing out\n",
    "`Data.Map` in front of every function from that module is kind of tedious.\n",
    "That's why we can rename the qualified import to something shorter:"
   ]
  },
  {
   "cell_type": "code",
   "execution_count": 6,
   "metadata": {
    "attributes": {
     "classes": [
      "haskell:hs"
     ],
     "id": "",
     "name": "\"code\""
    }
   },
   "outputs": [],
   "source": [
    "import qualified Data.Map as M"
   ]
  },
  {
   "cell_type": "markdown",
   "metadata": {},
   "source": [
    "Now, to reference `Data.Map`'s [`filter`](https://hackage.haskell.org/package/base/docs/Prelude.html#v:filter) function, we just use `M.filter`.\n",
    "\n",
    "Use [this handy\n",
    "reference](http://www.haskell.org/ghc/docs/latest/html/libraries/) to\n",
    "see which modules are in the standard library. A great way to pick up\n",
    "new Haskell knowledge is to just click through the standard library\n",
    "reference and explore the modules and their functions. You can also view\n",
    "the Haskell source code for each module. Reading the source code of some\n",
    "modules is a really good way to learn Haskell and get a solid feel for\n",
    "it.\n",
    "\n",
    "To search for functions or to find out where they're located, use\n",
    "[Hoogle](http://haskell.org/hoogle). It's a really awesome Haskell\n",
    "search engine, you can search by name, module name or even type\n",
    "signature.\n",
    "\n",
    "<a name=\"data-list\"></a>\n",
    "\n",
    "Data.List\n",
    "---------\n",
    "\n",
    "The `Data.List` module is all about lists, obviously. It provides some\n",
    "very useful functions for dealing with them. We've already met some of\n",
    "its functions (like [`map`](https://hackage.haskell.org/package/base/docs/Prelude.html#v:map) and [`filter`](https://hackage.haskell.org/package/base/docs/Prelude.html#v:filter)) because the [`Prelude`](https://hackage.haskell.org/package/base/docs/Prelude.html) module exports\n",
    "some functions from `Data.List` for convenience. You don't have to import\n",
    "`Data.List` via a qualified import because it doesn't clash with any\n",
    "[`Prelude`](https://hackage.haskell.org/package/base/docs/Prelude.html) names except for those that [`Prelude`](https://hackage.haskell.org/package/base/docs/Prelude.html) already steals from\n",
    "`Data.List`. Let's take a look at some of the functions that we haven't\n",
    "met before.\n",
    "\n",
    "__[`intersperse`](https://hackage.haskell.org/package/base/docs/Data-List.html#v:intersperse)__ takes an element and a list and then puts that element in\n",
    "between each pair of elements in the list. Here's a demonstration:"
   ]
  },
  {
   "cell_type": "code",
   "execution_count": 7,
   "metadata": {
    "attributes": {
     "classes": [
      "haskell:ghci"
     ],
     "id": "",
     "name": "\"code\""
    }
   },
   "outputs": [
    {
     "data": {
      "text/plain": [
       "\"M.O.N.K.E.Y\""
      ]
     },
     "metadata": {},
     "output_type": "display_data"
    }
   ],
   "source": [
    "intersperse '.' \"MONKEY\""
   ]
  },
  {
   "cell_type": "code",
   "execution_count": 8,
   "metadata": {
    "attributes": {
     "classes": [
      "haskell:ghci"
     ],
     "id": "",
     "name": "\"code\""
    }
   },
   "outputs": [
    {
     "data": {
      "text/plain": [
       "[1,0,2,0,3,0,4,0,5,0,6]"
      ]
     },
     "metadata": {},
     "output_type": "display_data"
    }
   ],
   "source": [
    "intersperse 0 [1,2,3,4,5,6]"
   ]
  },
  {
   "cell_type": "markdown",
   "metadata": {},
   "source": [
    "__[`intercalate`](https://hackage.haskell.org/package/base/docs/Data-List.html#v:intercalate)__ takes a list of lists and a list. It then inserts that list\n",
    "in between all those lists and then flattens the result."
   ]
  },
  {
   "cell_type": "code",
   "execution_count": 9,
   "metadata": {
    "attributes": {
     "classes": [
      "haskell:ghci"
     ],
     "id": "",
     "name": "\"code\""
    }
   },
   "outputs": [
    {
     "data": {
      "text/plain": [
       "\"hey there guys\""
      ]
     },
     "metadata": {},
     "output_type": "display_data"
    }
   ],
   "source": [
    "intercalate \" \" [\"hey\",\"there\",\"guys\"]"
   ]
  },
  {
   "cell_type": "code",
   "execution_count": 10,
   "metadata": {
    "attributes": {
     "classes": [
      "haskell:ghci"
     ],
     "id": "",
     "name": "\"code\""
    }
   },
   "outputs": [
    {
     "data": {
      "text/plain": [
       "[1,2,3,0,0,0,4,5,6,0,0,0,7,8,9]"
      ]
     },
     "metadata": {},
     "output_type": "display_data"
    }
   ],
   "source": [
    "intercalate [0,0,0] [[1,2,3],[4,5,6],[7,8,9]]"
   ]
  },
  {
   "cell_type": "markdown",
   "metadata": {},
   "source": [
    "__[`transpose`](https://hackage.haskell.org/package/base/docs/Data-List.html#v:transpose)__ transposes a list of lists. If you look at a list of lists as\n",
    "a 2D matrix, the columns become the rows and vice versa."
   ]
  },
  {
   "cell_type": "code",
   "execution_count": 11,
   "metadata": {
    "attributes": {
     "classes": [
      "haskell:ghci"
     ],
     "id": "",
     "name": "\"code\""
    }
   },
   "outputs": [
    {
     "data": {
      "text/plain": [
       "[[1,4,7],[2,5,8],[3,6,9]]"
      ]
     },
     "metadata": {},
     "output_type": "display_data"
    }
   ],
   "source": [
    "transpose [[1,2,3],[4,5,6],[7,8,9]]"
   ]
  },
  {
   "cell_type": "code",
   "execution_count": 12,
   "metadata": {
    "attributes": {
     "classes": [
      "haskell:ghci"
     ],
     "id": "",
     "name": "\"code\""
    }
   },
   "outputs": [
    {
     "data": {
      "text/plain": [
       "[\"htg\",\"ehu\",\"yey\",\"rs\",\"e\"]"
      ]
     },
     "metadata": {},
     "output_type": "display_data"
    }
   ],
   "source": [
    "transpose [\"hey\",\"there\",\"guys\"]"
   ]
  },
  {
   "cell_type": "markdown",
   "metadata": {},
   "source": [
    "Say we have the polynomials $3x^2 + 5x + 9$, $10x^3 + 9$ and $8x^3 +\n",
    "5x^2 + x - 1$ and we want to add them together. We can use the lists\n",
    "`[0,3,5,9]`, `[10,0,0,9]` and `[8,5,1,-1]` to represent them in Haskell. Now,\n",
    "to add them, all we have to do is this:"
   ]
  },
  {
   "cell_type": "code",
   "execution_count": 13,
   "metadata": {
    "attributes": {
     "classes": [
      "haskell:ghci"
     ],
     "id": "",
     "name": "\"code\""
    }
   },
   "outputs": [
    {
     "data": {
      "text/plain": [
       "[18,8,6,17]"
      ]
     },
     "metadata": {},
     "output_type": "display_data"
    }
   ],
   "source": [
    "map sum $ transpose [[0,3,5,9],[10,0,0,9],[8,5,1,-1]]"
   ]
  },
  {
   "cell_type": "markdown",
   "metadata": {},
   "source": [
    "When we transpose these three lists, the third powers are then in the\n",
    "first row, the second powers in the second one and so on. Mapping [`sum`](https://hackage.haskell.org/package/base/docs/Prelude.html#v:sum) to\n",
    "that produces our desired result.\n",
    "\n",
    "<img src=\"img/legolists.png\" title=\"shopping lists\" style=\"background-color:white;float:left;margin-right:2em;\" />\n",
    "\n",
    "__`foldl'`__ and __`foldl1'`__ are stricter versions of their respective lazy\n",
    "incarnations. When using lazy folds on really big lists, you might often\n",
    "get a stack overflow error. The culprit for that is that due to the lazy\n",
    "nature of the folds, the accumulator value isn't actually updated as the\n",
    "folding happens. What actually happens is that the accumulator kind of\n",
    "makes a promise that it will compute its value when asked to actually\n",
    "produce the result (also called a thunk). That happens for every\n",
    "intermediate accumulator and all those thunks overflow your stack. The\n",
    "strict folds aren't lazy buggers and actually compute the intermediate\n",
    "values as they go along instead of filling up your stack with thunks. So\n",
    "if you ever get stack overflow errors when doing lazy folds, try\n",
    "switching to their strict versions.\n",
    "\n",
    "__[`concat`](https://hackage.haskell.org/package/base/docs/Prelude.html#v:concat)__ flattens a list of lists into just a list of elements."
   ]
  },
  {
   "cell_type": "code",
   "execution_count": 14,
   "metadata": {
    "attributes": {
     "classes": [
      "haskell:ghci"
     ],
     "id": "",
     "name": "\"code\""
    }
   },
   "outputs": [
    {
     "data": {
      "text/plain": [
       "\"foobarcar\""
      ]
     },
     "metadata": {},
     "output_type": "display_data"
    }
   ],
   "source": [
    "concat [\"foo\",\"bar\",\"car\"]"
   ]
  },
  {
   "cell_type": "code",
   "execution_count": 15,
   "metadata": {
    "attributes": {
     "classes": [
      "haskell:ghci"
     ],
     "id": "",
     "name": "\"code\""
    }
   },
   "outputs": [
    {
     "data": {
      "text/plain": [
       "[3,4,5,2,3,4,2,1,1]"
      ]
     },
     "metadata": {},
     "output_type": "display_data"
    }
   ],
   "source": [
    "concat [[3,4,5],[2,3,4],[2,1,1]]"
   ]
  },
  {
   "cell_type": "markdown",
   "metadata": {},
   "source": [
    "It will just remove one level of nesting. So if you want to completely\n",
    "flatten `[[[2,3],[3,4,5],[2]],[[2,3],[3,4]]]`, which is a list of lists of\n",
    "lists, you have to concatenate it twice.\n",
    "\n",
    "Doing __[`concatMap`](https://hackage.haskell.org/package/base/docs/Prelude.html#v:concatMap)__ is the same as first mapping a function to a list and\n",
    "then concatenating the list with [`concat`](https://hackage.haskell.org/package/base/docs/Prelude.html#v:concat)."
   ]
  },
  {
   "cell_type": "code",
   "execution_count": 16,
   "metadata": {
    "attributes": {
     "classes": [
      "haskell:ghci"
     ],
     "id": "",
     "name": "\"code\""
    }
   },
   "outputs": [
    {
     "data": {
      "text/plain": [
       "[1,1,1,1,2,2,2,2,3,3,3,3]"
      ]
     },
     "metadata": {},
     "output_type": "display_data"
    }
   ],
   "source": [
    "concatMap (replicate 4) [1..3]"
   ]
  },
  {
   "cell_type": "markdown",
   "metadata": {},
   "source": [
    "__[`and`](https://hackage.haskell.org/package/base/docs/Prelude.html#v:and)__ takes a list of boolean values and returns [`True`](https://hackage.haskell.org/package/base/docs/Prelude.html#v:True) only if all the\n",
    "values in the list are [`True`](https://hackage.haskell.org/package/base/docs/Prelude.html#v:True)."
   ]
  },
  {
   "cell_type": "code",
   "execution_count": 17,
   "metadata": {
    "attributes": {
     "classes": [
      "haskell:ghci"
     ],
     "id": "",
     "name": "\"code\""
    }
   },
   "outputs": [
    {
     "data": {
      "text/plain": [
       "True"
      ]
     },
     "metadata": {},
     "output_type": "display_data"
    }
   ],
   "source": [
    "and $ map (>4) [5,6,7,8]"
   ]
  },
  {
   "cell_type": "code",
   "execution_count": 18,
   "metadata": {
    "attributes": {
     "classes": [
      "haskell:ghci"
     ],
     "id": "",
     "name": "\"code\""
    }
   },
   "outputs": [
    {
     "data": {
      "text/plain": [
       "False"
      ]
     },
     "metadata": {},
     "output_type": "display_data"
    }
   ],
   "source": [
    "and $ map (==4) [4,4,4,3,4]"
   ]
  },
  {
   "cell_type": "markdown",
   "metadata": {},
   "source": [
    "__[`or`](https://hackage.haskell.org/package/base/docs/Prelude.html#v:or)__ is like [`and`](https://hackage.haskell.org/package/base/docs/Prelude.html#v:and), only it returns [`True`](https://hackage.haskell.org/package/base/docs/Prelude.html#v:True) if any of the boolean values in a\n",
    "list is [`True`](https://hackage.haskell.org/package/base/docs/Prelude.html#v:True)."
   ]
  },
  {
   "cell_type": "code",
   "execution_count": 19,
   "metadata": {
    "attributes": {
     "classes": [
      "haskell:ghci"
     ],
     "id": "",
     "name": "\"code\""
    }
   },
   "outputs": [
    {
     "data": {
      "text/plain": [
       "True"
      ]
     },
     "metadata": {},
     "output_type": "display_data"
    }
   ],
   "source": [
    "or $ map (==4) [2,3,4,5,6,1]"
   ]
  },
  {
   "cell_type": "code",
   "execution_count": 20,
   "metadata": {
    "attributes": {
     "classes": [
      "haskell:ghci"
     ],
     "id": "",
     "name": "\"code\""
    }
   },
   "outputs": [
    {
     "data": {
      "text/plain": [
       "False"
      ]
     },
     "metadata": {},
     "output_type": "display_data"
    }
   ],
   "source": [
    "or $ map (>4) [1,2,3]"
   ]
  },
  {
   "cell_type": "markdown",
   "metadata": {},
   "source": [
    "__[`any`](https://hackage.haskell.org/package/base/docs/Prelude.html#v:any)__ and __[`all`](https://hackage.haskell.org/package/base/docs/Prelude.html#v:all)__ take a predicate and then check if any or all the elements\n",
    "in a list satisfy the predicate, respectively. Usually we use these two\n",
    "functions instead of mapping over a list and then doing [`and`](https://hackage.haskell.org/package/base/docs/Prelude.html#v:and) or [`or`](https://hackage.haskell.org/package/base/docs/Prelude.html#v:or)."
   ]
  },
  {
   "cell_type": "code",
   "execution_count": 21,
   "metadata": {
    "attributes": {
     "classes": [
      "haskell:ghci"
     ],
     "id": "",
     "name": "\"code\""
    }
   },
   "outputs": [
    {
     "data": {
      "text/plain": [
       "True"
      ]
     },
     "metadata": {},
     "output_type": "display_data"
    }
   ],
   "source": [
    "any (==4) [2,3,5,6,1,4]"
   ]
  },
  {
   "cell_type": "code",
   "execution_count": 22,
   "metadata": {
    "attributes": {
     "classes": [
      "haskell:ghci"
     ],
     "id": "",
     "name": "\"code\""
    }
   },
   "outputs": [
    {
     "data": {
      "text/plain": [
       "True"
      ]
     },
     "metadata": {},
     "output_type": "display_data"
    }
   ],
   "source": [
    "all (>4) [6,9,10]"
   ]
  },
  {
   "cell_type": "code",
   "execution_count": 23,
   "metadata": {
    "attributes": {
     "classes": [
      "haskell:ghci"
     ],
     "id": "",
     "name": "\"code\""
    }
   },
   "outputs": [
    {
     "data": {
      "text/plain": [
       "False"
      ]
     },
     "metadata": {},
     "output_type": "display_data"
    }
   ],
   "source": [
    "all (`elem` ['A'..'Z']) \"HEYGUYSwhatsup\""
   ]
  },
  {
   "cell_type": "code",
   "execution_count": 24,
   "metadata": {
    "attributes": {
     "classes": [
      "haskell:ghci"
     ],
     "id": "",
     "name": "\"code\""
    }
   },
   "outputs": [
    {
     "data": {
      "text/plain": [
       "True"
      ]
     },
     "metadata": {},
     "output_type": "display_data"
    }
   ],
   "source": [
    "any (`elem` ['A'..'Z']) \"HEYGUYSwhatsup\""
   ]
  },
  {
   "cell_type": "markdown",
   "metadata": {},
   "source": [
    "__[`iterate`](https://hackage.haskell.org/package/base/docs/Prelude.html#v:iterate)__ takes a function and a starting value. It applies the function\n",
    "to the starting value, then it applies that function to the result, then\n",
    "it applies the function to that result again, etc. It returns all the\n",
    "results in the form of an infinite list."
   ]
  },
  {
   "cell_type": "code",
   "execution_count": 25,
   "metadata": {
    "attributes": {
     "classes": [
      "haskell:ghci"
     ],
     "id": "",
     "name": "\"code\""
    }
   },
   "outputs": [
    {
     "data": {
      "text/plain": [
       "[1,2,4,8,16,32,64,128,256,512]"
      ]
     },
     "metadata": {},
     "output_type": "display_data"
    }
   ],
   "source": [
    "take 10 $ iterate (*2) 1"
   ]
  },
  {
   "cell_type": "code",
   "execution_count": 26,
   "metadata": {
    "attributes": {
     "classes": [
      "haskell:ghci"
     ],
     "id": "",
     "name": "\"code\""
    }
   },
   "outputs": [
    {
     "data": {
      "text/plain": [
       "[\"haha\",\"hahahaha\",\"hahahahahaha\"]"
      ]
     },
     "metadata": {},
     "output_type": "display_data"
    }
   ],
   "source": [
    "take 3 $ iterate (++ \"haha\") \"haha\""
   ]
  },
  {
   "cell_type": "markdown",
   "metadata": {},
   "source": [
    "__[`splitAt`](https://hackage.haskell.org/package/base/docs/Prelude.html#v:splitAt)__ takes a number and a list. It then splits the list at that many\n",
    "elements, returning the resulting two lists in a tuple."
   ]
  },
  {
   "cell_type": "code",
   "execution_count": 27,
   "metadata": {
    "attributes": {
     "classes": [
      "haskell:ghci"
     ],
     "id": "",
     "name": "\"code\""
    }
   },
   "outputs": [
    {
     "data": {
      "text/plain": [
       "(\"hey\",\"man\")"
      ]
     },
     "metadata": {},
     "output_type": "display_data"
    }
   ],
   "source": [
    "splitAt 3 \"heyman\""
   ]
  },
  {
   "cell_type": "code",
   "execution_count": 28,
   "metadata": {
    "attributes": {
     "classes": [
      "haskell:ghci"
     ],
     "id": "",
     "name": "\"code\""
    }
   },
   "outputs": [
    {
     "data": {
      "text/plain": [
       "(\"heyman\",\"\")"
      ]
     },
     "metadata": {},
     "output_type": "display_data"
    }
   ],
   "source": [
    "splitAt 100 \"heyman\""
   ]
  },
  {
   "cell_type": "code",
   "execution_count": 29,
   "metadata": {
    "attributes": {
     "classes": [
      "haskell:ghci"
     ],
     "id": "",
     "name": "\"code\""
    }
   },
   "outputs": [
    {
     "data": {
      "text/plain": [
       "(\"\",\"heyman\")"
      ]
     },
     "metadata": {},
     "output_type": "display_data"
    }
   ],
   "source": [
    "splitAt (-3) \"heyman\""
   ]
  },
  {
   "cell_type": "code",
   "execution_count": 30,
   "metadata": {
    "attributes": {
     "classes": [
      "haskell:ghci"
     ],
     "id": "",
     "name": "\"code\""
    }
   },
   "outputs": [
    {
     "data": {
      "text/plain": [
       "\"barfoo\""
      ]
     },
     "metadata": {},
     "output_type": "display_data"
    }
   ],
   "source": [
    "let (a,b) = splitAt 3 \"foobar\" in b ++ a"
   ]
  },
  {
   "cell_type": "markdown",
   "metadata": {},
   "source": [
    "__[`takeWhile`](https://hackage.haskell.org/package/base/docs/Prelude.html#v:takeWhile)__ is a really useful little function. It takes elements from a\n",
    "list while the predicate holds and then when an element is encountered\n",
    "that doesn't satisfy the predicate, it's cut off. It turns out this is\n",
    "very useful."
   ]
  },
  {
   "cell_type": "code",
   "execution_count": 31,
   "metadata": {
    "attributes": {
     "classes": [
      "haskell:ghci"
     ],
     "id": "",
     "name": "\"code\""
    }
   },
   "outputs": [
    {
     "data": {
      "text/plain": [
       "[6,5,4]"
      ]
     },
     "metadata": {},
     "output_type": "display_data"
    }
   ],
   "source": [
    "takeWhile (>3) [6,5,4,3,2,1,2,3,4,5,4,3,2,1]"
   ]
  },
  {
   "cell_type": "code",
   "execution_count": 32,
   "metadata": {
    "attributes": {
     "classes": [
      "haskell:ghci"
     ],
     "id": "",
     "name": "\"code\""
    }
   },
   "outputs": [
    {
     "data": {
      "text/plain": [
       "\"This\""
      ]
     },
     "metadata": {},
     "output_type": "display_data"
    }
   ],
   "source": [
    "takeWhile (/=' ') \"This is a sentence\""
   ]
  },
  {
   "cell_type": "markdown",
   "metadata": {},
   "source": [
    "Say we wanted to know the sum of all third powers that are under 10,000.\n",
    "We can't map `(^3)` to `[1..]`, apply a filter and then try to sum that up\n",
    "because filtering an infinite list never finishes. You may know that all\n",
    "the elements here are ascending but Haskell doesn't. That's why we can\n",
    "do this:"
   ]
  },
  {
   "cell_type": "code",
   "execution_count": 33,
   "metadata": {
    "attributes": {
     "classes": [
      "haskell:ghci"
     ],
     "id": "",
     "name": "\"code\""
    }
   },
   "outputs": [
    {
     "data": {
      "text/plain": [
       "53361"
      ]
     },
     "metadata": {},
     "output_type": "display_data"
    }
   ],
   "source": [
    "sum $ takeWhile (<10000) $ map (^3) [1..]"
   ]
  },
  {
   "cell_type": "markdown",
   "metadata": {},
   "source": [
    "We apply `(^3)` to an infinite list and then once an element that's over\n",
    "10,000 is encountered, the list is cut off. Now we can sum it up easily.\n",
    "\n",
    "__[`dropWhile`](https://hackage.haskell.org/package/base/docs/Prelude.html#v:dropWhile)__ is similar, only it drops all the elements while the predicate\n",
    "is true. Once predicate equates to [`False`](https://hackage.haskell.org/package/base/docs/Prelude.html#v:False), it returns the rest of the\n",
    "list. An extremely useful and lovely function!"
   ]
  },
  {
   "cell_type": "code",
   "execution_count": 34,
   "metadata": {
    "attributes": {
     "classes": [
      "haskell:ghci"
     ],
     "id": "",
     "name": "\"code\""
    }
   },
   "outputs": [
    {
     "data": {
      "text/plain": [
       "\" is a sentence\""
      ]
     },
     "metadata": {},
     "output_type": "display_data"
    }
   ],
   "source": [
    "dropWhile (/=' ') \"This is a sentence\""
   ]
  },
  {
   "cell_type": "code",
   "execution_count": 35,
   "metadata": {
    "attributes": {
     "classes": [
      "haskell:ghci"
     ],
     "id": "",
     "name": "\"code\""
    }
   },
   "outputs": [
    {
     "data": {
      "text/plain": [
       "[3,4,5,4,3,2,1]"
      ]
     },
     "metadata": {},
     "output_type": "display_data"
    }
   ],
   "source": [
    "dropWhile (<3) [1,2,2,2,3,4,5,4,3,2,1]"
   ]
  },
  {
   "cell_type": "markdown",
   "metadata": {},
   "source": [
    "We're given a list that represents the value of a stock by date. The\n",
    "list is made of tuples whose first component is the stock value, the\n",
    "second is the year, the third is the month and the fourth is the date.\n",
    "We want to know when the stock value first exceeded one thousand\n",
    "dollars!"
   ]
  },
  {
   "cell_type": "code",
   "execution_count": 36,
   "metadata": {
    "attributes": {
     "classes": [
      "haskell:ghci"
     ],
     "id": "",
     "name": "\"code\""
    }
   },
   "outputs": [
    {
     "data": {
      "text/plain": [
       "(1001.4,2008,9,4)"
      ]
     },
     "metadata": {},
     "output_type": "display_data"
    }
   ],
   "source": [
    "let stock = [(994.4,2008,9,1),(995.2,2008,9,2),(999.2,2008,9,3),(1001.4,2008,9,4),(998.3,2008,9,5)]\n",
    "head (dropWhile (\\(val,y,m,d) -> val < 1000) stock)"
   ]
  },
  {
   "cell_type": "markdown",
   "metadata": {},
   "source": [
    "__[`span`](https://hackage.haskell.org/package/base/docs/Prelude.html#v:span)__ is kind of like [`takeWhile`](https://hackage.haskell.org/package/base/docs/Prelude.html#v:takeWhile), only it returns a pair of lists. The\n",
    "first list contains everything the resulting list from [`takeWhile`](https://hackage.haskell.org/package/base/docs/Prelude.html#v:takeWhile) would\n",
    "contain if it were called with the same predicate and the same list. The\n",
    "second list contains the part of the list that would have been dropped."
   ]
  },
  {
   "cell_type": "code",
   "execution_count": 37,
   "metadata": {
    "attributes": {
     "classes": [
      "haskell:ghci"
     ],
     "id": "",
     "name": "\"code\""
    }
   },
   "outputs": [
    {
     "data": {
      "text/plain": [
       "\"First word:This, the rest: is a sentence\""
      ]
     },
     "metadata": {},
     "output_type": "display_data"
    }
   ],
   "source": [
    "let (fw, rest) = span (/=' ') \"This is a sentence\" in \"First word:\" ++ fw ++ \", the rest:\" ++ rest"
   ]
  },
  {
   "cell_type": "markdown",
   "metadata": {},
   "source": [
    "Whereas [`span`](https://hackage.haskell.org/package/base/docs/Prelude.html#v:span) spans the list while the predicate is true, __[`break`](https://hackage.haskell.org/package/base/docs/Prelude.html#v:break)__ breaks it\n",
    "when the predicate is first true. Doing `break p` is the equivalent of\n",
    "doing `span (not . p)`."
   ]
  },
  {
   "cell_type": "code",
   "execution_count": 38,
   "metadata": {
    "attributes": {
     "classes": [
      "haskell:ghci"
     ],
     "id": "",
     "name": "\"code\""
    }
   },
   "outputs": [
    {
     "data": {
      "text/plain": [
       "([1,2,3],[4,5,6,7])"
      ]
     },
     "metadata": {},
     "output_type": "display_data"
    }
   ],
   "source": [
    "break (==4) [1,2,3,4,5,6,7]"
   ]
  },
  {
   "cell_type": "code",
   "execution_count": 39,
   "metadata": {
    "attributes": {
     "classes": [
      "haskell:ghci"
     ],
     "id": "",
     "name": "\"code\""
    }
   },
   "outputs": [
    {
     "data": {
      "text/plain": [
       "([1,2,3],[4,5,6,7])"
      ]
     },
     "metadata": {},
     "output_type": "display_data"
    }
   ],
   "source": [
    "span (/=4) [1,2,3,4,5,6,7]"
   ]
  },
  {
   "cell_type": "markdown",
   "metadata": {},
   "source": [
    "When using [`break`](https://hackage.haskell.org/package/base/docs/Prelude.html#v:break), the second list in the result will start with the\n",
    "first element that satisfies the predicate.\n",
    "\n",
    "__[`sort`](https://hackage.haskell.org/package/base/docs/Data-List.html#v:sort)__ simply sorts a list. The type of the elements in the list has to be\n",
    "part of the [`Ord`](https://hackage.haskell.org/package/base/docs/Prelude.html#t:Ord) typeclass, because if the elements of a list can't be\n",
    "put in some kind of order, then the list can't be sorted."
   ]
  },
  {
   "cell_type": "code",
   "execution_count": 40,
   "metadata": {
    "attributes": {
     "classes": [
      "haskell:ghci"
     ],
     "id": "",
     "name": "\"code\""
    }
   },
   "outputs": [
    {
     "data": {
      "text/plain": [
       "[1,2,2,3,4,5,6,8]"
      ]
     },
     "metadata": {},
     "output_type": "display_data"
    }
   ],
   "source": [
    "sort [8,5,3,2,1,6,4,2]"
   ]
  },
  {
   "cell_type": "code",
   "execution_count": 41,
   "metadata": {
    "attributes": {
     "classes": [
      "haskell:ghci"
     ],
     "id": "",
     "name": "\"code\""
    }
   },
   "outputs": [
    {
     "data": {
      "text/plain": [
       "\"    Tbdeehiillnooorssstw\""
      ]
     },
     "metadata": {},
     "output_type": "display_data"
    }
   ],
   "source": [
    "sort \"This will be sorted soon\""
   ]
  },
  {
   "cell_type": "markdown",
   "metadata": {},
   "source": [
    "__[`group`](https://hackage.haskell.org/package/base/docs/Data-List.html#v:group)__ takes a list and groups adjacent elements into sublists if they\n",
    "are equal."
   ]
  },
  {
   "cell_type": "code",
   "execution_count": 42,
   "metadata": {
    "attributes": {
     "classes": [
      "haskell:ghci"
     ],
     "id": "",
     "name": "\"code\""
    }
   },
   "outputs": [
    {
     "data": {
      "text/plain": [
       "[[1,1,1,1],[2,2,2,2],[3,3],[2,2,2],[5],[6],[7]]"
      ]
     },
     "metadata": {},
     "output_type": "display_data"
    }
   ],
   "source": [
    "group [1,1,1,1,2,2,2,2,3,3,2,2,2,5,6,7]"
   ]
  },
  {
   "cell_type": "markdown",
   "metadata": {},
   "source": [
    "If we sort a list before grouping it, we can find out how many times\n",
    "each element appears in the list."
   ]
  },
  {
   "cell_type": "code",
   "execution_count": 43,
   "metadata": {
    "attributes": {
     "classes": [
      "haskell:ghci"
     ],
     "id": "",
     "name": "\"code\""
    }
   },
   "outputs": [
    {
     "data": {
      "text/plain": [
       "[(1,4),(2,7),(3,2),(5,1),(6,1),(7,1)]"
      ]
     },
     "metadata": {},
     "output_type": "display_data"
    }
   ],
   "source": [
    "map (\\l@(x:xs) -> (x,length l)) . group . sort $ [1,1,1,1,2,2,2,2,3,3,2,2,2,5,6,7]"
   ]
  },
  {
   "cell_type": "markdown",
   "metadata": {},
   "source": [
    "__[`inits`](https://hackage.haskell.org/package/base/docs/Data-List.html#v:inits)__ and __[`tails`](https://hackage.haskell.org/package/base/docs/Data-List.html#v:tails)__ are like [`init`](https://hackage.haskell.org/package/base/docs/Prelude.html#v:init) and [`tail`](https://hackage.haskell.org/package/base/docs/Prelude.html#v:tail), only they recursively apply that\n",
    "to a list until there's nothing left. Observe."
   ]
  },
  {
   "cell_type": "code",
   "execution_count": 44,
   "metadata": {
    "attributes": {
     "classes": [
      "haskell:ghci"
     ],
     "id": "",
     "name": "\"code\""
    }
   },
   "outputs": [
    {
     "data": {
      "text/plain": [
       "[\"\",\"w\",\"w0\",\"w00\",\"w00t\"]"
      ]
     },
     "metadata": {},
     "output_type": "display_data"
    }
   ],
   "source": [
    "inits \"w00t\""
   ]
  },
  {
   "cell_type": "code",
   "execution_count": 45,
   "metadata": {
    "attributes": {
     "classes": [
      "haskell:ghci"
     ],
     "id": "",
     "name": "\"code\""
    }
   },
   "outputs": [
    {
     "data": {
      "text/plain": [
       "[\"w00t\",\"00t\",\"0t\",\"t\",\"\"]"
      ]
     },
     "metadata": {},
     "output_type": "display_data"
    }
   ],
   "source": [
    "tails \"w00t\""
   ]
  },
  {
   "cell_type": "code",
   "execution_count": 46,
   "metadata": {
    "attributes": {
     "classes": [
      "haskell:ghci"
     ],
     "id": "",
     "name": "\"code\""
    }
   },
   "outputs": [
    {
     "data": {
      "text/plain": [
       "[(\"\",\"w00t\"),(\"w\",\"00t\"),(\"w0\",\"0t\"),(\"w00\",\"t\"),(\"w00t\",\"\")]"
      ]
     },
     "metadata": {},
     "output_type": "display_data"
    }
   ],
   "source": [
    "let w = \"w00t\" in zip (inits w) (tails w)"
   ]
  },
  {
   "cell_type": "markdown",
   "metadata": {},
   "source": [
    "Let's use a fold to implement searching a list for a sublist."
   ]
  },
  {
   "cell_type": "code",
   "execution_count": 47,
   "metadata": {
    "attributes": {
     "classes": [
      "haskell:hs"
     ],
     "id": "",
     "name": "\"code\""
    }
   },
   "outputs": [],
   "source": [
    "search :: (Eq a) => [a] -> [a] -> Bool\n",
    "search needle haystack =\n",
    "    let nlen = length needle\n",
    "    in  foldl (\\acc x -> if take nlen x == needle then True else acc) False (tails haystack)"
   ]
  },
  {
   "cell_type": "markdown",
   "metadata": {},
   "source": [
    "First we call [`tails`](https://hackage.haskell.org/package/base/docs/Data-List.html#v:tails) with the list in which we're searching. Then we go\n",
    "over each tail and see if it starts with what we're looking for.\n",
    "\n",
    "With that, we actually just made a function that behaves like __[`isInfixOf`](https://hackage.haskell.org/package/base/docs/Data-List.html#v:isInfixOf)__.\n",
    "[`isInfixOf`](https://hackage.haskell.org/package/base/docs/Data-List.html#v:isInfixOf) searches for a sublist within a list and returns [`True`](https://hackage.haskell.org/package/base/docs/Prelude.html#v:True) if the\n",
    "sublist we're looking for is somewhere inside the target list."
   ]
  },
  {
   "cell_type": "code",
   "execution_count": 48,
   "metadata": {
    "attributes": {
     "classes": [
      "haskell:ghci"
     ],
     "id": "",
     "name": "\"code\""
    }
   },
   "outputs": [
    {
     "data": {
      "text/plain": [
       "True"
      ]
     },
     "metadata": {},
     "output_type": "display_data"
    }
   ],
   "source": [
    "\"cat\" `isInfixOf` \"im a cat burglar\""
   ]
  },
  {
   "cell_type": "code",
   "execution_count": 49,
   "metadata": {
    "attributes": {
     "classes": [
      "haskell:ghci"
     ],
     "id": "",
     "name": "\"code\""
    }
   },
   "outputs": [
    {
     "data": {
      "text/plain": [
       "False"
      ]
     },
     "metadata": {},
     "output_type": "display_data"
    }
   ],
   "source": [
    "\"Cat\" `isInfixOf` \"im a cat burglar\""
   ]
  },
  {
   "cell_type": "code",
   "execution_count": 50,
   "metadata": {
    "attributes": {
     "classes": [
      "haskell:ghci"
     ],
     "id": "",
     "name": "\"code\""
    }
   },
   "outputs": [
    {
     "data": {
      "text/plain": [
       "False"
      ]
     },
     "metadata": {},
     "output_type": "display_data"
    }
   ],
   "source": [
    "\"cats\" `isInfixOf` \"im a cat burglar\""
   ]
  },
  {
   "cell_type": "markdown",
   "metadata": {},
   "source": [
    "__[`isPrefixOf`](https://hackage.haskell.org/package/base/docs/Data-List.html#v:isPrefixOf)__ and __[`isSuffixOf`](https://hackage.haskell.org/package/base/docs/Data-List.html#v:isSuffixOf)__ search for a sublist at the beginning and at\n",
    "the end of a list, respectively."
   ]
  },
  {
   "cell_type": "code",
   "execution_count": 51,
   "metadata": {
    "attributes": {
     "classes": [
      "haskell:ghci"
     ],
     "id": "",
     "name": "\"code\""
    }
   },
   "outputs": [
    {
     "data": {
      "text/plain": [
       "True"
      ]
     },
     "metadata": {},
     "output_type": "display_data"
    }
   ],
   "source": [
    "\"hey\" `isPrefixOf` \"hey there!\""
   ]
  },
  {
   "cell_type": "code",
   "execution_count": 52,
   "metadata": {
    "attributes": {
     "classes": [
      "haskell:ghci"
     ],
     "id": "",
     "name": "\"code\""
    }
   },
   "outputs": [
    {
     "data": {
      "text/plain": [
       "False"
      ]
     },
     "metadata": {},
     "output_type": "display_data"
    }
   ],
   "source": [
    "\"hey\" `isPrefixOf` \"oh hey there!\""
   ]
  },
  {
   "cell_type": "code",
   "execution_count": 53,
   "metadata": {
    "attributes": {
     "classes": [
      "haskell:ghci"
     ],
     "id": "",
     "name": "\"code\""
    }
   },
   "outputs": [
    {
     "data": {
      "text/plain": [
       "True"
      ]
     },
     "metadata": {},
     "output_type": "display_data"
    }
   ],
   "source": [
    "\"there!\" `isSuffixOf` \"oh hey there!\""
   ]
  },
  {
   "cell_type": "code",
   "execution_count": 54,
   "metadata": {
    "attributes": {
     "classes": [
      "haskell:ghci"
     ],
     "id": "",
     "name": "\"code\""
    }
   },
   "outputs": [
    {
     "data": {
      "text/plain": [
       "False"
      ]
     },
     "metadata": {},
     "output_type": "display_data"
    }
   ],
   "source": [
    "\"there!\" `isSuffixOf` \"oh hey there\""
   ]
  },
  {
   "cell_type": "markdown",
   "metadata": {},
   "source": [
    "__[`elem`](https://hackage.haskell.org/package/base/docs/Prelude.html#v:elem)__ and __[`notElem`](https://hackage.haskell.org/package/base/docs/Prelude.html#v:notElem)__ check if an element is or isn't inside a list.\n",
    "\n",
    "__[`partition`](https://hackage.haskell.org/package/base/docs/Data-List.html#v:partition)__ takes a list and a predicate and returns a pair of lists. The\n",
    "first list in the result contains all the elements that satisfy the\n",
    "predicate, the second contains all the ones that don't."
   ]
  },
  {
   "cell_type": "code",
   "execution_count": 55,
   "metadata": {
    "attributes": {
     "classes": [
      "haskell:ghci"
     ],
     "id": "",
     "name": "\"code\""
    }
   },
   "outputs": [
    {
     "data": {
      "text/plain": [
       "(\"BOBMORGAN\",\"sidneyeddy\")"
      ]
     },
     "metadata": {},
     "output_type": "display_data"
    }
   ],
   "source": [
    "partition (`elem` ['A'..'Z']) \"BOBsidneyMORGANeddy\""
   ]
  },
  {
   "cell_type": "code",
   "execution_count": 56,
   "metadata": {
    "attributes": {
     "classes": [
      "haskell:ghci"
     ],
     "id": "",
     "name": "\"code\""
    }
   },
   "outputs": [
    {
     "data": {
      "text/plain": [
       "([5,6,7],[1,3,3,2,1,0,3])"
      ]
     },
     "metadata": {},
     "output_type": "display_data"
    }
   ],
   "source": [
    "partition (>3) [1,3,5,6,3,2,1,0,3,7]"
   ]
  },
  {
   "cell_type": "markdown",
   "metadata": {},
   "source": [
    "It's important to understand how this is different from [`span`](https://hackage.haskell.org/package/base/docs/Prelude.html#v:span) and [`break`](https://hackage.haskell.org/package/base/docs/Prelude.html#v:break):"
   ]
  },
  {
   "cell_type": "code",
   "execution_count": 57,
   "metadata": {
    "attributes": {
     "classes": [
      "haskell:ghci"
     ],
     "id": "",
     "name": "\"code\""
    }
   },
   "outputs": [
    {
     "data": {
      "text/plain": [
       "(\"BOB\",\"sidneyMORGANeddy\")"
      ]
     },
     "metadata": {},
     "output_type": "display_data"
    }
   ],
   "source": [
    "span (`elem` ['A'..'Z']) \"BOBsidneyMORGANeddy\""
   ]
  },
  {
   "cell_type": "markdown",
   "metadata": {},
   "source": [
    "While [`span`](https://hackage.haskell.org/package/base/docs/Prelude.html#v:span) and [`break`](https://hackage.haskell.org/package/base/docs/Prelude.html#v:break) are done once they encounter the first element that\n",
    "doesn't and does satisfy the predicate, [`partition`](https://hackage.haskell.org/package/base/docs/Data-List.html#v:partition) goes through the whole\n",
    "list and splits it up according to the predicate.\n",
    "\n",
    "__[`find`](https://hackage.haskell.org/package/base/docs/Data-List.html#v:find)__ takes a list and a predicate and returns the first element that\n",
    "satisfies the predicate. But it returns that element wrapped in a [`Maybe`](https://hackage.haskell.org/package/base/docs/Prelude.html#t:Maybe)\n",
    "value. We'll be covering algebraic data types more in depth in the next\n",
    "chapter but for now, this is what you need to know: a [`Maybe`](https://hackage.haskell.org/package/base/docs/Prelude.html#t:Maybe) value can\n",
    "either be `Just something` or [`Nothing`](https://hackage.haskell.org/package/base/docs/Prelude.html#v:Nothing). Much like a list can be either an\n",
    "empty list or a list with some elements, a [`Maybe`](https://hackage.haskell.org/package/base/docs/Prelude.html#t:Maybe) value can be either no\n",
    "elements or a single element. And like the type of a list of, say,\n",
    "integers is `[Int]`, the type of maybe having an integer is `Maybe Int`.\n",
    "Anyway, let's take our [`find`](https://hackage.haskell.org/package/base/docs/Data-List.html#v:find) function for a spin."
   ]
  },
  {
   "cell_type": "code",
   "execution_count": 58,
   "metadata": {
    "attributes": {
     "classes": [
      "haskell:ghci"
     ],
     "id": "",
     "name": "\"code\""
    }
   },
   "outputs": [
    {
     "data": {
      "text/plain": [
       "Just 5"
      ]
     },
     "metadata": {},
     "output_type": "display_data"
    }
   ],
   "source": [
    "find (>4) [1,2,3,4,5,6]"
   ]
  },
  {
   "cell_type": "code",
   "execution_count": 59,
   "metadata": {
    "attributes": {
     "classes": [
      "haskell:ghci"
     ],
     "id": "",
     "name": "\"code\""
    }
   },
   "outputs": [
    {
     "data": {
      "text/plain": [
       "Nothing"
      ]
     },
     "metadata": {},
     "output_type": "display_data"
    }
   ],
   "source": [
    "find (>9) [1,2,3,4,5,6]"
   ]
  },
  {
   "cell_type": "code",
   "execution_count": 60,
   "metadata": {
    "attributes": {
     "classes": [
      "haskell:ghci"
     ],
     "id": "",
     "name": "\"code\""
    }
   },
   "outputs": [
    {
     "data": {
      "text/html": [
       "<style>/* Styles used for the Hoogle display in the pager */\n",
       ".hoogle-doc {\n",
       "display: block;\n",
       "padding-bottom: 1.3em;\n",
       "padding-left: 0.4em;\n",
       "}\n",
       ".hoogle-code {\n",
       "display: block;\n",
       "font-family: monospace;\n",
       "white-space: pre;\n",
       "}\n",
       ".hoogle-text {\n",
       "display: block;\n",
       "}\n",
       ".hoogle-name {\n",
       "color: green;\n",
       "font-weight: bold;\n",
       "}\n",
       ".hoogle-head {\n",
       "font-weight: bold;\n",
       "}\n",
       ".hoogle-sub {\n",
       "display: block;\n",
       "margin-left: 0.4em;\n",
       "}\n",
       ".hoogle-package {\n",
       "font-weight: bold;\n",
       "font-style: italic;\n",
       "}\n",
       ".hoogle-module {\n",
       "font-weight: bold;\n",
       "}\n",
       ".hoogle-class {\n",
       "font-weight: bold;\n",
       "}\n",
       ".get-type {\n",
       "color: green;\n",
       "font-weight: bold;\n",
       "font-family: monospace;\n",
       "display: block;\n",
       "white-space: pre-wrap;\n",
       "}\n",
       ".show-type {\n",
       "color: green;\n",
       "font-weight: bold;\n",
       "font-family: monospace;\n",
       "margin-left: 1em;\n",
       "}\n",
       ".mono {\n",
       "font-family: monospace;\n",
       "display: block;\n",
       "}\n",
       ".err-msg {\n",
       "color: red;\n",
       "font-style: italic;\n",
       "font-family: monospace;\n",
       "white-space: pre;\n",
       "display: block;\n",
       "}\n",
       "#unshowable {\n",
       "color: red;\n",
       "font-weight: bold;\n",
       "}\n",
       ".err-msg.in.collapse {\n",
       "padding-top: 0.7em;\n",
       "}\n",
       ".highlight-code {\n",
       "white-space: pre;\n",
       "font-family: monospace;\n",
       "}\n",
       ".suggestion-warning { \n",
       "font-weight: bold;\n",
       "color: rgb(200, 130, 0);\n",
       "}\n",
       ".suggestion-error { \n",
       "font-weight: bold;\n",
       "color: red;\n",
       "}\n",
       ".suggestion-name {\n",
       "font-weight: bold;\n",
       "}\n",
       "</style><span class='get-type'>find :: forall (t :: * -> *) a. Foldable t => (a -> Bool) -> t a -> Maybe a</span>"
      ],
      "text/plain": [
       "find :: forall (t :: * -> *) a. Foldable t => (a -> Bool) -> t a -> Maybe a"
      ]
     },
     "metadata": {},
     "output_type": "display_data"
    }
   ],
   "source": [
    ":t find"
   ]
  },
  {
   "cell_type": "markdown",
   "metadata": {},
   "source": [
    "Notice the type of [`find`](https://hackage.haskell.org/package/base/docs/Data-List.html#v:find). Its result is `Maybe a`. That's kind of like\n",
    "having the type of `[a]`, only a value of the type [`Maybe`](https://hackage.haskell.org/package/base/docs/Prelude.html#t:Maybe) can contain\n",
    "either no elements or one element, whereas a list can contain no\n",
    "elements, one element or several elements.\n",
    "\n",
    "Remember when we were searching for the first time our stock went over\n",
    "\\$1000. We did `head (dropWhile (\\(val,y,m,d) -> val < 1000) stock)`.\n",
    "Remember that [`head`](https://hackage.haskell.org/package/base/docs/Prelude.html#v:head) is not really safe. What would happen if our stock\n",
    "never went over \\$1000? Our application of [`dropWhile`](https://hackage.haskell.org/package/base/docs/Prelude.html#v:dropWhile) would return an\n",
    "empty list and getting the head of an empty list would result in an\n",
    "error. However, if we rewrote that as\n",
    "`find (\\(val,y,m,d) -> val > 1000)`\n",
    "stock, we'd be much safer. If our stock never went over \\$1000 (so\n",
    "if no element satisfied the predicate), we'd get back a [`Nothing`](https://hackage.haskell.org/package/base/docs/Prelude.html#v:Nothing). But\n",
    "there was a valid answer in that list, we'd get, say,\n",
    "`Just (1001.4,2008,9,4)`.\n",
    "\n",
    "__[`elemIndex`](https://hackage.haskell.org/package/base/docs/Data-List.html#v:elemIndex)__ is kind of like [`elem`](https://hackage.haskell.org/package/base/docs/Prelude.html#v:elem), only it doesn't return a boolean value.\n",
    "It maybe returns the index of the element we're looking for. If that\n",
    "element isn't in our list, it returns a [`Nothing`](https://hackage.haskell.org/package/base/docs/Prelude.html#v:Nothing)."
   ]
  },
  {
   "cell_type": "code",
   "execution_count": 61,
   "metadata": {
    "attributes": {
     "classes": [
      "haskell:ghci"
     ],
     "id": "",
     "name": "\"code\""
    }
   },
   "outputs": [
    {
     "data": {
      "text/html": [
       "<style>/* Styles used for the Hoogle display in the pager */\n",
       ".hoogle-doc {\n",
       "display: block;\n",
       "padding-bottom: 1.3em;\n",
       "padding-left: 0.4em;\n",
       "}\n",
       ".hoogle-code {\n",
       "display: block;\n",
       "font-family: monospace;\n",
       "white-space: pre;\n",
       "}\n",
       ".hoogle-text {\n",
       "display: block;\n",
       "}\n",
       ".hoogle-name {\n",
       "color: green;\n",
       "font-weight: bold;\n",
       "}\n",
       ".hoogle-head {\n",
       "font-weight: bold;\n",
       "}\n",
       ".hoogle-sub {\n",
       "display: block;\n",
       "margin-left: 0.4em;\n",
       "}\n",
       ".hoogle-package {\n",
       "font-weight: bold;\n",
       "font-style: italic;\n",
       "}\n",
       ".hoogle-module {\n",
       "font-weight: bold;\n",
       "}\n",
       ".hoogle-class {\n",
       "font-weight: bold;\n",
       "}\n",
       ".get-type {\n",
       "color: green;\n",
       "font-weight: bold;\n",
       "font-family: monospace;\n",
       "display: block;\n",
       "white-space: pre-wrap;\n",
       "}\n",
       ".show-type {\n",
       "color: green;\n",
       "font-weight: bold;\n",
       "font-family: monospace;\n",
       "margin-left: 1em;\n",
       "}\n",
       ".mono {\n",
       "font-family: monospace;\n",
       "display: block;\n",
       "}\n",
       ".err-msg {\n",
       "color: red;\n",
       "font-style: italic;\n",
       "font-family: monospace;\n",
       "white-space: pre;\n",
       "display: block;\n",
       "}\n",
       "#unshowable {\n",
       "color: red;\n",
       "font-weight: bold;\n",
       "}\n",
       ".err-msg.in.collapse {\n",
       "padding-top: 0.7em;\n",
       "}\n",
       ".highlight-code {\n",
       "white-space: pre;\n",
       "font-family: monospace;\n",
       "}\n",
       ".suggestion-warning { \n",
       "font-weight: bold;\n",
       "color: rgb(200, 130, 0);\n",
       "}\n",
       ".suggestion-error { \n",
       "font-weight: bold;\n",
       "color: red;\n",
       "}\n",
       ".suggestion-name {\n",
       "font-weight: bold;\n",
       "}\n",
       "</style><span class='get-type'>elemIndex :: forall a. Eq a => a -> [a] -> Maybe Int</span>"
      ],
      "text/plain": [
       "elemIndex :: forall a. Eq a => a -> [a] -> Maybe Int"
      ]
     },
     "metadata": {},
     "output_type": "display_data"
    }
   ],
   "source": [
    ":t elemIndex"
   ]
  },
  {
   "cell_type": "code",
   "execution_count": 62,
   "metadata": {
    "attributes": {
     "classes": [
      "haskell:ghci"
     ],
     "id": "",
     "name": "\"code\""
    }
   },
   "outputs": [
    {
     "data": {
      "text/plain": [
       "Just 3"
      ]
     },
     "metadata": {},
     "output_type": "display_data"
    }
   ],
   "source": [
    "4 `elemIndex` [1,2,3,4,5,6]"
   ]
  },
  {
   "cell_type": "code",
   "execution_count": 63,
   "metadata": {
    "attributes": {
     "classes": [
      "haskell:ghci"
     ],
     "id": "",
     "name": "\"code\""
    }
   },
   "outputs": [
    {
     "data": {
      "text/plain": [
       "Nothing"
      ]
     },
     "metadata": {},
     "output_type": "display_data"
    }
   ],
   "source": [
    "10 `elemIndex` [1,2,3,4,5,6]"
   ]
  },
  {
   "cell_type": "markdown",
   "metadata": {},
   "source": [
    "__[`elemIndices`](https://hackage.haskell.org/package/base/docs/Data-List.html#v:elemIndices)__ is like [`elemIndex`](https://hackage.haskell.org/package/base/docs/Data-List.html#v:elemIndex), only it returns a list of indices, in\n",
    "case the element we're looking for crops up in our list several times.\n",
    "Because we're using a list to represent the indices, we don't need a\n",
    "[`Maybe`](https://hackage.haskell.org/package/base/docs/Prelude.html#t:Maybe) type, because failure can be represented as the empty list, which\n",
    "is very much synonymous to [`Nothing`](https://hackage.haskell.org/package/base/docs/Prelude.html#v:Nothing)."
   ]
  },
  {
   "cell_type": "code",
   "execution_count": 64,
   "metadata": {
    "attributes": {
     "classes": [
      "haskell:ghci"
     ],
     "id": "",
     "name": "\"code\""
    }
   },
   "outputs": [
    {
     "data": {
      "text/plain": [
       "[5,9,13]"
      ]
     },
     "metadata": {},
     "output_type": "display_data"
    }
   ],
   "source": [
    "' ' `elemIndices` \"Where are the spaces?\""
   ]
  },
  {
   "cell_type": "markdown",
   "metadata": {},
   "source": [
    "__[`findIndex`](https://hackage.haskell.org/package/base/docs/Data-List.html#v:findIndex)__ is like find, but it maybe returns the index of the first\n",
    "element that satisfies the predicate. [`findIndices`](https://hackage.haskell.org/package/base/docs/Data-List.html#v:findIndices) returns the indices of\n",
    "all elements that satisfy the predicate in the form of a list."
   ]
  },
  {
   "cell_type": "code",
   "execution_count": 65,
   "metadata": {
    "attributes": {
     "classes": [
      "haskell:ghci"
     ],
     "id": "",
     "name": "\"code\""
    }
   },
   "outputs": [
    {
     "data": {
      "text/plain": [
       "Just 5"
      ]
     },
     "metadata": {},
     "output_type": "display_data"
    }
   ],
   "source": [
    "findIndex (==4) [5,3,2,1,6,4]"
   ]
  },
  {
   "cell_type": "code",
   "execution_count": 66,
   "metadata": {
    "attributes": {
     "classes": [
      "haskell:ghci"
     ],
     "id": "",
     "name": "\"code\""
    }
   },
   "outputs": [
    {
     "data": {
      "text/plain": [
       "Nothing"
      ]
     },
     "metadata": {},
     "output_type": "display_data"
    }
   ],
   "source": [
    "findIndex (==7) [5,3,2,1,6,4]"
   ]
  },
  {
   "cell_type": "code",
   "execution_count": 67,
   "metadata": {
    "attributes": {
     "classes": [
      "haskell:ghci"
     ],
     "id": "",
     "name": "\"code\""
    }
   },
   "outputs": [
    {
     "data": {
      "text/plain": [
       "[0,6,10,14]"
      ]
     },
     "metadata": {},
     "output_type": "display_data"
    }
   ],
   "source": [
    "findIndices (`elem` ['A'..'Z']) \"Where Are The Caps?\""
   ]
  },
  {
   "cell_type": "markdown",
   "metadata": {},
   "source": [
    "We already covered [`zip`](https://hackage.haskell.org/package/base/docs/Prelude.html#v:zip) and [`zipWith`](https://hackage.haskell.org/package/base/docs/Prelude.html#v:zipWith). We noted that they zip together two\n",
    "lists, either in a tuple or with a binary function (meaning such a\n",
    "function that takes two parameters). But what if we want to zip together\n",
    "three lists? Or zip three lists with a function that takes three\n",
    "parameters? Well, for that, we have __`zip3`__, __`zip4`__, etc. and __`zipWith3`__,\n",
    "__`zipWith4`__, etc. These variants go up to 7. While this may look like a\n",
    "hack, it works out pretty fine, because there aren't many times when you\n",
    "want to zip 8 lists together. There's also a very clever way for zipping\n",
    "infinite numbers of lists, but we're not advanced enough to cover that\n",
    "just yet."
   ]
  },
  {
   "cell_type": "code",
   "execution_count": 68,
   "metadata": {
    "attributes": {
     "classes": [
      "haskell:ghci"
     ],
     "id": "",
     "name": "\"code\""
    }
   },
   "outputs": [
    {
     "data": {
      "text/plain": [
       "[7,9,8]"
      ]
     },
     "metadata": {},
     "output_type": "display_data"
    }
   ],
   "source": [
    "zipWith3 (\\x y z -> x + y + z) [1,2,3] [4,5,2,2] [2,2,3]"
   ]
  },
  {
   "cell_type": "code",
   "execution_count": 69,
   "metadata": {
    "attributes": {
     "classes": [
      "haskell:ghci"
     ],
     "id": "",
     "name": "\"code\""
    }
   },
   "outputs": [
    {
     "data": {
      "text/plain": [
       "[(2,2,5,2),(3,2,5,2),(3,2,3,2)]"
      ]
     },
     "metadata": {},
     "output_type": "display_data"
    }
   ],
   "source": [
    "zip4 [2,3,3] [2,2,2] [5,5,3] [2,2,2]"
   ]
  },
  {
   "cell_type": "markdown",
   "metadata": {},
   "source": [
    "Just like with normal zipping, lists that are longer than the shortest\n",
    "list that's being zipped are cut down to size.\n",
    "\n",
    "__[`lines`](https://hackage.haskell.org/package/base/docs/Prelude.html#v:lines)__ is a useful function when dealing with files or input from\n",
    "somewhere. It takes a string and returns every line of that string in a\n",
    "separate list."
   ]
  },
  {
   "cell_type": "code",
   "execution_count": 70,
   "metadata": {
    "attributes": {
     "classes": [
      "haskell:ghci"
     ],
     "id": "",
     "name": "\"code\""
    }
   },
   "outputs": [
    {
     "data": {
      "text/plain": [
       "[\"first line\",\"second line\",\"third line\"]"
      ]
     },
     "metadata": {},
     "output_type": "display_data"
    }
   ],
   "source": [
    "lines \"first line\\nsecond line\\nthird line\""
   ]
  },
  {
   "cell_type": "markdown",
   "metadata": {},
   "source": [
    "`'\\n'` is the character for a unix newline. Backslashes have special\n",
    "meaning in Haskell strings and characters.\n",
    "\n",
    "__[`unlines`](https://hackage.haskell.org/package/base/docs/Prelude.html#v:unlines)__ is the inverse function of [`lines`](https://hackage.haskell.org/package/base/docs/Prelude.html#v:lines). It takes a list of strings and\n",
    "joins them together using a `'\\n'`."
   ]
  },
  {
   "cell_type": "code",
   "execution_count": 71,
   "metadata": {
    "attributes": {
     "classes": [
      "haskell:ghci"
     ],
     "id": "",
     "name": "\"code\""
    }
   },
   "outputs": [
    {
     "data": {
      "text/plain": [
       "\"first line\\nsecond line\\nthird line\\n\""
      ]
     },
     "metadata": {},
     "output_type": "display_data"
    }
   ],
   "source": [
    "unlines [\"first line\", \"second line\", \"third line\"]"
   ]
  },
  {
   "cell_type": "markdown",
   "metadata": {},
   "source": [
    "__[`words`](https://hackage.haskell.org/package/base/docs/Prelude.html#v:words)__ and __[`unwords`](https://hackage.haskell.org/package/base/docs/Prelude.html#v:unwords)__ are for splitting a line of text into words or joining\n",
    "a list of words into a text. Very useful."
   ]
  },
  {
   "cell_type": "code",
   "execution_count": 72,
   "metadata": {
    "attributes": {
     "classes": [
      "haskell:ghci"
     ],
     "id": "",
     "name": "\"code\""
    }
   },
   "outputs": [
    {
     "data": {
      "text/plain": [
       "[\"hey\",\"these\",\"are\",\"the\",\"words\",\"in\",\"this\",\"sentence\"]"
      ]
     },
     "metadata": {},
     "output_type": "display_data"
    }
   ],
   "source": [
    "words \"hey these are the words in this sentence\""
   ]
  },
  {
   "cell_type": "code",
   "execution_count": 73,
   "metadata": {
    "attributes": {
     "classes": [
      "haskell:ghci"
     ],
     "id": "",
     "name": "\"code\""
    }
   },
   "outputs": [
    {
     "data": {
      "text/plain": [
       "[\"hey\",\"these\",\"are\",\"the\",\"words\",\"in\",\"this\",\"sentence\"]"
      ]
     },
     "metadata": {},
     "output_type": "display_data"
    }
   ],
   "source": [
    "words \"hey these           are    the words in this\\nsentence\""
   ]
  },
  {
   "cell_type": "code",
   "execution_count": 74,
   "metadata": {
    "attributes": {
     "classes": [
      "haskell:ghci"
     ],
     "id": "",
     "name": "\"code\""
    }
   },
   "outputs": [
    {
     "data": {
      "text/plain": [
       "\"hey there mate\""
      ]
     },
     "metadata": {},
     "output_type": "display_data"
    }
   ],
   "source": [
    "unwords [\"hey\",\"there\",\"mate\"]"
   ]
  },
  {
   "cell_type": "markdown",
   "metadata": {},
   "source": [
    "We've already mentioned __[`nub`](https://hackage.haskell.org/package/base/docs/Data-List.html#v:nub)__. It takes a list and weeds out the duplicate\n",
    "elements, returning a list whose every element is a unique snowflake!\n",
    "The function does have a kind of strange name. It turns out that \"nub\"\n",
    "means a small lump or essential part of something. In my opinion, they\n",
    "should use real words for function names instead of old-people words."
   ]
  },
  {
   "cell_type": "code",
   "execution_count": 75,
   "metadata": {
    "attributes": {
     "classes": [
      "haskell:ghci"
     ],
     "id": "",
     "name": "\"code\""
    }
   },
   "outputs": [
    {
     "data": {
      "text/plain": [
       "[1,2,3,4]"
      ]
     },
     "metadata": {},
     "output_type": "display_data"
    }
   ],
   "source": [
    "nub [1,2,3,4,3,2,1,2,3,4,3,2,1]"
   ]
  },
  {
   "cell_type": "code",
   "execution_count": 76,
   "metadata": {
    "attributes": {
     "classes": [
      "haskell:ghci"
     ],
     "id": "",
     "name": "\"code\""
    }
   },
   "outputs": [
    {
     "data": {
      "text/plain": [
       "\"Lots fwrdanu\""
      ]
     },
     "metadata": {},
     "output_type": "display_data"
    }
   ],
   "source": [
    "nub \"Lots of words and stuff\""
   ]
  },
  {
   "cell_type": "markdown",
   "metadata": {},
   "source": [
    "__[`delete`](https://hackage.haskell.org/package/base/docs/Data-List.html#v:delete)__ takes an element and a list and deletes the first occurrence of\n",
    "that element in the list."
   ]
  },
  {
   "cell_type": "code",
   "execution_count": 77,
   "metadata": {
    "attributes": {
     "classes": [
      "haskell:ghci"
     ],
     "id": "",
     "name": "\"code\""
    }
   },
   "outputs": [
    {
     "data": {
      "text/plain": [
       "\"ey there ghang!\""
      ]
     },
     "metadata": {},
     "output_type": "display_data"
    }
   ],
   "source": [
    "delete 'h' \"hey there ghang!\""
   ]
  },
  {
   "cell_type": "code",
   "execution_count": 78,
   "metadata": {
    "attributes": {
     "classes": [
      "haskell:ghci"
     ],
     "id": "",
     "name": "\"code\""
    }
   },
   "outputs": [
    {
     "data": {
      "text/plain": [
       "\"ey tere ghang!\""
      ]
     },
     "metadata": {},
     "output_type": "display_data"
    }
   ],
   "source": [
    "delete 'h' . delete 'h' $ \"hey there ghang!\""
   ]
  },
  {
   "cell_type": "code",
   "execution_count": 79,
   "metadata": {
    "attributes": {
     "classes": [
      "haskell:ghci"
     ],
     "id": "",
     "name": "\"code\""
    }
   },
   "outputs": [
    {
     "data": {
      "text/plain": [
       "\"ey tere gang!\""
      ]
     },
     "metadata": {},
     "output_type": "display_data"
    }
   ],
   "source": [
    "delete 'h' . delete 'h' . delete 'h' $ \"hey there ghang!\""
   ]
  },
  {
   "cell_type": "markdown",
   "metadata": {},
   "source": [
    "__`\\\\`__ is the list difference function. It acts like a set difference,\n",
    "basically. For every element in the right-hand list, it removes a\n",
    "matching element in the left one."
   ]
  },
  {
   "cell_type": "code",
   "execution_count": 80,
   "metadata": {
    "attributes": {
     "classes": [
      "haskell:ghci"
     ],
     "id": "",
     "name": "\"code\""
    }
   },
   "outputs": [
    {
     "data": {
      "text/plain": [
       "[1,3,4,6,7,8,10]"
      ]
     },
     "metadata": {},
     "output_type": "display_data"
    }
   ],
   "source": [
    "[1..10] \\\\ [2,5,9]"
   ]
  },
  {
   "cell_type": "code",
   "execution_count": 81,
   "metadata": {
    "attributes": {
     "classes": [
      "haskell:ghci"
     ],
     "id": "",
     "name": "\"code\""
    }
   },
   "outputs": [
    {
     "data": {
      "text/plain": [
       "\"Im a  baby\""
      ]
     },
     "metadata": {},
     "output_type": "display_data"
    }
   ],
   "source": [
    "\"Im a big baby\" \\\\ \"big\""
   ]
  },
  {
   "cell_type": "markdown",
   "metadata": {},
   "source": [
    "Doing `[1..10] \\\\ [2,5,9]` is like doing\n",
    "`delete 2 . delete 5 . delete 9 $ [1..10]`.\n",
    "\n",
    "__[`union`](https://hackage.haskell.org/package/base/docs/Data-List.html#v:union)__ also acts like a function on sets. It returns the union of two\n",
    "lists. It pretty much goes over every element in the second list and\n",
    "appends it to the first one if it isn't already in yet. Watch out\n",
    "though, duplicates are removed from the second list!"
   ]
  },
  {
   "cell_type": "code",
   "execution_count": 82,
   "metadata": {
    "attributes": {
     "classes": [
      "haskell:ghci"
     ],
     "id": "",
     "name": "\"code\""
    }
   },
   "outputs": [
    {
     "data": {
      "text/plain": [
       "\"hey manwt'sup\""
      ]
     },
     "metadata": {},
     "output_type": "display_data"
    }
   ],
   "source": [
    "\"hey man\" `union` \"man what's up\""
   ]
  },
  {
   "cell_type": "code",
   "execution_count": 83,
   "metadata": {
    "attributes": {
     "classes": [
      "haskell:ghci"
     ],
     "id": "",
     "name": "\"code\""
    }
   },
   "outputs": [
    {
     "data": {
      "text/plain": [
       "[1,2,3,4,5,6,7,8,9,10]"
      ]
     },
     "metadata": {},
     "output_type": "display_data"
    }
   ],
   "source": [
    "[1..7] `union` [5..10]"
   ]
  },
  {
   "cell_type": "markdown",
   "metadata": {},
   "source": [
    "__[`intersect`](https://hackage.haskell.org/package/base/docs/Data-List.html#v:intersect)__ works like set intersection. It returns only the elements that\n",
    "are found in both lists."
   ]
  },
  {
   "cell_type": "code",
   "execution_count": 84,
   "metadata": {
    "attributes": {
     "classes": [
      "haskell:ghci"
     ],
     "id": "",
     "name": "\"code\""
    }
   },
   "outputs": [
    {
     "data": {
      "text/plain": [
       "[5,6,7]"
      ]
     },
     "metadata": {},
     "output_type": "display_data"
    }
   ],
   "source": [
    "[1..7] `intersect` [5..10]"
   ]
  },
  {
   "cell_type": "markdown",
   "metadata": {},
   "source": [
    "__[`insert`](https://hackage.haskell.org/package/base/docs/Data-List.html#v:insert)__ takes an element and a list of elements that can be sorted and\n",
    "inserts it into the last position where it's still less than or equal to\n",
    "the next element. In other words, [`insert`](https://hackage.haskell.org/package/base/docs/Data-List.html#v:insert) will start at the beginning of\n",
    "the list and then keep going until it finds an element that's equal to\n",
    "or greater than the element that we're inserting and it will insert it\n",
    "just before the element."
   ]
  },
  {
   "cell_type": "code",
   "execution_count": 85,
   "metadata": {
    "attributes": {
     "classes": [
      "haskell:ghci"
     ],
     "id": "",
     "name": "\"code\""
    }
   },
   "outputs": [
    {
     "data": {
      "text/plain": [
       "[3,4,5,1,2,8,2]"
      ]
     },
     "metadata": {},
     "output_type": "display_data"
    }
   ],
   "source": [
    "insert 4 [3,5,1,2,8,2]"
   ]
  },
  {
   "cell_type": "code",
   "execution_count": 86,
   "metadata": {
    "attributes": {
     "classes": [
      "haskell:ghci"
     ],
     "id": "",
     "name": "\"code\""
    }
   },
   "outputs": [
    {
     "data": {
      "text/plain": [
       "[1,3,4,4,4,1]"
      ]
     },
     "metadata": {},
     "output_type": "display_data"
    }
   ],
   "source": [
    "insert 4 [1,3,4,4,1]"
   ]
  },
  {
   "cell_type": "markdown",
   "metadata": {},
   "source": [
    "The `4` is inserted right after the `3` and before the `5` in the first\n",
    "example and in between the `3` and `4` in the second example.\n",
    "\n",
    "If we use [`insert`](https://hackage.haskell.org/package/base/docs/Data-List.html#v:insert) to insert into a sorted list, the resulting list will\n",
    "be kept sorted."
   ]
  },
  {
   "cell_type": "code",
   "execution_count": 87,
   "metadata": {
    "attributes": {
     "classes": [
      "haskell:ghci"
     ],
     "id": "",
     "name": "\"code\""
    }
   },
   "outputs": [
    {
     "data": {
      "text/plain": [
       "[1,2,3,4,5,6,7]"
      ]
     },
     "metadata": {},
     "output_type": "display_data"
    }
   ],
   "source": [
    "insert 4 [1,2,3,5,6,7]"
   ]
  },
  {
   "cell_type": "code",
   "execution_count": 88,
   "metadata": {
    "attributes": {
     "classes": [
      "haskell:ghci"
     ],
     "id": "",
     "name": "\"code\""
    }
   },
   "outputs": [
    {
     "data": {
      "text/plain": [
       "\"abcdefghijklmnopqrstuvwxyz\""
      ]
     },
     "metadata": {},
     "output_type": "display_data"
    }
   ],
   "source": [
    "insert 'g' $ ['a'..'f'] ++ ['h'..'z']"
   ]
  },
  {
   "cell_type": "code",
   "execution_count": 89,
   "metadata": {
    "attributes": {
     "classes": [
      "haskell:ghci"
     ],
     "id": "",
     "name": "\"code\""
    }
   },
   "outputs": [
    {
     "data": {
      "text/plain": [
       "[1,2,3,4,3,2,1]"
      ]
     },
     "metadata": {},
     "output_type": "display_data"
    }
   ],
   "source": [
    "insert 3 [1,2,4,3,2,1]"
   ]
  },
  {
   "cell_type": "markdown",
   "metadata": {},
   "source": [
    "What [`length`](https://hackage.haskell.org/package/base/docs/Prelude.html#v:length), [`take`](https://hackage.haskell.org/package/base/docs/Prelude.html#v:take), [`drop`](https://hackage.haskell.org/package/base/docs/Prelude.html#v:drop), [`splitAt`](https://hackage.haskell.org/package/base/docs/Prelude.html#v:splitAt), `!!` and [`replicate`](https://hackage.haskell.org/package/base/docs/Prelude.html#v:replicate) have in common is\n",
    "that they take an [`Int`](https://hackage.haskell.org/package/base/docs/Prelude.html#t:Int) as one of their parameters (or return an [`Int`](https://hackage.haskell.org/package/base/docs/Prelude.html#t:Int)),\n",
    "even though they could be more generic and usable if they just took any\n",
    "type that's part of the [`Integral`](https://hackage.haskell.org/package/base/docs/Prelude.html#t:Integral) or [`Num`](https://hackage.haskell.org/package/base/docs/Prelude.html#t:Num) typeclasses (depending on the\n",
    "functions). They do that for historical reasons. However, fixing that\n",
    "would probably break a lot of existing code. That's why `Data.List` has\n",
    "their more generic equivalents, named __[`genericLength`](https://hackage.haskell.org/package/base/docs/Data-List.html#v:genericLength)__, __[`genericTake`](https://hackage.haskell.org/package/base/docs/Data-List.html#v:genericTake)__,\n",
    "__[`genericDrop`](https://hackage.haskell.org/package/base/docs/Data-List.html#v:genericDrop)__, __[`genericSplitAt`](https://hackage.haskell.org/package/base/docs/Data-List.html#v:genericSplitAt)__, __[`genericIndex`](https://hackage.haskell.org/package/base/docs/Data-List.html#v:genericIndex)__ and __[`genericReplicate`](https://hackage.haskell.org/package/base/docs/Data-List.html#v:genericReplicate)__. For\n",
    "instance, [`length`](https://hackage.haskell.org/package/base/docs/Prelude.html#v:length) has a type signature of `length :: [a] -> Int`. If we\n",
    "try to get the average of a list of numbers by doing\n",
    "`let xs = [1..6] in sum xs / length xs`,\n",
    "we get a type error, because you can't use [`/`](https://hackage.haskell.org/package/base/docs/Prelude.html#v:-47-) with an [`Int`](https://hackage.haskell.org/package/base/docs/Prelude.html#t:Int).\n",
    "[`genericLength`](https://hackage.haskell.org/package/base/docs/Data-List.html#v:genericLength), on the other hand, has a type signature of\n",
    "`genericLength :: (Num a) => [b] -> a`. Because a [`Num`](https://hackage.haskell.org/package/base/docs/Prelude.html#t:Num) can act like a\n",
    "floating point number, getting the average by doing\n",
    "`let xs = [1..6] in sum xs / genericLength xs` works out just fine.\n",
    "\n",
    "The [`nub`](https://hackage.haskell.org/package/base/docs/Data-List.html#v:nub), [`delete`](https://hackage.haskell.org/package/base/docs/Data-List.html#v:delete), [`union`](https://hackage.haskell.org/package/base/docs/Data-List.html#v:union), [`intersect`](https://hackage.haskell.org/package/base/docs/Data-List.html#v:intersect) and [`group`](https://hackage.haskell.org/package/base/docs/Data-List.html#v:group) functions all have their\n",
    "more general counterparts called __[`nubBy`](https://hackage.haskell.org/package/base/docs/Data-List.html#v:nubBy)__, __[`deleteBy`](https://hackage.haskell.org/package/base/docs/Data-List.html#v:deleteBy)__, __[`unionBy`](https://hackage.haskell.org/package/base/docs/Data-List.html#v:unionBy)__, __[`intersectBy`](https://hackage.haskell.org/package/base/docs/Data-List.html#v:intersectBy)__\n",
    "and __[`groupBy`](https://hackage.haskell.org/package/base/docs/Data-List.html#v:groupBy)__. The difference between them is that the first set of\n",
    "functions use [`==`](https://hackage.haskell.org/package/base/docs/Prelude.html#v:-61--61-) to test for equality, whereas the *By* ones also take\n",
    "an equality function and then compare them by using that equality\n",
    "function. [`group`](https://hackage.haskell.org/package/base/docs/Data-List.html#v:group) is the same as `groupBy (==)`.\n",
    "\n",
    "For instance, say we have a list that describes the value of a function\n",
    "for every second. We want to segment it into sublists based on when the\n",
    "value was below zero and when it went above. If we just did a normal\n",
    "[`group`](https://hackage.haskell.org/package/base/docs/Data-List.html#v:group), it would just group the equal adjacent values together. But what\n",
    "we want is to group them by whether they are negative or not. That's\n",
    "where [`groupBy`](https://hackage.haskell.org/package/base/docs/Data-List.html#v:groupBy) comes in! The equality function supplied to the *By*\n",
    "functions should take two elements of the same type and return [`True`](https://hackage.haskell.org/package/base/docs/Prelude.html#v:True) if\n",
    "it considers them equal by its standards."
   ]
  },
  {
   "cell_type": "code",
   "execution_count": 90,
   "metadata": {
    "attributes": {
     "classes": [
      "haskell:ghci"
     ],
     "id": "",
     "name": "\"code\""
    }
   },
   "outputs": [
    {
     "data": {
      "text/plain": [
       "[[-4.3,-2.4,-1.2],[0.4,2.3,5.9,10.5,29.1,5.3],[-2.4,-14.5],[2.9,2.3]]"
      ]
     },
     "metadata": {},
     "output_type": "display_data"
    }
   ],
   "source": [
    "let values = [-4.3, -2.4, -1.2, 0.4, 2.3, 5.9, 10.5, 29.1, 5.3, -2.4, -14.5, 2.9, 2.3]\n",
    "groupBy (\\x y -> (x > 0) == (y > 0)) values"
   ]
  },
  {
   "cell_type": "markdown",
   "metadata": {},
   "source": [
    "From this, we clearly see which sections are positive and which are\n",
    "negative. The equality function supplied takes two elements and then\n",
    "returns [`True`](https://hackage.haskell.org/package/base/docs/Prelude.html#v:True) only if they're both negative or if they're both positive.\n",
    "This equality function can also be written as\n",
    "`\\x y -> (x > 0) && (y > 0) || (x <= 0) && (y <= 0)`, although I think the first way is more\n",
    "readable. An even clearer way to write equality functions for the *By*\n",
    "functions is if you import the __[`on`](https://hackage.haskell.org/package/base/docs/Data-Function.html#v:on)__ function from Data.Function. [`on`](https://hackage.haskell.org/package/base/docs/Data-Function.html#v:on) is\n",
    "defined like this:"
   ]
  },
  {
   "cell_type": "code",
   "execution_count": 91,
   "metadata": {
    "attributes": {
     "classes": [
      "haskell:ghci"
     ],
     "id": "",
     "name": "\"code\""
    }
   },
   "outputs": [],
   "source": [
    "import Data.Function"
   ]
  },
  {
   "cell_type": "markdown",
   "metadata": {
    "attributes": {
     "classes": [
      "haskell:ghci"
     ],
     "id": "",
     "name": "\"code\""
    }
   },
   "source": [
    "<pre><code>on :: (b -> b -> c) -> (a -> b) -> a -> a -> c\n",
    "f `on` g = \\x y -> f (g x) (g y)</code></pre>"
   ]
  },
  {
   "cell_type": "markdown",
   "metadata": {},
   "source": [
    "So doing ``(==) `on` (> 0)`` returns an equality function that looks like\n",
    "`\\x y -> (x > 0) == (y > 0)`. [`on`](https://hackage.haskell.org/package/base/docs/Data-Function.html#v:on) is used a lot with the *By* functions\n",
    "because with it, we can do:"
   ]
  },
  {
   "cell_type": "code",
   "execution_count": 92,
   "metadata": {
    "attributes": {
     "classes": [
      "haskell:ghci"
     ],
     "id": "",
     "name": "\"code\""
    }
   },
   "outputs": [
    {
     "data": {
      "text/plain": [
       "[[-4.3,-2.4,-1.2],[0.4,2.3,5.9,10.5,29.1,5.3],[-2.4,-14.5],[2.9,2.3]]"
      ]
     },
     "metadata": {},
     "output_type": "display_data"
    }
   ],
   "source": [
    "groupBy ((==) `on` (> 0)) values"
   ]
  },
  {
   "cell_type": "markdown",
   "metadata": {},
   "source": [
    "Very readable indeed! You can read it out loud: Group this by equality\n",
    "on whether the elements are greater than zero.\n",
    "\n",
    "Similarly, the [`sort`](https://hackage.haskell.org/package/base/docs/Data-List.html#v:sort), [`insert`](https://hackage.haskell.org/package/base/docs/Data-List.html#v:insert), [`maximum`](https://hackage.haskell.org/package/base/docs/Prelude.html#v:maximum) and [`minimum`](https://hackage.haskell.org/package/base/docs/Prelude.html#v:minimum) also have their more\n",
    "general equivalents. Functions like [`groupBy`](https://hackage.haskell.org/package/base/docs/Data-List.html#v:groupBy) take a function that\n",
    "determines when two elements are equal. __[`sortBy`](https://hackage.haskell.org/package/base/docs/Data-List.html#v:sortBy)__, __[`insertBy`](https://hackage.haskell.org/package/base/docs/Data-List.html#v:insertBy)__, __[`maximumBy`](https://hackage.haskell.org/package/base/docs/Data-List.html#v:maximumBy)__ and\n",
    "__[`minimumBy`](https://hackage.haskell.org/package/base/docs/Data-List.html#v:minimumBy)__ take a function that determine if one element is greater,\n",
    "smaller or equal to the other. The type signature of [`sortBy`](https://hackage.haskell.org/package/base/docs/Data-List.html#v:sortBy) is\n",
    "`sortBy :: (a -> a -> Ordering) -> [a] -> [a]`.\n",
    "If you remember from before, the\n",
    "[`Ordering`](https://hackage.haskell.org/package/base/docs/Prelude.html#t:Ordering) type can have a value of [`LT`](https://hackage.haskell.org/package/base/docs/Prelude.html#v:LT), [`EQ`](https://hackage.haskell.org/package/base/docs/Prelude.html#v:EQ) or [`GT`](https://hackage.haskell.org/package/base/docs/Prelude.html#v:GT). [`sort`](https://hackage.haskell.org/package/base/docs/Data-List.html#v:sort) is the equivalent\n",
    "of `sortBy compare`, because compare just takes two elements whose type is\n",
    "in the [`Ord`](https://hackage.haskell.org/package/base/docs/Prelude.html#t:Ord) typeclass and returns their ordering relationship.\n",
    "\n",
    "Lists can be compared, but when they are, they are compared\n",
    "lexicographically. What if we have a list of lists and we want to sort\n",
    "it not based on the inner lists' contents but on their lengths? Well, as\n",
    "you've probably guessed, we'll use the [`sortBy`](https://hackage.haskell.org/package/base/docs/Data-List.html#v:sortBy) function."
   ]
  },
  {
   "cell_type": "code",
   "execution_count": 93,
   "metadata": {
    "attributes": {
     "classes": [
      "haskell:ghci"
     ],
     "id": "",
     "name": "\"code\""
    }
   },
   "outputs": [
    {
     "data": {
      "text/plain": [
       "[[],[2],[2,2],[1,2,3],[3,5,4,3],[5,4,5,4,4]]"
      ]
     },
     "metadata": {},
     "output_type": "display_data"
    }
   ],
   "source": [
    "let xs = [[5,4,5,4,4],[1,2,3],[3,5,4,3],[],[2],[2,2]]\n",
    "sortBy (compare `on` length) xs"
   ]
  },
  {
   "cell_type": "markdown",
   "metadata": {},
   "source": [
    "Awesome! ``compare `on` length`` ... man, that reads almost like real\n",
    "English! If you're not sure how exactly the [`on`](https://hackage.haskell.org/package/base/docs/Data-Function.html#v:on) works here,\n",
    "``compare `on` length`` is the equivalent of\n",
    "``\\x y -> length x `compare` length y``.\n",
    "When you're dealing with *By* functions that take an equality\n",
    "function, you usually do ``(==) `on` something`` and when you're dealing\n",
    "with *By* functions that take an ordering function, you usually do\n",
    "``compare `on` something``.\n",
    "\n",
    "Data.Char\n",
    "---------\n",
    "\n",
    "<img src=\"img/legochar.png\" title=\"lego char\" style=\"background-color:white;float:right;margin-left:2em;\" />\n",
    "\n",
    "The `Data.Char` module does what its name suggests. It exports functions\n",
    "that deal with characters. It's also helpful when filtering and mapping\n",
    "over strings because they're just lists of characters.\n",
    "\n",
    "`Data.Char` exports a bunch of predicates over characters. That is,\n",
    "functions that take a character and tell us whether some assumption\n",
    "about it is true or false. Here's what they are:\n",
    "\n",
    "__[`isControl`](https://hackage.haskell.org/package/base/docs/Data-Char.html#v:isControl)__ checks whether a character is a control character.\n",
    "\n",
    "__[`isSpace`](https://hackage.haskell.org/package/base/docs/Data-Char.html#v:isSpace)__ checks whether a character is a white-space characters. That\n",
    "includes spaces, tab characters, newlines, etc.\n",
    "\n",
    "__[`isLower`](https://hackage.haskell.org/package/base/docs/Data-Char.html#v:isLower)__ checks whether a character is lower-cased.\n",
    "\n",
    "__[`isUpper`](https://hackage.haskell.org/package/base/docs/Data-Char.html#v:isUpper)__ checks whether a character is upper-cased.\n",
    "\n",
    "__[`isAlpha`](https://hackage.haskell.org/package/base/docs/Data-Char.html#v:isAlpha)__ checks whether a character is a letter.\n",
    "\n",
    "__[`isAlphaNum`](https://hackage.haskell.org/package/base/docs/Data-Char.html#v:isAlphaNum)__ checks whether a character is a letter or a number.\n",
    "\n",
    "__[`isPrint`](https://hackage.haskell.org/package/base/docs/Data-Char.html#v:isPrint)__ checks whether a character is printable. Control characters, for\n",
    "instance, are not printable.\n",
    "\n",
    "__[`isDigit`](https://hackage.haskell.org/package/base/docs/Data-Char.html#v:isDigit)__ checks whether a character is a digit.\n",
    "\n",
    "__[`isOctDigit`](https://hackage.haskell.org/package/base/docs/Data-Char.html#v:isOctDigit)__ checks whether a character is an octal digit.\n",
    "\n",
    "__[`isHexDigit`](https://hackage.haskell.org/package/base/docs/Data-Char.html#v:isHexDigit)__ checks whether a character is a hex digit.\n",
    "\n",
    "__[`isLetter`](https://hackage.haskell.org/package/base/docs/Data-Char.html#v:isLetter)__ checks whether a character is a letter.\n",
    "\n",
    "__[`isMark`](https://hackage.haskell.org/package/base/docs/Data-Char.html#v:isMark)__ checks for Unicode mark characters. Those are characters that\n",
    "combine with preceding letters to form letters with accents. Use this if\n",
    "you are French.\n",
    "\n",
    "__[`isNumber`](https://hackage.haskell.org/package/base/docs/Data-Char.html#v:isNumber)__ checks whether a character is numeric.\n",
    "\n",
    "__[`isPunctuation`](https://hackage.haskell.org/package/base/docs/Data-Char.html#v:isPunctuation)__ checks whether a character is punctuation.\n",
    "\n",
    "__[`isSymbol`](https://hackage.haskell.org/package/base/docs/Data-Char.html#v:isSymbol)__ checks whether a character is a fancy mathematical or currency\n",
    "symbol.\n",
    "\n",
    "__[`isSeparator`](https://hackage.haskell.org/package/base/docs/Data-Char.html#v:isSeparator)__ checks for Unicode spaces and separators.\n",
    "\n",
    "__[`isAscii`](https://hackage.haskell.org/package/base/docs/Data-Char.html#v:isAscii)__ checks whether a character falls into the first 128 characters\n",
    "of the Unicode character set.\n",
    "\n",
    "__`isLatin1`__ checks whether a character falls into the first 256 characters\n",
    "of Unicode.\n",
    "\n",
    "__[`isAsciiUpper`](https://hackage.haskell.org/package/base/docs/Data-Char.html#v:isAsciiUpper)__ checks whether a character is ASCII and upper-case.\n",
    "\n",
    "__[`isAsciiLower`](https://hackage.haskell.org/package/base/docs/Data-Char.html#v:isAsciiLower)__ checks whether a character is ASCII and lower-case.\n",
    "\n",
    "All these predicates have a type signature of `Char -> Bool`. Most of the\n",
    "time you'll use this to filter out strings or something like that. For\n",
    "instance, let's say we're making a program that takes a username and the\n",
    "username can only be comprised of alphanumeric characters. We can use\n",
    "the `Data.List` function [`all`](https://hackage.haskell.org/package/base/docs/Prelude.html#v:all) in combination with the `Data.Char` predicates\n",
    "to determine if the username is alright."
   ]
  },
  {
   "cell_type": "code",
   "execution_count": 94,
   "metadata": {
    "attributes": {
     "classes": [
      "haskell:ghci"
     ],
     "id": "",
     "name": "\"code\""
    }
   },
   "outputs": [],
   "source": [
    "import Data.Char"
   ]
  },
  {
   "cell_type": "code",
   "execution_count": 95,
   "metadata": {
    "attributes": {
     "classes": [
      "haskell:ghci"
     ],
     "id": "",
     "name": "\"code\""
    }
   },
   "outputs": [
    {
     "data": {
      "text/plain": [
       "True"
      ]
     },
     "metadata": {},
     "output_type": "display_data"
    }
   ],
   "source": [
    "all isAlphaNum \"bobby283\""
   ]
  },
  {
   "cell_type": "code",
   "execution_count": 96,
   "metadata": {
    "attributes": {
     "classes": [
      "haskell:ghci"
     ],
     "id": "",
     "name": "\"code\""
    }
   },
   "outputs": [
    {
     "data": {
      "text/plain": [
       "False"
      ]
     },
     "metadata": {},
     "output_type": "display_data"
    }
   ],
   "source": [
    "all isAlphaNum \"eddy the fish!\""
   ]
  },
  {
   "cell_type": "markdown",
   "metadata": {},
   "source": [
    "Kewl. In case you don't remember, [`all`](https://hackage.haskell.org/package/base/docs/Prelude.html#v:all) takes a predicate and a list and\n",
    "returns [`True`](https://hackage.haskell.org/package/base/docs/Prelude.html#v:True) only if that predicate holds for every element in the list.\n",
    "\n",
    "We can also use [`isSpace`](https://hackage.haskell.org/package/base/docs/Data-Char.html#v:isSpace) to simulate the `Data.List` function [`words`](https://hackage.haskell.org/package/base/docs/Prelude.html#v:words)."
   ]
  },
  {
   "cell_type": "code",
   "execution_count": 97,
   "metadata": {
    "attributes": {
     "classes": [
      "haskell:ghci"
     ],
     "id": "",
     "name": "\"code\""
    }
   },
   "outputs": [
    {
     "data": {
      "text/plain": [
       "[\"hey\",\"guys\",\"its\",\"me\"]"
      ]
     },
     "metadata": {},
     "output_type": "display_data"
    }
   ],
   "source": [
    "words \"hey guys its me\""
   ]
  },
  {
   "cell_type": "code",
   "execution_count": 98,
   "metadata": {
    "attributes": {
     "classes": [
      "haskell:ghci"
     ],
     "id": "",
     "name": "\"code\""
    }
   },
   "outputs": [
    {
     "data": {
      "text/plain": [
       "[\"hey\",\" \",\"guys\",\" \",\"its\",\" \",\"me\"]"
      ]
     },
     "metadata": {},
     "output_type": "display_data"
    }
   ],
   "source": [
    "groupBy ((==) `on` isSpace) \"hey guys its me\""
   ]
  },
  {
   "cell_type": "markdown",
   "metadata": {},
   "source": [
    "Hmmm, well, it kind of does what [`words`](https://hackage.haskell.org/package/base/docs/Prelude.html#v:words) does but we're left with elements\n",
    "of only spaces. Hmm, whatever shall we do? I know, let's filter that\n",
    "sucker."
   ]
  },
  {
   "cell_type": "code",
   "execution_count": 99,
   "metadata": {
    "attributes": {
     "classes": [
      "haskell:ghci"
     ],
     "id": "",
     "name": "\"code\""
    }
   },
   "outputs": [],
   "source": [
    "import Data.Function (on)"
   ]
  },
  {
   "cell_type": "code",
   "execution_count": 100,
   "metadata": {
    "attributes": {
     "classes": [
      "haskell:ghci"
     ],
     "id": "",
     "name": "\"code\""
    }
   },
   "outputs": [
    {
     "data": {
      "text/plain": [
       "[\"hey\",\"guys\",\"its\",\"me\"]"
      ]
     },
     "metadata": {},
     "output_type": "display_data"
    }
   ],
   "source": [
    "filter (not . any isSpace) . groupBy ((==) `on` isSpace) $ \"hey guys its me\""
   ]
  },
  {
   "cell_type": "markdown",
   "metadata": {},
   "source": [
    "Ah.\n",
    "\n",
    "The `Data.Char` also exports a datatype that's kind of like [`Ordering`](https://hackage.haskell.org/package/base/docs/Prelude.html#t:Ordering). The\n",
    "[`Ordering`](https://hackage.haskell.org/package/base/docs/Prelude.html#t:Ordering) type can have a value of [`LT`](https://hackage.haskell.org/package/base/docs/Prelude.html#v:LT), [`EQ`](https://hackage.haskell.org/package/base/docs/Prelude.html#v:EQ) or [`GT`](https://hackage.haskell.org/package/base/docs/Prelude.html#v:GT). It's a sort of\n",
    "enumeration. It describes a few possible results that can arise from\n",
    "comparing two elements. The [`GeneralCategory`](https://hackage.haskell.org/package/base/docs/Data-Char.html#t:GeneralCategory) type is also an enumeration.\n",
    "It presents us with a few possible categories that a character can fall\n",
    "into. The main function for getting the general category of a character\n",
    "is [`generalCategory`](https://hackage.haskell.org/package/base/docs/Data-Char.html#v:generalCategory). It has a type of\n",
    "`generalCategory :: Char -> GeneralCategory`.\n",
    "There are about 31 categories so we won't list them all\n",
    "here, but let's play around with the function."
   ]
  },
  {
   "cell_type": "code",
   "execution_count": 101,
   "metadata": {
    "attributes": {
     "classes": [
      "haskell:ghci"
     ],
     "id": "",
     "name": "\"code\""
    }
   },
   "outputs": [
    {
     "data": {
      "text/plain": [
       "Space"
      ]
     },
     "metadata": {},
     "output_type": "display_data"
    }
   ],
   "source": [
    "generalCategory ' '"
   ]
  },
  {
   "cell_type": "code",
   "execution_count": 102,
   "metadata": {
    "attributes": {
     "classes": [
      "haskell:ghci"
     ],
     "id": "",
     "name": "\"code\""
    }
   },
   "outputs": [
    {
     "data": {
      "text/plain": [
       "UppercaseLetter"
      ]
     },
     "metadata": {},
     "output_type": "display_data"
    }
   ],
   "source": [
    "generalCategory 'A'"
   ]
  },
  {
   "cell_type": "code",
   "execution_count": 103,
   "metadata": {
    "attributes": {
     "classes": [
      "haskell:ghci"
     ],
     "id": "",
     "name": "\"code\""
    }
   },
   "outputs": [
    {
     "data": {
      "text/plain": [
       "LowercaseLetter"
      ]
     },
     "metadata": {},
     "output_type": "display_data"
    }
   ],
   "source": [
    "generalCategory 'a'"
   ]
  },
  {
   "cell_type": "code",
   "execution_count": 104,
   "metadata": {
    "attributes": {
     "classes": [
      "haskell:ghci"
     ],
     "id": "",
     "name": "\"code\""
    }
   },
   "outputs": [
    {
     "data": {
      "text/plain": [
       "OtherPunctuation"
      ]
     },
     "metadata": {},
     "output_type": "display_data"
    }
   ],
   "source": [
    "generalCategory '.'"
   ]
  },
  {
   "cell_type": "code",
   "execution_count": 105,
   "metadata": {
    "attributes": {
     "classes": [
      "haskell:ghci"
     ],
     "id": "",
     "name": "\"code\""
    }
   },
   "outputs": [
    {
     "data": {
      "text/plain": [
       "DecimalNumber"
      ]
     },
     "metadata": {},
     "output_type": "display_data"
    }
   ],
   "source": [
    "generalCategory '9'"
   ]
  },
  {
   "cell_type": "code",
   "execution_count": 106,
   "metadata": {
    "attributes": {
     "classes": [
      "haskell:ghci"
     ],
     "id": "",
     "name": "\"code\""
    }
   },
   "outputs": [
    {
     "data": {
      "text/plain": [
       "[Space,Control,Control,UppercaseLetter,DecimalNumber,OtherPunctuation,MathSymbol]"
      ]
     },
     "metadata": {},
     "output_type": "display_data"
    }
   ],
   "source": [
    "map generalCategory \" \\t\\nA9?|\""
   ]
  },
  {
   "cell_type": "markdown",
   "metadata": {},
   "source": [
    "Since the [`GeneralCategory`](https://hackage.haskell.org/package/base/docs/Data-Char.html#t:GeneralCategory) type is part of the `Eq` typeclass, we can also\n",
    "test for stuff like `generalCategory c == Space`.\n",
    "\n",
    "__[`toUpper`](https://hackage.haskell.org/package/base/docs/Data-Char.html#v:toUpper)__ converts a character to upper-case. Spaces, numbers, and the\n",
    "like remain unchanged.\n",
    "\n",
    "__[`toLower`](https://hackage.haskell.org/package/base/docs/Data-Char.html#v:toLower)__ converts a character to lower-case.\n",
    "\n",
    "__[`toTitle`](https://hackage.haskell.org/package/base/docs/Data-Char.html#v:toTitle)__ converts a character to title-case. For most characters,\n",
    "title-case is the same as upper-case.\n",
    "\n",
    "__[`digitToInt`](https://hackage.haskell.org/package/base/docs/Data-Char.html#v:digitToInt)__ converts a character to an [`Int`](https://hackage.haskell.org/package/base/docs/Prelude.html#t:Int).\n",
    "To succeed, the character must be in the ranges '0'..'9', 'a'..'f' or 'A'..'F'."
   ]
  },
  {
   "cell_type": "code",
   "execution_count": 107,
   "metadata": {
    "attributes": {
     "classes": [
      "haskell:ghci"
     ],
     "id": "",
     "name": "\"code\""
    }
   },
   "outputs": [
    {
     "data": {
      "text/plain": [
       "[3,4,5,3,8]"
      ]
     },
     "metadata": {},
     "output_type": "display_data"
    }
   ],
   "source": [
    "map digitToInt \"34538\""
   ]
  },
  {
   "cell_type": "code",
   "execution_count": 108,
   "metadata": {
    "attributes": {
     "classes": [
      "haskell:ghci"
     ],
     "id": "",
     "name": "\"code\""
    }
   },
   "outputs": [
    {
     "data": {
      "text/plain": [
       "[15,15,8,5,10,11]"
      ]
     },
     "metadata": {},
     "output_type": "display_data"
    }
   ],
   "source": [
    "map digitToInt \"FF85AB\""
   ]
  },
  {
   "cell_type": "markdown",
   "metadata": {},
   "source": [
    "__[`intToDigit`](https://hackage.haskell.org/package/base/docs/Data-Char.html#v:intToDigit)__ is the inverse function of [`digitToInt`](https://hackage.haskell.org/package/base/docs/Data-Char.html#v:digitToInt). It takes an [`Int`](https://hackage.haskell.org/package/base/docs/Prelude.html#t:Int) in the\n",
    "range of `0..15` and converts it to a lower-case character."
   ]
  },
  {
   "cell_type": "code",
   "execution_count": 109,
   "metadata": {
    "attributes": {
     "classes": [
      "haskell:ghci"
     ],
     "id": "",
     "name": "\"code\""
    }
   },
   "outputs": [
    {
     "data": {
      "text/plain": [
       "'f'"
      ]
     },
     "metadata": {},
     "output_type": "display_data"
    }
   ],
   "source": [
    "intToDigit 15"
   ]
  },
  {
   "cell_type": "code",
   "execution_count": 110,
   "metadata": {
    "attributes": {
     "classes": [
      "haskell:ghci"
     ],
     "id": "",
     "name": "\"code\""
    }
   },
   "outputs": [
    {
     "data": {
      "text/plain": [
       "'5'"
      ]
     },
     "metadata": {},
     "output_type": "display_data"
    }
   ],
   "source": [
    "intToDigit 5"
   ]
  },
  {
   "cell_type": "markdown",
   "metadata": {},
   "source": [
    "The __[`ord`](https://hackage.haskell.org/package/base/docs/Data-Char.html#v:ord)__ and [`chr`](https://hackage.haskell.org/package/base/docs/Data-Char.html#v:chr) functions convert characters to their corresponding\n",
    "numbers and vice versa:"
   ]
  },
  {
   "cell_type": "code",
   "execution_count": 111,
   "metadata": {
    "attributes": {
     "classes": [
      "haskell:ghci"
     ],
     "id": "",
     "name": "\"code\""
    }
   },
   "outputs": [
    {
     "data": {
      "text/plain": [
       "97"
      ]
     },
     "metadata": {},
     "output_type": "display_data"
    }
   ],
   "source": [
    "ord 'a'"
   ]
  },
  {
   "cell_type": "code",
   "execution_count": 112,
   "metadata": {
    "attributes": {
     "classes": [
      "haskell:ghci"
     ],
     "id": "",
     "name": "\"code\""
    }
   },
   "outputs": [
    {
     "data": {
      "text/plain": [
       "'a'"
      ]
     },
     "metadata": {},
     "output_type": "display_data"
    }
   ],
   "source": [
    "chr 97"
   ]
  },
  {
   "cell_type": "code",
   "execution_count": 113,
   "metadata": {
    "attributes": {
     "classes": [
      "haskell:ghci"
     ],
     "id": "",
     "name": "\"code\""
    }
   },
   "outputs": [
    {
     "data": {
      "text/plain": [
       "[97,98,99,100,101,102,103,104]"
      ]
     },
     "metadata": {},
     "output_type": "display_data"
    }
   ],
   "source": [
    "map ord \"abcdefgh\""
   ]
  },
  {
   "cell_type": "markdown",
   "metadata": {},
   "source": [
    "The difference between the [`ord`](https://hackage.haskell.org/package/base/docs/Data-Char.html#v:ord) values of two characters is equal to how\n",
    "far apart they are in the Unicode table.\n",
    "\n",
    "The Caesar cipher is a primitive method of encoding messages by shifting\n",
    "each character in them by a fixed number of positions in the alphabet.\n",
    "We can easily create a sort of Caesar cipher of our own, only we won't\n",
    "constrict ourselves to the alphabet."
   ]
  },
  {
   "cell_type": "code",
   "execution_count": 114,
   "metadata": {
    "attributes": {
     "classes": [
      "haskell:hs"
     ],
     "id": "",
     "name": "\"code\""
    }
   },
   "outputs": [],
   "source": [
    "encode :: Int -> String -> String\n",
    "encode shift msg =\n",
    "    let ords = map ord msg\n",
    "        shifted = map (+ shift) ords\n",
    "    in  map chr shifted"
   ]
  },
  {
   "cell_type": "markdown",
   "metadata": {},
   "source": [
    "Here, we first convert the string to a list of numbers. Then we add the\n",
    "shift amount to each number before converting the list of numbers back\n",
    "to characters. If you're a composition cowboy, you could write the body\n",
    "of this function as `map (chr . (+ shift) . ord) msg`. Let's try encoding\n",
    "a few messages."
   ]
  },
  {
   "cell_type": "code",
   "execution_count": 115,
   "metadata": {
    "attributes": {
     "classes": [
      "haskell:ghci"
     ],
     "id": "",
     "name": "\"code\""
    }
   },
   "outputs": [
    {
     "data": {
      "text/plain": [
       "\"Khhhhh|\""
      ]
     },
     "metadata": {},
     "output_type": "display_data"
    }
   ],
   "source": [
    "encode 3 \"Heeeeey\""
   ]
  },
  {
   "cell_type": "code",
   "execution_count": 116,
   "metadata": {
    "attributes": {
     "classes": [
      "haskell:ghci"
     ],
     "id": "",
     "name": "\"code\""
    }
   },
   "outputs": [
    {
     "data": {
      "text/plain": [
       "\"Liiiii}\""
      ]
     },
     "metadata": {},
     "output_type": "display_data"
    }
   ],
   "source": [
    "encode 4 \"Heeeeey\""
   ]
  },
  {
   "cell_type": "code",
   "execution_count": 117,
   "metadata": {
    "attributes": {
     "classes": [
      "haskell:ghci"
     ],
     "id": "",
     "name": "\"code\""
    }
   },
   "outputs": [
    {
     "data": {
      "text/plain": [
       "\"bcde\""
      ]
     },
     "metadata": {},
     "output_type": "display_data"
    }
   ],
   "source": [
    "encode 1 \"abcd\""
   ]
  },
  {
   "cell_type": "code",
   "execution_count": 118,
   "metadata": {
    "attributes": {
     "classes": [
      "haskell:ghci"
     ],
     "id": "",
     "name": "\"code\""
    }
   },
   "outputs": [
    {
     "data": {
      "text/plain": [
       "\"Rfww~%Hmwnxyrfx&%Mt%mt%mt&\""
      ]
     },
     "metadata": {},
     "output_type": "display_data"
    }
   ],
   "source": [
    "encode 5 \"Marry Christmas! Ho ho ho!\""
   ]
  },
  {
   "cell_type": "markdown",
   "metadata": {},
   "source": [
    "That's encoded alright. Decoding a message is basically just shifting it\n",
    "back by the number of places it was shifted by in the first place."
   ]
  },
  {
   "cell_type": "code",
   "execution_count": 119,
   "metadata": {
    "attributes": {
     "classes": [
      "haskell:hs"
     ],
     "id": "",
     "name": "\"code\""
    }
   },
   "outputs": [],
   "source": [
    "decode :: Int -> String -> String\n",
    "decode shift msg = encode (negate shift) msg"
   ]
  },
  {
   "cell_type": "code",
   "execution_count": 120,
   "metadata": {
    "attributes": {
     "classes": [
      "haskell:ghci"
     ],
     "id": "",
     "name": "\"code\""
    }
   },
   "outputs": [
    {
     "data": {
      "text/plain": [
       "\"Lp#d#olwwoh#whdsrw\""
      ]
     },
     "metadata": {},
     "output_type": "display_data"
    }
   ],
   "source": [
    "encode 3 \"Im a little teapot\""
   ]
  },
  {
   "cell_type": "code",
   "execution_count": 121,
   "metadata": {
    "attributes": {
     "classes": [
      "haskell:ghci"
     ],
     "id": "",
     "name": "\"code\""
    }
   },
   "outputs": [
    {
     "data": {
      "text/plain": [
       "\"Im a little teapot\""
      ]
     },
     "metadata": {},
     "output_type": "display_data"
    }
   ],
   "source": [
    "decode 3 \"Lp#d#olwwoh#whdsrw\""
   ]
  },
  {
   "cell_type": "code",
   "execution_count": 122,
   "metadata": {
    "attributes": {
     "classes": [
      "haskell:ghci"
     ],
     "id": "",
     "name": "\"code\""
    }
   },
   "outputs": [
    {
     "data": {
      "text/plain": [
       "\"This is a sentence\""
      ]
     },
     "metadata": {},
     "output_type": "display_data"
    }
   ],
   "source": [
    "decode 5 . encode 5 $ \"This is a sentence\""
   ]
  },
  {
   "cell_type": "markdown",
   "metadata": {},
   "source": [
    "Data.Map\n",
    "--------\n",
    "\n",
    "Association lists (also called dictionaries) are lists that are used to\n",
    "store key-value pairs where ordering doesn't matter. For instance, we\n",
    "might use an association list to store phone numbers, where phone\n",
    "numbers would be the values and people's names would be the keys. We\n",
    "don't care in which order they're stored, we just want to get the right\n",
    "phone number for the right person.\n",
    "\n",
    "The most obvious way to represent association lists in Haskell would be\n",
    "by having a list of pairs. The first component in the pair would be the\n",
    "key, the second component the value. Here's an example of an association\n",
    "list with phone numbers:"
   ]
  },
  {
   "cell_type": "code",
   "execution_count": 123,
   "metadata": {
    "attributes": {
     "classes": [
      "haskell:hs"
     ],
     "id": "",
     "name": "\"code\""
    }
   },
   "outputs": [],
   "source": [
    "phoneBook =\n",
    "    [(\"betty\",\"555-2938\")\n",
    "    ,(\"bonnie\",\"452-2928\")\n",
    "    ,(\"patsy\",\"493-2928\")\n",
    "    ,(\"lucille\",\"205-2928\")\n",
    "    ,(\"wendy\",\"939-8282\")\n",
    "    ,(\"penny\",\"853-2492\")\n",
    "    ]"
   ]
  },
  {
   "cell_type": "markdown",
   "metadata": {},
   "source": [
    "Despite this seemingly odd indentation, this is just a list of pairs of\n",
    "strings. The most common task when dealing with association lists is\n",
    "looking up some value by key. Let's make a function that looks up some\n",
    "value given a key."
   ]
  },
  {
   "cell_type": "code",
   "execution_count": 124,
   "metadata": {
    "attributes": {
     "classes": [
      "haskell:hs"
     ],
     "id": "",
     "name": "\"code\""
    }
   },
   "outputs": [],
   "source": [
    "findKey :: (Eq k) => k -> [(k,v)] -> v\n",
    "findKey key xs = snd . head . filter (\\(k,v) -> key == k) $ xs"
   ]
  },
  {
   "cell_type": "markdown",
   "metadata": {},
   "source": [
    "Pretty simple. The function that takes a key and a list, filters the\n",
    "list so that only matching keys remain, gets the first key-value that\n",
    "matches and returns the value. But what happens if the key we're looking\n",
    "for isn't in the association list? Hmm. Here, if a key isn't in the\n",
    "association list, we'll end up trying to get the head of an empty list,\n",
    "which throws a runtime error. However, we should avoid making our\n",
    "programs so easy to crash, so let's use the [`Maybe`](https://hackage.haskell.org/package/base/docs/Prelude.html#t:Maybe) data type. If we don't\n",
    "find the key, we'll return a [`Nothing`](https://hackage.haskell.org/package/base/docs/Prelude.html#v:Nothing). If we find it, we'll return\n",
    "`Just something`, where something is the value corresponding to that key."
   ]
  },
  {
   "cell_type": "code",
   "execution_count": 125,
   "metadata": {
    "attributes": {
     "classes": [
      "haskell:hs"
     ],
     "id": "",
     "name": "\"code\""
    }
   },
   "outputs": [],
   "source": [
    "findKey :: (Eq k) => k -> [(k,v)] -> Maybe v\n",
    "findKey key [] = Nothing\n",
    "findKey key ((k,v):xs) = if key == k\n",
    "                            then Just v\n",
    "                            else findKey key xs"
   ]
  },
  {
   "cell_type": "markdown",
   "metadata": {},
   "source": [
    "Look at the type declaration. It takes a key that can be equated, an\n",
    "association list and then it maybe produces a value. Sounds about right.\n",
    "\n",
    "This is a textbook recursive function that operates on a list. Edge\n",
    "case, splitting a list into a head and a tail, recursive calls, they're\n",
    "all there. This is the classic fold pattern, so let's see how this would\n",
    "be implemented as a fold."
   ]
  },
  {
   "cell_type": "code",
   "execution_count": 126,
   "metadata": {
    "attributes": {
     "classes": [
      "haskell:hs"
     ],
     "id": "",
     "name": "\"code\""
    }
   },
   "outputs": [],
   "source": [
    "findKey :: (Eq k) => k -> [(k,v)] -> Maybe v\n",
    "findKey key = foldr (\\(k,v) acc -> if key == k then Just v else acc) Nothing"
   ]
  },
  {
   "cell_type": "markdown",
   "metadata": {},
   "source": [
    "> __Note:__ It's usually better to use folds for this standard list\n",
    "> recursion pattern instead of explicitly writing the recursion because\n",
    "> they're easier to read and identify. Everyone knows it's a fold when\n",
    "> they see the [`foldr`](https://hackage.haskell.org/package/base/docs/Prelude.html#v:foldr) call, but it takes some more thinking to read\n",
    "> explicit recursion."
   ]
  },
  {
   "cell_type": "code",
   "execution_count": 127,
   "metadata": {
    "attributes": {
     "classes": [
      "haskell:ghci"
     ],
     "id": "",
     "name": "\"code\""
    }
   },
   "outputs": [
    {
     "data": {
      "text/plain": [
       "Just \"853-2492\""
      ]
     },
     "metadata": {},
     "output_type": "display_data"
    }
   ],
   "source": [
    "findKey \"penny\" phoneBook"
   ]
  },
  {
   "cell_type": "code",
   "execution_count": 128,
   "metadata": {
    "attributes": {
     "classes": [
      "haskell:ghci"
     ],
     "id": "",
     "name": "\"code\""
    }
   },
   "outputs": [
    {
     "data": {
      "text/plain": [
       "Just \"555-2938\""
      ]
     },
     "metadata": {},
     "output_type": "display_data"
    }
   ],
   "source": [
    "findKey \"betty\" phoneBook"
   ]
  },
  {
   "cell_type": "code",
   "execution_count": 129,
   "metadata": {
    "attributes": {
     "classes": [
      "haskell:ghci"
     ],
     "id": "",
     "name": "\"code\""
    }
   },
   "outputs": [
    {
     "data": {
      "text/plain": [
       "Nothing"
      ]
     },
     "metadata": {},
     "output_type": "display_data"
    }
   ],
   "source": [
    "findKey \"wilma\" phoneBook"
   ]
  },
  {
   "cell_type": "markdown",
   "metadata": {},
   "source": [
    "<img src=\"img/legomap.png\" title=\"legomap\" style=\"background-color:white;float:left;margin-right:2em;\" />\n",
    "\n",
    "Works like a charm! If we have the girl's phone number, we [`Just`](https://hackage.haskell.org/package/base/docs/Prelude.html#v:Just) get the\n",
    "number, otherwise we get [`Nothing`](https://hackage.haskell.org/package/base/docs/Prelude.html#v:Nothing).\n",
    "\n",
    "We just implemented the [`lookup`](https://hackage.haskell.org/package/base/docs/Prelude.html#v:lookup) function from `Data.List`. If we want to\n",
    "find the corresponding value to a key, we have to traverse all the\n",
    "elements of the list until we find it. The `Data.Map` module offers\n",
    "association lists that are much faster (because they're internally\n",
    "implemented with trees) and also it provides a lot of utility functions.\n",
    "From now on, we'll say we're working with maps instead of association\n",
    "lists.\n",
    "\n",
    "Because `Data.Map` exports functions that clash with the [`Prelude`](https://hackage.haskell.org/package/base/docs/Prelude.html) and\n",
    "`Data.List` ones, we'll do a qualified import."
   ]
  },
  {
   "cell_type": "code",
   "execution_count": 130,
   "metadata": {
    "attributes": {
     "classes": [
      "haskell:hs"
     ],
     "id": "",
     "name": "\"code\""
    }
   },
   "outputs": [],
   "source": [
    "import qualified Data.Map as Map"
   ]
  },
  {
   "cell_type": "markdown",
   "metadata": {},
   "source": [
    "Put this import statement into a script and then load the script via\n",
    "GHCI.\n",
    "\n",
    "Let's go ahead and see what `Data.Map` has in store for us! Here's the\n",
    "basic rundown of its functions.\n",
    "\n",
    "The __[`fromList`](https://hackage.haskell.org/package/base/docs/Data-List-NonEmpty.html#v:fromList)__ function takes an association list (in the form of a list)\n",
    "and returns a map with the same associations."
   ]
  },
  {
   "cell_type": "code",
   "execution_count": 131,
   "metadata": {
    "attributes": {
     "classes": [
      "haskell:ghci"
     ],
     "id": "",
     "name": "\"code\""
    }
   },
   "outputs": [
    {
     "data": {
      "text/plain": [
       "fromList [(\"betty\",\"555-2938\"),(\"bonnie\",\"452-2928\"),(\"lucille\",\"205-2928\")]"
      ]
     },
     "metadata": {},
     "output_type": "display_data"
    }
   ],
   "source": [
    "Map.fromList [(\"betty\",\"555-2938\"),(\"bonnie\",\"452-2928\"),(\"lucille\",\"205-2928\")]"
   ]
  },
  {
   "cell_type": "code",
   "execution_count": 132,
   "metadata": {
    "attributes": {
     "classes": [
      "haskell:ghci"
     ],
     "id": "",
     "name": "\"code\""
    }
   },
   "outputs": [
    {
     "data": {
      "text/plain": [
       "fromList [(1,2),(3,2),(5,5)]"
      ]
     },
     "metadata": {},
     "output_type": "display_data"
    }
   ],
   "source": [
    "Map.fromList [(1,2),(3,4),(3,2),(5,5)]"
   ]
  },
  {
   "cell_type": "markdown",
   "metadata": {},
   "source": [
    "If there are duplicate keys in the original association list, the\n",
    "duplicates are just discarded. This is the type signature of [`fromList`](https://hackage.haskell.org/package/base/docs/Data-List-NonEmpty.html#v:fromList)"
   ]
  },
  {
   "cell_type": "markdown",
   "metadata": {
    "attributes": {
     "classes": [
      "haskell:hs"
     ],
     "id": "",
     "name": "\"code\""
    }
   },
   "source": [
    "<pre><code>Map.fromList :: (Ord k) => [(k, v)] -> Map.Map k v</code></pre>"
   ]
  },
  {
   "cell_type": "markdown",
   "metadata": {},
   "source": [
    "It says that it takes a list of pairs of type `k` and `v` and returns a map\n",
    "that maps from keys of type `k` to type `v`. Notice that when we were doing\n",
    "association lists with normal lists, the keys only had to be equatable\n",
    "(their type belonging to the `Eq` typeclass) but now they have to be\n",
    "orderable. That's an essential constraint in the `Data.Map` module. It\n",
    "needs the keys to be orderable so it can arrange them in a tree.\n",
    "\n",
    "You should always use `Data.Map` for key-value associations unless you\n",
    "have keys that aren't part of the [`Ord`](https://hackage.haskell.org/package/base/docs/Prelude.html#t:Ord) typeclass.\n",
    "\n",
    "__[`empty`](https://hackage.haskell.org/package/base/docs/Control-Applicative.html#v:empty)__ represents an empty map. It takes no arguments, it just returns an\n",
    "empty map."
   ]
  },
  {
   "cell_type": "code",
   "execution_count": 133,
   "metadata": {
    "attributes": {
     "classes": [
      "haskell:ghci"
     ],
     "id": "",
     "name": "\"code\""
    }
   },
   "outputs": [
    {
     "data": {
      "text/plain": [
       "fromList []"
      ]
     },
     "metadata": {},
     "output_type": "display_data"
    }
   ],
   "source": [
    "Map.empty"
   ]
  },
  {
   "cell_type": "markdown",
   "metadata": {},
   "source": [
    "__[`insert`](https://hackage.haskell.org/package/base/docs/Data-List.html#v:insert)__ takes a key, a value and a map and returns a new map that's just\n",
    "like the old one, only with the key and value inserted."
   ]
  },
  {
   "cell_type": "code",
   "execution_count": 134,
   "metadata": {
    "attributes": {
     "classes": [
      "haskell:ghci"
     ],
     "id": "",
     "name": "\"code\""
    }
   },
   "outputs": [
    {
     "data": {
      "text/plain": [
       "fromList []"
      ]
     },
     "metadata": {},
     "output_type": "display_data"
    }
   ],
   "source": [
    "Map.empty"
   ]
  },
  {
   "cell_type": "code",
   "execution_count": 135,
   "metadata": {
    "attributes": {
     "classes": [
      "haskell:ghci"
     ],
     "id": "",
     "name": "\"code\""
    }
   },
   "outputs": [
    {
     "data": {
      "text/plain": [
       "fromList [(3,100)]"
      ]
     },
     "metadata": {},
     "output_type": "display_data"
    }
   ],
   "source": [
    "Map.insert 3 100 Map.empty"
   ]
  },
  {
   "cell_type": "code",
   "execution_count": 136,
   "metadata": {
    "attributes": {
     "classes": [
      "haskell:ghci"
     ],
     "id": "",
     "name": "\"code\""
    }
   },
   "outputs": [
    {
     "data": {
      "text/plain": [
       "fromList [(3,100),(4,200),(5,600)]"
      ]
     },
     "metadata": {},
     "output_type": "display_data"
    }
   ],
   "source": [
    "Map.insert 5 600 (Map.insert 4 200 ( Map.insert 3 100  Map.empty))"
   ]
  },
  {
   "cell_type": "code",
   "execution_count": 137,
   "metadata": {
    "attributes": {
     "classes": [
      "haskell:ghci"
     ],
     "id": "",
     "name": "\"code\""
    }
   },
   "outputs": [
    {
     "data": {
      "text/plain": [
       "fromList [(3,100),(4,200),(5,600)]"
      ]
     },
     "metadata": {},
     "output_type": "display_data"
    }
   ],
   "source": [
    "Map.insert 5 600 . Map.insert 4 200 . Map.insert 3 100 $ Map.empty"
   ]
  },
  {
   "cell_type": "markdown",
   "metadata": {},
   "source": [
    "We can implement our own [`fromList`](https://hackage.haskell.org/package/base/docs/Data-List-NonEmpty.html#v:fromList) by using the empty map, [`insert`](https://hackage.haskell.org/package/base/docs/Data-List.html#v:insert) and a\n",
    "fold. Watch:"
   ]
  },
  {
   "cell_type": "code",
   "execution_count": 138,
   "metadata": {
    "attributes": {
     "classes": [
      "haskell:ghci"
     ],
     "id": "",
     "name": "\"code\""
    }
   },
   "outputs": [],
   "source": [
    "fromList' :: (Ord k) => [(k,v)] -> Map.Map k v\n",
    "fromList' = foldr (\\(k,v) acc -> Map.insert k v acc) Map.empty"
   ]
  },
  {
   "cell_type": "markdown",
   "metadata": {},
   "source": [
    "It's a pretty straightforward fold. We start of with an empty map and we\n",
    "fold it up from the right, inserting the key value pairs into the\n",
    "accumulator as we go along.\n",
    "\n",
    "__[`null`](https://hackage.haskell.org/package/base/docs/Prelude.html#v:null)__ checks if a map is empty."
   ]
  },
  {
   "cell_type": "code",
   "execution_count": 139,
   "metadata": {
    "attributes": {
     "classes": [
      "haskell:ghci"
     ],
     "id": "",
     "name": "\"code\""
    }
   },
   "outputs": [
    {
     "data": {
      "text/plain": [
       "True"
      ]
     },
     "metadata": {},
     "output_type": "display_data"
    }
   ],
   "source": [
    "Map.null Map.empty"
   ]
  },
  {
   "cell_type": "code",
   "execution_count": 140,
   "metadata": {
    "attributes": {
     "classes": [
      "haskell:ghci"
     ],
     "id": "",
     "name": "\"code\""
    }
   },
   "outputs": [
    {
     "data": {
      "text/plain": [
       "False"
      ]
     },
     "metadata": {},
     "output_type": "display_data"
    }
   ],
   "source": [
    "Map.null $ Map.fromList [(2,3),(5,5)]"
   ]
  },
  {
   "cell_type": "markdown",
   "metadata": {},
   "source": [
    "__`size`__ reports the size of a map."
   ]
  },
  {
   "cell_type": "code",
   "execution_count": 141,
   "metadata": {
    "attributes": {
     "classes": [
      "haskell:ghci"
     ],
     "id": "",
     "name": "\"code\""
    }
   },
   "outputs": [
    {
     "data": {
      "text/plain": [
       "0"
      ]
     },
     "metadata": {},
     "output_type": "display_data"
    }
   ],
   "source": [
    "Map.size Map.empty"
   ]
  },
  {
   "cell_type": "code",
   "execution_count": 142,
   "metadata": {
    "attributes": {
     "classes": [
      "haskell:ghci"
     ],
     "id": "",
     "name": "\"code\""
    }
   },
   "outputs": [
    {
     "data": {
      "text/plain": [
       "5"
      ]
     },
     "metadata": {},
     "output_type": "display_data"
    }
   ],
   "source": [
    "Map.size $ Map.fromList [(2,4),(3,3),(4,2),(5,4),(6,4)]"
   ]
  },
  {
   "cell_type": "markdown",
   "metadata": {},
   "source": [
    "__`singleton`__ takes a key and a value and creates a map that has exactly one\n",
    "mapping."
   ]
  },
  {
   "cell_type": "code",
   "execution_count": 143,
   "metadata": {
    "attributes": {
     "classes": [
      "haskell:ghci"
     ],
     "id": "",
     "name": "\"code\""
    }
   },
   "outputs": [
    {
     "data": {
      "text/plain": [
       "fromList [(3,9)]"
      ]
     },
     "metadata": {},
     "output_type": "display_data"
    }
   ],
   "source": [
    "Map.singleton 3 9"
   ]
  },
  {
   "cell_type": "code",
   "execution_count": 144,
   "metadata": {
    "attributes": {
     "classes": [
      "haskell:ghci"
     ],
     "id": "",
     "name": "\"code\""
    }
   },
   "outputs": [
    {
     "data": {
      "text/plain": [
       "fromList [(3,9),(5,9)]"
      ]
     },
     "metadata": {},
     "output_type": "display_data"
    }
   ],
   "source": [
    "Map.insert 5 9 $ Map.singleton 3 9"
   ]
  },
  {
   "cell_type": "markdown",
   "metadata": {},
   "source": [
    "__[`lookup`](https://hackage.haskell.org/package/base/docs/Prelude.html#v:lookup)__ works like the `Data.List` [`lookup`](https://hackage.haskell.org/package/base/docs/Prelude.html#v:lookup), only it operates on maps. It\n",
    "returns `Just something` if it finds something for the key and [`Nothing`](https://hackage.haskell.org/package/base/docs/Prelude.html#v:Nothing) if\n",
    "it doesn't.\n",
    "\n",
    "__`member`__ is a predicate takes a key and a map and reports whether the key\n",
    "is in the map or not."
   ]
  },
  {
   "cell_type": "code",
   "execution_count": 145,
   "metadata": {
    "attributes": {
     "classes": [
      "haskell:ghci"
     ],
     "id": "",
     "name": "\"code\""
    }
   },
   "outputs": [
    {
     "data": {
      "text/plain": [
       "True"
      ]
     },
     "metadata": {},
     "output_type": "display_data"
    }
   ],
   "source": [
    "Map.member 3 $ Map.fromList [(3,6),(4,3),(6,9)]"
   ]
  },
  {
   "cell_type": "code",
   "execution_count": 146,
   "metadata": {
    "attributes": {
     "classes": [
      "haskell:ghci"
     ],
     "id": "",
     "name": "\"code\""
    }
   },
   "outputs": [
    {
     "data": {
      "text/plain": [
       "False"
      ]
     },
     "metadata": {},
     "output_type": "display_data"
    }
   ],
   "source": [
    "Map.member 3 $ Map.fromList [(2,5),(4,5)]"
   ]
  },
  {
   "cell_type": "markdown",
   "metadata": {},
   "source": [
    "__[`map`](https://hackage.haskell.org/package/base/docs/Prelude.html#v:map)__ and __[`filter`](https://hackage.haskell.org/package/base/docs/Prelude.html#v:filter)__ work much like their list equivalents."
   ]
  },
  {
   "cell_type": "code",
   "execution_count": 147,
   "metadata": {
    "attributes": {
     "classes": [
      "haskell:ghci"
     ],
     "id": "",
     "name": "\"code\""
    }
   },
   "outputs": [
    {
     "data": {
      "text/plain": [
       "fromList [(1,100),(2,400),(3,900)]"
      ]
     },
     "metadata": {},
     "output_type": "display_data"
    }
   ],
   "source": [
    "Map.map (*100) $ Map.fromList [(1,1),(2,4),(3,9)]"
   ]
  },
  {
   "cell_type": "code",
   "execution_count": 148,
   "metadata": {
    "attributes": {
     "classes": [
      "haskell:ghci"
     ],
     "id": "",
     "name": "\"code\""
    }
   },
   "outputs": [
    {
     "data": {
      "text/plain": [
       "fromList [(2,'A'),(4,'B')]"
      ]
     },
     "metadata": {},
     "output_type": "display_data"
    }
   ],
   "source": [
    "Map.filter isUpper $ Map.fromList [(1,'a'),(2,'A'),(3,'b'),(4,'B')]"
   ]
  },
  {
   "cell_type": "markdown",
   "metadata": {},
   "source": [
    "__[`toList`](https://hackage.haskell.org/package/base/docs/Data-Foldable.html#v:toList)__ is the inverse of [`fromList`](https://hackage.haskell.org/package/base/docs/Data-List-NonEmpty.html#v:fromList)."
   ]
  },
  {
   "cell_type": "code",
   "execution_count": 149,
   "metadata": {
    "attributes": {
     "classes": [
      "haskell:ghci"
     ],
     "id": "",
     "name": "\"code\""
    }
   },
   "outputs": [
    {
     "data": {
      "text/plain": [
       "[(4,3),(9,2)]"
      ]
     },
     "metadata": {},
     "output_type": "display_data"
    }
   ],
   "source": [
    "Map.toList . Map.insert 9 2 $ Map.singleton 4 3"
   ]
  },
  {
   "cell_type": "markdown",
   "metadata": {},
   "source": [
    "__`keys`__ and __`elems`__ return lists of keys and values respectively. `keys` is the\n",
    "equivalent of map fst . Map.toList and elems is the equivalent of map\n",
    "snd . Map.toList.\n",
    "\n",
    "__`fromListWith`__ is a cool little function. It acts like [`fromList`](https://hackage.haskell.org/package/base/docs/Data-List-NonEmpty.html#v:fromList), only it\n",
    "doesn't discard duplicate keys but it uses a function supplied to it to\n",
    "decide what to do with them. Let's say that a girl can have several\n",
    "numbers and we have an association list set up like this."
   ]
  },
  {
   "cell_type": "code",
   "execution_count": 150,
   "metadata": {
    "attributes": {
     "classes": [
      "haskell:hs"
     ],
     "id": "",
     "name": "\"code\""
    }
   },
   "outputs": [],
   "source": [
    "phoneBook =\n",
    "    [(\"betty\",\"555-2938\")\n",
    "    ,(\"betty\",\"342-2492\")\n",
    "    ,(\"bonnie\",\"452-2928\")\n",
    "    ,(\"patsy\",\"493-2928\")\n",
    "    ,(\"patsy\",\"943-2929\")\n",
    "    ,(\"patsy\",\"827-9162\")\n",
    "    ,(\"lucille\",\"205-2928\")\n",
    "    ,(\"wendy\",\"939-8282\")\n",
    "    ,(\"penny\",\"853-2492\")\n",
    "    ,(\"penny\",\"555-2111\")\n",
    "    ]"
   ]
  },
  {
   "cell_type": "markdown",
   "metadata": {},
   "source": [
    "Now if we just use [`fromList`](https://hackage.haskell.org/package/base/docs/Data-List-NonEmpty.html#v:fromList) to put that into a map, we'll lose a few\n",
    "numbers! So here's what we'll do:"
   ]
  },
  {
   "cell_type": "code",
   "execution_count": 151,
   "metadata": {
    "attributes": {
     "classes": [
      "haskell:hs"
     ],
     "id": "",
     "name": "\"code\""
    }
   },
   "outputs": [],
   "source": [
    "phoneBookToMap :: (Ord k) => [(k, String)] -> Map.Map k String\n",
    "phoneBookToMap xs = Map.fromListWith (\\number1 number2 -> number1 ++ \", \" ++ number2) xs"
   ]
  },
  {
   "cell_type": "code",
   "execution_count": 152,
   "metadata": {
    "attributes": {
     "classes": [
      "haskell:hs"
     ],
     "id": "",
     "name": "\"code\""
    }
   },
   "outputs": [
    {
     "data": {
      "text/plain": [
       "Just \"827-9162, 943-2929, 493-2928\""
      ]
     },
     "metadata": {},
     "output_type": "display_data"
    }
   ],
   "source": [
    "Map.lookup \"patsy\" $ phoneBookToMap phoneBook"
   ]
  },
  {
   "cell_type": "code",
   "execution_count": 153,
   "metadata": {
    "attributes": {
     "classes": [
      "haskell:hs"
     ],
     "id": "",
     "name": "\"code\""
    }
   },
   "outputs": [
    {
     "data": {
      "text/plain": [
       "Just \"939-8282\""
      ]
     },
     "metadata": {},
     "output_type": "display_data"
    }
   ],
   "source": [
    "Map.lookup \"wendy\" $ phoneBookToMap phoneBook"
   ]
  },
  {
   "cell_type": "code",
   "execution_count": 154,
   "metadata": {
    "attributes": {
     "classes": [
      "haskell:hs"
     ],
     "id": "",
     "name": "\"code\""
    }
   },
   "outputs": [
    {
     "data": {
      "text/plain": [
       "Just \"342-2492, 555-2938\""
      ]
     },
     "metadata": {},
     "output_type": "display_data"
    }
   ],
   "source": [
    "Map.lookup \"betty\" $ phoneBookToMap phoneBook"
   ]
  },
  {
   "cell_type": "markdown",
   "metadata": {},
   "source": [
    "If a duplicate key is found, the function we pass is used to combine the\n",
    "values of those keys into some other value. We could also first make all\n",
    "the values in the association list singleton lists and then we can use\n",
    "[`++`](https://hackage.haskell.org/package/base/docs/Prelude.html#v:-43--43-) to combine the numbers."
   ]
  },
  {
   "cell_type": "code",
   "execution_count": 155,
   "metadata": {
    "attributes": {
     "classes": [
      "haskell:hs"
     ],
     "id": "",
     "name": "\"code\""
    }
   },
   "outputs": [],
   "source": [
    "phoneBookToMap :: (Ord k) => [(k, a)] -> Map.Map k [a]\n",
    "phoneBookToMap xs = Map.fromListWith (++) $ map (\\(k,v) -> (k,[v])) xs"
   ]
  },
  {
   "cell_type": "code",
   "execution_count": 156,
   "metadata": {
    "attributes": {
     "classes": [
      "haskell:ghci"
     ],
     "id": "",
     "name": "\"code\""
    }
   },
   "outputs": [
    {
     "data": {
      "text/plain": [
       "Just [\"827-9162\",\"943-2929\",\"493-2928\"]"
      ]
     },
     "metadata": {},
     "output_type": "display_data"
    }
   ],
   "source": [
    "Map.lookup \"patsy\" $ phoneBookToMap phoneBook"
   ]
  },
  {
   "cell_type": "markdown",
   "metadata": {},
   "source": [
    "Pretty neat! Another use case is if we're making a map from an\n",
    "association list of numbers and when a duplicate key is found, we want\n",
    "the biggest value for the key to be kept."
   ]
  },
  {
   "cell_type": "code",
   "execution_count": 157,
   "metadata": {
    "attributes": {
     "classes": [
      "haskell:ghci"
     ],
     "id": "",
     "name": "\"code\""
    }
   },
   "outputs": [
    {
     "data": {
      "text/plain": [
       "fromList [(2,100),(3,29),(4,22)]"
      ]
     },
     "metadata": {},
     "output_type": "display_data"
    }
   ],
   "source": [
    "Map.fromListWith max [(2,3),(2,5),(2,100),(3,29),(3,22),(3,11),(4,22),(4,15)]"
   ]
  },
  {
   "cell_type": "markdown",
   "metadata": {},
   "source": [
    "Or we could choose to add together values on the same keys."
   ]
  },
  {
   "cell_type": "code",
   "execution_count": 158,
   "metadata": {
    "attributes": {
     "classes": [
      "haskell:ghci"
     ],
     "id": "",
     "name": "\"code\""
    }
   },
   "outputs": [
    {
     "data": {
      "text/plain": [
       "fromList [(2,108),(3,62),(4,37)]"
      ]
     },
     "metadata": {},
     "output_type": "display_data"
    }
   ],
   "source": [
    "Map.fromListWith (+) [(2,3),(2,5),(2,100),(3,29),(3,22),(3,11),(4,22),(4,15)]"
   ]
  },
  {
   "cell_type": "markdown",
   "metadata": {},
   "source": [
    "__`insertWith`__ is to [`insert`](https://hackage.haskell.org/package/base/docs/Data-List.html#v:insert) what `fromListWith` is to [`fromList`](https://hackage.haskell.org/package/base/docs/Data-List-NonEmpty.html#v:fromList). It inserts a\n",
    "key-value pair into a map, but if that map already contains the key, it\n",
    "uses the function passed to it to determine what to do."
   ]
  },
  {
   "cell_type": "code",
   "execution_count": 159,
   "metadata": {
    "attributes": {
     "classes": [
      "haskell:ghci"
     ],
     "id": "",
     "name": "\"code\""
    }
   },
   "outputs": [
    {
     "data": {
      "text/plain": [
       "fromList [(3,104),(5,103),(6,339)]"
      ]
     },
     "metadata": {},
     "output_type": "display_data"
    }
   ],
   "source": [
    "Map.insertWith (+) 3 100 $ Map.fromList [(3,4),(5,103),(6,339)]"
   ]
  },
  {
   "cell_type": "markdown",
   "metadata": {},
   "source": [
    "These were just a few functions from `Data.Map`. You can see a complete\n",
    "list of functions in the\n",
    "[documentation](http://www.haskell.org/ghc/docs/latest/html/libraries/containers/Data-Map.html#v%3Aassocs).\n",
    "\n",
    "Data.Set\n",
    "--------\n",
    "\n",
    "<img src=\"img/legosets.png\" title=\"legosets\" style=\"background-color:white;float:right;margin-left:2em;\" />\n",
    "\n",
    "The `Data.Set` module offers us, well, sets. Like sets from mathematics.\n",
    "Sets are kind of like a cross between lists and maps. All the elements\n",
    "in a set are unique. And because they're internally implemented with\n",
    "trees (much like maps in `Data.Map`), they're ordered. Checking for\n",
    "membership, inserting, deleting, etc. is much faster than doing the same\n",
    "thing with lists. The most common operation when dealing with sets are\n",
    "inserting into a set, checking for membership and converting a set to a\n",
    "list.\n",
    "\n",
    "Because the names in `Data.Set` clash with a lot of [`Prelude`](https://hackage.haskell.org/package/base/docs/Prelude.html) and `Data.List`\n",
    "names, we do a qualified import.\n",
    "\n",
    "Put this import statement in a script:"
   ]
  },
  {
   "cell_type": "code",
   "execution_count": 160,
   "metadata": {
    "attributes": {
     "classes": [
      "haskell:ghci"
     ],
     "id": "",
     "name": "\"code\""
    }
   },
   "outputs": [],
   "source": [
    "import qualified Data.Set as Set"
   ]
  },
  {
   "cell_type": "markdown",
   "metadata": {},
   "source": [
    "And then load the script via GHCI.\n",
    "\n",
    "Let's say we have two pieces of text. We want to find out which\n",
    "characters were used in both of them."
   ]
  },
  {
   "cell_type": "code",
   "execution_count": 161,
   "metadata": {
    "attributes": {
     "classes": [
      "haskell:ghci"
     ],
     "id": "",
     "name": "\"code\""
    }
   },
   "outputs": [],
   "source": [
    "text1 = \"I just had an anime dream. Anime... Reality... Are they so different?\"\n",
    "text2 = \"The old man left his garbage can out and now his trash is all over my lawn!\""
   ]
  },
  {
   "cell_type": "markdown",
   "metadata": {},
   "source": [
    "The __[`fromList`](https://hackage.haskell.org/package/base/docs/Data-List-NonEmpty.html#v:fromList)__ function works much like you would expect. It takes a list\n",
    "and converts it into a set."
   ]
  },
  {
   "cell_type": "code",
   "execution_count": 162,
   "metadata": {
    "attributes": {
     "classes": [
      "haskell:ghci"
     ],
     "id": "",
     "name": "\"code\""
    }
   },
   "outputs": [],
   "source": [
    "let set1 = Set.fromList text1\n",
    "let set2 = Set.fromList text2"
   ]
  },
  {
   "cell_type": "code",
   "execution_count": 163,
   "metadata": {
    "attributes": {
     "classes": [
      "haskell:ghci"
     ],
     "id": "",
     "name": "\"code\""
    }
   },
   "outputs": [
    {
     "data": {
      "text/plain": [
       "fromList \" .?AIRadefhijlmnorstuy\""
      ]
     },
     "metadata": {},
     "output_type": "display_data"
    }
   ],
   "source": [
    "set1"
   ]
  },
  {
   "cell_type": "code",
   "execution_count": 164,
   "metadata": {
    "attributes": {
     "classes": [
      "haskell:ghci"
     ],
     "id": "",
     "name": "\"code\""
    }
   },
   "outputs": [
    {
     "data": {
      "text/plain": [
       "fromList \" !Tabcdefghilmnorstuvwy\""
      ]
     },
     "metadata": {},
     "output_type": "display_data"
    }
   ],
   "source": [
    "set2"
   ]
  },
  {
   "cell_type": "markdown",
   "metadata": {},
   "source": [
    "As you can see, the items are ordered and each element is unique. Now\n",
    "let's use the __`intersection`__ function to see which elements they both\n",
    "share."
   ]
  },
  {
   "cell_type": "code",
   "execution_count": 165,
   "metadata": {
    "attributes": {
     "classes": [
      "haskell:ghci"
     ],
     "id": "",
     "name": "\"code\""
    }
   },
   "outputs": [
    {
     "data": {
      "text/plain": [
       "fromList \" adefhilmnorstuy\""
      ]
     },
     "metadata": {},
     "output_type": "display_data"
    }
   ],
   "source": [
    "Set.intersection set1 set2"
   ]
  },
  {
   "cell_type": "markdown",
   "metadata": {},
   "source": [
    "We can use the __`difference`__ function to see which letters are in the first\n",
    "set but aren't in the second one and vice versa."
   ]
  },
  {
   "cell_type": "code",
   "execution_count": 166,
   "metadata": {
    "attributes": {
     "classes": [
      "haskell:ghci"
     ],
     "id": "",
     "name": "\"code\""
    }
   },
   "outputs": [
    {
     "data": {
      "text/plain": [
       "fromList \".?AIRj\""
      ]
     },
     "metadata": {},
     "output_type": "display_data"
    }
   ],
   "source": [
    "Set.difference set1 set2"
   ]
  },
  {
   "cell_type": "code",
   "execution_count": 167,
   "metadata": {
    "attributes": {
     "classes": [
      "haskell:ghci"
     ],
     "id": "",
     "name": "\"code\""
    }
   },
   "outputs": [
    {
     "data": {
      "text/plain": [
       "fromList \"!Tbcgvw\""
      ]
     },
     "metadata": {},
     "output_type": "display_data"
    }
   ],
   "source": [
    "Set.difference set2 set1"
   ]
  },
  {
   "cell_type": "markdown",
   "metadata": {},
   "source": [
    "Or we can see all the unique letters used in both sentences by using\n",
    "__[`union`](https://hackage.haskell.org/package/base/docs/Data-List.html#v:union)__."
   ]
  },
  {
   "cell_type": "code",
   "execution_count": 168,
   "metadata": {
    "attributes": {
     "classes": [
      "haskell:ghci"
     ],
     "id": "",
     "name": "\"code\""
    }
   },
   "outputs": [
    {
     "data": {
      "text/plain": [
       "fromList \" !.?AIRTabcdefghijlmnorstuvwy\""
      ]
     },
     "metadata": {},
     "output_type": "display_data"
    }
   ],
   "source": [
    "Set.union set1 set2"
   ]
  },
  {
   "cell_type": "markdown",
   "metadata": {},
   "source": [
    "The __[`null`](https://hackage.haskell.org/package/base/docs/Prelude.html#v:null)__, __`size`__, __`member`__, __[`empty`](https://hackage.haskell.org/package/base/docs/Control-Applicative.html#v:empty)__, __`singleton`__, __[`insert`](https://hackage.haskell.org/package/base/docs/Data-List.html#v:insert)__ and __[`delete`](https://hackage.haskell.org/package/base/docs/Data-List.html#v:delete)__ functions\n",
    "all work like you'd expect them to."
   ]
  },
  {
   "cell_type": "code",
   "execution_count": 169,
   "metadata": {
    "attributes": {
     "classes": [
      "haskell:ghci"
     ],
     "id": "",
     "name": "\"code\""
    }
   },
   "outputs": [
    {
     "data": {
      "text/plain": [
       "True"
      ]
     },
     "metadata": {},
     "output_type": "display_data"
    }
   ],
   "source": [
    "Set.null Set.empty"
   ]
  },
  {
   "cell_type": "code",
   "execution_count": 170,
   "metadata": {
    "attributes": {
     "classes": [
      "haskell:ghci"
     ],
     "id": "",
     "name": "\"code\""
    }
   },
   "outputs": [
    {
     "data": {
      "text/plain": [
       "False"
      ]
     },
     "metadata": {},
     "output_type": "display_data"
    }
   ],
   "source": [
    "Set.null $ Set.fromList [3,4,5,5,4,3]"
   ]
  },
  {
   "cell_type": "code",
   "execution_count": 171,
   "metadata": {
    "attributes": {
     "classes": [
      "haskell:ghci"
     ],
     "id": "",
     "name": "\"code\""
    }
   },
   "outputs": [
    {
     "data": {
      "text/plain": [
       "3"
      ]
     },
     "metadata": {},
     "output_type": "display_data"
    }
   ],
   "source": [
    "Set.size $ Set.fromList [3,4,5,3,4,5]"
   ]
  },
  {
   "cell_type": "code",
   "execution_count": 172,
   "metadata": {
    "attributes": {
     "classes": [
      "haskell:ghci"
     ],
     "id": "",
     "name": "\"code\""
    }
   },
   "outputs": [
    {
     "data": {
      "text/plain": [
       "fromList [9]"
      ]
     },
     "metadata": {},
     "output_type": "display_data"
    }
   ],
   "source": [
    "Set.singleton 9"
   ]
  },
  {
   "cell_type": "code",
   "execution_count": 173,
   "metadata": {
    "attributes": {
     "classes": [
      "haskell:ghci"
     ],
     "id": "",
     "name": "\"code\""
    }
   },
   "outputs": [
    {
     "data": {
      "text/plain": [
       "fromList [1,3,4,8,9]"
      ]
     },
     "metadata": {},
     "output_type": "display_data"
    }
   ],
   "source": [
    "Set.insert 4 $ Set.fromList [9,3,8,1]"
   ]
  },
  {
   "cell_type": "code",
   "execution_count": 174,
   "metadata": {
    "attributes": {
     "classes": [
      "haskell:ghci"
     ],
     "id": "",
     "name": "\"code\""
    }
   },
   "outputs": [
    {
     "data": {
      "text/plain": [
       "fromList [5,6,7,8,9,10]"
      ]
     },
     "metadata": {},
     "output_type": "display_data"
    }
   ],
   "source": [
    "Set.insert 8 $ Set.fromList [5..10]"
   ]
  },
  {
   "cell_type": "code",
   "execution_count": 175,
   "metadata": {
    "attributes": {
     "classes": [
      "haskell:ghci"
     ],
     "id": "",
     "name": "\"code\""
    }
   },
   "outputs": [
    {
     "data": {
      "text/plain": [
       "fromList [3,5]"
      ]
     },
     "metadata": {},
     "output_type": "display_data"
    }
   ],
   "source": [
    "Set.delete 4 $ Set.fromList [3,4,5,4,3,4,5]"
   ]
  },
  {
   "cell_type": "markdown",
   "metadata": {},
   "source": [
    "We can also check for subsets or proper subset. Set A is a subset of set\n",
    "B if B contains all the elements that A does. Set A is a proper subset\n",
    "of set B if B contains all the elements that A does but has more\n",
    "elements."
   ]
  },
  {
   "cell_type": "code",
   "execution_count": 176,
   "metadata": {
    "attributes": {
     "classes": [
      "haskell:ghci"
     ],
     "id": "",
     "name": "\"code\""
    }
   },
   "outputs": [
    {
     "data": {
      "text/plain": [
       "True"
      ]
     },
     "metadata": {},
     "output_type": "display_data"
    }
   ],
   "source": [
    "Set.fromList [2,3,4] `Set.isSubsetOf` Set.fromList [1,2,3,4,5]"
   ]
  },
  {
   "cell_type": "code",
   "execution_count": 177,
   "metadata": {
    "attributes": {
     "classes": [
      "haskell:ghci"
     ],
     "id": "",
     "name": "\"code\""
    }
   },
   "outputs": [
    {
     "data": {
      "text/plain": [
       "True"
      ]
     },
     "metadata": {},
     "output_type": "display_data"
    }
   ],
   "source": [
    "Set.fromList [1,2,3,4,5] `Set.isSubsetOf` Set.fromList [1,2,3,4,5]"
   ]
  },
  {
   "cell_type": "code",
   "execution_count": 178,
   "metadata": {
    "attributes": {
     "classes": [
      "haskell:ghci"
     ],
     "id": "",
     "name": "\"code\""
    }
   },
   "outputs": [
    {
     "data": {
      "text/plain": [
       "False"
      ]
     },
     "metadata": {},
     "output_type": "display_data"
    }
   ],
   "source": [
    "Set.fromList [1,2,3,4,5] `Set.isProperSubsetOf` Set.fromList [1,2,3,4,5]"
   ]
  },
  {
   "cell_type": "code",
   "execution_count": 179,
   "metadata": {
    "attributes": {
     "classes": [
      "haskell:ghci"
     ],
     "id": "",
     "name": "\"code\""
    }
   },
   "outputs": [
    {
     "data": {
      "text/plain": [
       "False"
      ]
     },
     "metadata": {},
     "output_type": "display_data"
    }
   ],
   "source": [
    "Set.fromList [2,3,4,8] `Set.isSubsetOf` Set.fromList [1,2,3,4,5]"
   ]
  },
  {
   "cell_type": "markdown",
   "metadata": {},
   "source": [
    "We can also __[`map`](https://hackage.haskell.org/package/base/docs/Prelude.html#v:map)__ over sets and __[`filter`](https://hackage.haskell.org/package/base/docs/Prelude.html#v:filter)__ them."
   ]
  },
  {
   "cell_type": "code",
   "execution_count": 180,
   "metadata": {
    "attributes": {
     "classes": [
      "haskell:ghci"
     ],
     "id": "",
     "name": "\"code\""
    }
   },
   "outputs": [
    {
     "data": {
      "text/plain": [
       "fromList [3,5,7]"
      ]
     },
     "metadata": {},
     "output_type": "display_data"
    }
   ],
   "source": [
    "Set.filter odd $ Set.fromList [3,4,5,6,7,2,3,4]"
   ]
  },
  {
   "cell_type": "code",
   "execution_count": 181,
   "metadata": {
    "attributes": {
     "classes": [
      "haskell:ghci"
     ],
     "id": "",
     "name": "\"code\""
    }
   },
   "outputs": [
    {
     "data": {
      "text/plain": [
       "fromList [3,4,5,6,7,8]"
      ]
     },
     "metadata": {},
     "output_type": "display_data"
    }
   ],
   "source": [
    "Set.map (+1) $ Set.fromList [3,4,5,6,7,2,3,4]"
   ]
  },
  {
   "cell_type": "markdown",
   "metadata": {},
   "source": [
    "Sets are often used to weed a list of duplicates from a list by first\n",
    "making it into a set with [`fromList`](https://hackage.haskell.org/package/base/docs/Data-List-NonEmpty.html#v:fromList) and then converting it back to a list\n",
    "with __[`toList`](https://hackage.haskell.org/package/base/docs/Data-Foldable.html#v:toList)__. The `Data.List` function [`nub`](https://hackage.haskell.org/package/base/docs/Data-List.html#v:nub) already does that, but weeding\n",
    "out duplicates for large lists is much faster if you cram them into a\n",
    "set and then convert them back to a list than using [`nub`](https://hackage.haskell.org/package/base/docs/Data-List.html#v:nub). But using [`nub`](https://hackage.haskell.org/package/base/docs/Data-List.html#v:nub)\n",
    "only requires the type of the list's elements to be part of the `Eq`\n",
    "typeclass, whereas if you want to cram elements into a set, the type of\n",
    "the list has to be in [`Ord`](https://hackage.haskell.org/package/base/docs/Prelude.html#t:Ord)."
   ]
  },
  {
   "cell_type": "code",
   "execution_count": 182,
   "metadata": {
    "attributes": {
     "classes": [
      "haskell:ghci"
     ],
     "id": "",
     "name": "\"code\""
    }
   },
   "outputs": [
    {
     "data": {
      "text/plain": [
       "\" ACEHIKLNRSTWY\""
      ]
     },
     "metadata": {},
     "output_type": "display_data"
    }
   ],
   "source": [
    "let setNub xs = Set.toList $ Set.fromList xs\n",
    "setNub \"HEY WHATS CRACKALACKIN\""
   ]
  },
  {
   "cell_type": "code",
   "execution_count": 183,
   "metadata": {
    "attributes": {
     "classes": [
      "haskell:ghci"
     ],
     "id": "",
     "name": "\"code\""
    }
   },
   "outputs": [
    {
     "data": {
      "text/plain": [
       "\"HEY WATSCRKLIN\""
      ]
     },
     "metadata": {},
     "output_type": "display_data"
    }
   ],
   "source": [
    "nub \"HEY WHATS CRACKALACKIN\""
   ]
  },
  {
   "cell_type": "markdown",
   "metadata": {},
   "source": [
    "`setNub` is generally faster than [`nub`](https://hackage.haskell.org/package/base/docs/Data-List.html#v:nub) on big lists but as you can see, [`nub`](https://hackage.haskell.org/package/base/docs/Data-List.html#v:nub)\n",
    "preserves the ordering of the list's elements, while `setNub` does not.\n",
    "\n",
    "Making our own modules\n",
    "----------------------\n",
    "\n",
    "<img src=\"img/making_modules.png\" title=\"making modules\" style=\"background-color:white;float:right;margin-left:2em;\" />\n",
    "\n",
    "We've looked at some cool modules so far, but how do we make our own\n",
    "module? Almost every programming language enables you to split your code\n",
    "up into several files and Haskell is no different. When making programs,\n",
    "it's good practice to take functions and types that work towards a\n",
    "similar purpose and put them in a module. That way, you can easily reuse\n",
    "those functions in other programs by just importing your module.\n",
    "\n",
    "Let's see how we can make our own modules by making a little module that\n",
    "provides some functions for calculating the volume and area of a few\n",
    "geometrical objects. We'll start by creating a file called `Geometry.hs`.\n",
    "\n",
    "We say that a module *exports* functions. What that means is that when I\n",
    "import a module, I can use the functions that it exports. It can define\n",
    "functions that its functions call internally, but we can only see and\n",
    "use the ones that it exports.\n",
    "\n",
    "At the beginning of a module, we specify the module name. If we have a\n",
    "file called `Geometry.hs`, then we should name our module `Geometry`. Then,\n",
    "we specify the functions that it exports and after that, we can start\n",
    "writing the functions. So we'll start with this."
   ]
  },
  {
   "cell_type": "markdown",
   "metadata": {},
   "source": [
    "<pre><code>module Geometry\n",
    "( sphereVolume\n",
    ", sphereArea\n",
    ", cubeVolume\n",
    ", cubeArea\n",
    ", cuboidArea\n",
    ", cuboidVolume\n",
    ") where</code></pre>"
   ]
  },
  {
   "cell_type": "markdown",
   "metadata": {},
   "source": [
    "As you can see, we'll be doing areas and volumes for spheres, cubes and\n",
    "cuboids. Let's go ahead and define our functions then:\n",
    "\n",
    "### `Geometry.hs`"
   ]
  },
  {
   "cell_type": "code",
   "execution_count": 184,
   "metadata": {
    "attributes": {
     "classes": [
      "haskell:ghci"
     ],
     "id": "",
     "name": "\"code\""
    }
   },
   "outputs": [],
   "source": [
    "module Geometry\n",
    "( sphereVolume\n",
    ", sphereArea\n",
    ", cubeVolume\n",
    ", cubeArea\n",
    ", cuboidArea\n",
    ", cuboidVolume\n",
    ") where\n",
    "\n",
    "sphereVolume :: Float -> Float\n",
    "sphereVolume radius = (4.0 / 3.0) * pi * (radius ^ 3)\n",
    "\n",
    "sphereArea :: Float -> Float\n",
    "sphereArea radius = 4 * pi * (radius ^ 2)\n",
    "\n",
    "cubeVolume :: Float -> Float\n",
    "cubeVolume side = cuboidVolume side side side\n",
    "\n",
    "cubeArea :: Float -> Float\n",
    "cubeArea side = cuboidArea side side side\n",
    "\n",
    "cuboidVolume :: Float -> Float -> Float -> Float\n",
    "cuboidVolume a b c = rectangleArea a b * c\n",
    "\n",
    "cuboidArea :: Float -> Float -> Float -> Float\n",
    "cuboidArea a b c = rectangleArea a b * 2 + rectangleArea a c * 2 + rectangleArea c b * 2\n",
    "\n",
    "rectangleArea :: Float -> Float -> Float\n",
    "rectangleArea a b = a * b"
   ]
  },
  {
   "cell_type": "markdown",
   "metadata": {},
   "source": [
    "Pretty standard geometry right here. There are a few things to take note\n",
    "of though. Because a cube is only a special case of a cuboid, we defined\n",
    "its area and volume by treating it as a cuboid whose sides are all of\n",
    "the same length. We also defined a helper function called `rectangleArea`,\n",
    "which calculates a rectangle's area based on the lengths of its sides.\n",
    "It's rather trivial because it's just multiplication. Notice that we\n",
    "used it in our functions in the module (namely `cuboidArea` and\n",
    "`cuboidVolume`) but we didn't export it! Because we want our module to\n",
    "just present functions for dealing with three dimensional objects, we\n",
    "used `rectangleArea` but we didn't export it.\n",
    "\n",
    "When making a module, we usually export only those functions that act as\n",
    "a sort of interface to our module so that the implementation is hidden.\n",
    "If someone is using our `Geometry` module, they don't have to concern\n",
    "themselves with functions that we don't export. We can decide to change\n",
    "those functions completely or delete them in a newer version (we could\n",
    "delete `rectangleArea` and just use [`*`](https://hackage.haskell.org/package/base/docs/Prelude.html#v:-42-) instead) and no one will mind\n",
    "because we weren't exporting them in the first place.\n",
    "\n",
    "To use our module, we just do:"
   ]
  },
  {
   "cell_type": "code",
   "execution_count": 185,
   "metadata": {
    "attributes": {
     "classes": [
      "haskell:ghci"
     ],
     "id": "",
     "name": "\"code\""
    }
   },
   "outputs": [],
   "source": [
    "import Geometry"
   ]
  },
  {
   "cell_type": "markdown",
   "metadata": {},
   "source": [
    "`Geometry.hs` has to be in the same folder that the program that's\n",
    "importing it is in, though.\n",
    "\n",
    "Modules can also be given a hierarchical structures. Each module can\n",
    "have a number of sub-modules and they can have sub-modules of their own.\n",
    "Let's section these functions off so that `Geometry` is a module that has\n",
    "three sub-modules, one for each type of object.\n",
    "\n",
    "First, we'll make a folder called `Geometry`. Mind the capital G. In it,\n",
    "we'll place three files: `Sphere.hs`, `Cuboid.hs`, and `Cube.hs`. Here's what\n",
    "the files will contain:\n",
    "\n",
    "### `Sphere.hs`"
   ]
  },
  {
   "cell_type": "code",
   "execution_count": 186,
   "metadata": {
    "attributes": {
     "classes": [
      "haskell:ghci"
     ],
     "id": "",
     "name": "\"code\""
    }
   },
   "outputs": [],
   "source": [
    "module Geometry.Sphere\n",
    "( volume\n",
    ", area\n",
    ") where\n",
    "\n",
    "volume :: Float -> Float\n",
    "volume radius = (4.0 / 3.0) * pi * (radius ^ 3)\n",
    "\n",
    "area :: Float -> Float\n",
    "area radius = 4 * pi * (radius ^ 2)"
   ]
  },
  {
   "cell_type": "markdown",
   "metadata": {},
   "source": [
    "### `Cuboid.hs`"
   ]
  },
  {
   "cell_type": "code",
   "execution_count": 187,
   "metadata": {
    "attributes": {
     "classes": [
      "haskell:ghci"
     ],
     "id": "",
     "name": "\"code\""
    }
   },
   "outputs": [],
   "source": [
    "module Geometry.Cuboid\n",
    "( volume\n",
    ", area\n",
    ") where\n",
    "\n",
    "volume :: Float -> Float -> Float -> Float\n",
    "volume a b c = rectangleArea a b * c\n",
    "\n",
    "area :: Float -> Float -> Float -> Float\n",
    "area a b c = rectangleArea a b * 2 + rectangleArea a c * 2 + rectangleArea c b * 2\n",
    "\n",
    "rectangleArea :: Float -> Float -> Float\n",
    "rectangleArea a b = a * b"
   ]
  },
  {
   "cell_type": "markdown",
   "metadata": {},
   "source": [
    "### `Cube.hs`"
   ]
  },
  {
   "cell_type": "code",
   "execution_count": 188,
   "metadata": {
    "attributes": {
     "classes": [
      "haskell:ghci"
     ],
     "id": "",
     "name": "\"code\""
    }
   },
   "outputs": [],
   "source": [
    "module Geometry.Cube\n",
    "( volume\n",
    ", area\n",
    ") where\n",
    "\n",
    "import qualified Geometry.Cuboid as Cuboid\n",
    "\n",
    "volume :: Float -> Float\n",
    "volume side = Cuboid.volume side side side\n",
    "\n",
    "area :: Float -> Float\n",
    "area side = Cuboid.area side side side"
   ]
  },
  {
   "cell_type": "markdown",
   "metadata": {},
   "source": [
    "Alright! So first is `Geometry.Sphere`. Notice how we placed it in a\n",
    "folder called `Geometry` and then defined the module name as\n",
    "`Geometry.Sphere`. We did the same for the cuboid. Also notice how in all\n",
    "three sub-modules, we defined functions with the same names. We can do\n",
    "this because they're separate modules. We want to use functions from\n",
    "`Geometry.Cuboid` in `Geometry.Cube` but we can't just straight up do\n",
    "`import Geometry.Cuboid` because it exports functions with the same names as\n",
    "`Geometry.Cube`. That's why we do a qualified import and all is well.\n",
    "\n",
    "So now if we're in a file that's on the same level as the `Geometry`\n",
    "folder, we can do, say:"
   ]
  },
  {
   "cell_type": "code",
   "execution_count": 189,
   "metadata": {
    "attributes": {
     "classes": [
      "haskell:ghci"
     ],
     "id": "",
     "name": "\"code\""
    }
   },
   "outputs": [],
   "source": [
    "import Geometry.Sphere"
   ]
  },
  {
   "cell_type": "markdown",
   "metadata": {},
   "source": [
    "And then we can call `area` and `volume` and they'll give us the area and\n",
    "volume for a sphere. And if we want to juggle two or more of these\n",
    "modules, we have to do qualified imports because they export functions\n",
    "with the same names. So we just do something like:"
   ]
  },
  {
   "cell_type": "code",
   "execution_count": 190,
   "metadata": {
    "attributes": {
     "classes": [
      "haskell:ghci"
     ],
     "id": "",
     "name": "\"code\""
    }
   },
   "outputs": [],
   "source": [
    "import qualified Geometry.Sphere as Sphere\n",
    "import qualified Geometry.Cuboid as Cuboid\n",
    "import qualified Geometry.Cube as Cube"
   ]
  },
  {
   "cell_type": "markdown",
   "metadata": {},
   "source": [
    "And then we can call `Sphere.area`, `Sphere.volume`, `Cuboid.area`, etc. and\n",
    "each will calculate the area or volume for their corresponding object.\n",
    "\n",
    "The next time you find yourself writing a file that's really big and has\n",
    "a lot of functions, try to see which functions serve some common purpose\n",
    "and then see if you can put them in their own module. You'll be able to\n",
    "just import your module the next time you're writing a program that\n",
    "requires some of the same functionality."
   ]
  }
 ],
 "metadata": {
  "kernelspec": {
   "display_name": "Haskell",
   "language": "haskell",
   "name": "haskell"
  },
  "language_info": {
   "codemirror_mode": "ihaskell",
   "file_extension": ".hs",
   "mimetype": "text/x-haskell",
   "name": "haskell",
   "pygments_lexer": "Haskell",
   "version": "9.2.5"
  }
 },
 "nbformat": 4,
 "nbformat_minor": 4
}
