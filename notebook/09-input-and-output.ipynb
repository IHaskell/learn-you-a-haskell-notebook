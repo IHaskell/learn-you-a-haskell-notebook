{
 "cells": [
  {
   "cell_type": "markdown",
   "metadata": {},
   "source": [
    "Input and Output\n",
    "================\n",
    "\n",
    "<img src=\"img/dognap.png\" title=\"poor dog\" style=\"background-color:white;float:right;margin-left:2em;\" />\n",
    "\n",
    "We've mentioned that Haskell is a purely functional language. Whereas in\n",
    "imperative languages you usually get things done by giving the computer\n",
    "a series of steps to execute, functional programming is more of defining\n",
    "what stuff is. In Haskell, a function can't change some state, like\n",
    "changing the contents of a variable (when a function changes state, we\n",
    "say that the function has *side-effects*). The only thing a function can\n",
    "do in Haskell is give us back some result based on the parameters we\n",
    "gave it. If a function is called two times with the same parameters, it\n",
    "has to return the same result. While this may seem a bit limiting when\n",
    "you're coming from an imperative world, we've seen that it's actually\n",
    "really cool. In an imperative language, you have no guarantee that a\n",
    "simple function that should just crunch some numbers won't burn down\n",
    "your house, kidnap your dog and scratch your car with a potato while\n",
    "crunching those numbers. For instance, when we were making a binary\n",
    "search tree, we didn't insert an element into a tree by modifying some\n",
    "tree in place. Our function for inserting into a binary search tree\n",
    "actually returned a new tree, because it can't change the old one.\n",
    "\n",
    "While functions being unable to change state is good because it helps us\n",
    "reason about our programs, there's one problem with that. If a function\n",
    "can't change anything in the world, how is it supposed to tell us what\n",
    "it calculated? In order to tell us what it calculated, it has to change\n",
    "the state of an output device (usually the state of the screen), which\n",
    "then emits photons that travel to our brain and change the state of our\n",
    "mind, man.\n",
    "\n",
    "Do not despair, all is not lost. It turns out that Haskell actually has\n",
    "a really clever system for dealing with functions that have side-effects\n",
    "that neatly separates the part of our program that is pure and the part\n",
    "of our program that is impure, which does all the dirty work like\n",
    "talking to the keyboard and the screen. With those two parts separated,\n",
    "we can still reason about our pure program and take advantage of all the\n",
    "things that purity offers, like laziness, robustness and modularity\n",
    "while efficiently communicating with the outside world."
   ]
  },
  {
   "cell_type": "markdown",
   "metadata": {},
   "source": [
    "> __Jupyter Note:__ We'll turn off the [automatic linting for IHaskell](https://github.com/IHaskell/IHaskell/wiki#opt-no-lint) first."
   ]
  },
  {
   "cell_type": "code",
   "execution_count": 1,
   "metadata": {
    "attributes": {
     "classes": [
      "haskell:hs"
     ],
     "id": "",
     "name": "\"code\""
    }
   },
   "outputs": [],
   "source": [
    ":opt no-lint"
   ]
  },
  {
   "cell_type": "markdown",
   "metadata": {
    "attributes": {
     "classes": [
      "haskell:hs"
     ],
     "id": "",
     "name": "\"code\""
    }
   },
   "source": [
    "> __Jupyter Note:__ About the following functions.\n",
    ">\n",
    "> `withStdin` takes a string and runs an [`IO`](https://hackage.haskell.org/package/base/docs/Prelude.html#t:IO) action with that string as the standard input.\n",
    "This is for simulating an interactive command line environment for programs. Inspired by [Test.Main.withStdin](http://hackage.haskell.org/package/main-tester-0.2.0.1/docs/src/Test.Main.html#withStdin).\n",
    "> The original book instructs the reader to run interactive programs from a shell command line, but those instructions don't work in a Jupyter notebook environment\n",
    "> because we want to be able to run the notebook from beginning to end without waiting for user interaction. The programs in this chapter can still be run\n",
    "> interactively in the notebook, but if a program doesn't terminate, you will have to <kbd>⭮</kbd> Restart the kernel.\n",
    ">\n",
    "> `catchPrint` catches an exception and prints it to standard output. We use this because Jupyter won't show us the output of a program if the program throws an exception. We want to see both the output and the exception."
   ]
  },
  {
   "cell_type": "code",
   "execution_count": 2,
   "metadata": {
    "attributes": {
     "classes": [
      "haskell:hs"
     ],
     "id": "",
     "name": "\"code\""
    }
   },
   "outputs": [],
   "source": [
    "import System.IO\n",
    "import GHC.IO.Handle\n",
    "import Control.Exception\n",
    "import System.Directory\n",
    "\n",
    "withStdin :: String -> IO a -> IO a\n",
    "withStdin s action = do\n",
    "    writeFile \"stdin.txt\" s\n",
    "    finally\n",
    "        (bracket \n",
    "            (openFile \"stdin.txt\" ReadWriteMode)\n",
    "            hClose\n",
    "            (\\h -> do\n",
    "                  stdin' <- hDuplicate stdin\n",
    "                  hDuplicateTo h stdin\n",
    "                  finally action (hDuplicateTo stdin' stdin)            \n",
    "            )\n",
    "        )\n",
    "        (removeFile \"stdin.txt\")\n",
    "\n",
    "catchPrint = flip catch p where\n",
    "    p :: SomeException -> IO ()\n",
    "    p = print"
   ]
  },
  {
   "cell_type": "markdown",
   "metadata": {},
   "source": [
    "Hello, world!\n",
    "-------------\n",
    "\n",
    "<img src=\"img/helloworld.png\" title=\"HELLO!\" style=\"background-color:white;float:left;margin-right:2em;\" />\n",
    "\n",
    "Up until now, we've always loaded our functions into GHCI to test them\n",
    "out and play with them. We've also explored the standard library\n",
    "functions that way. But now, after eight or so chapters, we're finally\n",
    "going to write our first *real* Haskell program! Yay! And sure enough,\n",
    "we're going to do the good old `\"hello, world\"` schtick."
   ]
  },
  {
   "cell_type": "code",
   "execution_count": 3,
   "metadata": {
    "attributes": {
     "classes": [
      "haskell:hs"
     ],
     "id": "",
     "name": "\"code\""
    }
   },
   "outputs": [],
   "source": [
    "main = putStrLn \"hello, world\""
   ]
  },
  {
   "cell_type": "code",
   "execution_count": 4,
   "metadata": {
    "attributes": {
     "classes": [
      "haskell:hs"
     ],
     "id": "",
     "name": "\"code\""
    }
   },
   "outputs": [
    {
     "data": {
      "text/plain": [
       "hello, world"
      ]
     },
     "metadata": {},
     "output_type": "display_data"
    }
   ],
   "source": [
    "main"
   ]
  },
  {
   "cell_type": "markdown",
   "metadata": {},
   "source": [
    "We just defined a name called `main` and in it we call a function called\n",
    "[`putStrLn`](https://hackage.haskell.org/package/base/docs/Prelude.html#v:putStrLn) with the parameter `\"hello, world\"`. Looks pretty much run of the\n",
    "mill, but it isn't, as we'll see in just a few moments."
   ]
  },
  {
   "cell_type": "markdown",
   "metadata": {},
   "source": [
    "Let's examine what we wrote. First, let's look at the type of the\n",
    "function [`putStrLn`](https://hackage.haskell.org/package/base/docs/Prelude.html#v:putStrLn)."
   ]
  },
  {
   "cell_type": "code",
   "execution_count": 5,
   "metadata": {
    "attributes": {
     "classes": [
      "haskell:hs"
     ],
     "id": "",
     "name": "\"code\""
    }
   },
   "outputs": [
    {
     "data": {
      "text/html": [
       "<style>/* Styles used for the Hoogle display in the pager */\n",
       ".hoogle-doc {\n",
       "display: block;\n",
       "padding-bottom: 1.3em;\n",
       "padding-left: 0.4em;\n",
       "}\n",
       ".hoogle-code {\n",
       "display: block;\n",
       "font-family: monospace;\n",
       "white-space: pre;\n",
       "}\n",
       ".hoogle-text {\n",
       "display: block;\n",
       "}\n",
       ".hoogle-name {\n",
       "color: green;\n",
       "font-weight: bold;\n",
       "}\n",
       ".hoogle-head {\n",
       "font-weight: bold;\n",
       "}\n",
       ".hoogle-sub {\n",
       "display: block;\n",
       "margin-left: 0.4em;\n",
       "}\n",
       ".hoogle-package {\n",
       "font-weight: bold;\n",
       "font-style: italic;\n",
       "}\n",
       ".hoogle-module {\n",
       "font-weight: bold;\n",
       "}\n",
       ".hoogle-class {\n",
       "font-weight: bold;\n",
       "}\n",
       ".get-type {\n",
       "color: green;\n",
       "font-weight: bold;\n",
       "font-family: monospace;\n",
       "display: block;\n",
       "white-space: pre-wrap;\n",
       "}\n",
       ".show-type {\n",
       "color: green;\n",
       "font-weight: bold;\n",
       "font-family: monospace;\n",
       "margin-left: 1em;\n",
       "}\n",
       ".mono {\n",
       "font-family: monospace;\n",
       "display: block;\n",
       "}\n",
       ".err-msg {\n",
       "color: red;\n",
       "font-style: italic;\n",
       "font-family: monospace;\n",
       "white-space: pre;\n",
       "display: block;\n",
       "}\n",
       "#unshowable {\n",
       "color: red;\n",
       "font-weight: bold;\n",
       "}\n",
       ".err-msg.in.collapse {\n",
       "padding-top: 0.7em;\n",
       "}\n",
       ".highlight-code {\n",
       "white-space: pre;\n",
       "font-family: monospace;\n",
       "}\n",
       ".suggestion-warning { \n",
       "font-weight: bold;\n",
       "color: rgb(200, 130, 0);\n",
       "}\n",
       ".suggestion-error { \n",
       "font-weight: bold;\n",
       "color: red;\n",
       "}\n",
       ".suggestion-name {\n",
       "font-weight: bold;\n",
       "}\n",
       "</style><span class='get-type'>putStrLn :: String -> IO ()</span>"
      ],
      "text/plain": [
       "putStrLn :: String -> IO ()"
      ]
     },
     "metadata": {},
     "output_type": "display_data"
    }
   ],
   "source": [
    ":t putStrLn"
   ]
  },
  {
   "cell_type": "code",
   "execution_count": 6,
   "metadata": {
    "attributes": {
     "classes": [
      "haskell:hs"
     ],
     "id": "",
     "name": "\"code\""
    }
   },
   "outputs": [
    {
     "data": {
      "text/html": [
       "<style>/* Styles used for the Hoogle display in the pager */\n",
       ".hoogle-doc {\n",
       "display: block;\n",
       "padding-bottom: 1.3em;\n",
       "padding-left: 0.4em;\n",
       "}\n",
       ".hoogle-code {\n",
       "display: block;\n",
       "font-family: monospace;\n",
       "white-space: pre;\n",
       "}\n",
       ".hoogle-text {\n",
       "display: block;\n",
       "}\n",
       ".hoogle-name {\n",
       "color: green;\n",
       "font-weight: bold;\n",
       "}\n",
       ".hoogle-head {\n",
       "font-weight: bold;\n",
       "}\n",
       ".hoogle-sub {\n",
       "display: block;\n",
       "margin-left: 0.4em;\n",
       "}\n",
       ".hoogle-package {\n",
       "font-weight: bold;\n",
       "font-style: italic;\n",
       "}\n",
       ".hoogle-module {\n",
       "font-weight: bold;\n",
       "}\n",
       ".hoogle-class {\n",
       "font-weight: bold;\n",
       "}\n",
       ".get-type {\n",
       "color: green;\n",
       "font-weight: bold;\n",
       "font-family: monospace;\n",
       "display: block;\n",
       "white-space: pre-wrap;\n",
       "}\n",
       ".show-type {\n",
       "color: green;\n",
       "font-weight: bold;\n",
       "font-family: monospace;\n",
       "margin-left: 1em;\n",
       "}\n",
       ".mono {\n",
       "font-family: monospace;\n",
       "display: block;\n",
       "}\n",
       ".err-msg {\n",
       "color: red;\n",
       "font-style: italic;\n",
       "font-family: monospace;\n",
       "white-space: pre;\n",
       "display: block;\n",
       "}\n",
       "#unshowable {\n",
       "color: red;\n",
       "font-weight: bold;\n",
       "}\n",
       ".err-msg.in.collapse {\n",
       "padding-top: 0.7em;\n",
       "}\n",
       ".highlight-code {\n",
       "white-space: pre;\n",
       "font-family: monospace;\n",
       "}\n",
       ".suggestion-warning { \n",
       "font-weight: bold;\n",
       "color: rgb(200, 130, 0);\n",
       "}\n",
       ".suggestion-error { \n",
       "font-weight: bold;\n",
       "color: red;\n",
       "}\n",
       ".suggestion-name {\n",
       "font-weight: bold;\n",
       "}\n",
       "</style><span class='get-type'>putStrLn \"hello, world\" :: IO ()</span>"
      ],
      "text/plain": [
       "putStrLn \"hello, world\" :: IO ()"
      ]
     },
     "metadata": {},
     "output_type": "display_data"
    }
   ],
   "source": [
    ":t putStrLn \"hello, world\""
   ]
  },
  {
   "cell_type": "markdown",
   "metadata": {},
   "source": [
    "We can read the type of [`putStrLn`](https://hackage.haskell.org/package/base/docs/Prelude.html#v:putStrLn) like this: [`putStrLn`](https://hackage.haskell.org/package/base/docs/Prelude.html#v:putStrLn) takes a string and\n",
    "returns an *I/O action* that has a result type of `()` (i.e. the empty\n",
    "tuple, also know as unit). An I/O action is something that, when\n",
    "performed, will carry out an action with a side-effect (that's usually\n",
    "either reading from the input or printing stuff to the screen) and will\n",
    "also contain some kind of return value inside it. Printing a string to\n",
    "the terminal doesn't really have any kind of meaningful return value, so\n",
    "a dummy value of `()` is used.\n",
    "\n",
    "> The empty tuple is a value of `()` and it also has a type of `()`.\n",
    "\n",
    "So, when will an I/O action be performed? Well, this is where `main` comes\n",
    "in. An I/O action will be performed when we give it a name of `main` and\n",
    "then run our program.\n",
    "\n",
    "Having your whole program be just one I/O action seems kind of limiting.\n",
    "That's why we can use *do* syntax to glue together several I/O actions\n",
    "into one. Take a look at the following example:"
   ]
  },
  {
   "cell_type": "code",
   "execution_count": 7,
   "metadata": {
    "attributes": {
     "classes": [
      "haskell:hs"
     ],
     "id": "",
     "name": "\"code\""
    }
   },
   "outputs": [],
   "source": [
    "main = do\n",
    "    putStrLn \"Hello, what's your name?\"\n",
    "    name <- getLine\n",
    "    putStrLn (\"Hey \" ++ name ++ \", you rock!\")"
   ]
  },
  {
   "cell_type": "markdown",
   "metadata": {},
   "source": [
    "Ah, interesting, new syntax! And this reads pretty much like an\n",
    "imperative program. If you compile it and try it out, it will probably\n",
    "behave just like you expect it to. Notice that we said *do* and then we\n",
    "laid out a series of steps, like we would in an imperative program. Each\n",
    "of these steps is an I/O action. By putting them together with *do*\n",
    "syntax, we glued them into one I/O action. The action that we got has a\n",
    "type of `IO ()`, because that's the type of the last I/O action inside.\n",
    "\n",
    "Because of that, `main` always has a type signature of\n",
    "`main :: IO <something>`,\n",
    "where `<something>` is some concrete type. By convention, we\n",
    "don't usually specify a type declaration for `main`.\n",
    "\n",
    "An interesting thing that we haven't met before is the third line, which\n",
    "states `name <- getLine`. It looks like it reads a line from the input\n",
    "and stores it into a variable called `name`. Does it really? Well, let's\n",
    "examine the type of [`getLine`](https://hackage.haskell.org/package/base/docs/Prelude.html#v:getLine)."
   ]
  },
  {
   "cell_type": "code",
   "execution_count": 8,
   "metadata": {
    "attributes": {
     "classes": [
      "haskell:hs"
     ],
     "id": "",
     "name": "\"code\""
    }
   },
   "outputs": [
    {
     "data": {
      "text/html": [
       "<style>/* Styles used for the Hoogle display in the pager */\n",
       ".hoogle-doc {\n",
       "display: block;\n",
       "padding-bottom: 1.3em;\n",
       "padding-left: 0.4em;\n",
       "}\n",
       ".hoogle-code {\n",
       "display: block;\n",
       "font-family: monospace;\n",
       "white-space: pre;\n",
       "}\n",
       ".hoogle-text {\n",
       "display: block;\n",
       "}\n",
       ".hoogle-name {\n",
       "color: green;\n",
       "font-weight: bold;\n",
       "}\n",
       ".hoogle-head {\n",
       "font-weight: bold;\n",
       "}\n",
       ".hoogle-sub {\n",
       "display: block;\n",
       "margin-left: 0.4em;\n",
       "}\n",
       ".hoogle-package {\n",
       "font-weight: bold;\n",
       "font-style: italic;\n",
       "}\n",
       ".hoogle-module {\n",
       "font-weight: bold;\n",
       "}\n",
       ".hoogle-class {\n",
       "font-weight: bold;\n",
       "}\n",
       ".get-type {\n",
       "color: green;\n",
       "font-weight: bold;\n",
       "font-family: monospace;\n",
       "display: block;\n",
       "white-space: pre-wrap;\n",
       "}\n",
       ".show-type {\n",
       "color: green;\n",
       "font-weight: bold;\n",
       "font-family: monospace;\n",
       "margin-left: 1em;\n",
       "}\n",
       ".mono {\n",
       "font-family: monospace;\n",
       "display: block;\n",
       "}\n",
       ".err-msg {\n",
       "color: red;\n",
       "font-style: italic;\n",
       "font-family: monospace;\n",
       "white-space: pre;\n",
       "display: block;\n",
       "}\n",
       "#unshowable {\n",
       "color: red;\n",
       "font-weight: bold;\n",
       "}\n",
       ".err-msg.in.collapse {\n",
       "padding-top: 0.7em;\n",
       "}\n",
       ".highlight-code {\n",
       "white-space: pre;\n",
       "font-family: monospace;\n",
       "}\n",
       ".suggestion-warning { \n",
       "font-weight: bold;\n",
       "color: rgb(200, 130, 0);\n",
       "}\n",
       ".suggestion-error { \n",
       "font-weight: bold;\n",
       "color: red;\n",
       "}\n",
       ".suggestion-name {\n",
       "font-weight: bold;\n",
       "}\n",
       "</style><span class='get-type'>getLine :: IO String</span>"
      ],
      "text/plain": [
       "getLine :: IO String"
      ]
     },
     "metadata": {},
     "output_type": "display_data"
    }
   ],
   "source": [
    ":t getLine"
   ]
  },
  {
   "cell_type": "markdown",
   "metadata": {},
   "source": [
    "<img src=\"img/luggage.png\" title=\"luggage\" style=\"background-color:white;float:left;margin-right:2em;\" />\n",
    "\n",
    "Aha, o-kay. __[`getLine`](https://hackage.haskell.org/package/base/docs/Prelude.html#v:getLine)__ is an I/O action that contains a result type of\n",
    "[`String`](https://hackage.haskell.org/package/base/docs/Prelude.html#t:String). That makes sense, because it will wait for the user to input\n",
    "something at the terminal and then that something will be represented as\n",
    "a string. So what's up with `name <- getLine` then? You can read that\n",
    "piece of code like this: *perform the I/O action [`getLine`](https://hackage.haskell.org/package/base/docs/Prelude.html#v:getLine) and then bind\n",
    "its result value to `name`*. [`getLine`](https://hackage.haskell.org/package/base/docs/Prelude.html#v:getLine) has a type of `IO String`, so `name` will\n",
    "have a type of [`String`](https://hackage.haskell.org/package/base/docs/Prelude.html#t:String). You can think of an I/O action as a box with\n",
    "little feet that will go out into the real world and do something there\n",
    "(like write some graffiti on a wall) and maybe bring back some data.\n",
    "Once it's fetched that data for you, the only way to open the box and\n",
    "get the data inside it is to use the `<-` construct. And if we're taking\n",
    "data out of an I/O action, we can only take it out when we're inside\n",
    "another I/O action. This is how Haskell manages to neatly separate the\n",
    "pure and impure parts of our code. [`getLine`](https://hackage.haskell.org/package/base/docs/Prelude.html#v:getLine) is in a sense impure because\n",
    "its result value is not guaranteed to be the same when performed twice.\n",
    "That's why it's sort of *tainted* with the [`IO`](https://hackage.haskell.org/package/base/docs/Prelude.html#t:IO) type constructor and we\n",
    "can only get that data out in I/O code. And because I/O code is tainted\n",
    "too, any computation that depends on tainted I/O data will have a\n",
    "tainted result.\n",
    "\n",
    "When I say *tainted*, I don't mean tainted in such a way that we can\n",
    "never use the result contained in an I/O action ever again in pure code.\n",
    "No, we temporarily *un-taint* the data inside an I/O action when we bind\n",
    "it to a name. When we do `name <- getLine`, `name` is just a normal string,\n",
    "because it represents what's inside the box. We can have a really\n",
    "complicated function that, say, takes your name (a normal string) as a\n",
    "parameter and tells you your fortune and your whole life's future based\n",
    "on your name. We can do this:"
   ]
  },
  {
   "cell_type": "markdown",
   "metadata": {
    "attributes": {
     "classes": [
      "haskell:hs"
     ],
     "id": "",
     "name": "\"code\""
    }
   },
   "source": [
    "<pre><code>main = do\n",
    "    putStrLn \"Hello, what's your name?\"\n",
    "    name <- getLine\n",
    "    putStrLn $ \"Read this carefully, because this is your future: \" ++ tellFortune name</code></pre>"
   ]
  },
  {
   "cell_type": "markdown",
   "metadata": {},
   "source": [
    "and `tellFortune` (or any of the functions it passes `name` to) doesn't have\n",
    "to know anything about I/O, it's just a normal `String -> String`\n",
    "function!\n",
    "\n",
    "Take a look at this piece of code. Is it valid?"
   ]
  },
  {
   "cell_type": "markdown",
   "metadata": {
    "attributes": {
     "classes": [
      "haskell:hs"
     ],
     "id": "",
     "name": "\"code\""
    }
   },
   "source": [
    "<pre><code>nameTag = \"Hello, my name is \" ++ getLine</code></pre>"
   ]
  },
  {
   "cell_type": "markdown",
   "metadata": {},
   "source": [
    "If you said no, go eat a cookie. If you said yes, drink a bowl of molten\n",
    "lava. Just kidding, don't! The reason that this doesn't work is that [`++`](https://hackage.haskell.org/package/base/docs/Prelude.html#v:-43--43-)\n",
    "requires both its parameters to be lists over the same type. The left\n",
    "parameter has a type of [`String`](https://hackage.haskell.org/package/base/docs/Prelude.html#t:String) (or `[Char]` if you will), whilst [`getLine`](https://hackage.haskell.org/package/base/docs/Prelude.html#v:getLine)\n",
    "has a type of `IO String`. You can't concatenate a string and an I/O\n",
    "action. We first have to get the result out of the I/O action to get a\n",
    "value of type [`String`](https://hackage.haskell.org/package/base/docs/Prelude.html#t:String) and the only way to do that is to say something\n",
    "like `name <- getLine` inside some other I/O action. If we want to deal\n",
    "with impure data, we have to do it in an impure environment. So the\n",
    "taint of impurity spreads around much like the undead scourge and it's\n",
    "in our best interest to keep the I/O parts of our code as small as\n",
    "possible.\n",
    "\n",
    "Every I/O action that gets performed has a result encapsulated within\n",
    "it. That's why our previous example program could also have been written\n",
    "like this:"
   ]
  },
  {
   "cell_type": "markdown",
   "metadata": {
    "attributes": {
     "classes": [
      "haskell:hs"
     ],
     "id": "",
     "name": "\"code\""
    }
   },
   "source": [
    "<pre><code>main = do\n",
    "    foo <- putStrLn \"Hello, what's your name?\"\n",
    "    name <- getLine\n",
    "    putStrLn (\"Hey \" ++ name ++ \", you rock!\")</code></pre>"
   ]
  },
  {
   "cell_type": "markdown",
   "metadata": {},
   "source": [
    "However, `foo` would just have a value of `()`, so doing that would be kind\n",
    "of moot. Notice that we didn't bind the last [`putStrLn`](https://hackage.haskell.org/package/base/docs/Prelude.html#v:putStrLn) to anything.\n",
    "That's because in a *do* block, *the last action cannot be bound to a\n",
    "name* like the first two were. We'll see exactly why that is so a bit\n",
    "later when we venture off into the world of monads. For now, you can\n",
    "think of it in the way that the *do* block automatically extracts the\n",
    "value from the last action and binds it to its own result.\n",
    "\n",
    "Except for the last line, every line in a *do* block that doesn't bind\n",
    "can also be written with a bind. So `putStrLn \"BLAH\"` can be written as\n",
    "`_ <- putStrLn \"BLAH\"`. But that's useless, so we leave out the `<-` for I/O\n",
    "actions that don't contain an important result, like `putStrLn <something>`.\n",
    "\n",
    "Beginners sometimes think that doing"
   ]
  },
  {
   "cell_type": "markdown",
   "metadata": {
    "attributes": {
     "classes": [
      "haskell:hs"
     ],
     "id": "",
     "name": "\"code\""
    }
   },
   "source": [
    "<pre><code>name = getLine</code></pre>"
   ]
  },
  {
   "cell_type": "markdown",
   "metadata": {},
   "source": [
    "will read from the input and then bind the value of that to `name`. Well,\n",
    "it won't, all this does is give the [`getLine`](https://hackage.haskell.org/package/base/docs/Prelude.html#v:getLine) I/O action a different name\n",
    "called, well, `name`. Remember, to get the value out of an I/O action, you\n",
    "have to perform it inside another I/O action by binding it to a name\n",
    "with `<-`.\n",
    "\n",
    "I/O actions will only be performed when they are given a name of `main` or\n",
    "when they're inside a bigger I/O action that we composed with a *do*\n",
    "block. We can also use a *do* block to glue together a few I/O actions\n",
    "and then we can use that I/O action in another *do* block and so on.\n",
    "Either way, they'll be performed only if they eventually fall into `main`.\n",
    "\n",
    "Oh, right, there's also one more case when I/O actions will be\n",
    "performed. When we type out an I/O action in GHCI and press return, it\n",
    "will be performed."
   ]
  },
  {
   "cell_type": "code",
   "execution_count": 9,
   "metadata": {
    "attributes": {
     "classes": [
      "haskell:hs"
     ],
     "id": "",
     "name": "\"code\""
    }
   },
   "outputs": [
    {
     "data": {
      "text/plain": [
       "HEEY"
      ]
     },
     "metadata": {},
     "output_type": "display_data"
    }
   ],
   "source": [
    "putStrLn \"HEEY\""
   ]
  },
  {
   "cell_type": "markdown",
   "metadata": {},
   "source": [
    "Even when we just punch out a number or call a function in GHCI and\n",
    "press return, it will evaluate it (as much as it needs) and then call\n",
    "[`show`](https://hackage.haskell.org/package/base/docs/Prelude.html#v:show) on it and then it will print that string to the terminal using\n",
    "[`putStrLn`](https://hackage.haskell.org/package/base/docs/Prelude.html#v:putStrLn) implicitly.\n",
    "\n",
    "Remember *let* bindings? If you don't, refresh your memory on them by\n",
    "reading [this section](http://learnyouahaskell.com/syntax-in-functions#let-it-be). They have to be\n",
    "in the form of `let <bindings> in <expression>`, where `<bindings>` are\n",
    "names to be given to expressions and `<expression>` is the expression that\n",
    "is to be evaluated that sees them. We also said that in list\n",
    "comprehensions, the *in* part isn't needed. Well, you can use them in\n",
    "*do* blocks pretty much like you use them in list comprehensions. Check\n",
    "this out:"
   ]
  },
  {
   "cell_type": "code",
   "execution_count": 10,
   "metadata": {
    "attributes": {
     "classes": [
      "haskell:hs"
     ],
     "id": "",
     "name": "\"code\""
    }
   },
   "outputs": [],
   "source": [
    "import Data.Char\n",
    "\n",
    "main = do\n",
    "    putStrLn \"What's your first name?\"\n",
    "    firstName <- getLine\n",
    "    putStrLn \"What's your last name?\"\n",
    "    lastName <- getLine\n",
    "    let bigFirstName = map toUpper firstName\n",
    "        bigLastName = map toUpper lastName\n",
    "    putStrLn $ \"hey \" ++ bigFirstName ++ \" \" ++ bigLastName ++ \", how are you?\""
   ]
  },
  {
   "cell_type": "code",
   "execution_count": 11,
   "metadata": {
    "attributes": {
     "classes": [
      "haskell:hs"
     ],
     "id": "",
     "name": "\"code\""
    }
   },
   "outputs": [
    {
     "data": {
      "text/plain": [
       "What's your first name?\n",
       "What's your last name?\n",
       "hey JOHN BROWN, how are you?"
      ]
     },
     "metadata": {},
     "output_type": "display_data"
    }
   ],
   "source": [
    "withStdin (unlines [\"John\", \"Brown\"]) main"
   ]
  },
  {
   "cell_type": "markdown",
   "metadata": {},
   "source": [
    "See how the I/O actions in the *do* block are lined up? Also notice how\n",
    "the *let* is lined up with the I/O actions and the names of the *let*\n",
    "are lined up with each other? That's good practice, because indentation\n",
    "is important in Haskell. Now, we did `map toUpper firstName`, which turns\n",
    "something like `\"John\"` into a much cooler string like `\"JOHN\"`. We bound\n",
    "that uppercased string to a name and then used it in a string later on\n",
    "that we printed to the terminal.\n",
    "\n",
    "You may be wondering when to use `<-` and when to use *let* bindings?\n",
    "Well, remember, `<-` is (for now) for performing I/O actions and binding\n",
    "their results to names. map toUpper firstName, however, isn't an I/O\n",
    "action. It's a pure expression in Haskell. So use `<-` when you want to\n",
    "bind results of I/O actions to names and you can use *let* bindings to\n",
    "bind pure expressions to names. Had we done something like\n",
    "`let firstName = getLine`, we would have just called the [`getLine`](https://hackage.haskell.org/package/base/docs/Prelude.html#v:getLine) I/O action a different\n",
    "name and we'd still have to run it through a `<-` to perform it.\n",
    "\n",
    "Now we're going to make a program that continuously reads a line and\n",
    "prints out the same line with the words reversed. The program's\n",
    "execution will stop when we input a blank line. This is the program:"
   ]
  },
  {
   "cell_type": "code",
   "execution_count": 12,
   "metadata": {
    "attributes": {
     "classes": [
      "haskell:hs"
     ],
     "id": "",
     "name": "\"code\""
    }
   },
   "outputs": [],
   "source": [
    "main = do\n",
    "    line <- getLine\n",
    "    if null line\n",
    "        then return ()\n",
    "        else do\n",
    "            putStrLn $ reverseWords line\n",
    "            main\n",
    "\n",
    "reverseWords :: String -> String\n",
    "reverseWords = unwords . map reverse . words"
   ]
  },
  {
   "cell_type": "markdown",
   "metadata": {},
   "source": [
    "To get a feel of what it does, you can run it before we go over the\n",
    "code."
   ]
  },
  {
   "cell_type": "code",
   "execution_count": 13,
   "metadata": {},
   "outputs": [
    {
     "data": {
      "text/plain": [
       "yeh ereht nam\n",
       "<stdin>: hGetLine: end of file"
      ]
     },
     "metadata": {},
     "output_type": "display_data"
    }
   ],
   "source": [
    "withStdin \"hey there man\" $ catchPrint main"
   ]
  },
  {
   "cell_type": "markdown",
   "metadata": {},
   "source": [
    "First, let's take a look at the `reverseWords` function. It's just a\n",
    "normal function that takes a string like \"hey there man\" and then calls\n",
    "[`words`](https://hackage.haskell.org/package/base/docs/Prelude.html#v:words) with it to produce a list of words like `[\"hey\",\"there\",\"man\"]`.\n",
    "Then we map [`reverse`](https://hackage.haskell.org/package/base/docs/Prelude.html#v:reverse) on the list, getting `[\"yeh\",\"ereht\",\"nam\"]` and then\n",
    "we put that back into one string by using [`unwords`](https://hackage.haskell.org/package/base/docs/Prelude.html#v:unwords) and the final result\n",
    "is `\"yeh ereht nam\"`. See how we used function composition here. Without\n",
    "function composition, we'd have to write something like\n",
    "`reverseWords st = unwords (map reverse (words st))`.\n",
    "\n",
    "What about `main`? First, we get a line from the terminal by performing\n",
    "[`getLine`](https://hackage.haskell.org/package/base/docs/Prelude.html#v:getLine) call that line `line`. And now, we have a conditional expression.\n",
    "Remember that in Haskell, every *if* must have a corresponding *else*\n",
    "because every expression has to have some sort of value. We make the\n",
    "*if* so that when a condition is true (in our case, the line that we\n",
    "entered is blank), we perform one I/O action and when it isn't, the I/O\n",
    "action under the *else* is performed. That's why in an I/O *do* block,\n",
    "*if*s have to have a form of\n",
    "`if <condition> then <I/O action> else <I/O action>`.\n",
    "\n",
    "Let's first take a look at what happens under the *else* clause.\n",
    "Because, we have to have exactly one I/O action after the *else*, we use\n",
    "a *do* block to glue together two I/O actions into one. You could also\n",
    "write that part out as:"
   ]
  },
  {
   "cell_type": "markdown",
   "metadata": {
    "attributes": {
     "classes": [
      "haskell:hs"
     ],
     "id": "",
     "name": "\"code\""
    }
   },
   "source": [
    "<pre><code>        else (do\n",
    "            putStrLn $ reverseWords line\n",
    "            main)</code></pre>"
   ]
  },
  {
   "cell_type": "markdown",
   "metadata": {},
   "source": [
    "This makes it more explicit that the *do* block can be viewed as one I/O\n",
    "action, but it's uglier. Anyway, inside the *do* block, we call\n",
    "`reverseWords` on the line that we got from [`getLine`](https://hackage.haskell.org/package/base/docs/Prelude.html#v:getLine) and then print that\n",
    "out to the terminal. After that, we just perform `main`. It's called\n",
    "recursively and that's okay, because `main` is itself an I/O action. So in\n",
    "a sense, we go back to the start of the program.\n",
    "\n",
    "Now what happens when `null line` holds true? What's after the *then* is\n",
    "performed in that case. If we look up, we'll see that it says\n",
    "`then return ()`. If you've done imperative languages like C, Java or Python,\n",
    "you're probably thinking that you know what this [`return`](https://hackage.haskell.org/package/base/docs/Prelude.html#v:return) does and chances\n",
    "are you've already skipped this really long paragraph. Well, here's the\n",
    "thing: *the [`return`](https://hackage.haskell.org/package/base/docs/Prelude.html#v:return) in Haskell is really nothing like the [`return`](https://hackage.haskell.org/package/base/docs/Prelude.html#v:return) in most\n",
    "other languages!* It has the same name, which confuses a lot of people,\n",
    "but in reality it's quite different. In imperative languages, [`return`](https://hackage.haskell.org/package/base/docs/Prelude.html#v:return)\n",
    "usually ends the execution of a method or subroutine and makes it report\n",
    "some sort of value to whoever called it. In Haskell (in I/O actions\n",
    "specifically), it makes an I/O action out of a pure value. If you think\n",
    "about the box analogy from before, it takes a value and wraps it up in a\n",
    "box. The resulting I/O action doesn't actually do anything, it just has\n",
    "that value encapsulated as its result. So in an I/O context,\n",
    "`return \"haha\"` will have a type of `IO String`. What's the point of just\n",
    "transforming a pure value into an I/O action that doesn't do anything?\n",
    "Why taint our program with [`IO`](https://hackage.haskell.org/package/base/docs/Prelude.html#t:IO) more than it has to be? Well, we needed\n",
    "some I/O action to carry out in the case of an empty input line. That's\n",
    "why we just made a bogus I/O action that doesn't do anything by writing\n",
    "`return ()`.\n",
    "\n",
    "Using [`return`](https://hackage.haskell.org/package/base/docs/Prelude.html#v:return) doesn't cause the I/O *do* block to end in execution or\n",
    "anything like that. For instance, this program will quite happily carry\n",
    "out all the way to the last line:"
   ]
  },
  {
   "cell_type": "code",
   "execution_count": 14,
   "metadata": {
    "attributes": {
     "classes": [
      "haskell:hs"
     ],
     "id": "",
     "name": "\"code\""
    }
   },
   "outputs": [],
   "source": [
    "main = do\n",
    "    return ()\n",
    "    return \"HAHAHA\"\n",
    "    line <- getLine\n",
    "    return \"BLAH BLAH BLAH\"\n",
    "    return 4\n",
    "    putStrLn line"
   ]
  },
  {
   "cell_type": "markdown",
   "metadata": {},
   "source": [
    "All these [`return`](https://hackage.haskell.org/package/base/docs/Prelude.html#v:return)s do is that they make I/O actions that don't really do\n",
    "anything except have an encapsulated result and that result is thrown\n",
    "away because it isn't bound to a name. We can use [`return`](https://hackage.haskell.org/package/base/docs/Prelude.html#v:return) in combination\n",
    "with `<-` to bind stuff to names."
   ]
  },
  {
   "cell_type": "code",
   "execution_count": 15,
   "metadata": {
    "attributes": {
     "classes": [
      "haskell:hs"
     ],
     "id": "",
     "name": "\"code\""
    }
   },
   "outputs": [],
   "source": [
    "main = do\n",
    "    a <- return \"hell\"\n",
    "    b <- return \"yeah!\"\n",
    "    putStrLn $ a ++ \" \" ++ b"
   ]
  },
  {
   "cell_type": "markdown",
   "metadata": {},
   "source": [
    "So you see, [`return`](https://hackage.haskell.org/package/base/docs/Prelude.html#v:return) is sort of the opposite to `<-`. While [`return`](https://hackage.haskell.org/package/base/docs/Prelude.html#v:return) takes a\n",
    "value and wraps it up in a box, `<-` takes a box (and performs it) and\n",
    "takes the value out of it, binding it to a name. But doing this is kind\n",
    "of redundant, especially since you can use *let* bindings in *do* blocks\n",
    "to bind to names, like so:"
   ]
  },
  {
   "cell_type": "code",
   "execution_count": 16,
   "metadata": {
    "attributes": {
     "classes": [
      "haskell:hs"
     ],
     "id": "",
     "name": "\"code\""
    }
   },
   "outputs": [],
   "source": [
    "main = do\n",
    "    let a = \"hell\"\n",
    "        b = \"yeah\"\n",
    "    putStrLn $ a ++ \" \" ++ b"
   ]
  },
  {
   "cell_type": "markdown",
   "metadata": {},
   "source": [
    "When dealing with I/O *do* blocks, we mostly use [`return`](https://hackage.haskell.org/package/base/docs/Prelude.html#v:return) either because\n",
    "we need to create an I/O action that doesn't do anything or because we\n",
    "don't want the I/O action that's made up from a *do* block to have the\n",
    "result value of its last action, but we want it to have a different\n",
    "result value, so we use [`return`](https://hackage.haskell.org/package/base/docs/Prelude.html#v:return) to make an I/O action that always has our\n",
    "desired result contained and we put it at the end.\n",
    "\n",
    "> A *do* block can also have just one I/O action. In that case, it's the\n",
    "> same as just writing the I/O action. Some people would prefer writing\n",
    "> `then do return ()` in this case because the *else* also has a *do*.\n",
    "\n",
    "Before we move on to files, let's take a look at some functions that are\n",
    "useful when dealing with I/O.\n",
    "\n",
    "__[`putStr`](https://hackage.haskell.org/package/base/docs/Prelude.html#v:putStr)__ is much like [`putStrLn`](https://hackage.haskell.org/package/base/docs/Prelude.html#v:putStrLn) in that it takes a string as a parameter\n",
    "and returns an I/O action that will print that string to the terminal,\n",
    "only [`putStr`](https://hackage.haskell.org/package/base/docs/Prelude.html#v:putStr) doesn't jump into a new line after printing out the string\n",
    "while [`putStrLn`](https://hackage.haskell.org/package/base/docs/Prelude.html#v:putStrLn) does."
   ]
  },
  {
   "cell_type": "code",
   "execution_count": 17,
   "metadata": {
    "attributes": {
     "classes": [
      "haskell:hs"
     ],
     "id": "",
     "name": "\"code\""
    }
   },
   "outputs": [],
   "source": [
    "main = do   putStr \"Hey, \"\n",
    "            putStr \"I'm \"\n",
    "            putStrLn \"Andy!\""
   ]
  },
  {
   "cell_type": "code",
   "execution_count": 18,
   "metadata": {
    "attributes": {
     "classes": [
      "plain"
     ],
     "id": "",
     "name": "\"code\""
    }
   },
   "outputs": [
    {
     "data": {
      "text/plain": [
       "Hey, I'm Andy!"
      ]
     },
     "metadata": {},
     "output_type": "display_data"
    }
   ],
   "source": [
    "main"
   ]
  },
  {
   "cell_type": "markdown",
   "metadata": {},
   "source": [
    "Its type signature is `putStr :: String -> IO ()`, so the result\n",
    "encapsulated within the resulting I/O action is the unit. A dud value,\n",
    "so it doesn't make sense to bind it.\n",
    "\n",
    "__[`putChar`](https://hackage.haskell.org/package/base/docs/Prelude.html#v:putChar)__ takes a character and returns an I/O action that will print it\n",
    "out to the terminal."
   ]
  },
  {
   "cell_type": "code",
   "execution_count": 19,
   "metadata": {
    "attributes": {
     "classes": [
      "haskell:hs"
     ],
     "id": "",
     "name": "\"code\""
    }
   },
   "outputs": [],
   "source": [
    "main = do   putChar 't'\n",
    "            putChar 'e'\n",
    "            putChar 'h'"
   ]
  },
  {
   "cell_type": "code",
   "execution_count": 20,
   "metadata": {
    "attributes": {
     "classes": [
      "plain"
     ],
     "id": "",
     "name": "\"code\""
    }
   },
   "outputs": [
    {
     "data": {
      "text/plain": [
       "teh"
      ]
     },
     "metadata": {},
     "output_type": "display_data"
    }
   ],
   "source": [
    "main"
   ]
  },
  {
   "cell_type": "markdown",
   "metadata": {},
   "source": [
    "[`putStr`](https://hackage.haskell.org/package/base/docs/Prelude.html#v:putStr) is actually defined recursively with the help of [`putChar`](https://hackage.haskell.org/package/base/docs/Prelude.html#v:putChar). The\n",
    "edge condition of [`putStr`](https://hackage.haskell.org/package/base/docs/Prelude.html#v:putStr) is the empty string, so if we're printing an\n",
    "empty string, just return an I/O action that does nothing by using\n",
    "`return ()`. If it's not empty, then print the first character of the\n",
    "string by doing [`putChar`](https://hackage.haskell.org/package/base/docs/Prelude.html#v:putChar) and then print of them using [`putStr`](https://hackage.haskell.org/package/base/docs/Prelude.html#v:putStr)."
   ]
  },
  {
   "cell_type": "markdown",
   "metadata": {
    "attributes": {
     "classes": [
      "haskell:hs"
     ],
     "id": "",
     "name": "\"code\""
    }
   },
   "source": [
    "<pre><code>putStr :: String -> IO ()\n",
    "putStr [] = return ()\n",
    "putStr (x:xs) = do\n",
    "    putChar x\n",
    "    putStr xs</code></pre>"
   ]
  },
  {
   "cell_type": "markdown",
   "metadata": {},
   "source": [
    "See how we can use recursion in I/O, just like we can use it in pure\n",
    "code. Just like in pure code, we define the edge case and then think\n",
    "what the result actually is. It's an action that first outputs the first\n",
    "character and then outputs the rest of the string.\n",
    "\n",
    "__[`print`](https://hackage.haskell.org/package/base/docs/Prelude.html#v:print)__ takes a value of any type that's an instance of [`Show`](https://hackage.haskell.org/package/base/docs/Prelude.html#t:Show) (meaning that\n",
    "we know how to represent it as a string), calls [`show`](https://hackage.haskell.org/package/base/docs/Prelude.html#v:show) with that value to\n",
    "stringify it and then outputs that string to the terminal. Basically,\n",
    "it's just `putStrLn . show`. It first runs [`show`](https://hackage.haskell.org/package/base/docs/Prelude.html#v:show) on a value and then feeds\n",
    "that to [`putStrLn`](https://hackage.haskell.org/package/base/docs/Prelude.html#v:putStrLn), which returns an I/O action that will print out our\n",
    "value."
   ]
  },
  {
   "cell_type": "code",
   "execution_count": 21,
   "metadata": {
    "attributes": {
     "classes": [
      "haskell:hs"
     ],
     "id": "",
     "name": "\"code\""
    }
   },
   "outputs": [],
   "source": [
    "main = do   print True\n",
    "            print 2\n",
    "            print \"haha\"\n",
    "            print 3.2\n",
    "            print [3,4,3]"
   ]
  },
  {
   "cell_type": "code",
   "execution_count": 22,
   "metadata": {
    "attributes": {
     "classes": [
      "haskell:hs"
     ],
     "id": "",
     "name": "\"code\""
    }
   },
   "outputs": [
    {
     "data": {
      "text/plain": [
       "True\n",
       "2\n",
       "\"haha\"\n",
       "3.2\n",
       "[3,4,3]"
      ]
     },
     "metadata": {},
     "output_type": "display_data"
    }
   ],
   "source": [
    "main"
   ]
  },
  {
   "cell_type": "markdown",
   "metadata": {},
   "source": [
    "As you can see, it's a very handy function. Remember how we talked about\n",
    "how I/O actions are performed only when they fall into `main` or when we\n",
    "try to evaluate them in the GHCI prompt? When we type out a value (like\n",
    "`3` or `[1,2,3]`) and press the return key, GHCI actually uses [`print`](https://hackage.haskell.org/package/base/docs/Prelude.html#v:print) on that\n",
    "value to display it on our terminal!"
   ]
  },
  {
   "cell_type": "code",
   "execution_count": 23,
   "metadata": {
    "attributes": {
     "classes": [
      "haskell:hs"
     ],
     "id": "",
     "name": "\"code\""
    }
   },
   "outputs": [
    {
     "data": {
      "text/plain": [
       "3"
      ]
     },
     "metadata": {},
     "output_type": "display_data"
    }
   ],
   "source": [
    "3"
   ]
  },
  {
   "cell_type": "code",
   "execution_count": 24,
   "metadata": {
    "attributes": {
     "classes": [
      "haskell:hs"
     ],
     "id": "",
     "name": "\"code\""
    }
   },
   "outputs": [
    {
     "data": {
      "text/plain": [
       "3"
      ]
     },
     "metadata": {},
     "output_type": "display_data"
    }
   ],
   "source": [
    "print 3"
   ]
  },
  {
   "cell_type": "code",
   "execution_count": 25,
   "metadata": {
    "attributes": {
     "classes": [
      "haskell:hs"
     ],
     "id": "",
     "name": "\"code\""
    }
   },
   "outputs": [
    {
     "data": {
      "text/plain": [
       "[\"hey!\",\"ho!\",\"woo!\"]"
      ]
     },
     "metadata": {},
     "output_type": "display_data"
    }
   ],
   "source": [
    "map (++\"!\") [\"hey\",\"ho\",\"woo\"]"
   ]
  },
  {
   "cell_type": "code",
   "execution_count": 26,
   "metadata": {
    "attributes": {
     "classes": [
      "haskell:hs"
     ],
     "id": "",
     "name": "\"code\""
    }
   },
   "outputs": [
    {
     "data": {
      "text/plain": [
       "[\"hey!\",\"ho!\",\"woo!\"]"
      ]
     },
     "metadata": {},
     "output_type": "display_data"
    }
   ],
   "source": [
    "print (map (++\"!\") [\"hey\",\"ho\",\"woo\"])"
   ]
  },
  {
   "cell_type": "markdown",
   "metadata": {},
   "source": [
    "When we want to print out strings, we usually use [`putStrLn`](https://hackage.haskell.org/package/base/docs/Prelude.html#v:putStrLn) because we\n",
    "don't want the quotes around them, but for printing out values of other\n",
    "types to the terminal, [`print`](https://hackage.haskell.org/package/base/docs/Prelude.html#v:print) is used the most.\n",
    "\n",
    "__[`getChar`](https://hackage.haskell.org/package/base/docs/Prelude.html#v:getChar)__ is an I/O action that reads a character from the input. Thus,\n",
    "its type signature is `getChar :: IO Char`, because the result contained\n",
    "within the I/O action is a [`Char`](https://hackage.haskell.org/package/base/docs/Prelude.html#t:Char). Note that due to buffering, reading of\n",
    "the characters won't actually happen until the user mashes the return\n",
    "key."
   ]
  },
  {
   "cell_type": "code",
   "execution_count": 27,
   "metadata": {
    "attributes": {
     "classes": [
      "haskell:hs"
     ],
     "id": "",
     "name": "\"code\""
    }
   },
   "outputs": [],
   "source": [
    "main = do\n",
    "    c <- getChar\n",
    "    if c /= ' '\n",
    "        then do\n",
    "            putChar c\n",
    "            main\n",
    "        else return ()"
   ]
  },
  {
   "cell_type": "markdown",
   "metadata": {},
   "source": [
    "This program looks like it should read a character and then check if\n",
    "it's a space. If it is, halt execution and if it isn't, print it to the\n",
    "terminal and then do the same thing all over again. Well, it kind of\n",
    "does, only not in the way you might expect. Check this out:"
   ]
  },
  {
   "cell_type": "code",
   "execution_count": 28,
   "metadata": {
    "attributes": {
     "classes": [
      "plain"
     ],
     "id": "",
     "name": "\"code\""
    }
   },
   "outputs": [
    {
     "data": {
      "text/plain": [
       "hello"
      ]
     },
     "metadata": {},
     "output_type": "display_data"
    }
   ],
   "source": [
    "withStdin \"hello sir\" main"
   ]
  },
  {
   "cell_type": "markdown",
   "metadata": {},
   "source": [
    "The second line is the input. We input `hello sir` and then press return.\n",
    "Due to buffering, the execution of the program will begin only when\n",
    "after we've hit return and not after every inputted character. But once\n",
    "we press return, it acts on what we've been putting in so far. Try\n",
    "playing with this program to get a feel for it!\n",
    "\n",
    "The __[`when`](https://hackage.haskell.org/package/base/docs/Control-Monad.html#v:when)__ function is found in `Control.Monad` (to get access to it, do\n",
    "`import Control.Monad`). It's interesting because in a *do* block it looks\n",
    "like a control flow statement, but it's actually a normal function. It\n",
    "takes a boolean value and an I/O action if that boolean value is [`True`](https://hackage.haskell.org/package/base/docs/Prelude.html#v:True),\n",
    "it returns the same I/O action that we supplied to it. However, if it's\n",
    "[`False`](https://hackage.haskell.org/package/base/docs/Prelude.html#v:False), it returns the `return ()`, action, so an I/O action that doesn't\n",
    "do anything. Here's how we could rewrite the previous piece of code with\n",
    "which we demonstrated [`getChar`](https://hackage.haskell.org/package/base/docs/Prelude.html#v:getChar) by using [`when`](https://hackage.haskell.org/package/base/docs/Control-Monad.html#v:when):"
   ]
  },
  {
   "cell_type": "code",
   "execution_count": 29,
   "metadata": {
    "attributes": {
     "classes": [
      "haskell:hs"
     ],
     "id": "",
     "name": "\"code\""
    }
   },
   "outputs": [],
   "source": [
    "import Control.Monad\n",
    "\n",
    "main = do\n",
    "    c <- getChar\n",
    "    when (c /= ' ') $ do\n",
    "        putChar c\n",
    "        main"
   ]
  },
  {
   "cell_type": "code",
   "execution_count": 30,
   "metadata": {
    "attributes": {
     "classes": [
      "haskell:hs"
     ],
     "id": "",
     "name": "\"code\""
    }
   },
   "outputs": [
    {
     "data": {
      "text/plain": [
       "hello"
      ]
     },
     "metadata": {},
     "output_type": "display_data"
    }
   ],
   "source": [
    "withStdin \"hello sir\" main"
   ]
  },
  {
   "cell_type": "markdown",
   "metadata": {},
   "source": [
    "So as you can see, it's useful for encapsulating the\n",
    "`if <something> then do <some I/O action> else return ()` pattern.\n",
    "\n",
    "__[`sequence`](https://hackage.haskell.org/package/base/docs/Prelude.html#v:sequence)__ takes a list of I/O actions and returns an I/O action that\n",
    "will perform those actions one after the other. The result contained in\n",
    "that I/O action will be a list of the results of all the I/O actions\n",
    "that were performed. Its type signature is\n",
    "`sequence :: [IO a] -> IO [a]`. Doing this:"
   ]
  },
  {
   "cell_type": "code",
   "execution_count": 31,
   "metadata": {
    "attributes": {
     "classes": [
      "haskell:hs"
     ],
     "id": "",
     "name": "\"code\""
    }
   },
   "outputs": [],
   "source": [
    "main = do\n",
    "    a <- getLine\n",
    "    b <- getLine\n",
    "    c <- getLine\n",
    "    print [a,b,c]"
   ]
  },
  {
   "cell_type": "markdown",
   "metadata": {},
   "source": [
    "Is exactly the same as doing this:."
   ]
  },
  {
   "cell_type": "code",
   "execution_count": 32,
   "metadata": {
    "attributes": {
     "classes": [
      "haskell:hs"
     ],
     "id": "",
     "name": "\"code\""
    }
   },
   "outputs": [],
   "source": [
    "main = do\n",
    "    rs <- sequence [getLine, getLine, getLine]\n",
    "    print rs"
   ]
  },
  {
   "cell_type": "markdown",
   "metadata": {},
   "source": [
    "So `sequence [getLine, getLine, getLine]` makes an I/O action that will\n",
    "perform [`getLine`](https://hackage.haskell.org/package/base/docs/Prelude.html#v:getLine) three times. If we bind that action to a name, the\n",
    "result is a list of all the results, so in our case, a list of three\n",
    "things that the user entered at the prompt.\n",
    "\n",
    "A common pattern with [`sequence`](https://hackage.haskell.org/package/base/docs/Prelude.html#v:sequence) is when we map functions like [`print`](https://hackage.haskell.org/package/base/docs/Prelude.html#v:print) or\n",
    "[`putStrLn`](https://hackage.haskell.org/package/base/docs/Prelude.html#v:putStrLn) over lists. Doing `map print [1,2,3,4]` won't create an I/O\n",
    "action. It will create a list of I/O actions, because that's like\n",
    "writing `[print 1, print 2, print 3, print 4]`. If we want to transform\n",
    "that list of I/O actions into an I/O action, we have to sequence it."
   ]
  },
  {
   "cell_type": "code",
   "execution_count": 33,
   "metadata": {
    "attributes": {
     "classes": [
      "haskell:hs"
     ],
     "id": "",
     "name": "\"code\""
    }
   },
   "outputs": [
    {
     "data": {
      "text/plain": [
       "1\n",
       "2\n",
       "3\n",
       "4\n",
       "5\n",
       "[(),(),(),(),()]"
      ]
     },
     "metadata": {},
     "output_type": "display_data"
    }
   ],
   "source": [
    "sequence (map print [1,2,3,4,5])"
   ]
  },
  {
   "cell_type": "markdown",
   "metadata": {},
   "source": [
    "What's with the `[(),(),(),(),()]` at the end? Well, when we evaluate an\n",
    "I/O action in GHCI, it's performed and then its result is printed out,\n",
    "unless that result is `()`, in which case it's not printed out. That's why\n",
    "evaluating `putStrLn \"hehe\"` in GHCI just prints out `hehe` (because the\n",
    "contained result in `putStrLn \"hehe\"` is `()`). But when we do [`getLine`](https://hackage.haskell.org/package/base/docs/Prelude.html#v:getLine) in\n",
    "GHCI, the result of that I/O action is printed out, because [`getLine`](https://hackage.haskell.org/package/base/docs/Prelude.html#v:getLine) has\n",
    "a type of `IO String`.\n",
    "\n",
    "Because mapping a function that returns an I/O action over a list and\n",
    "then sequencing it is so common, the utility functions __[`mapM`](https://hackage.haskell.org/package/base/docs/Prelude.html#v:mapM)__ and __`mapM_`__\n",
    "were introduced. [`mapM`](https://hackage.haskell.org/package/base/docs/Prelude.html#v:mapM) takes a function and a list, maps the function\n",
    "over the list and then sequences it. `mapM_` does the same, only it\n",
    "throws away the result later. We usually use `mapM_` when we don't care\n",
    "what result our sequenced I/O actions have."
   ]
  },
  {
   "cell_type": "code",
   "execution_count": 34,
   "metadata": {
    "attributes": {
     "classes": [
      "haskell:hs"
     ],
     "id": "",
     "name": "\"code\""
    }
   },
   "outputs": [
    {
     "data": {
      "text/plain": [
       "1\n",
       "2\n",
       "3\n",
       "[(),(),()]"
      ]
     },
     "metadata": {},
     "output_type": "display_data"
    }
   ],
   "source": [
    "mapM print [1,2,3]"
   ]
  },
  {
   "cell_type": "code",
   "execution_count": 35,
   "metadata": {
    "attributes": {
     "classes": [
      "haskell:hs"
     ],
     "id": "",
     "name": "\"code\""
    }
   },
   "outputs": [
    {
     "data": {
      "text/plain": [
       "1\n",
       "2\n",
       "3"
      ]
     },
     "metadata": {},
     "output_type": "display_data"
    }
   ],
   "source": [
    "mapM_ print [1,2,3]"
   ]
  },
  {
   "cell_type": "markdown",
   "metadata": {},
   "source": [
    "__[`forever`](https://hackage.haskell.org/package/base/docs/Control-Monad.html#v:forever)__ takes an I/O action and returns an I/O action that just repeats\n",
    "the I/O action it got forever. It's located in `Control.Monad`. This\n",
    "little program will indefinitely ask the user for some input and spit it\n",
    "back to him, CAPSLOCKED:"
   ]
  },
  {
   "cell_type": "code",
   "execution_count": 36,
   "metadata": {
    "attributes": {
     "classes": [
      "haskell:hs"
     ],
     "id": "",
     "name": "\"code\""
    }
   },
   "outputs": [],
   "source": [
    "import Control.Monad\n",
    "import Data.Char\n",
    "\n",
    "main = forever $ do\n",
    "    putStr \"Give me some input: \"\n",
    "    l <- getLine\n",
    "    putStrLn $ map toUpper l"
   ]
  },
  {
   "cell_type": "code",
   "execution_count": 37,
   "metadata": {
    "attributes": {
     "classes": [
      "haskell:hs"
     ],
     "id": "",
     "name": "\"code\""
    }
   },
   "outputs": [
    {
     "data": {
      "text/plain": [
       "Give me some input: CAPSLOCK\n",
       "Give me some input: <stdin>: hGetLine: end of file"
      ]
     },
     "metadata": {},
     "output_type": "display_data"
    }
   ],
   "source": [
    "withStdin \"capslock\" $ catchPrint main"
   ]
  },
  {
   "cell_type": "markdown",
   "metadata": {},
   "source": [
    "__[`forM`](https://hackage.haskell.org/package/base/docs/Control-Monad.html#v:forM)__ (located in `Control.Monad`) is like [`mapM`](https://hackage.haskell.org/package/base/docs/Prelude.html#v:mapM), only that it has its\n",
    "parameters switched around. The first parameter is the list and the\n",
    "second one is the function to map over that list, which is then\n",
    "sequenced. Why is that useful? Well, with some creative use of lambdas\n",
    "and *do* notation, we can do stuff like this:"
   ]
  },
  {
   "cell_type": "code",
   "execution_count": 38,
   "metadata": {
    "attributes": {
     "classes": [
      "haskell:hs"
     ],
     "id": "",
     "name": "\"code\""
    }
   },
   "outputs": [],
   "source": [
    "import Control.Monad\n",
    "\n",
    "main = do\n",
    "    colors <- forM [1,2,3,4] (\\a -> do\n",
    "        putStrLn $ \"Which color do you associate with the number \" ++ show a ++ \"?\"\n",
    "        color <- getLine\n",
    "        return color)\n",
    "    putStrLn \"The colors that you associate with 1, 2, 3 and 4 are: \"\n",
    "    mapM_ putStrLn colors"
   ]
  },
  {
   "cell_type": "markdown",
   "metadata": {},
   "source": [
    "The `(\\a -> do ... )` is a function that takes a number and returns an\n",
    "I/O action. We have to surround it with parentheses, otherwise the\n",
    "lambda thinks the last two I/O actions belong to it. Notice that we do\n",
    "`return color` in the inside *do* block. We do that so that the I/O action\n",
    "which the *do* block defines has the result of our color contained\n",
    "within it. We actually didn't have to do that, because [`getLine`](https://hackage.haskell.org/package/base/docs/Prelude.html#v:getLine) already\n",
    "has that contained within it. Doing `color <- getLine` and then\n",
    "`return color` is just unpacking the result from [`getLine`](https://hackage.haskell.org/package/base/docs/Prelude.html#v:getLine) and then repackaging it\n",
    "again, so it's the same as just doing [`getLine`](https://hackage.haskell.org/package/base/docs/Prelude.html#v:getLine). The [`forM`](https://hackage.haskell.org/package/base/docs/Control-Monad.html#v:forM) (called with its\n",
    "two parameters) produces an I/O action, whose result we bind to `colors`.\n",
    "`colors` is just a normal list that holds strings. At the end, we print\n",
    "out all those colors by doing `mapM putStrLn colors`.\n",
    "\n",
    "You can think of [`forM`](https://hackage.haskell.org/package/base/docs/Control-Monad.html#v:forM) as meaning: make an I/O action for every element\n",
    "in this list. What each I/O action will do can depend on the element\n",
    "that was used to make the action. Finally, perform those actions and\n",
    "bind their results to something. We don't have to bind it, we can also\n",
    "just throw it away."
   ]
  },
  {
   "cell_type": "code",
   "execution_count": 39,
   "metadata": {
    "attributes": {
     "classes": [
      "plain"
     ],
     "id": "",
     "name": "\"code\""
    }
   },
   "outputs": [
    {
     "data": {
      "text/plain": [
       "Which color do you associate with the number 1?\n",
       "Which color do you associate with the number 2?\n",
       "Which color do you associate with the number 3?\n",
       "Which color do you associate with the number 4?\n",
       "The colors that you associate with 1, 2, 3 and 4 are: \n",
       "white\n",
       "blue\n",
       "red\n",
       "orange"
      ]
     },
     "metadata": {},
     "output_type": "display_data"
    }
   ],
   "source": [
    "withStdin (unlines [\"white\", \"blue\", \"red\", \"orange\"]) main"
   ]
  },
  {
   "cell_type": "markdown",
   "metadata": {},
   "source": [
    "We could have actually done that without [`forM`](https://hackage.haskell.org/package/base/docs/Control-Monad.html#v:forM), only with [`forM`](https://hackage.haskell.org/package/base/docs/Control-Monad.html#v:forM) it's more\n",
    "readable. Normally we write [`forM`](https://hackage.haskell.org/package/base/docs/Control-Monad.html#v:forM) when we want to map and sequence some\n",
    "actions that we define there on the spot using *do* notation. In the\n",
    "same vein, we could have replaced the last line with\n",
    "`forM colors putStrLn`.\n",
    "\n",
    "In this section, we learned the basics of input and output. We also\n",
    "found out what I/O actions are, how they enable us to do input and\n",
    "output and when they are actually performed. To reiterate, I/O actions\n",
    "are values much like any other value in Haskell. We can pass them as\n",
    "parameters to functions and functions can return I/O actions as results.\n",
    "What's special about them is that if they fall into the `main` function\n",
    "(or are the result in a GHCI line), they are performed. And that's when\n",
    "they get to write stuff on your screen or play Yakety Sax through your\n",
    "speakers. Each I/O action can also encapsulate a result with which it\n",
    "tells you what it got from the real world.\n",
    "\n",
    "Don't think of a function like [`putStrLn`](https://hackage.haskell.org/package/base/docs/Prelude.html#v:putStrLn) as a function that takes a\n",
    "string and prints it to the screen. Think of it as a function that takes\n",
    "a string and returns an I/O action. That I/O action will, when\n",
    "performed, print beautiful poetry to your terminal.\n",
    "\n",
    "Files and streams\n",
    "-----------------\n",
    "\n",
    "<img src=\"img/streams.png\" title=\"streams\" style=\"background-color:white;float:right;margin-left:2em;\" />\n",
    "\n",
    "[`getChar`](https://hackage.haskell.org/package/base/docs/Prelude.html#v:getChar) is an I/O action that reads a single character from the\n",
    "terminal. [`getLine`](https://hackage.haskell.org/package/base/docs/Prelude.html#v:getLine) is an I/O action that reads a line from the terminal.\n",
    "These two are pretty straightforward and most programming languages have\n",
    "some functions or statements that are parallel to them. But now, let's\n",
    "meet __[`getContents`](https://hackage.haskell.org/package/base/docs/Prelude.html#v:getContents)__. [`getContents`](https://hackage.haskell.org/package/base/docs/Prelude.html#v:getContents) is an I/O action that reads everything\n",
    "from the standard input until it encounters an end-of-file character.\n",
    "Its type is `getContents :: IO String`. What's cool about [`getContents`](https://hackage.haskell.org/package/base/docs/Prelude.html#v:getContents) is\n",
    "that it does lazy I/O. When we do `foo <- getContents`, it doesn't read\n",
    "all of the input at once, store it in memory and then bind it to `foo`.\n",
    "No, it's lazy! It'll say: *\"Yeah yeah, I'll read the input from the\n",
    "terminal later as we go along, when you really need it!\"*.\n",
    "\n",
    "[`getContents`](https://hackage.haskell.org/package/base/docs/Prelude.html#v:getContents) is really useful when we're piping the output from one\n",
    "program into the input of our program. In case you don't know how piping\n",
    "works in unix-y systems, here's a quick primer. Let's make a text file\n",
    "that contains the following little haiku:"
   ]
  },
  {
   "cell_type": "code",
   "execution_count": 40,
   "metadata": {
    "attributes": {
     "classes": [
      "plain"
     ],
     "id": "",
     "name": "\"code\""
    }
   },
   "outputs": [],
   "source": [
    "writeFile \"haiku.txt\" $ unlines \n",
    "  [ \"I'm a lil' teapot\"\n",
    "  , \"What's with that airplane food, huh?\"\n",
    "  , \"It's so small, tasteless\"\n",
    "  ]"
   ]
  },
  {
   "cell_type": "markdown",
   "metadata": {},
   "source": [
    "Yeah, the haiku sucks, what of it? If anyone knows of any good haiku\n",
    "tutorials, let me know.\n",
    "\n",
    "Now, recall the little program we wrote when we were introducing the\n",
    "[`forever`](https://hackage.haskell.org/package/base/docs/Control-Monad.html#v:forever) function. It prompted the user for a line, returned it to him in\n",
    "CAPSLOCK and then did that all over again, indefinitely. Just so you\n",
    "don't have to scroll all the way back, here it is again:"
   ]
  },
  {
   "cell_type": "code",
   "execution_count": 41,
   "metadata": {
    "attributes": {
     "classes": [
      "haskell:hs"
     ],
     "id": "",
     "name": "\"code\""
    }
   },
   "outputs": [],
   "source": [
    "import Control.Monad\n",
    "import Data.Char\n",
    "\n",
    "main = forever $ do\n",
    "    putStr \"Give me some input: \"\n",
    "    l <- getLine\n",
    "    putStrLn $ map toUpper l"
   ]
  },
  {
   "cell_type": "markdown",
   "metadata": {
    "attributes": {
     "classes": [
      "haskell:hs"
     ],
     "id": "",
     "name": "\"code\""
    }
   },
   "source": [
    "Check it out, booyaka!"
   ]
  },
  {
   "cell_type": "code",
   "execution_count": 42,
   "metadata": {
    "attributes": {
     "classes": [
      "haskell:hs"
     ],
     "id": "",
     "name": "\"code\""
    }
   },
   "outputs": [
    {
     "data": {
      "text/plain": [
       "Give me some input: I'M A LIL' TEAPOT\n",
       "Give me some input: WHAT'S WITH THAT AIRPLANE FOOD, HUH?\n",
       "Give me some input: IT'S SO SMALL, TASTELESS\n",
       "Give me some input: <stdin>: hGetLine: end of file"
      ]
     },
     "metadata": {},
     "output_type": "display_data"
    }
   ],
   "source": [
    "readFile \"haiku.txt\" >>= flip withStdin (catchPrint main)"
   ]
  },
  {
   "cell_type": "markdown",
   "metadata": {},
   "source": [
    "So what we're essentially doing with that use of [`forever`](https://hackage.haskell.org/package/base/docs/Control-Monad.html#v:forever) is taking the\n",
    "input and transforming it into some output. That's why we can use\n",
    "[`getContents`](https://hackage.haskell.org/package/base/docs/Prelude.html#v:getContents) to make our program even shorter and better:"
   ]
  },
  {
   "cell_type": "code",
   "execution_count": 43,
   "metadata": {
    "attributes": {
     "classes": [
      "haskell:hs"
     ],
     "id": "",
     "name": "\"code\""
    }
   },
   "outputs": [],
   "source": [
    "import Data.Char\n",
    "\n",
    "main = do\n",
    "    contents <- getContents\n",
    "    putStr (map toUpper contents)"
   ]
  },
  {
   "cell_type": "markdown",
   "metadata": {},
   "source": [
    "We run the [`getContents`](https://hackage.haskell.org/package/base/docs/Prelude.html#v:getContents) I/O action and name the string it produces\n",
    "`contents`. Then, we map [`toUpper`](https://hackage.haskell.org/package/base/docs/Data-Char.html#v:toUpper) over that string and print that to the\n",
    "terminal. Keep in mind that because strings are basically lists, which\n",
    "are lazy, and [`getContents`](https://hackage.haskell.org/package/base/docs/Prelude.html#v:getContents) is I/O lazy, it won't try to read the whole\n",
    "content at once and store it into memory before printing out the\n",
    "capslocked version. Rather, it will print out the capslocked version as\n",
    "it reads it, because it will only read a line from the input when it\n",
    "really needs to."
   ]
  },
  {
   "cell_type": "code",
   "execution_count": 44,
   "metadata": {
    "attributes": {
     "classes": [
      "haskell:hs"
     ],
     "id": "",
     "name": "\"code\""
    }
   },
   "outputs": [
    {
     "data": {
      "text/plain": [
       "I'M A LIL' TEAPOT\n",
       "WHAT'S WITH THAT AIRPLANE FOOD, HUH?\n",
       "IT'S SO SMALL, TASTELESS"
      ]
     },
     "metadata": {},
     "output_type": "display_data"
    }
   ],
   "source": [
    "readFile \"haiku.txt\" >>= flip withStdin main"
   ]
  },
  {
   "cell_type": "markdown",
   "metadata": {},
   "source": [
    "Cool, it works."
   ]
  },
  {
   "cell_type": "code",
   "execution_count": 45,
   "metadata": {},
   "outputs": [
    {
     "data": {
      "text/plain": [
       "HEY HO\n",
       "LETS GO"
      ]
     },
     "metadata": {},
     "output_type": "display_data"
    }
   ],
   "source": [
    "withStdin (unlines [\"hey ho\", \"lets go\"]) main"
   ]
  },
  {
   "cell_type": "markdown",
   "metadata": {},
   "source": [
    "As you can see, it\n",
    "prints out our capslocked input back to us line by line. When the result\n",
    "of [`readFile`](https://hackage.haskell.org/package/base/docs/Prelude.html#v:readFile) is bound to `contents`, it's not represented in memory as a\n",
    "real string, but more like a promise that it will produce the string\n",
    "eventually. When we map [`toUpper`](https://hackage.haskell.org/package/base/docs/Data-Char.html#v:toUpper) over `contents`, that's also a promise to\n",
    "map that function over the eventual contents. And finally when [`putStr`](https://hackage.haskell.org/package/base/docs/Prelude.html#v:putStr)\n",
    "happens, it says to the previous promise: *\"Hey, I need a capslocked\n",
    "line!\"*. It doesn't have any lines yet, so it says to `contents`: *\"Hey,\n",
    "how about actually getting a line from the terminal?\"*. So that's when\n",
    "[`readFile`](https://hackage.haskell.org/package/base/docs/Prelude.html#v:readFile) actually reads from the file and gives a line to the\n",
    "code that asked it to produce something tangible. That code then maps\n",
    "[`toUpper`](https://hackage.haskell.org/package/base/docs/Data-Char.html#v:toUpper) over that line and gives it to [`putStr`](https://hackage.haskell.org/package/base/docs/Prelude.html#v:putStr), which prints it. And\n",
    "then, [`putStr`](https://hackage.haskell.org/package/base/docs/Prelude.html#v:putStr) says: *\"Hey, I need the next line, come on!\"* and this\n",
    "repeats until there's no more input, which is signified by an\n",
    "end-of-file character.\n",
    "\n",
    "Let's make program that takes some input and prints out only those lines\n",
    "that are shorter than 10 characters. Observe:"
   ]
  },
  {
   "cell_type": "code",
   "execution_count": 46,
   "metadata": {
    "attributes": {
     "classes": [
      "haskell:hs"
     ],
     "id": "",
     "name": "\"code\""
    }
   },
   "outputs": [],
   "source": [
    "main = do\n",
    "    contents <- getContents\n",
    "    putStr (shortLinesOnly contents)\n",
    "\n",
    "shortLinesOnly :: String -> String\n",
    "shortLinesOnly input =\n",
    "    let allLines = lines input\n",
    "        shortLines = filter (\\line -> length line < 10) allLines\n",
    "        result = unlines shortLines\n",
    "    in  result"
   ]
  },
  {
   "cell_type": "markdown",
   "metadata": {},
   "source": [
    "We've made our I/O part of the program as short as possible. Because our\n",
    "program is supposed to take some input and print out some output based\n",
    "on the input, we can implement it by reading the input contents, running\n",
    "a function on them and then printing out what the function gave back.\n",
    "\n",
    "The `shortLinesOnly` function works like this: it takes a string, like\n",
    "`\"short\\nlooooooooooooooong\\nshort again\"`. That string has three lines,\n",
    "two of them are short and the middle one is long. It runs the lines\n",
    "function on that string, which converts it to\n",
    "`[\"short\", \"looooooooooooooong\", \"short again\"]`, which we then bind to the name\n",
    "`allLines`. That list of string is then filtered so that only those lines\n",
    "that are shorter than 10 characters remain in the list, producing\n",
    "`[\"short\", \"short again\"]`. And finally, [`unlines`](https://hackage.haskell.org/package/base/docs/Prelude.html#v:unlines) joins that list into a\n",
    "single newline delimited string, giving `\"short\\nshort again\"`. Let's\n",
    "give it a go."
   ]
  },
  {
   "cell_type": "code",
   "execution_count": 47,
   "metadata": {
    "attributes": {
     "classes": [
      "plain:hs"
     ],
     "id": "",
     "name": "\"code\""
    }
   },
   "outputs": [],
   "source": [
    "writeFile \"shortlines.txt\" $ unlines \n",
    "  [ \"i'm short\"\n",
    "  , \"so am i\"\n",
    "  , \"i am a loooooooooong line!!!\"\n",
    "  , \"yeah i'm long so what hahahaha!!!!!!\"\n",
    "  , \"short line\"\n",
    "  , \"loooooooooooooooooooooooooooong\"\n",
    "  , \"short\"\n",
    "  ]"
   ]
  },
  {
   "cell_type": "code",
   "execution_count": 48,
   "metadata": {
    "attributes": {
     "classes": [
      "plain:hs"
     ],
     "id": "",
     "name": "\"code\""
    }
   },
   "outputs": [
    {
     "data": {
      "text/plain": [
       "i'm short\n",
       "so am i\n",
       "short"
      ]
     },
     "metadata": {},
     "output_type": "display_data"
    }
   ],
   "source": [
    "readFile \"shortlines.txt\" >>= flip withStdin main"
   ]
  },
  {
   "cell_type": "markdown",
   "metadata": {},
   "source": [
    "As the output, we only get the short lines.\n",
    "\n",
    "This pattern of getting some string from the input, transforming it with\n",
    "a function and then outputting that is so common that there exists a\n",
    "function which makes that even easier, called __[`interact`](https://hackage.haskell.org/package/base/docs/Prelude.html#v:interact)__. [`interact`](https://hackage.haskell.org/package/base/docs/Prelude.html#v:interact) takes a\n",
    "function of type `String -> String` as a parameter and returns an I/O\n",
    "action that will take some input, run that function on it and then print\n",
    "out the function's result. Let's modify our program to use that."
   ]
  },
  {
   "cell_type": "code",
   "execution_count": 49,
   "metadata": {
    "attributes": {
     "classes": [
      "haskell:hs"
     ],
     "id": "",
     "name": "\"code\""
    }
   },
   "outputs": [],
   "source": [
    "main = interact shortLinesOnly\n",
    "\n",
    "shortLinesOnly :: String -> String\n",
    "shortLinesOnly input =\n",
    "    let allLines = lines input\n",
    "        shortLines = filter (\\line -> length line < 10) allLines\n",
    "        result = unlines shortLines\n",
    "    in  result"
   ]
  },
  {
   "cell_type": "markdown",
   "metadata": {},
   "source": [
    "Just to show that this can be achieved in much less code (even though it\n",
    "will be less readable) and to demonstrate our function composition\n",
    "skill, we're going to rework that a bit further."
   ]
  },
  {
   "cell_type": "code",
   "execution_count": 50,
   "metadata": {
    "attributes": {
     "classes": [
      "haskell:hs"
     ],
     "id": "",
     "name": "\"code\""
    }
   },
   "outputs": [],
   "source": [
    "main = interact $ unlines . filter ((<10) . length) . lines"
   ]
  },
  {
   "cell_type": "code",
   "execution_count": 51,
   "metadata": {
    "attributes": {
     "classes": [
      "haskell:hs"
     ],
     "id": "",
     "name": "\"code\""
    }
   },
   "outputs": [
    {
     "data": {
      "text/plain": [
       "i'm short\n",
       "so am i\n",
       "short"
      ]
     },
     "metadata": {},
     "output_type": "display_data"
    }
   ],
   "source": [
    "readFile \"shortlines.txt\" >>= flip withStdin main"
   ]
  },
  {
   "cell_type": "markdown",
   "metadata": {},
   "source": [
    "Wow, we actually reduced that to just one line, which is pretty cool!\n",
    "\n",
    "[`interact`](https://hackage.haskell.org/package/base/docs/Prelude.html#v:interact) can be used to make programs that are piped some contents into\n",
    "them and then dump some result out or it can be used to make programs\n",
    "that appear to take a line of input from the user, give back some result\n",
    "based on that line and then take another line and so on. There isn't\n",
    "actually a real distinction between the two, it just depends on how the\n",
    "user is supposed to use them.\n",
    "\n",
    "Let's make a program that continuously reads a line and then tells us if\n",
    "the line is a palindrome or not. We could just use [`getLine`](https://hackage.haskell.org/package/base/docs/Prelude.html#v:getLine) to read a\n",
    "line, tell the user if it's a palindrome and then run `main` all over\n",
    "again. But it's simpler if we use [`interact`](https://hackage.haskell.org/package/base/docs/Prelude.html#v:interact). When using [`interact`](https://hackage.haskell.org/package/base/docs/Prelude.html#v:interact), think\n",
    "about what you need to do to transform some input into the desired\n",
    "output. In our case, we have to replace each line of the input with\n",
    "either `\"palindrome\"` or `\"not a palindrome\"`. So we have to write a\n",
    "function that transforms something like `\"elephant\\nABCBA\\nwhatever\"`\n",
    "into `\"not a palindrome\\npalindrome\\nnot a palindrome\"`. Let's do this!"
   ]
  },
  {
   "cell_type": "code",
   "execution_count": 52,
   "metadata": {
    "attributes": {
     "classes": [
      "haskell:hs"
     ],
     "id": "",
     "name": "\"code\""
    }
   },
   "outputs": [],
   "source": [
    "respondPalindromes contents = unlines (map (\\xs -> if isPalindrome xs then \"palindrome\" else \"not a palindrome\") (lines contents))\n",
    "    where   isPalindrome xs = xs == reverse xs"
   ]
  },
  {
   "cell_type": "markdown",
   "metadata": {},
   "source": [
    "Let's write this in point-free."
   ]
  },
  {
   "cell_type": "code",
   "execution_count": 53,
   "metadata": {
    "attributes": {
     "classes": [
      "haskell:hs"
     ],
     "id": "",
     "name": "\"code\""
    }
   },
   "outputs": [],
   "source": [
    "respondPalindromes = unlines . map (\\xs -> if isPalindrome xs then \"palindrome\" else \"not a palindrome\") . lines\n",
    "    where   isPalindrome xs = xs == reverse xs"
   ]
  },
  {
   "cell_type": "markdown",
   "metadata": {},
   "source": [
    "Pretty straightforward. First it turns something like\n",
    "`\"elephant\\nABCBA\\nwhatever\"` into `[\"elephant\", \"ABCBA\", \"whatever\"]` and\n",
    "then it maps that lambda over it, giving\n",
    "`[\"not a palindrome\", \"palindrome\", \"not a palindrome\"]`\n",
    "and then [`unlines`](https://hackage.haskell.org/package/base/docs/Prelude.html#v:unlines) joins that list into\n",
    "a single, newline delimited string. Now we can do"
   ]
  },
  {
   "cell_type": "code",
   "execution_count": 54,
   "metadata": {},
   "outputs": [],
   "source": [
    "main = interact respondPalindromes"
   ]
  },
  {
   "cell_type": "markdown",
   "metadata": {},
   "source": [
    "Let's test this out:"
   ]
  },
  {
   "cell_type": "code",
   "execution_count": 55,
   "metadata": {},
   "outputs": [
    {
     "data": {
      "text/plain": [
       "not a palindrome\n",
       "palindrome\n",
       "not a palindrome"
      ]
     },
     "metadata": {},
     "output_type": "display_data"
    }
   ],
   "source": [
    "withStdin (unlines [\"hehe\", \"ABCBA\", \"cookie\"]) main"
   ]
  },
  {
   "cell_type": "markdown",
   "metadata": {},
   "source": [
    "Even though we made a program that transforms one big string of input into another, it acts like we made a program that does it line by line. That's because Haskell is lazy and it wants to print the first line of the result string, but it can't because it doesn't have the first line of the input yet. So as soon as we give it the first line of input, it prints the first line of the output. We get out of the program by issuing an end-of-line character."
   ]
  },
  {
   "cell_type": "markdown",
   "metadata": {},
   "source": [
    "We can also use this program by just piping a file into it. Let's say we\n",
    "have this file:"
   ]
  },
  {
   "cell_type": "code",
   "execution_count": 56,
   "metadata": {
    "attributes": {
     "classes": [
      "plain"
     ],
     "id": "",
     "name": "\"code\""
    }
   },
   "outputs": [],
   "source": [
    "writeFile \"words.txt\" $ unlines\n",
    "  [ \"dogaroo\"\n",
    "  , \"radar\"\n",
    "  , \"rotor\"\n",
    "  , \"madam\"\n",
    "  ]"
   ]
  },
  {
   "cell_type": "markdown",
   "metadata": {},
   "source": [
    "and we save it as `words.txt`. This is what we get by piping it into our\n",
    "program:"
   ]
  },
  {
   "cell_type": "code",
   "execution_count": 57,
   "metadata": {
    "attributes": {
     "classes": [
      "plain"
     ],
     "id": "",
     "name": "\"code\""
    }
   },
   "outputs": [
    {
     "data": {
      "text/plain": [
       "not a palindrome\n",
       "palindrome\n",
       "palindrome\n",
       "palindrome"
      ]
     },
     "metadata": {},
     "output_type": "display_data"
    }
   ],
   "source": [
    "readFile \"words.txt\" >>= flip withStdin main"
   ]
  },
  {
   "cell_type": "markdown",
   "metadata": {},
   "source": [
    "Again, we get the same output as if we had run our program and put in\n",
    "the words ourselves at the standard input. We just don't see the input\n",
    "that `palindromes.hs` because the input came from the file and not from us\n",
    "typing the words in.\n",
    "\n",
    "So now you probably see how lazy I/O works and how we can use it to our\n",
    "advantage. You can just think in terms of what the output is supposed to\n",
    "be for some given input and write a function to do that transformation.\n",
    "In lazy I/O, nothing is eaten from the input until it absolutely has to\n",
    "be because what we want to print right now depends on that input.\n",
    "\n",
    "So far, we've worked with I/O by printing out stuff to the terminal and\n",
    "reading from it. But what about reading and writing files? Well, in a\n",
    "way, we've already been doing that. One way to think about reading from\n",
    "the terminal is to imagine that it's like reading from a (somewhat\n",
    "special) file. Same goes for writing to the terminal, it's kind of like\n",
    "writing to a file. We can call these two files [`stdout`](https://hackage.haskell.org/package/base/docs/System-IO.html#v:stdout) and [`stdin`](https://hackage.haskell.org/package/base/docs/System-IO.html#v:stdin), meaning\n",
    "*standard output* and *standard input*, respectively. Keeping that in\n",
    "mind, we'll see that writing to and reading from files is very much like\n",
    "writing to the standard output and reading from the standard input.\n",
    "\n",
    "We'll start off with a really simple program that opens a file called\n",
    "`girlfriend.txt`, which contains a verse from Avril Lavigne's \\#1 hit\n",
    "*Girlfriend*, and just prints out out to the terminal. Here's\n",
    "`girlfriend.txt`:"
   ]
  },
  {
   "cell_type": "code",
   "execution_count": 58,
   "metadata": {
    "attributes": {
     "classes": [
      "plain"
     ],
     "id": "",
     "name": "\"code\""
    }
   },
   "outputs": [],
   "source": [
    "writeFile \"girlfriend.txt\" $ unlines\n",
    "  [ \"Hey! Hey! You! You!\"\n",
    "  , \"I don't like your girlfriend!\"\n",
    "  , \"No way! No way!\"\n",
    "  , \"I think you need a new one!\"\n",
    "  ]"
   ]
  },
  {
   "cell_type": "markdown",
   "metadata": {},
   "source": [
    "And here's our program:"
   ]
  },
  {
   "cell_type": "code",
   "execution_count": 59,
   "metadata": {
    "attributes": {
     "classes": [
      "haskell:hs"
     ],
     "id": "",
     "name": "\"code\""
    }
   },
   "outputs": [],
   "source": [
    "import System.IO\n",
    "\n",
    "main = do\n",
    "    handle <- openFile \"girlfriend.txt\" ReadMode\n",
    "    contents <- hGetContents handle\n",
    "    putStr contents\n",
    "    hClose handle"
   ]
  },
  {
   "cell_type": "markdown",
   "metadata": {},
   "source": [
    "Running it, we get the expected result:"
   ]
  },
  {
   "cell_type": "code",
   "execution_count": 60,
   "metadata": {
    "attributes": {
     "classes": [
      "plain"
     ],
     "id": "",
     "name": "\"code\""
    }
   },
   "outputs": [
    {
     "data": {
      "text/plain": [
       "Hey! Hey! You! You!\n",
       "I don't like your girlfriend!\n",
       "No way! No way!\n",
       "I think you need a new one!"
      ]
     },
     "metadata": {},
     "output_type": "display_data"
    }
   ],
   "source": [
    "main"
   ]
  },
  {
   "cell_type": "markdown",
   "metadata": {},
   "source": [
    "Let's go over this line by line. The first line is just four\n",
    "exclamations, to get our attention. In the second line, Avril tells us\n",
    "that she doesn't like our current romantic partner. The third line\n",
    "serves to emphasize that disapproval, whereas the fourth line suggests\n",
    "we should seek out a new girlfriend.\n",
    "\n",
    "Let's also go over the program line by line! Our program is several I/O\n",
    "actions glued together with a *do* block. In the first line of the *do*\n",
    "block, we notice a new function called __[`openFile`](https://hackage.haskell.org/package/base/docs/System-IO.html#v:openFile)__. This is its type\n",
    "signature: `openFile :: FilePath -> IOMode -> IO Handle`. If you read\n",
    "that out loud, it states: [`openFile`](https://hackage.haskell.org/package/base/docs/System-IO.html#v:openFile) takes a file path and an [`IOMode`](https://hackage.haskell.org/package/base/docs/System-IO.html#t:IOMode) and\n",
    "returns an I/O action that will open a file and have the file's\n",
    "associated handle encapsulated as its result.\n",
    "\n",
    "[`FilePath`](https://hackage.haskell.org/package/base/docs/Prelude.html#t:FilePath) is just a [type synonym](http://learnyouahaskell.com/making-our-own-types-and-typeclasses#type-synonyms) for [`String`](https://hackage.haskell.org/package/base/docs/Prelude.html#t:String),\n",
    "simply defined as:"
   ]
  },
  {
   "cell_type": "markdown",
   "metadata": {
    "attributes": {
     "classes": [
      "haskell:hs"
     ],
     "id": "",
     "name": "\"code\""
    }
   },
   "source": [
    "<pre><code>type FilePath = String</code></pre>"
   ]
  },
  {
   "cell_type": "markdown",
   "metadata": {},
   "source": [
    "[`IOMode`](https://hackage.haskell.org/package/base/docs/System-IO.html#t:IOMode) is a type that's defined like this:"
   ]
  },
  {
   "cell_type": "markdown",
   "metadata": {
    "attributes": {
     "classes": [
      "haskell:hs"
     ],
     "id": "",
     "name": "\"code\""
    }
   },
   "source": [
    "<pre><code>data IOMode = ReadMode | WriteMode | AppendMode | ReadWriteMode</code></pre>"
   ]
  },
  {
   "cell_type": "markdown",
   "metadata": {},
   "source": [
    "<img src=\"img/file.png\" title=\"A FILE IN A CAKE!!!\" style=\"background-color:white;float:left;margin-right:2em;\" />\n",
    "\n",
    "Just like our type that represents the seven possible values for the\n",
    "days of the week, this type is an enumeration that represents what we\n",
    "want to do with our opened file. Very simple. Just note that this type\n",
    "is [`IOMode`](https://hackage.haskell.org/package/base/docs/System-IO.html#t:IOMode) and not `IO Mode`. `IO Mode` would be the type of an I/O action\n",
    "that has a value of some type `Mode` as its result, but [`IOMode`](https://hackage.haskell.org/package/base/docs/System-IO.html#t:IOMode) is just a\n",
    "simple enumeration.\n",
    "\n",
    "Finally, it returns an I/O action that will open the specified file in\n",
    "the specified mode. If we bind that action to something we get a [`Handle`](https://hackage.haskell.org/package/base/docs/System-IO.html#t:Handle).\n",
    "A value of type [`Handle`](https://hackage.haskell.org/package/base/docs/System-IO.html#t:Handle) represents where our file is. We'll use that\n",
    "handle so we know which file to read from. It would be stupid to read a\n",
    "file but not bind that read to a handle because we wouldn't be able to\n",
    "do anything with the file. So in our case, we bound the handle to\n",
    "[`handle`](https://hackage.haskell.org/package/base/docs/Control-Exception.html#v:handle).\n",
    "\n",
    "In the next line, we see a function called __[`hGetContents`](https://hackage.haskell.org/package/base/docs/System-IO.html#v:hGetContents)__. It takes a\n",
    "[`Handle`](https://hackage.haskell.org/package/base/docs/System-IO.html#t:Handle), so it knows which file to get the contents from and returns an\n",
    "`IO String` — an I/O action that holds as its result the contents of the\n",
    "file. This function is pretty much like [`getContents`](https://hackage.haskell.org/package/base/docs/Prelude.html#v:getContents). The only difference\n",
    "is that [`getContents`](https://hackage.haskell.org/package/base/docs/Prelude.html#v:getContents) will automatically read from the standard input\n",
    "(that is from the terminal), whereas [`hGetContents`](https://hackage.haskell.org/package/base/docs/System-IO.html#v:hGetContents) takes a file handle\n",
    "which tells it which file to read from. In all other respects, they work\n",
    "the same. And just like [`getContents`](https://hackage.haskell.org/package/base/docs/Prelude.html#v:getContents), [`hGetContents`](https://hackage.haskell.org/package/base/docs/System-IO.html#v:hGetContents) won't attempt to read\n",
    "the file at once and store it in memory, but it will read it as needed.\n",
    "That's really cool because we can treat `contents` as the whole contents\n",
    "of the file, but it's not really loaded in memory. So if this were a\n",
    "really huge file, doing [`hGetContents`](https://hackage.haskell.org/package/base/docs/System-IO.html#v:hGetContents) wouldn't choke up our memory, but\n",
    "it would read only what it needed to from the file, when it needed to.\n",
    "\n",
    "Note the difference between the handle used to identify a file and the\n",
    "contents of the file, bound in our program to [`handle`](https://hackage.haskell.org/package/base/docs/Control-Exception.html#v:handle) and `contents`. The\n",
    "handle is just something by which we know what our file is. If you\n",
    "imagine your whole file system to be a really big book and each file is\n",
    "a chapter in the book, the handle is a bookmark that shows where you're\n",
    "currently reading (or writing) a chapter, whereas the contents are the\n",
    "actual chapter.\n",
    "\n",
    "With `putStr contents` we just print the contents out to the standard\n",
    "output and then we do __[`hClose`](https://hackage.haskell.org/package/base/docs/System-IO.html#v:hClose)__, which takes a handle and returns an I/O\n",
    "action that closes the file. You have to close the file yourself after\n",
    "opening it with openFile!\n",
    "\n",
    "Another way of doing what we just did is to use the __[`withFile`](https://hackage.haskell.org/package/base/docs/System-IO.html#v:withFile)__ function,\n",
    "which has a type signature of\n",
    "`withFile :: FilePath -> IOMode -> (Handle -> IO a) -> IO a`.\n",
    "It takes a path to a file, an [`IOMode`](https://hackage.haskell.org/package/base/docs/System-IO.html#t:IOMode) and\n",
    "then it takes a function that takes a handle and returns some I/O\n",
    "action. What it returns is an I/O action that will open that file, do\n",
    "something we want with the file and then close it. The result\n",
    "encapsulated in the final I/O action that's returned is the same as the\n",
    "result of the I/O action that the function we give it returns. This\n",
    "might sound a bit complicated, but it's really simple, especially with\n",
    "lambdas, here's our previous example rewritten to use [`withFile`](https://hackage.haskell.org/package/base/docs/System-IO.html#v:withFile):"
   ]
  },
  {
   "cell_type": "code",
   "execution_count": 61,
   "metadata": {
    "attributes": {
     "classes": [
      "haskell:hs"
     ],
     "id": "",
     "name": "\"code\""
    }
   },
   "outputs": [],
   "source": [
    "import System.IO\n",
    "\n",
    "main =\n",
    "    withFile \"girlfriend.txt\" ReadMode (\\handle -> do\n",
    "        contents <- hGetContents handle\n",
    "        putStr contents)"
   ]
  },
  {
   "cell_type": "markdown",
   "metadata": {},
   "source": [
    "As you can see, it's very similar to the previous piece of code.\n",
    "`(\\handle -> ... )` is the function that takes a handle and returns an\n",
    "I/O action and it's usually done like this, with a lambda. The reason it\n",
    "has to take a function that returns an I/O action instead of just taking\n",
    "an I/O action to do and then close the file is because the I/O action\n",
    "that we'd pass to it wouldn't know on which file to operate. This way,\n",
    "[`withFile`](https://hackage.haskell.org/package/base/docs/System-IO.html#v:withFile) opens the file and then passes the handle to the function we\n",
    "gave it. It gets an I/O action back from that function and then makes an\n",
    "I/O action that's just like it, only it closes the file afterwards.\n",
    "Here's how we can make our own [`withFile`](https://hackage.haskell.org/package/base/docs/System-IO.html#v:withFile) function:"
   ]
  },
  {
   "cell_type": "code",
   "execution_count": 62,
   "metadata": {
    "attributes": {
     "classes": [
      "haskell:hs"
     ],
     "id": "",
     "name": "\"code\""
    }
   },
   "outputs": [],
   "source": [
    "withFile' :: FilePath -> IOMode -> (Handle -> IO a) -> IO a\n",
    "withFile' path mode f = do\n",
    "    handle <- openFile path mode\n",
    "    result <- f handle\n",
    "    hClose handle\n",
    "    return result"
   ]
  },
  {
   "cell_type": "markdown",
   "metadata": {},
   "source": [
    "<img src=\"img/edd.png\" title=\"butter toast\" style=\"background-color:white;float:right;margin-left:2em;\" />\n",
    "\n",
    "We know the result will be an I/O action so we can just start off with a\n",
    "*do*. First we open the file and get a [`handle`](https://hackage.haskell.org/package/base/docs/Control-Exception.html#v:handle) from it. Then, we apply\n",
    "handle to our function to get back the I/O action that does all the\n",
    "work. We bind that action to `result`, close the handle and then do\n",
    "`return result`. By [`return`](https://hackage.haskell.org/package/base/docs/Prelude.html#v:return)ing the result encapsulated in the I/O action that we\n",
    "got from `f`, we make it so that our I/O action encapsulates the same\n",
    "result as the one we got from `f handle`. So if `f handle` returns an action\n",
    "that will read a number of lines from the standard input and write them\n",
    "to a file and have as its result encapsulated the number of lines it\n",
    "read, if we used that with `withFile'`, the resulting I/O action would\n",
    "also have as its result the number of lines read.\n",
    "\n",
    "Just like we have [`hGetContents`](https://hackage.haskell.org/package/base/docs/System-IO.html#v:hGetContents) that works like [`getContents`](https://hackage.haskell.org/package/base/docs/Prelude.html#v:getContents) but for a\n",
    "specific file, there's also __[`hGetLine`](https://hackage.haskell.org/package/base/docs/System-IO.html#v:hGetLine)__, __[`hPutStr`](https://hackage.haskell.org/package/base/docs/System-IO.html#v:hPutStr)__, __[`hPutStrLn`](https://hackage.haskell.org/package/base/docs/System-IO.html#v:hPutStrLn)__, __[`hGetChar`](https://hackage.haskell.org/package/base/docs/System-IO.html#v:hGetChar)__, etc.\n",
    "They work just like their counterparts without the *h*, only they take a\n",
    "handle as a parameter and operate on that specific file instead of\n",
    "operating on standard input or standard output. Example: [`putStrLn`](https://hackage.haskell.org/package/base/docs/Prelude.html#v:putStrLn) is a\n",
    "function that takes a string and returns an I/O action that will print\n",
    "out that string to the terminal and a newline after it. [`hPutStrLn`](https://hackage.haskell.org/package/base/docs/System-IO.html#v:hPutStrLn) takes\n",
    "a handle and a string and returns an I/O action that will write that\n",
    "string to the file associated with the handle and then put a newline\n",
    "after it. In the same vein, [`hGetLine`](https://hackage.haskell.org/package/base/docs/System-IO.html#v:hGetLine) takes a handle and returns an I/O\n",
    "action that reads a line from its file.\n",
    "\n",
    "Loading files and then treating their contents as strings is so common\n",
    "that we have these three nice little functions to make our work even\n",
    "easier:\n",
    "\n",
    "__[`readFile`](https://hackage.haskell.org/package/base/docs/Prelude.html#v:readFile)__ has a type signature of `readFile :: FilePath -> IO String`.\n",
    "Remember, [`FilePath`](https://hackage.haskell.org/package/base/docs/Prelude.html#t:FilePath) is just a fancy name for [`String`](https://hackage.haskell.org/package/base/docs/Prelude.html#t:String). [`readFile`](https://hackage.haskell.org/package/base/docs/Prelude.html#v:readFile) takes a\n",
    "path to a file and returns an I/O action that will read that file\n",
    "(lazily, of course) and bind its contents to something as a string. It's\n",
    "usually more handy than doing [`openFile`](https://hackage.haskell.org/package/base/docs/System-IO.html#v:openFile) and binding it to a handle and\n",
    "then doing [`hGetContents`](https://hackage.haskell.org/package/base/docs/System-IO.html#v:hGetContents). Here's how we could have written our previous\n",
    "example with [`readFile`](https://hackage.haskell.org/package/base/docs/Prelude.html#v:readFile):"
   ]
  },
  {
   "cell_type": "code",
   "execution_count": 63,
   "metadata": {
    "attributes": {
     "classes": [
      "haskell:hs"
     ],
     "id": "",
     "name": "\"code\""
    }
   },
   "outputs": [],
   "source": [
    "import System.IO\n",
    "\n",
    "main = do\n",
    "    contents <- readFile \"girlfriend.txt\"\n",
    "    putStr contents"
   ]
  },
  {
   "cell_type": "markdown",
   "metadata": {},
   "source": [
    "Because we don't get a handle with which to identify our file, we can't\n",
    "close it manually, so Haskell does that for us when we use [`readFile`](https://hackage.haskell.org/package/base/docs/Prelude.html#v:readFile).\n",
    "\n",
    "__[`writeFile`](https://hackage.haskell.org/package/base/docs/Prelude.html#v:writeFile)__ has a type of `writeFile :: FilePath -> String -> IO ()`. It\n",
    "takes a path to a file and a string to write to that file and returns an\n",
    "I/O action that will do the writing. If such a file already exists, it\n",
    "will be stomped down to zero length before being written on. Here's how\n",
    "to turn `girlfriend.txt` into a CAPSLOCKED version and write it to\n",
    "`girlfriendcaps.txt`:"
   ]
  },
  {
   "cell_type": "code",
   "execution_count": 64,
   "metadata": {
    "attributes": {
     "classes": [
      "haskell:hs"
     ],
     "id": "",
     "name": "\"code\""
    }
   },
   "outputs": [],
   "source": [
    "import System.IO\n",
    "import Data.Char\n",
    "\n",
    "main = do\n",
    "    contents <- readFile \"girlfriend.txt\"\n",
    "    writeFile \"girlfriendcaps.txt\" (map toUpper contents)"
   ]
  },
  {
   "cell_type": "code",
   "execution_count": 65,
   "metadata": {
    "attributes": {
     "classes": [
      "plain"
     ],
     "id": "",
     "name": "\"code\""
    }
   },
   "outputs": [],
   "source": [
    "main"
   ]
  },
  {
   "cell_type": "code",
   "execution_count": 66,
   "metadata": {
    "attributes": {
     "classes": [
      "plain"
     ],
     "id": "",
     "name": "\"code\""
    }
   },
   "outputs": [
    {
     "data": {
      "text/plain": [
       "HEY! HEY! YOU! YOU!\n",
       "I DON'T LIKE YOUR GIRLFRIEND!\n",
       "NO WAY! NO WAY!\n",
       "I THINK YOU NEED A NEW ONE!"
      ]
     },
     "metadata": {},
     "output_type": "display_data"
    }
   ],
   "source": [
    "putStrLn =<< readFile \"girlfriendcaps.txt\""
   ]
  },
  {
   "cell_type": "markdown",
   "metadata": {},
   "source": [
    "__[`appendFile`](https://hackage.haskell.org/package/base/docs/Prelude.html#v:appendFile)__ has a type signature that's just like [`writeFile`](https://hackage.haskell.org/package/base/docs/Prelude.html#v:writeFile), only\n",
    "[`appendFile`](https://hackage.haskell.org/package/base/docs/Prelude.html#v:appendFile) doesn't truncate the file to zero length if it already exists\n",
    "but it appends stuff to it.\n",
    "\n",
    "Let's say we have a file `todo.txt` that has one task per line that we\n",
    "have to do. Now let's make a program that takes a line from the standard\n",
    "input and adds that to our to-do list."
   ]
  },
  {
   "cell_type": "code",
   "execution_count": 67,
   "metadata": {
    "attributes": {
     "classes": [
      "haskell:hs"
     ],
     "id": "",
     "name": "\"code\""
    }
   },
   "outputs": [],
   "source": [
    "import System.IO\n",
    "\n",
    "main = do     \n",
    "    todoItem <- getLine  \n",
    "    appendFile \"todo.txt\" (todoItem ++ \"\\n\")"
   ]
  },
  {
   "cell_type": "code",
   "execution_count": 68,
   "metadata": {
    "attributes": {
     "classes": [
      "haskell:hs"
     ],
     "id": "",
     "name": "\"code\""
    }
   },
   "outputs": [],
   "source": [
    "writeFile \"todo.txt\" \"\"\n",
    "withStdin \"Iron the dishes\" main\n",
    "withStdin \"Dust the dog\" main\n",
    "withStdin \"Take salad out of the oven\" main"
   ]
  },
  {
   "cell_type": "code",
   "execution_count": 69,
   "metadata": {
    "attributes": {
     "classes": [
      "haskell:hs"
     ],
     "id": "",
     "name": "\"code\""
    }
   },
   "outputs": [
    {
     "data": {
      "text/plain": [
       "Iron the dishes\n",
       "Dust the dog\n",
       "Take salad out of the oven"
      ]
     },
     "metadata": {},
     "output_type": "display_data"
    }
   ],
   "source": [
    "putStrLn =<< readFile \"todo.txt\""
   ]
  },
  {
   "cell_type": "markdown",
   "metadata": {},
   "source": [
    "We needed to add the `\"\\n\"` to the end of each line because [`getLine`](https://hackage.haskell.org/package/base/docs/Prelude.html#v:getLine)\n",
    "doesn't give us a newline character at the end.\n",
    "\n",
    "Ooh, one more thing. We talked about how doing\n",
    "`contents <- hGetContents handle`\n",
    "doesn't cause the whole file to be read at once and stored\n",
    "in-memory. It's I/O lazy, so doing this:"
   ]
  },
  {
   "cell_type": "code",
   "execution_count": 70,
   "metadata": {
    "attributes": {
     "classes": [
      "haskell:hs"
     ],
     "id": "",
     "name": "\"code\""
    }
   },
   "outputs": [],
   "source": [
    "main = do\n",
    "    withFile \"something.txt\" ReadMode (\\handle -> do\n",
    "        contents <- hGetContents handle\n",
    "        putStr contents)"
   ]
  },
  {
   "cell_type": "markdown",
   "metadata": {},
   "source": [
    "is actually like connecting a pipe from the file to the output. Just\n",
    "like you can think of lists as streams, you can also think of files as\n",
    "streams. This will read one line at a time and print it out to the\n",
    "terminal as it goes along. So you may be asking, how wide is this pipe\n",
    "then? How often will the disk be accessed? Well, for text files, the\n",
    "default buffering is line-buffering usually. That means that the\n",
    "smallest part of the file to be read at once is one line. That's why in\n",
    "this case it actually reads a line, prints it to the output, reads the\n",
    "next line, prints it, etc. For binary files, the default buffering is\n",
    "usually block-buffering. That means that it will read the file chunk by\n",
    "chunk. The chunk size is some size that your operating system thinks is\n",
    "cool.\n",
    "\n",
    "You can control how exactly buffering is done by using the [`hSetBuffering`](https://hackage.haskell.org/package/base/docs/System-IO.html#v:hSetBuffering)\n",
    "function. It takes a handle and a [`BufferMode`](https://hackage.haskell.org/package/base/docs/System-IO.html#t:BufferMode) and returns an I/O action\n",
    "that sets the buffering. [`BufferMode`](https://hackage.haskell.org/package/base/docs/System-IO.html#t:BufferMode) is a simple enumeration data type\n",
    "and the possible values it can hold are: [`NoBuffering`](https://hackage.haskell.org/package/base/docs/System-IO.html#v:NoBuffering), [`LineBuffering`](https://hackage.haskell.org/package/base/docs/System-IO.html#v:LineBuffering) or\n",
    "`BlockBuffering (Maybe Int)`. The `Maybe Int` is for how big the chunk\n",
    "should be, in bytes. If it's [`Nothing`](https://hackage.haskell.org/package/base/docs/Prelude.html#v:Nothing), then the operating system\n",
    "determines the chunk size. [`NoBuffering`](https://hackage.haskell.org/package/base/docs/System-IO.html#v:NoBuffering) means that it will be read one\n",
    "character at a time. [`NoBuffering`](https://hackage.haskell.org/package/base/docs/System-IO.html#v:NoBuffering) usually sucks as a buffering mode\n",
    "because it has to access the disk so much.\n",
    "\n",
    "Here's our previous piece of code, only it doesn't read it line by line\n",
    "but reads the whole file in chunks of 2048 bytes."
   ]
  },
  {
   "cell_type": "code",
   "execution_count": 71,
   "metadata": {
    "attributes": {
     "classes": [
      "haskell:hs"
     ],
     "id": "",
     "name": "\"code\""
    }
   },
   "outputs": [],
   "source": [
    "main = do\n",
    "    withFile \"something.txt\" ReadMode (\\handle -> do\n",
    "        hSetBuffering handle $ BlockBuffering (Just 2048)\n",
    "        contents <- hGetContents handle\n",
    "        putStr contents)"
   ]
  },
  {
   "cell_type": "markdown",
   "metadata": {},
   "source": [
    "Reading files in bigger chunks can help if we want to minimize disk\n",
    "access or when our file is actually a slow network resource.\n",
    "\n",
    "We can also use __[`hFlush`](https://hackage.haskell.org/package/base/docs/System-IO.html#v:hFlush)__, which is a function that takes a handle and\n",
    "returns an I/O action that will flush the buffer of the file associated\n",
    "with the handle. When we're doing line-buffering, the buffer is flushed\n",
    "after every line. When we're doing block-buffering, it's after we've\n",
    "read a chunk. It's also flushed after closing a handle. That means that\n",
    "when we've reached a newline character, the reading (or writing)\n",
    "mechanism reports all the data so far. But we can use [`hFlush`](https://hackage.haskell.org/package/base/docs/System-IO.html#v:hFlush) to force\n",
    "that reporting of data that has been read so far. After flushing, the\n",
    "data is available to other programs that are running at the same time.\n",
    "\n",
    "Think of reading a block-buffered file like this: your toilet bowl is\n",
    "set to flush itself after it has one gallon of water inside it. So you\n",
    "start pouring in water and once the gallon mark is reached, that water\n",
    "is automatically flushed and the data in the water that you've poured in\n",
    "so far is read. But you can flush the toilet manually too by pressing\n",
    "the button on the toilet. This makes the toilet flush and all the water\n",
    "(data) inside the toilet is read. In case you haven't noticed, flushing\n",
    "the toilet manually is a metaphor for [`hFlush`](https://hackage.haskell.org/package/base/docs/System-IO.html#v:hFlush). This is not a very great\n",
    "analogy by programming analogy standards, but I wanted a real world\n",
    "object that can be flushed for the punchline.\n",
    "\n",
    "We already made a program to add a new item to our to-do list in\n",
    "`todo.txt`, now let's make a program to remove an item. I'll just paste\n",
    "the code and then we'll go over the program together so you see that\n",
    "it's really easy. We'll be using a few new functions from\n",
    "`System.Directory` and one new function from `System.IO`, but they'll all be\n",
    "explained.\n",
    "\n",
    "Anyway, here's the program for removing an item from `todo.txt`:"
   ]
  },
  {
   "cell_type": "code",
   "execution_count": 72,
   "metadata": {
    "attributes": {
     "classes": [
      "haskell:hs"
     ],
     "id": "",
     "name": "\"code\""
    }
   },
   "outputs": [],
   "source": [
    "import System.IO\n",
    "import System.Directory\n",
    "import Data.List\n",
    "\n",
    "main = do\n",
    "    handle <- openFile \"todo.txt\" ReadMode\n",
    "    (tempName, tempHandle) <- openTempFile \".\" \"temp\"\n",
    "    contents <- hGetContents handle\n",
    "    let todoTasks = lines contents\n",
    "        numberedTasks = zipWith (\\n line -> show n ++ \" - \" ++ line) [0..] todoTasks\n",
    "    putStrLn \"These are your TO-DO items:\"\n",
    "    putStr $ unlines numberedTasks\n",
    "    putStrLn \"Which one do you want to delete?\"\n",
    "    numberString <- getLine\n",
    "    let number = read numberString\n",
    "        newTodoItems = delete (todoTasks !! number) todoTasks\n",
    "    hPutStr tempHandle $ unlines newTodoItems\n",
    "    hClose handle\n",
    "    hClose tempHandle\n",
    "    removeFile \"todo.txt\"\n",
    "    renameFile tempName \"todo.txt\""
   ]
  },
  {
   "cell_type": "markdown",
   "metadata": {},
   "source": [
    "At first, we just open `todo.txt` in read mode and bind its handle to\n",
    "[`handle`](https://hackage.haskell.org/package/base/docs/Control-Exception.html#v:handle).\n",
    "\n",
    "Next up, we use a function that we haven't met before which is from\n",
    "`System.IO` — __[`openTempFile`](https://hackage.haskell.org/package/base/docs/System-IO.html#v:openTempFile)__. Its name is pretty self-explanatory. It takes\n",
    "a path to a temporary directory and a template name for a file and opens\n",
    "a temporary file. We used `\".\"` for the temporary directory, because .\n",
    "denotes the current directory on just about any OS. We used `\"temp\"` as\n",
    "the template name for the temporary file, which means that the temporary\n",
    "file will be named *temp* plus some random characters. It returns an I/O\n",
    "action that makes the temporary file and the result in that I/O action\n",
    "is a pair of values: the name of the temporary file and a handle. We\n",
    "could just open a normal file called `todo2.txt` or something like that\n",
    "but it's better practice to use [`openTempFile`](https://hackage.haskell.org/package/base/docs/System-IO.html#v:openTempFile) so you know you're probably\n",
    "not overwriting anything.\n",
    "\n",
    "The reason we didn't use `getCurrentDirectory` to get the current\n",
    "directory and then pass it to [`openTempFile`](https://hackage.haskell.org/package/base/docs/System-IO.html#v:openTempFile) but instead just passed `\".\"`\n",
    "to [`openTempFile`](https://hackage.haskell.org/package/base/docs/System-IO.html#v:openTempFile) is because [`.`](https://hackage.haskell.org/package/base/docs/Prelude.html#v:.) refers to the current directory on\n",
    "unix-like system and Windows\n",
    "\n",
    "Next up, we bind the contents of `todo.txt` to `contents`. Then, split\n",
    "that string into a list of strings, each string one line. So `todoTasks`\n",
    "is now something like\n",
    "`[\"Iron the dishes\", \"Dust the dog\", \"Take salad out of the oven\"]`.\n",
    "We zip the numbers from 0 onwards and that list with\n",
    "a function that takes a number, like 3, and a string, like `\"hey\"` and\n",
    "returns `\"3 - hey\"`, so `numberedTasks` is\n",
    "`[\"0 - Iron the dishes\", \"1 - Dust the dog\" ...`.\n",
    "We join that list of strings into a single newline\n",
    "delimited string with [`unlines`](https://hackage.haskell.org/package/base/docs/Prelude.html#v:unlines) and print that string out to the terminal.\n",
    "Note that instead of doing that, we could have also done\n",
    "`mapM putStrLn numberedTasks`.\n",
    "\n",
    "We ask the user which one they want to delete and wait for them to enter\n",
    "a number. Let's say they want to delete number 1, which is `Dust the dog`,\n",
    "so they punch in `1`. `numberString` is now `\"1\"` and because we want a\n",
    "number, not a string, we run [`read`](https://hackage.haskell.org/package/base/docs/Prelude.html#v:read) on that to get `1` and bind that to\n",
    "`number`.\n",
    "\n",
    "Remember the [`delete`](https://hackage.haskell.org/package/base/docs/Data-List.html#v:delete) and `!!` functions from `Data.List`. `!!` returns an\n",
    "element from a list with some index and [`delete`](https://hackage.haskell.org/package/base/docs/Data-List.html#v:delete) deletes the first\n",
    "occurence of an element in a list and returns a new list without that\n",
    "occurence. `(todoTasks !! number)` (number is now `1`) returns\n",
    "`\"Dust the dog\"`. We bind `todoTasks` without the first occurence of `\"Dust the dog\"` to\n",
    "`newTodoItems` and then join that into a single string with [`unlines`](https://hackage.haskell.org/package/base/docs/Prelude.html#v:unlines) before\n",
    "writing it to the temporary file that we opened. The old file is now\n",
    "unchanged and the temporary file contains all the lines that the old one\n",
    "does, except the one we deleted.\n",
    "\n",
    "After that we close both the original and the temporary files and then\n",
    "we remove the original one with __`removeFile`__, which, as you can see, takes\n",
    "a path to a file and deletes it. After deleting the old `todo.txt`, we\n",
    "use __`renameFile`__ to rename the temporary file to `todo.txt`. Be careful,\n",
    "`removeFile` and `renameFile` (which are both in `System.Directory` by the\n",
    "way) take file paths as their parameters, not handles.\n",
    "\n",
    "And that's that! We could have done this in even fewer lines, but we\n",
    "were very careful not to overwrite any existing files and politely asked\n",
    "the operating system to tell us where we can put our temporary file.\n",
    "Let's give this a go!"
   ]
  },
  {
   "cell_type": "code",
   "execution_count": 73,
   "metadata": {
    "attributes": {
     "classes": [
      "haskell:hs"
     ],
     "id": "",
     "name": "\"code\""
    }
   },
   "outputs": [],
   "source": [
    "writeFile \"todo.txt\" $ unlines\n",
    "  [ \"Iron the dishes\"\n",
    "  , \"Dust the dog\"\n",
    "  , \"Take salad out of the oven\"\n",
    "  ]"
   ]
  },
  {
   "cell_type": "code",
   "execution_count": 74,
   "metadata": {
    "attributes": {
     "classes": [
      "plain"
     ],
     "id": "",
     "name": "\"code\""
    }
   },
   "outputs": [
    {
     "data": {
      "text/plain": [
       "These are your TO-DO items:\n",
       "0 - Iron the dishes\n",
       "1 - Dust the dog\n",
       "2 - Take salad out of the oven\n",
       "Which one do you want to delete?"
      ]
     },
     "metadata": {},
     "output_type": "display_data"
    }
   ],
   "source": [
    "withStdin \"1\" main"
   ]
  },
  {
   "cell_type": "code",
   "execution_count": 75,
   "metadata": {
    "attributes": {
     "classes": [
      "plain"
     ],
     "id": "",
     "name": "\"code\""
    }
   },
   "outputs": [
    {
     "data": {
      "text/plain": [
       "Iron the dishes\n",
       "Take salad out of the oven"
      ]
     },
     "metadata": {},
     "output_type": "display_data"
    }
   ],
   "source": [
    "putStrLn =<< readFile \"todo.txt\""
   ]
  },
  {
   "cell_type": "code",
   "execution_count": 76,
   "metadata": {
    "attributes": {
     "classes": [
      "plain"
     ],
     "id": "",
     "name": "\"code\""
    }
   },
   "outputs": [
    {
     "data": {
      "text/plain": [
       "These are your TO-DO items:\n",
       "0 - Iron the dishes\n",
       "1 - Take salad out of the oven\n",
       "Which one do you want to delete?"
      ]
     },
     "metadata": {},
     "output_type": "display_data"
    }
   ],
   "source": [
    "withStdin \"0\" main"
   ]
  },
  {
   "cell_type": "code",
   "execution_count": 77,
   "metadata": {
    "attributes": {
     "classes": [
      "plain"
     ],
     "id": "",
     "name": "\"code\""
    }
   },
   "outputs": [
    {
     "data": {
      "text/plain": [
       "Take salad out of the oven"
      ]
     },
     "metadata": {},
     "output_type": "display_data"
    }
   ],
   "source": [
    "putStrLn =<< readFile \"todo.txt\""
   ]
  },
  {
   "cell_type": "markdown",
   "metadata": {},
   "source": [
    "Command line arguments\n",
    "----------------------\n",
    "\n",
    "<img src=\"img/arguments.png\" title=\"COMMAND LINE ARGUMENTS!!! ARGH\" style=\"background-color:white;float:right;margin-left:2em;\"/>\n",
    "\n",
    "Dealing with command line arguments is pretty much a necessity if you\n",
    "want to make a script or application that runs on a terminal. Luckily,\n",
    "Haskell's standard library has a nice way of getting command line\n",
    "arguments of a program.\n",
    "\n",
    "In the previous section, we made one program for adding a to-do item to\n",
    "our to-do list and one program for removing an item. There are two\n",
    "problems with the approach we took. The first one is that we just\n",
    "hardcoded the name of our to-do file in our code. We just decided that\n",
    "the file will be named `todo.txt` and that the user will never have a\n",
    "need for managing several to-do lists.\n",
    "\n",
    "One way to solve that is to always ask the user which file they want to\n",
    "use as their to-do list. We used that approach when we wanted to know\n",
    "which item the user wants to delete. It works, but it's not so good,\n",
    "because it requires the user to run the program, wait for the program to\n",
    "ask something and then tell that to the program. That's called an\n",
    "interactive program and the difficult bit with interactive command line\n",
    "programs is this — what if you want to automate the execution of that\n",
    "program, like with a batch script? It's harder to make a batch script\n",
    "that interacts with a program than a batch script that just calls one\n",
    "program or several of them.\n",
    "\n",
    "That's why it's sometimes better to have the user tell the program what\n",
    "they want when they run the program, instead of having the program ask\n",
    "the user once it's run. And what better way to have the user tell the\n",
    "program what they want it to do when they run it than via command line\n",
    "arguments!\n",
    "\n",
    "The `System.Environment` module has two cool I/O actions. One is __[`getArgs`](https://hackage.haskell.org/package/base/docs/System-Environment.html#v:getArgs)__,\n",
    "which has a type of `getArgs :: IO [String]` and is an I/O action that\n",
    "will get the arguments that the program was run with and have as its\n",
    "contained result a list with the arguments. __[`getProgName`](https://hackage.haskell.org/package/base/docs/System-Environment.html#v:getProgName)__ has a type of\n",
    "`getProgName :: IO String` and is an I/O action that contains the program\n",
    "name.\n",
    "\n",
    "Here's a small program that demonstrates how these two work:"
   ]
  },
  {
   "cell_type": "code",
   "execution_count": 78,
   "metadata": {
    "attributes": {
     "classes": [
      "haskell:hs"
     ],
     "id": "",
     "name": "\"code\""
    }
   },
   "outputs": [],
   "source": [
    " import System.Environment\n",
    " import Data.List\n",
    "\n",
    " main = do\n",
    "    args <- getArgs\n",
    "    progName <- getProgName\n",
    "    putStrLn \"The arguments are:\"\n",
    "    mapM_ putStrLn args\n",
    "    putStrLn \"The program name is:\"\n",
    "    putStrLn progName"
   ]
  },
  {
   "cell_type": "markdown",
   "metadata": {},
   "source": [
    "We bind [`getArgs`](https://hackage.haskell.org/package/base/docs/System-Environment.html#v:getArgs) and `progName` to `args` and `progName`. We say\n",
    "`The arguments are:` and then for every argument in `args`, we do [`putStrLn`](https://hackage.haskell.org/package/base/docs/Prelude.html#v:putStrLn). Finally, we\n",
    "also print out the program name. Let's compile this as `arg-test`."
   ]
  },
  {
   "cell_type": "code",
   "execution_count": 79,
   "metadata": {
    "attributes": {
     "classes": [
      "plain"
     ],
     "id": "",
     "name": "\"code\""
    }
   },
   "outputs": [
    {
     "data": {
      "text/plain": [
       "The arguments are:\n",
       "first\n",
       "second\n",
       "w00t\n",
       "multi word arg\n",
       "The program name is:\n",
       "ihaskell"
      ]
     },
     "metadata": {},
     "output_type": "display_data"
    }
   ],
   "source": [
    "withArgs [\"first\", \"second\", \"w00t\", \"multi word arg\"] main"
   ]
  },
  {
   "cell_type": "markdown",
   "metadata": {},
   "source": [
    "Nice. Armed with this knowledge you could create some cool command line\n",
    "apps. In fact, let's go ahead and make one. In the previous section, we\n",
    "made a separate program for adding tasks and a separate program for\n",
    "deleting them. Now, we're going to join that into one program, what it\n",
    "does will depend on the command line arguments. We're also going to make\n",
    "it so it can operate on different files, not just `todo.txt`.\n",
    "\n",
    "We'll call it simply `todo` and it'll be able to do (haha!) three\n",
    "different things:\n",
    "\n",
    "-   View tasks\n",
    "-   Add tasks\n",
    "-   Delete tasks\n",
    "\n",
    "We're not going to concern ourselves with possible bad input too much\n",
    "right now.\n",
    "\n",
    "Our program will be made so that if we want to add the task\n",
    "`Find the magic sword of power` to the file `todo.txt`, we have to punch in\n",
    "`todo add todo.txt \"Find the magic sword of power\"` in our terminal. To view\n",
    "the tasks we'll just do `todo view todo.txt` and to remove the task with\n",
    "the index of 2, we'll do `todo remove todo.txt 2`.\n",
    "\n",
    "We'll start by making a dispatch association list. It's going to be a\n",
    "simple association list that has command line arguments as keys and\n",
    "functions as their corresponding values. All these functions will be of\n",
    "type `[String] -> IO ()`. They're going to take the argument list as a\n",
    "parameter and return an I/O action that does the viewing, adding,\n",
    "deleting, etc."
   ]
  },
  {
   "cell_type": "markdown",
   "metadata": {
    "attributes": {
     "classes": [
      "haskell:hs"
     ],
     "id": "",
     "name": "\"code\""
    }
   },
   "source": [
    "<pre><code>import System.Environment\n",
    "import System.Directory\n",
    "import System.IO\n",
    "import Data.List\n",
    "\n",
    "dispatch :: [(String, [String] -> IO ())]\n",
    "dispatch =  [ (\"add\", add)\n",
    "            , (\"view\", view)\n",
    "            , (\"remove\", remove)\n",
    "            ]</code></pre>"
   ]
  },
  {
   "cell_type": "markdown",
   "metadata": {},
   "source": [
    "We have yet to define `main`, `add`, `view` and `remove`, so let's start with\n",
    "`main`:"
   ]
  },
  {
   "cell_type": "markdown",
   "metadata": {
    "attributes": {
     "classes": [
      "haskell:hs"
     ],
     "id": "",
     "name": "\"code\""
    }
   },
   "source": [
    "<pre><code>main = do\n",
    "    (command:args) <- getArgs\n",
    "    let (Just action) = lookup command dispatch\n",
    "    action args</code></pre>"
   ]
  },
  {
   "cell_type": "markdown",
   "metadata": {},
   "source": [
    "First, we get the arguments and bind them to `(command:args)`. If you\n",
    "remember your pattern matching, this means that the first argument will\n",
    "get bound to `command` and the rest of them will get bound to `args`. If we\n",
    "call our program like `todo add todo.txt \"Spank the monkey\"`, `command` will\n",
    "be `\"add\"` and args will be `[\"todo.txt\", \"Spank the monkey\"]`.\n",
    "\n",
    "In the next line, we look up our command in the dispatch list. Because\n",
    "`\"add\"` points to `add`, we get `Just add` as a result. We use pattern\n",
    "matching again to extract our function out of the [`Maybe`](https://hackage.haskell.org/package/base/docs/Prelude.html#t:Maybe). What happens if\n",
    "our command isn't in the dispatch list? Well then the lookup will return\n",
    "[`Nothing`](https://hackage.haskell.org/package/base/docs/Prelude.html#v:Nothing), but we said we won't concern ourselves with failing gracefully\n",
    "too much, so the pattern matching will fail and our program will throw a\n",
    "fit.\n",
    "\n",
    "Finally, we call our `action` function with the rest of the argument list.\n",
    "That will return an I/O action that either adds an item, displays a list\n",
    "of items or deletes an item and because that action is part of the `main`\n",
    "*do* block, it will get performed. If we follow our concrete example so\n",
    "far and our `action` function is `add`, it will get called with `args` (so\n",
    "`[\"todo.txt\", \"Spank the monkey\"]`) and return an I/O action that adds\n",
    "`Spank the monkey` to `todo.txt`.\n",
    "\n",
    "Great! All that's left now is to implement `add`, `view` and `remove`. Let's\n",
    "start with `add`:"
   ]
  },
  {
   "cell_type": "markdown",
   "metadata": {
    "attributes": {
     "classes": [
      "haskell:hs"
     ],
     "id": "",
     "name": "\"code\""
    }
   },
   "source": [
    "<code><pre>add :: [String] -> IO ()\n",
    "add [fileName, todoItem] = appendFile fileName (todoItem ++ \"\\n\")</code></pre>"
   ]
  },
  {
   "cell_type": "markdown",
   "metadata": {},
   "source": [
    "If we call our program like `todo add todo.txt \"Spank the monkey\"`, the\n",
    "`\"add\"` will get bound to `command` in the first pattern match in the `main`\n",
    "block, whereas `[\"todo.txt\", \"Spank the monkey\"]` will get passed to the\n",
    "function that we get from the dispatch list. So, because we're not\n",
    "dealing with bad input right now, we just pattern match against a list\n",
    "with those two elements right away and return an I/O action that appends\n",
    "that line to the end of the file, along with a newline character.\n",
    "\n",
    "Next, let's implement the list viewing functionality. If we want to view\n",
    "the items in a file, we do `todo view todo.txt`. So in the first pattern\n",
    "match, `command` will be `\"view\"` and `args` will be `[\"todo.txt\"]`."
   ]
  },
  {
   "cell_type": "markdown",
   "metadata": {
    "attributes": {
     "classes": [
      "haskell:hs"
     ],
     "id": "",
     "name": "\"code\""
    }
   },
   "source": [
    "<pre><code>view :: [String] -> IO ()\n",
    "view [fileName] = do\n",
    "    contents <- readFile fileName\n",
    "    let todoTasks = lines contents\n",
    "        numberedTasks = zipWith (\\n line -> show n ++ \" - \" ++ line) [0..] todoTasks\n",
    "    putStr $ unlines numberedTasks</code></pre>"
   ]
  },
  {
   "cell_type": "markdown",
   "metadata": {},
   "source": [
    "We already did pretty much the same thing in the program that only\n",
    "deleted tasks when we were displaying the tasks so that the user can\n",
    "choose one for deletion, only here we just display the tasks.\n",
    "\n",
    "And finally, we're going to implement `remove`. It's going to be very\n",
    "similar to the program that only deleted the tasks, so if you don't\n",
    "understand how deleting an item here works, check out the explanation\n",
    "under that program. The main difference is that we're not hardcoding\n",
    "`todo.txt` but getting it as an argument. We're also not prompting the\n",
    "user for the task number to delete, we're getting it as an argument."
   ]
  },
  {
   "cell_type": "markdown",
   "metadata": {
    "attributes": {
     "classes": [
      "haskell:hs"
     ],
     "id": "",
     "name": "\"code\""
    }
   },
   "source": [
    "<pre><code>remove :: [String] -> IO ()\n",
    "remove [fileName, numberString] = do\n",
    "    handle <- openFile fileName ReadMode\n",
    "    (tempName, tempHandle) <- openTempFile \".\" \"temp\"\n",
    "    contents <- hGetContents handle\n",
    "    let number = read numberString\n",
    "        todoTasks = lines contents\n",
    "        newTodoItems = delete (todoTasks !! number) todoTasks\n",
    "    hPutStr tempHandle $ unlines newTodoItems\n",
    "    hClose handle\n",
    "    hClose tempHandle\n",
    "    removeFile fileName\n",
    "    renameFile tempName fileName</code></pre>"
   ]
  },
  {
   "cell_type": "markdown",
   "metadata": {},
   "source": [
    "We opened up the file based on `fileName` and opened a temporary file,\n",
    "deleted the line with the index that the user wants to delete, wrote\n",
    "that to the temporary file, removed the original file and renamed the\n",
    "temporary file back to `fileName`.\n",
    "\n",
    "Here's the whole program at once, in all its glory!"
   ]
  },
  {
   "cell_type": "code",
   "execution_count": 80,
   "metadata": {
    "attributes": {
     "classes": [
      "haskell:hs"
     ],
     "id": "",
     "name": "\"code\""
    }
   },
   "outputs": [],
   "source": [
    "import System.Environment\n",
    "import System.Directory\n",
    "import System.IO\n",
    "import Data.List\n",
    "\n",
    "dispatch :: [(String, [String] -> IO ())]\n",
    "dispatch =  [ (\"add\", add)\n",
    "            , (\"view\", view)\n",
    "            , (\"remove\", remove)\n",
    "            ]\n",
    "\n",
    "main = do\n",
    "    (command:args) <- getArgs\n",
    "    let (Just action) = lookup command dispatch\n",
    "    action args\n",
    "\n",
    "add :: [String] -> IO ()\n",
    "add [fileName, todoItem] = appendFile fileName (todoItem ++ \"\\n\")\n",
    "\n",
    "view :: [String] -> IO ()\n",
    "view [fileName] = do\n",
    "    contents <- readFile fileName\n",
    "    let todoTasks = lines contents\n",
    "        numberedTasks = zipWith (\\n line -> show n ++ \" - \" ++ line) [0..] todoTasks\n",
    "    putStr $ unlines numberedTasks\n",
    "\n",
    "remove :: [String] -> IO ()\n",
    "remove [fileName, numberString] = do\n",
    "    handle <- openFile fileName ReadMode\n",
    "    (tempName, tempHandle) <- openTempFile \".\" \"temp\"\n",
    "    contents <- hGetContents handle\n",
    "    let number = read numberString\n",
    "        todoTasks = lines contents\n",
    "        newTodoItems = delete (todoTasks !! number) todoTasks\n",
    "    hPutStr tempHandle $ unlines newTodoItems\n",
    "    hClose handle\n",
    "    hClose tempHandle\n",
    "    removeFile fileName\n",
    "    renameFile tempName fileName"
   ]
  },
  {
   "cell_type": "markdown",
   "metadata": {},
   "source": [
    "<img src=\"img/salad.png\" title=\"fresh baked salad\" style=\"background-color:white;float:left;margin-right:2em;\" />\n",
    "\n",
    "To summarize our solution: we made a dispatch association that maps from\n",
    "commands to functions that take some command line arguments and return\n",
    "an I/O action. We see what the command is and based on that we get the\n",
    "appropriate function from the dispatch list. We call that function with\n",
    "the rest of the command line arguments to get back an I/O action that\n",
    "will do the appropriate thing and then just perform that action!\n",
    "\n",
    "In other languages, we might have implemented this with a big switch\n",
    "case statement or whatever, but using higher order functions allows us\n",
    "to just tell the dispatch list to give us the appropriate function and\n",
    "then tell that function to give us an I/O action for some command line\n",
    "arguments.\n",
    "\n",
    "Let's try our app out!"
   ]
  },
  {
   "cell_type": "code",
   "execution_count": 81,
   "metadata": {
    "attributes": {
     "classes": [
      "haskell:hs"
     ],
     "id": "",
     "name": "\"code\""
    }
   },
   "outputs": [],
   "source": [
    "writeFile \"todo.txt\" $ unlines\n",
    "  [ \"Iron the dishes\"\n",
    "  , \"Dust the dog\"\n",
    "  , \"Take salad out of the oven\"\n",
    "  ]"
   ]
  },
  {
   "cell_type": "code",
   "execution_count": 82,
   "metadata": {
    "attributes": {
     "classes": [
      "plain"
     ],
     "id": "",
     "name": "\"code\""
    }
   },
   "outputs": [
    {
     "data": {
      "text/plain": [
       "0 - Iron the dishes\n",
       "1 - Dust the dog\n",
       "2 - Take salad out of the oven"
      ]
     },
     "metadata": {},
     "output_type": "display_data"
    }
   ],
   "source": [
    "withArgs [\"view\", \"todo.txt\"] main"
   ]
  },
  {
   "cell_type": "code",
   "execution_count": 83,
   "metadata": {
    "attributes": {
     "classes": [
      "plain"
     ],
     "id": "",
     "name": "\"code\""
    }
   },
   "outputs": [],
   "source": [
    "withArgs [\"add\", \"todo.txt\", \"Pick up children from drycleaners\"] main"
   ]
  },
  {
   "cell_type": "code",
   "execution_count": 84,
   "metadata": {
    "attributes": {
     "classes": [
      "plain"
     ],
     "id": "",
     "name": "\"code\""
    }
   },
   "outputs": [
    {
     "data": {
      "text/plain": [
       "0 - Iron the dishes\n",
       "1 - Dust the dog\n",
       "2 - Take salad out of the oven\n",
       "3 - Pick up children from drycleaners"
      ]
     },
     "metadata": {},
     "output_type": "display_data"
    }
   ],
   "source": [
    "withArgs [\"view\", \"todo.txt\"] main"
   ]
  },
  {
   "cell_type": "code",
   "execution_count": 85,
   "metadata": {
    "attributes": {
     "classes": [
      "plain"
     ],
     "id": "",
     "name": "\"code\""
    }
   },
   "outputs": [],
   "source": [
    "withArgs [\"remove\", \"todo.txt\", \"2\"] main"
   ]
  },
  {
   "cell_type": "code",
   "execution_count": 86,
   "metadata": {
    "attributes": {
     "classes": [
      "plain"
     ],
     "id": "",
     "name": "\"code\""
    }
   },
   "outputs": [
    {
     "data": {
      "text/plain": [
       "0 - Iron the dishes\n",
       "1 - Dust the dog\n",
       "2 - Pick up children from drycleaners"
      ]
     },
     "metadata": {},
     "output_type": "display_data"
    }
   ],
   "source": [
    "withArgs [\"view\", \"todo.txt\"] main"
   ]
  },
  {
   "cell_type": "markdown",
   "metadata": {},
   "source": [
    "Another cool thing about this is that it's easy to add extra\n",
    "functionality. Just add an entry in the dispatch association list and\n",
    "implement the corresponding function and you're laughing! As an\n",
    "exercise, you can try implementing a `bump` function that will take a file\n",
    "and a task number and return an I/O action that bumps that task to the\n",
    "top of the to-do list.\n",
    "\n",
    "You could make this program fail a bit more gracefully in case of bad\n",
    "input (for example, if someone runs `todo UP YOURS HAHAHAHA`) by making an\n",
    "I/O action that just reports there has been an error (say,\n",
    "`errorExit :: IO ()`) and then check for possible erroneous input and if there is\n",
    "erroneous input, perform the error reporting I/O action. Another way is\n",
    "to use exceptions, which we will meet soon.\n",
    "\n",
    "<a name=\"randomness\"></a>\n",
    "\n",
    "Randomness\n",
    "----------\n",
    "\n",
    "<img src=\"img/random.png\" title=\"this picture is the ultimate source of randomness and wackiness\" style=\"background-color:white;float:right;margin-left:2em;\"/>\n",
    "\n",
    "Many times while programming, you need to get some random data. Maybe\n",
    "you're making a game where a die needs to be thrown or you need to\n",
    "generate some test data to test out your program. There are a lot of\n",
    "uses for random data when programming. Well, actually, pseudo-random,\n",
    "because we all know that the only true source of randomness is a monkey\n",
    "on a unicycle with a cheese in one hand and its butt in the other. In\n",
    "this section, we'll take a look at how to make Haskell generate\n",
    "seemingly random data.\n",
    "\n",
    "In most other programming languages, you have functions that give you\n",
    "back some random number. Each time you call that function, you get back\n",
    "a (hopefully) different random number. How about Haskell? Well,\n",
    "remember, Haskell is a pure functional language. What that means is that\n",
    "it has referential transparency. What THAT means is that a function, if\n",
    "given the same parameters twice, must produce the same result twice.\n",
    "That's really cool because it allows us to reason differently about\n",
    "programs and it enables us to defer evaluation until we really need it.\n",
    "If I call a function, I can be sure that it won't do any funny stuff\n",
    "before giving me the results. All that matters are its results. However,\n",
    "this makes it a bit tricky for getting random numbers. If I have a\n",
    "function like this:"
   ]
  },
  {
   "cell_type": "markdown",
   "metadata": {
    "attributes": {
     "classes": [
      "haskell:hs"
     ],
     "id": "",
     "name": "\"code\""
    }
   },
   "source": [
    "<pre><code>randomNumber :: (Num a) => a\n",
    "randomNumber = 4</code></pre>"
   ]
  },
  {
   "cell_type": "markdown",
   "metadata": {},
   "source": [
    "It's not very useful as a random number function because it will always\n",
    "return `4`, even though I can assure you that the 4 is completely random,\n",
    "because I used a die to determine it.\n",
    "\n",
    "How do other languages make seemingly random numbers? Well, they take\n",
    "various info from your computer, like the current time, how much and\n",
    "where you moved your mouse and what kind of noises you made behind your\n",
    "computer and based on that, give a number that looks really random. The\n",
    "combination of those factors (that randomness) is probably different in\n",
    "any given moment in time, so you get a different random number.\n",
    "\n",
    "Ah. So in Haskell, we can make a random number then if we make a\n",
    "function that takes as its parameter that randomness and based on that\n",
    "returns some number (or other data type).\n",
    "\n",
    "Enter the `System.Random` module. It has all the functions that satisfy\n",
    "our need for randomness. Let's just dive into one of the functions it\n",
    "exports then, namely __`random`__. Here's its type:\n",
    "`random :: (RandomGen g, Random a) => g -> (a, g)`. Whoa! Some new typeclasses in this type\n",
    "declaration up in here! The __`RandomGen`__ typeclass is for types that can\n",
    "act as sources of randomness. The __`Random`__ typeclass is for things that\n",
    "can take on random values. A boolean value can take on a random value,\n",
    "namely [`True`](https://hackage.haskell.org/package/base/docs/Prelude.html#v:True) or [`False`](https://hackage.haskell.org/package/base/docs/Prelude.html#v:False). A number can also take up a plethora of different\n",
    "random values. Can a function take on a random value? I don't think so,\n",
    "probably not! If we try to translate the type declaration of `random` to\n",
    "English, we get something like: it takes a random generator (that's our\n",
    "source of randomness) and returns a random value and a new random\n",
    "generator. Why does it also return a new generator as well as a random\n",
    "value? Well, we'll see in a moment.\n",
    "\n",
    "To use our `random` function, we have to get our hands on one of those\n",
    "random generators. The `System.Random` module exports a cool type, namely\n",
    "__`StdGen`__ that is an instance of the `RandomGen` typeclass. We can either\n",
    "make a `StdGen` manually or we can tell the system to give us one based on\n",
    "a multitude of sort of random stuff.\n",
    "\n",
    "To manually make a random generator, use the __`mkStdGen`__ function. It has a\n",
    "type of `mkStdGen :: Int -> StdGen`. It takes an integer and based on\n",
    "that, gives us a random generator. Okay then, let's try using `random` and\n",
    "`mkStdGen` in tandem to get a (hardly random) number."
   ]
  },
  {
   "cell_type": "code",
   "execution_count": 87,
   "metadata": {
    "attributes": {
     "classes": [
      "haskell:hs"
     ],
     "id": "",
     "name": "\"code\""
    }
   },
   "outputs": [
    {
     "data": {
      "text/plain": [
       "(9216477508314497915,StdGen {unStdGen = SMGen 712633246999323047 2532601429470541125})"
      ]
     },
     "metadata": {},
     "output_type": "display_data"
    }
   ],
   "source": [
    "import System.Random\n",
    "\n",
    "random (mkStdGen 100)"
   ]
  },
  {
   "cell_type": "markdown",
   "metadata": {
    "attributes": {
     "classes": [
      "plain"
     ],
     "id": "",
     "name": "\"code\""
    }
   },
   "source": [
    "<pre><code>\\<interactive\\>:1:0:\n",
    "    Ambiguous type variable `a' in the constraint:\n",
    "      `Random a' arising from a use of `random' at \\<interactive\\>:1:0-20\n",
    "    Probable fix: add a type signature that fixes these type variable(s)</code></pre>"
   ]
  },
  {
   "cell_type": "markdown",
   "metadata": {},
   "source": [
    "What's this? Ah, right, the `random` function can return a value of any\n",
    "type that's part of the `Random` typeclass, so we have to inform Haskell\n",
    "what kind of type we want. Also let's not forget that it returns a\n",
    "random value and a random generator in a pair."
   ]
  },
  {
   "cell_type": "code",
   "execution_count": 88,
   "metadata": {
    "attributes": {
     "classes": [
      "haskell:hs"
     ],
     "id": "",
     "name": "\"code\""
    }
   },
   "outputs": [
    {
     "data": {
      "text/plain": [
       "(9216477508314497915,StdGen {unStdGen = SMGen 712633246999323047 2532601429470541125})"
      ]
     },
     "metadata": {},
     "output_type": "display_data"
    }
   ],
   "source": [
    "random (mkStdGen 100) :: (Int, StdGen)"
   ]
  },
  {
   "cell_type": "markdown",
   "metadata": {},
   "source": [
    "Finally! A number that looks kind of random! The first component of the\n",
    "tuple is our number whereas the second component is a textual\n",
    "representation of our new random generator. What happens if we call\n",
    "`random` with the same random generator again?"
   ]
  },
  {
   "cell_type": "code",
   "execution_count": 89,
   "metadata": {
    "attributes": {
     "classes": [
      "haskell:hs"
     ],
     "id": "",
     "name": "\"code\""
    }
   },
   "outputs": [
    {
     "data": {
      "text/plain": [
       "(9216477508314497915,StdGen {unStdGen = SMGen 712633246999323047 2532601429470541125})"
      ]
     },
     "metadata": {},
     "output_type": "display_data"
    }
   ],
   "source": [
    "random (mkStdGen 100) :: (Int, StdGen)"
   ]
  },
  {
   "cell_type": "markdown",
   "metadata": {},
   "source": [
    "Of course. The same result for the same parameters. So let's try giving\n",
    "it a different random generator as a parameter."
   ]
  },
  {
   "cell_type": "code",
   "execution_count": 90,
   "metadata": {
    "attributes": {
     "classes": [
      "haskell:hs"
     ],
     "id": "",
     "name": "\"code\""
    }
   },
   "outputs": [
    {
     "data": {
      "text/plain": [
       "(-3721561930999131179,StdGen {unStdGen = SMGen 3529285061597105018 656261746462218851})"
      ]
     },
     "metadata": {},
     "output_type": "display_data"
    }
   ],
   "source": [
    "random (mkStdGen 949494) :: (Int, StdGen)"
   ]
  },
  {
   "cell_type": "markdown",
   "metadata": {},
   "source": [
    "Alright, cool, great, a different number. We can use the type annotation\n",
    "to get different types back from that function."
   ]
  },
  {
   "cell_type": "code",
   "execution_count": 91,
   "metadata": {
    "attributes": {
     "classes": [
      "haskell:hs"
     ],
     "id": "",
     "name": "\"code\""
    }
   },
   "outputs": [
    {
     "data": {
      "text/plain": [
       "(0.28144592,StdGen {unStdGen = SMGen 2179256218976226416 4388660484137712901})"
      ]
     },
     "metadata": {},
     "output_type": "display_data"
    }
   ],
   "source": [
    "random (mkStdGen 949488) :: (Float, StdGen)"
   ]
  },
  {
   "cell_type": "code",
   "execution_count": 92,
   "metadata": {
    "attributes": {
     "classes": [
      "haskell:hs"
     ],
     "id": "",
     "name": "\"code\""
    }
   },
   "outputs": [
    {
     "data": {
      "text/plain": [
       "(True,StdGen {unStdGen = SMGen 2179256218976226416 4388660484137712901})"
      ]
     },
     "metadata": {},
     "output_type": "display_data"
    }
   ],
   "source": [
    "random (mkStdGen 949488) :: (Bool, StdGen)"
   ]
  },
  {
   "cell_type": "code",
   "execution_count": 93,
   "metadata": {
    "attributes": {
     "classes": [
      "haskell:hs"
     ],
     "id": "",
     "name": "\"code\""
    }
   },
   "outputs": [
    {
     "data": {
      "text/plain": [
       "(-1991610726167140167,StdGen {unStdGen = SMGen 2179256218976226416 4388660484137712901})"
      ]
     },
     "metadata": {},
     "output_type": "display_data"
    }
   ],
   "source": [
    "random (mkStdGen 949488) :: (Integer, StdGen)"
   ]
  },
  {
   "cell_type": "markdown",
   "metadata": {},
   "source": [
    "Let's make a function that simulates tossing a coin three times. If\n",
    "`random` didn't return a new generator along with a random value, we'd\n",
    "have to make this function take three random generators as a parameter\n",
    "and then return coin tosses for each of them. But that sounds wrong\n",
    "because if one generator can make a random value of type [`Int`](https://hackage.haskell.org/package/base/docs/Prelude.html#t:Int) (which can\n",
    "take on a load of different values), it should be able to make three\n",
    "coin tosses (which can take on precisely eight combinations). So this is\n",
    "where `random` returning a new generator along with a value really comes\n",
    "in handy.\n",
    "\n",
    "We'll represent a coin with a simple [`Bool`](https://hackage.haskell.org/package/base/docs/Prelude.html#t:Bool). [`True`](https://hackage.haskell.org/package/base/docs/Prelude.html#v:True) is tails, [`False`](https://hackage.haskell.org/package/base/docs/Prelude.html#v:False) is\n",
    "heads."
   ]
  },
  {
   "cell_type": "code",
   "execution_count": 94,
   "metadata": {
    "attributes": {
     "classes": [
      "haskell:hs"
     ],
     "id": "",
     "name": "\"code\""
    }
   },
   "outputs": [],
   "source": [
    "threeCoins :: StdGen -> (Bool, Bool, Bool)\n",
    "threeCoins gen =\n",
    "    let (firstCoin, newGen) = random gen :: (Bool, StdGen)\n",
    "        (secondCoin, newGen') = random newGen :: (Bool, StdGen)\n",
    "        (thirdCoin, newGen'') = random newGen' :: (Bool, StdGen)\n",
    "    in  (firstCoin, secondCoin, thirdCoin)"
   ]
  },
  {
   "cell_type": "markdown",
   "metadata": {},
   "source": [
    "We call `random` with the generator we got as a parameter to get a coin\n",
    "and a new generator. Then we call it again, only this time with our new\n",
    "generator, to get the second coin. We do the same for the third coin.\n",
    "Had we called it with the same generator every time, all the coins would\n",
    "have had the same value and we'd only be able to get\n",
    "`(False, False, False)` or `(True, True, True)` as a result."
   ]
  },
  {
   "cell_type": "code",
   "execution_count": 95,
   "metadata": {
    "attributes": {
     "classes": [
      "haskell:hs"
     ],
     "id": "",
     "name": "\"code\""
    }
   },
   "outputs": [
    {
     "data": {
      "text/plain": [
       "(True,False,False)"
      ]
     },
     "metadata": {},
     "output_type": "display_data"
    }
   ],
   "source": [
    "threeCoins (mkStdGen 21)"
   ]
  },
  {
   "cell_type": "code",
   "execution_count": 96,
   "metadata": {
    "attributes": {
     "classes": [
      "haskell:hs"
     ],
     "id": "",
     "name": "\"code\""
    }
   },
   "outputs": [
    {
     "data": {
      "text/plain": [
       "(False,True,True)"
      ]
     },
     "metadata": {},
     "output_type": "display_data"
    }
   ],
   "source": [
    "threeCoins (mkStdGen 22)"
   ]
  },
  {
   "cell_type": "code",
   "execution_count": 97,
   "metadata": {
    "attributes": {
     "classes": [
      "haskell:hs"
     ],
     "id": "",
     "name": "\"code\""
    }
   },
   "outputs": [
    {
     "data": {
      "text/plain": [
       "(True,False,True)"
      ]
     },
     "metadata": {},
     "output_type": "display_data"
    }
   ],
   "source": [
    "threeCoins (mkStdGen 943)"
   ]
  },
  {
   "cell_type": "code",
   "execution_count": 98,
   "metadata": {
    "attributes": {
     "classes": [
      "haskell:hs"
     ],
     "id": "",
     "name": "\"code\""
    }
   },
   "outputs": [
    {
     "data": {
      "text/plain": [
       "(False,False,False)"
      ]
     },
     "metadata": {},
     "output_type": "display_data"
    }
   ],
   "source": [
    "threeCoins (mkStdGen 944)"
   ]
  },
  {
   "cell_type": "markdown",
   "metadata": {},
   "source": [
    "Notice that we didn't have to do `random gen :: (Bool, StdGen)`. That's\n",
    "because we already specified that we want booleans in the type\n",
    "declaration of the function. That's why Haskell can infer that we want a\n",
    "boolean value in this case.\n",
    "\n",
    "So what if we want to flip four coins? Or five? Well, there's a function\n",
    "called __`randoms`__ that takes a generator and returns an infinite sequence\n",
    "of values based on that generator."
   ]
  },
  {
   "cell_type": "code",
   "execution_count": 99,
   "metadata": {
    "attributes": {
     "classes": [
      "haskell:hs"
     ],
     "id": "",
     "name": "\"code\""
    }
   },
   "outputs": [
    {
     "data": {
      "text/plain": [
       "[-8691282579076269733,-6401397088113744335,-7708536135073118066,1428399377092000640,-6279174627358091186]"
      ]
     },
     "metadata": {},
     "output_type": "display_data"
    }
   ],
   "source": [
    "take 5 $ randoms (mkStdGen 11) :: [Int]"
   ]
  },
  {
   "cell_type": "code",
   "execution_count": 100,
   "metadata": {
    "attributes": {
     "classes": [
      "haskell:hs"
     ],
     "id": "",
     "name": "\"code\""
    }
   },
   "outputs": [
    {
     "data": {
      "text/plain": [
       "[True,True,False,False,False]"
      ]
     },
     "metadata": {},
     "output_type": "display_data"
    }
   ],
   "source": [
    "take 5 $ randoms (mkStdGen 11) :: [Bool]"
   ]
  },
  {
   "cell_type": "code",
   "execution_count": 101,
   "metadata": {
    "attributes": {
     "classes": [
      "haskell:hs"
     ],
     "id": "",
     "name": "\"code\""
    }
   },
   "outputs": [
    {
     "data": {
      "text/plain": [
       "[6.3991964e-2,0.3095299,0.95818657,0.636883,0.10283136]"
      ]
     },
     "metadata": {},
     "output_type": "display_data"
    }
   ],
   "source": [
    "take 5 $ randoms (mkStdGen 11) :: [Float]"
   ]
  },
  {
   "cell_type": "markdown",
   "metadata": {},
   "source": [
    "Why doesn't `randoms` return a new generator as well as a list? We could\n",
    "implement the `randoms` function very easily like this:"
   ]
  },
  {
   "cell_type": "code",
   "execution_count": 102,
   "metadata": {
    "attributes": {
     "classes": [
      "haskell:hs"
     ],
     "id": "",
     "name": "\"code\""
    }
   },
   "outputs": [],
   "source": [
    ":extension ExplicitForAll\n",
    ":extension ScopedTypeVariables\n",
    "\n",
    "randoms' :: forall g a. (RandomGen g, Random a) => g -> [a]\n",
    "randoms' gen = let (value :: a, newGen :: g) = random gen in value:randoms' newGen"
   ]
  },
  {
   "cell_type": "markdown",
   "metadata": {},
   "source": [
    "A recursive definition. We get a random value and a new generator from\n",
    "the current generator and then make a list that has the value as its\n",
    "head and random numbers based on the new generator as its tail. Because\n",
    "we have to be able to potentially generate an infinite amount of\n",
    "numbers, we can't give the new random generator back.\n",
    "\n",
    "We could make a function that generates a finite stream of numbers and a\n",
    "new generator like this:"
   ]
  },
  {
   "cell_type": "code",
   "execution_count": 103,
   "metadata": {
    "attributes": {
     "classes": [
      "haskell:hs"
     ],
     "id": "",
     "name": "\"code\""
    }
   },
   "outputs": [],
   "source": [
    ":extension ExplicitForAll\n",
    ":extension ScopedTypeVariables\n",
    "\n",
    "finiteRandoms :: forall g a n. (RandomGen g, Random a, Num n, Eq n) => n -> g -> ([a], g)\n",
    "finiteRandoms 0 gen = ([], gen)\n",
    "finiteRandoms n gen =\n",
    "    let (value :: a, newGen :: g) = random gen\n",
    "        (restOfList :: [a], finalGen :: g) = finiteRandoms (n-1) newGen\n",
    "    in  (value:restOfList, finalGen)"
   ]
  },
  {
   "cell_type": "markdown",
   "metadata": {},
   "source": [
    "Again, a recursive definition. We say that if we want 0 numbers, we just\n",
    "return an empty list and the generator that was given to us. For any\n",
    "other number of random values, we first get one random number and a new\n",
    "generator. That will be the head. Then we say that the tail will be *n -\n",
    "1* numbers generated with the new generator. Then we return the head and\n",
    "the rest of the list joined and the final generator that we got from\n",
    "getting the *n - 1* random numbers.\n",
    "\n",
    "What if we want a random value in some sort of range? All the random\n",
    "integers so far were outrageously big or small. What if we want to to\n",
    "throw a die? Well, we use __`randomR`__ for that purpose. It has a type of\n",
    "`randomR :: (RandomGen g, Random a) :: (a, a) -> g -> (a, g)`, meaning\n",
    "that it's kind of like `random`, only it takes as its first parameter a\n",
    "pair of values that set the lower and upper bounds and the final value\n",
    "produced will be within those bounds."
   ]
  },
  {
   "cell_type": "code",
   "execution_count": 104,
   "metadata": {
    "attributes": {
     "classes": [
      "haskell:hs"
     ],
     "id": "",
     "name": "\"code\""
    }
   },
   "outputs": [
    {
     "data": {
      "text/plain": [
       "(4,StdGen {unStdGen = SMGen 10995245518073353784 11826319359189470311})"
      ]
     },
     "metadata": {},
     "output_type": "display_data"
    }
   ],
   "source": [
    "randomR (1,6) (mkStdGen 359353)"
   ]
  },
  {
   "cell_type": "code",
   "execution_count": 105,
   "metadata": {
    "attributes": {
     "classes": [
      "haskell:hs"
     ],
     "id": "",
     "name": "\"code\""
    }
   },
   "outputs": [
    {
     "data": {
      "text/plain": [
       "(5,StdGen {unStdGen = SMGen 16742454905583792488 1242096894807673913})"
      ]
     },
     "metadata": {},
     "output_type": "display_data"
    }
   ],
   "source": [
    "randomR (1,6) (mkStdGen 35935335)"
   ]
  },
  {
   "cell_type": "markdown",
   "metadata": {},
   "source": [
    "There's also `randomRs`, which produces a stream of random values within\n",
    "our defined ranges. Check this out:"
   ]
  },
  {
   "cell_type": "code",
   "execution_count": 106,
   "metadata": {
    "attributes": {
     "classes": [
      "haskell:hs"
     ],
     "id": "",
     "name": "\"code\""
    }
   },
   "outputs": [
    {
     "data": {
      "text/plain": [
       "\"zkjowfddqk\""
      ]
     },
     "metadata": {},
     "output_type": "display_data"
    }
   ],
   "source": [
    "take 10 $ randomRs ('a','z') (mkStdGen 3) :: [Char]"
   ]
  },
  {
   "cell_type": "markdown",
   "metadata": {},
   "source": [
    "Nice, looks like a super secret password or something.\n",
    "\n",
    "You may be asking yourself, what does this section have to do with I/O\n",
    "anyway? We haven't done anything concerning I/O so far. Well, so far\n",
    "we've always made our random number generator manually by making it with\n",
    "some arbitrary integer. The problem is, if we do that in our real\n",
    "programs, they will always return the same random numbers, which is no\n",
    "good for us. That's why `System.Random` offers the __`getStdGen`__ I/O action,\n",
    "which has a type of `IO StdGen`. When your program starts, it asks the\n",
    "system for a good random number generator and stores that in a so called\n",
    "global generator. `getStdGen` fetches you that global random generator\n",
    "when you bind it to something.\n",
    "\n",
    "Here's a simple program that generates a random string."
   ]
  },
  {
   "cell_type": "code",
   "execution_count": 107,
   "metadata": {
    "attributes": {
     "classes": [
      "haskell:hs"
     ],
     "id": "",
     "name": "\"code\""
    }
   },
   "outputs": [],
   "source": [
    "import System.Random\n",
    "\n",
    "main = do\n",
    "    gen <- getStdGen\n",
    "    putStr $ take 20 (randomRs ('a','z') gen)"
   ]
  },
  {
   "cell_type": "code",
   "execution_count": 108,
   "metadata": {
    "attributes": {
     "classes": [
      "plain"
     ],
     "id": "",
     "name": "\"code\""
    }
   },
   "outputs": [
    {
     "data": {
      "text/plain": [
       "hmyotmkxgmnzfsmefkfe"
      ]
     },
     "metadata": {},
     "output_type": "display_data"
    }
   ],
   "source": [
    "main"
   ]
  },
  {
   "cell_type": "code",
   "execution_count": 109,
   "metadata": {
    "attributes": {
     "classes": [
      "plain"
     ],
     "id": "",
     "name": "\"code\""
    }
   },
   "outputs": [
    {
     "data": {
      "text/plain": [
       "hmyotmkxgmnzfsmefkfe"
      ]
     },
     "metadata": {},
     "output_type": "display_data"
    }
   ],
   "source": [
    "main"
   ]
  },
  {
   "cell_type": "code",
   "execution_count": 110,
   "metadata": {
    "attributes": {
     "classes": [
      "plain"
     ],
     "id": "",
     "name": "\"code\""
    }
   },
   "outputs": [
    {
     "data": {
      "text/plain": [
       "hmyotmkxgmnzfsmefkfe"
      ]
     },
     "metadata": {},
     "output_type": "display_data"
    }
   ],
   "source": [
    "main"
   ]
  },
  {
   "cell_type": "markdown",
   "metadata": {},
   "source": [
    "Be careful though, just performing `getStdGen` twice will ask the system\n",
    "for the same global generator twice. If you do this:"
   ]
  },
  {
   "cell_type": "code",
   "execution_count": 111,
   "metadata": {
    "attributes": {
     "classes": [
      "haskell:hs"
     ],
     "id": "",
     "name": "\"code\""
    }
   },
   "outputs": [],
   "source": [
    "import System.Random\n",
    "\n",
    "main = do\n",
    "    gen <- getStdGen\n",
    "    putStrLn $ take 20 (randomRs ('a','z') gen)\n",
    "    gen2 <- getStdGen\n",
    "    putStr $ take 20 (randomRs ('a','z') gen2)"
   ]
  },
  {
   "cell_type": "code",
   "execution_count": 112,
   "metadata": {
    "attributes": {
     "classes": [
      "haskell:hs"
     ],
     "id": "",
     "name": "\"code\""
    }
   },
   "outputs": [
    {
     "data": {
      "text/plain": [
       "hmyotmkxgmnzfsmefkfe\n",
       "hmyotmkxgmnzfsmefkfe"
      ]
     },
     "metadata": {},
     "output_type": "display_data"
    }
   ],
   "source": [
    "main"
   ]
  },
  {
   "cell_type": "markdown",
   "metadata": {},
   "source": [
    "you will get the same string printed out twice! One way to get two\n",
    "different strings of length 20 is to set up an infinite stream and then\n",
    "take the first 20 characters and print them out in one line and then\n",
    "take the second set of 20 characters and print them out in the second\n",
    "line. For this, we can use the [`splitAt`](https://hackage.haskell.org/package/base/docs/Prelude.html#v:splitAt) function from `Data.List`, which\n",
    "splits a list at some index and returns a tuple that has the first part\n",
    "as the first component and the second part as the second component."
   ]
  },
  {
   "cell_type": "code",
   "execution_count": 113,
   "metadata": {
    "attributes": {
     "classes": [
      "haskell:hs"
     ],
     "id": "",
     "name": "\"code\""
    }
   },
   "outputs": [],
   "source": [
    "import System.Random\n",
    "import Data.List\n",
    "\n",
    "main = do\n",
    "    gen <- getStdGen\n",
    "    let randomChars = randomRs ('a','z') gen\n",
    "        (first20, rest) = splitAt 20 randomChars\n",
    "        (second20, _) = splitAt 20 rest\n",
    "    putStrLn first20\n",
    "    putStr second20"
   ]
  },
  {
   "cell_type": "markdown",
   "metadata": {},
   "source": [
    "Another way is to use the __`newStdGen`__ action, which splits our current\n",
    "random generator into two generators. It updates the global random\n",
    "generator with one of them and encapsulates the other as its result."
   ]
  },
  {
   "cell_type": "code",
   "execution_count": 114,
   "metadata": {
    "attributes": {
     "classes": [
      "haskell:hs"
     ],
     "id": "",
     "name": "\"code\""
    }
   },
   "outputs": [],
   "source": [
    "import System.Random\n",
    "\n",
    "main = do\n",
    "    gen <- getStdGen\n",
    "    putStrLn $ take 20 (randomRs ('a','z') gen)\n",
    "    gen' <- newStdGen\n",
    "    putStr $ take 20 (randomRs ('a','z') gen')"
   ]
  },
  {
   "cell_type": "code",
   "execution_count": 115,
   "metadata": {
    "attributes": {
     "classes": [
      "haskell:hs"
     ],
     "id": "",
     "name": "\"code\""
    }
   },
   "outputs": [
    {
     "data": {
      "text/plain": [
       "hmyotmkxgmnzfsmefkfe\n",
       "pumwzorcjdietksckxyv"
      ]
     },
     "metadata": {},
     "output_type": "display_data"
    }
   ],
   "source": [
    "main"
   ]
  },
  {
   "cell_type": "markdown",
   "metadata": {},
   "source": [
    "Not only do we get a new random generator when we bind `newStdGen` to\n",
    "something, the global one gets updated as well, so if we do `getStdGen`\n",
    "again and bind it to something, we'll get a generator that's not the\n",
    "same as `gen`.\n",
    "\n",
    "Here's a little program that will make the user guess which number it's\n",
    "thinking of."
   ]
  },
  {
   "cell_type": "code",
   "execution_count": 116,
   "metadata": {
    "attributes": {
     "classes": [
      "haskell:hs"
     ],
     "id": "",
     "name": "\"code\""
    }
   },
   "outputs": [],
   "source": [
    "import System.Random\n",
    "import Control.Monad(when)\n",
    "\n",
    "main = do\n",
    "    gen <- getStdGen\n",
    "    askForNumber gen\n",
    "\n",
    "askForNumber :: StdGen -> IO ()\n",
    "askForNumber gen = do\n",
    "    let (randNumber, newGen) = randomR (1,10) gen :: (Int, StdGen)\n",
    "    putStrLn \"Which number in the range from 1 to 10 am I thinking of? \"\n",
    "    numberString <- getLine\n",
    "    when (not $ null numberString) $ do\n",
    "        let number = read numberString\n",
    "        if randNumber == number\n",
    "            then putStrLn \"You are correct!\"\n",
    "            else putStrLn $ \"Sorry, it was \" ++ show randNumber\n",
    "        askForNumber newGen"
   ]
  },
  {
   "cell_type": "markdown",
   "metadata": {},
   "source": [
    "<img src=\"img/jackofdiamonds.png\" title=\"jack of diamonds\" style=\"background-color:white;float:left;margin-right:2em;\" />\n",
    "\n",
    "We make a function `askForNumber`, which takes a random number generator\n",
    "and returns an I/O action that will prompt the user for a number and\n",
    "tell him if he guessed it right. In that function, we first generate a\n",
    "random number and a new generator based on the generator that we got as\n",
    "a parameter and call them `randNumber` and `newGen`. Let's say that the\n",
    "number generated was `7`. Then we tell the user to guess which number\n",
    "we're thinking of. We perform [`getLine`](https://hackage.haskell.org/package/base/docs/Prelude.html#v:getLine) and bind its result to\n",
    "`numberString`. When the user enters `7`, `numberString` becomes `\"7\"`. Next, we\n",
    "use [`when`](https://hackage.haskell.org/package/base/docs/Control-Monad.html#v:when) to check if the string the user entered is an empty string. If\n",
    "it is, an empty I/O action of `return ()` is performed, which effectively\n",
    "ends the program. If it isn't, the action consisting of that *do* block\n",
    "right there gets performed. We use [`read`](https://hackage.haskell.org/package/base/docs/Prelude.html#v:read) on `numberString` to convert it to\n",
    "a `number`, so number is now `7`.\n",
    "\n",
    "> __Excuse me!__ If the user gives us some input here that [`read`](https://hackage.haskell.org/package/base/docs/Prelude.html#v:read) can't read\n",
    "> (like `\"haha\"`), our program will crash with an ugly error message. If you\n",
    "> don't want your program to crash on erroneous input, use __[`reads`](https://hackage.haskell.org/package/base/docs/Prelude.html#v:reads)__, which\n",
    "> returns an empty list when it fails to read a string. When it succeeds,\n",
    "> it returns a singleton list with a tuple that has our desired value as\n",
    "> one component and a string with what it didn't consume as the other.\n",
    "\n",
    "We check if the number that we entered is equal to the one generated\n",
    "randomly and give the user the appropriate message. And then we call\n",
    "`askForNumber` recursively, only this time with the new generator that we\n",
    "got, which gives us an I/O action that's just like the one we performed,\n",
    "only it depends on a different generator and we perform it.\n",
    "\n",
    "`main` consists of just getting a random generator from the system and\n",
    "calling `askForNumber` with it to get the initial action.\n",
    "\n",
    "Here's our program in action!"
   ]
  },
  {
   "cell_type": "code",
   "execution_count": 117,
   "metadata": {
    "attributes": {
     "classes": [
      "plain"
     ],
     "id": "",
     "name": "\"code\""
    }
   },
   "outputs": [
    {
     "data": {
      "text/plain": [
       "Which number in the range from 1 to 10 am I thinking of? \n",
       "Sorry, it was 5\n",
       "Which number in the range from 1 to 10 am I thinking of? \n",
       "Sorry, it was 9\n",
       "Which number in the range from 1 to 10 am I thinking of? \n",
       "Sorry, it was 3\n",
       "Which number in the range from 1 to 10 am I thinking of? \n",
       "Sorry, it was 6\n",
       "Which number in the range from 1 to 10 am I thinking of? \n",
       "<stdin>: hGetLine: end of file"
      ]
     },
     "metadata": {},
     "output_type": "display_data"
    }
   ],
   "source": [
    "withStdin (unlines [\"4\", \"10\", \"2\", \"5\"]) $ catchPrint main"
   ]
  },
  {
   "cell_type": "markdown",
   "metadata": {},
   "source": [
    "Another way to make this same program is like this:"
   ]
  },
  {
   "cell_type": "code",
   "execution_count": 118,
   "metadata": {
    "attributes": {
     "classes": [
      "haskell:hs"
     ],
     "id": "",
     "name": "\"code\""
    }
   },
   "outputs": [],
   "source": [
    "import System.Random\n",
    "import Control.Monad(when)\n",
    "\n",
    "main = do\n",
    "    gen <- getStdGen\n",
    "    let (randNumber, _) = randomR (1,10) gen :: (Int, StdGen)\n",
    "    putStr \"Which number in the range from 1 to 10 am I thinking of? \"\n",
    "    numberString <- getLine\n",
    "    when (not $ null numberString) $ do\n",
    "        let number = read numberString\n",
    "        if randNumber == number\n",
    "            then putStrLn \"You are correct!\"\n",
    "            else putStrLn $ \"Sorry, it was \" ++ show randNumber\n",
    "        newStdGen\n",
    "        main"
   ]
  },
  {
   "cell_type": "markdown",
   "metadata": {},
   "source": [
    "It's very similar to the previous version, only instead of making a\n",
    "function that takes a generator and then calls itself recursively with\n",
    "the new updated generator, we do all the work in `main`. After telling the\n",
    "user whether they were correct in their guess or not, we update the\n",
    "global generator and then call `main` again. Both approaches are valid but\n",
    "I like the first one more since it does less stuff in `main` and also\n",
    "provides us with a function that we can reuse easily.\n",
    "\n",
    "Bytestrings\n",
    "-----------\n",
    "\n",
    "<img src=\"img/chainchomp.png\" title=\"like normal string, only they byte ... what a pedestrian pun this is\" style=\"background-color:white;float:right;margin-left:2em;\"/>\n",
    "\n",
    "Lists are a cool and useful data structure. So far, we've used them\n",
    "pretty much everywhere. There are a multitude of functions that operate\n",
    "on them and Haskell's laziness allows us to exchange the for and while\n",
    "loops of other languages for filtering and mapping over lists, because\n",
    "evaluation will only happen once it really needs to, so things like\n",
    "infinite lists (and even infinite lists of infinite lists!) are no\n",
    "problem for us. That's why lists can also be used to represent streams,\n",
    "either when reading from the standard input or when reading from files.\n",
    "We can just open a file and read it as a string, even though it will\n",
    "only be accessed when the need arises.\n",
    "\n",
    "However, processing files as strings has one drawback: it tends to be\n",
    "slow. As you know, [`String`](https://hackage.haskell.org/package/base/docs/Prelude.html#t:String) is a type synonym for `[Char]`. [`Char`](https://hackage.haskell.org/package/base/docs/Prelude.html#t:Char)s don't have\n",
    "a fixed size, because it takes several bytes to represent a character\n",
    "from, say, Unicode. Furthermore, lists are really lazy. If you have a\n",
    "list like `[1,2,3,4]`, it will be evaluated only when completely\n",
    "necessary. So the whole list is sort of a promise of a list. Remember\n",
    "that `[1,2,3,4]` is syntactic sugar for `1:2:3:4:[]`. When the first element\n",
    "of the list is forcibly evaluated (say by printing it), the rest of the\n",
    "list `2:3:4:[]` is still just a promise of a list, and so on. So you can\n",
    "think of lists as promises that the next element will be delivered once\n",
    "it really has to and along with it, the promise of the element after it.\n",
    "It doesn't take a big mental leap to conclude that processing a simple\n",
    "list of numbers as a series of promises might not be the most efficient\n",
    "thing in the world.\n",
    "\n",
    "That overhead doesn't bother us so much most of the time, but it turns\n",
    "out to be a liability when reading big files and manipulating them.\n",
    "That's why Haskell has *bytestrings*. Bytestrings are sort of like\n",
    "lists, only each element is one byte (or 8 bits) in size. The way they\n",
    "handle laziness is also different.\n",
    "\n",
    "Bytestrings come in two flavors: strict and lazy ones. Strict\n",
    "bytestrings reside in `Data.ByteString` and they do away with the laziness\n",
    "completely. There are no promises involved; a strict bytestring\n",
    "represents a series of bytes in an array. You can't have things like\n",
    "infinite strict bytestrings. If you evaluate the first byte of a strict\n",
    "bytestring, you have to evaluate it whole. The upside is that there's\n",
    "less overhead because there are no thunks (the technical term for\n",
    "*promise*) involved. The downside is that they're likely to fill your\n",
    "memory up faster because they're read into memory at once.\n",
    "\n",
    "The other variety of bytestrings resides in `Data.ByteString.Lazy`.\n",
    "They're lazy, but not quite as lazy as lists. Like we said before, there\n",
    "are as many thunks in a list as there are elements. That's what makes\n",
    "them kind of slow for some purposes. Lazy bytestrings take a different\n",
    "approach — they are stored in chunks (not to be confused with thunks!),\n",
    "each chunk has a size of 64K. So if you evaluate a byte in a lazy\n",
    "bytestring (by printing it or something), the first 64K will be\n",
    "evaluated. After that, it's just a promise for the rest of the chunks.\n",
    "Lazy bytestrings are kind of like lists of strict bytestrings with a\n",
    "size of 64K. When you process a file with lazy bytestrings, it will be\n",
    "read chunk by chunk. This is cool because it won't cause the memory\n",
    "usage to skyrocket and the 64K probably fits neatly into your CPU's L2\n",
    "cache.\n",
    "\n",
    "If you look through the\n",
    "[documentation](http://hackage.haskell.org/package/bytestring/docs/Data-ByteString-Lazy.html)\n",
    "for `Data.ByteString.Lazy`, you'll see that it has a lot of functions that\n",
    "have the same names as the ones from `Data.List`, only the type signatures\n",
    "have `ByteString` instead of `[a]` and `Word8` instead of `a` in them. The\n",
    "functions with the same names mostly act the same as the ones that work\n",
    "on lists. Because the names are the same, we're going to do a qualified\n",
    "import in a script and then load that script into GHCI to play with\n",
    "bytestrings."
   ]
  },
  {
   "cell_type": "code",
   "execution_count": 119,
   "metadata": {
    "attributes": {
     "classes": [
      "haskell:hs"
     ],
     "id": "",
     "name": "\"code\""
    }
   },
   "outputs": [],
   "source": [
    "import qualified Data.ByteString.Lazy as B\n",
    "import qualified Data.ByteString as S"
   ]
  },
  {
   "cell_type": "markdown",
   "metadata": {},
   "source": [
    "`B` has lazy bytestring types and functions, whereas [`S`](https://hackage.haskell.org/package/base/docs/GHC-Generics.html#t:S) has strict ones.\n",
    "We'll mostly be using the lazy version.\n",
    "\n",
    "The function __`pack`__ has the type signature `pack :: [Word8] -> ByteString`.\n",
    "What that means is that it takes a list of bytes of type `Word8` and\n",
    "returns a `ByteString`. You can think of it as taking a list, which is\n",
    "lazy, and making it less lazy, so that it's lazy only at 64K intervals.\n",
    "\n",
    "What's the deal with that `Word8` type? Well, it's like [`Int`](https://hackage.haskell.org/package/base/docs/Prelude.html#t:Int), only that it\n",
    "has a much smaller range, namely 0-255. It represents an 8-bit number.\n",
    "And just like [`Int`](https://hackage.haskell.org/package/base/docs/Prelude.html#t:Int), it's in the [`Num`](https://hackage.haskell.org/package/base/docs/Prelude.html#t:Num) typeclass. For instance, we know that\n",
    "the value `5` is polymorphic in that it can act like any numeral type.\n",
    "Well, it can also take the type of `Word8`."
   ]
  },
  {
   "cell_type": "code",
   "execution_count": 120,
   "metadata": {
    "attributes": {
     "classes": [
      "haskell:hs"
     ],
     "id": "",
     "name": "\"code\""
    }
   },
   "outputs": [
    {
     "data": {
      "text/plain": [
       "\"can\""
      ]
     },
     "metadata": {},
     "output_type": "display_data"
    }
   ],
   "source": [
    "B.pack [99,97,110]"
   ]
  },
  {
   "cell_type": "code",
   "execution_count": 121,
   "metadata": {
    "attributes": {
     "classes": [
      "haskell:hs"
     ],
     "id": "",
     "name": "\"code\""
    }
   },
   "outputs": [
    {
     "data": {
      "text/plain": [
       "\"bcdefghijklmnopqrstuvwx\""
      ]
     },
     "metadata": {},
     "output_type": "display_data"
    }
   ],
   "source": [
    "B.pack [98..120]"
   ]
  },
  {
   "cell_type": "markdown",
   "metadata": {},
   "source": [
    "As you can see, you usually don't have to worry about the `Word8` too\n",
    "much, because the type system can makes the numbers choose that type. If\n",
    "you try to use a big number, like `336` as a `Word8`, it will just wrap\n",
    "around to `80`.\n",
    "\n",
    "We packed only a handful of values into a `ByteString`, so they fit inside\n",
    "one chunk. The `Empty` is like the `[]` for lists.\n",
    "\n",
    "__`unpack`__ is the inverse function of `pack`. It takes a bytestring and turns\n",
    "it into a list of bytes.\n",
    "\n",
    "__`fromChunks`__ takes a list of strict bytestrings and converts it to a lazy\n",
    "bytestring. __`toChunks`__ takes a lazy bytestring and converts it to a list\n",
    "of strict ones."
   ]
  },
  {
   "cell_type": "code",
   "execution_count": 122,
   "metadata": {
    "attributes": {
     "classes": [
      "haskell:hs"
     ],
     "id": "",
     "name": "\"code\""
    }
   },
   "outputs": [
    {
     "data": {
      "text/plain": [
       "\"()*+,-./0\""
      ]
     },
     "metadata": {},
     "output_type": "display_data"
    }
   ],
   "source": [
    "B.fromChunks [S.pack [40,41,42], S.pack [43,44,45], S.pack [46,47,48]]"
   ]
  },
  {
   "cell_type": "markdown",
   "metadata": {},
   "source": [
    "This is good if you have a lot of small strict bytestrings and you want\n",
    "to process them efficiently without joining them into one big strict\n",
    "bytestring in memory first.\n",
    "\n",
    "The bytestring version of `:` is called __[`cons`](https://hackage.haskell.org/package/base/docs/Data-List-NonEmpty.html#v:cons)__ It takes a byte and a\n",
    "bytestring and puts the byte at the beginning. It's lazy though, so it\n",
    "will make a new chunk even if the first chunk in the bytestring isn't\n",
    "full. That's why it's better to use the strict version of [`cons`](https://hackage.haskell.org/package/base/docs/Data-List-NonEmpty.html#v:cons), __`cons'`__ if\n",
    "you're going to be inserting a lot of bytes at the beginning of a\n",
    "bytestring."
   ]
  },
  {
   "cell_type": "code",
   "execution_count": 123,
   "metadata": {
    "attributes": {
     "classes": [
      "haskell:hs"
     ],
     "id": "",
     "name": "\"code\""
    }
   },
   "outputs": [
    {
     "data": {
      "text/plain": [
       "\"UPQRT\""
      ]
     },
     "metadata": {},
     "output_type": "display_data"
    }
   ],
   "source": [
    "B.cons 85 $ B.pack [80,81,82,84]"
   ]
  },
  {
   "cell_type": "code",
   "execution_count": 124,
   "metadata": {
    "attributes": {
     "classes": [
      "haskell:hs"
     ],
     "id": "",
     "name": "\"code\""
    }
   },
   "outputs": [
    {
     "data": {
      "text/plain": [
       "\"UPQRT\""
      ]
     },
     "metadata": {},
     "output_type": "display_data"
    }
   ],
   "source": [
    "B.cons' 85 $ B.pack [80,81,82,84]"
   ]
  },
  {
   "cell_type": "code",
   "execution_count": 125,
   "metadata": {
    "attributes": {
     "classes": [
      "haskell:hs"
     ],
     "id": "",
     "name": "\"code\""
    }
   },
   "outputs": [
    {
     "data": {
      "text/plain": [
       "\"23456789:;<\""
      ]
     },
     "metadata": {},
     "output_type": "display_data"
    }
   ],
   "source": [
    "foldr B.cons B.empty [50..60]"
   ]
  },
  {
   "cell_type": "code",
   "execution_count": 126,
   "metadata": {
    "attributes": {
     "classes": [
      "haskell:hs"
     ],
     "id": "",
     "name": "\"code\""
    }
   },
   "outputs": [
    {
     "data": {
      "text/plain": [
       "\"23456789:;<\""
      ]
     },
     "metadata": {},
     "output_type": "display_data"
    }
   ],
   "source": [
    "foldr B.cons' B.empty [50..60]"
   ]
  },
  {
   "cell_type": "markdown",
   "metadata": {},
   "source": [
    "As you can see __[`empty`](https://hackage.haskell.org/package/base/docs/Control-Applicative.html#v:empty)__ makes an empty bytestring. See the difference\n",
    "between [`cons`](https://hackage.haskell.org/package/base/docs/Data-List-NonEmpty.html#v:cons) and `cons'`? With the [`foldr`](https://hackage.haskell.org/package/base/docs/Prelude.html#v:foldr), we started with an empty\n",
    "bytestring and then went over the list of numbers from the right, adding\n",
    "each number to the beginning of the bytestring. When we used [`cons`](https://hackage.haskell.org/package/base/docs/Data-List-NonEmpty.html#v:cons), we\n",
    "ended up with one chunk for every byte, which kind of defeats the\n",
    "purpose.\n",
    "\n",
    "Otherwise, the bytestring modules have a load of functions that are\n",
    "analogous to those in `Data.List`, including, but not limited to, [`head`](https://hackage.haskell.org/package/base/docs/Prelude.html#v:head),\n",
    "[`tail`](https://hackage.haskell.org/package/base/docs/Prelude.html#v:tail), [`init`](https://hackage.haskell.org/package/base/docs/Prelude.html#v:init), [`null`](https://hackage.haskell.org/package/base/docs/Prelude.html#v:null), [`length`](https://hackage.haskell.org/package/base/docs/Prelude.html#v:length), [`map`](https://hackage.haskell.org/package/base/docs/Prelude.html#v:map), [`reverse`](https://hackage.haskell.org/package/base/docs/Prelude.html#v:reverse), [`foldl`](https://hackage.haskell.org/package/base/docs/Prelude.html#v:foldl), [`foldr`](https://hackage.haskell.org/package/base/docs/Prelude.html#v:foldr), [`concat`](https://hackage.haskell.org/package/base/docs/Prelude.html#v:concat), [`takeWhile`](https://hackage.haskell.org/package/base/docs/Prelude.html#v:takeWhile),\n",
    "[`filter`](https://hackage.haskell.org/package/base/docs/Prelude.html#v:filter), etc.\n",
    "\n",
    "It also has functions that have the same name and behave the same as\n",
    "some functions found in `System.IO`, only [`String`](https://hackage.haskell.org/package/base/docs/Prelude.html#t:String)s are replaced with\n",
    "`ByteString`s. For instance, the [`readFile`](https://hackage.haskell.org/package/base/docs/Prelude.html#v:readFile) function in `System.IO` has a type\n",
    "of `readFile :: FilePath -> IO String`, while the __[`readFile`](https://hackage.haskell.org/package/base/docs/Prelude.html#v:readFile)__ from the\n",
    "bytestring modules has a type of `readFile :: FilePath -> IO ByteString`.\n",
    "Watch out, if you're using strict bytestrings and you attempt to read a\n",
    "file, it will read it into memory at once! With lazy bytestrings, it\n",
    "will read it into neat chunks.\n",
    "\n",
    "Let's make a simple program that takes two filenames as command-line\n",
    "arguments and copies the first file into the second file. Note that\n",
    "`System.Directory` already has a function called `copyFile`, but we're going\n",
    "to implement our own file copying function and program anyway."
   ]
  },
  {
   "cell_type": "code",
   "execution_count": 127,
   "metadata": {
    "attributes": {
     "classes": [
      "haskell:hs"
     ],
     "id": "",
     "name": "\"code\""
    }
   },
   "outputs": [],
   "source": [
    "import System.Environment\n",
    "import qualified Data.ByteString.Lazy as B\n",
    "\n",
    "main = do\n",
    "    (fileName1:fileName2:_) <- getArgs\n",
    "    copyFile fileName1 fileName2\n",
    "\n",
    "copyFile :: FilePath -> FilePath -> IO ()\n",
    "copyFile source dest = do\n",
    "    contents <- B.readFile source\n",
    "    B.writeFile dest contents"
   ]
  },
  {
   "cell_type": "markdown",
   "metadata": {},
   "source": [
    "We make our own function that takes two [`FilePath`](https://hackage.haskell.org/package/base/docs/Prelude.html#t:FilePath)s (remember, [`FilePath`](https://hackage.haskell.org/package/base/docs/Prelude.html#t:FilePath) is\n",
    "just a synonym for [`String`](https://hackage.haskell.org/package/base/docs/Prelude.html#t:String)) and returns an I/O action that will copy one\n",
    "file into another using bytestring. In the `main` function, we just get\n",
    "the arguments and call our function with them to get the I/O action,\n",
    "which is then performed."
   ]
  },
  {
   "cell_type": "code",
   "execution_count": 128,
   "metadata": {
    "attributes": {
     "classes": [
      "plain"
     ],
     "id": "",
     "name": "\"code\""
    }
   },
   "outputs": [],
   "source": [
    "withArgs [\"haiku.txt\", \"haiku_mou_iku.txt\"] main"
   ]
  },
  {
   "cell_type": "markdown",
   "metadata": {},
   "source": [
    "Notice that a program that doesn't use bytestrings could look just like\n",
    "this, the only difference is that we used `B.readFile` and `B.writeFile`\n",
    "instead of [`readFile`](https://hackage.haskell.org/package/base/docs/Prelude.html#v:readFile) and [`writeFile`](https://hackage.haskell.org/package/base/docs/Prelude.html#v:writeFile). Many times, you can convert a program\n",
    "that uses normal strings to a program that uses bytestrings by just\n",
    "doing the necessary imports and then putting the qualified module names\n",
    "in front of some functions. Sometimes, you have to convert functions\n",
    "that you wrote to work on strings so that they work on bytestrings, but\n",
    "that's not hard.\n",
    "\n",
    "Whenever you need better performance in a program that reads a lot of\n",
    "data into strings, give bytestrings a try, chances are you'll get some\n",
    "good performance boosts with very little effort on your part. I usually\n",
    "write programs by using normal strings and then convert them to use\n",
    "bytestrings if the performance is not satisfactory.\n",
    "\n",
    "Exceptions\n",
    "----------\n",
    "\n",
    "<img src=\"img/timber.png\" title=\"timberr!!!!\" style=\"background-color:white;float:left;margin-right:2em;\" />\n",
    "\n",
    "All languages have procedures, functions, and pieces of code that might\n",
    "fail in some way. That's just a fact of life. Different languages have\n",
    "different ways of handling those failures. In C, we usually use some\n",
    "abnormal return value (like `-1` or a null pointer) to indicate that what\n",
    "a function returned shouldn't be treated like a normal value. Java and\n",
    "C\\#, on the other hand, tend to use exceptions to handle failure. When\n",
    "an exception is thrown, the control flow jumps to some code that we've\n",
    "defined that does some cleanup and then maybe re-throws the exception so\n",
    "that some other error handling code can take care of some other stuff.\n",
    "\n",
    "Haskell has a very good type system. Algebraic data types allow for\n",
    "types like [`Maybe`](https://hackage.haskell.org/package/base/docs/Prelude.html#t:Maybe) and [`Either`](https://hackage.haskell.org/package/base/docs/Prelude.html#t:Either) and we can use values of those types to\n",
    "represent results that may be there or not. In C, returning, say, `-1` on\n",
    "failure is completely a matter of convention. It only has special\n",
    "meaning to humans. If we're not careful, we might treat these abnormal\n",
    "values as ordinary ones and then they can cause havoc and dismay in our\n",
    "code. Haskell's type system gives us some much-needed safety in that\n",
    "aspect. A function `a -> Maybe b` clearly indicates that it it may\n",
    "produce a `b` wrapped in [`Just`](https://hackage.haskell.org/package/base/docs/Prelude.html#v:Just) or that it may return [`Nothing`](https://hackage.haskell.org/package/base/docs/Prelude.html#v:Nothing). The type is\n",
    "different from just plain `a -> b` and if we try to use those two\n",
    "functions interchangeably, the compiler will complain at us.\n",
    "\n",
    "Despite having expressive types that support failed computations,\n",
    "Haskell still has support for exceptions, because they make more sense\n",
    "in I/O contexts. A lot of things can go wrong when dealing with the\n",
    "outside world because it is so unreliable. For instance, when opening a\n",
    "file, a bunch of things can go wrong. The file might be locked, it might\n",
    "not be there at all or the hard disk drive or something might not be\n",
    "there at all. So it's good to be able to jump to some error handling\n",
    "part of our code when such an error occurs.\n",
    "\n",
    "Okay, so I/O code (i.e. impure code) can throw exceptions. It makes\n",
    "sense. But what about pure code? Well, it can throw exceptions too.\n",
    "Think about the [`div`](https://hackage.haskell.org/package/base/docs/Prelude.html#v:div) and [`head`](https://hackage.haskell.org/package/base/docs/Prelude.html#v:head) functions. They have types of\n",
    "`(Integral a) => a -> a -> a` and `[a] -> a`, respectively. No [`Maybe`](https://hackage.haskell.org/package/base/docs/Prelude.html#t:Maybe) or [`Either`](https://hackage.haskell.org/package/base/docs/Prelude.html#t:Either) in\n",
    "their return type and yet they can both fail! [`div`](https://hackage.haskell.org/package/base/docs/Prelude.html#v:div) explodes in your face\n",
    "if you try to divide by zero and [`head`](https://hackage.haskell.org/package/base/docs/Prelude.html#v:head) throws a tantrum when you give it\n",
    "an empty list."
   ]
  },
  {
   "cell_type": "code",
   "execution_count": 129,
   "metadata": {
    "attributes": {
     "classes": [
      "haskell:hs"
     ],
     "id": "",
     "name": "\"code\""
    }
   },
   "outputs": [
    {
     "ename": "",
     "evalue": "",
     "output_type": "error",
     "traceback": [
      "divide by zero"
     ]
    }
   ],
   "source": [
    "4 `div` 0"
   ]
  },
  {
   "cell_type": "code",
   "execution_count": 130,
   "metadata": {
    "attributes": {
     "classes": [
      "haskell:hs"
     ],
     "id": "",
     "name": "\"code\""
    }
   },
   "outputs": [
    {
     "ename": "",
     "evalue": "",
     "output_type": "error",
     "traceback": [
      "Prelude.head: empty list"
     ]
    }
   ],
   "source": [
    "head []"
   ]
  },
  {
   "cell_type": "markdown",
   "metadata": {},
   "source": [
    "<img src=\"img/police.png\" title=\"Stop right there, criminal scum! Nobody breaks the law on my watch! Now pay your fine or it's off to jail.\" style=\"background-color:white;float:left;margin-right:2em;\" />\n",
    "\n",
    "Pure code can throw exceptions, but they can only be caught in the\n",
    "I/O part of our code (when we're inside a *do* block that goes into\n",
    "`main`). That's because you don't know when (or if) anything will be\n",
    "evaluated in pure code, because it is lazy and doesn't have a\n",
    "well-defined order of execution, whereas I/O code does.\n",
    "\n",
    "Earlier, we talked about how we should spend as little time as possible\n",
    "in the I/O part of our program. The logic of our program should reside\n",
    "mostly within our pure functions, because their results are dependant\n",
    "only on the parameters that the functions are called with. When dealing\n",
    "with pure functions, you only have to think about what a function\n",
    "returns, because it can't do anything else. This makes your life easier.\n",
    "Even though doing some logic in I/O is necessary (like opening files and\n",
    "the like), it should preferably be kept to a minimum. Pure functions are\n",
    "lazy by default, which means that we don't know when they will be\n",
    "evaluated and that it really shouldn't matter. However, once pure\n",
    "functions start throwing exceptions, it matters when they are evaluated.\n",
    "That's why we can only catch exceptions thrown from pure functions in\n",
    "the I/O part of our code. And that's bad, because we want to keep the\n",
    "I/O part as small as possible. However, if we don't catch them in the\n",
    "I/O part of our code, our program crashes. The solution? Don't mix\n",
    "exceptions and pure code. Take advantage of Haskell's powerful type\n",
    "system and use types like [`Either`](https://hackage.haskell.org/package/base/docs/Prelude.html#t:Either) and [`Maybe`](https://hackage.haskell.org/package/base/docs/Prelude.html#t:Maybe) to represent results that may\n",
    "have failed.\n",
    "\n",
    "That's why we'll just be looking at how to use I/O exceptions for now.\n",
    "I/O exceptions are exceptions that are caused when something goes wrong\n",
    "while we are communicating with the outside world in an I/O action\n",
    "that's part of `main`. For example, we can try opening a file and then it\n",
    "turns out that the file has been deleted or something. Take a look at\n",
    "this program that opens a file whose name is given to it as a command\n",
    "line argument and tells us how many lines the file has."
   ]
  },
  {
   "cell_type": "code",
   "execution_count": 131,
   "metadata": {
    "attributes": {
     "classes": [
      "haskell:hs"
     ],
     "id": "",
     "name": "\"code\""
    }
   },
   "outputs": [],
   "source": [
    "import System.Environment\n",
    "import System.IO\n",
    "\n",
    "main = do (fileName:_) <- getArgs\n",
    "          contents <- readFile fileName\n",
    "          putStrLn $ \"The file has \" ++ show (length (lines contents)) ++ \" lines!\""
   ]
  },
  {
   "cell_type": "markdown",
   "metadata": {},
   "source": [
    "A very simple program. We perform the [`getArgs`](https://hackage.haskell.org/package/base/docs/System-Environment.html#v:getArgs) I/O action and bind the\n",
    "first string in the list that it yields to `fileName`. Then we call the\n",
    "`contents` of the file with that name contents. Lastly, we apply [`lines`](https://hackage.haskell.org/package/base/docs/Prelude.html#v:lines) to\n",
    "those contents to get a list of lines and then we get the length of that\n",
    "list and give it to [`show`](https://hackage.haskell.org/package/base/docs/Prelude.html#v:show) to get a string representation of that number.\n",
    "It works as expected, but what happens when we give it the name of a\n",
    "file that doesn't exist?"
   ]
  },
  {
   "cell_type": "code",
   "execution_count": 132,
   "metadata": {
    "attributes": {
     "classes": [
      "plain"
     ],
     "id": "",
     "name": "\"code\""
    }
   },
   "outputs": [
    {
     "ename": "",
     "evalue": "",
     "output_type": "error",
     "traceback": [
      "i_dont_exist.txt: openFile: does not exist (No such file or directory)"
     ]
    }
   ],
   "source": [
    "withArgs [\"i_dont_exist.txt\"] main"
   ]
  },
  {
   "cell_type": "markdown",
   "metadata": {},
   "source": [
    "Aha, we get an error from GHC, telling us that the file does not exist.\n",
    "Our program crashes. What if we wanted to print out a nicer message if\n",
    "the file doesn't exist? One way to do that is to check if the file\n",
    "exists before trying to open it by using the __`doesFileExist`__ function from\n",
    "`System.Directory`."
   ]
  },
  {
   "cell_type": "code",
   "execution_count": 133,
   "metadata": {
    "attributes": {
     "classes": [
      "haskell:hs"
     ],
     "id": "",
     "name": "\"code\""
    }
   },
   "outputs": [],
   "source": [
    "import System.Environment\n",
    "import System.IO\n",
    "import System.Directory\n",
    "\n",
    "main = do (fileName:_) <- getArgs\n",
    "          fileExists <- doesFileExist fileName\n",
    "          if fileExists\n",
    "              then do contents <- readFile fileName\n",
    "                      putStrLn $ \"The file has \" ++ show (length (lines contents)) ++ \" lines!\"\n",
    "              else do putStrLn \"The file doesn't exist!\""
   ]
  },
  {
   "cell_type": "markdown",
   "metadata": {},
   "source": [
    "We did `fileExists <- doesFileExist fileName` because `doesFileExist` has a\n",
    "type of `doesFileExist :: FilePath -> IO Bool`, which means that it\n",
    "returns an I/O action that has as its result a boolean value which tells\n",
    "us if the file exists. We can't just use `doesFileExist` in an *if*\n",
    "expression directly.\n",
    "\n",
    "Another solution here would be to use exceptions. It's perfectly\n",
    "acceptable to use them in this context. A file not existing is an\n",
    "exception that arises from I/O, so catching it in I/O is fine and dandy.\n",
    "\n",
    "To deal with this by using exceptions, we're going to take advantage of\n",
    "the __[`catch`](https://hackage.haskell.org/package/base/docs/Control-Exception.html#v:catch)__ function from `System.IO.Error`. Its type is\n",
    "`catch :: IO a -> (IOError -> IO a) -> IO a`.\n",
    "It takes two parameters. The first one is\n",
    "an I/O action. For instance, it could be an I/O action that tries to\n",
    "open a file. The second one is the so-called handler. If the first I/O\n",
    "action passed to [`catch`](https://hackage.haskell.org/package/base/docs/Control-Exception.html#v:catch) throws an I/O exception, that exception gets\n",
    "passed to the handler, which then decides what to do. So the final\n",
    "result is an I/O action that will either act the same as the first\n",
    "parameter or it will do what the handler tells it if the first I/O\n",
    "action throws an exception.\n",
    "\n",
    "<img src=\"img/puppy.png\" title=\"non sequitor\" style=\"background-color:white;float:right;margin-left:2em;\" />\n",
    "\n",
    "If you're familiar with *try-catch* blocks in languages like Java or\n",
    "Python, the [`catch`](https://hackage.haskell.org/package/base/docs/Control-Exception.html#v:catch) function is similar to them. The first parameter is\n",
    "the thing to try, kind of like the stuff in the *try* block in other,\n",
    "imperative languages. The second parameter is the handler that takes an\n",
    "exception, just like most *catch* blocks take exceptions that you can\n",
    "then examine to see what happened. The handler is invoked if an\n",
    "exception is thrown.\n",
    "\n",
    "The handler takes a value of type [`IOError`](https://hackage.haskell.org/package/base/docs/Prelude.html#t:IOError), which is a value that\n",
    "signifies that an I/O exception occurred. It also carries information\n",
    "regarding the type of the exception that was thrown. How this type is\n",
    "implemented depends on the implementation of the language itself, which\n",
    "means that we can't inspect values of the type [`IOError`](https://hackage.haskell.org/package/base/docs/Prelude.html#t:IOError) by pattern\n",
    "matching against them, just like we can't pattern match against values\n",
    "of type `IO <something>`. We can use a bunch of useful predicates to find\n",
    "out stuff about values of type [`IOError`](https://hackage.haskell.org/package/base/docs/Prelude.html#t:IOError) as we'll learn in a second.\n",
    "\n",
    "So let's put our new friend [`catch`](https://hackage.haskell.org/package/base/docs/Control-Exception.html#v:catch) to use!"
   ]
  },
  {
   "cell_type": "code",
   "execution_count": 134,
   "metadata": {
    "attributes": {
     "classes": [
      "haskell:hs"
     ],
     "id": "",
     "name": "\"code\""
    }
   },
   "outputs": [],
   "source": [
    "import System.Environment\n",
    "import System.IO\n",
    "import System.IO.Error\n",
    "import Control.Exception\n",
    "\n",
    "main = toTry `catch` handler\n",
    "\n",
    "toTry :: IO ()\n",
    "toTry = do (fileName:_) <- getArgs\n",
    "           contents <- readFile fileName\n",
    "           putStrLn $ \"The file has \" ++ show (length (lines contents)) ++ \" lines!\"\n",
    "\n",
    "handler :: IOError -> IO ()\n",
    "handler e = putStrLn \"Whoops, had some trouble!\""
   ]
  },
  {
   "cell_type": "markdown",
   "metadata": {},
   "source": [
    "First of all, you'll see that put backticks around it so that we can use\n",
    "it as an infix function, because it takes two parameters. Using it as an\n",
    "infix function makes it more readable. So ``toTry `catch` handler`` is the\n",
    "same as `catch toTry handler`, which fits well with its type. `toTry` is the\n",
    "I/O action that we try to carry out and `handler` is the function that\n",
    "takes an [`IOError`](https://hackage.haskell.org/package/base/docs/Prelude.html#t:IOError) and returns an action to be carried out in case of an\n",
    "exception.\n",
    "\n",
    "Let's give this a go:"
   ]
  },
  {
   "cell_type": "code",
   "execution_count": 135,
   "metadata": {
    "attributes": {
     "classes": [
      "plain"
     ],
     "id": "",
     "name": "\"code\""
    }
   },
   "outputs": [
    {
     "data": {
      "text/plain": [
       "The file has 3 lines!"
      ]
     },
     "metadata": {},
     "output_type": "display_data"
    }
   ],
   "source": [
    "withArgs [\"haiku.txt\"] main"
   ]
  },
  {
   "cell_type": "code",
   "execution_count": 136,
   "metadata": {
    "attributes": {
     "classes": [
      "plain"
     ],
     "id": "",
     "name": "\"code\""
    }
   },
   "outputs": [
    {
     "data": {
      "text/plain": [
       "Whoops, had some trouble!"
      ]
     },
     "metadata": {},
     "output_type": "display_data"
    }
   ],
   "source": [
    "withArgs [\"i_dont_exists.txt\"] main"
   ]
  },
  {
   "cell_type": "markdown",
   "metadata": {},
   "source": [
    "In the handler, we didn't check to see what kind of [`IOError`](https://hackage.haskell.org/package/base/docs/Prelude.html#t:IOError) we got. We\n",
    "just say `\"Whoops, had some trouble!\"` for any kind of error. Just\n",
    "catching all types of exceptions in one handler is bad practice in\n",
    "Haskell just like it is in most other languages. What if some other\n",
    "exception happens that we don't want to catch, like us interrupting the\n",
    "program or something? That's why we're going to do the same thing that's\n",
    "usually done in other languages as well: we'll check to see what kind of\n",
    "exception we got. If it's the kind of exception we're waiting to catch,\n",
    "we do our stuff. If it's not, we throw that exception back into the\n",
    "wild. Let's modify our program to catch only the exceptions caused by a\n",
    "file not existing."
   ]
  },
  {
   "cell_type": "code",
   "execution_count": 137,
   "metadata": {
    "attributes": {
     "classes": [
      "haskell:hs"
     ],
     "id": "",
     "name": "\"code\""
    }
   },
   "outputs": [],
   "source": [
    "import System.Environment\n",
    "import System.IO\n",
    "import System.IO.Error\n",
    "\n",
    "main = toTry `catch` handler\n",
    "\n",
    "toTry :: IO ()\n",
    "toTry = do (fileName:_) <- getArgs\n",
    "           contents <- readFile fileName\n",
    "           putStrLn $ \"The file has \" ++ show (length (lines contents)) ++ \" lines!\"\n",
    "\n",
    "handler :: IOError -> IO ()\n",
    "handler e\n",
    "    | isDoesNotExistError e = putStrLn \"The file doesn't exist!\"\n",
    "    | otherwise = ioError e"
   ]
  },
  {
   "cell_type": "markdown",
   "metadata": {},
   "source": [
    "Everything stays the same except the handler, which we modified to only\n",
    "catch a certain group of I/O exceptions. Here we used two new functions\n",
    "from `System.IO.Error` — __[`isDoesNotExistError`](https://hackage.haskell.org/package/base/docs/System-IO-Error.html#v:isDoesNotExistError)__ and __[`ioError`](https://hackage.haskell.org/package/base/docs/Prelude.html#v:ioError)__.\n",
    "[`isDoesNotExistError`](https://hackage.haskell.org/package/base/docs/System-IO-Error.html#v:isDoesNotExistError) is a predicate over `IOErrors`, which means that it's\n",
    "a function that takes an [`IOError`](https://hackage.haskell.org/package/base/docs/Prelude.html#t:IOError) and returns a [`True`](https://hackage.haskell.org/package/base/docs/Prelude.html#v:True) or [`False`](https://hackage.haskell.org/package/base/docs/Prelude.html#v:False), meaning it\n",
    "has a type of `isDoesNotExistError :: IOError -> Bool`. We use it on the\n",
    "exception that gets passed to our handler to see if it's an error caused\n",
    "by a file not existing. We use\n",
    "[guard](http://learnyouahaskell.com/syntax-in-functions#guards-guards) syntax here, but we could\n",
    "have also used an *if else*. If it's not caused by a file not existing,\n",
    "we re-throw the exception that was passed by the handler with the\n",
    "[`ioError`](https://hackage.haskell.org/package/base/docs/Prelude.html#v:ioError) function. It has a type of `ioError :: IOException -> IO a`, so\n",
    "it takes an [`IOError`](https://hackage.haskell.org/package/base/docs/Prelude.html#t:IOError) and produces an I/O action that will throw it. The\n",
    "I/O action has a type of `IO a`, because it never actually yields a\n",
    "result, so it can act as [`IO`](https://hackage.haskell.org/package/base/docs/Prelude.html#t:IO) *`anything`*.\n",
    "\n",
    "So the exception thrown in the `toTry` I/O action that we glued together\n",
    "with a *do* block isn't caused by a file existing,\n",
    "``toTry `catch` handler`` will catch that and then re-throw it. Pretty cool, huh?\n",
    "\n",
    "There are several predicates that act on [`IOError`](https://hackage.haskell.org/package/base/docs/Prelude.html#t:IOError) and if a guard doesn't\n",
    "evaluate to [`True`](https://hackage.haskell.org/package/base/docs/Prelude.html#v:True), evaluation falls through to the next guard. The\n",
    "predicates that act on [`IOError`](https://hackage.haskell.org/package/base/docs/Prelude.html#t:IOError) are:\n",
    "\n",
    "-   __[`isAlreadyExistsError`](https://hackage.haskell.org/package/base/docs/System-IO-Error.html#v:isAlreadyExistsError)__\n",
    "-   __[`isDoesNotExistError`](https://hackage.haskell.org/package/base/docs/System-IO-Error.html#v:isDoesNotExistError)__\n",
    "-   __[`isAlreadyInUseError`](https://hackage.haskell.org/package/base/docs/System-IO-Error.html#v:isAlreadyInUseError)__\n",
    "-   __[`isFullError`](https://hackage.haskell.org/package/base/docs/System-IO-Error.html#v:isFullError)__\n",
    "-   __[`isEOFError`](https://hackage.haskell.org/package/base/docs/System-IO-Error.html#v:isEOFError)__\n",
    "-   __[`isIllegalOperation`](https://hackage.haskell.org/package/base/docs/System-IO-Error.html#v:isIllegalOperation)__\n",
    "-   __[`isPermissionError`](https://hackage.haskell.org/package/base/docs/System-IO-Error.html#v:isPermissionError)__\n",
    "-   __[`isUserError`](https://hackage.haskell.org/package/base/docs/System-IO-Error.html#v:isUserError)__\n",
    "\n",
    "Most of these are pretty self-explanatory. __[`isUserError`](https://hackage.haskell.org/package/base/docs/System-IO-Error.html#v:isUserError)__ evaluates to [`True`](https://hackage.haskell.org/package/base/docs/Prelude.html#v:True)\n",
    "when we use the function [`userError`](https://hackage.haskell.org/package/base/docs/Prelude.html#v:userError) to make the exception, which is used\n",
    "for making exceptions from our code and equipping them with a string.\n",
    "For instance, you can do\n",
    "`ioError $ userError \"remote computer unplugged!\"`,\n",
    "although it's prefered you use types like [`Either`](https://hackage.haskell.org/package/base/docs/Prelude.html#t:Either) and [`Maybe`](https://hackage.haskell.org/package/base/docs/Prelude.html#t:Maybe)\n",
    "to express possible failure instead of throwing exceptions yourself with\n",
    "[`userError`](https://hackage.haskell.org/package/base/docs/Prelude.html#v:userError).\n",
    "\n",
    "So you could have a handler that looks something like this:"
   ]
  },
  {
   "cell_type": "markdown",
   "metadata": {
    "attributes": {
     "classes": [
      "haskell:hs"
     ],
     "id": "",
     "name": "\"code\""
    }
   },
   "source": [
    "<pre><code>handler :: IOError -> IO ()\n",
    "handler e\n",
    "    | isDoesNotExistError e = putStrLn \"The file doesn't exist!\"\n",
    "    | isFullError e = freeSomeSpace\n",
    "    | isIllegalOperation e = notifyCops\n",
    "    | otherwise = ioError e</code></pre>"
   ]
  },
  {
   "cell_type": "markdown",
   "metadata": {},
   "source": [
    "Where `notifyCops` and `freeSomeSpace` are some I/O actions that you define.\n",
    "Be sure to re-throw exceptions if they don't match any of your criteria,\n",
    "otherwise you're causing your program to fail silently in some cases\n",
    "where it shouldn't.\n",
    "\n",
    "`System.IO.Error` also exports functions that enable us to ask our\n",
    "exceptions for some attributes, like what the handle of the file that\n",
    "caused the error is, or what the filename is. These start with `ioe` and\n",
    "you can see a [full list of\n",
    "them](http://www.haskell.org/ghc/docs/6.10.1/html/libraries/base/System-IO-Error.html#3)\n",
    "in the documentation. Say we want to print the filename that caused our\n",
    "error. We can't print the `fileName` that we got from [`getArgs`](https://hackage.haskell.org/package/base/docs/System-Environment.html#v:getArgs), because\n",
    "only the [`IOError`](https://hackage.haskell.org/package/base/docs/Prelude.html#t:IOError) is passed to the handler and the handler doesn't know\n",
    "about anything else. A function depends only on the parameters it was\n",
    "called with. That's why we can use the __[`ioeGetFileName`](https://hackage.haskell.org/package/base/docs/System-IO-Error.html#v:ioeGetFileName)__ function, which\n",
    "has a type of `ioeGetFileName :: IOError -> Maybe FilePath`. It takes an\n",
    "[`IOError`](https://hackage.haskell.org/package/base/docs/Prelude.html#t:IOError) as a parameter and maybe returns a [`FilePath`](https://hackage.haskell.org/package/base/docs/Prelude.html#t:FilePath) (which is just a\n",
    "type synonym for [`String`](https://hackage.haskell.org/package/base/docs/Prelude.html#t:String), remember, so it's kind of the same thing).\n",
    "Basically, what it does is it extracts the file path from the [`IOError`](https://hackage.haskell.org/package/base/docs/Prelude.html#t:IOError),\n",
    "if it can. Let's modify our program to print out the file path that's\n",
    "responsible for the exception occurring."
   ]
  },
  {
   "cell_type": "code",
   "execution_count": 138,
   "metadata": {
    "attributes": {
     "classes": [
      "haskell:hs"
     ],
     "id": "",
     "name": "\"code\""
    }
   },
   "outputs": [],
   "source": [
    "import System.Environment\n",
    "import System.IO\n",
    "import System.IO.Error\n",
    "\n",
    "main = toTry `catch` handler\n",
    "\n",
    "toTry :: IO ()\n",
    "toTry = do (fileName:_) <- getArgs\n",
    "           contents <- readFile fileName\n",
    "           putStrLn $ \"The file has \" ++ show (length (lines contents)) ++ \" lines!\"\n",
    "\n",
    "handler :: IOError -> IO ()\n",
    "handler e\n",
    "    | isDoesNotExistError e =\n",
    "        case ioeGetFileName e of Just path -> putStrLn $ \"Whoops! File does not exist at: \" ++ path\n",
    "                                 Nothing -> putStrLn \"Whoops! File does not exist at unknown location!\"\n",
    "    | otherwise = ioError e"
   ]
  },
  {
   "cell_type": "code",
   "execution_count": 139,
   "metadata": {
    "attributes": {
     "classes": [
      "haskell:hs"
     ],
     "id": "",
     "name": "\"code\""
    }
   },
   "outputs": [
    {
     "data": {
      "text/plain": [
       "Whoops! File does not exist at: ./i_dont_exist.txt"
      ]
     },
     "metadata": {},
     "output_type": "display_data"
    }
   ],
   "source": [
    "withArgs [\"./i_dont_exist.txt\"] main"
   ]
  },
  {
   "cell_type": "markdown",
   "metadata": {},
   "source": [
    "In the guard where [`isDoesNotExistError`](https://hackage.haskell.org/package/base/docs/System-IO-Error.html#v:isDoesNotExistError) is [`True`](https://hackage.haskell.org/package/base/docs/Prelude.html#v:True), we used a *case*\n",
    "expression to call [`ioeGetFileName`](https://hackage.haskell.org/package/base/docs/System-IO-Error.html#v:ioeGetFileName) with `e` and then pattern match against\n",
    "the [`Maybe`](https://hackage.haskell.org/package/base/docs/Prelude.html#t:Maybe) value that it returned. Using *case* expressions is commonly\n",
    "used when you want to pattern match against something without bringing\n",
    "in a new function.\n",
    "\n",
    "You don't have to use one handler to [`catch`](https://hackage.haskell.org/package/base/docs/Control-Exception.html#v:catch) exceptions in your whole I/O\n",
    "part. You can just cover certain parts of your I/O code with [`catch`](https://hackage.haskell.org/package/base/docs/Control-Exception.html#v:catch) or\n",
    "you can cover several of them with [`catch`](https://hackage.haskell.org/package/base/docs/Control-Exception.html#v:catch) and use different handlers for\n",
    "them, like so:"
   ]
  },
  {
   "cell_type": "markdown",
   "metadata": {
    "attributes": {
     "classes": [
      "haskell:hs"
     ],
     "id": "",
     "name": "\"code\""
    }
   },
   "source": [
    "<pre><code>main = do toTry `catch` handler1\n",
    "          thenTryThis `catch` handler2\n",
    "          launchRockets</code></pre>"
   ]
  },
  {
   "cell_type": "markdown",
   "metadata": {},
   "source": [
    "Here, `toTry` uses `handler1` as the handler and `thenTryThis` uses `handler2`.\n",
    "`launchRockets` isn't a parameter to [`catch`](https://hackage.haskell.org/package/base/docs/Control-Exception.html#v:catch), so whichever exceptions it\n",
    "might throw will likely crash our program, unless `launchRockets` uses\n",
    "[`catch`](https://hackage.haskell.org/package/base/docs/Control-Exception.html#v:catch) internally to handle its own exceptions. Of course `toTry`,\n",
    "`thenTryThis` and `launchRockets` are I/O actions that have been glued\n",
    "together using *do* syntax and hypothetically defined somewhere else.\n",
    "This is kind of similar to *try-catch* blocks of other languages, where\n",
    "you can surround your whole program in a single *try-catch* or you can\n",
    "use a more fine-grained approach and use different ones in different\n",
    "parts of your code to control what kind of error handling happens where.\n",
    "\n",
    "Now you know how to deal with I/O exceptions! Throwing exceptions from\n",
    "pure code and dealing with them hasn't been covered here, mainly\n",
    "because, like we said, Haskell offers much better ways to indicate\n",
    "errors than reverting to I/O to catch them. Even when glueing together\n",
    "I/O actions that might fail, I prefer to have their type be something\n",
    "like `IO (Either a b)`, meaning that they're normal I/O actions but the\n",
    "result that they yield when performed is of type `Either a b`, meaning\n",
    "it's either `Left a` or `Right b`."
   ]
  }
 ],
 "metadata": {
  "kernelspec": {
   "display_name": "Haskell",
   "language": "haskell",
   "name": "haskell"
  },
  "language_info": {
   "codemirror_mode": "ihaskell",
   "file_extension": ".hs",
   "mimetype": "text/x-haskell",
   "name": "haskell",
   "pygments_lexer": "Haskell",
   "version": "9.2.5"
  }
 },
 "nbformat": 4,
 "nbformat_minor": 4
}
