{
 "cells": [
  {
   "cell_type": "markdown",
   "metadata": {},
   "source": [
    "<img src=\"img/startingout.png\" title=\"egg\" style=\"background-color:white;float:right;margin-left:2em;\" /> \n",
    "\n",
    "Starting Out\n",
    "============\n",
    "\n",
    "Ready, set, go!\n",
    "---------------\n",
    "\n",
    "Alright, let's get started!\n",
    "\n",
    "Here are some Jupyter keyboard commands for reading this book. The basic way to read the book is start at the top of each chapter and run each cell by pressing <kbd>Shift</kbd>+<kbd>Enter</kbd>. When you run a Code cell, the result will be printed below the cell. For more information about how to use JuptyerLab, see the top pulldown menus.\n",
    "\n",
    "| Keyboard Command | Action |\n",
    "|-------------:|---------------|\n",
    "|<kbd>Shift</kbd>+<kbd>Enter</kbd> | Run the selected Jupyter cell and advance to the next cell |\n",
    "|<kbd>Ctrl</kbd>+<kbd>Enter</kbd> | Run the selected Jupyter cell and don't advance |\n",
    "|<kbd>Alt</kbd>+<kbd>Enter</kbd> | Run the selected Jupyter cell and insert a new cell after |\n",
    "|<kbd>Enter</kbd> | Edit the selected Jupyter cell |\n",
    "|<kbd>Ctrl</kbd>+<kbd>Shift</kbd>+<kbd>-</kbd> | Split the Jupyter cell at the cursor position |"
   ]
  },
  {
   "cell_type": "markdown",
   "metadata": {},
   "source": [
    "> __Jupyter Note:__ We'll turn off the [automatic linting for IHaskell](https://github.com/IHaskell/IHaskell/wiki#opt-no-lint) first."
   ]
  },
  {
   "cell_type": "code",
   "execution_count": 1,
   "metadata": {
    "attributes": {
     "classes": [
      "haskell:",
      "ghci"
     ],
     "id": "",
     "name": "\"code\""
    }
   },
   "outputs": [],
   "source": [
    ":opt no-lint"
   ]
  },
  {
   "cell_type": "markdown",
   "metadata": {},
   "source": [
    "Here's some simple arithmetic."
   ]
  },
  {
   "cell_type": "code",
   "execution_count": 2,
   "metadata": {
    "attributes": {
     "classes": [
      "haskell:",
      "ghci"
     ],
     "id": "",
     "name": "\"code\""
    }
   },
   "outputs": [
    {
     "data": {
      "text/plain": [
       "17"
      ]
     },
     "metadata": {},
     "output_type": "display_data"
    }
   ],
   "source": [
    "2 + 15"
   ]
  },
  {
   "cell_type": "code",
   "execution_count": 3,
   "metadata": {
    "attributes": {
     "classes": [
      "haskell:",
      "ghci"
     ],
     "id": "",
     "name": "\"code\""
    }
   },
   "outputs": [
    {
     "data": {
      "text/plain": [
       "4900"
      ]
     },
     "metadata": {},
     "output_type": "display_data"
    }
   ],
   "source": [
    "49 * 100"
   ]
  },
  {
   "cell_type": "code",
   "execution_count": 4,
   "metadata": {
    "attributes": {
     "classes": [
      "haskell:",
      "ghci"
     ],
     "id": "",
     "name": "\"code\""
    }
   },
   "outputs": [
    {
     "data": {
      "text/plain": [
       "420"
      ]
     },
     "metadata": {},
     "output_type": "display_data"
    }
   ],
   "source": [
    "1892 - 1472"
   ]
  },
  {
   "cell_type": "code",
   "execution_count": 5,
   "metadata": {
    "attributes": {
     "classes": [
      "haskell:",
      "ghci"
     ],
     "id": "",
     "name": "\"code\""
    }
   },
   "outputs": [
    {
     "data": {
      "text/plain": [
       "2.5"
      ]
     },
     "metadata": {},
     "output_type": "display_data"
    }
   ],
   "source": [
    "5 / 2"
   ]
  },
  {
   "cell_type": "markdown",
   "metadata": {},
   "source": [
    "This is pretty self-explanatory. We can also use several operators on\n",
    "one line and all the usual precedence rules are obeyed. We can use\n",
    "parentheses to make the precedence explicit or to change it."
   ]
  },
  {
   "cell_type": "code",
   "execution_count": 6,
   "metadata": {
    "attributes": {
     "classes": [
      "haskell:",
      "ghci"
     ],
     "id": "",
     "name": "\"code\""
    }
   },
   "outputs": [
    {
     "data": {
      "text/plain": [
       "1"
      ]
     },
     "metadata": {},
     "output_type": "display_data"
    }
   ],
   "source": [
    "(50 * 100) - 4999"
   ]
  },
  {
   "cell_type": "code",
   "execution_count": 7,
   "metadata": {
    "attributes": {
     "classes": [
      "haskell:",
      "ghci"
     ],
     "id": "",
     "name": "\"code\""
    }
   },
   "outputs": [
    {
     "data": {
      "text/plain": [
       "1"
      ]
     },
     "metadata": {},
     "output_type": "display_data"
    }
   ],
   "source": [
    "50 * 100 - 4999"
   ]
  },
  {
   "cell_type": "code",
   "execution_count": 8,
   "metadata": {
    "attributes": {
     "classes": [
      "haskell:",
      "ghci"
     ],
     "id": "",
     "name": "\"code\""
    }
   },
   "outputs": [
    {
     "data": {
      "text/plain": [
       "-244950"
      ]
     },
     "metadata": {},
     "output_type": "display_data"
    }
   ],
   "source": [
    "50 * (100 - 4999)"
   ]
  },
  {
   "cell_type": "markdown",
   "metadata": {},
   "source": [
    "Pretty cool, huh? Yeah, I know it's not but bear with me. A little\n",
    "pitfall to watch out for here is negating numbers. If we want to have a\n",
    "negative number, it's always best to surround it with parentheses. Doing\n",
    "`5 * -3` will make GHC yell at you but doing `5 * (-3)` will work just\n",
    "fine.\n",
    "\n",
    "Boolean algebra is also pretty straightforward. As you probably know, [`&&`](https://hackage.haskell.org/package/base/docs/Prelude.html#v:-38--38-)\n",
    "means a boolean *and*, [`||`](https://hackage.haskell.org/package/base/docs/Prelude.html#v:-124--124-) means a boolean *or*. [`not`](https://hackage.haskell.org/package/base/docs/Prelude.html#v:not) negates a [`True`](https://hackage.haskell.org/package/base/docs/Prelude.html#v:True) or a\n",
    "[`False`](https://hackage.haskell.org/package/base/docs/Prelude.html#v:False)."
   ]
  },
  {
   "cell_type": "code",
   "execution_count": 9,
   "metadata": {
    "attributes": {
     "classes": [
      "haskell:",
      "ghci"
     ],
     "id": "",
     "name": "\"code\""
    }
   },
   "outputs": [
    {
     "data": {
      "text/plain": [
       "False"
      ]
     },
     "metadata": {},
     "output_type": "display_data"
    }
   ],
   "source": [
    "True && False"
   ]
  },
  {
   "cell_type": "code",
   "execution_count": 10,
   "metadata": {
    "attributes": {
     "classes": [
      "haskell:",
      "ghci"
     ],
     "id": "",
     "name": "\"code\""
    }
   },
   "outputs": [
    {
     "data": {
      "text/plain": [
       "True"
      ]
     },
     "metadata": {},
     "output_type": "display_data"
    }
   ],
   "source": [
    "True && True"
   ]
  },
  {
   "cell_type": "code",
   "execution_count": 11,
   "metadata": {
    "attributes": {
     "classes": [
      "haskell:",
      "ghci"
     ],
     "id": "",
     "name": "\"code\""
    }
   },
   "outputs": [
    {
     "data": {
      "text/plain": [
       "True"
      ]
     },
     "metadata": {},
     "output_type": "display_data"
    }
   ],
   "source": [
    "False || True"
   ]
  },
  {
   "cell_type": "code",
   "execution_count": 12,
   "metadata": {
    "attributes": {
     "classes": [
      "haskell:",
      "ghci"
     ],
     "id": "",
     "name": "\"code\""
    }
   },
   "outputs": [
    {
     "data": {
      "text/plain": [
       "True"
      ]
     },
     "metadata": {},
     "output_type": "display_data"
    }
   ],
   "source": [
    "not False"
   ]
  },
  {
   "cell_type": "code",
   "execution_count": 13,
   "metadata": {
    "attributes": {
     "classes": [
      "haskell:",
      "ghci"
     ],
     "id": "",
     "name": "\"code\""
    }
   },
   "outputs": [
    {
     "data": {
      "text/plain": [
       "False"
      ]
     },
     "metadata": {},
     "output_type": "display_data"
    }
   ],
   "source": [
    "not (True && True)"
   ]
  },
  {
   "cell_type": "markdown",
   "metadata": {},
   "source": [
    "Testing for equality is done like so."
   ]
  },
  {
   "cell_type": "code",
   "execution_count": 14,
   "metadata": {
    "attributes": {
     "classes": [
      "haskell:",
      "ghci"
     ],
     "id": "",
     "name": "\"code\""
    }
   },
   "outputs": [
    {
     "data": {
      "text/plain": [
       "True"
      ]
     },
     "metadata": {},
     "output_type": "display_data"
    }
   ],
   "source": [
    "5 == 5"
   ]
  },
  {
   "cell_type": "code",
   "execution_count": 15,
   "metadata": {
    "attributes": {
     "classes": [
      "haskell:",
      "ghci"
     ],
     "id": "",
     "name": "\"code\""
    }
   },
   "outputs": [
    {
     "data": {
      "text/plain": [
       "False"
      ]
     },
     "metadata": {},
     "output_type": "display_data"
    }
   ],
   "source": [
    "1 == 0"
   ]
  },
  {
   "cell_type": "code",
   "execution_count": 16,
   "metadata": {
    "attributes": {
     "classes": [
      "haskell:",
      "ghci"
     ],
     "id": "",
     "name": "\"code\""
    }
   },
   "outputs": [
    {
     "data": {
      "text/plain": [
       "False"
      ]
     },
     "metadata": {},
     "output_type": "display_data"
    }
   ],
   "source": [
    "5 /= 5"
   ]
  },
  {
   "cell_type": "code",
   "execution_count": 17,
   "metadata": {
    "attributes": {
     "classes": [
      "haskell:",
      "ghci"
     ],
     "id": "",
     "name": "\"code\""
    }
   },
   "outputs": [
    {
     "data": {
      "text/plain": [
       "True"
      ]
     },
     "metadata": {},
     "output_type": "display_data"
    }
   ],
   "source": [
    "5 /= 4"
   ]
  },
  {
   "cell_type": "code",
   "execution_count": 18,
   "metadata": {
    "attributes": {
     "classes": [
      "haskell:",
      "ghci"
     ],
     "id": "",
     "name": "\"code\""
    }
   },
   "outputs": [
    {
     "data": {
      "text/plain": [
       "True"
      ]
     },
     "metadata": {},
     "output_type": "display_data"
    }
   ],
   "source": [
    "\"hello\" == \"hello\""
   ]
  },
  {
   "cell_type": "markdown",
   "metadata": {},
   "source": [
    "What about doing `5 + \"llama\"` or `5 == True`? Well, if we try the first\n",
    "snippet, we get a big scary error message!"
   ]
  },
  {
   "cell_type": "code",
   "execution_count": 19,
   "metadata": {
    "attributes": {
     "classes": [
      "haskell:",
      "ghci"
     ],
     "id": "",
     "name": "\"code\""
    }
   },
   "outputs": [
    {
     "ename": "",
     "evalue": "",
     "output_type": "error",
     "traceback": [
      "<interactive>:1:3: error:\n    • No instance for (Num String) arising from a use of ‘+’\n    • In the expression: 5 + \"llama\"\n      In an equation for ‘it’: it = 5 + \"llama\""
     ]
    }
   ],
   "source": [
    "5 + \"llama\""
   ]
  },
  {
   "cell_type": "markdown",
   "metadata": {},
   "source": [
    "Yikes! What GHC is telling us here is that `\"llama\"` is not a number and\n",
    "so it doesn't know how to add it to 5. Even if it wasn't `\"llama\"` but\n",
    "`\"four\"` or `\"4\"`, Haskell still wouldn't consider it to be a number. [`+`](https://hackage.haskell.org/package/base/docs/Prelude.html#v:-43-)\n",
    "expects its left and right side to be numbers. If we tried to do `True == 5`,\n",
    "GHC would tell us that the types don't match. Whereas [`+`](https://hackage.haskell.org/package/base/docs/Prelude.html#v:-43-) works only\n",
    "on things that are considered numbers, [`==`](https://hackage.haskell.org/package/base/docs/Prelude.html#v:-61--61-) works on any two things that\n",
    "can be compared. But the catch is that they both have to be the same\n",
    "type of thing. You can't compare apples and oranges. We'll take a closer\n",
    "look at types a bit later. Note: you can do `5 + 4.0` because `5` is sneaky\n",
    "and can act like an integer or a floating-point number. `4.0` can't act\n",
    "like an integer, so `5` is the one that has to adapt.\n",
    "\n",
    "<img src=\"img/ringring.png\" title=\"phoen\" style=\"background-color:white;float:right;margin-left:2em;\" /> \n",
    "You may not have known it but we've been using functions now all along.\n",
    "\n",
    "For instance, [`*`](https://hackage.haskell.org/package/base/docs/Prelude.html#v:-42-) is a function that takes two numbers and multiplies\n",
    "them. As you've seen, we call it by sandwiching it between them. This is\n",
    "what we call an *infix* function. Most functions that aren't used with\n",
    "numbers are *prefix* functions. Let's take a look at them.\n",
    "\n",
    "Functions are\n",
    "usually prefix so from now on we won't explicitly state that a function\n",
    "is of the prefix form, we'll just assume it. In most imperative\n",
    "languages functions are called by writing the function name and then\n",
    "writing its parameters in parentheses, usually separated by commas. In\n",
    "Haskell, functions are called by writing the function name, a space and\n",
    "then the parameters, separated by spaces. For a start, we'll try calling\n",
    "one of the most boring functions in Haskell."
   ]
  },
  {
   "cell_type": "code",
   "execution_count": 20,
   "metadata": {
    "attributes": {
     "classes": [
      "haskell:",
      "ghci"
     ],
     "id": "",
     "name": "\"code\""
    }
   },
   "outputs": [
    {
     "data": {
      "text/plain": [
       "9"
      ]
     },
     "metadata": {},
     "output_type": "display_data"
    }
   ],
   "source": [
    "succ 8"
   ]
  },
  {
   "cell_type": "markdown",
   "metadata": {},
   "source": [
    "The [`succ`](https://hackage.haskell.org/package/base/docs/Prelude.html#v:succ) function takes anything that has a defined successor and\n",
    "returns that successor. As you can see, we just separate the function\n",
    "name from the parameter with a space. Calling a function with several\n",
    "parameters is also simple. The functions [`min`](https://hackage.haskell.org/package/base/docs/Prelude.html#v:min) and [`max`](https://hackage.haskell.org/package/base/docs/Prelude.html#v:max) take two things\n",
    "that can be put in an order (like numbers!). [`min`](https://hackage.haskell.org/package/base/docs/Prelude.html#v:min) returns the one that's\n",
    "lesser and [`max`](https://hackage.haskell.org/package/base/docs/Prelude.html#v:max) returns the one that's greater. See for yourself:"
   ]
  },
  {
   "cell_type": "code",
   "execution_count": 21,
   "metadata": {
    "attributes": {
     "classes": [
      "haskell:",
      "ghci"
     ],
     "id": "",
     "name": "\"code\""
    }
   },
   "outputs": [
    {
     "data": {
      "text/plain": [
       "9"
      ]
     },
     "metadata": {},
     "output_type": "display_data"
    }
   ],
   "source": [
    "min 9 10"
   ]
  },
  {
   "cell_type": "code",
   "execution_count": 22,
   "metadata": {
    "attributes": {
     "classes": [
      "haskell:",
      "ghci"
     ],
     "id": "",
     "name": "\"code\""
    }
   },
   "outputs": [
    {
     "data": {
      "text/plain": [
       "3.2"
      ]
     },
     "metadata": {},
     "output_type": "display_data"
    }
   ],
   "source": [
    "min 3.4 3.2"
   ]
  },
  {
   "cell_type": "code",
   "execution_count": 23,
   "metadata": {
    "attributes": {
     "classes": [
      "haskell:",
      "ghci"
     ],
     "id": "",
     "name": "\"code\""
    }
   },
   "outputs": [
    {
     "data": {
      "text/plain": [
       "101"
      ]
     },
     "metadata": {},
     "output_type": "display_data"
    }
   ],
   "source": [
    "max 100 101"
   ]
  },
  {
   "cell_type": "markdown",
   "metadata": {},
   "source": [
    "Function application (calling a function by putting a space after it and\n",
    "then typing out the parameters) has the highest precedence of them all.\n",
    "What that means for us is that these two statements are equivalent."
   ]
  },
  {
   "cell_type": "code",
   "execution_count": 24,
   "metadata": {
    "attributes": {
     "classes": [
      "haskell:",
      "ghci"
     ],
     "id": "",
     "name": "\"code\""
    }
   },
   "outputs": [
    {
     "data": {
      "text/plain": [
       "16"
      ]
     },
     "metadata": {},
     "output_type": "display_data"
    }
   ],
   "source": [
    "succ 9 + max 5 4 + 1"
   ]
  },
  {
   "cell_type": "code",
   "execution_count": 25,
   "metadata": {
    "attributes": {
     "classes": [
      "haskell:",
      "ghci"
     ],
     "id": "",
     "name": "\"code\""
    }
   },
   "outputs": [
    {
     "data": {
      "text/plain": [
       "16"
      ]
     },
     "metadata": {},
     "output_type": "display_data"
    }
   ],
   "source": [
    "(succ 9) + (max 5 4) + 1"
   ]
  },
  {
   "cell_type": "markdown",
   "metadata": {},
   "source": [
    "However, if we wanted to get the successor of the product of numbers 9\n",
    "and 10, we couldn't write `succ 9 * 10` because that would get the\n",
    "successor of 9, which would then be multiplied by 10. So 100. We'd have\n",
    "to write `succ (9 * 10)` to get 91.\n",
    "\n",
    "If a function takes two parameters, we can also call it as an infix\n",
    "function by surrounding it with backticks. For instance, the [`div`](https://hackage.haskell.org/package/base/docs/Prelude.html#v:div)\n",
    "function takes two integers and does integral division between them.\n",
    "Doing `div 92 10` results in a 9. But when we call it like that, there may\n",
    "be some confusion as to which number is doing the division and which one\n",
    "is being divided. So we can call it as an infix function by doing\n",
    "``92 `div` 10`` and suddenly it's much clearer.\n",
    "\n",
    "Lots of people who come from imperative languages tend to stick to the\n",
    "notion that parentheses should denote function application. For example,\n",
    "in C, you use parentheses to call functions like `foo()`, `bar(1)` or\n",
    "`baz(3, \"haha\")`. Like we said, spaces are used for function application in\n",
    "Haskell. So those functions in Haskell would be `foo`, `bar 1` and `baz 3\n",
    "\"haha\"`. So if you see something like `bar (bar 3)`, it doesn't mean that\n",
    "`bar` is called with `bar` and `3` as parameters. It means that we first call\n",
    "the function `bar` with `3` as the parameter to get some number and then we\n",
    "call `bar` again with that number. In C, that would be something like\n",
    "`bar(bar(3))`.\n",
    "\n",
    "Baby's first functions\n",
    "----------------------\n",
    "\n",
    "In the previous section we got a basic feel for calling functions. Now\n",
    "let's try making our own!"
   ]
  },
  {
   "cell_type": "code",
   "execution_count": 26,
   "metadata": {
    "attributes": {
     "classes": [
      "haskell:",
      "hs"
     ],
     "id": "",
     "name": "\"code\""
    }
   },
   "outputs": [],
   "source": [
    "doubleMe x = x + x"
   ]
  },
  {
   "cell_type": "markdown",
   "metadata": {},
   "source": [
    "Functions are defined in a similar way that they are called. The\n",
    "function name is followed by parameters separated by spaces. But when\n",
    "defining functions, there's a `=` and after that we define what the\n",
    "function does."
   ]
  },
  {
   "cell_type": "code",
   "execution_count": 27,
   "metadata": {
    "attributes": {
     "classes": [
      "haskell:",
      "ghci"
     ],
     "id": "",
     "name": "\"code\""
    }
   },
   "outputs": [
    {
     "data": {
      "text/plain": [
       "18"
      ]
     },
     "metadata": {},
     "output_type": "display_data"
    }
   ],
   "source": [
    "doubleMe 9"
   ]
  },
  {
   "cell_type": "code",
   "execution_count": 28,
   "metadata": {
    "attributes": {
     "classes": [
      "haskell:",
      "ghci"
     ],
     "id": "",
     "name": "\"code\""
    }
   },
   "outputs": [
    {
     "data": {
      "text/plain": [
       "16.6"
      ]
     },
     "metadata": {},
     "output_type": "display_data"
    }
   ],
   "source": [
    "doubleMe 8.3"
   ]
  },
  {
   "cell_type": "markdown",
   "metadata": {},
   "source": [
    "Because [`+`](https://hackage.haskell.org/package/base/docs/Prelude.html#v:-43-) works on integers as well as on floating-point numbers\n",
    "(anything that can be considered a number, really), our function also\n",
    "works on any number. Let's make a function that takes two numbers and\n",
    "multiplies each by two and then adds them together."
   ]
  },
  {
   "cell_type": "code",
   "execution_count": 29,
   "metadata": {
    "attributes": {
     "classes": [
      "haskell:",
      "hs"
     ],
     "id": "",
     "name": "\"code\""
    }
   },
   "outputs": [],
   "source": [
    "doubleUs x y = x*2 + y*2"
   ]
  },
  {
   "cell_type": "markdown",
   "metadata": {},
   "source": [
    "Simple. We could have also defined it as `doubleUs x y = x + x + y + y`.\n",
    "Testing it out produces pretty predictable results."
   ]
  },
  {
   "cell_type": "code",
   "execution_count": 30,
   "metadata": {
    "attributes": {
     "classes": [
      "haskell:",
      "ghci"
     ],
     "id": "",
     "name": "\"code\""
    }
   },
   "outputs": [
    {
     "data": {
      "text/plain": [
       "26"
      ]
     },
     "metadata": {},
     "output_type": "display_data"
    }
   ],
   "source": [
    "doubleUs 4 9"
   ]
  },
  {
   "cell_type": "code",
   "execution_count": 31,
   "metadata": {
    "attributes": {
     "classes": [
      "haskell:",
      "ghci"
     ],
     "id": "",
     "name": "\"code\""
    }
   },
   "outputs": [
    {
     "data": {
      "text/plain": [
       "73.0"
      ]
     },
     "metadata": {},
     "output_type": "display_data"
    }
   ],
   "source": [
    "doubleUs 2.3 34.2"
   ]
  },
  {
   "cell_type": "code",
   "execution_count": 32,
   "metadata": {
    "attributes": {
     "classes": [
      "haskell:",
      "ghci"
     ],
     "id": "",
     "name": "\"code\""
    }
   },
   "outputs": [
    {
     "data": {
      "text/plain": [
       "478"
      ]
     },
     "metadata": {},
     "output_type": "display_data"
    }
   ],
   "source": [
    "doubleUs 28 88 + doubleMe 123"
   ]
  },
  {
   "cell_type": "markdown",
   "metadata": {},
   "source": [
    "As expected, you can call your own functions from other functions that\n",
    "you made. With that in mind, we could redefine `doubleUs` like this:"
   ]
  },
  {
   "cell_type": "code",
   "execution_count": 33,
   "metadata": {
    "attributes": {
     "classes": [
      "haskell:",
      "hs"
     ],
     "id": "",
     "name": "\"code\""
    }
   },
   "outputs": [],
   "source": [
    "doubleUs x y = doubleMe x + doubleMe y"
   ]
  },
  {
   "cell_type": "markdown",
   "metadata": {},
   "source": [
    "This is a very simple example of a common pattern you will see\n",
    "throughout Haskell. Making basic functions that are obviously correct\n",
    "and then combining them into more complex functions. This way you also\n",
    "avoid repetition. What if some mathematicians figured out that 2 is\n",
    "actually 3 and you had to change your program? You could just redefine\n",
    "`doubleMe` to be `x + x + x` and since `doubleUs` calls `doubleMe`, it would\n",
    "automatically work in this strange new world where 2 is 3.\n",
    "\n",
    "Functions in Haskell don't have to be in any particular order, so it\n",
    "doesn't matter if you define `doubleMe` first and then `doubleUs` or if you\n",
    "do it the other way around.\n",
    "\n",
    "Now we're going to make a function that multiplies a number by 2 but\n",
    "only if that number is smaller than or equal to 100 because numbers\n",
    "bigger than 100 are big enough as it is!"
   ]
  },
  {
   "cell_type": "code",
   "execution_count": 34,
   "metadata": {
    "attributes": {
     "classes": [
      "haskell:",
      "hs"
     ],
     "id": "",
     "name": "\"code\""
    }
   },
   "outputs": [],
   "source": [
    "doubleSmallNumber x = if x > 100\n",
    "                        then x\n",
    "                        else x*2"
   ]
  },
  {
   "cell_type": "markdown",
   "metadata": {},
   "source": [
    "<img src=\"img/baby.png\" title=\"this is you\" style=\"background-color:white;float:left;margin-right:2em;\"/>\n",
    "\n",
    "Right here we introduced Haskell's if statement. You're probably\n",
    "familiar with if statements from other languages. The difference between\n",
    "Haskell's if statement and if statements in imperative languages is that\n",
    "the else part is mandatory in Haskell. In imperative languages you can\n",
    "just skip a couple of steps if the condition isn't satisfied but in\n",
    "Haskell every expression and function must return something. We could\n",
    "have also written that if statement in one line but I find this way more\n",
    "readable. Another thing about the if statement in Haskell is that it is\n",
    "an *expression*. An expression is basically a piece of code that returns\n",
    "a value. `5` is an expression because it returns 5, `4 + 8` is an\n",
    "expression, `x + y` is an expression because it returns the sum of `x` and\n",
    "`y`. Because the else is mandatory, an if statement will always return\n",
    "something and that's why it's an expression. If we wanted to add one to\n",
    "every number that's produced in our previous function, we could have\n",
    "written its body like this."
   ]
  },
  {
   "cell_type": "code",
   "execution_count": 35,
   "metadata": {
    "attributes": {
     "classes": [
      "haskell:",
      "hs"
     ],
     "id": "",
     "name": "\"code\""
    }
   },
   "outputs": [],
   "source": [
    "doubleSmallNumber' x = (if x > 100 then x else x*2) + 1"
   ]
  },
  {
   "cell_type": "markdown",
   "metadata": {},
   "source": [
    "Had we omitted the parentheses, it would have added one only if `x` wasn't\n",
    "greater than 100. Note the `'` at the end of the function name. That\n",
    "apostrophe doesn't have any special meaning in Haskell's syntax. It's a\n",
    "valid character to use in a function name. We usually use `'` to either\n",
    "denote a strict version of a function (one that isn't lazy) or a\n",
    "slightly modified version of a function or a variable. Because `'` is a\n",
    "valid character in functions, we can make a function like this."
   ]
  },
  {
   "cell_type": "code",
   "execution_count": 36,
   "metadata": {
    "attributes": {
     "classes": [
      "haskell:",
      "hs"
     ],
     "id": "",
     "name": "\"code\""
    }
   },
   "outputs": [],
   "source": [
    "conanO'Brien = \"It's a-me, Conan O'Brien!\""
   ]
  },
  {
   "cell_type": "markdown",
   "metadata": {},
   "source": [
    "There are two noteworthy things here. The first is that in the function\n",
    "name we didn't capitalize Conan's name. That's because functions can't\n",
    "begin with uppercase letters. We'll see why a bit later. The second\n",
    "thing is that this function doesn't take any parameters. When a function\n",
    "doesn't take any parameters, we usually say it's a *definition* (or a\n",
    "*name*). Because we can't change what names (and functions) mean once\n",
    "we've defined them, `conanO'Brien` and the string `\"It's a-me, Conan\n",
    "O'Brien!\"` can be used interchangeably.\n",
    "\n",
    "An intro to lists\n",
    "-----------------\n",
    "\n",
    "<img src=\"img/list.png\" title=\"BUY A DOG\" style=\"background-color:white;float:left;margin-right:2em\" /> Much like shopping\n",
    "lists in the real world, lists in Haskell are very useful. It's the most\n",
    "used data structure and it can be used in a multitude of different ways\n",
    "to model and solve a whole bunch of problems. Lists are SO awesome. In\n",
    "this section we'll look at the basics of lists, strings (which are\n",
    "lists) and list comprehensions.\n",
    "\n",
    "In Haskell, lists are a *homogenous* data structure. It stores several\n",
    "elements of the same type. That means that we can have a list of\n",
    "integers or a list of characters but we can't have a list that has a few\n",
    "integers and then a few characters. And now, a list!\n",
    "\n",
    "> __Note:__ We can use the `let` keyword to define a name right in GHCI. Doing\n",
    "> `let a = 1` inside GHCI is the equivalent of writing `a = 1` in a script and\n",
    "> then loading it."
   ]
  },
  {
   "cell_type": "code",
   "execution_count": 37,
   "metadata": {
    "attributes": {
     "classes": [
      "haskell:",
      "ghci"
     ],
     "id": "",
     "name": "\"code\""
    }
   },
   "outputs": [],
   "source": [
    "let lostNumbers = [4,8,15,16,23,42]"
   ]
  },
  {
   "cell_type": "code",
   "execution_count": 38,
   "metadata": {
    "attributes": {
     "classes": [
      "haskell:",
      "ghci"
     ],
     "id": "",
     "name": "\"code\""
    }
   },
   "outputs": [
    {
     "data": {
      "text/plain": [
       "[4,8,15,16,23,42]"
      ]
     },
     "metadata": {},
     "output_type": "display_data"
    }
   ],
   "source": [
    "lostNumbers"
   ]
  },
  {
   "cell_type": "markdown",
   "metadata": {},
   "source": [
    "As you can see, lists are denoted by square brackets and the values in\n",
    "the lists are separated by commas. If we tried a list like\n",
    "`[1,2,'a',3,'b','c',4]`, Haskell would complain that characters (which\n",
    "are, by the way, denoted as a character between single quotes) are not\n",
    "numbers. Speaking of characters, strings are just lists of characters.\n",
    "`\"hello\"` is just syntactic sugar for `['h','e','l','l','o']`. Because\n",
    "strings are lists, we can use list functions on them, which is really\n",
    "handy.\n",
    "\n",
    "A common task is putting two lists together. This is done by using the\n",
    "[`++`](https://hackage.haskell.org/package/base/docs/Prelude.html#v:-43--43-) operator."
   ]
  },
  {
   "cell_type": "code",
   "execution_count": 39,
   "metadata": {
    "attributes": {
     "classes": [
      "haskell:",
      "ghci"
     ],
     "id": "",
     "name": "\"code\""
    }
   },
   "outputs": [
    {
     "data": {
      "text/plain": [
       "[1,2,3,4,9,10,11,12]"
      ]
     },
     "metadata": {},
     "output_type": "display_data"
    }
   ],
   "source": [
    "[1,2,3,4] ++ [9,10,11,12]"
   ]
  },
  {
   "cell_type": "code",
   "execution_count": 40,
   "metadata": {
    "attributes": {
     "classes": [
      "haskell:",
      "ghci"
     ],
     "id": "",
     "name": "\"code\""
    }
   },
   "outputs": [
    {
     "data": {
      "text/plain": [
       "\"hello world\""
      ]
     },
     "metadata": {},
     "output_type": "display_data"
    }
   ],
   "source": [
    "\"hello\" ++ \" \" ++ \"world\""
   ]
  },
  {
   "cell_type": "code",
   "execution_count": 41,
   "metadata": {
    "attributes": {
     "classes": [
      "haskell:",
      "ghci"
     ],
     "id": "",
     "name": "\"code\""
    }
   },
   "outputs": [
    {
     "data": {
      "text/plain": [
       "\"woot\""
      ]
     },
     "metadata": {},
     "output_type": "display_data"
    }
   ],
   "source": [
    "['w','o'] ++ ['o','t']"
   ]
  },
  {
   "cell_type": "markdown",
   "metadata": {},
   "source": [
    "Watch out when repeatedly using the [`++`](https://hackage.haskell.org/package/base/docs/Prelude.html#v:-43--43-) operator on long strings. When\n",
    "you put together two lists (even if you append a singleton list to a\n",
    "list, for instance: `[1,2,3] ++ [4]`), internally, Haskell has to walk\n",
    "through the whole list on the left side of [`++`](https://hackage.haskell.org/package/base/docs/Prelude.html#v:-43--43-). That's not a problem when\n",
    "dealing with lists that aren't too big. But putting something at the end\n",
    "of a list that's fifty million entries long is going to take a while.\n",
    "However, putting something at the beginning of a list using the `:`\n",
    "operator (also called the cons operator) is instantaneous."
   ]
  },
  {
   "cell_type": "code",
   "execution_count": 42,
   "metadata": {
    "attributes": {
     "classes": [
      "haskell:",
      "ghci"
     ],
     "id": "",
     "name": "\"code\""
    }
   },
   "outputs": [
    {
     "data": {
      "text/plain": [
       "\"A SMALL CAT\""
      ]
     },
     "metadata": {},
     "output_type": "display_data"
    }
   ],
   "source": [
    "'A':\" SMALL CAT\""
   ]
  },
  {
   "cell_type": "code",
   "execution_count": 43,
   "metadata": {
    "attributes": {
     "classes": [
      "haskell:",
      "ghci"
     ],
     "id": "",
     "name": "\"code\""
    }
   },
   "outputs": [
    {
     "data": {
      "text/plain": [
       "[5,1,2,3,4,5]"
      ]
     },
     "metadata": {},
     "output_type": "display_data"
    }
   ],
   "source": [
    "5:[1,2,3,4,5]"
   ]
  },
  {
   "cell_type": "markdown",
   "metadata": {},
   "source": [
    "Notice how `:` takes a number and a list of numbers or a character and a\n",
    "list of characters, whereas [`++`](https://hackage.haskell.org/package/base/docs/Prelude.html#v:-43--43-) takes two lists. Even if you're adding an\n",
    "element to the end of a list with [`++`](https://hackage.haskell.org/package/base/docs/Prelude.html#v:-43--43-), you have to surround it with\n",
    "square brackets so it becomes a list.\n",
    "\n",
    "`[1,2,3]` is actually just syntactic sugar for `1:2:3:[]`. `[]` is an empty\n",
    "list. If we prepend `3` to it, it becomes `[3]`. If we prepend `2` to that, it\n",
    "becomes `[2,3]`, and so on.\n",
    "\n",
    "> __Note:__ `[]`, `[[]]` and `[[],[],[]]` are all different things. The first one\n",
    "> is an empty list, the second one is a list that contains one empty list, the\n",
    "> third one is a list that contains three empty lists.\n",
    "\n",
    "If you want to get an element out of a list by index, use `!!`. The\n",
    "indices start at 0."
   ]
  },
  {
   "cell_type": "code",
   "execution_count": 44,
   "metadata": {
    "attributes": {
     "classes": [
      "haskell:",
      "ghci"
     ],
     "id": "",
     "name": "\"code\""
    }
   },
   "outputs": [
    {
     "data": {
      "text/plain": [
       "'B'"
      ]
     },
     "metadata": {},
     "output_type": "display_data"
    }
   ],
   "source": [
    "\"Steve Buscemi\" !! 6"
   ]
  },
  {
   "cell_type": "code",
   "execution_count": 45,
   "metadata": {
    "attributes": {
     "classes": [
      "haskell:",
      "ghci"
     ],
     "id": "",
     "name": "\"code\""
    }
   },
   "outputs": [
    {
     "data": {
      "text/plain": [
       "33.2"
      ]
     },
     "metadata": {},
     "output_type": "display_data"
    }
   ],
   "source": [
    "[9.4,33.2,96.2,11.2,23.25] !! 1"
   ]
  },
  {
   "cell_type": "markdown",
   "metadata": {},
   "source": [
    "But if you try to get the sixth element from a list that only has four\n",
    "elements, you'll get an error so be careful!\n",
    "\n",
    "Lists can also contain lists. They can also contain lists that contain\n",
    "lists that contain lists …"
   ]
  },
  {
   "cell_type": "code",
   "execution_count": 46,
   "metadata": {
    "attributes": {
     "classes": [
      "haskell:",
      "ghci"
     ],
     "id": "",
     "name": "\"code\""
    }
   },
   "outputs": [],
   "source": [
    "let b = [[1,2,3,4],[5,3,3,3],[1,2,2,3,4],[1,2,3]]"
   ]
  },
  {
   "cell_type": "code",
   "execution_count": 47,
   "metadata": {
    "attributes": {
     "classes": [
      "haskell:",
      "ghci"
     ],
     "id": "",
     "name": "\"code\""
    }
   },
   "outputs": [
    {
     "data": {
      "text/plain": [
       "[[1,2,3,4],[5,3,3,3],[1,2,2,3,4],[1,2,3]]"
      ]
     },
     "metadata": {},
     "output_type": "display_data"
    }
   ],
   "source": [
    "b"
   ]
  },
  {
   "cell_type": "code",
   "execution_count": 48,
   "metadata": {
    "attributes": {
     "classes": [
      "haskell:",
      "ghci"
     ],
     "id": "",
     "name": "\"code\""
    }
   },
   "outputs": [
    {
     "data": {
      "text/plain": [
       "[[1,2,3,4],[5,3,3,3],[1,2,2,3,4],[1,2,3],[1,1,1,1]]"
      ]
     },
     "metadata": {},
     "output_type": "display_data"
    }
   ],
   "source": [
    "b ++ [[1,1,1,1]]"
   ]
  },
  {
   "cell_type": "code",
   "execution_count": 49,
   "metadata": {
    "attributes": {
     "classes": [
      "haskell:",
      "ghci"
     ],
     "id": "",
     "name": "\"code\""
    }
   },
   "outputs": [
    {
     "data": {
      "text/plain": [
       "[[6,6,6],[1,2,3,4],[5,3,3,3],[1,2,2,3,4],[1,2,3]]"
      ]
     },
     "metadata": {},
     "output_type": "display_data"
    }
   ],
   "source": [
    "[6,6,6]:b"
   ]
  },
  {
   "cell_type": "code",
   "execution_count": 50,
   "metadata": {
    "attributes": {
     "classes": [
      "haskell:",
      "ghci"
     ],
     "id": "",
     "name": "\"code\""
    }
   },
   "outputs": [
    {
     "data": {
      "text/plain": [
       "[1,2,2,3,4]"
      ]
     },
     "metadata": {},
     "output_type": "display_data"
    }
   ],
   "source": [
    "b !! 2"
   ]
  },
  {
   "cell_type": "markdown",
   "metadata": {},
   "source": [
    "The lists within a list can be of different lengths but they can't be of\n",
    "different types. Just like you can't have a list that has some\n",
    "characters and some numbers, you can't have a list that has some lists\n",
    "of characters and some lists of numbers.\n",
    "\n",
    "Lists can be compared if the stuff they contain can be compared. When\n",
    "using [`<`](https://hackage.haskell.org/package/base/docs/Prelude.html#v:-60-), [`<=`](https://hackage.haskell.org/package/base/docs/Prelude.html#v:-60--61-), [`>`](https://hackage.haskell.org/package/base/docs/Prelude.html#v:-62-) and [`>=`](https://hackage.haskell.org/package/base/docs/Prelude.html#v:-62--61-) to compare lists, they are compared in\n",
    "lexicographical order. First the heads are compared. If they are equal\n",
    "then the second elements are compared, etc."
   ]
  },
  {
   "cell_type": "code",
   "execution_count": 51,
   "metadata": {
    "attributes": {
     "classes": [
      "haskell:",
      "ghci"
     ],
     "id": "",
     "name": "\"code\""
    }
   },
   "outputs": [
    {
     "data": {
      "text/plain": [
       "True"
      ]
     },
     "metadata": {},
     "output_type": "display_data"
    }
   ],
   "source": [
    "[3,2,1] > [2,1,0]"
   ]
  },
  {
   "cell_type": "code",
   "execution_count": 52,
   "metadata": {
    "attributes": {
     "classes": [
      "haskell:",
      "ghci"
     ],
     "id": "",
     "name": "\"code\""
    }
   },
   "outputs": [
    {
     "data": {
      "text/plain": [
       "True"
      ]
     },
     "metadata": {},
     "output_type": "display_data"
    }
   ],
   "source": [
    "[3,2,1] > [2,10,100]"
   ]
  },
  {
   "cell_type": "code",
   "execution_count": 53,
   "metadata": {
    "attributes": {
     "classes": [
      "haskell:",
      "ghci"
     ],
     "id": "",
     "name": "\"code\""
    }
   },
   "outputs": [
    {
     "data": {
      "text/plain": [
       "True"
      ]
     },
     "metadata": {},
     "output_type": "display_data"
    }
   ],
   "source": [
    "[3,4,2] > [3,4]"
   ]
  },
  {
   "cell_type": "code",
   "execution_count": 54,
   "metadata": {
    "attributes": {
     "classes": [
      "haskell:",
      "ghci"
     ],
     "id": "",
     "name": "\"code\""
    }
   },
   "outputs": [
    {
     "data": {
      "text/plain": [
       "True"
      ]
     },
     "metadata": {},
     "output_type": "display_data"
    }
   ],
   "source": [
    "[3,4,2] > [2,4]"
   ]
  },
  {
   "cell_type": "code",
   "execution_count": 55,
   "metadata": {
    "attributes": {
     "classes": [
      "haskell:",
      "ghci"
     ],
     "id": "",
     "name": "\"code\""
    }
   },
   "outputs": [
    {
     "data": {
      "text/plain": [
       "True"
      ]
     },
     "metadata": {},
     "output_type": "display_data"
    }
   ],
   "source": [
    "[3,4,2] == [3,4,2]"
   ]
  },
  {
   "cell_type": "markdown",
   "metadata": {},
   "source": [
    "What else can you do with lists? Here are some basic functions that\n",
    "operate on lists.\n",
    "\n",
    "__[`head`](https://hackage.haskell.org/package/base/docs/Prelude.html#v:head)__ takes a list and returns its head. The head of a list is basically\n",
    "its first element."
   ]
  },
  {
   "cell_type": "code",
   "execution_count": 56,
   "metadata": {
    "attributes": {
     "classes": [
      "haskell:",
      "ghci"
     ],
     "id": "",
     "name": "\"code\""
    }
   },
   "outputs": [
    {
     "data": {
      "text/plain": [
       "5"
      ]
     },
     "metadata": {},
     "output_type": "display_data"
    }
   ],
   "source": [
    "head [5,4,3,2,1]"
   ]
  },
  {
   "cell_type": "markdown",
   "metadata": {},
   "source": [
    "__[`tail`](https://hackage.haskell.org/package/base/docs/Prelude.html#v:tail)__ takes a list and returns its tail. In other words, it chops off a\n",
    "list's head."
   ]
  },
  {
   "cell_type": "code",
   "execution_count": 57,
   "metadata": {
    "attributes": {
     "classes": [
      "haskell:",
      "ghci"
     ],
     "id": "",
     "name": "\"code\""
    }
   },
   "outputs": [
    {
     "data": {
      "text/plain": [
       "[4,3,2,1]"
      ]
     },
     "metadata": {},
     "output_type": "display_data"
    }
   ],
   "source": [
    "tail [5,4,3,2,1]"
   ]
  },
  {
   "cell_type": "markdown",
   "metadata": {},
   "source": [
    "__[`last`](https://hackage.haskell.org/package/base/docs/Prelude.html#v:last)__ takes a list and returns its last element."
   ]
  },
  {
   "cell_type": "code",
   "execution_count": 58,
   "metadata": {
    "attributes": {
     "classes": [
      "haskell:",
      "ghci"
     ],
     "id": "",
     "name": "\"code\""
    }
   },
   "outputs": [
    {
     "data": {
      "text/plain": [
       "1"
      ]
     },
     "metadata": {},
     "output_type": "display_data"
    }
   ],
   "source": [
    "last [5,4,3,2,1]"
   ]
  },
  {
   "cell_type": "markdown",
   "metadata": {},
   "source": [
    "__[`init`](https://hackage.haskell.org/package/base/docs/Prelude.html#v:init)__ takes a list and returns everything except its last element."
   ]
  },
  {
   "cell_type": "code",
   "execution_count": 59,
   "metadata": {
    "attributes": {
     "classes": [
      "haskell:",
      "ghci"
     ],
     "id": "",
     "name": "\"code\""
    }
   },
   "outputs": [
    {
     "data": {
      "text/plain": [
       "[5,4,3,2]"
      ]
     },
     "metadata": {},
     "output_type": "display_data"
    }
   ],
   "source": [
    "init [5,4,3,2,1]"
   ]
  },
  {
   "cell_type": "markdown",
   "metadata": {},
   "source": [
    "If we think of a list as a monster, here's what's what.\n",
    "\n",
    "<img src=\"img/listmonster.png\" title=\"list monster\" style=\"background-color:white;\" />\n",
    "\n",
    "But what happens if we try to get the head of an empty list?"
   ]
  },
  {
   "cell_type": "code",
   "execution_count": 60,
   "metadata": {
    "attributes": {
     "classes": [
      "haskell:",
      "ghci"
     ],
     "id": "",
     "name": "\"code\""
    }
   },
   "outputs": [
    {
     "ename": "",
     "evalue": "",
     "output_type": "error",
     "traceback": [
      "Prelude.head: empty list"
     ]
    }
   ],
   "source": [
    "head []"
   ]
  },
  {
   "cell_type": "markdown",
   "metadata": {},
   "source": [
    "Oh my! It all blows up in our face! If there's no monster, it doesn't\n",
    "have a head. When using [`head`](https://hackage.haskell.org/package/base/docs/Prelude.html#v:head), [`tail`](https://hackage.haskell.org/package/base/docs/Prelude.html#v:tail), [`last`](https://hackage.haskell.org/package/base/docs/Prelude.html#v:last) and [`init`](https://hackage.haskell.org/package/base/docs/Prelude.html#v:init), be careful not to use\n",
    "them on empty lists. This error cannot be caught at compile time so it's\n",
    "always good practice to take precautions against accidentally telling\n",
    "Haskell to give you some elements from an empty list.\n",
    "\n",
    "__[`length`](https://hackage.haskell.org/package/base/docs/Prelude.html#v:length)__ takes a list and returns its length, obviously."
   ]
  },
  {
   "cell_type": "code",
   "execution_count": 61,
   "metadata": {
    "attributes": {
     "classes": [
      "haskell:",
      "ghci"
     ],
     "id": "",
     "name": "\"code\""
    }
   },
   "outputs": [
    {
     "data": {
      "text/plain": [
       "5"
      ]
     },
     "metadata": {},
     "output_type": "display_data"
    }
   ],
   "source": [
    "length [5,4,3,2,1]"
   ]
  },
  {
   "cell_type": "markdown",
   "metadata": {},
   "source": [
    "__[`null`](https://hackage.haskell.org/package/base/docs/Prelude.html#v:null)__ checks if a list is empty. If it is, it returns [`True`](https://hackage.haskell.org/package/base/docs/Prelude.html#v:True), otherwise it\n",
    "returns [`False`](https://hackage.haskell.org/package/base/docs/Prelude.html#v:False). Use this function instead of `xs == []` (if you have a list\n",
    "called `xs`)"
   ]
  },
  {
   "cell_type": "code",
   "execution_count": 62,
   "metadata": {
    "attributes": {
     "classes": [
      "haskell:",
      "ghci"
     ],
     "id": "",
     "name": "\"code\""
    }
   },
   "outputs": [
    {
     "data": {
      "text/plain": [
       "False"
      ]
     },
     "metadata": {},
     "output_type": "display_data"
    }
   ],
   "source": [
    "null [1,2,3]"
   ]
  },
  {
   "cell_type": "code",
   "execution_count": 63,
   "metadata": {
    "attributes": {
     "classes": [
      "haskell:",
      "ghci"
     ],
     "id": "",
     "name": "\"code\""
    }
   },
   "outputs": [
    {
     "data": {
      "text/plain": [
       "True"
      ]
     },
     "metadata": {},
     "output_type": "display_data"
    }
   ],
   "source": [
    "null []"
   ]
  },
  {
   "cell_type": "markdown",
   "metadata": {},
   "source": [
    "__[`reverse`](https://hackage.haskell.org/package/base/docs/Prelude.html#v:reverse)__ reverses a list."
   ]
  },
  {
   "cell_type": "code",
   "execution_count": 64,
   "metadata": {
    "attributes": {
     "classes": [
      "haskell:",
      "ghci"
     ],
     "id": "",
     "name": "\"code\""
    }
   },
   "outputs": [
    {
     "data": {
      "text/plain": [
       "[1,2,3,4,5]"
      ]
     },
     "metadata": {},
     "output_type": "display_data"
    }
   ],
   "source": [
    "reverse [5,4,3,2,1]"
   ]
  },
  {
   "cell_type": "markdown",
   "metadata": {},
   "source": [
    "__[`take`](https://hackage.haskell.org/package/base/docs/Prelude.html#v:take)__ takes number and a list. It extracts that many elements from the\n",
    "beginning of the list. Watch."
   ]
  },
  {
   "cell_type": "code",
   "execution_count": 65,
   "metadata": {
    "attributes": {
     "classes": [
      "haskell:",
      "ghci"
     ],
     "id": "",
     "name": "\"code\""
    }
   },
   "outputs": [
    {
     "data": {
      "text/plain": [
       "[5,4,3]"
      ]
     },
     "metadata": {},
     "output_type": "display_data"
    }
   ],
   "source": [
    "take 3 [5,4,3,2,1]"
   ]
  },
  {
   "cell_type": "code",
   "execution_count": 66,
   "metadata": {
    "attributes": {
     "classes": [
      "haskell:",
      "ghci"
     ],
     "id": "",
     "name": "\"code\""
    }
   },
   "outputs": [
    {
     "data": {
      "text/plain": [
       "[3]"
      ]
     },
     "metadata": {},
     "output_type": "display_data"
    }
   ],
   "source": [
    "take 1 [3,9,3]"
   ]
  },
  {
   "cell_type": "code",
   "execution_count": 67,
   "metadata": {
    "attributes": {
     "classes": [
      "haskell:",
      "ghci"
     ],
     "id": "",
     "name": "\"code\""
    }
   },
   "outputs": [
    {
     "data": {
      "text/plain": [
       "[1,2]"
      ]
     },
     "metadata": {},
     "output_type": "display_data"
    }
   ],
   "source": [
    "take 5 [1,2]"
   ]
  },
  {
   "cell_type": "code",
   "execution_count": 68,
   "metadata": {
    "attributes": {
     "classes": [
      "haskell:",
      "ghci"
     ],
     "id": "",
     "name": "\"code\""
    }
   },
   "outputs": [
    {
     "data": {
      "text/plain": [
       "[]"
      ]
     },
     "metadata": {},
     "output_type": "display_data"
    }
   ],
   "source": [
    "take 0 [6,6,6]"
   ]
  },
  {
   "cell_type": "markdown",
   "metadata": {},
   "source": [
    "See how if we try to take more elements than there are in the list, it\n",
    "just returns the list. If we try to take 0 elements, we get an empty\n",
    "list.\n",
    "\n",
    "__[`drop`](https://hackage.haskell.org/package/base/docs/Prelude.html#v:drop)__ works in a similar way, only it drops the number of elements from\n",
    "the beginning of a list."
   ]
  },
  {
   "cell_type": "code",
   "execution_count": 69,
   "metadata": {
    "attributes": {
     "classes": [
      "haskell:",
      "ghci"
     ],
     "id": "",
     "name": "\"code\""
    }
   },
   "outputs": [
    {
     "data": {
      "text/plain": [
       "[1,5,6]"
      ]
     },
     "metadata": {},
     "output_type": "display_data"
    }
   ],
   "source": [
    "drop 3 [8,4,2,1,5,6]"
   ]
  },
  {
   "cell_type": "code",
   "execution_count": 70,
   "metadata": {
    "attributes": {
     "classes": [
      "haskell:",
      "ghci"
     ],
     "id": "",
     "name": "\"code\""
    }
   },
   "outputs": [
    {
     "data": {
      "text/plain": [
       "[1,2,3,4]"
      ]
     },
     "metadata": {},
     "output_type": "display_data"
    }
   ],
   "source": [
    "drop 0 [1,2,3,4]"
   ]
  },
  {
   "cell_type": "code",
   "execution_count": 71,
   "metadata": {
    "attributes": {
     "classes": [
      "haskell:",
      "ghci"
     ],
     "id": "",
     "name": "\"code\""
    }
   },
   "outputs": [
    {
     "data": {
      "text/plain": [
       "[]"
      ]
     },
     "metadata": {},
     "output_type": "display_data"
    }
   ],
   "source": [
    "drop 100 [1,2,3,4]"
   ]
  },
  {
   "cell_type": "markdown",
   "metadata": {},
   "source": [
    "__[`maximum`](https://hackage.haskell.org/package/base/docs/Prelude.html#v:maximum)__ takes a list of stuff that can be put in some kind of order and\n",
    "returns the biggest element.\n",
    "\n",
    "__[`minimum`](https://hackage.haskell.org/package/base/docs/Prelude.html#v:minimum)__ returns the smallest."
   ]
  },
  {
   "cell_type": "code",
   "execution_count": 72,
   "metadata": {
    "attributes": {
     "classes": [
      "haskell:",
      "ghci"
     ],
     "id": "",
     "name": "\"code\""
    }
   },
   "outputs": [
    {
     "data": {
      "text/plain": [
       "1"
      ]
     },
     "metadata": {},
     "output_type": "display_data"
    }
   ],
   "source": [
    "minimum [8,4,2,1,5,6]"
   ]
  },
  {
   "cell_type": "code",
   "execution_count": 73,
   "metadata": {
    "attributes": {
     "classes": [
      "haskell:",
      "ghci"
     ],
     "id": "",
     "name": "\"code\""
    }
   },
   "outputs": [
    {
     "data": {
      "text/plain": [
       "9"
      ]
     },
     "metadata": {},
     "output_type": "display_data"
    }
   ],
   "source": [
    "maximum [1,9,2,3,4]"
   ]
  },
  {
   "cell_type": "markdown",
   "metadata": {},
   "source": [
    "__[`sum`](https://hackage.haskell.org/package/base/docs/Prelude.html#v:sum)__ takes a list of numbers and returns their sum.\n",
    "\n",
    "__[`product`](https://hackage.haskell.org/package/base/docs/Prelude.html#v:product)__ takes a list of numbers and returns their product."
   ]
  },
  {
   "cell_type": "code",
   "execution_count": 74,
   "metadata": {
    "attributes": {
     "classes": [
      "haskell:",
      "ghci"
     ],
     "id": "",
     "name": "\"code\""
    }
   },
   "outputs": [
    {
     "data": {
      "text/plain": [
       "31"
      ]
     },
     "metadata": {},
     "output_type": "display_data"
    }
   ],
   "source": [
    "sum [5,2,1,6,3,2,5,7]"
   ]
  },
  {
   "cell_type": "code",
   "execution_count": 75,
   "metadata": {
    "attributes": {
     "classes": [
      "haskell:",
      "ghci"
     ],
     "id": "",
     "name": "\"code\""
    }
   },
   "outputs": [
    {
     "data": {
      "text/plain": [
       "24"
      ]
     },
     "metadata": {},
     "output_type": "display_data"
    }
   ],
   "source": [
    "product [6,2,1,2]"
   ]
  },
  {
   "cell_type": "code",
   "execution_count": 76,
   "metadata": {
    "attributes": {
     "classes": [
      "haskell:",
      "ghci"
     ],
     "id": "",
     "name": "\"code\""
    }
   },
   "outputs": [
    {
     "data": {
      "text/plain": [
       "0"
      ]
     },
     "metadata": {},
     "output_type": "display_data"
    }
   ],
   "source": [
    "product [1,2,5,6,7,9,2,0]"
   ]
  },
  {
   "cell_type": "markdown",
   "metadata": {},
   "source": [
    "__[`elem`](https://hackage.haskell.org/package/base/docs/Prelude.html#v:elem)__ takes a thing and a list of things and tells us if that thing is an\n",
    "element of the list. It's usually called as an infix function because\n",
    "it's easier to read that way."
   ]
  },
  {
   "cell_type": "code",
   "execution_count": 77,
   "metadata": {
    "attributes": {
     "classes": [
      "haskell:",
      "ghci"
     ],
     "id": "",
     "name": "\"code\""
    }
   },
   "outputs": [
    {
     "data": {
      "text/plain": [
       "True"
      ]
     },
     "metadata": {},
     "output_type": "display_data"
    }
   ],
   "source": [
    "4 `elem` [3,4,5,6]"
   ]
  },
  {
   "cell_type": "code",
   "execution_count": 78,
   "metadata": {
    "attributes": {
     "classes": [
      "haskell:",
      "ghci"
     ],
     "id": "",
     "name": "\"code\""
    }
   },
   "outputs": [
    {
     "data": {
      "text/plain": [
       "False"
      ]
     },
     "metadata": {},
     "output_type": "display_data"
    }
   ],
   "source": [
    "10 `elem` [3,4,5,6]"
   ]
  },
  {
   "cell_type": "markdown",
   "metadata": {},
   "source": [
    "Those were a few basic functions that operate on lists. We'll take a\n",
    "look at more list functions [later](http://learnyouahaskell.com/modules#data-list)\n",
    "\n",
    "Texas ranges\n",
    "------------\n",
    "\n",
    "<img src=\"img/cowboy.png\" title=\"draw\" style=\"background-color:white;float:right;margin-left:2em;\" /> What if we want a list\n",
    "of all numbers between 1 and 20? Sure, we could just type them all out\n",
    "but obviously that's not a solution for gentlemen who demand excellence\n",
    "from their programming languages. Instead, we'll use ranges. Ranges are\n",
    "a way of making lists that are arithmetic sequences of elements that can\n",
    "be enumerated. Numbers can be enumerated. One, two, three, four, etc.\n",
    "Characters can also be enumerated. The alphabet is an enumeration of\n",
    "characters from A to Z. Names can't be enumerated. What comes after\n",
    "\"John\"? I don't know.\n",
    "\n",
    "To make a list containing all the natural numbers from 1 to 20, you just\n",
    "write `[1..20]`. That is the equivalent of writing\n",
    "`[1,2,3,4,5,6,7,8,9,10,11,12,13,14,15,16,17,18,19,20]` and there's no\n",
    "difference between writing one or the other except that writing out long\n",
    "enumeration sequences manually is stupid."
   ]
  },
  {
   "cell_type": "code",
   "execution_count": 79,
   "metadata": {
    "attributes": {
     "classes": [
      "haskell:",
      "ghci"
     ],
     "id": "",
     "name": "\"code\""
    }
   },
   "outputs": [
    {
     "data": {
      "text/plain": [
       "[1,2,3,4,5,6,7,8,9,10,11,12,13,14,15,16,17,18,19,20]"
      ]
     },
     "metadata": {},
     "output_type": "display_data"
    }
   ],
   "source": [
    "[1..20]"
   ]
  },
  {
   "cell_type": "code",
   "execution_count": 80,
   "metadata": {
    "attributes": {
     "classes": [
      "haskell:",
      "ghci"
     ],
     "id": "",
     "name": "\"code\""
    }
   },
   "outputs": [
    {
     "data": {
      "text/plain": [
       "\"abcdefghijklmnopqrstuvwxyz\""
      ]
     },
     "metadata": {},
     "output_type": "display_data"
    }
   ],
   "source": [
    "['a'..'z']"
   ]
  },
  {
   "cell_type": "code",
   "execution_count": 81,
   "metadata": {
    "attributes": {
     "classes": [
      "haskell:",
      "ghci"
     ],
     "id": "",
     "name": "\"code\""
    }
   },
   "outputs": [
    {
     "data": {
      "text/plain": [
       "\"KLMNOPQRSTUVWXYZ\""
      ]
     },
     "metadata": {},
     "output_type": "display_data"
    }
   ],
   "source": [
    "['K'..'Z']"
   ]
  },
  {
   "cell_type": "markdown",
   "metadata": {},
   "source": [
    "Ranges are cool because you can also specify a step. What if we want all\n",
    "even numbers between 1 and 20? Or every third number between 1 and 20?"
   ]
  },
  {
   "cell_type": "code",
   "execution_count": 82,
   "metadata": {
    "attributes": {
     "classes": [
      "haskell:",
      "ghci"
     ],
     "id": "",
     "name": "\"code\""
    }
   },
   "outputs": [
    {
     "data": {
      "text/plain": [
       "[2,4,6,8,10,12,14,16,18,20]"
      ]
     },
     "metadata": {},
     "output_type": "display_data"
    }
   ],
   "source": [
    "[2,4..20]"
   ]
  },
  {
   "cell_type": "code",
   "execution_count": 83,
   "metadata": {
    "attributes": {
     "classes": [
      "haskell:",
      "ghci"
     ],
     "id": "",
     "name": "\"code\""
    }
   },
   "outputs": [
    {
     "data": {
      "text/plain": [
       "[3,6,9,12,15,18]"
      ]
     },
     "metadata": {},
     "output_type": "display_data"
    }
   ],
   "source": [
    "[3,6..20]"
   ]
  },
  {
   "cell_type": "markdown",
   "metadata": {},
   "source": [
    "It's simply a matter of separating the first two elements with a comma\n",
    "and then specifying what the upper limit is. While pretty smart, ranges\n",
    "with steps aren't as smart as some people expect them to be. You can't\n",
    "do `[1,2,4,8,16..100]` and expect to get all the powers of 2. Firstly\n",
    "because you can only specify one step. And secondly because some\n",
    "sequences that aren't arithmetic are ambiguous if given only by a few of\n",
    "their first terms.\n",
    "\n",
    "To make a list with all the numbers from 20 to 1, you can't just do\n",
    "`[20..1]`, you have to do `[20,19..1]`.\n",
    "\n",
    "Watch out when using floating point numbers in ranges! Because they are\n",
    "not completely precise (by definition), their use in ranges can yield\n",
    "some pretty funky results."
   ]
  },
  {
   "cell_type": "code",
   "execution_count": 84,
   "metadata": {
    "attributes": {
     "classes": [
      "haskell:",
      "ghci"
     ],
     "id": "",
     "name": "\"code\""
    }
   },
   "outputs": [
    {
     "data": {
      "text/plain": [
       "[0.1,0.3,0.5,0.7,0.8999999999999999,1.0999999999999999]"
      ]
     },
     "metadata": {},
     "output_type": "display_data"
    }
   ],
   "source": [
    "[0.1, 0.3 .. 1]"
   ]
  },
  {
   "cell_type": "markdown",
   "metadata": {},
   "source": [
    "My advice is not to use them in list ranges.\n",
    "\n",
    "You can also use ranges to make infinite lists by just not specifying an\n",
    "upper limit. Later we'll go into more detail on infinite lists. For now,\n",
    "let's examine how you would get the first 24 multiples of 13. Sure, you\n",
    "could do `[13,26..24*13]`. But there's a better way: `take 24 [13,26..]`.\n",
    "Because Haskell is lazy, it won't try to evaluate the infinite list\n",
    "immediately because it would never finish. It'll wait to see what you\n",
    "want to get out of that infinite lists. And here it sees you just want\n",
    "the first 24 elements and it gladly obliges.\n",
    "\n",
    "A handful of functions that produce infinite lists:\n",
    "\n",
    "__[`cycle`](https://hackage.haskell.org/package/base/docs/Prelude.html#v:cycle)__ takes a list and cycles it into an infinite list. If you just try\n",
    "to display the result, it will go on forever so you have to slice it off\n",
    "somewhere."
   ]
  },
  {
   "cell_type": "code",
   "execution_count": 85,
   "metadata": {
    "attributes": {
     "classes": [
      "haskell:",
      "ghci"
     ],
     "id": "",
     "name": "\"code\""
    }
   },
   "outputs": [
    {
     "data": {
      "text/plain": [
       "[1,2,3,1,2,3,1,2,3,1]"
      ]
     },
     "metadata": {},
     "output_type": "display_data"
    }
   ],
   "source": [
    "take 10 (cycle [1,2,3])"
   ]
  },
  {
   "cell_type": "code",
   "execution_count": 86,
   "metadata": {
    "attributes": {
     "classes": [
      "haskell:",
      "ghci"
     ],
     "id": "",
     "name": "\"code\""
    }
   },
   "outputs": [
    {
     "data": {
      "text/plain": [
       "\"LOL LOL LOL \""
      ]
     },
     "metadata": {},
     "output_type": "display_data"
    }
   ],
   "source": [
    "take 12 (cycle \"LOL \")"
   ]
  },
  {
   "cell_type": "markdown",
   "metadata": {},
   "source": [
    "__[`repeat`](https://hackage.haskell.org/package/base/docs/Prelude.html#v:repeat)__ takes an element and produces an infinite list of just that\n",
    "element. It's like cycling a list with only one element."
   ]
  },
  {
   "cell_type": "code",
   "execution_count": 87,
   "metadata": {
    "attributes": {
     "classes": [
      "haskell:",
      "ghci"
     ],
     "id": "",
     "name": "\"code\""
    }
   },
   "outputs": [
    {
     "data": {
      "text/plain": [
       "[5,5,5,5,5,5,5,5,5,5]"
      ]
     },
     "metadata": {},
     "output_type": "display_data"
    }
   ],
   "source": [
    "take 10 (repeat 5)"
   ]
  },
  {
   "cell_type": "markdown",
   "metadata": {},
   "source": [
    "Although it's simpler to just use the [`replicate`](https://hackage.haskell.org/package/base/docs/Prelude.html#v:replicate) function if you want\n",
    "some number of the same element in a list. `replicate 3 10` returns\n",
    "`[10,10,10]`.\n",
    "\n",
    "<a name=\"im-a-list-comprehension\"></a>\n",
    "\n",
    "I'm a list comprehension\n",
    "------------------------\n",
    "\n",
    "<img src=\"img/kermit.png\" title=\"frog\" style=\"background-color:white;float:left;margin-right:2em;\" /> If you've ever taken a\n",
    "course in mathematics, you've probably run into *set comprehensions*.\n",
    "They're normally used for building more specific sets out of general\n",
    "sets. A basic comprehension for a set that contains the first ten even\n",
    "natural numbers is $ S=\\{2 \\centerdot x | x \\in \\mathbb{N}, x \\le 10 \\}$. The part before\n",
    "the pipe is called the output function, `x` is the variable, `N` is the\n",
    "input set and `x <= 10` is the predicate. That means that the set\n",
    "contains the doubles of all natural numbers that satisfy the predicate.\n",
    "\n",
    "If we wanted to write that in Haskell, we could do something like `take\n",
    "10 [2,4..]`. But what if we didn't want doubles of the first 10 natural\n",
    "numbers but some kind of more complex function applied on them? We could\n",
    "use a list comprehension for that. List comprehensions are very similar\n",
    "to set comprehensions. We'll stick to getting the first 10 even numbers\n",
    "for now. The list comprehension we could use is `[x*2 | x <- [1..10]]`.\n",
    "`x` is drawn from `[1..10]` and for every element in `[1..10]` (which we have\n",
    "bound to `x`), we get that element, only doubled. Here's that\n",
    "comprehension in action."
   ]
  },
  {
   "cell_type": "code",
   "execution_count": 88,
   "metadata": {
    "attributes": {
     "classes": [
      "haskell:",
      "ghci"
     ],
     "id": "",
     "name": "\"code\""
    }
   },
   "outputs": [
    {
     "data": {
      "text/plain": [
       "[2,4,6,8,10,12,14,16,18,20]"
      ]
     },
     "metadata": {},
     "output_type": "display_data"
    }
   ],
   "source": [
    "[x*2 | x <- [1..10]]"
   ]
  },
  {
   "cell_type": "markdown",
   "metadata": {},
   "source": [
    "As you can see, we get the desired results. Now let's add a condition\n",
    "(or a predicate) to that comprehension. Predicates go after the binding\n",
    "parts and are separated from them by a comma. Let's say we want only the\n",
    "elements which, doubled, are greater than or equal to 12."
   ]
  },
  {
   "cell_type": "code",
   "execution_count": 89,
   "metadata": {
    "attributes": {
     "classes": [
      "haskell:",
      "ghci"
     ],
     "id": "",
     "name": "\"code\""
    }
   },
   "outputs": [
    {
     "data": {
      "text/plain": [
       "[12,14,16,18,20]"
      ]
     },
     "metadata": {},
     "output_type": "display_data"
    }
   ],
   "source": [
    "[x*2 | x <- [1..10], x*2 >= 12]"
   ]
  },
  {
   "cell_type": "markdown",
   "metadata": {},
   "source": [
    "Cool, it works. How about if we wanted all numbers from 50 to 100 whose\n",
    "remainder when divided with the number 7 is 3? Easy."
   ]
  },
  {
   "cell_type": "code",
   "execution_count": 90,
   "metadata": {
    "attributes": {
     "classes": [
      "haskell:",
      "ghci"
     ],
     "id": "",
     "name": "\"code\""
    }
   },
   "outputs": [
    {
     "data": {
      "text/plain": [
       "[52,59,66,73,80,87,94]"
      ]
     },
     "metadata": {},
     "output_type": "display_data"
    }
   ],
   "source": [
    "[ x | x <- [50..100], x `mod` 7 == 3]"
   ]
  },
  {
   "cell_type": "markdown",
   "metadata": {},
   "source": [
    "Success! Note that weeding out lists by predicates is also called\n",
    "*filtering*. We took a list of numbers and we filtered them by the\n",
    "predicate. Now for another example. Let's say we want a comprehension\n",
    "that replaces each odd number greater than 10 with `\"BANG!\"` and each odd\n",
    "number that's less than 10 with `\"BOOM!\"`. If a number isn't odd, we throw\n",
    "it out of our list. For convenience, we'll put that comprehension inside\n",
    "a function so we can easily reuse it."
   ]
  },
  {
   "cell_type": "code",
   "execution_count": 91,
   "metadata": {
    "attributes": {
     "classes": [
      "haskell:",
      "ghci"
     ],
     "id": "",
     "name": "\"code\""
    }
   },
   "outputs": [],
   "source": [
    "boomBangs xs = [ if x < 10 then \"BOOM!\" else \"BANG!\" | x <- xs, odd x]"
   ]
  },
  {
   "cell_type": "markdown",
   "metadata": {},
   "source": [
    "The last part of the comprehension is the predicate. The function [`odd`](https://hackage.haskell.org/package/base/docs/Prelude.html#v:odd)\n",
    "returns [`True`](https://hackage.haskell.org/package/base/docs/Prelude.html#v:True) on an odd number and [`False`](https://hackage.haskell.org/package/base/docs/Prelude.html#v:False) on an even one. The element is\n",
    "included in the list only if all the predicates evaluate to [`True`](https://hackage.haskell.org/package/base/docs/Prelude.html#v:True)."
   ]
  },
  {
   "cell_type": "code",
   "execution_count": 92,
   "metadata": {
    "attributes": {
     "classes": [
      "haskell:",
      "hs"
     ],
     "id": "",
     "name": "\"code\""
    }
   },
   "outputs": [
    {
     "data": {
      "text/plain": [
       "[\"BOOM!\",\"BOOM!\",\"BANG!\",\"BANG!\"]"
      ]
     },
     "metadata": {},
     "output_type": "display_data"
    }
   ],
   "source": [
    "boomBangs [7..13]"
   ]
  },
  {
   "cell_type": "markdown",
   "metadata": {},
   "source": [
    "We can include several predicates. If we wanted all numbers from 10 to\n",
    "20 that are not 13, 15 or 19, we'd do:"
   ]
  },
  {
   "cell_type": "code",
   "execution_count": 93,
   "metadata": {
    "attributes": {
     "classes": [
      "haskell:",
      "ghci"
     ],
     "id": "",
     "name": "\"code\""
    }
   },
   "outputs": [
    {
     "data": {
      "text/plain": [
       "[10,11,12,14,16,17,18,20]"
      ]
     },
     "metadata": {},
     "output_type": "display_data"
    }
   ],
   "source": [
    "[ x | x <- [10..20], x /= 13, x /= 15, x /= 19]"
   ]
  },
  {
   "cell_type": "markdown",
   "metadata": {},
   "source": [
    "Not only can we have multiple predicates in list comprehensions (an\n",
    "element must satisfy all the predicates to be included in the resulting\n",
    "list), we can also draw from several lists. When drawing from several\n",
    "lists, comprehensions produce all combinations of the given lists and\n",
    "then join them by the output function we supply. A list produced by a\n",
    "comprehension that draws from two lists of length 4 will have a length\n",
    "of 16, provided we don't filter them. If we have two lists, `[2,5,10]` and\n",
    "`[8,10,11]` and we want to get the products of all the possible\n",
    "combinations between numbers in those lists, here's what we'd do."
   ]
  },
  {
   "cell_type": "code",
   "execution_count": 94,
   "metadata": {
    "attributes": {
     "classes": [
      "haskell:",
      "ghci"
     ],
     "id": "",
     "name": "\"code\""
    }
   },
   "outputs": [
    {
     "data": {
      "text/plain": [
       "[16,20,22,40,50,55,80,100,110]"
      ]
     },
     "metadata": {},
     "output_type": "display_data"
    }
   ],
   "source": [
    "[ x*y | x <- [2,5,10], y <- [8,10,11]]"
   ]
  },
  {
   "cell_type": "markdown",
   "metadata": {},
   "source": [
    "As expected, the length of the new list is 9. What if we wanted all\n",
    "possible products that are more than 50?"
   ]
  },
  {
   "cell_type": "code",
   "execution_count": 95,
   "metadata": {
    "attributes": {
     "classes": [
      "haskell:",
      "ghci"
     ],
     "id": "",
     "name": "\"code\""
    }
   },
   "outputs": [
    {
     "data": {
      "text/plain": [
       "[55,80,100,110]"
      ]
     },
     "metadata": {},
     "output_type": "display_data"
    }
   ],
   "source": [
    "[ x*y | x <- [2,5,10], y <- [8,10,11], x*y > 50]"
   ]
  },
  {
   "cell_type": "markdown",
   "metadata": {},
   "source": [
    "How about a list comprehension that combines a list of adjectives and a\n",
    "list of nouns … for epic hilarity."
   ]
  },
  {
   "cell_type": "code",
   "execution_count": 96,
   "metadata": {
    "attributes": {
     "classes": [
      "haskell:",
      "ghci"
     ],
     "id": "",
     "name": "\"code\""
    }
   },
   "outputs": [
    {
     "data": {
      "text/plain": [
       "[\"lazy hobo\",\"lazy frog\",\"lazy pope\",\"grouchy hobo\",\"grouchy frog\",\"grouchy pope\",\"scheming hobo\",\"scheming frog\",\"scheming pope\"]"
      ]
     },
     "metadata": {},
     "output_type": "display_data"
    }
   ],
   "source": [
    "let nouns = [\"hobo\",\"frog\",\"pope\"]\n",
    "let adjectives = [\"lazy\",\"grouchy\",\"scheming\"]\n",
    "[adjective ++ \" \" ++ noun | adjective <- adjectives, noun <- nouns]"
   ]
  },
  {
   "cell_type": "markdown",
   "metadata": {},
   "source": [
    "I know! Let's write our own version of [`length`](https://hackage.haskell.org/package/base/docs/Prelude.html#v:length)! We'll call it `length'`."
   ]
  },
  {
   "cell_type": "code",
   "execution_count": 97,
   "metadata": {
    "attributes": {
     "classes": [
      "haskell:",
      "hs"
     ],
     "id": "",
     "name": "\"code\""
    }
   },
   "outputs": [],
   "source": [
    "length' xs = sum [1 | _ <- xs]"
   ]
  },
  {
   "cell_type": "markdown",
   "metadata": {},
   "source": [
    "`_` means that we don't care what we'll draw from the list anyway so\n",
    "instead of writing a variable name that we'll never use, we just write\n",
    "`_`. This function replaces every element of a list with `1` and then sums\n",
    "that up. This means that the resulting sum will be the length of our\n",
    "list.\n",
    "\n",
    "Just a friendly reminder: because strings are lists, we can use list\n",
    "comprehensions to process and produce strings. Here's a function that\n",
    "takes a string and removes everything except uppercase letters from it."
   ]
  },
  {
   "cell_type": "code",
   "execution_count": 98,
   "metadata": {
    "attributes": {
     "classes": [
      "haskell:",
      "hs"
     ],
     "id": "",
     "name": "\"code\""
    }
   },
   "outputs": [],
   "source": [
    "removeNonUppercase st = [ c | c <- st, c `elem` ['A'..'Z']]"
   ]
  },
  {
   "cell_type": "markdown",
   "metadata": {},
   "source": [
    "Testing it out:"
   ]
  },
  {
   "cell_type": "code",
   "execution_count": 99,
   "metadata": {
    "attributes": {
     "classes": [
      "haskell:",
      "ghci"
     ],
     "id": "",
     "name": "\"code\""
    }
   },
   "outputs": [
    {
     "data": {
      "text/plain": [
       "\"HA\""
      ]
     },
     "metadata": {},
     "output_type": "display_data"
    }
   ],
   "source": [
    "removeNonUppercase \"Hahaha! Ahahaha!\""
   ]
  },
  {
   "cell_type": "code",
   "execution_count": 100,
   "metadata": {
    "attributes": {
     "classes": [
      "haskell:",
      "ghci"
     ],
     "id": "",
     "name": "\"code\""
    }
   },
   "outputs": [
    {
     "data": {
      "text/plain": [
       "\"ILIKEFROGS\""
      ]
     },
     "metadata": {},
     "output_type": "display_data"
    }
   ],
   "source": [
    "removeNonUppercase \"IdontLIKEFROGS\""
   ]
  },
  {
   "cell_type": "markdown",
   "metadata": {},
   "source": [
    "The predicate here does all the work. It says that the character will be\n",
    "included in the new list only if it's an element of the list `['A'..'Z']`.\n",
    "Nested list comprehensions are also possible if you're operating on\n",
    "lists that contain lists. A list contains several lists of numbers.\n",
    "Let's remove all odd numbers without flattening the list."
   ]
  },
  {
   "cell_type": "code",
   "execution_count": 101,
   "metadata": {
    "attributes": {
     "classes": [
      "haskell:",
      "ghci"
     ],
     "id": "",
     "name": "\"code\""
    }
   },
   "outputs": [
    {
     "data": {
      "text/plain": [
       "[[2,2,4],[2,4,6,8],[2,4,2,6,2,6]]"
      ]
     },
     "metadata": {},
     "output_type": "display_data"
    }
   ],
   "source": [
    "let xxs = [[1,3,5,2,3,1,2,4,5],[1,2,3,4,5,6,7,8,9],[1,2,4,2,1,6,3,1,3,2,3,6]]\n",
    "[ [ x | x <- xs, even x ] | xs <- xxs]"
   ]
  },
  {
   "cell_type": "markdown",
   "metadata": {},
   "source": [
    "You can write list comprehensions across several lines. It's better to split longer list comprehensions across multiple\n",
    "lines, especially if they're nested.\n",
    "\n",
    "Tuples\n",
    "------\n",
    "\n",
    "<img src=\"img/tuple.png\" title=\"tuples\" style=\"background-color:white;float:right;margin-left:2em;\" />\n",
    "\n",
    "In some ways, tuples are like lists — they are a way to store several\n",
    "values into a single value. However, there are a few fundamental\n",
    "differences. A list of numbers is a list of numbers. That's its type and\n",
    "it doesn't matter if it has only one number in it or an infinite amount\n",
    "of numbers. Tuples, however, are used when you know exactly how many\n",
    "values you want to combine and its type depends on how many components\n",
    "it has and the types of the components. They are denoted with\n",
    "parentheses and their components are separated by commas.\n",
    "\n",
    "Another key difference is that they don't have to be homogenous. Unlike\n",
    "a list, a tuple can contain a combination of several types.\n",
    "\n",
    "Think about how we'd represent a two-dimensional vector in Haskell. One\n",
    "way would be to use a list. That would kind of work. So what if we\n",
    "wanted to put a couple of vectors in a list to represent points of a\n",
    "shape on a two-dimensional plane? We could do something like\n",
    "`[[1,2],[8,11],[4,5]]`. The problem with that method is that we could also\n",
    "do stuff like `[[1,2],[8,11,5],[4,5]]`, which Haskell has no problem with\n",
    "since it's still a list of lists with numbers but it kind of doesn't\n",
    "make sense. But a tuple of size two (also called a pair) is its own\n",
    "type, which means that a list can't have a couple of pairs in it and\n",
    "then a triple (a tuple of size three), so let's use that instead.\n",
    "Instead of surrounding the vectors with square brackets, we use\n",
    "parentheses: `[(1,2),(8,11),(4,5)]`. What if we tried to make a shape like\n",
    "`[(1,2),(8,11,5),(4,5)]`? Well, we'd get this error:"
   ]
  },
  {
   "cell_type": "code",
   "execution_count": 102,
   "metadata": {
    "attributes": {
     "classes": [
      "haskell:",
      "ghci"
     ],
     "id": "",
     "name": "\"code\""
    }
   },
   "outputs": [
    {
     "ename": "",
     "evalue": "",
     "output_type": "error",
     "traceback": [
      "<interactive>:1:8: error:\n    • Couldn't match expected type: (a, b)\n                  with actual type: (a0, b0, c0)\n    • In the expression: (8, 11, 5)\n      In the expression: [(1, 2), (8, 11, 5), (4, 5)]\n      In an equation for ‘it’: it = [(1, 2), (8, 11, 5), (4, 5)]\n    • Relevant bindings include it :: [(a, b)] (bound at <interactive>:1:1)"
     ]
    }
   ],
   "source": [
    "[(1,2),(8,11,5),(4,5)]"
   ]
  },
  {
   "cell_type": "markdown",
   "metadata": {},
   "source": [
    "It's telling us that we tried to use a pair and a triple in the same\n",
    "list, which is not supposed to happen. You also couldn't make a list\n",
    "like `[(1,2),(\"One\",2)]` because the first element of the list is a pair\n",
    "of numbers and the second element is a pair consisting of a string and a\n",
    "number. Tuples can also be used to represent a wide variety of data. For\n",
    "instance, if we wanted to represent someone's name and age in Haskell,\n",
    "we could use a triple: `(\"Christopher\", \"Walken\", 55)`. As seen in this\n",
    "example, tuples can also contain lists.\n",
    "\n",
    "Use tuples when you know in advance how many components some piece of\n",
    "data should have. Tuples are much more rigid because each different size\n",
    "of tuple is its own type, so you can't write a general function to\n",
    "append an element to a tuple — you'd have to write a function for\n",
    "appending to a pair, one function for appending to a triple, one\n",
    "function for appending to a 4-tuple, etc.\n",
    "\n",
    "While there are singleton lists, there's no such thing as a singleton\n",
    "tuple. It doesn't really make much sense when you think about it. A\n",
    "singleton tuple would just be the value it contains and as such would\n",
    "have no benefit to us.\n",
    "\n",
    "Like lists, tuples can be compared with each other if their components\n",
    "can be compared. Only you can't compare two tuples of different sizes,\n",
    "whereas you can compare two lists of different sizes. Two useful\n",
    "functions that operate on pairs:\n",
    "\n",
    "__[`fst`](https://hackage.haskell.org/package/base/docs/Prelude.html#v:fst)__ takes a pair and returns its first component."
   ]
  },
  {
   "cell_type": "code",
   "execution_count": 103,
   "metadata": {
    "attributes": {
     "classes": [
      "haskell:",
      "ghci"
     ],
     "id": "",
     "name": "\"code\""
    }
   },
   "outputs": [
    {
     "data": {
      "text/plain": [
       "8"
      ]
     },
     "metadata": {},
     "output_type": "display_data"
    }
   ],
   "source": [
    "fst (8,11)"
   ]
  },
  {
   "cell_type": "code",
   "execution_count": 104,
   "metadata": {
    "attributes": {
     "classes": [
      "haskell:",
      "ghci"
     ],
     "id": "",
     "name": "\"code\""
    }
   },
   "outputs": [
    {
     "data": {
      "text/plain": [
       "\"Wow\""
      ]
     },
     "metadata": {},
     "output_type": "display_data"
    }
   ],
   "source": [
    "fst (\"Wow\", False)"
   ]
  },
  {
   "cell_type": "markdown",
   "metadata": {},
   "source": [
    "__[`snd`](https://hackage.haskell.org/package/base/docs/Prelude.html#v:snd)__ takes a pair and returns its second component. Surprise!"
   ]
  },
  {
   "cell_type": "code",
   "execution_count": 105,
   "metadata": {
    "attributes": {
     "classes": [
      "haskell:",
      "ghci"
     ],
     "id": "",
     "name": "\"code\""
    }
   },
   "outputs": [
    {
     "data": {
      "text/plain": [
       "11"
      ]
     },
     "metadata": {},
     "output_type": "display_data"
    }
   ],
   "source": [
    "snd (8,11)"
   ]
  },
  {
   "cell_type": "code",
   "execution_count": 106,
   "metadata": {
    "attributes": {
     "classes": [
      "haskell:",
      "ghci"
     ],
     "id": "",
     "name": "\"code\""
    }
   },
   "outputs": [
    {
     "data": {
      "text/plain": [
       "False"
      ]
     },
     "metadata": {},
     "output_type": "display_data"
    }
   ],
   "source": [
    "snd (\"Wow\", False)"
   ]
  },
  {
   "cell_type": "markdown",
   "metadata": {},
   "source": [
    "> __Note:__ these functions operate only on pairs. They won't work on\n",
    "> triples, 4-tuples, 5-tuples, etc. We'll go over extracting data from\n",
    "> tuples in different ways a bit later.\n",
    "\n",
    "A cool function that produces a list of pairs: __[`zip`](https://hackage.haskell.org/package/base/docs/Prelude.html#v:zip)__. It takes two lists\n",
    "and then zips them together into one list by joining the matching\n",
    "elements into pairs. It's a really simple function but it has loads of\n",
    "uses. It's especially useful for when you want to combine two lists in a\n",
    "way or traverse two lists simultaneously. Here's a demonstration."
   ]
  },
  {
   "cell_type": "code",
   "execution_count": 107,
   "metadata": {
    "attributes": {
     "classes": [
      "haskell:",
      "ghci"
     ],
     "id": "",
     "name": "\"code\""
    }
   },
   "outputs": [
    {
     "data": {
      "text/plain": [
       "[(1,5),(2,5),(3,5),(4,5),(5,5)]"
      ]
     },
     "metadata": {},
     "output_type": "display_data"
    }
   ],
   "source": [
    "zip [1,2,3,4,5] [5,5,5,5,5]"
   ]
  },
  {
   "cell_type": "code",
   "execution_count": 108,
   "metadata": {
    "attributes": {
     "classes": [
      "haskell:",
      "ghci"
     ],
     "id": "",
     "name": "\"code\""
    }
   },
   "outputs": [
    {
     "data": {
      "text/plain": [
       "[(1,\"one\"),(2,\"two\"),(3,\"three\"),(4,\"four\"),(5,\"five\")]"
      ]
     },
     "metadata": {},
     "output_type": "display_data"
    }
   ],
   "source": [
    "zip [1 .. 5] [\"one\", \"two\", \"three\", \"four\", \"five\"]"
   ]
  },
  {
   "cell_type": "markdown",
   "metadata": {},
   "source": [
    "It pairs up the elements and produces a new list. The first element goes\n",
    "with the first, the second with the second, etc. Notice that because\n",
    "pairs can have different types in them, [`zip`](https://hackage.haskell.org/package/base/docs/Prelude.html#v:zip) can take two lists that\n",
    "contain different types and zip them up. What happens if the lengths of\n",
    "the lists don't match?"
   ]
  },
  {
   "cell_type": "code",
   "execution_count": 109,
   "metadata": {
    "attributes": {
     "classes": [
      "haskell:",
      "ghci"
     ],
     "id": "",
     "name": "\"code\""
    }
   },
   "outputs": [
    {
     "data": {
      "text/plain": [
       "[(5,\"im\"),(3,\"a\"),(2,\"turtle\")]"
      ]
     },
     "metadata": {},
     "output_type": "display_data"
    }
   ],
   "source": [
    "zip [5,3,2,6,2,7,2,5,4,6,6] [\"im\",\"a\",\"turtle\"]"
   ]
  },
  {
   "cell_type": "markdown",
   "metadata": {},
   "source": [
    "The longer list simply gets cut off to match the length of the shorter\n",
    "one. Because Haskell is lazy, we can zip finite lists with infinite\n",
    "lists:"
   ]
  },
  {
   "cell_type": "code",
   "execution_count": 110,
   "metadata": {
    "attributes": {
     "classes": [
      "haskell:",
      "ghci"
     ],
     "id": "",
     "name": "\"code\""
    }
   },
   "outputs": [
    {
     "data": {
      "text/plain": [
       "[(1,\"apple\"),(2,\"orange\"),(3,\"cherry\"),(4,\"mango\")]"
      ]
     },
     "metadata": {},
     "output_type": "display_data"
    }
   ],
   "source": [
    "zip [1..] [\"apple\", \"orange\", \"cherry\", \"mango\"]"
   ]
  },
  {
   "cell_type": "markdown",
   "metadata": {},
   "source": [
    "<img src=\"img/pythag.png\" title=\"look at meee\" style=\"background-color:white;margin-left:auto;margin-right:auto;\" />\n",
    "\n",
    "Here's a problem that combines tuples and list comprehensions: which\n",
    "right triangle that has integers for all sides and all sides equal to or\n",
    "smaller than 10 has a perimeter of 24? First, let's try generating all\n",
    "triangles with sides equal to or smaller than 10:"
   ]
  },
  {
   "cell_type": "code",
   "execution_count": 111,
   "metadata": {
    "attributes": {
     "classes": [
      "haskell:",
      "ghci"
     ],
     "id": "",
     "name": "\"code\""
    }
   },
   "outputs": [],
   "source": [
    "let triangles = [ (a,b,c) | c <- [1..10], b <- [1..10], a <- [1..10] ]"
   ]
  },
  {
   "cell_type": "markdown",
   "metadata": {},
   "source": [
    "We're just drawing from three lists and our output function is combining\n",
    "them into a triple. If you evaluate that by typing out `triangles` in\n",
    "GHC, you'll get a list of all possible triangles with sides under or\n",
    "equal to 10. Next, we'll add a condition that they all have to be right\n",
    "triangles. We'll also modify this function by taking into consideration\n",
    "that side b isn't larger than the hypotenuse and that side a isn't\n",
    "larger than side b."
   ]
  },
  {
   "cell_type": "code",
   "execution_count": 112,
   "metadata": {
    "attributes": {
     "classes": [
      "haskell:",
      "ghci"
     ],
     "id": "",
     "name": "\"code\""
    }
   },
   "outputs": [],
   "source": [
    "let rightTriangles = [ (a,b,c) | c <- [1..10], b <- [1..c], a <- [1..b], a^2 + b^2 == c^2]"
   ]
  },
  {
   "cell_type": "markdown",
   "metadata": {},
   "source": [
    "We're almost done. Now, we just modify the function by saying that we\n",
    "want the ones where the perimeter is 24."
   ]
  },
  {
   "cell_type": "code",
   "execution_count": 113,
   "metadata": {
    "attributes": {
     "classes": [
      "haskell:",
      "ghci"
     ],
     "id": "",
     "name": "\"code\""
    }
   },
   "outputs": [
    {
     "data": {
      "text/plain": [
       "[(6,8,10)]"
      ]
     },
     "metadata": {},
     "output_type": "display_data"
    }
   ],
   "source": [
    "let rightTriangles' = [ (a,b,c) | c <- [1..10], b <- [1..c], a <- [1..b], a^2 + b^2 == c^2, a+b+c == 24]\n",
    "rightTriangles'"
   ]
  },
  {
   "cell_type": "markdown",
   "metadata": {},
   "source": [
    "And there's our answer! This is a common pattern in functional\n",
    "programming. You take a starting set of solutions and then you apply\n",
    "transformations to those solutions and filter them until you get the\n",
    "right ones."
   ]
  }
 ],
 "metadata": {
  "kernelspec": {
   "display_name": "Haskell",
   "language": "haskell",
   "name": "haskell"
  },
  "language_info": {
   "codemirror_mode": "ihaskell",
   "file_extension": ".hs",
   "mimetype": "text/x-haskell",
   "name": "haskell",
   "pygments_lexer": "Haskell",
   "version": "9.2.5"
  }
 },
 "nbformat": 4,
 "nbformat_minor": 4
}
